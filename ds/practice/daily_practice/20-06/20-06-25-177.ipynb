{
 "cells": [
  {
   "cell_type": "markdown",
   "metadata": {},
   "source": [
    "# 20-06-25: Daily Practice"
   ]
  },
  {
   "cell_type": "markdown",
   "metadata": {},
   "source": [
    "---\n",
    "\n",
    "## Daily Practices\n",
    "\n",
    "* Practice with DS/ML tools and processes\n",
    "  * [fast.ai course](https://course.fast.ai/)\n",
    "  * Hands-on ML | NLP In Action | Dive Into Deep Learning | Coursera / guided projects\n",
    "    * Read, code along, take notes\n",
    "    * _test yourself on the concepts_ — i.e. do all the chapter exercises\n",
    "  * Try to hit benchmark accuracies with [UCI ML datasets](https://archive.ics.uci.edu/ml/index.php) or Kaggle\n",
    "* Coding & Problem Solving Practice\n",
    "  * HackerRank SQL or Packt SQL Data Analytics\n",
    "  * Python on HackerRank or similar platform\n",
    "* Meta Data: Review and write\n",
    "  * Focus on a topic, review notes and resources, write a blog post about it\n",
    "* 2-Hour Job Search\n",
    "* Interviewing\n",
    "  * Behavioral questions and scenarios\n",
    "  * Business case walk-throughs\n",
    "  * Hot-seat DS-related topics for recall practice (under pressure)"
   ]
  },
  {
   "cell_type": "markdown",
   "metadata": {},
   "source": [
    "---\n",
    "\n",
    "## Blog Post: Creating Binary Masks Using Image Segmentation\n",
    "\n",
    "I'm going to start working on the blog post about using an image segmentation model to automatically create binary masks of objects in an image."
   ]
  },
  {
   "cell_type": "markdown",
   "metadata": {},
   "source": [
    "### Goal\n",
    "\n",
    "The goal of this article is to describe a possible method of creating binary masks for one or more objects in an image by using an image segmentation (computer vision) model.\n",
    "\n",
    "A binary mask is basically a two-color image with the same dimensions of the image that can be used to distinguish pixels in the original image.\n",
    "\n",
    "One important use-case for something like this is to apply different effects or transformations to the foreground and background of the image, making it possible to easily manipulate background pixels without affecting the foreground. For example, blurring the background to give a greater depth of field effect, or removing the color from the background to make the foreground really pop out.\n",
    "\n",
    "#### Computer vision\n",
    "\n",
    "In order to generate binary masks based on the content of the image, the algorithm must be somewhat intelligent. That is, it must be able to process the image in such a way that it can recognize where the foreground is and draw a polygon around it with some degree of accuracy.\n",
    "\n",
    "Luckily, there are a number of machine learning models that will do just that. The field is called Computer Vision. More specifically, the models described in this article are known as image segmentation models.\n",
    "\n",
    "Don't worry if you don't have any experience with this type of thing, or even if you don't want to _get_ experience with it. Modern machine learning tooling makes it incredibly quick and easy to get a model up and predicting with pre-trained weights.\n",
    "\n",
    "One caveat though: the pre-trained models will do great with the objects that were in their training data. Depending on what the object in the foreground is that you are trying to extract, you may or may not need to extend the model with a custom dataset and training session."
   ]
  },
  {
   "cell_type": "markdown",
   "metadata": {},
   "source": [
    "---\n",
    "\n",
    "## 2-Hour Job Search"
   ]
  },
  {
   "cell_type": "markdown",
   "metadata": {},
   "source": [
    "### Networking\n",
    "\n",
    "Did some online networking, in line with the strategies I've been learning about in 2HJS and elsewhere."
   ]
  },
  {
   "cell_type": "markdown",
   "metadata": {},
   "source": [
    "---\n",
    "\n",
    "## DS + ML Practice"
   ]
  },
  {
   "cell_type": "markdown",
   "metadata": {
    "jupyter": {
     "source_hidden": true
    }
   },
   "source": [
    "### Some options\n",
    "\n",
    "* Pick a dataset and try to do X with it\n",
    "  * Try to hit benchmark accuracies with [UCI ML datasets](https://archive.ics.uci.edu/ml/index.php) or Kaggle\n",
    "* Practice with the common DS/ML tools and processes\n",
    "  * Hands-on ML | NLP In Action | Dive Into Deep Learning | Coursera / guided projects\n",
    "  * Machine learning flashcards\n",
    "\n",
    "#### _The goal is to be comfortable explaining the entire process._\n",
    "\n",
    "* Data access / sourcing, cleaning\n",
    "  * Exploratory data analysis\n",
    "  * Data wrangling techniques and processes\n",
    "* Inference\n",
    "  * Statistics\n",
    "  * Probability\n",
    "  * Visualization\n",
    "* Modeling\n",
    "  * Implement + justify choice of model / algorithm\n",
    "  * Track performance + justify choice of metrics\n",
    "    * Communicate results as relevant to the goal"
   ]
  },
  {
   "cell_type": "markdown",
   "metadata": {},
   "source": [
    "#### Dask\n",
    "\n",
    "I might try to learn some Dask to use with the recommender system project, particularly if we end up using the full dataset on a machine with not enough RAM to fit the entire thing.\n",
    "\n",
    "Here's the [Dask Tutorial](https://github.com/dask/dask-tutorial)."
   ]
  },
  {
   "cell_type": "markdown",
   "metadata": {},
   "source": [
    "### Recommender System\n",
    "\n",
    "I'm going to work on the initial steps of the recommender system using the [GoodReads Book Graph dataset](https://sites.google.com/eng.ucsd.edu/ucsdbookgraph/home).\n",
    "\n",
    "Along with the Recommender System textbook from Springer, I'm hoping to read through (if they're good/relevant) the sections on Recommender systems in:\n",
    "\n",
    "* [Dive Into Deep Learning](https://d2l.ai/chapter_recommender-systems/index.html)\n",
    "* Building Machine Learning Systems with Python\n",
    "* Data Science From Scratch\n",
    "\n",
    "I'm looking for a good set of resources that I can use as reference and guidance throughout the entire process of building the system, and potentially multiple different iterations of the system."
   ]
  },
  {
   "cell_type": "markdown",
   "metadata": {},
   "source": [
    "### The Plan\n",
    "\n",
    "The plan for the project is now set!\n",
    "\n",
    "We decided that each of us will build/train a model using a different approach. I'll be using the collaborative filtering approach, and my teammate will be using a content-based approach.\n",
    "\n",
    "Let the games begin!"
   ]
  },
  {
   "cell_type": "markdown",
   "metadata": {},
   "source": [
    "---\n",
    "\n",
    "## Coding & Problem Solving Practice\n",
    "\n",
    "> Work through practice problems on HackerRank or similar"
   ]
  },
  {
   "cell_type": "markdown",
   "metadata": {},
   "source": [
    "### Python\n",
    "\n",
    "Today, I'll be starting to build the collaborative filter recommendation system using Python. That will be my practice for today.\n",
    "\n",
    "I started a notebook in which I download and load the sample of data we'll be using, and do some initial wrangling. That notebook can be found in the [projects/likewise directory](../../../projects/likewise)."
   ]
  },
  {
   "cell_type": "markdown",
   "metadata": {},
   "source": [
    "### fastai.collab\n",
    "\n",
    "For this project, I'll be learning, among other concepts and modules, how to use the fast.ai collaborative filtering module, [fastai.collab](https://docs.fast.ai/collab.html#collab)."
   ]
  },
  {
   "cell_type": "markdown",
   "metadata": {},
   "source": [
    "---\n",
    "\n",
    "## Interviewing\n",
    "\n",
    "### Informational\n",
    "\n",
    "Remember to use superlatives when asking questions about experiences.\n",
    "\n",
    "> Superlative: Of the highest order, quality, or degree; surpassing or superior to all others.\n",
    "\n",
    "* \"Tell me a bit about yourself\"\n",
    "* \"Tell me about a project you've worked on and are proud of\"\n",
    "* \"Why do you want to work here / want this job?\"\n",
    "* \"What is your greatest strength/weakness?\"\n",
    "  * \"What is your greatest technical strength?\"\n",
    "* \"Do you have any questions for me?\"\n",
    "  * What is your favorite aspect of working here?\n",
    "  * What has your journey looked like at the company?\n",
    "  * What are some challenges you face in your position?"
   ]
  },
  {
   "cell_type": "markdown",
   "metadata": {},
   "source": []
  },
  {
   "cell_type": "markdown",
   "metadata": {},
   "source": []
  },
  {
   "cell_type": "markdown",
   "metadata": {},
   "source": []
  },
  {
   "cell_type": "markdown",
   "metadata": {},
   "source": []
  },
  {
   "cell_type": "markdown",
   "metadata": {},
   "source": []
  },
  {
   "cell_type": "markdown",
   "metadata": {},
   "source": []
  },
  {
   "cell_type": "markdown",
   "metadata": {},
   "source": []
  },
  {
   "cell_type": "markdown",
   "metadata": {},
   "source": []
  },
  {
   "cell_type": "markdown",
   "metadata": {},
   "source": []
  },
  {
   "cell_type": "markdown",
   "metadata": {},
   "source": []
  },
  {
   "cell_type": "markdown",
   "metadata": {},
   "source": []
  },
  {
   "cell_type": "markdown",
   "metadata": {},
   "source": []
  },
  {
   "cell_type": "markdown",
   "metadata": {},
   "source": []
  },
  {
   "cell_type": "markdown",
   "metadata": {},
   "source": []
  }
 ],
 "metadata": {
  "kernelspec": {
   "display_name": "Python 3.7.6 64-bit ('vela': pipenv)",
   "language": "python",
   "name": "python37664bitvelapipenvde09592071074af6a70ce3b1ce38af95"
  },
  "language_info": {
   "codemirror_mode": {
    "name": "ipython",
    "version": 3
   },
   "file_extension": ".py",
   "mimetype": "text/x-python",
   "name": "python",
   "nbconvert_exporter": "python",
   "pygments_lexer": "ipython3",
   "version": "3.7.6"
  }
 },
 "nbformat": 4,
 "nbformat_minor": 4
}
