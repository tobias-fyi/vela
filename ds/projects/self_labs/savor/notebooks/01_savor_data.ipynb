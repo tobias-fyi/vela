{
 "cells": [
  {
   "cell_type": "markdown",
   "metadata": {},
   "source": [
    "# Savor: Data\n",
    "\n",
    "> ### Take advantage of your own big data.\n",
    "\n",
    "#### A data project by [_Tobias Reaper_](https://www.linkedin.com/in/tobias-reaper/)"
   ]
  },
  {
   "cell_type": "markdown",
   "metadata": {},
   "source": [
    "---\n",
    "---\n",
    "\n",
    "## Disclaimer"
   ]
  },
  {
   "cell_type": "markdown",
   "metadata": {},
   "source": [
    "The data contained within this notebook are private and confidential, and may not be shared with anyone without express permission from me (Tobias Reaper). If you somehow find yourself in possession of the raw data used in this notebook without that permission, please be a good person and delete it from wherever it's been saved. Also, please get in touch with me so I can try to figure out how it slipped through the cracks. Thank you."
   ]
  },
  {
   "cell_type": "markdown",
   "metadata": {},
   "source": [
    "---\n",
    "---\n",
    "\n",
    "## This Notebook\n",
    "\n",
    "This notebook is an initial exploration of the latest version of the Savor data model, which was first implemented 2020-12-03.\n",
    "\n",
    "### Table of Contents"
   ]
  },
  {
   "cell_type": "markdown",
   "metadata": {},
   "source": [
    "---\n",
    "---\n",
    "\n",
    "## TODO\n",
    "\n",
    "* [ ] Get screen time data from Airtable as better measure of time spent updating the journal"
   ]
  },
  {
   "cell_type": "markdown",
   "metadata": {},
   "source": [
    "---\n",
    "---\n",
    "\n",
    "## Introduction\n",
    "\n",
    "> Take advantage of your own big data.\n",
    "\n",
    "Savor is a project based on an idea that I first had in 2016. At the time I was working as a consultant for an enterprise resource planning (ERP) software company. I worked intimately with manufacturers to integrate our system into their business, with the goal of optimizing their manufacturing processes. I became fascinated by the idea of tracking things to such a degree, and began to imagine what it would be like to have a similar type of system that would optimize my life.\n",
    "\n",
    "That's the core idea: building a system to organize my life as if it were a series of manufacturing processes.\n",
    "\n",
    "That way of saying it may initially make it seem impersonal. I believe it's the opposite, in fact. The goal is to use software to understand myself better. That's where the tagline comes from — I'd like to take advantage of my own big data to make my life better in whatever ways I see fit at any given time.\n",
    "\n",
    "Companies like Google and Facebook have been taking advantage of my big data for years, with the primary goal of making money. In the process of segmenting and profiling me, they likely know a lot about me. I'd like to have a similar data-driven profile of my life, for my own purposes. Namely, to learn more about myself and my life, to be able to optimize it.\n",
    "\n",
    "I guess it's at this point that I can see people rolling their eyes and thinking this is just another productivity app. Words like \"optimize\" don't help things. However, I want to get across the fact that because I have total control over this system, that I get to choose exactly how it gets used and precisely what is optimized. While sometimes this optimization would come in the form of making myself more productive, it's equally likely that I'll want to optimize the length of time and quality of connection I have with family and friends.\n",
    "\n",
    "Imagine that: a system that can help you find time to spend with family and friends, and find mindsets and/or conversation topics that will most likely increase the quality of those connections.\n",
    "\n",
    "I think that sounds like the opposite of impersonal — getting intimate with oneself on levels and to a degree potentially not possible before.\n",
    "\n",
    "..."
   ]
  },
  {
   "cell_type": "markdown",
   "metadata": {},
   "source": [
    "---\n",
    "---\n",
    "\n",
    "## Setup"
   ]
  },
  {
   "cell_type": "code",
   "execution_count": 1,
   "metadata": {},
   "outputs": [],
   "source": [
    "# === General imports === #\n",
    "import os\n",
    "\n",
    "import pandas as pd\n",
    "import numpy as np\n",
    "import janitor\n",
    "\n",
    "import matplotlib.pyplot as plt\n",
    "import seaborn as sns"
   ]
  },
  {
   "cell_type": "code",
   "execution_count": 2,
   "metadata": {},
   "outputs": [],
   "source": [
    "# === Configuration === #\n",
    "%matplotlib inline\n",
    "pd.options.display.max_rows = 100\n",
    "pd.options.display.max_columns = 100"
   ]
  },
  {
   "cell_type": "code",
   "execution_count": 3,
   "metadata": {},
   "outputs": [],
   "source": [
    "# === 2019-12-03 - 2019-08-17 === #\n",
    "asset_path = \"../assets/data_/2020-09-07\"\n",
    "\n",
    "# Individual files\n",
    "project_log = os.path.join(asset_path, \"project_log.csv\")\n",
    "engage_log = os.path.join(asset_path, \"engage_log.csv\")\n",
    "moment_log = os.path.join(asset_path, \"moment_log.csv\")\n",
    "\n",
    "# Load into dataframes\n",
    "project_1 = pd.read_csv(project_log)\n",
    "engage_1 = pd.read_csv(engage_log)\n",
    "moment_1 = pd.read_csv(moment_log)"
   ]
  },
  {
   "cell_type": "markdown",
   "metadata": {},
   "source": [
    "---\n",
    "\n",
    "## Data Model\n",
    "\n",
    "The latest data model I came up with for my journal is one that has 3 distinct layers (with more to come in proceeding iterations).\n",
    "\n",
    "1. Project Log\n",
    "2. Engagement Log\n",
    "3. Moment Log\n",
    "\n",
    "The naming was not completely arbitrary, though could definitely be improved — the names aren't perfectly self-explanatory.\n",
    "\n",
    "Basically, the reason I broke it up has to do with something I noticed about how my time is spent. At the top level, I try to work on a single \"project\" for a certain period of time. This helps me stay focused on what I wanted to do/work on during that time. Another way to think about it is that this level defines overarching parts of the day, usually somewhere between 5 and 10, depending on what I'm doing.\n",
    "\n",
    "Within each block of time (maybe that's a better name right there — \"block\") I can switch between specific activities, such as between coding, writing, and reading/research. That is the second level, with each individual activity assigned to that higher level block. This second level is where the vast majority of the action is; the level where I spend most of my time.\n",
    "\n",
    "The third level is for very short activities I do that aren't necessarily related to the main activity. For example, I could be working on the notebook to explore this data but take short little breaks to get water, use the restroom, or clear my head. In the previous iteration of the data model I didn't account for these little activities — every activity was \"created equal\", so to speak, and in order to account for that time, I'd have to split up and duplicate the main activity record, interspersing the short breaks into them that way. Simply put, that caused too much overhead sometimes.\n",
    "\n",
    "The goal with this project is to reduce the time and effort required to keep a real-time journal to the point where it doesn't interrupt what I'm actually doing."
   ]
  },
  {
   "cell_type": "markdown",
   "metadata": {},
   "source": [
    "### Project Log\n",
    "\n",
    "The Project Log is the \"top level\" of my journal. These are blocks of time spent doing a set of related activities with (hopefully) singular goal in mind.\n",
    "\n",
    "The specific activities, or \"engagements\" as I call them in this iteration, are linked to the parent \"project\" in a many-to-one manner. I.e. there are many engage records linked to a single project record."
   ]
  },
  {
   "cell_type": "code",
   "execution_count": 4,
   "metadata": {},
   "outputs": [
    {
     "name": "stdout",
     "output_type": "stream",
     "text": [
      "(1768, 10)\n"
     ]
    },
    {
     "data": {
      "text/html": [
       "<div>\n",
       "<style scoped>\n",
       "    .dataframe tbody tr th:only-of-type {\n",
       "        vertical-align: middle;\n",
       "    }\n",
       "\n",
       "    .dataframe tbody tr th {\n",
       "        vertical-align: top;\n",
       "    }\n",
       "\n",
       "    .dataframe thead th {\n",
       "        text-align: right;\n",
       "    }\n",
       "</style>\n",
       "<table border=\"1\" class=\"dataframe\">\n",
       "  <thead>\n",
       "    <tr style=\"text-align: right;\">\n",
       "      <th></th>\n",
       "      <th>id</th>\n",
       "      <th>time_in</th>\n",
       "      <th>notes</th>\n",
       "      <th>location</th>\n",
       "      <th>engage_log</th>\n",
       "      <th>time_out</th>\n",
       "      <th>duration</th>\n",
       "      <th>created</th>\n",
       "      <th>modified</th>\n",
       "      <th>who</th>\n",
       "    </tr>\n",
       "  </thead>\n",
       "  <tbody>\n",
       "    <tr>\n",
       "      <th>0</th>\n",
       "      <td>1</td>\n",
       "      <td>2019-12-03 07:00</td>\n",
       "      <td>Very first record on the new journal!! - kinda...</td>\n",
       "      <td>24hr-Bel</td>\n",
       "      <td>1-Exe-Pod,2-Exe-Pod,3-Exe-Pod,4-Wal-Pod,5-Dri-Pod</td>\n",
       "      <td>2019-12-03 08:20</td>\n",
       "      <td>1:20</td>\n",
       "      <td>2019-11-23 22:49</td>\n",
       "      <td>2019-12-03 13:52</td>\n",
       "      <td>NaN</td>\n",
       "    </tr>\n",
       "    <tr>\n",
       "      <th>1</th>\n",
       "      <td>2</td>\n",
       "      <td>2019-12-03 08:20</td>\n",
       "      <td>Preparation for another solid day’s work</td>\n",
       "      <td>Casa-Lake</td>\n",
       "      <td>6-Wal-Pod,7-Sta-Upd,8-Poo-Upd,9-Sho-Bra,10-Dre...</td>\n",
       "      <td>2019-12-03 09:02</td>\n",
       "      <td>0:42</td>\n",
       "      <td>2019-11-23 22:49</td>\n",
       "      <td>2019-12-03 13:52</td>\n",
       "      <td>NaN</td>\n",
       "    </tr>\n",
       "    <tr>\n",
       "      <th>2</th>\n",
       "      <td>3</td>\n",
       "      <td>2019-12-03 09:02</td>\n",
       "      <td>Lambda morning warmup time</td>\n",
       "      <td>Casa-Lake</td>\n",
       "      <td>13-Sta-Wor,14-Sta-Dat,15-Sta-Wor</td>\n",
       "      <td>2019-12-03 10:10</td>\n",
       "      <td>1:08</td>\n",
       "      <td>2019-11-23 22:49</td>\n",
       "      <td>2019-12-06 03:35</td>\n",
       "      <td>NaN</td>\n",
       "    </tr>\n",
       "    <tr>\n",
       "      <th>3</th>\n",
       "      <td>4</td>\n",
       "      <td>2019-12-03 10:10</td>\n",
       "      <td>412 Lesson - Vectorization</td>\n",
       "      <td>Casa-Lake</td>\n",
       "      <td>16-Sit-Lea,17-Foo-Lea,18-Uri-Thi,19-Sit-Upd,20...</td>\n",
       "      <td>2019-12-03 12:20</td>\n",
       "      <td>2:10</td>\n",
       "      <td>2019-12-03 10:09</td>\n",
       "      <td>2019-12-03 13:52</td>\n",
       "      <td>NaN</td>\n",
       "    </tr>\n",
       "    <tr>\n",
       "      <th>4</th>\n",
       "      <td>5</td>\n",
       "      <td>2019-12-03 12:20</td>\n",
       "      <td>Lunchtime</td>\n",
       "      <td>Casa-Lake</td>\n",
       "      <td>21-Eat-Pod,22-Dis-Pod,23-Uri-Pod,24-Sit-Pod,25...</td>\n",
       "      <td>2019-12-03 13:00</td>\n",
       "      <td>0:40</td>\n",
       "      <td>2019-12-03 11:21</td>\n",
       "      <td>2019-12-03 13:52</td>\n",
       "      <td>NaN</td>\n",
       "    </tr>\n",
       "  </tbody>\n",
       "</table>\n",
       "</div>"
      ],
      "text/plain": [
       "   id           time_in                                              notes  \\\n",
       "0   1  2019-12-03 07:00  Very first record on the new journal!! - kinda...   \n",
       "1   2  2019-12-03 08:20          Preparation for another solid day’s work    \n",
       "2   3  2019-12-03 09:02                         Lambda morning warmup time   \n",
       "3   4  2019-12-03 10:10                         412 Lesson - Vectorization   \n",
       "4   5  2019-12-03 12:20                                         Lunchtime    \n",
       "\n",
       "    location                                         engage_log  \\\n",
       "0  24hr-Bel   1-Exe-Pod,2-Exe-Pod,3-Exe-Pod,4-Wal-Pod,5-Dri-Pod   \n",
       "1  Casa-Lake  6-Wal-Pod,7-Sta-Upd,8-Poo-Upd,9-Sho-Bra,10-Dre...   \n",
       "2  Casa-Lake                   13-Sta-Wor,14-Sta-Dat,15-Sta-Wor   \n",
       "3  Casa-Lake  16-Sit-Lea,17-Foo-Lea,18-Uri-Thi,19-Sit-Upd,20...   \n",
       "4  Casa-Lake  21-Eat-Pod,22-Dis-Pod,23-Uri-Pod,24-Sit-Pod,25...   \n",
       "\n",
       "           time_out duration           created          modified  who  \n",
       "0  2019-12-03 08:20     1:20  2019-11-23 22:49  2019-12-03 13:52  NaN  \n",
       "1  2019-12-03 09:02     0:42  2019-11-23 22:49  2019-12-03 13:52  NaN  \n",
       "2  2019-12-03 10:10     1:08  2019-11-23 22:49  2019-12-06 03:35  NaN  \n",
       "3  2019-12-03 12:20     2:10  2019-12-03 10:09  2019-12-03 13:52  NaN  \n",
       "4  2019-12-03 13:00     0:40  2019-12-03 11:21  2019-12-03 13:52  NaN  "
      ]
     },
     "execution_count": 4,
     "metadata": {},
     "output_type": "execute_result"
    }
   ],
   "source": [
    "print(project_1.shape)\n",
    "project_1.head()"
   ]
  },
  {
   "cell_type": "markdown",
   "metadata": {},
   "source": [
    "### Engage Log\n",
    "\n",
    "As mentioned above, the Engage Log is where I spend most of my time. This is where I track what I'm doing at any given moment.\n",
    "\n",
    "I wanted to roughly categorize each engagement or activity (I use them interchangeably here) based on what I'm doing mentally and physically. Those two features, along with their respective note fields, are the most important part of the journal, as they are the most descriptive features of my experience."
   ]
  },
  {
   "cell_type": "markdown",
   "metadata": {},
   "source": [
    "---\n",
    "---\n",
    "\n",
    "## Wrangling\n",
    "\n",
    "### To do\n",
    "\n",
    "* [x] Convert datetimes\n",
    "* [x] Convert `duration` to minutes\n",
    "* [ ] Fill in nulls with empty string\n",
    "* [ ] Break out `mental` and `physical` into columns"
   ]
  },
  {
   "cell_type": "code",
   "execution_count": 5,
   "metadata": {},
   "outputs": [
    {
     "name": "stdout",
     "output_type": "stream",
     "text": [
      "Initial shape: (11254, 23)\n",
      "After column pruning: (11254, 12)\n"
     ]
    },
    {
     "data": {
      "text/html": [
       "<div>\n",
       "<style scoped>\n",
       "    .dataframe tbody tr th:only-of-type {\n",
       "        vertical-align: middle;\n",
       "    }\n",
       "\n",
       "    .dataframe tbody tr th {\n",
       "        vertical-align: top;\n",
       "    }\n",
       "\n",
       "    .dataframe thead th {\n",
       "        text-align: right;\n",
       "    }\n",
       "</style>\n",
       "<table border=\"1\" class=\"dataframe\">\n",
       "  <thead>\n",
       "    <tr style=\"text-align: right;\">\n",
       "      <th></th>\n",
       "      <th>id</th>\n",
       "      <th>time_in</th>\n",
       "      <th>time_out</th>\n",
       "      <th>duration</th>\n",
       "      <th>mental</th>\n",
       "      <th>physical</th>\n",
       "      <th>mental_note</th>\n",
       "      <th>physical_note</th>\n",
       "      <th>task</th>\n",
       "      <th>tags</th>\n",
       "      <th>subloc</th>\n",
       "      <th>project_location</th>\n",
       "    </tr>\n",
       "  </thead>\n",
       "  <tbody>\n",
       "    <tr>\n",
       "      <th>0</th>\n",
       "      <td>1-Exe-Pod</td>\n",
       "      <td>2019-12-03 07:00</td>\n",
       "      <td>2019-12-03 07:19</td>\n",
       "      <td>19:00</td>\n",
       "      <td>Podcast</td>\n",
       "      <td>Exercise</td>\n",
       "      <td>Full Stack Radio - Evan Yue \\\\ Vue 3.0 + new e...</td>\n",
       "      <td>Cardio - elliptical</td>\n",
       "      <td>NaN</td>\n",
       "      <td>NaN</td>\n",
       "      <td>Elliptical</td>\n",
       "      <td>24hr-Bel</td>\n",
       "    </tr>\n",
       "    <tr>\n",
       "      <th>1</th>\n",
       "      <td>2-Exe-Pod</td>\n",
       "      <td>2019-12-03 07:19</td>\n",
       "      <td>2019-12-03 07:37</td>\n",
       "      <td>18:00</td>\n",
       "      <td>Podcast</td>\n",
       "      <td>Exercise</td>\n",
       "      <td>Full Stack Radio with Evan Yue \\\\ Vue 3.0 - fi...</td>\n",
       "      <td>Cardio - stairs</td>\n",
       "      <td>NaN</td>\n",
       "      <td>NaN</td>\n",
       "      <td>Stairmaster</td>\n",
       "      <td>24hr-Bel</td>\n",
       "    </tr>\n",
       "    <tr>\n",
       "      <th>2</th>\n",
       "      <td>3-Exe-Pod</td>\n",
       "      <td>2019-12-03 07:37</td>\n",
       "      <td>2019-12-03 08:02</td>\n",
       "      <td>25:00</td>\n",
       "      <td>Podcast</td>\n",
       "      <td>Exercise</td>\n",
       "      <td>Django Chat \\\\ Caching - something to read up ...</td>\n",
       "      <td>Weights - hip abduction in / out (machine) - k...</td>\n",
       "      <td>NaN</td>\n",
       "      <td>NaN</td>\n",
       "      <td>Machines</td>\n",
       "      <td>24hr-Bel</td>\n",
       "    </tr>\n",
       "  </tbody>\n",
       "</table>\n",
       "</div>"
      ],
      "text/plain": [
       "          id           time_in          time_out duration   mental  physical  \\\n",
       "0  1-Exe-Pod  2019-12-03 07:00  2019-12-03 07:19    19:00  Podcast  Exercise   \n",
       "1  2-Exe-Pod  2019-12-03 07:19  2019-12-03 07:37    18:00  Podcast  Exercise   \n",
       "2  3-Exe-Pod  2019-12-03 07:37  2019-12-03 08:02    25:00  Podcast  Exercise   \n",
       "\n",
       "                                         mental_note  \\\n",
       "0  Full Stack Radio - Evan Yue \\\\ Vue 3.0 + new e...   \n",
       "1  Full Stack Radio with Evan Yue \\\\ Vue 3.0 - fi...   \n",
       "2  Django Chat \\\\ Caching - something to read up ...   \n",
       "\n",
       "                                       physical_note task tags       subloc  \\\n",
       "0                               Cardio - elliptical   NaN  NaN   Elliptical   \n",
       "1                                   Cardio - stairs   NaN  NaN  Stairmaster   \n",
       "2  Weights - hip abduction in / out (machine) - k...  NaN  NaN     Machines   \n",
       "\n",
       "  project_location  \n",
       "0        24hr-Bel   \n",
       "1        24hr-Bel   \n",
       "2        24hr-Bel   "
      ]
     },
     "execution_count": 5,
     "metadata": {},
     "output_type": "execute_result"
    }
   ],
   "source": [
    "# === Clean up columns to only what's needed right now === #\n",
    "print(\"Initial shape:\", engage_1.shape)\n",
    "\n",
    "engage_keep_cols = [\n",
    "    \"id\",\n",
    "    \"time_in\",\n",
    "    \"time_out\",\n",
    "    \"duration\",\n",
    "    \"mental\",\n",
    "    \"physical\",\n",
    "    \"mental_note\",\n",
    "    \"physical_note\",\n",
    "    \"task\",\n",
    "    \"tags\",\n",
    "    \"subloc\",\n",
    "    \"project_location\",\n",
    "]\n",
    "\n",
    "# Create new dataframe\n",
    "engage_2 = engage_1[engage_keep_cols].copy()\n",
    "print(\"After column pruning:\", engage_2.shape)\n",
    "engage_2.head(3)"
   ]
  },
  {
   "cell_type": "markdown",
   "metadata": {},
   "source": [
    "Lots of nulls in here, which is to be expected."
   ]
  },
  {
   "cell_type": "code",
   "execution_count": 6,
   "metadata": {},
   "outputs": [],
   "source": [
    "# === Deal with dur/time_out nulls right away === #\n",
    "engage_2 = engage_2.dropna(axis=0, subset=[\"duration\", \"time_out\"])"
   ]
  },
  {
   "cell_type": "code",
   "execution_count": 7,
   "metadata": {},
   "outputs": [
    {
     "data": {
      "text/plain": [
       "id                      0\n",
       "time_in                 0\n",
       "time_out                0\n",
       "duration                0\n",
       "mental                 27\n",
       "physical               11\n",
       "mental_note          7809\n",
       "physical_note        9636\n",
       "task                10868\n",
       "tags                 8890\n",
       "subloc               1490\n",
       "project_location        0\n",
       "dtype: int64"
      ]
     },
     "execution_count": 7,
     "metadata": {},
     "output_type": "execute_result"
    }
   ],
   "source": [
    "# === Nulls === #\n",
    "engage_2.isnull().sum()"
   ]
  },
  {
   "cell_type": "code",
   "execution_count": 8,
   "metadata": {},
   "outputs": [
    {
     "data": {
      "text/plain": [
       "id                  object\n",
       "time_in             object\n",
       "time_out            object\n",
       "duration            object\n",
       "mental              object\n",
       "physical            object\n",
       "mental_note         object\n",
       "physical_note       object\n",
       "task                object\n",
       "tags                object\n",
       "subloc              object\n",
       "project_location    object\n",
       "dtype: object"
      ]
     },
     "execution_count": 8,
     "metadata": {},
     "output_type": "execute_result"
    }
   ],
   "source": [
    "# === Look at errant data types === #\n",
    "engage_2.dtypes"
   ]
  },
  {
   "cell_type": "markdown",
   "metadata": {},
   "source": [
    "### Convert datetime columns"
   ]
  },
  {
   "cell_type": "code",
   "execution_count": 9,
   "metadata": {},
   "outputs": [
    {
     "data": {
      "text/plain": [
       "id                          object\n",
       "time_in             datetime64[ns]\n",
       "time_out            datetime64[ns]\n",
       "duration                    object\n",
       "mental                      object\n",
       "physical                    object\n",
       "mental_note                 object\n",
       "physical_note               object\n",
       "task                        object\n",
       "tags                        object\n",
       "subloc                      object\n",
       "project_location            object\n",
       "dtype: object"
      ]
     },
     "execution_count": 9,
     "metadata": {},
     "output_type": "execute_result"
    }
   ],
   "source": [
    "# === Fix the datetimes === #\n",
    "date_cols = [\n",
    "    \"time_in\",\n",
    "    \"time_out\",\n",
    "]\n",
    "\n",
    "for col in date_cols:\n",
    "    engage_2[col] = pd.to_datetime(engage_2[col])\n",
    "    \n",
    "engage_2.dtypes"
   ]
  },
  {
   "cell_type": "markdown",
   "metadata": {},
   "source": [
    "### Convert duration to minutes\n",
    "\n",
    "The `duration` feature was imported as a string, which makes sense given the format: `[hh:]mm:ss`. To convert this into minutes, I'll split on the colon and extract the hours and minutes, multiplying the hours by 60 and adding them to the minutes. I can leave out the seconds, as I did not capture the timestamps at that level of detail.\n",
    "\n",
    "Unfortunately, if the hour is not present in the record, it simply doesn't include that segment in the output. Therefore, I had to write a custom function to both split and calculate the minutes."
   ]
  },
  {
   "cell_type": "code",
   "execution_count": 10,
   "metadata": {},
   "outputs": [],
   "source": [
    "# === Custom function to split and combine === #\n",
    "\n",
    "def split_and_calculate_mins(cell):\n",
    "    \"\"\"Splits up `duration` based on colon, accounting for missing hours.\n",
    "    Expects format: [hh:]mm:ss.\"\"\"\n",
    "    # Split up cell into component parts\n",
    "    segments = cell.split(\":\")\n",
    "    segments = [int(s) for s in segments]\n",
    "    # Check length - if more than 2, means hour is present\n",
    "    if len(segments) > 2:\n",
    "        # Calculate mins from hours and sum\n",
    "        return (segments[0] * 60) + segments[1]\n",
    "    elif len(segments) == 2:  # Case with mins:secs\n",
    "        # Simply return the minutes\n",
    "        return segments[0]\n",
    "    else:\n",
    "        return 0"
   ]
  },
  {
   "cell_type": "code",
   "execution_count": null,
   "metadata": {},
   "outputs": [],
   "source": [
    "# === Use apply to fun func on every cell === #\n",
    "engage_2[\"duration\"] = engage_2[\"duration\"].apply(split_and_calculate_mins)\n",
    "engage_2.head()"
   ]
  },
  {
   "cell_type": "code",
   "execution_count": 14,
   "metadata": {},
   "outputs": [
    {
     "data": {
      "text/plain": [
       "id                          object\n",
       "time_in             datetime64[ns]\n",
       "time_out            datetime64[ns]\n",
       "duration                     int64\n",
       "mental                      object\n",
       "physical                    object\n",
       "mental_note                 object\n",
       "physical_note               object\n",
       "task                        object\n",
       "tags                        object\n",
       "subloc                      object\n",
       "project_location            object\n",
       "dtype: object"
      ]
     },
     "execution_count": 14,
     "metadata": {},
     "output_type": "execute_result"
    }
   ],
   "source": [
    "engage_2.dtypes"
   ]
  },
  {
   "cell_type": "markdown",
   "metadata": {},
   "source": [
    "### Fill nulls with empty string\n",
    "\n",
    "Although it would be ideal, I don't write a note in every single record. That would add a little too much time to it and make it not as easily done in real-time. Furthermore, not every record has an associated task or tag.\n",
    "\n",
    "As for `mental` and `physical`, they should be filled in completely. But it seems that I missed some. The same goes for `subloc`, though that one is understandably larger, as I didn't really start recording the sub-location of where am at any given moment (e.g. what room I'm in) until a little ways into this version of the journal. Therefore, I'll have to deal with some nulls.\n",
    "\n",
    "To deal with all of these nulls without losing information, I'm going to fill them all in with an empty string."
   ]
  },
  {
   "cell_type": "code",
   "execution_count": 15,
   "metadata": {},
   "outputs": [
    {
     "data": {
      "text/plain": [
       "id                      0\n",
       "time_in                 0\n",
       "time_out                0\n",
       "duration                0\n",
       "mental                 27\n",
       "physical               11\n",
       "mental_note          7809\n",
       "physical_note        9636\n",
       "task                10868\n",
       "tags                 8890\n",
       "subloc               1490\n",
       "project_location        0\n",
       "dtype: int64"
      ]
     },
     "execution_count": 15,
     "metadata": {},
     "output_type": "execute_result"
    }
   ],
   "source": [
    "engage_2.isnull().sum()"
   ]
  },
  {
   "cell_type": "code",
   "execution_count": 16,
   "metadata": {},
   "outputs": [
    {
     "data": {
      "text/html": [
       "<div>\n",
       "<style scoped>\n",
       "    .dataframe tbody tr th:only-of-type {\n",
       "        vertical-align: middle;\n",
       "    }\n",
       "\n",
       "    .dataframe tbody tr th {\n",
       "        vertical-align: top;\n",
       "    }\n",
       "\n",
       "    .dataframe thead th {\n",
       "        text-align: right;\n",
       "    }\n",
       "</style>\n",
       "<table border=\"1\" class=\"dataframe\">\n",
       "  <thead>\n",
       "    <tr style=\"text-align: right;\">\n",
       "      <th></th>\n",
       "      <th>id</th>\n",
       "      <th>time_in</th>\n",
       "      <th>time_out</th>\n",
       "      <th>duration</th>\n",
       "      <th>mental</th>\n",
       "      <th>physical</th>\n",
       "      <th>mental_note</th>\n",
       "      <th>physical_note</th>\n",
       "      <th>task</th>\n",
       "      <th>tags</th>\n",
       "      <th>subloc</th>\n",
       "      <th>project_location</th>\n",
       "    </tr>\n",
       "  </thead>\n",
       "  <tbody>\n",
       "    <tr>\n",
       "      <th>0</th>\n",
       "      <td>1-Exe-Pod</td>\n",
       "      <td>2019-12-03 07:00:00</td>\n",
       "      <td>2019-12-03 07:19:00</td>\n",
       "      <td>19</td>\n",
       "      <td>Podcast</td>\n",
       "      <td>Exercise</td>\n",
       "      <td>Full Stack Radio - Evan Yue \\\\ Vue 3.0 + new e...</td>\n",
       "      <td>Cardio - elliptical</td>\n",
       "      <td></td>\n",
       "      <td></td>\n",
       "      <td>Elliptical</td>\n",
       "      <td>24hr-Bel</td>\n",
       "    </tr>\n",
       "    <tr>\n",
       "      <th>1</th>\n",
       "      <td>2-Exe-Pod</td>\n",
       "      <td>2019-12-03 07:19:00</td>\n",
       "      <td>2019-12-03 07:37:00</td>\n",
       "      <td>18</td>\n",
       "      <td>Podcast</td>\n",
       "      <td>Exercise</td>\n",
       "      <td>Full Stack Radio with Evan Yue \\\\ Vue 3.0 - fi...</td>\n",
       "      <td>Cardio - stairs</td>\n",
       "      <td></td>\n",
       "      <td></td>\n",
       "      <td>Stairmaster</td>\n",
       "      <td>24hr-Bel</td>\n",
       "    </tr>\n",
       "    <tr>\n",
       "      <th>2</th>\n",
       "      <td>3-Exe-Pod</td>\n",
       "      <td>2019-12-03 07:37:00</td>\n",
       "      <td>2019-12-03 08:02:00</td>\n",
       "      <td>25</td>\n",
       "      <td>Podcast</td>\n",
       "      <td>Exercise</td>\n",
       "      <td>Django Chat \\\\ Caching - something to read up ...</td>\n",
       "      <td>Weights - hip abduction in / out (machine) - k...</td>\n",
       "      <td></td>\n",
       "      <td></td>\n",
       "      <td>Machines</td>\n",
       "      <td>24hr-Bel</td>\n",
       "    </tr>\n",
       "    <tr>\n",
       "      <th>3</th>\n",
       "      <td>4-Wal-Pod</td>\n",
       "      <td>2019-12-03 08:02:00</td>\n",
       "      <td>2019-12-03 08:08:00</td>\n",
       "      <td>6</td>\n",
       "      <td>Podcast</td>\n",
       "      <td>Walk</td>\n",
       "      <td>Not so standard deviations \\\\ misc discussions...</td>\n",
       "      <td>Walked to locker room then to car</td>\n",
       "      <td></td>\n",
       "      <td></td>\n",
       "      <td>Outside</td>\n",
       "      <td>24hr-Bel</td>\n",
       "    </tr>\n",
       "    <tr>\n",
       "      <th>4</th>\n",
       "      <td>5-Dri-Pod</td>\n",
       "      <td>2019-12-03 08:08:00</td>\n",
       "      <td>2019-12-03 08:20:00</td>\n",
       "      <td>12</td>\n",
       "      <td>Podcast</td>\n",
       "      <td>Drive</td>\n",
       "      <td>SE Daily \\\\ TIBCO</td>\n",
       "      <td></td>\n",
       "      <td></td>\n",
       "      <td></td>\n",
       "      <td>Trinity</td>\n",
       "      <td>24hr-Bel</td>\n",
       "    </tr>\n",
       "  </tbody>\n",
       "</table>\n",
       "</div>"
      ],
      "text/plain": [
       "          id             time_in            time_out  duration   mental  \\\n",
       "0  1-Exe-Pod 2019-12-03 07:00:00 2019-12-03 07:19:00        19  Podcast   \n",
       "1  2-Exe-Pod 2019-12-03 07:19:00 2019-12-03 07:37:00        18  Podcast   \n",
       "2  3-Exe-Pod 2019-12-03 07:37:00 2019-12-03 08:02:00        25  Podcast   \n",
       "3  4-Wal-Pod 2019-12-03 08:02:00 2019-12-03 08:08:00         6  Podcast   \n",
       "4  5-Dri-Pod 2019-12-03 08:08:00 2019-12-03 08:20:00        12  Podcast   \n",
       "\n",
       "   physical                                        mental_note  \\\n",
       "0  Exercise  Full Stack Radio - Evan Yue \\\\ Vue 3.0 + new e...   \n",
       "1  Exercise  Full Stack Radio with Evan Yue \\\\ Vue 3.0 - fi...   \n",
       "2  Exercise  Django Chat \\\\ Caching - something to read up ...   \n",
       "3      Walk  Not so standard deviations \\\\ misc discussions...   \n",
       "4     Drive                                  SE Daily \\\\ TIBCO   \n",
       "\n",
       "                                       physical_note task tags       subloc  \\\n",
       "0                               Cardio - elliptical              Elliptical   \n",
       "1                                   Cardio - stairs             Stairmaster   \n",
       "2  Weights - hip abduction in / out (machine) - k...               Machines   \n",
       "3                  Walked to locker room then to car                Outside   \n",
       "4                                                                   Trinity   \n",
       "\n",
       "  project_location  \n",
       "0        24hr-Bel   \n",
       "1        24hr-Bel   \n",
       "2        24hr-Bel   \n",
       "3        24hr-Bel   \n",
       "4        24hr-Bel   "
      ]
     },
     "execution_count": 16,
     "metadata": {},
     "output_type": "execute_result"
    }
   ],
   "source": [
    "# === Fill with empty string === #\n",
    "engage_3 = engage_2.fillna(value=\"\")\n",
    "engage_3.head()"
   ]
  },
  {
   "cell_type": "code",
   "execution_count": null,
   "metadata": {},
   "outputs": [],
   "source": []
  },
  {
   "cell_type": "markdown",
   "metadata": {},
   "source": [
    "---\n",
    "---\n",
    "\n",
    "## Exploration\n",
    "\n",
    "There are so, so many interesting questions to ask and avenues to explore with this data, it was almost overwhelming at first. I'd been brainstorming casually over the years on the topic of how to tackle the exploratory analysis and visualization.\n",
    "\n",
    "Here are a few ideas to get me started:\n",
    "\n",
    "* How do I spend my time? And what patterns does this follow on a daily, weekly, monthly, yearly time horizon?\n",
    "* Sentiment analysis over time\n",
    "  * Does my mood oscillate according to any discernable pattern?\n",
    "  * Does my mood correlate with spending time on particular activities?"
   ]
  },
  {
   "cell_type": "code",
   "execution_count": null,
   "metadata": {},
   "outputs": [],
   "source": []
  },
  {
   "cell_type": "code",
   "execution_count": null,
   "metadata": {},
   "outputs": [],
   "source": []
  },
  {
   "cell_type": "code",
   "execution_count": null,
   "metadata": {},
   "outputs": [],
   "source": []
  },
  {
   "cell_type": "code",
   "execution_count": null,
   "metadata": {},
   "outputs": [],
   "source": []
  },
  {
   "cell_type": "code",
   "execution_count": null,
   "metadata": {},
   "outputs": [],
   "source": []
  },
  {
   "cell_type": "code",
   "execution_count": null,
   "metadata": {},
   "outputs": [],
   "source": []
  },
  {
   "cell_type": "code",
   "execution_count": null,
   "metadata": {},
   "outputs": [],
   "source": []
  },
  {
   "cell_type": "code",
   "execution_count": null,
   "metadata": {},
   "outputs": [],
   "source": []
  },
  {
   "cell_type": "code",
   "execution_count": null,
   "metadata": {},
   "outputs": [],
   "source": []
  },
  {
   "cell_type": "code",
   "execution_count": null,
   "metadata": {},
   "outputs": [],
   "source": []
  },
  {
   "cell_type": "code",
   "execution_count": null,
   "metadata": {},
   "outputs": [],
   "source": []
  },
  {
   "cell_type": "code",
   "execution_count": null,
   "metadata": {},
   "outputs": [],
   "source": []
  }
 ],
 "metadata": {
  "kernelspec": {
   "display_name": "Python 3.7.6 64-bit ('vela': pipenv)",
   "language": "python",
   "name": "python37664bitvelapipenvde09592071074af6a70ce3b1ce38af95"
  },
  "language_info": {
   "codemirror_mode": {
    "name": "ipython",
    "version": 3
   },
   "file_extension": ".py",
   "mimetype": "text/x-python",
   "name": "python",
   "nbconvert_exporter": "python",
   "pygments_lexer": "ipython3",
   "version": "3.7.6"
  }
 },
 "nbformat": 4,
 "nbformat_minor": 4
}
