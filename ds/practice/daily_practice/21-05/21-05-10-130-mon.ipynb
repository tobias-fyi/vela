{
 "cells": [
  {
   "cell_type": "markdown",
   "id": "guided-underground",
   "metadata": {},
   "source": [
    "# 2021-05-10 Daily Practice\n",
    "\n",
    "- [x] Practice\n",
    "  - [ ] SQL\n",
    "  - [x] Algorithms\n",
    "  - [ ] Solve + Design\n",
    "- [ ] Learn\n",
    "- [ ] Write\n",
    "- [ ] Build"
   ]
  },
  {
   "cell_type": "markdown",
   "id": "secure-hierarchy",
   "metadata": {},
   "source": [
    "---\n",
    "\n",
    "## Practice\n",
    "\n",
    "- [x] https://leetcode.com/problems/reverse-integer/\n",
    "- [x] https://leetcode.com/problems/longest-common-prefix/\n",
    "- [x] https://leetcode.com/problems/maximum-subarray/\n",
    "- [x] https://leetcode.com/problems/same-tree/\n",
    "- [x] https://leetcode.com/problems/combination-sum/\n",
    "- [x] https://leetcode.com/problems/longest-substring-without-repeating-characters/"
   ]
  },
  {
   "cell_type": "markdown",
   "id": "humanitarian-corner",
   "metadata": {},
   "source": [
    "### Problem solving process\n",
    "\n",
    "[CSDojo problem solving tips](https://www.youtube.com/watch?v=GBuHSRDGZBY)\n",
    "\n",
    "1. Brute-force solution\n",
    "2. Think of a simpler version of the problem\n",
    "3. Think with simpler examples: look for patterns\n",
    "4. Use some visualization\n",
    "5. Test solution on a other examples"
   ]
  },
  {
   "cell_type": "markdown",
   "id": "narrative-latvia",
   "metadata": {},
   "source": [
    "#### Problem\n",
    "\n",
    "Given two arrays of the same length, find the pair(s) of values with sums closest to the target."
   ]
  },
  {
   "cell_type": "code",
   "execution_count": 16,
   "id": "dutch-wallet",
   "metadata": {},
   "outputs": [],
   "source": [
    "arr1 = [-1, 3, 8, 2, 9, 5]\n",
    "arr2 = [4, 1, 2, 10, 5, 20]\n",
    "tgt = 24"
   ]
  },
  {
   "cell_type": "code",
   "execution_count": 11,
   "id": "reduced-billy",
   "metadata": {},
   "outputs": [],
   "source": [
    "# Brute-force iterative approach - O(n^2)\n",
    "# Iterate through every pair of elements to find the closest\n",
    "def find_closest_sum(arr1, arr2, tgt):\n",
    "    closest = tgt  # Can't be further away than the target itself?\n",
    "    closest_sums = []\n",
    "    for i, v1 in enumerate(arr1):\n",
    "        for j, v2 in enumerate(arr2):\n",
    "            if abs(tgt - (v1 + v2)) <= closest:\n",
    "                closest = tgt - (v1 + v2)\n",
    "                closest_sums.append((v1, v2))\n",
    "    return closest, closest_sums"
   ]
  },
  {
   "cell_type": "code",
   "execution_count": 12,
   "id": "defined-momentum",
   "metadata": {},
   "outputs": [
    {
     "data": {
      "text/plain": [
       "(-1, [3, 9, 19, 23, 25])"
      ]
     },
     "execution_count": 12,
     "metadata": {},
     "output_type": "execute_result"
    }
   ],
   "source": [
    "find_closest_sum(arr1, arr2, tgt)"
   ]
  },
  {
   "cell_type": "code",
   "execution_count": 17,
   "id": "bored-fraud",
   "metadata": {},
   "outputs": [],
   "source": [
    "# Simpler version of the problem - target sum pair exists\n",
    "arr3 = [-1, 3, 8, 2, 9, 4]\n",
    "arr4 = [4, 1, 2, 10, 5, 20]\n",
    "tgt2 = 24"
   ]
  },
  {
   "cell_type": "code",
   "execution_count": 19,
   "id": "balanced-crisis",
   "metadata": {},
   "outputs": [],
   "source": [
    "# Use a set to check for differences\n",
    "def find_closest_sum(arr1, arr2, tgt):\n",
    "    set1 = set(arr1)  # Create set from first array\n",
    "    pairs = []\n",
    "    for j, v2 in enumerate(arr2):  # Iterate through second array\n",
    "        # Check if target minus element is in set\n",
    "        if (tgt - v2) in set1:\n",
    "            pairs.append((tgt - v2, v2))\n",
    "    return pairs"
   ]
  },
  {
   "cell_type": "code",
   "execution_count": 20,
   "id": "bridal-convert",
   "metadata": {},
   "outputs": [
    {
     "data": {
      "text/plain": [
       "[(4, 20)]"
      ]
     },
     "execution_count": 20,
     "metadata": {},
     "output_type": "execute_result"
    }
   ],
   "source": [
    "find_closest_sum(arr3, arr4, tgt)"
   ]
  },
  {
   "cell_type": "markdown",
   "id": "traditional-development",
   "metadata": {},
   "source": [
    "Once the simpler version of the problem (where a pair exists that add up to the target) is solved, expand that solution to include any other cases that need to be accounted for (arrays without a pair that add up to the target).\n",
    "\n",
    "In this problem, if the target is not found, add or subtract 1 from the target and try again. Repeat until pair is found."
   ]
  },
  {
   "cell_type": "markdown",
   "id": "indoor-blackjack",
   "metadata": {},
   "source": [
    "> Think with simpler examples: try noticing a pattern"
   ]
  },
  {
   "cell_type": "code",
   "execution_count": null,
   "id": "brazilian-anchor",
   "metadata": {},
   "outputs": [],
   "source": [
    "# Sorting the arrays first; start at the top of first array\n",
    "def find_closest_sum(arr1, arr2, tgt):\n",
    "    arr1s, arr2s = sorted(arr1), sorted(arr2)\n",
    "    # First pair is (arr1s[-1], arr2s[1])\n",
    "    # Increment second array's index\n",
    "    # If sum is less than target, increment second array's index\n",
    "    # If sum is more than target, decrement first array's index\n",
    "    # if sum equals target, solution is found\n",
    "    # Otherwise, keep track of closest pairs and return closest one after iteration is complete"
   ]
  },
  {
   "cell_type": "markdown",
   "id": "infrared-nebraska",
   "metadata": {},
   "source": [
    "### Reverse integer\n",
    "\n",
    "On [LeetCode](https://leetcode.com/problems/reverse-integer/)\n",
    "\n",
    "Given a signed 32-bit integer `x`, return `x` with its digits reversed. If reversing `x` causes the value to go outside the signed 32-bit integer range ``[-2^31, 2^31 - 1]``, then return `0`.\n",
    "\n",
    "Assume the environment does not allow you to store 64-bit integers (signed or unsigned)."
   ]
  },
  {
   "cell_type": "code",
   "execution_count": 22,
   "id": "correct-naples",
   "metadata": {},
   "outputs": [],
   "source": [
    "# Get components of integer\n",
    "201 -> 102\n",
    "\n",
    "# Modulo of 10 will return the ten factor - rightmost number\n",
    "201 % 10 -> 1\n",
    "\n",
    "# Remove that digit from the integer by floor division\n",
    "201 // 10 -> 20\n",
    "\n",
    "# 20 is going to be fed back into function; repeat steps above\n",
    "20 % 10 -> 0\n",
    "20 // 10 -> 2\n",
    "\n",
    "# Base case:\n",
    "2 % 10 = 2 # Then return that number\n",
    "\n",
    "# Reconstruct from right to left\n",
    "2 * (0 + 10**0)\n"
   ]
  },
  {
   "cell_type": "code",
   "execution_count": null,
   "id": "coordinated-weather",
   "metadata": {},
   "outputs": [],
   "source": [
    "123 -> 321\n",
    "\n",
    "123 % 10 = 3\n",
    "123 // 10 = 12\n",
    "\n",
    "12 % 10 = 2\n",
    "12 // 10 = 1\n",
    "\n",
    "1 % 10 = 1  # base case, return 1\n",
    "\n",
    "1 + (2 * 10**1) = 21\n",
    "\n",
    "21 + (3 * 10**2) = 21 + 300 = 321"
   ]
  },
  {
   "cell_type": "code",
   "execution_count": 57,
   "id": "charming-soviet",
   "metadata": {},
   "outputs": [],
   "source": [
    "import math\n",
    "\n",
    "def reverse(x):\n",
    "    # Deal with negative case?\n",
    "    neg = 1\n",
    "    if x < 0:\n",
    "        neg = -1\n",
    "    x *= neg\n",
    "    # Base case: mod 10 of x = x\n",
    "    if x % 10 == x:\n",
    "        return x\n",
    "    # \"Pop\" rightmost number off of x\n",
    "    right = x % 10\n",
    "    x_new = x // 10\n",
    "    # Get factor of x_new to use as exponent below\n",
    "    factor = int(math.log(x_new, 10)) + 1\n",
    "    # Feed remainder back into function and reconstruct right to left\n",
    "    \n",
    "    rev = (reverse(x_new) + (right * 10**factor)) * neg\n",
    "    if 2**31 < rev or rev < (-1 * (2**31)) - 1:\n",
    "        return 0\n",
    "    else:\n",
    "        return rev"
   ]
  },
  {
   "cell_type": "code",
   "execution_count": 58,
   "id": "diverse-pollution",
   "metadata": {},
   "outputs": [
    {
     "name": "stdout",
     "output_type": "stream",
     "text": [
      "3\n",
      "12\n",
      "2\n",
      "\n",
      "2\n",
      "1\n",
      "1\n",
      "\n"
     ]
    },
    {
     "data": {
      "text/plain": [
       "321"
      ]
     },
     "execution_count": 58,
     "metadata": {},
     "output_type": "execute_result"
    }
   ],
   "source": [
    "reverse(123)"
   ]
  },
  {
   "cell_type": "code",
   "execution_count": 59,
   "id": "expressed-enforcement",
   "metadata": {},
   "outputs": [
    {
     "name": "stdout",
     "output_type": "stream",
     "text": [
      "3\n",
      "12\n",
      "2\n",
      "\n",
      "2\n",
      "1\n",
      "1\n",
      "\n"
     ]
    },
    {
     "data": {
      "text/plain": [
       "-321"
      ]
     },
     "execution_count": 59,
     "metadata": {},
     "output_type": "execute_result"
    }
   ],
   "source": [
    "reverse(-123)"
   ]
  },
  {
   "cell_type": "code",
   "execution_count": 39,
   "id": "tight-region",
   "metadata": {},
   "outputs": [
    {
     "data": {
      "text/plain": [
       "1"
      ]
     },
     "execution_count": 39,
     "metadata": {},
     "output_type": "execute_result"
    }
   ],
   "source": [
    "int(math.log(21, 10))"
   ]
  },
  {
   "cell_type": "code",
   "execution_count": 42,
   "id": "distributed-explorer",
   "metadata": {},
   "outputs": [
    {
     "data": {
      "text/plain": [
       "2"
      ]
     },
     "execution_count": 42,
     "metadata": {},
     "output_type": "execute_result"
    }
   ],
   "source": [
    "int(math.log(211, 10))"
   ]
  },
  {
   "cell_type": "markdown",
   "id": "advance-engine",
   "metadata": {},
   "source": [
    "### Longest common prefix\n",
    "\n",
    "On [LeetCode](https://leetcode.com/problems/longest-common-prefix/)\n",
    "\n",
    "Write a function to find the longest common prefix string amongst an array of strings.\n",
    "\n",
    "If there is no common prefix, return an empty string \"\"."
   ]
  },
  {
   "source": [
    "- Implement a trie\n",
    "- Insert words into trie\n",
    "- DFS for node that has multiple children"
   ],
   "cell_type": "markdown",
   "metadata": {}
  },
  {
   "cell_type": "code",
   "execution_count": 2,
   "id": "healthy-scout",
   "metadata": {},
   "outputs": [],
   "source": [
    "class TrieNode:\n",
    "    \"\"\"Node of a trie.\"\"\"\n",
    "\n",
    "    def __init__(self, char: str):\n",
    "        self.char = char  # Character held by this node\n",
    "        self.is_end = False  # End of word\n",
    "        self.children = {}  # Children: key is char, value is node"
   ]
  },
  {
   "cell_type": "code",
   "execution_count": 10,
   "id": "expanded-opera",
   "metadata": {},
   "outputs": [],
   "source": [
    "class Trie:\n",
    "    \"\"\"A trie object.\"\"\"\n",
    "\n",
    "    def __init__(self):\n",
    "        \"\"\"Instantiate the tree with blank root node.\"\"\"\n",
    "        self.root = TrieNode(\"\")\n",
    "\n",
    "    def insert(self, word: str) -> None:\n",
    "        \"\"\"Inserts a word into the trie; each char is a node.\"\"\"\n",
    "        prev_node = self.root  # Start at root\n",
    "        for char in word:  # Iterate through chars in word\n",
    "            # Check if char is already a child of prev_node\n",
    "            if char in prev_node.children: \n",
    "                # If already exists, iterate to next char\n",
    "                prev_node = prev_node.children[char]\n",
    "            else:  # If not, instantiate node with char; add as child to prev_node\n",
    "                new_node = TrieNode(char)\n",
    "                prev_node.children[char] = new_node\n",
    "                prev_node = new_node\n",
    "\n",
    "        prev_node.is_end = True  # Mark end of word, in case word itself is prefix\n",
    "    \n",
    "    def longest_common_prefix(self, root: TrieNode):\n",
    "        \"\"\"Traverses the tree to find longest common prefix of inserted words.\"\"\"\n",
    "        # Base case: node has multiple children or end of word -> return node.char\n",
    "        if len(root.children) > 1 or root.is_end is True:\n",
    "            return root.char\n",
    "        # Recursive case: concat cur node's char with return of recursive call\n",
    "        child = root.children[list(root.children)[0]]  # Get child node\n",
    "        return root.char + self.longest_common_prefix(child)"
   ]
  },
  {
   "cell_type": "code",
   "execution_count": 11,
   "id": "wanted-cabinet",
   "metadata": {},
   "outputs": [],
   "source": [
    "from typing import List\n",
    "\n",
    "def longestCommonPrefix(strs: List[str]) -> str:\n",
    "    trie = Trie()  # Instantiate a trie\n",
    "    # Loop through words, inserting them into trie\n",
    "    for word in strs:\n",
    "        trie.insert(word)\n",
    "    # Call longest_common_prefix to find prefix\n",
    "    return trie.longest_common_prefix(trie.root)"
   ]
  },
  {
   "cell_type": "code",
   "execution_count": 12,
   "id": "vanilla-census",
   "metadata": {},
   "outputs": [
    {
     "output_type": "execute_result",
     "data": {
      "text/plain": [
       "'fl'"
      ]
     },
     "metadata": {},
     "execution_count": 12
    }
   ],
   "source": [
    "longestCommonPrefix([\"flower\",\"flow\",\"flight\"])"
   ]
  },
  {
   "source": [
    "### Max Subarray\n",
    "\n",
    "On [LeetCode](https://leetcode.com/problems/maximum-subarray/)\n",
    "\n",
    "Given an integer array nums, find the contiguous subarray (containing at least one number) which has the largest sum and return its sum.\n",
    "\n",
    "Example 1:\n",
    "\n",
    "    Input: nums = [-2,1,-3,4,-1,2,1,-5,4]\n",
    "    Output: 6\n",
    "    Explanation: [4,-1,2,1] has the largest sum = 6.\n",
    "\n",
    "Example 2:\n",
    "\n",
    "    Input: nums = [1]\n",
    "    Output: 1\n",
    "\n",
    "Example 3:\n",
    "\n",
    "    Input: nums = [5,4,-1,7,8]\n",
    "    Output: 23"
   ],
   "cell_type": "markdown",
   "metadata": {}
  },
  {
   "cell_type": "code",
   "execution_count": 15,
   "id": "false-neighbor",
   "metadata": {},
   "outputs": [],
   "source": [
    "def max_subarray(nums):\n",
    "    # vars to hold subarray and max sum so far\n",
    "    max_sum = None\n",
    "    sub = []\n",
    "    for i, num in enumerate(nums):  # iterate through nums\n",
    "        # check if the current value is better than the highest sum of all possible combinations of previous values\n",
    "        if num >= sum(sub) + num:  # if it's better, clear out subarray and add current value\n",
    "            sub = [num]\n",
    "        else:  # Otherwise, add num to running subarray \n",
    "            sub.append(num)\n",
    "\n",
    "        if max_sum is None:  # Deal with negative items\n",
    "            max_sum = sum(sub)\n",
    "        if sum(sub) > max_sum or max_sum is None:  # If running sum is greater, set new max\n",
    "            max_sum = sum(sub)\n",
    "    return max_sum"
   ]
  },
  {
   "cell_type": "code",
   "execution_count": 18,
   "id": "blank-zealand",
   "metadata": {},
   "outputs": [
    {
     "output_type": "stream",
     "name": "stdout",
     "text": [
      "6\n1\n23\n"
     ]
    }
   ],
   "source": [
    "nums = [-2,1,-3,4,-1,2,1,-5,4]\n",
    "print(max_subarray(nums))\n",
    "print(max_subarray([1]))\n",
    "print(max_subarray([5,4,-1,7,8]))"
   ]
  },
  {
   "source": [
    "### Same Tree\n",
    "\n",
    "On [LeetCode](https://leetcode.com/problems/same-tree/)\n",
    "\n",
    "Given the roots of two binary trees p and q, write a function to check if they are the same or not.\n",
    "\n",
    "Two binary trees are considered the same if they are structurally identical, and the nodes have the same value."
   ],
   "cell_type": "markdown",
   "metadata": {}
  },
  {
   "cell_type": "code",
   "execution_count": null,
   "id": "taken-reputation",
   "metadata": {},
   "outputs": [],
   "source": [
    "class Solution:\n",
    "    def preorderTraversal(self, node) -> list:\n",
    "        # Base case: node is None\n",
    "        if node is None: return [None]\n",
    "        # Recursive case: [this node.val, pt(left.val), pt.right.val]\n",
    "        return [node.val] + self.preorderTraversal(node.left) + self.preorderTraversal(node.right)\n",
    "    \n",
    "    def isSameTree(self, p: TreeNode, q: TreeNode) -> bool:\n",
    "        \"\"\"If output of traversal is equal, then they are the same.\"\"\"\n",
    "        if self.preorderTraversal(p) == self.preorderTraversal(q):\n",
    "            return True\n",
    "        else:\n",
    "            return False"
   ]
  },
  {
   "source": [
    "### Combination Sum (Again)"
   ],
   "cell_type": "markdown",
   "metadata": {}
  },
  {
   "cell_type": "code",
   "execution_count": null,
   "id": "rubber-vehicle",
   "metadata": {},
   "outputs": [],
   "source": [
    "class Solution:\n",
    "    def combinationSum(self, candidates: List[int], target: int) -> List[List[int]]:\n",
    "        valid_paths = []\n",
    "        self.pathSearch(candidates, 0, target, [], valid_paths)\n",
    "        return valid_paths\n",
    "    \n",
    "    def pathSearch(self, candidates, start, target, path, valid_paths):\n",
    "        # Base case: target / remainder less than 0\n",
    "        if target < 0: return\n",
    "        # Base case: target = 0 -> path is valid\n",
    "        if target == 0:\n",
    "            valid_paths.append(path)\n",
    "            return\n",
    "        # Recursive case: iterate through candidates starting with start\n",
    "        for i, cand in enumerate(candidates):\n",
    "            path.append(cand)  # Add current search node to path\n",
    "            # Recurse\n",
    "            self.pathSearch(candidates, i, target - cand, path, valid_paths)\n",
    "            # Remove search node from path\n",
    "            path.pop()"
   ]
  },
  {
   "cell_type": "code",
   "execution_count": null,
   "id": "suspected-georgia",
   "metadata": {},
   "outputs": [],
   "source": [
    "class Solution:\n",
    "    def combinationSum(self, candidates: List[int], target: int) -> List[List[int]]:\n",
    "        self.valid_paths = []\n",
    "        self.path = []\n",
    "        self.pathSearch(candidates, 0, target)\n",
    "        return self.valid_paths\n",
    "    \n",
    "    def pathSearch(self, candidates, start, target):\n",
    "        # Base case: target / remainder less than 0\n",
    "        if target < 0: return\n",
    "        # Base case: target = 0 -> path is valid\n",
    "        if target == 0:\n",
    "            self.valid_paths.append(self.path)\n",
    "            return\n",
    "        # Recursive case: iterate through candidates starting with start\n",
    "        for i, cand in enumerate(candidates):\n",
    "            self.path.append(cand)  # Add current search node to path\n",
    "            self.pathSearch(candidates, i, target - cand)  # Recurse\n",
    "            # Remove search node from path\n",
    "            self.path.pop()"
   ]
  },
  {
   "cell_type": "code",
   "execution_count": 54,
   "metadata": {},
   "outputs": [],
   "source": [
    "class Solution:\n",
    "    def combinationSum(self, candidates: List[int], target: int) -> List[List[int]]:\n",
    "        paths = []\n",
    "        self.pathSearch(candidates, 0, target, [], paths)\n",
    "        return paths\n",
    "    \n",
    "    def pathSearch(self, candidates, start, target, path, paths):\n",
    "        # Base case: target / remainder less than 0\n",
    "        if target < 0: return\n",
    "        # Base case: target = 0 -> path is valid\n",
    "        if target == 0:\n",
    "            paths.append(list(path))\n",
    "            return\n",
    "        # Recursive case: iterate through candidates starting with start\n",
    "        for i, cand in enumerate(candidates):\n",
    "            path.append(cand)  # Add current search node to path\n",
    "            self.pathSearch(candidates[start:], i, target - cand, path, paths)  # Recurse\n",
    "            path.pop()"
   ]
  },
  {
   "cell_type": "code",
   "execution_count": 57,
   "metadata": {},
   "outputs": [],
   "source": [
    "class Solution:\n",
    "    def combinationSum(self, candidates: List[int], target: int) -> List[List[int]]:\n",
    "        paths = []\n",
    "        self.pathSearch(candidates, target, [], paths)\n",
    "        return paths\n",
    "    \n",
    "    def pathSearch(self, candidates, target, path, paths):\n",
    "        # Base case: target / remainder less than 0\n",
    "        if target < 0: return\n",
    "        # Base case: target = 0 -> path is valid\n",
    "        if target == 0:\n",
    "            paths.append(list(path))\n",
    "            return\n",
    "        # Recursive case: iterate through candidates starting with start\n",
    "        for i, cand in enumerate(candidates):\n",
    "            path.append(cand)  # Add current search node to path\n",
    "            self.pathSearch(candidates[i:], target - cand, path, paths)  # Recurse\n",
    "            path.pop()"
   ]
  },
  {
   "cell_type": "code",
   "execution_count": 58,
   "id": "sonic-hormone",
   "metadata": {},
   "outputs": [
    {
     "output_type": "execute_result",
     "data": {
      "text/plain": [
       "[[2, 2, 3], [7]]"
      ]
     },
     "metadata": {},
     "execution_count": 58
    }
   ],
   "source": [
    "candidates = [2, 3, 6, 7]\n",
    "sol = Solution()\n",
    "sol.combinationSum(candidates, 7)"
   ]
  },
  {
   "cell_type": "code",
   "execution_count": 59,
   "metadata": {},
   "outputs": [
    {
     "output_type": "execute_result",
     "data": {
      "text/plain": [
       "[[2, 2, 2, 2], [2, 3, 3], [3, 5]]"
      ]
     },
     "metadata": {},
     "execution_count": 59
    }
   ],
   "source": [
    "candidates = [2,3,5]\n",
    "sol = Solution()\n",
    "sol.combinationSum(candidates, 8)"
   ]
  },
  {
   "cell_type": "code",
   "execution_count": 53,
   "metadata": {},
   "outputs": [
    {
     "output_type": "execute_result",
     "data": {
      "text/plain": [
       "False"
      ]
     },
     "metadata": {},
     "execution_count": 53
    }
   ],
   "source": [
    "[2, 3, 3] is [3, 3, 2]"
   ]
  },
  {
   "source": [
    "## Data Structures Review"
   ],
   "cell_type": "markdown",
   "metadata": {}
  },
  {
   "source": [
    "### LinkedList\n",
    "\n",
    "Singly linked list with recursive methods."
   ],
   "cell_type": "markdown",
   "metadata": {}
  },
  {
   "cell_type": "code",
   "execution_count": 69,
   "metadata": {},
   "outputs": [],
   "source": [
    "class LinkedListNode:\n",
    "    def __init__(self, data=None, next=None):\n",
    "        self.data = data\n",
    "        self.next = next\n",
    "\n",
    "    def append(self, data) -> None:\n",
    "        if self.next is None:  # Base case, no next node\n",
    "            self.next = LinkedListNode(data)\n",
    "        else:\n",
    "            self.next.append(data)\n",
    "\n",
    "\n",
    "class LinkedList:\n",
    "    def __init__(self, head=None):\n",
    "        self.head = head\n",
    "    \n",
    "    def append(self, data) -> None:\n",
    "        if self.head:\n",
    "            self.head.append(data)\n",
    "        else:\n",
    "            self.head = LinkedListNode(data)"
   ]
  },
  {
   "cell_type": "code",
   "execution_count": 72,
   "metadata": {},
   "outputs": [
    {
     "output_type": "stream",
     "name": "stdout",
     "text": [
      "1\n2\n3\n"
     ]
    }
   ],
   "source": [
    "a = LinkedListNode(1)\n",
    "my_ll = LinkedList(a)\n",
    "my_ll.append(2)\n",
    "my_ll.append(3)\n",
    "print(my_ll.head.data)\n",
    "print(my_ll.head.next.data)\n",
    "print(my_ll.head.next.next.data)"
   ]
  },
  {
   "source": [
    "### Queue\n",
    "\n",
    "FIFO!\n",
    "\n",
    "- Enqueue: constant time - `O(1)`\n",
    "- Dequeue: constant time - `O(1)`\n",
    "- Peek: constant time - `O(1)`\n",
    "- Space complexity = `O(n)`"
   ],
   "cell_type": "markdown",
   "metadata": {}
  },
  {
   "cell_type": "code",
   "execution_count": 79,
   "metadata": {},
   "outputs": [],
   "source": [
    "class Queue:\n",
    "    def __init__(self):\n",
    "        self.front = None\n",
    "        self.back = None\n",
    "\n",
    "    def is_empty(self) -> bool:\n",
    "        if self.front is None:\n",
    "            return True\n",
    "        else:\n",
    "            return False\n",
    "    \n",
    "    def enqueue(self, data):\n",
    "        new_node = LinkedListNode(data)\n",
    "        if self.is_empty():\n",
    "            self.front = new_node\n",
    "        else:\n",
    "            self.back.next = new_node\n",
    "        self.back = new_node  # Send new node to back of queue\n",
    "    \n",
    "    def dequeue(self):\n",
    "        \"\"\"Remove node from front of list and return its value.\"\"\"\n",
    "        if not self.is_empty():  # Check if queue is empty\n",
    "            dq = self.front  # Save current front of queue\n",
    "            self.front = dq.next  # Set next node as new front\n",
    "        else:\n",
    "            return None  # Return None if queue is empty\n",
    "        \n",
    "        # Check if queue is empty after dequeue\n",
    "        if self.is_empty():\n",
    "            self.back = None  # Also clear out back\n",
    "\n",
    "        return dq.data  # Return old front's data\n",
    "    \n",
    "    def peek(self):\n",
    "        if not self.is_empty():\n",
    "            return self.front.data"
   ]
  },
  {
   "source": [
    "### Stack\n",
    "\n",
    "LIFO!\n",
    "\n",
    "- Push: constant time - `O(1)`\n",
    "- Pop: constant time - `O(1)`\n",
    "- Peek: constant time - `O(1)`\n",
    "- Space complexity = `O(n)`"
   ],
   "cell_type": "markdown",
   "metadata": {}
  },
  {
   "cell_type": "code",
   "execution_count": 80,
   "metadata": {},
   "outputs": [],
   "source": [
    "class Stack:\n",
    "    def __init__(self):\n",
    "        self.top = None\n",
    "\n",
    "    def push(self, data):\n",
    "        \"\"\"Adds element to top of stack.\"\"\"\n",
    "        new_node = LinkedListNode(data)\n",
    "        new_node.next = self.top\n",
    "        self.top = new_node\n",
    "\n",
    "    def pop(self):\n",
    "        \"\"\"Removes element from top of stack and returns its value.\"\"\"\n",
    "        if self.top:\n",
    "            popped = self.top\n",
    "            self.top = popped.next\n",
    "            return popped.data\n",
    "        else:\n",
    "            return None\n",
    "\n",
    "    def peek(self):\n",
    "        \"\"\"Return value of the stack's top element without removing it.\"\"\"\n",
    "        peeked = None\n",
    "        if self.top:\n",
    "            peeked = self.top.data\n",
    "        return peeked"
   ]
  },
  {
   "source": [
    "### Binary Search Tree\n",
    "\n",
    "First, I'm going to implement a BST from scratch, run DFS and BFS on it, then look for a good leetcode problem to apply it to."
   ],
   "cell_type": "markdown",
   "metadata": {}
  },
  {
   "cell_type": "code",
   "execution_count": 66,
   "metadata": {},
   "outputs": [
    {
     "output_type": "stream",
     "name": "stdout",
     "text": [
      "7.0\n255\n"
     ]
    }
   ],
   "source": [
    "import math\n",
    "\n",
    "# Perfect binary tree math\n",
    "# Given 127 nodes, what is the height?\n",
    "print(math.log(127 + 1, 2))\n",
    "\n",
    "# Given height of 8, how many nodes does it have?\n",
    "print(2 ** 8 - 1)"
   ]
  },
  {
   "cell_type": "code",
   "execution_count": 75,
   "metadata": {},
   "outputs": [],
   "source": [
    "class BSTNode:\n",
    "    def __init__(self, val: int):\n",
    "        self.val = val\n",
    "        self.left = None\n",
    "        self.right = None\n",
    "\n",
    "    def __str__(self):\n",
    "        print(f\"<({self.left})-({self.val})-({self.right})>\")\n",
    "\n",
    "    def insert(self, val) -> None:\n",
    "        if val < self.val:\n",
    "            if self.left is None:\n",
    "                self.left = BSTNode(val)\n",
    "            else:\n",
    "                self.left.insert(val)\n",
    "        if val > self.val:\n",
    "            if self.right is None:\n",
    "                self.right = BSTNode(val)\n",
    "            else:\n",
    "                self.right.insert(val)\n",
    "\n",
    "    def search(self, tgt: int):\n",
    "        if self.val == tgt:\n",
    "            return self\n",
    "        elif tgt < self.val:\n",
    "            if self.left is None:\n",
    "                return False\n",
    "            else:\n",
    "                return self.left.search(tgt)\n",
    "        else:\n",
    "            if self.right is None:\n",
    "                return False\n",
    "            else:\n",
    "                return self.right.search(tgt)\n",
    "    \n",
    "    def min(self):\n",
    "        # Find minimum by going all the way left\n",
    "        if self.left is None:  # Base case: no more left to go\n",
    "            return self\n",
    "        else:  # Recursive case: call left node's min method\n",
    "            return self.left.min()\n",
    "\n",
    "\n",
    "class BST:\n",
    "    def __init__(self, root_val: int):\n",
    "        self.root = BSTNode(root_val)\n",
    "\n",
    "    def insert(self, val: int) -> None:\n",
    "        self.root.insert(val)\n",
    "\n",
    "    def search(self, val: int) -> BSTNode:\n",
    "        return self.root.search(val)\n",
    "\n",
    "    def min(self, node: BSTNode):\n",
    "        return node.min()\n",
    "\n",
    "    def delete(self, val: int) -> None:\n",
    "        pass"
   ]
  },
  {
   "source": [
    "#### Traversals\n",
    "\n",
    "- Breadth-first\n",
    "- Depth-first\n",
    "  - Inorder: Node visited in order (l->n->r)\n",
    "  - Preorder: Node visited before children (n->l->r)\n",
    "  - Postorder: Node visited after children (l->r->n)"
   ],
   "cell_type": "markdown",
   "metadata": {}
  },
  {
   "cell_type": "code",
   "execution_count": 82,
   "metadata": {},
   "outputs": [],
   "source": [
    "from collections import deque\n",
    "\n",
    "def breadth_first_traversal(root):\n",
    "    if root is None:\n",
    "        return []\n",
    "\n",
    "    results = []\n",
    "    q = deque()\n",
    "    q.append(root)\n",
    "\n",
    "    while len(q) > 0:\n",
    "        node = q.popleft()\n",
    "        results.append(node.val)\n",
    "        # Put children into the queue\n",
    "        if node.left: q.append(node.left)\n",
    "        if node.right: q.append(node.right)\n",
    "\n",
    "    return results"
   ]
  },
  {
   "source": [
    "### Longest substring without repeating characters\n",
    "\n",
    "On [LeetCode](https://leetcode.com/problems/longest-substring-without-repeating-characters/)\n",
    "\n",
    "I believe I have a good method for solving this one now: using a queue as a way to set up a sliding window. I can iterate through the string, adding each character to the queue. If the character matches the character at the front of the queue, dequeue the char off the front. Keep track of the max length of the queue and return it at the end."
   ],
   "cell_type": "markdown",
   "metadata": {}
  },
  {
   "cell_type": "code",
   "execution_count": 95,
   "metadata": {},
   "outputs": [],
   "source": [
    "from collections import deque\n",
    "\n",
    "class Solution:\n",
    "    def lengthOfLongestSubstring(self, s: str) -> int:\n",
    "        max = 0  # Keep track of max queue length\n",
    "        q = deque()  # Use queue as sliding window\n",
    "        for char in s:  # Iterate through string\n",
    "            # If char being added matches that at front of queue, dequeue it first\n",
    "            if len(q) > 0:\n",
    "                if char in q:\n",
    "                    # Find index of char; dequeue that many elements\n",
    "                    ix = q.index(char)\n",
    "                    for i in range(ix + 1):\n",
    "                        q.popleft()\n",
    "            q.append(char)  # Add char to queue\n",
    "            # Compare length of queue to max, setting max accordingly\n",
    "            if len(q) > max: max = len(q)\n",
    "            print(q)\n",
    "        return max"
   ]
  },
  {
   "cell_type": "code",
   "execution_count": 96,
   "metadata": {},
   "outputs": [
    {
     "output_type": "stream",
     "name": "stdout",
     "text": [
      "deque(['a'])\ndeque(['a', 'b'])\ndeque(['a', 'b', 'c'])\ndeque(['b', 'c', 'a'])\ndeque(['c', 'a', 'b'])\ndeque(['a', 'b', 'c'])\ndeque(['c', 'b'])\ndeque(['b'])\n"
     ]
    },
    {
     "output_type": "execute_result",
     "data": {
      "text/plain": [
       "3"
      ]
     },
     "metadata": {},
     "execution_count": 96
    }
   ],
   "source": [
    "s = \"abcabcbb\"\n",
    "sol = Solution()\n",
    "sol.lengthOfLongestSubstring(s)"
   ]
  },
  {
   "cell_type": "code",
   "execution_count": 94,
   "metadata": {},
   "outputs": [
    {
     "output_type": "execute_result",
     "data": {
      "text/plain": [
       "deque(['c', 'a', 'b', 'c', 'b', 'b'])"
      ]
     },
     "metadata": {},
     "execution_count": 94
    }
   ],
   "source": [
    "d = deque(s)\n",
    "for i in range(d.index(\"b\") + 1):\n",
    "    d.popleft()\n",
    "d"
   ]
  },
  {
   "source": [],
   "cell_type": "markdown",
   "metadata": {}
  }
 ],
 "metadata": {
  "kernelspec": {
   "name": "python37664bitvelapipenvde09592071074af6a70ce3b1ce38af95",
   "display_name": "Python 3.7.6 64-bit ('vela': pipenv)"
  },
  "language_info": {
   "codemirror_mode": {
    "name": "ipython",
    "version": 3
   },
   "file_extension": ".py",
   "mimetype": "text/x-python",
   "name": "python",
   "nbconvert_exporter": "python",
   "pygments_lexer": "ipython3",
   "version": "3.7.6"
  },
  "metadata": {
   "interpreter": {
    "hash": "d279672dec97687973da8f2b23dbdcc76259fde61874b489061eca7e42b844dc"
   }
  }
 },
 "nbformat": 4,
 "nbformat_minor": 5
}