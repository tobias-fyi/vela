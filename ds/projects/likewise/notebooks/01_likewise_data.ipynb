{
  "nbformat": 4,
  "nbformat_minor": 0,
  "metadata": {
    "kernelspec": {
      "name": "python3",
      "display_name": "Python 3"
    },
    "colab": {
      "name": "01-likewise_data.ipynb",
      "provenance": [],
      "collapsed_sections": []
    }
  },
  "cells": [
    {
      "cell_type": "markdown",
      "metadata": {
        "id": "I247szK0X_CE",
        "colab_type": "text"
      },
      "source": [
        "# LikeWise\n",
        "\n",
        "### A Comparison of Book Recommender Systems\n",
        "\n",
        "### By _Owen Burton_ and _Tobias Reaper_"
      ]
    },
    {
      "cell_type": "markdown",
      "metadata": {
        "id": "ijOK-tEUX_CR",
        "colab_type": "text"
      },
      "source": [
        "---\n",
        "---\n",
        "\n",
        "## Outline\n",
        "\n",
        "* [Introduction]()\n",
        "* [_Imports and Configuration_]()\n",
        "* [Data]()\n",
        "  * [Loading and Looking]()\n",
        "  * [Wrangling and Exploration]()"
      ]
    },
    {
      "cell_type": "markdown",
      "metadata": {
        "id": "by6gDq5PX_CV",
        "colab_type": "text"
      },
      "source": [
        "---\n",
        "---\n",
        "\n",
        "## Introduction\n",
        "\n",
        "### Stop! Collaborate and Filter\n",
        "\n",
        "[Collaborative Filtering](https://d2l.ai/chapter_recommender-systems/recsys-intro.html#collaborative-filtering) (CF)\n",
        "\n",
        "> In general, CF only uses the user-item interaction data to make predictions and recommendations."
      ]
    },
    {
      "cell_type": "markdown",
      "metadata": {
        "id": "GIYTUXCXX_Cu",
        "colab_type": "text"
      },
      "source": [
        "---\n",
        "---\n",
        "\n",
        "## Imports and Configuration"
      ]
    },
    {
      "cell_type": "code",
      "metadata": {
        "id": "nCk6ea9KX_C0",
        "colab_type": "code",
        "colab": {
          "base_uri": "https://localhost:8080/",
          "height": 74
        },
        "outputId": "1c6e6711-95a2-44b5-d9c0-f7a1d192ee9b"
      },
      "source": [
        "# === General imports === #\n",
        "import pandas as pd\n",
        "import numpy as np\n",
        "import matplotlib.pyplot as plt\n",
        "import seaborn"
      ],
      "execution_count": 1,
      "outputs": [
        {
          "output_type": "stream",
          "text": [
            "/usr/local/lib/python3.6/dist-packages/statsmodels/tools/_testing.py:19: FutureWarning: pandas.util.testing is deprecated. Use the functions in the public API at pandas.testing instead.\n",
            "  import pandas.util.testing as tm\n"
          ],
          "name": "stderr"
        }
      ]
    },
    {
      "cell_type": "code",
      "metadata": {
        "id": "t-D9UU9CVqCe",
        "colab_type": "code",
        "colab": {}
      },
      "source": [
        "# === fastai imports === #\n",
        "from fastai.collab import *"
      ],
      "execution_count": 2,
      "outputs": []
    },
    {
      "cell_type": "code",
      "metadata": {
        "id": "1sYbdN9oX_ET",
        "colab_type": "code",
        "colab": {}
      },
      "source": [
        "# === Configuration === #\n",
        "%matplotlib inline\n",
        "pd.options.display.max_columns = 100\n",
        "pd.options.display.max_rows = 200"
      ],
      "execution_count": 3,
      "outputs": []
    },
    {
      "cell_type": "code",
      "metadata": {
        "id": "BSwNGxeHWpn2",
        "colab_type": "code",
        "colab": {
          "base_uri": "https://localhost:8080/",
          "height": 129
        },
        "outputId": "5672cc2d-bbb9-4844-8632-ca1a3eed16fb"
      },
      "source": [
        "from google.colab import drive\n",
        "drive.mount('/content/drive')"
      ],
      "execution_count": 55,
      "outputs": [
        {
          "output_type": "stream",
          "text": [
            "Go to this URL in a browser: https://accounts.google.com/o/oauth2/auth?client_id=947318989803-6bn6qk8qdgf4n4g3pfee6491hc0brc4i.apps.googleusercontent.com&redirect_uri=urn%3aietf%3awg%3aoauth%3a2.0%3aoob&response_type=code&scope=email%20https%3a%2f%2fwww.googleapis.com%2fauth%2fdocs.test%20https%3a%2f%2fwww.googleapis.com%2fauth%2fdrive%20https%3a%2f%2fwww.googleapis.com%2fauth%2fdrive.photos.readonly%20https%3a%2f%2fwww.googleapis.com%2fauth%2fpeopleapi.readonly\n",
            "\n",
            "Enter your authorization code:\n",
            "··········\n",
            "Mounted at /content/drive\n"
          ],
          "name": "stdout"
        }
      ]
    },
    {
      "cell_type": "markdown",
      "metadata": {
        "id": "aC3_huAZX_FD",
        "colab_type": "text"
      },
      "source": [
        "---\n",
        "---\n",
        "\n",
        "## Data\n",
        "\n",
        "Intro to and explanation of dataset — why this dataset?\n",
        "\n",
        "Here is the dataset used for the LikeWise recommender systems: [UCSD Book Graph - GoodReads Datasets](https://sites.google.com/eng.ucsd.edu/ucsdbookgraph/home).\n",
        "\n",
        "For this particular model, I'll be using the \"Shelves\" dataset, which has interactions between users and books (ratings).\n",
        "\n",
        "The relevant columns are `user_id`, `book_id`, and `rating`. They are pretty self-explanatory, but just to be explicit, each record indicates a user rating a book that they've (presumably) read and have an opinion on.\n",
        "\n",
        "Speaking of explicit, the fact that the user _explicitly_ rates the books makes this dataset one of explicit preferences"
      ]
    },
    {
      "cell_type": "markdown",
      "metadata": {
        "id": "vu0yFCmFX_FJ",
        "colab_type": "text"
      },
      "source": [
        "---\n",
        "\n",
        "### Load and Look\n",
        "\n",
        "Load the dataset and look at basic descriptive statistics."
      ]
    },
    {
      "cell_type": "markdown",
      "metadata": {
        "id": "AR2XwDo9auBp",
        "colab_type": "text"
      },
      "source": [
        "#### Download\n",
        "\n",
        "To develop and validate the initial models, we'll be using a genre-wise subset of the full interactions dataset for the Mystery, Thriller & Crime genre. This subset contains ~24.8m interactions (1.33 GB), as opposed to the ~229m (4.1 GB?) of the full dataset.\n",
        "\n",
        "The datasets can be downloaded from the creator's Google Drive using the `gdown` package."
      ]
    },
    {
      "cell_type": "code",
      "metadata": {
        "colab_type": "code",
        "id": "VLgIez-LaUS3",
        "colab": {
          "base_uri": "https://localhost:8080/",
          "height": 109
        },
        "outputId": "643272eb-37d7-4a41-9eb6-ef437dd5814c"
      },
      "source": [
        "# === Download goodreads_interactions_mystery_thriller_crime.json.gz === #\n",
        "import gdown\n",
        "\n",
        "file_id = \"1xuujDT-vOMMkk2Kog0CTT9ADmnD8pa9D\"\n",
        "url = \"https://drive.google.com/uc?id=\" + file_id\n",
        "gdown.download(url, output=None, quiet=False)"
      ],
      "execution_count": 4,
      "outputs": [
        {
          "output_type": "stream",
          "text": [
            "Downloading...\n",
            "From: https://drive.google.com/uc?id=1xuujDT-vOMMkk2Kog0CTT9ADmnD8pa9D\n",
            "To: /content/goodreads_interactions_mystery_thriller_crime.json.gz\n",
            "1.33GB [00:16, 83.2MB/s]\n"
          ],
          "name": "stderr"
        },
        {
          "output_type": "execute_result",
          "data": {
            "application/vnd.google.colaboratory.intrinsic": {
              "type": "string"
            },
            "text/plain": [
              "'goodreads_interactions_mystery_thriller_crime.json.gz'"
            ]
          },
          "metadata": {
            "tags": []
          },
          "execution_count": 4
        }
      ]
    },
    {
      "cell_type": "code",
      "metadata": {
        "id": "6ykHdYTexozs",
        "colab_type": "code",
        "colab": {}
      },
      "source": [
        "# === Download book_id_map.csv to get titles === #\n",
        "file_id = \"1xuujDT-vOMMkk2Kog0CTT9ADmnD8pa9D\"\n",
        "url = \"https://drive.google.com/uc?id=\" + file_id\n",
        "gdown.download(url, output=None, quiet=False)"
      ],
      "execution_count": null,
      "outputs": []
    },
    {
      "cell_type": "markdown",
      "metadata": {
        "id": "PLIwPrSta06l",
        "colab_type": "text"
      },
      "source": [
        "#### Load sample of interactions"
      ]
    },
    {
      "cell_type": "code",
      "metadata": {
        "id": "NzP40ku9b7CF",
        "colab_type": "code",
        "colab": {}
      },
      "source": [
        "# === First, load from gzipped json === #\n",
        "import gzip\n",
        "import json\n",
        "from typing import List\n",
        "\n",
        "def load_data(file_name: str, num_items: int) -> List[dict]:\n",
        "    \"\"\"Output a list of user-book interactions\"\"\"\n",
        "    count = 0\n",
        "    data = []\n",
        "    with gzip.open(file_name) as fin:\n",
        "        for l in fin:\n",
        "            d = json.loads(l)\n",
        "            count += 1\n",
        "            data.append(d)\n",
        "            \n",
        "            if (num_items is not None) and (count == num_items):\n",
        "                break\n",
        "    return data\n",
        "\n",
        "# === Load sample of 100,000 records === #\n",
        "interactions = load_data(\n",
        "    \"/content/goodreads_interactions_mystery_thriller_crime.json.gz\",\n",
        "    num_items=100000\n",
        ")\n",
        "\n",
        "assert len(interactions) == 100000"
      ],
      "execution_count": 69,
      "outputs": []
    },
    {
      "cell_type": "code",
      "metadata": {
        "id": "LMRIdX7-eusA",
        "colab_type": "code",
        "colab": {
          "base_uri": "https://localhost:8080/",
          "height": 201
        },
        "outputId": "62010768-90fb-436b-e641-6e1d4ce7976b"
      },
      "source": [
        "# === Take a look at one of the records === #\n",
        "interactions[-1]"
      ],
      "execution_count": 70,
      "outputs": [
        {
          "output_type": "execute_result",
          "data": {
            "text/plain": [
              "{'book_id': '383028',\n",
              " 'date_added': 'Fri Oct 03 08:02:16 -0700 2014',\n",
              " 'date_updated': 'Fri Oct 03 08:02:21 -0700 2014',\n",
              " 'is_read': False,\n",
              " 'rating': 0,\n",
              " 'read_at': '',\n",
              " 'review_id': '146a9921627d10f82bd6ca12df6efbb2',\n",
              " 'review_text_incomplete': '',\n",
              " 'started_at': '',\n",
              " 'user_id': '80881f5266512e9b860753b2d406d5dd'}"
            ]
          },
          "metadata": {
            "tags": []
          },
          "execution_count": 70
        }
      ]
    },
    {
      "cell_type": "code",
      "metadata": {
        "id": "Jjkw_sxhykWR",
        "colab_type": "code",
        "colab": {
          "base_uri": "https://localhost:8080/",
          "height": 488
        },
        "outputId": "88f470cc-8878-4550-ed2d-6f079e550f1c"
      },
      "source": [
        "# === Insert into dataframe === #\n",
        "inters = pd.DataFrame(interactions)\n",
        "print(inters.shape)\n",
        "inters.head()"
      ],
      "execution_count": 71,
      "outputs": [
        {
          "output_type": "stream",
          "text": [
            "(100000, 10)\n"
          ],
          "name": "stdout"
        },
        {
          "output_type": "execute_result",
          "data": {
            "text/html": [
              "<div>\n",
              "<style scoped>\n",
              "    .dataframe tbody tr th:only-of-type {\n",
              "        vertical-align: middle;\n",
              "    }\n",
              "\n",
              "    .dataframe tbody tr th {\n",
              "        vertical-align: top;\n",
              "    }\n",
              "\n",
              "    .dataframe thead th {\n",
              "        text-align: right;\n",
              "    }\n",
              "</style>\n",
              "<table border=\"1\" class=\"dataframe\">\n",
              "  <thead>\n",
              "    <tr style=\"text-align: right;\">\n",
              "      <th></th>\n",
              "      <th>user_id</th>\n",
              "      <th>book_id</th>\n",
              "      <th>review_id</th>\n",
              "      <th>is_read</th>\n",
              "      <th>rating</th>\n",
              "      <th>review_text_incomplete</th>\n",
              "      <th>date_added</th>\n",
              "      <th>date_updated</th>\n",
              "      <th>read_at</th>\n",
              "      <th>started_at</th>\n",
              "    </tr>\n",
              "  </thead>\n",
              "  <tbody>\n",
              "    <tr>\n",
              "      <th>0</th>\n",
              "      <td>8842281e1d1347389f2ab93d60773d4d</td>\n",
              "      <td>6392944</td>\n",
              "      <td>5e212a62bced17b4dbe41150e5bb9037</td>\n",
              "      <td>True</td>\n",
              "      <td>3</td>\n",
              "      <td>I haven't read a fun mystery book in a while a...</td>\n",
              "      <td>Mon Jul 24 02:48:17 -0700 2017</td>\n",
              "      <td>Sun Jul 30 09:28:03 -0700 2017</td>\n",
              "      <td>Tue Jul 25 00:00:00 -0700 2017</td>\n",
              "      <td>Mon Jul 24 00:00:00 -0700 2017</td>\n",
              "    </tr>\n",
              "    <tr>\n",
              "      <th>1</th>\n",
              "      <td>8842281e1d1347389f2ab93d60773d4d</td>\n",
              "      <td>2279538</td>\n",
              "      <td>556e9e3f00fb5b7e4eaa116764b771b0</td>\n",
              "      <td>False</td>\n",
              "      <td>0</td>\n",
              "      <td></td>\n",
              "      <td>Wed Mar 29 00:27:14 -0700 2017</td>\n",
              "      <td>Wed Mar 29 00:27:14 -0700 2017</td>\n",
              "      <td></td>\n",
              "      <td></td>\n",
              "    </tr>\n",
              "    <tr>\n",
              "      <th>2</th>\n",
              "      <td>8842281e1d1347389f2ab93d60773d4d</td>\n",
              "      <td>20821043</td>\n",
              "      <td>4b15f8a08f04a17f9a47f2b76fec21e5</td>\n",
              "      <td>False</td>\n",
              "      <td>0</td>\n",
              "      <td></td>\n",
              "      <td>Mon Mar 27 22:52:11 -0700 2017</td>\n",
              "      <td>Mon Mar 27 22:52:12 -0700 2017</td>\n",
              "      <td></td>\n",
              "      <td></td>\n",
              "    </tr>\n",
              "    <tr>\n",
              "      <th>3</th>\n",
              "      <td>8842281e1d1347389f2ab93d60773d4d</td>\n",
              "      <td>31184479</td>\n",
              "      <td>0b9fc382ad38c5804ec46df84d66be6e</td>\n",
              "      <td>False</td>\n",
              "      <td>0</td>\n",
              "      <td></td>\n",
              "      <td>Fri Jan 06 16:22:46 -0800 2017</td>\n",
              "      <td>Fri Jan 06 16:22:46 -0800 2017</td>\n",
              "      <td></td>\n",
              "      <td></td>\n",
              "    </tr>\n",
              "    <tr>\n",
              "      <th>4</th>\n",
              "      <td>8842281e1d1347389f2ab93d60773d4d</td>\n",
              "      <td>28684704</td>\n",
              "      <td>2ede853b14dc4583f96cf5d120af636f</td>\n",
              "      <td>True</td>\n",
              "      <td>3</td>\n",
              "      <td>A fun, fast paced science fiction thriller. I ...</td>\n",
              "      <td>Tue Nov 15 11:29:22 -0800 2016</td>\n",
              "      <td>Mon Mar 20 23:40:27 -0700 2017</td>\n",
              "      <td>Sat Mar 18 23:22:42 -0700 2017</td>\n",
              "      <td>Fri Mar 17 23:45:40 -0700 2017</td>\n",
              "    </tr>\n",
              "  </tbody>\n",
              "</table>\n",
              "</div>"
            ],
            "text/plain": [
              "                            user_id   book_id  \\\n",
              "0  8842281e1d1347389f2ab93d60773d4d   6392944   \n",
              "1  8842281e1d1347389f2ab93d60773d4d   2279538   \n",
              "2  8842281e1d1347389f2ab93d60773d4d  20821043   \n",
              "3  8842281e1d1347389f2ab93d60773d4d  31184479   \n",
              "4  8842281e1d1347389f2ab93d60773d4d  28684704   \n",
              "\n",
              "                          review_id  is_read  rating  \\\n",
              "0  5e212a62bced17b4dbe41150e5bb9037     True       3   \n",
              "1  556e9e3f00fb5b7e4eaa116764b771b0    False       0   \n",
              "2  4b15f8a08f04a17f9a47f2b76fec21e5    False       0   \n",
              "3  0b9fc382ad38c5804ec46df84d66be6e    False       0   \n",
              "4  2ede853b14dc4583f96cf5d120af636f     True       3   \n",
              "\n",
              "                              review_text_incomplete  \\\n",
              "0  I haven't read a fun mystery book in a while a...   \n",
              "1                                                      \n",
              "2                                                      \n",
              "3                                                      \n",
              "4  A fun, fast paced science fiction thriller. I ...   \n",
              "\n",
              "                       date_added                    date_updated  \\\n",
              "0  Mon Jul 24 02:48:17 -0700 2017  Sun Jul 30 09:28:03 -0700 2017   \n",
              "1  Wed Mar 29 00:27:14 -0700 2017  Wed Mar 29 00:27:14 -0700 2017   \n",
              "2  Mon Mar 27 22:52:11 -0700 2017  Mon Mar 27 22:52:12 -0700 2017   \n",
              "3  Fri Jan 06 16:22:46 -0800 2017  Fri Jan 06 16:22:46 -0800 2017   \n",
              "4  Tue Nov 15 11:29:22 -0800 2016  Mon Mar 20 23:40:27 -0700 2017   \n",
              "\n",
              "                          read_at                      started_at  \n",
              "0  Tue Jul 25 00:00:00 -0700 2017  Mon Jul 24 00:00:00 -0700 2017  \n",
              "1                                                                  \n",
              "2                                                                  \n",
              "3                                                                  \n",
              "4  Sat Mar 18 23:22:42 -0700 2017  Fri Mar 17 23:45:40 -0700 2017  "
            ]
          },
          "metadata": {
            "tags": []
          },
          "execution_count": 71
        }
      ]
    },
    {
      "cell_type": "markdown",
      "metadata": {
        "id": "w9RKc8G9X_GU",
        "colab_type": "text"
      },
      "source": [
        "---\n",
        "\n",
        "### Wrangling and Exploration\n",
        "\n",
        "* Dealing with null values\n",
        "* Based on how the data will be used, what transformations should be done?"
      ]
    },
    {
      "cell_type": "markdown",
      "metadata": {
        "id": "0NE1ZUfejF1L",
        "colab_type": "text"
      },
      "source": [
        "#### Data types and conversions\n",
        "\n",
        "The timestamp columns did not get read in correctly. If they are to be used, they'll have to be converted.\n",
        "\n",
        "However, I'm going to be ignoring the timestamp columns for now."
      ]
    },
    {
      "cell_type": "code",
      "metadata": {
        "id": "eHcHtdA5nNPz",
        "colab_type": "code",
        "colab": {}
      },
      "source": [
        "# === Convert 0s to NaN in OG dataset === #\n"
      ],
      "execution_count": null,
      "outputs": []
    },
    {
      "cell_type": "code",
      "metadata": {
        "id": "4OP9O1bdopzk",
        "colab_type": "code",
        "colab": {
          "base_uri": "https://localhost:8080/",
          "height": 206
        },
        "outputId": "c9a431f8-5b04-4ec0-d257-0c756e0b1894"
      },
      "source": [
        "# === Clean unused columns === #\n",
        "inters = inters[[\"user_id\", \"book_id\", \"rating\"]].copy()\n",
        "inters.head()"
      ],
      "execution_count": 72,
      "outputs": [
        {
          "output_type": "execute_result",
          "data": {
            "text/html": [
              "<div>\n",
              "<style scoped>\n",
              "    .dataframe tbody tr th:only-of-type {\n",
              "        vertical-align: middle;\n",
              "    }\n",
              "\n",
              "    .dataframe tbody tr th {\n",
              "        vertical-align: top;\n",
              "    }\n",
              "\n",
              "    .dataframe thead th {\n",
              "        text-align: right;\n",
              "    }\n",
              "</style>\n",
              "<table border=\"1\" class=\"dataframe\">\n",
              "  <thead>\n",
              "    <tr style=\"text-align: right;\">\n",
              "      <th></th>\n",
              "      <th>user_id</th>\n",
              "      <th>book_id</th>\n",
              "      <th>rating</th>\n",
              "    </tr>\n",
              "  </thead>\n",
              "  <tbody>\n",
              "    <tr>\n",
              "      <th>0</th>\n",
              "      <td>8842281e1d1347389f2ab93d60773d4d</td>\n",
              "      <td>6392944</td>\n",
              "      <td>3</td>\n",
              "    </tr>\n",
              "    <tr>\n",
              "      <th>1</th>\n",
              "      <td>8842281e1d1347389f2ab93d60773d4d</td>\n",
              "      <td>2279538</td>\n",
              "      <td>0</td>\n",
              "    </tr>\n",
              "    <tr>\n",
              "      <th>2</th>\n",
              "      <td>8842281e1d1347389f2ab93d60773d4d</td>\n",
              "      <td>20821043</td>\n",
              "      <td>0</td>\n",
              "    </tr>\n",
              "    <tr>\n",
              "      <th>3</th>\n",
              "      <td>8842281e1d1347389f2ab93d60773d4d</td>\n",
              "      <td>31184479</td>\n",
              "      <td>0</td>\n",
              "    </tr>\n",
              "    <tr>\n",
              "      <th>4</th>\n",
              "      <td>8842281e1d1347389f2ab93d60773d4d</td>\n",
              "      <td>28684704</td>\n",
              "      <td>3</td>\n",
              "    </tr>\n",
              "  </tbody>\n",
              "</table>\n",
              "</div>"
            ],
            "text/plain": [
              "                            user_id   book_id  rating\n",
              "0  8842281e1d1347389f2ab93d60773d4d   6392944       3\n",
              "1  8842281e1d1347389f2ab93d60773d4d   2279538       0\n",
              "2  8842281e1d1347389f2ab93d60773d4d  20821043       0\n",
              "3  8842281e1d1347389f2ab93d60773d4d  31184479       0\n",
              "4  8842281e1d1347389f2ab93d60773d4d  28684704       3"
            ]
          },
          "metadata": {
            "tags": []
          },
          "execution_count": 72
        }
      ]
    },
    {
      "cell_type": "code",
      "metadata": {
        "id": "AqoSHrYRog4o",
        "colab_type": "code",
        "colab": {
          "base_uri": "https://localhost:8080/",
          "height": 90
        },
        "outputId": "380f077e-4430-4153-b3d9-47d673ec9ff9"
      },
      "source": [
        "# === Data types === #\n",
        "inters.dtypes"
      ],
      "execution_count": 73,
      "outputs": [
        {
          "output_type": "execute_result",
          "data": {
            "text/plain": [
              "user_id    object\n",
              "book_id    object\n",
              "rating      int64\n",
              "dtype: object"
            ]
          },
          "metadata": {
            "tags": []
          },
          "execution_count": 73
        }
      ]
    },
    {
      "cell_type": "code",
      "metadata": {
        "id": "qTS3HWinWmNO",
        "colab_type": "code",
        "colab": {}
      },
      "source": [
        "# === Export this version of df to Drive === #\n",
        "import os\n",
        "data_path = \"/content/drive/My Drive/workshop/buildbox/likewise/assets/data\"\n",
        "data_file = \"interactions_mystery.csv\"\n",
        "data_full_path = os.path.join(data_path, data_file)\n",
        "inters.to_csv(data_full_path, index=False)"
      ],
      "execution_count": 74,
      "outputs": []
    },
    {
      "cell_type": "markdown",
      "metadata": {
        "id": "KnJEqAtl1BSd",
        "colab_type": "text"
      },
      "source": [
        "##### Clean up `book_id` and `user_id`"
      ]
    },
    {
      "cell_type": "code",
      "metadata": {
        "id": "UfFlxCvqX9Ir",
        "colab_type": "code",
        "colab": {}
      },
      "source": [
        "%%capture\n",
        "!pip install category-encoders"
      ],
      "execution_count": 10,
      "outputs": []
    },
    {
      "cell_type": "code",
      "metadata": {
        "id": "dv37o4ejWt66",
        "colab_type": "code",
        "colab": {}
      },
      "source": [
        "# === Simplify user_id and book_id encoding === #\n",
        "import category_encoders as ce\n",
        "\n",
        "oe1 = ce.OrdinalEncoder()\n",
        "oe2 = ce.OrdinalEncoder()\n",
        "inters[\"user_id\"] = oe1.fit_transform(inters[\"user_id\"])\n",
        "inters[\"book_id\"] = oe2.fit_transform(inters[\"book_id\"])\n",
        "\n",
        "# === Convert back to string === #\n",
        "inters[\"user_id\"] = inters[\"user_id\"].astype(\"str\")\n",
        "inters[\"book_id\"] = inters[\"book_id\"].astype(\"str\")"
      ],
      "execution_count": 11,
      "outputs": []
    },
    {
      "cell_type": "code",
      "metadata": {
        "id": "LzsTaF5vXrVn",
        "colab_type": "code",
        "colab": {
          "base_uri": "https://localhost:8080/",
          "height": 206
        },
        "outputId": "6a08e1c5-015c-48a3-f943-4aa23ddceaae"
      },
      "source": [
        "inters.head()"
      ],
      "execution_count": 13,
      "outputs": [
        {
          "output_type": "execute_result",
          "data": {
            "text/html": [
              "<div>\n",
              "<style scoped>\n",
              "    .dataframe tbody tr th:only-of-type {\n",
              "        vertical-align: middle;\n",
              "    }\n",
              "\n",
              "    .dataframe tbody tr th {\n",
              "        vertical-align: top;\n",
              "    }\n",
              "\n",
              "    .dataframe thead th {\n",
              "        text-align: right;\n",
              "    }\n",
              "</style>\n",
              "<table border=\"1\" class=\"dataframe\">\n",
              "  <thead>\n",
              "    <tr style=\"text-align: right;\">\n",
              "      <th></th>\n",
              "      <th>user_id</th>\n",
              "      <th>book_id</th>\n",
              "      <th>rating</th>\n",
              "    </tr>\n",
              "  </thead>\n",
              "  <tbody>\n",
              "    <tr>\n",
              "      <th>0</th>\n",
              "      <td>1</td>\n",
              "      <td>1</td>\n",
              "      <td>3</td>\n",
              "    </tr>\n",
              "    <tr>\n",
              "      <th>1</th>\n",
              "      <td>1</td>\n",
              "      <td>2</td>\n",
              "      <td>0</td>\n",
              "    </tr>\n",
              "    <tr>\n",
              "      <th>2</th>\n",
              "      <td>1</td>\n",
              "      <td>3</td>\n",
              "      <td>0</td>\n",
              "    </tr>\n",
              "    <tr>\n",
              "      <th>3</th>\n",
              "      <td>1</td>\n",
              "      <td>4</td>\n",
              "      <td>0</td>\n",
              "    </tr>\n",
              "    <tr>\n",
              "      <th>4</th>\n",
              "      <td>1</td>\n",
              "      <td>5</td>\n",
              "      <td>3</td>\n",
              "    </tr>\n",
              "  </tbody>\n",
              "</table>\n",
              "</div>"
            ],
            "text/plain": [
              "  user_id book_id  rating\n",
              "0       1       1       3\n",
              "1       1       2       0\n",
              "2       1       3       0\n",
              "3       1       4       0\n",
              "4       1       5       3"
            ]
          },
          "metadata": {
            "tags": []
          },
          "execution_count": 13
        }
      ]
    },
    {
      "cell_type": "code",
      "metadata": {
        "id": "f8S6CnsBSZMh",
        "colab_type": "code",
        "colab": {
          "base_uri": "https://localhost:8080/",
          "height": 206
        },
        "outputId": "426d9dda-14da-4213-dd73-5900fa4b94d6"
      },
      "source": [
        "# === Get user_id encoding === #\n",
        "user_id_mapping = pd.DataFrame(oe1.get_params()[\"mapping\"][0][\"mapping\"])\n",
        "user_id_mapping.head()"
      ],
      "execution_count": 37,
      "outputs": [
        {
          "output_type": "execute_result",
          "data": {
            "text/html": [
              "<div>\n",
              "<style scoped>\n",
              "    .dataframe tbody tr th:only-of-type {\n",
              "        vertical-align: middle;\n",
              "    }\n",
              "\n",
              "    .dataframe tbody tr th {\n",
              "        vertical-align: top;\n",
              "    }\n",
              "\n",
              "    .dataframe thead th {\n",
              "        text-align: right;\n",
              "    }\n",
              "</style>\n",
              "<table border=\"1\" class=\"dataframe\">\n",
              "  <thead>\n",
              "    <tr style=\"text-align: right;\">\n",
              "      <th></th>\n",
              "      <th>0</th>\n",
              "    </tr>\n",
              "  </thead>\n",
              "  <tbody>\n",
              "    <tr>\n",
              "      <th>8842281e1d1347389f2ab93d60773d4d</th>\n",
              "      <td>1</td>\n",
              "    </tr>\n",
              "    <tr>\n",
              "      <th>72fb0d0087d28c832f15776b0d936598</th>\n",
              "      <td>2</td>\n",
              "    </tr>\n",
              "    <tr>\n",
              "      <th>ab2923b738ea3082f5f3efcbbfacb218</th>\n",
              "      <td>3</td>\n",
              "    </tr>\n",
              "    <tr>\n",
              "      <th>d986f354a045ffb91234e4af4d1b12fd</th>\n",
              "      <td>4</td>\n",
              "    </tr>\n",
              "    <tr>\n",
              "      <th>7504b2aee1ecb5b2872d3da381c6c91e</th>\n",
              "      <td>5</td>\n",
              "    </tr>\n",
              "  </tbody>\n",
              "</table>\n",
              "</div>"
            ],
            "text/plain": [
              "                                  0\n",
              "8842281e1d1347389f2ab93d60773d4d  1\n",
              "72fb0d0087d28c832f15776b0d936598  2\n",
              "ab2923b738ea3082f5f3efcbbfacb218  3\n",
              "d986f354a045ffb91234e4af4d1b12fd  4\n",
              "7504b2aee1ecb5b2872d3da381c6c91e  5"
            ]
          },
          "metadata": {
            "tags": []
          },
          "execution_count": 37
        }
      ]
    },
    {
      "cell_type": "code",
      "metadata": {
        "id": "V_1lJs-JSled",
        "colab_type": "code",
        "colab": {
          "base_uri": "https://localhost:8080/",
          "height": 206
        },
        "outputId": "84b2fb93-a05d-4591-f5fe-660863128d24"
      },
      "source": [
        "# === Get book_id encoding === #\n",
        "book_id_mapping = pd.DataFrame(oe1.get_params()[\"mapping\"][0][\"mapping\"])\n",
        "book_id_mapping.head()"
      ],
      "execution_count": 36,
      "outputs": [
        {
          "output_type": "execute_result",
          "data": {
            "text/html": [
              "<div>\n",
              "<style scoped>\n",
              "    .dataframe tbody tr th:only-of-type {\n",
              "        vertical-align: middle;\n",
              "    }\n",
              "\n",
              "    .dataframe tbody tr th {\n",
              "        vertical-align: top;\n",
              "    }\n",
              "\n",
              "    .dataframe thead th {\n",
              "        text-align: right;\n",
              "    }\n",
              "</style>\n",
              "<table border=\"1\" class=\"dataframe\">\n",
              "  <thead>\n",
              "    <tr style=\"text-align: right;\">\n",
              "      <th></th>\n",
              "      <th>0</th>\n",
              "    </tr>\n",
              "  </thead>\n",
              "  <tbody>\n",
              "    <tr>\n",
              "      <th>8842281e1d1347389f2ab93d60773d4d</th>\n",
              "      <td>1</td>\n",
              "    </tr>\n",
              "    <tr>\n",
              "      <th>72fb0d0087d28c832f15776b0d936598</th>\n",
              "      <td>2</td>\n",
              "    </tr>\n",
              "    <tr>\n",
              "      <th>ab2923b738ea3082f5f3efcbbfacb218</th>\n",
              "      <td>3</td>\n",
              "    </tr>\n",
              "    <tr>\n",
              "      <th>d986f354a045ffb91234e4af4d1b12fd</th>\n",
              "      <td>4</td>\n",
              "    </tr>\n",
              "    <tr>\n",
              "      <th>7504b2aee1ecb5b2872d3da381c6c91e</th>\n",
              "      <td>5</td>\n",
              "    </tr>\n",
              "  </tbody>\n",
              "</table>\n",
              "</div>"
            ],
            "text/plain": [
              "                                  0\n",
              "8842281e1d1347389f2ab93d60773d4d  1\n",
              "72fb0d0087d28c832f15776b0d936598  2\n",
              "ab2923b738ea3082f5f3efcbbfacb218  3\n",
              "d986f354a045ffb91234e4af4d1b12fd  4\n",
              "7504b2aee1ecb5b2872d3da381c6c91e  5"
            ]
          },
          "metadata": {
            "tags": []
          },
          "execution_count": 36
        }
      ]
    },
    {
      "cell_type": "markdown",
      "metadata": {
        "id": "ntn0tiQYfMyL",
        "colab_type": "text"
      },
      "source": [
        "#### Basic descriptive statistics"
      ]
    },
    {
      "cell_type": "code",
      "metadata": {
        "id": "t7e8DVTPbBiT",
        "colab_type": "code",
        "colab": {
          "base_uri": "https://localhost:8080/",
          "height": 35
        },
        "outputId": "badad71e-08ee-4516-8a73-a97813129105"
      },
      "source": [
        "# Number of distinct users\n",
        "unique_users = set(item[\"user_id\"] for item in interactions)\n",
        "len(unique_users)"
      ],
      "execution_count": 38,
      "outputs": [
        {
          "output_type": "execute_result",
          "data": {
            "text/plain": [
              "1763"
            ]
          },
          "metadata": {
            "tags": []
          },
          "execution_count": 38
        }
      ]
    },
    {
      "cell_type": "code",
      "metadata": {
        "id": "HY8ptFXNjQkB",
        "colab_type": "code",
        "colab": {
          "base_uri": "https://localhost:8080/",
          "height": 35
        },
        "outputId": "b16bfc45-b731-4977-9d98-c211dd9d073b"
      },
      "source": [
        "# Number of distinct books\n",
        "unique_books = set(item[\"book_id\"] for item in interactions)\n",
        "len(unique_books)"
      ],
      "execution_count": 39,
      "outputs": [
        {
          "output_type": "execute_result",
          "data": {
            "text/plain": [
              "33000"
            ]
          },
          "metadata": {
            "tags": []
          },
          "execution_count": 39
        }
      ]
    },
    {
      "cell_type": "markdown",
      "metadata": {
        "id": "m67qbxE4iVDO",
        "colab_type": "text"
      },
      "source": [
        "The interaction matrix is extremely sparse."
      ]
    },
    {
      "cell_type": "code",
      "metadata": {
        "id": "1PxTltvLguLH",
        "colab_type": "code",
        "colab": {
          "base_uri": "https://localhost:8080/",
          "height": 109
        },
        "outputId": "5fef3d19-fb18-4595-b8ad-22bb764bd76b"
      },
      "source": [
        "# === Look at sparsity === #\n",
        "\n",
        "# Get df of 0-rated (not rated) books\n",
        "inters_zero = inters[inters[\"rating\"] == 0]\n",
        "print(inters_zero.shape)\n",
        "print(f\"Number of 0 ratings: {inters_zero.shape[0]}\")\n",
        "\n",
        "# Get df of rated books\n",
        "inters_rated = inters[inters[\"rating\"] > 0]\n",
        "print(inters_rated.shape)\n",
        "print(f\"Number of rated books: {inters_rated.shape[0]}\")\n",
        "\n",
        "# Calculate sparsity\n",
        "sparsity = 1 - len(inters) / (len(unique_users) * len(unique_books))\n",
        "print(\"Sparsity:\", sparsity)"
      ],
      "execution_count": 42,
      "outputs": [
        {
          "output_type": "stream",
          "text": [
            "(50471, 3)\n",
            "Number of 0 ratings: 50471\n",
            "(49529, 3)\n",
            "Number of rated books: 49529\n",
            "Sparsity: 0.9982811667440141\n"
          ],
          "name": "stdout"
        }
      ]
    },
    {
      "cell_type": "markdown",
      "metadata": {
        "id": "Hk566mk8ihTz",
        "colab_type": "text"
      },
      "source": [
        "The distribution of the ratings looks roughly normal, with a slight skew to the left."
      ]
    },
    {
      "cell_type": "code",
      "metadata": {
        "id": "ln6mHzD2gbwB",
        "colab_type": "code",
        "colab": {
          "base_uri": "https://localhost:8080/",
          "height": 295
        },
        "outputId": "e74f1b76-2c2d-4b0a-fbe3-b1a376eb46cf"
      },
      "source": [
        "# === Distribution of ratings of rated books === #\n",
        "# i.e. without the books with a rating of 0\n",
        "plt.hist(inters_rated['rating'], bins=5, ec='black')\n",
        "plt.xlabel('Rating')\n",
        "plt.ylabel('Count')\n",
        "plt.title('Distribution of Ratings in MovieLens 100K')\n",
        "plt.show()"
      ],
      "execution_count": 43,
      "outputs": [
        {
          "output_type": "display_data",
          "data": {
            "image/png": "[encoded data removed]",
            "text/plain": [
              "<Figure size 432x288 with 1 Axes>"
            ]
          },
          "metadata": {
            "tags": [],
            "needs_background": "light"
          }
        }
      ]
    },
    {
      "cell_type": "markdown",
      "metadata": {
        "id": "VTC42X_E1TG2",
        "colab_type": "text"
      },
      "source": [
        "Here's what a subset of it looks like as a crosstabulation, which makes it into a dense matrix."
      ]
    },
    {
      "cell_type": "code",
      "metadata": {
        "id": "i84BiJVKw9W2",
        "colab_type": "code",
        "colab": {
          "base_uri": "https://localhost:8080/",
          "height": 520
        },
        "outputId": "f177efc5-9bba-4c12-dd02-2270d5f0de7f"
      },
      "source": [
        "# === Create crosstab of users-books === #\n",
        "g=inters_rated.groupby(\"user_id\")[\"rating\"].count()\n",
        "topUsers=g.sort_values(ascending=False)[:15]\n",
        "\n",
        "g=inters_rated.groupby(\"book_id\")[\"rating\"].count()\n",
        "topMovies=g.sort_values(ascending=False)[:15]\n",
        "\n",
        "top_r = inters_rated.join(topUsers, rsuffix=\"_r\", how=\"inner\", on=\"user_id\")\n",
        "top_r = top_r.join(topMovies, rsuffix=\"_r\", how=\"inner\", on=\"book_id\")\n",
        "\n",
        "pd.crosstab(top_r[\"user_id\"], top_r[\"book_id\"], top_r[\"rating\"], aggfunc=np.sum)"
      ],
      "execution_count": 47,
      "outputs": [
        {
          "output_type": "execute_result",
          "data": {
            "text/html": [
              "<div>\n",
              "<style scoped>\n",
              "    .dataframe tbody tr th:only-of-type {\n",
              "        vertical-align: middle;\n",
              "    }\n",
              "\n",
              "    .dataframe tbody tr th {\n",
              "        vertical-align: top;\n",
              "    }\n",
              "\n",
              "    .dataframe thead th {\n",
              "        text-align: right;\n",
              "    }\n",
              "</style>\n",
              "<table border=\"1\" class=\"dataframe\">\n",
              "  <thead>\n",
              "    <tr style=\"text-align: right;\">\n",
              "      <th>book_id</th>\n",
              "      <th>1085</th>\n",
              "      <th>11</th>\n",
              "      <th>142</th>\n",
              "      <th>154</th>\n",
              "      <th>166</th>\n",
              "      <th>180</th>\n",
              "      <th>181</th>\n",
              "      <th>24</th>\n",
              "      <th>25</th>\n",
              "      <th>376</th>\n",
              "      <th>49</th>\n",
              "      <th>53</th>\n",
              "      <th>69</th>\n",
              "      <th>71</th>\n",
              "      <th>84</th>\n",
              "    </tr>\n",
              "    <tr>\n",
              "      <th>user_id</th>\n",
              "      <th></th>\n",
              "      <th></th>\n",
              "      <th></th>\n",
              "      <th></th>\n",
              "      <th></th>\n",
              "      <th></th>\n",
              "      <th></th>\n",
              "      <th></th>\n",
              "      <th></th>\n",
              "      <th></th>\n",
              "      <th></th>\n",
              "      <th></th>\n",
              "      <th></th>\n",
              "      <th></th>\n",
              "      <th></th>\n",
              "    </tr>\n",
              "  </thead>\n",
              "  <tbody>\n",
              "    <tr>\n",
              "      <th>1002</th>\n",
              "      <td>NaN</td>\n",
              "      <td>NaN</td>\n",
              "      <td>4.0</td>\n",
              "      <td>4.0</td>\n",
              "      <td>4.0</td>\n",
              "      <td>4.0</td>\n",
              "      <td>5.0</td>\n",
              "      <td>4.0</td>\n",
              "      <td>1.0</td>\n",
              "      <td>NaN</td>\n",
              "      <td>5.0</td>\n",
              "      <td>1.0</td>\n",
              "      <td>NaN</td>\n",
              "      <td>4.0</td>\n",
              "      <td>NaN</td>\n",
              "    </tr>\n",
              "    <tr>\n",
              "      <th>1253</th>\n",
              "      <td>NaN</td>\n",
              "      <td>5.0</td>\n",
              "      <td>NaN</td>\n",
              "      <td>5.0</td>\n",
              "      <td>NaN</td>\n",
              "      <td>5.0</td>\n",
              "      <td>5.0</td>\n",
              "      <td>NaN</td>\n",
              "      <td>NaN</td>\n",
              "      <td>NaN</td>\n",
              "      <td>5.0</td>\n",
              "      <td>NaN</td>\n",
              "      <td>NaN</td>\n",
              "      <td>NaN</td>\n",
              "      <td>NaN</td>\n",
              "    </tr>\n",
              "    <tr>\n",
              "      <th>1400</th>\n",
              "      <td>NaN</td>\n",
              "      <td>NaN</td>\n",
              "      <td>NaN</td>\n",
              "      <td>4.0</td>\n",
              "      <td>NaN</td>\n",
              "      <td>NaN</td>\n",
              "      <td>NaN</td>\n",
              "      <td>NaN</td>\n",
              "      <td>NaN</td>\n",
              "      <td>NaN</td>\n",
              "      <td>NaN</td>\n",
              "      <td>NaN</td>\n",
              "      <td>NaN</td>\n",
              "      <td>NaN</td>\n",
              "      <td>NaN</td>\n",
              "    </tr>\n",
              "    <tr>\n",
              "      <th>1568</th>\n",
              "      <td>NaN</td>\n",
              "      <td>NaN</td>\n",
              "      <td>NaN</td>\n",
              "      <td>NaN</td>\n",
              "      <td>NaN</td>\n",
              "      <td>5.0</td>\n",
              "      <td>5.0</td>\n",
              "      <td>NaN</td>\n",
              "      <td>NaN</td>\n",
              "      <td>3.0</td>\n",
              "      <td>5.0</td>\n",
              "      <td>NaN</td>\n",
              "      <td>NaN</td>\n",
              "      <td>NaN</td>\n",
              "      <td>NaN</td>\n",
              "    </tr>\n",
              "    <tr>\n",
              "      <th>266</th>\n",
              "      <td>4.0</td>\n",
              "      <td>NaN</td>\n",
              "      <td>4.0</td>\n",
              "      <td>NaN</td>\n",
              "      <td>NaN</td>\n",
              "      <td>5.0</td>\n",
              "      <td>5.0</td>\n",
              "      <td>NaN</td>\n",
              "      <td>3.0</td>\n",
              "      <td>NaN</td>\n",
              "      <td>5.0</td>\n",
              "      <td>4.0</td>\n",
              "      <td>NaN</td>\n",
              "      <td>4.0</td>\n",
              "      <td>4.0</td>\n",
              "    </tr>\n",
              "    <tr>\n",
              "      <th>314</th>\n",
              "      <td>NaN</td>\n",
              "      <td>4.0</td>\n",
              "      <td>4.0</td>\n",
              "      <td>4.0</td>\n",
              "      <td>4.0</td>\n",
              "      <td>4.0</td>\n",
              "      <td>4.0</td>\n",
              "      <td>NaN</td>\n",
              "      <td>NaN</td>\n",
              "      <td>NaN</td>\n",
              "      <td>4.0</td>\n",
              "      <td>NaN</td>\n",
              "      <td>NaN</td>\n",
              "      <td>NaN</td>\n",
              "      <td>NaN</td>\n",
              "    </tr>\n",
              "    <tr>\n",
              "      <th>368</th>\n",
              "      <td>3.0</td>\n",
              "      <td>NaN</td>\n",
              "      <td>NaN</td>\n",
              "      <td>NaN</td>\n",
              "      <td>NaN</td>\n",
              "      <td>4.0</td>\n",
              "      <td>4.0</td>\n",
              "      <td>NaN</td>\n",
              "      <td>4.0</td>\n",
              "      <td>4.0</td>\n",
              "      <td>4.0</td>\n",
              "      <td>4.0</td>\n",
              "      <td>NaN</td>\n",
              "      <td>3.0</td>\n",
              "      <td>NaN</td>\n",
              "    </tr>\n",
              "    <tr>\n",
              "      <th>482</th>\n",
              "      <td>5.0</td>\n",
              "      <td>5.0</td>\n",
              "      <td>5.0</td>\n",
              "      <td>NaN</td>\n",
              "      <td>NaN</td>\n",
              "      <td>5.0</td>\n",
              "      <td>5.0</td>\n",
              "      <td>3.0</td>\n",
              "      <td>NaN</td>\n",
              "      <td>NaN</td>\n",
              "      <td>5.0</td>\n",
              "      <td>NaN</td>\n",
              "      <td>4.0</td>\n",
              "      <td>5.0</td>\n",
              "      <td>5.0</td>\n",
              "    </tr>\n",
              "    <tr>\n",
              "      <th>518</th>\n",
              "      <td>NaN</td>\n",
              "      <td>NaN</td>\n",
              "      <td>1.0</td>\n",
              "      <td>NaN</td>\n",
              "      <td>NaN</td>\n",
              "      <td>NaN</td>\n",
              "      <td>NaN</td>\n",
              "      <td>NaN</td>\n",
              "      <td>NaN</td>\n",
              "      <td>3.0</td>\n",
              "      <td>NaN</td>\n",
              "      <td>NaN</td>\n",
              "      <td>NaN</td>\n",
              "      <td>NaN</td>\n",
              "      <td>NaN</td>\n",
              "    </tr>\n",
              "    <tr>\n",
              "      <th>632</th>\n",
              "      <td>NaN</td>\n",
              "      <td>NaN</td>\n",
              "      <td>3.0</td>\n",
              "      <td>NaN</td>\n",
              "      <td>4.0</td>\n",
              "      <td>4.0</td>\n",
              "      <td>4.0</td>\n",
              "      <td>2.0</td>\n",
              "      <td>1.0</td>\n",
              "      <td>4.0</td>\n",
              "      <td>4.0</td>\n",
              "      <td>NaN</td>\n",
              "      <td>NaN</td>\n",
              "      <td>2.0</td>\n",
              "      <td>3.0</td>\n",
              "    </tr>\n",
              "    <tr>\n",
              "      <th>730</th>\n",
              "      <td>5.0</td>\n",
              "      <td>NaN</td>\n",
              "      <td>5.0</td>\n",
              "      <td>1.0</td>\n",
              "      <td>NaN</td>\n",
              "      <td>5.0</td>\n",
              "      <td>5.0</td>\n",
              "      <td>NaN</td>\n",
              "      <td>NaN</td>\n",
              "      <td>NaN</td>\n",
              "      <td>5.0</td>\n",
              "      <td>5.0</td>\n",
              "      <td>NaN</td>\n",
              "      <td>5.0</td>\n",
              "      <td>4.0</td>\n",
              "    </tr>\n",
              "    <tr>\n",
              "      <th>759</th>\n",
              "      <td>NaN</td>\n",
              "      <td>4.0</td>\n",
              "      <td>NaN</td>\n",
              "      <td>4.0</td>\n",
              "      <td>3.0</td>\n",
              "      <td>4.0</td>\n",
              "      <td>3.0</td>\n",
              "      <td>3.0</td>\n",
              "      <td>NaN</td>\n",
              "      <td>5.0</td>\n",
              "      <td>NaN</td>\n",
              "      <td>3.0</td>\n",
              "      <td>NaN</td>\n",
              "      <td>NaN</td>\n",
              "      <td>NaN</td>\n",
              "    </tr>\n",
              "    <tr>\n",
              "      <th>796</th>\n",
              "      <td>NaN</td>\n",
              "      <td>5.0</td>\n",
              "      <td>5.0</td>\n",
              "      <td>NaN</td>\n",
              "      <td>NaN</td>\n",
              "      <td>5.0</td>\n",
              "      <td>5.0</td>\n",
              "      <td>5.0</td>\n",
              "      <td>5.0</td>\n",
              "      <td>4.0</td>\n",
              "      <td>NaN</td>\n",
              "      <td>5.0</td>\n",
              "      <td>NaN</td>\n",
              "      <td>5.0</td>\n",
              "      <td>5.0</td>\n",
              "    </tr>\n",
              "    <tr>\n",
              "      <th>947</th>\n",
              "      <td>NaN</td>\n",
              "      <td>NaN</td>\n",
              "      <td>NaN</td>\n",
              "      <td>2.0</td>\n",
              "      <td>NaN</td>\n",
              "      <td>NaN</td>\n",
              "      <td>NaN</td>\n",
              "      <td>NaN</td>\n",
              "      <td>NaN</td>\n",
              "      <td>NaN</td>\n",
              "      <td>NaN</td>\n",
              "      <td>NaN</td>\n",
              "      <td>NaN</td>\n",
              "      <td>NaN</td>\n",
              "      <td>NaN</td>\n",
              "    </tr>\n",
              "  </tbody>\n",
              "</table>\n",
              "</div>"
            ],
            "text/plain": [
              "book_id  1085   11  142  154  166  180  181   24   25  376   49   53   69  \\\n",
              "user_id                                                                     \n",
              "1002      NaN  NaN  4.0  4.0  4.0  4.0  5.0  4.0  1.0  NaN  5.0  1.0  NaN   \n",
              "1253      NaN  5.0  NaN  5.0  NaN  5.0  5.0  NaN  NaN  NaN  5.0  NaN  NaN   \n",
              "1400      NaN  NaN  NaN  4.0  NaN  NaN  NaN  NaN  NaN  NaN  NaN  NaN  NaN   \n",
              "1568      NaN  NaN  NaN  NaN  NaN  5.0  5.0  NaN  NaN  3.0  5.0  NaN  NaN   \n",
              "266       4.0  NaN  4.0  NaN  NaN  5.0  5.0  NaN  3.0  NaN  5.0  4.0  NaN   \n",
              "314       NaN  4.0  4.0  4.0  4.0  4.0  4.0  NaN  NaN  NaN  4.0  NaN  NaN   \n",
              "368       3.0  NaN  NaN  NaN  NaN  4.0  4.0  NaN  4.0  4.0  4.0  4.0  NaN   \n",
              "482       5.0  5.0  5.0  NaN  NaN  5.0  5.0  3.0  NaN  NaN  5.0  NaN  4.0   \n",
              "518       NaN  NaN  1.0  NaN  NaN  NaN  NaN  NaN  NaN  3.0  NaN  NaN  NaN   \n",
              "632       NaN  NaN  3.0  NaN  4.0  4.0  4.0  2.0  1.0  4.0  4.0  NaN  NaN   \n",
              "730       5.0  NaN  5.0  1.0  NaN  5.0  5.0  NaN  NaN  NaN  5.0  5.0  NaN   \n",
              "759       NaN  4.0  NaN  4.0  3.0  4.0  3.0  3.0  NaN  5.0  NaN  3.0  NaN   \n",
              "796       NaN  5.0  5.0  NaN  NaN  5.0  5.0  5.0  5.0  4.0  NaN  5.0  NaN   \n",
              "947       NaN  NaN  NaN  2.0  NaN  NaN  NaN  NaN  NaN  NaN  NaN  NaN  NaN   \n",
              "\n",
              "book_id   71   84  \n",
              "user_id            \n",
              "1002     4.0  NaN  \n",
              "1253     NaN  NaN  \n",
              "1400     NaN  NaN  \n",
              "1568     NaN  NaN  \n",
              "266      4.0  4.0  \n",
              "314      NaN  NaN  \n",
              "368      3.0  NaN  \n",
              "482      5.0  5.0  \n",
              "518      NaN  NaN  \n",
              "632      2.0  3.0  \n",
              "730      5.0  4.0  \n",
              "759      NaN  NaN  \n",
              "796      5.0  5.0  \n",
              "947      NaN  NaN  "
            ]
          },
          "metadata": {
            "tags": []
          },
          "execution_count": 47
        }
      ]
    },
    {
      "cell_type": "markdown",
      "metadata": {
        "id": "bwx3pzPKZhkl",
        "colab_type": "text"
      },
      "source": [
        "---\n",
        "---\n",
        "\n",
        "## Modeling\n",
        "\n",
        "For this model, I'll be using the FastAI collaborative filtering algorithm(s).\n",
        "\n",
        "Resources:\n",
        "\n",
        "* [fastai.collab](https://docs.fast.ai/collab.html)\n",
        "* [movielens recommender example](https://github.com/microsoft/recommenders/blob/master/notebooks/00_quick_start/fastai_movielens.ipynb)"
      ]
    },
    {
      "cell_type": "code",
      "metadata": {
        "id": "Uc-CYJyXX_FM",
        "colab_type": "code",
        "colab": {}
      },
      "source": [
        "# === First, train on rated books only === #\n",
        "rating_range = [1, 5]\n",
        "\n",
        "# Create databunch\n",
        "data = CollabDataBunch.from_df(\n",
        "    inters_rated,\n",
        "    user_name=\"user_id\",\n",
        "    item_name=\"book_id\",\n",
        "    rating_name=\"rating\",\n",
        "    valid_pct=0.2,\n",
        "    seed=92\n",
        ")\n",
        "\n",
        "# === Instantiate learner === #\n",
        "learn = collab_learner(data, n_factors=50, y_range=rating_range)\n",
        "learn.model"
      ],
      "execution_count": 50,
      "outputs": []
    },
    {
      "cell_type": "code",
      "metadata": {
        "id": "AME9RP91V_uQ",
        "colab_type": "code",
        "colab": {
          "base_uri": "https://localhost:8080/",
          "height": 206
        },
        "outputId": "e1b178c2-9875-495b-af91-6565e2dbcef9"
      },
      "source": [
        "data.show_batch()"
      ],
      "execution_count": 51,
      "outputs": [
        {
          "output_type": "display_data",
          "data": {
            "text/html": [
              "<table border=\"1\" class=\"dataframe\">\n",
              "  <thead>\n",
              "    <tr style=\"text-align: right;\">\n",
              "      <th>user_id</th>\n",
              "      <th>book_id</th>\n",
              "      <th>target</th>\n",
              "    </tr>\n",
              "  </thead>\n",
              "  <tbody>\n",
              "    <tr>\n",
              "      <td>82</td>\n",
              "      <td>51</td>\n",
              "      <td>4.0</td>\n",
              "    </tr>\n",
              "    <tr>\n",
              "      <td>1761</td>\n",
              "      <td>8945</td>\n",
              "      <td>2.0</td>\n",
              "    </tr>\n",
              "    <tr>\n",
              "      <td>779</td>\n",
              "      <td>13588</td>\n",
              "      <td>3.0</td>\n",
              "    </tr>\n",
              "    <tr>\n",
              "      <td>1627</td>\n",
              "      <td>22778</td>\n",
              "      <td>5.0</td>\n",
              "    </tr>\n",
              "    <tr>\n",
              "      <td>1720</td>\n",
              "      <td>3098</td>\n",
              "      <td>4.0</td>\n",
              "    </tr>\n",
              "  </tbody>\n",
              "</table>"
            ],
            "text/plain": [
              "<IPython.core.display.HTML object>"
            ]
          },
          "metadata": {
            "tags": []
          }
        }
      ]
    },
    {
      "cell_type": "code",
      "metadata": {
        "id": "oJ0Jpl6cak9T",
        "colab_type": "code",
        "colab": {
          "base_uri": "https://localhost:8080/",
          "height": 206
        },
        "outputId": "724eb10b-4d73-4612-8dce-9950066c73d5"
      },
      "source": [
        "# === Train! === #\n",
        "learn.fit_one_cycle(5, 5e-3)"
      ],
      "execution_count": 53,
      "outputs": [
        {
          "output_type": "display_data",
          "data": {
            "text/html": [
              "<table border=\"1\" class=\"dataframe\">\n",
              "  <thead>\n",
              "    <tr style=\"text-align: left;\">\n",
              "      <th>epoch</th>\n",
              "      <th>train_loss</th>\n",
              "      <th>valid_loss</th>\n",
              "      <th>time</th>\n",
              "    </tr>\n",
              "  </thead>\n",
              "  <tbody>\n",
              "    <tr>\n",
              "      <td>0</td>\n",
              "      <td>1.123155</td>\n",
              "      <td>1.084469</td>\n",
              "      <td>00:10</td>\n",
              "    </tr>\n",
              "    <tr>\n",
              "      <td>1</td>\n",
              "      <td>0.634403</td>\n",
              "      <td>0.753151</td>\n",
              "      <td>00:12</td>\n",
              "    </tr>\n",
              "    <tr>\n",
              "      <td>2</td>\n",
              "      <td>0.298588</td>\n",
              "      <td>0.739403</td>\n",
              "      <td>00:12</td>\n",
              "    </tr>\n",
              "    <tr>\n",
              "      <td>3</td>\n",
              "      <td>0.128401</td>\n",
              "      <td>0.741949</td>\n",
              "      <td>00:11</td>\n",
              "    </tr>\n",
              "    <tr>\n",
              "      <td>4</td>\n",
              "      <td>0.073346</td>\n",
              "      <td>0.742687</td>\n",
              "      <td>00:10</td>\n",
              "    </tr>\n",
              "  </tbody>\n",
              "</table>"
            ],
            "text/plain": [
              "<IPython.core.display.HTML object>"
            ]
          },
          "metadata": {
            "tags": []
          }
        }
      ]
    },
    {
      "cell_type": "code",
      "metadata": {
        "id": "Sh5WErztatz1",
        "colab_type": "code",
        "colab": {}
      },
      "source": [
        "# === Export trained model === #\n",
        "learn.export(\"/content/drive/My Drive/workshop/buildbox/likewise/assets/models/01_likewise.pkl\")"
      ],
      "execution_count": 59,
      "outputs": []
    },
    {
      "cell_type": "markdown",
      "metadata": {
        "id": "RRWxc3UuYJb4",
        "colab_type": "text"
      },
      "source": [
        "---\n",
        "\n",
        "## Generate Recommendations"
      ]
    },
    {
      "cell_type": "code",
      "metadata": {
        "id": "X1t43KinX_01",
        "colab_type": "code",
        "colab": {}
      },
      "source": [
        "# === Import the model from file === #\n",
        "learner = load_learner(\n",
        "    path=\"/content/drive/My Drive/workshop/buildbox/likewise/assets/models/\",\n",
        "    file=\"01_likewise.pkl\",\n",
        ")"
      ],
      "execution_count": 60,
      "outputs": []
    },
    {
      "cell_type": "code",
      "metadata": {
        "id": "hEPV2i4bYkmT",
        "colab_type": "code",
        "colab": {
          "base_uri": "https://localhost:8080/",
          "height": 35
        },
        "outputId": "baace152-a5d0-4d6b-e341-0a95fef62c02"
      },
      "source": [
        "# === Get all users and items that the model knows === #\n",
        "total_users, total_items = learner.data.train_ds.x.classes.values()\n",
        "total_items = total_items[1:]\n",
        "total_users = total_users[1:]\n",
        "\n",
        "print(total_users.shape, total_items.shape)"
      ],
      "execution_count": 65,
      "outputs": [
        {
          "output_type": "stream",
          "text": [
            "(1613,) (15925,)\n"
          ],
          "name": "stdout"
        }
      ]
    },
    {
      "cell_type": "code",
      "metadata": {
        "id": "Fh9aZQOPZXdM",
        "colab_type": "code",
        "colab": {}
      },
      "source": [
        "# Get all users from the test set and remove any users\n",
        "# that were know in the training set\n",
        "\n",
        "test_users = test_df[USER].unique()\n",
        "test_users = np.intersect1d(test_users, total_users)"
      ],
      "execution_count": null,
      "outputs": []
    },
    {
      "cell_type": "code",
      "metadata": {
        "id": "DdWW90MAaIrb",
        "colab_type": "code",
        "colab": {}
      },
      "source": [
        "from itertools import product\n",
        "\n",
        "users_items = product(np.array(total_users), np.array(total_items))\n",
        "users_items = pd.DataFrame(users_items, columns=[\"user_id\", \"book_id\"])"
      ],
      "execution_count": 67,
      "outputs": []
    },
    {
      "cell_type": "code",
      "metadata": {
        "id": "a2E8C04LaSUr",
        "colab_type": "code",
        "colab": {
          "base_uri": "https://localhost:8080/",
          "height": 424
        },
        "outputId": "2bddaaca-444f-47d4-b457-5c0fae3769fe"
      },
      "source": [
        "users_items"
      ],
      "execution_count": 68,
      "outputs": [
        {
          "output_type": "execute_result",
          "data": {
            "text/html": [
              "<div>\n",
              "<style scoped>\n",
              "    .dataframe tbody tr th:only-of-type {\n",
              "        vertical-align: middle;\n",
              "    }\n",
              "\n",
              "    .dataframe tbody tr th {\n",
              "        vertical-align: top;\n",
              "    }\n",
              "\n",
              "    .dataframe thead th {\n",
              "        text-align: right;\n",
              "    }\n",
              "</style>\n",
              "<table border=\"1\" class=\"dataframe\">\n",
              "  <thead>\n",
              "    <tr style=\"text-align: right;\">\n",
              "      <th></th>\n",
              "      <th>user_id</th>\n",
              "      <th>book_id</th>\n",
              "    </tr>\n",
              "  </thead>\n",
              "  <tbody>\n",
              "    <tr>\n",
              "      <th>0</th>\n",
              "      <td>1</td>\n",
              "      <td>1</td>\n",
              "    </tr>\n",
              "    <tr>\n",
              "      <th>1</th>\n",
              "      <td>1</td>\n",
              "      <td>10</td>\n",
              "    </tr>\n",
              "    <tr>\n",
              "      <th>2</th>\n",
              "      <td>1</td>\n",
              "      <td>100</td>\n",
              "    </tr>\n",
              "    <tr>\n",
              "      <th>3</th>\n",
              "      <td>1</td>\n",
              "      <td>1000</td>\n",
              "    </tr>\n",
              "    <tr>\n",
              "      <th>4</th>\n",
              "      <td>1</td>\n",
              "      <td>10001</td>\n",
              "    </tr>\n",
              "    <tr>\n",
              "      <th>...</th>\n",
              "      <td>...</td>\n",
              "      <td>...</td>\n",
              "    </tr>\n",
              "    <tr>\n",
              "      <th>25687020</th>\n",
              "      <td>999</td>\n",
              "      <td>9990</td>\n",
              "    </tr>\n",
              "    <tr>\n",
              "      <th>25687021</th>\n",
              "      <td>999</td>\n",
              "      <td>9992</td>\n",
              "    </tr>\n",
              "    <tr>\n",
              "      <th>25687022</th>\n",
              "      <td>999</td>\n",
              "      <td>9993</td>\n",
              "    </tr>\n",
              "    <tr>\n",
              "      <th>25687023</th>\n",
              "      <td>999</td>\n",
              "      <td>9996</td>\n",
              "    </tr>\n",
              "    <tr>\n",
              "      <th>25687024</th>\n",
              "      <td>999</td>\n",
              "      <td>9997</td>\n",
              "    </tr>\n",
              "  </tbody>\n",
              "</table>\n",
              "<p>25687025 rows × 2 columns</p>\n",
              "</div>"
            ],
            "text/plain": [
              "         user_id book_id\n",
              "0              1       1\n",
              "1              1      10\n",
              "2              1     100\n",
              "3              1    1000\n",
              "4              1   10001\n",
              "...          ...     ...\n",
              "25687020     999    9990\n",
              "25687021     999    9992\n",
              "25687022     999    9993\n",
              "25687023     999    9996\n",
              "25687024     999    9997\n",
              "\n",
              "[25687025 rows x 2 columns]"
            ]
          },
          "metadata": {
            "tags": []
          },
          "execution_count": 68
        }
      ]
    },
    {
      "cell_type": "markdown",
      "metadata": {
        "id": "ROkKGlT6bqi1",
        "colab_type": "text"
      },
      "source": [
        "My search for how to generate recommendations led me to looking at the [`score` function](https://github.com/microsoft/recommenders/blob/master/reco_utils/recommender/fastai/fastai_utils.py) in the reco_utils module, which is used in one of the notebooks I'm referencing [here](https://github.com/microsoft/recommenders/blob/master/notebooks/00_quick_start/fastai_movielens.ipynb).\n",
        "\n",
        "I copied the `score` function into the cell below to try and use some of it to write my own recommendation function."
      ]
    },
    {
      "cell_type": "code",
      "metadata": {
        "id": "AfYiSNyBawMO",
        "colab_type": "code",
        "colab": {}
      },
      "source": [
        "def score(\n",
        "    learner,\n",
        "    test_df,\n",
        "    user_col=cc.DEFAULT_USER_COL,\n",
        "    item_col=cc.DEFAULT_ITEM_COL,\n",
        "    prediction_col=cc.DEFAULT_PREDICTION_COL,\n",
        "    top_k=None,\n",
        "):\n",
        "    \"\"\"Score all users+items provided and reduce to top_k items per user if top_k>0\n",
        "    \n",
        "    Args:\n",
        "        learner (obj): Model.\n",
        "        test_df (pd.DataFrame): Test dataframe.\n",
        "        user_col (str): User column name.\n",
        "        item_col (str): Item column name.\n",
        "        prediction_col (str): Prediction column name.\n",
        "        top_k (int): Number of top items to recommend.\n",
        "    Returns:\n",
        "        pd.DataFrame: Result of recommendation \n",
        "    \"\"\"\n",
        "    # replace values not known to the model with NaN\n",
        "    total_users, total_items = learner.data.train_ds.x.classes.values()\n",
        "    test_df.loc[~test_df[user_col].isin(total_users), user_col] = np.nan\n",
        "    test_df.loc[~test_df[item_col].isin(total_items), item_col] = np.nan\n",
        "\n",
        "    # map ids to embedding ids\n",
        "    u = learner.get_idx(test_df[user_col], is_item=False)\n",
        "    m = learner.get_idx(test_df[item_col], is_item=True)\n",
        "\n",
        "    # score the pytorch model\n",
        "    pred = learner.model.forward(u, m)\n",
        "    scores = pd.DataFrame(\n",
        "        {user_col: test_df[user_col], item_col: test_df[item_col], prediction_col: pred}\n",
        "    )\n",
        "    scores = scores.sort_values([user_col, prediction_col], ascending=[True, False])\n",
        "    if top_k is not None:\n",
        "        top_scores = scores.groupby(user_col).head(top_k).reset_index(drop=True)\n",
        "    else:\n",
        "        top_scores = scores\n",
        "    return top_scores"
      ],
      "execution_count": null,
      "outputs": []
    }
  ]
}