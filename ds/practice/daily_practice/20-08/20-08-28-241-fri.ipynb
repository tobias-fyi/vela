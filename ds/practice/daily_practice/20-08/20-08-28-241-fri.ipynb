{
 "cells": [
  {
   "cell_type": "markdown",
   "metadata": {},
   "source": [
    "# 20-08-28: Daily Practice"
   ]
  },
  {
   "cell_type": "markdown",
   "metadata": {},
   "source": [
    "---\n",
    "---\n",
    "\n",
    "## Practices"
   ]
  },
  {
   "cell_type": "markdown",
   "metadata": {},
   "source": [
    "### Daily\n",
    "\n",
    "* [x] [Job Search](#2-Hour-Job-Search)\n",
    "  * [x] 2HJS progress\n",
    "  * [ ] Network\n",
    "  * [x] Social media\n",
    "* [ ] [Meta-data: read & write](#Meta-data:-reading-&-writing)\n",
    "* [ ] [Practice & learn](#Practice-&-learn)\n",
    "  * [ ] Data science and machine learning\n",
    "  * [ ] Algorithms, data structures, and brain teasers\n",
    "  * [ ] Interviewing, STAR storytelling"
   ]
  },
  {
   "cell_type": "markdown",
   "metadata": {},
   "source": [
    "### Weekly\n",
    "\n",
    "Vim command(s) to practice this week: select/manipulate between.\n",
    "\n",
    "* `vi<char>` to select between instances of `<char>`\n",
    "  * To delete inside (), exclusive: `di(`\n",
    "* `va<char>` to select between, including `<char>`\n",
    "  * To delete inside (), inclusive:`da(`"
   ]
  },
  {
   "cell_type": "markdown",
   "metadata": {},
   "source": [
    "---\n",
    "---\n",
    "\n",
    "## 2-Hour Job Search"
   ]
  },
  {
   "cell_type": "markdown",
   "metadata": {},
   "source": [
    "### Application\n",
    "\n",
    "Finished the cover letter for the application I started yesterday. Took longer than I'd expected/hoped, but I finished and am fairly happy with the result."
   ]
  },
  {
   "cell_type": "markdown",
   "metadata": {},
   "source": [
    "### Rhythm\n",
    "\n",
    "The last few days I've been getting back into a good rhythm and have felt my productivity increasing. I haven't been sending off as many applications as I should be. I will be using this new rhythm/schedule to start ramping up my applications again, and get faster by creating a better framework/template for cover letters. I've been spending way too long on cover letters. Once I get that down I'll be able to get my numbers up a lot."
   ]
  },
  {
   "cell_type": "markdown",
   "metadata": {},
   "source": []
  },
  {
   "cell_type": "markdown",
   "metadata": {},
   "source": []
  },
  {
   "cell_type": "markdown",
   "metadata": {},
   "source": [
    "---\n",
    "---\n",
    "\n",
    "## Meta-data: read & write"
   ]
  },
  {
   "cell_type": "markdown",
   "metadata": {},
   "source": [
    "### Yoga Pose Recognition\n",
    "\n",
    "While vetting some more images for a yoga pose recognition model I'm working on, I brainstormed a bit on some ideas to include in the accompanying blog post."
   ]
  },
  {
   "cell_type": "markdown",
   "metadata": {},
   "source": [
    "### print(fiction)\n",
    "\n",
    "I also finished syncing up a local jupyter notebook with the print(fiction) article on my portfolio, so I can recreate the article by converting the notebook directly. I will be doing the same with the rest of my existing articles as well."
   ]
  },
  {
   "cell_type": "markdown",
   "metadata": {},
   "source": [
    "---\n",
    "---\n",
    "\n",
    "## Practice & learn"
   ]
  },
  {
   "cell_type": "markdown",
   "metadata": {},
   "source": [
    "---\n",
    "\n",
    "### Data science and machine learning"
   ]
  },
  {
   "cell_type": "markdown",
   "metadata": {},
   "source": []
  },
  {
   "cell_type": "code",
   "execution_count": null,
   "metadata": {},
   "outputs": [],
   "source": []
  },
  {
   "cell_type": "markdown",
   "metadata": {},
   "source": [
    "---\n",
    "\n",
    "### Algorithms, data structures, and brain teasers"
   ]
  },
  {
   "cell_type": "markdown",
   "metadata": {},
   "source": []
  },
  {
   "cell_type": "code",
   "execution_count": null,
   "metadata": {},
   "outputs": [],
   "source": []
  },
  {
   "cell_type": "markdown",
   "metadata": {},
   "source": [
    "---\n",
    "\n",
    "### Interviewing and STAR storytelling"
   ]
  },
  {
   "cell_type": "markdown",
   "metadata": {},
   "source": [
    "This question was asked by: Reddit\n",
    "\n",
    "users table\n",
    "\n",
    "| column | \ttype |\n",
    "| -- | -- |\n",
    "| id | \tinteger |\n",
    "| created_at | \tdatetime |\n",
    "| username | \tstring |\n",
    "\n",
    "comments table\n",
    "\n",
    "| column | \ttype |\n",
    "| -- | -- |\n",
    "| id | \tinteger |\n",
    "| created_at | \tdatetime |\n",
    "| post_id | \tinteger |\n",
    "| user_id | \tinteger |\n",
    "| is_deleted | \tboolean |\n",
    "\n",
    "comment_votes table\n",
    "\n",
    "| column | \ttype |\n",
    "| -- | -- |\n",
    "| id | \tinteger |\n",
    "| created_at | \tdatetime |\n",
    "| user_id | \tinteger |\n",
    "| comment_id | \tinteger |\n",
    "| is_upvote | \tboolean |\n",
    "\n",
    "We're given three tables representing a forum of users and their comments on posts.\n",
    "\n",
    "Write a query to get the top ten users that got the most upvotes on their comments written in 2020. \n",
    "\n",
    "Note: Do not count deleted comments and upvotes by users on their own comments."
   ]
  },
  {
   "cell_type": "code",
   "execution_count": null,
   "metadata": {},
   "outputs": [],
   "source": []
  },
  {
   "cell_type": "code",
   "execution_count": null,
   "metadata": {},
   "outputs": [],
   "source": []
  },
  {
   "cell_type": "code",
   "execution_count": null,
   "metadata": {},
   "outputs": [],
   "source": []
  },
  {
   "cell_type": "markdown",
   "metadata": {},
   "source": []
  }
 ],
 "metadata": {
  "kernelspec": {
   "display_name": "Python 3.7.6 64-bit ('vela': pipenv)",
   "language": "python",
   "name": "python37664bitvelapipenvde09592071074af6a70ce3b1ce38af95"
  },
  "language_info": {
   "codemirror_mode": {
    "name": "ipython",
    "version": 3
   },
   "file_extension": ".py",
   "mimetype": "text/x-python",
   "name": "python",
   "nbconvert_exporter": "python",
   "pygments_lexer": "ipython3",
   "version": "3.7.6"
  }
 },
 "nbformat": 4,
 "nbformat_minor": 4
}
