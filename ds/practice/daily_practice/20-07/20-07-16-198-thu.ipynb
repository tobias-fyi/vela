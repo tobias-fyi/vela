{
 "cells": [
  {
   "cell_type": "markdown",
   "metadata": {},
   "source": [
    "# 20-07-16: Daily Practice"
   ]
  },
  {
   "cell_type": "markdown",
   "metadata": {},
   "source": [
    "---\n",
    "---\n",
    "\n",
    "## Daily practices\n",
    "\n",
    "* [x] [Meta-data: reading & writing](#Meta-data:-reading-&-writing)\n",
    "* [x] [Practice & learn](#Practice-&-learn)\n",
    "  * [x] Coding, algorithms & data structures\n",
    "  * [ ] Data science: access, manipulation, analysis, visualization\n",
    "  * [x] Engineering: SQL, PySpark, APIs, TDD, OOP\n",
    "  * [x] Machine learning: Scikit-learn, TensorFlow, PyTorch\n",
    "  * [x] Interview questions\n",
    "* [x] [2-Hour Job Search](#2-Hour-Job-Search)\n",
    "  * [ ] LAMP List\n",
    "  * [x] Networking\n",
    "  * [x] Social media"
   ]
  },
  {
   "cell_type": "markdown",
   "metadata": {},
   "source": [
    "---\n",
    "---\n",
    "\n",
    "## Practice & learn"
   ]
  },
  {
   "cell_type": "markdown",
   "metadata": {},
   "source": [
    "---\n",
    "\n",
    "### Coding, algorithms & data structures"
   ]
  },
  {
   "cell_type": "markdown",
   "metadata": {},
   "source": [
    "#### [Strings: Making Anagrams](https://www.hackerrank.com/challenges/ctci-making-anagrams/problem)\n",
    "\n",
    "Alice is taking a cryptography class and finding anagrams to be very useful. We consider two strings to be anagrams of each other if the first string's letters can be rearranged to form the second string. In other words, both strings must contain the same exact letters in the same exact frequency. For example, $bacdc$ and $dcbac$ are anagrams, but $bacdc$ and $dcbad$ are not.\n",
    "\n",
    "Alice decides on an encryption scheme involving two large strings where encryption is dependent on the minimum number of character deletions required to make the two strings anagrams. Can you help her find this number?\n",
    "\n",
    "Given two strings, $a$ and $b$, that may or may not be of the same length, determine the minimum number of character deletions required to make $a$ and $b$ anagrams. Any characters can be deleted from either of the strings.\n",
    "\n",
    "For example, if $a = cde$ and $b = dcf$, we can delete $e$ from string $a$ and $f$ from string $b$ so that both remaining strings are $cd$ and $dc$ which are anagrams."
   ]
  },
  {
   "cell_type": "code",
   "execution_count": 33,
   "metadata": {},
   "outputs": [],
   "source": [
    "# Complete the makeAnagram function below.\n",
    "def makeAnagram(a, b):\n",
    "    # Idea 1: Use a Counter to count the frequencies of the letters then calculate\n",
    "    # the minimum changes in those letters/freqs in order to make the counters equal\n",
    "    \n",
    "    # Idea 2: Loop through longer string (if equal, first one), if current letter is in\n",
    "    # other string, remove from both. Count the number of items after complete.\n",
    "    \n",
    "    pass"
   ]
  },
  {
   "cell_type": "code",
   "execution_count": 34,
   "metadata": {},
   "outputs": [
    {
     "name": "stdout",
     "output_type": "stream",
     "text": [
      "Counter({'b': 3, 'c': 2, 'd': 2, 's': 2, 'a': 1, 'o': 1})\n",
      "Counter({'d': 2, 'c': 2, 'b': 1, 'a': 1, 'v': 1})\n"
     ]
    }
   ],
   "source": [
    "# Idea 1: Counter\n",
    "from collections import Counter\n",
    "\n",
    "s1 = \"bacdcbssobd\"\n",
    "s2 = \"dcbacdv\"\n",
    "\n",
    "s1_count = Counter(s1)\n",
    "s2_count = Counter(s2)\n",
    "\n",
    "print(s1_count)\n",
    "print(s2_count)"
   ]
  },
  {
   "cell_type": "code",
   "execution_count": 35,
   "metadata": {},
   "outputs": [
    {
     "data": {
      "text/plain": [
       "0"
      ]
     },
     "execution_count": 35,
     "metadata": {},
     "output_type": "execute_result"
    }
   ],
   "source": [
    "# Doesn't throw KeyError, returns 0 instead\n",
    "s1_count[\"m\"]"
   ]
  },
  {
   "cell_type": "code",
   "execution_count": 36,
   "metadata": {},
   "outputs": [],
   "source": [
    "s3 = \"abcdef\"\n",
    "s4 = \"abcdef\"\n",
    "\n",
    "s3_count = Counter(s3)\n",
    "s4_count = Counter(s4)\n",
    "\n",
    "assert s3_count == s4_count"
   ]
  },
  {
   "cell_type": "code",
   "execution_count": 37,
   "metadata": {},
   "outputs": [],
   "source": [
    "# Loop through items in both counters\n",
    "for l, c in s1_count.items():\n",
    "    deletions = 0  # Deletion counter\n",
    "    # If item only exists in one, remove item, increment deletions by count\n",
    "    if s2_count[l] == 0:\n",
    "        s1_count\n",
    "# If item count is different, decrement higher one until equal\n",
    "# For each deletion, increment deletion counter\n",
    "# Return the deletion counter"
   ]
  },
  {
   "cell_type": "code",
   "execution_count": 38,
   "metadata": {},
   "outputs": [
    {
     "name": "stdout",
     "output_type": "stream",
     "text": [
      "['b', 's', 's', 'o', 'b']\n",
      "['v']\n"
     ]
    }
   ],
   "source": [
    "# === Idea 2 === #\n",
    "s1 = \"bacdcbssobd\"\n",
    "s2 = \"dcbacdv\"\n",
    "\n",
    "# Determine the longer string, to be looped\n",
    "long = None\n",
    "short = None\n",
    "if len(s1) >= len(s2):\n",
    "    long = list(s1)\n",
    "    short = list(s2)\n",
    "else:\n",
    "    long = list(s2)\n",
    "    short = list(s1)\n",
    "\n",
    "# Iterate in reverse to be sure it doesn't skip letters\n",
    "for l in long[::-1]:\n",
    "    # If letter is in other list, remove from both\n",
    "    if l in short:\n",
    "        long.remove(l)\n",
    "        short.remove(l)\n",
    "\n",
    "print(long)\n",
    "print(short)"
   ]
  },
  {
   "cell_type": "code",
   "execution_count": 39,
   "metadata": {},
   "outputs": [
    {
     "data": {
      "text/plain": [
       "True"
      ]
     },
     "execution_count": 39,
     "metadata": {},
     "output_type": "execute_result"
    }
   ],
   "source": [
    "lst1 = ['a', 'b', 's', 's', 'o', 'b', 'd']\n",
    "\"a\" in lst1"
   ]
  },
  {
   "cell_type": "code",
   "execution_count": 40,
   "metadata": {},
   "outputs": [
    {
     "name": "stdout",
     "output_type": "stream",
     "text": [
      "2\n",
      "4\n"
     ]
    }
   ],
   "source": [
    "def makeAnagram(a, b):\n",
    "    long = None\n",
    "    short = None\n",
    "    if len(a) >= len(b):\n",
    "        long = list(a)\n",
    "        short = list(b)\n",
    "    else:\n",
    "        long = list(b)\n",
    "        short = list(a)\n",
    "\n",
    "    for l in long[::-1]:\n",
    "        if l in short:\n",
    "            long.remove(l)\n",
    "            short.remove(l)\n",
    "    \n",
    "    return len(long) + len(short)\n",
    "\n",
    "print(makeAnagram(\"cde\", \"dcf\"))\n",
    "print(makeAnagram(\"cde\", \"abc\"))"
   ]
  },
  {
   "cell_type": "code",
   "execution_count": 41,
   "metadata": {},
   "outputs": [
    {
     "name": "stdout",
     "output_type": "stream",
     "text": [
      "substring not found\n"
     ]
    }
   ],
   "source": [
    "stri1 = \"abcdefg\"\n",
    "\n",
    "stri1.rindex(\"a\")\n",
    "try:\n",
    "    stri1.rindex(\"z\")\n",
    "except ValueError:\n",
    "    print(\"substring not found\")"
   ]
  },
  {
   "cell_type": "markdown",
   "metadata": {},
   "source": [
    "#### [2d Array - DS](https://www.hackerrank.com/challenges/2d-array/problem)\n",
    "\n",
    "The hourglass problem."
   ]
  },
  {
   "cell_type": "code",
   "execution_count": null,
   "metadata": {},
   "outputs": [],
   "source": [
    "# Complete the hourglassSum function below.\n",
    "def hourglassSum(arr):\n",
    "    # Idea 1: Iterate as for loop up to len(arr[0] - 3) and len(arr - 3)\n",
    "    # Idea 2: Iterate with while loop, using i - 3 to index rows\n",
    "    pass"
   ]
  },
  {
   "cell_type": "code",
   "execution_count": 42,
   "metadata": {},
   "outputs": [],
   "source": [
    "# Array to test\n",
    "arr1 = [\n",
    "    [1, 1, 1, 0, 0, 0],\n",
    "    [0, 1, 0, 0, 0, 0],\n",
    "    [1, 1, 1, 0, 0, 0],\n",
    "    [0, 0, 2, 4, 4, 0],\n",
    "    [0, 0, 0, 2, 0, 0],\n",
    "    [0, 0, 1, 2, 4, 0],\n",
    "]"
   ]
  },
  {
   "cell_type": "code",
   "execution_count": 49,
   "metadata": {},
   "outputs": [
    {
     "data": {
      "text/plain": [
       "19"
      ]
     },
     "execution_count": 49,
     "metadata": {},
     "output_type": "execute_result"
    }
   ],
   "source": [
    "# === Idea 1 === #\n",
    "sums = []\n",
    "for x in range(len(arr1[0]) - 2):\n",
    "    for y in range(len(arr1) - 2):\n",
    "        row1 = sum(arr1[y][x:x + 3])\n",
    "        row2 = arr1[y + 1][x + 1]\n",
    "        row3 = sum(arr1[y + 2][x:x + 3])\n",
    "        sums.append(row1 + row2 + row3)\n",
    "        \n",
    "max(sums)"
   ]
  },
  {
   "cell_type": "code",
   "execution_count": 50,
   "metadata": {},
   "outputs": [
    {
     "data": {
      "text/plain": [
       "19"
      ]
     },
     "execution_count": 50,
     "metadata": {},
     "output_type": "execute_result"
    }
   ],
   "source": [
    "# Another idea 1\n",
    "sums = 0\n",
    "for x in range(len(arr1[0]) - 2):\n",
    "    for y in range(len(arr1) - 2):\n",
    "        row1 = sum(arr1[y][x:x + 3])\n",
    "        row2 = arr1[y + 1][x + 1]\n",
    "        row3 = sum(arr1[y + 2][x:x + 3])\n",
    "        this_sum = row1 + row2 + row3\n",
    "        if this_sum > sums:\n",
    "            sums = this_sum\n",
    "        \n",
    "sums"
   ]
  },
  {
   "cell_type": "code",
   "execution_count": 51,
   "metadata": {},
   "outputs": [],
   "source": [
    "def hourglassSum(arr):\n",
    "    sums = []\n",
    "    for x in range(len(arr1[0]) - 2):\n",
    "        for y in range(len(arr1) - 2):\n",
    "            row1 = sum(arr1[y][x:x + 3])\n",
    "            row2 = arr1[y + 1][x + 1]\n",
    "            row3 = sum(arr1[y + 2][x:x + 3])\n",
    "            sums.append(row1 + row2 + row3)\n",
    "\n",
    "    return max(sums)"
   ]
  },
  {
   "cell_type": "code",
   "execution_count": 52,
   "metadata": {},
   "outputs": [
    {
     "data": {
      "text/plain": [
       "19"
      ]
     },
     "execution_count": 52,
     "metadata": {},
     "output_type": "execute_result"
    }
   ],
   "source": [
    "hourglassSum(arr1)"
   ]
  },
  {
   "cell_type": "markdown",
   "metadata": {},
   "source": [
    "---\n",
    "\n",
    "### Interview questions"
   ]
  },
  {
   "cell_type": "markdown",
   "metadata": {},
   "source": []
  },
  {
   "cell_type": "markdown",
   "metadata": {},
   "source": [
    "---\n",
    "\n",
    "### Data science"
   ]
  },
  {
   "cell_type": "code",
   "execution_count": null,
   "metadata": {},
   "outputs": [],
   "source": []
  },
  {
   "cell_type": "markdown",
   "metadata": {},
   "source": [
    "---\n",
    "\n",
    "### Engineering"
   ]
  },
  {
   "cell_type": "markdown",
   "metadata": {},
   "source": [
    "I did a fair amount of coding to finish up the blog post I'm working on. The gist of it is using a PyTorch image segmentation model, Detectron2, plus some other Python libraries, to automatically cut things out of an image and paste them onto other images. The Pawsome collage which is the example used to demonstrate the method in the blog post can be found below."
   ]
  },
  {
   "cell_type": "markdown",
   "metadata": {},
   "source": [
    "---\n",
    "\n",
    "### Machine learning"
   ]
  },
  {
   "cell_type": "markdown",
   "metadata": {},
   "source": [
    "Worked a bit with PyTorch today. I learned a little about the torch.Tensor class and how to use it."
   ]
  },
  {
   "cell_type": "markdown",
   "metadata": {},
   "source": [
    "---\n",
    "---\n",
    "\n",
    "## Meta-data: reading & writing"
   ]
  },
  {
   "cell_type": "markdown",
   "metadata": {},
   "source": [
    "### Blog Post: Automated Image Background Removal with Python\n",
    "\n",
    "I won't put the entirety of what I worked on today here, as it is a long notebook in its own right. However, here is the end result, created only using Python!\n",
    "\n",
    "I call it \"Paws\"."
   ]
  },
  {
   "cell_type": "markdown",
   "metadata": {
    "colab_type": "text",
    "id": "AS_ru4BYpADs"
   },
   "source": [
    "<img src=\"https://raw.githubusercontent.com/tobias-fyi/assetstash/master/visual/images/img_seg_bin_mask/06_paws.jpg\" width=300/>"
   ]
  },
  {
   "cell_type": "markdown",
   "metadata": {},
   "source": [
    "---\n",
    "\n",
    "### The Data Science Process\n",
    "\n",
    "Reading up, formulating, and synthesizing ideas about a framework for data science problem solving.\n",
    "\n",
    "#### Framework for Experimental Design\n",
    "\n",
    "1. Formulate the research question\n",
    "2. Identify variables: independent vs dependent\n",
    "3. Generate hypothesis\n",
    "4. Determine experimental design\n",
    "    * How am I going to test the hypothesis?\n",
    "    * What variables will be involved?\n",
    "5. Develop experimental task & procedure\n",
    "    * What algorithms and techniques best support the experiment design\n",
    "6. Detemine data manipulation & measurements\n",
    "7. Analyze results\n",
    "\n",
    "#### [5 Steps of a Data Science Project Lifecycle](https://tinyurl.com/5-steps-ds-lifecycle)\n",
    "\n",
    "This article goes through the \"OSEMN\" framework, which is pretty much what the title says: steps for a data science project. I'm looking for things more along the lines of experimental design, but I'll read through this anyways.\n",
    "\n",
    "1. Obtain - Gather data from relevant sources\n",
    "2. Scrub - Clean data to formats that humans and/or machines can understand\n",
    "3. Explore - Find significant patterns and trends using statistical methods\n",
    "4. Model - Construct models to predict and forecast\n",
    "5. Interpret - Put the results to good use\n",
    "\n",
    "Pretty straightforward. What I'm talking about with regards to experiment design goes deeper than this and includes steps like defining the problem and designing the experiment, along with the above steps.\n",
    "\n",
    "#### [The Data Science Process](https://www.kdnuggets.com/2016/03/data-science-process.html)\n",
    "\n",
    "1. Frame the problem\n",
    "    * By the end of this stage, have all of the information and context needed to solve the problem\n",
    "2. Collect the raw data needed for the problem\n",
    "    * Think through what data is needed and finding ways of getting that data\n",
    "3. Process the data for analysis\n",
    "    * Check for and fix missing or corrupted data, incorrect data types or formats, etc.\n",
    "4. Explore the data\n",
    "    * Once the data is clean, start playing with it!\n",
    "    * Prioritize looking for answers to questions relevant to the problem and that are likely to produce insights\n",
    "    * Look for patterns\n",
    "5. Perform in-depth analysis\n",
    "    * Apply statistical, mathematical, and technological knowledge\n",
    "    * Leverage data science tools\n",
    "    * Crunch the data and extract the insights\n",
    "6. Communicate results of the analysis\n",
    "    * Make the stakeholders understand why the insights are important\n",
    "    * Craft a compelling story that ties the data to their knowledge"
   ]
  },
  {
   "cell_type": "markdown",
   "metadata": {},
   "source": []
  },
  {
   "cell_type": "markdown",
   "metadata": {},
   "source": [
    "---\n",
    "---\n",
    "\n",
    "## 2-Hour Job Search"
   ]
  },
  {
   "cell_type": "markdown",
   "metadata": {},
   "source": [
    "Two informational interviews today that went really well. It was a blast talking to people in ML roles and/or working at companies doing/building rad ML things/products."
   ]
  },
  {
   "cell_type": "markdown",
   "metadata": {},
   "source": []
  },
  {
   "cell_type": "markdown",
   "metadata": {},
   "source": []
  },
  {
   "cell_type": "markdown",
   "metadata": {},
   "source": []
  },
  {
   "cell_type": "markdown",
   "metadata": {},
   "source": []
  },
  {
   "cell_type": "markdown",
   "metadata": {},
   "source": []
  },
  {
   "cell_type": "markdown",
   "metadata": {},
   "source": []
  },
  {
   "cell_type": "markdown",
   "metadata": {},
   "source": []
  }
 ],
 "metadata": {
  "kernelspec": {
   "display_name": "Python 3.7.6 64-bit ('vela': pipenv)",
   "language": "python",
   "name": "python37664bitvelapipenvde09592071074af6a70ce3b1ce38af95"
  },
  "language_info": {
   "codemirror_mode": {
    "name": "ipython",
    "version": 3
   },
   "file_extension": ".py",
   "mimetype": "text/x-python",
   "name": "python",
   "nbconvert_exporter": "python",
   "pygments_lexer": "ipython3",
   "version": "3.7.6"
  }
 },
 "nbformat": 4,
 "nbformat_minor": 4
}
