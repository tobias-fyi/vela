{
 "cells": [
  {
   "cell_type": "markdown",
   "id": "joint-acquisition",
   "metadata": {},
   "source": [
    "# 2021-05-13 Daily Practice\n",
    "\n",
    "- [x] Practice\n",
    "  - [ ] SQL\n",
    "  - [x] Algorithms\n",
    "  - [ ] Solve + Design\n",
    "- [ ] Learn\n",
    "- [ ] Write\n",
    "- [ ] Build"
   ]
  },
  {
   "cell_type": "markdown",
   "id": "flexible-vintage",
   "metadata": {},
   "source": [
    "---\n",
    "\n",
    "## Practice"
   ]
  },
  {
   "source": [
    "### Group Anagrams\n",
    "\n",
    "On [LeetCode](https://leetcode.com/problems/group-anagrams/)\n",
    "\n",
    "Given an array of strings `strs`, group the anagrams together. You can return the answer in any order.\n",
    "\n",
    "An Anagram is a word or phrase formed by rearranging the letters of a different word or phrase, typically using all the original letters exactly once.\n",
    "\n",
    "Example 1:\n",
    "\n",
    "    Input: strs = [\"eat\",\"tea\",\"tan\",\"ate\",\"nat\",\"bat\"]\n",
    "    Output: [[\"bat\"],[\"nat\",\"tan\"],[\"ate\",\"eat\",\"tea\"]]"
   ],
   "cell_type": "markdown",
   "metadata": {}
  },
  {
   "cell_type": "code",
   "execution_count": 17,
   "metadata": {},
   "outputs": [],
   "source": [
    "from typing import List\n",
    "\n",
    "class Solution:\n",
    "    def groupAnagrams(self, strs: List[str]) -> List[List[str]]:\n",
    "        # Words are anagrams if they are the same when their letters are sorted\n",
    "        og_map, ana_map = {}, {}\n",
    "\n",
    "        for s in strs:\n",
    "            og_map[s] = \"\".join(sorted(s))\n",
    "        \n",
    "        for s in og_map:\n",
    "            if og_map[s] not in ana_map:\n",
    "                ana_map[og_map[s]] = [s]\n",
    "            else:\n",
    "                ana_map[og_map[s]].append(s)\n",
    "        \n",
    "        return list(ana_map.values())"
   ]
  },
  {
   "cell_type": "code",
   "execution_count": 16,
   "metadata": {},
   "outputs": [
    {
     "output_type": "execute_result",
     "data": {
      "text/plain": [
       "[['eat', 'tea', 'ate'], ['tan', 'nat'], ['bat']]"
      ]
     },
     "metadata": {},
     "execution_count": 16
    }
   ],
   "source": [
    "strs = [\"eat\",\"tea\",\"tan\",\"ate\",\"nat\",\"bat\"]\n",
    "\n",
    "sol = Solution()\n",
    "sol.groupAnagrams(strs)"
   ]
  },
  {
   "cell_type": "code",
   "execution_count": 23,
   "metadata": {},
   "outputs": [],
   "source": [
    "class Solution:\n",
    "    def groupAnagrams(self, strs: List[str]) -> List[List[str]]:\n",
    "        # Words are anagrams if they are the same when their letters are sorted\n",
    "        og_map, ana_map = [], {}\n",
    "\n",
    "        for s in strs:\n",
    "            og_map.append((s, \"\".join(sorted(s))))\n",
    "        \n",
    "        for s in og_map:\n",
    "            if s[1] not in ana_map:\n",
    "                ana_map[s[1]] = [s[0]]\n",
    "            else:\n",
    "                ana_map[s[1]].append(s[0])\n",
    "        \n",
    "        return list(ana_map.values())"
   ]
  },
  {
   "cell_type": "code",
   "execution_count": 24,
   "metadata": {},
   "outputs": [
    {
     "output_type": "execute_result",
     "data": {
      "text/plain": [
       "[['', '']]"
      ]
     },
     "metadata": {},
     "execution_count": 24
    }
   ],
   "source": [
    "strs = [\"\", \"\"]\n",
    "\n",
    "sol = Solution()\n",
    "sol.groupAnagrams(strs)"
   ]
  },
  {
   "cell_type": "code",
   "execution_count": 18,
   "metadata": {},
   "outputs": [
    {
     "output_type": "execute_result",
     "data": {
      "text/plain": [
       "''"
      ]
     },
     "metadata": {},
     "execution_count": 18
    }
   ],
   "source": [
    "\"\".join(sorted(\"\"))"
   ]
  },
  {
   "source": [
    "### Rotate List\n",
    "\n",
    "On [LeetCode](https://leetcode.com/problems/rotate-list/)\n",
    "\n",
    "Given the head of a linked list, rotate the list to the right by k places."
   ],
   "cell_type": "markdown",
   "metadata": {}
  },
  {
   "cell_type": "code",
   "execution_count": 1,
   "metadata": {},
   "outputs": [],
   "source": [
    "class ListNode:\n",
    "    \"\"\"Definition for singly-linked list.\"\"\"\n",
    "\n",
    "    def __init__(self, val=0, next=None):\n",
    "        self.val = val\n",
    "        self.next = next"
   ]
  },
  {
   "cell_type": "code",
   "execution_count": null,
   "metadata": {},
   "outputs": [],
   "source": [
    "class Solution:\n",
    "    def rotateRight(self, head: ListNode, k: int) -> ListNode:\n",
    "        if head is None:\n",
    "            return None\n",
    "        if head.next is None:\n",
    "            return head\n",
    "        for i in range(k):\n",
    "            # For each k, traverse list while saving current node and previous node\n",
    "            cur_node = head\n",
    "            prev_node = None\n",
    "            while cur_node.next:\n",
    "                prev_node = cur_node\n",
    "                cur_node = cur_node.next\n",
    "            # When tail is reached (no next node)\n",
    "            prev_node.next = None  # Set prev.next to None (chop off tail)\n",
    "            cur_node.next = head  # Set old tail.next (cur_node.next) to head\n",
    "            head = cur_node  # Set new head to old tail\n",
    "        return head"
   ]
  },
  {
   "source": [
    "I came up with a solution (above) that works. But it isn't being accepted because of the test case when `k` is some crazy big number, the process times out. I gave myself 5 more mins (ended up being ~8) and managed to figure it out!\n",
    "\n",
    "The insight was that the number of rotations can be reduced to at most the length of the list, because if the list is rotated `len(list)` times, it will be the same list as when it started. I implemented a step that gets the list length, then only rotates it `k % length` times."
   ],
   "cell_type": "markdown",
   "metadata": {}
  },
  {
   "cell_type": "code",
   "execution_count": null,
   "metadata": {},
   "outputs": [],
   "source": [
    "class Solution:\n",
    "    def rotateRight(self, head: ListNode, k: int) -> ListNode:\n",
    "        if head is None:\n",
    "            return None\n",
    "        if head.next is None:\n",
    "            return head\n",
    "\n",
    "        # Find length of list; take k % length to determine \"real\" number of iterations\n",
    "        # Use that number as k in proceeding iterations\n",
    "        list_length = 1\n",
    "        cur_node = head\n",
    "        while cur_node.next:\n",
    "            list_length += 1\n",
    "            cur_node = cur_node.next\n",
    "        \n",
    "        for i in range(k % list_length):\n",
    "            # For each k, traverse list while saving current node and previous node\n",
    "            cur_node = head\n",
    "            prev_node = None\n",
    "            while cur_node.next:\n",
    "                prev_node = cur_node\n",
    "                cur_node = cur_node.next\n",
    "            # When tail is reached (no next node)\n",
    "            prev_node.next = None  # Set prev.next to None (chop off tail)\n",
    "            cur_node.next = head  # Set old tail.next (cur_node.next) to head\n",
    "            head = cur_node  # Set new head to old tail\n",
    "        return head"
   ]
  },
  {
   "cell_type": "code",
   "execution_count": 2,
   "metadata": {},
   "outputs": [
    {
     "output_type": "stream",
     "name": "stdout",
     "text": [
      "0\n"
     ]
    }
   ],
   "source": [
    "for i in range(1):\n",
    "    print(i)"
   ]
  },
  {
   "cell_type": "code",
   "execution_count": 4,
   "metadata": {},
   "outputs": [
    {
     "output_type": "execute_result",
     "data": {
      "text/plain": [
       "2"
      ]
     },
     "metadata": {},
     "execution_count": 4
    }
   ],
   "source": [
    "2000000000 % 3"
   ]
  },
  {
   "cell_type": "code",
   "execution_count": 5,
   "metadata": {},
   "outputs": [
    {
     "output_type": "execute_result",
     "data": {
      "text/plain": [
       "1"
      ]
     },
     "metadata": {},
     "execution_count": 5
    }
   ],
   "source": [
    "1 % 3"
   ]
  },
  {
   "cell_type": "code",
   "execution_count": null,
   "metadata": {},
   "outputs": [],
   "source": []
  }
 ],
 "metadata": {
  "kernelspec": {
   "name": "python37664bitvelapipenvde09592071074af6a70ce3b1ce38af95",
   "display_name": "Python 3.7.6 64-bit ('vela-_qIiF1eP': pipenv)"
  },
  "language_info": {
   "codemirror_mode": {
    "name": "ipython",
    "version": 3
   },
   "file_extension": ".py",
   "mimetype": "text/x-python",
   "name": "python",
   "nbconvert_exporter": "python",
   "pygments_lexer": "ipython3",
   "version": "3.7.6"
  },
  "metadata": {
   "interpreter": {
    "hash": "d279672dec97687973da8f2b23dbdcc76259fde61874b489061eca7e42b844dc"
   }
  }
 },
 "nbformat": 4,
 "nbformat_minor": 5
}