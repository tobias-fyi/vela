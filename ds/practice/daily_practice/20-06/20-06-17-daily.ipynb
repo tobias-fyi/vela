{
 "cells": [
  {
   "cell_type": "markdown",
   "metadata": {},
   "source": [
    "# 20-06-17: Daily Data Practice"
   ]
  },
  {
   "cell_type": "markdown",
   "metadata": {},
   "source": [
    "---\n",
    "\n",
    "## Daily Practices\n",
    "\n",
    "* Practice with DS/ML tools and processes\n",
    "  * [fast.ai course](https://course.fast.ai/)\n",
    "  * HackerRank SQL or Packt SQL Data Analytics\n",
    "  * Hands-on ML | NLP In Action | Dive Into Deep Learning | Coursera / guided projects\n",
    "    * Read, code along, take notes\n",
    "    * _test yourself on the concepts_ — i.e. do all the chapter exercises\n",
    "  * Try to hit benchmark accuracies with [UCI ML datasets](https://archive.ics.uci.edu/ml/index.php) or Kaggle\n",
    "* Meta Data: Review and write\n",
    "  * Focus on a topic, review notes and resources, write a blog post about it\n",
    "* 2-Hour Job Search\n",
    "* Interviewing\n",
    "  * Behavioral questions and scenarios\n",
    "  * Business case walk-throughs\n",
    "  * Hot-seat DS-related topics for recall practice (under pressure)"
   ]
  },
  {
   "cell_type": "markdown",
   "metadata": {},
   "source": [
    "---\n",
    "\n",
    "## Meta Data: Review and Write\n",
    "\n",
    "> Focus on a topic or project, learn/review the concepts, write (a blog post) about it"
   ]
  },
  {
   "cell_type": "markdown",
   "metadata": {},
   "source": [
    "Finishing up with the final polish on each of my artifacts. I started out with a few edits to the FYI page copy I wrote yesterday, then put the finishing touches on the new version of my resume.\n",
    "\n",
    "Now, I'm updating my LinkedIn description and anything else that needs a final look over.\n",
    "\n",
    "Here is my new LinkedIn \"About\" section:"
   ]
  },
  {
   "cell_type": "markdown",
   "metadata": {},
   "source": [
    "### About\n",
    "\n",
    "I'm a data scientist and engineer, software and machine learning engineer, writer, and musician currently living in Denver, Colorado. I hold a BS in Economics from Cal Poly, SLO, where I also competed as a Division I springboard diver.\n",
    "\n",
    "I've worked on a number of teams to develop useful and usable applications, such as a subreddit recommendation system and an object detection API that classifies over 70 types of waste (see my Projects section below). Building things and working with people is how I learn best, and I'm always looking for opportunities to do so.\n",
    "\n",
    "I relish any opportunity to solve a problem, simple or complex, and always hold myself and those around me to a high standard.\n",
    "\n",
    "As a child I was encouraged to teach myself everything I wanted to learn and to entertain myself without a TV (we didn’t have one). Contrary to what a surprising number of people believe, these two areas of life go hand in hand. Learning was my entertainment—and still is.\n",
    "\n",
    "My unique upbringing instilled in me what I believe is the most important lesson of all: how to be a lifelong learner. For me, learning did not start nor end with my academic education; life is a continuous learning process. I have a deep passion not only for the challenge of learning new skills and studying new disciplines, but also for practicing and refining those I already have.\n",
    "\n",
    "From anchoring the news to analyzing millions of data points; from training and performing as a vocalist to developing a market for wall-climbing robots; from shooting and editing video to writing technical essays on topics such as the economics of real estate or photosynthetic production of plastic; from surfing trips in exotic locations around the world to flying all over the country on a weekly basis implementing enterprise-level software; from designing, printing, and selling t-shirts to saving enough to try out semi-retirement for a couple years—I am very proud of the variety of academic, professional, and life experiences I’ve had.\n",
    "\n",
    "In case you're curious, you can find out more about me by visiting my site: tobias.fyi.\n",
    "\n",
    "Hope to see you there!"
   ]
  },
  {
   "cell_type": "markdown",
   "metadata": {},
   "source": [
    "---\n",
    "\n",
    "## DS + ML Practice\n",
    "\n",
    "* Pick a dataset and try to do X with it\n",
    "  * Try to hit benchmark accuracies with [UCI ML datasets](https://archive.ics.uci.edu/ml/index.php) or Kaggle\n",
    "* Practice with the common DS/ML tools and processes\n",
    "  * Hands-on ML | NLP In Action | Dive Into Deep Learning\n",
    "  * Machine learning flashcards\n",
    "\n",
    "#### _The goal is to be comfortable explaining the entire process._\n",
    "\n",
    "* Data access / sourcing, cleaning\n",
    "  * Exploratory data analysis\n",
    "  * Data wrangling techniques and processes\n",
    "* Inference\n",
    "  * Statistics\n",
    "  * Probability\n",
    "  * Visualization\n",
    "* Modeling\n",
    "  * Implement + justify choice of model / algorithm\n",
    "  * Track performance + justify choice of metrics\n",
    "    * Communicate results as relevant to the goal"
   ]
  },
  {
   "cell_type": "markdown",
   "metadata": {},
   "source": [
    "### Image Dataset\n",
    "\n",
    "Decided to spend a little time working on a new project. I'm going through the fast.ai course, and the first assignment is to train a classifier. My idea, which I've barely started working on, is to train a model that can recognize different exercises—e.g. push-ups, pull-ups, sit-ups.\n",
    "\n",
    "Looked through the [thread about image dataset gathering](https://forums.fast.ai/t/tips-for-building-large-image-datasets/26688/34) and found some good resources for making this first step of gathering the images a little quicker and easier.\n",
    "\n",
    "* [More](https://forums.fast.ai/t/generating-image-datasets-quickly/19079)\n",
    "* [Threads](https://forums.fast.ai/t/how-to-scrape-the-web-for-images/7446/8)\n",
    "\n",
    "I determined what packages I want to use to scrape the images. I'm going to start out by trying the [fastclass](https://github.com/cwerner/fastclass) package written by someone in the thread. If that doesn't work well I'll try the official fast.ai tutorial on the subject."
   ]
  },
  {
   "cell_type": "markdown",
   "metadata": {},
   "source": [
    "---\n",
    "\n",
    "## Coding\n",
    "\n",
    "> Work through practice problems on HackerRank or similar"
   ]
  },
  {
   "cell_type": "markdown",
   "metadata": {},
   "source": [
    "### Python"
   ]
  },
  {
   "cell_type": "code",
   "execution_count": null,
   "metadata": {},
   "outputs": [],
   "source": []
  },
  {
   "cell_type": "markdown",
   "metadata": {},
   "source": [
    "### SQL"
   ]
  },
  {
   "cell_type": "code",
   "execution_count": null,
   "metadata": {},
   "outputs": [],
   "source": []
  },
  {
   "cell_type": "markdown",
   "metadata": {},
   "source": []
  },
  {
   "cell_type": "markdown",
   "metadata": {},
   "source": [
    "---\n",
    "\n",
    "## Interviewing\n",
    "\n",
    "> Practice answering the most common behavioral and technical interview questions\n",
    "\n",
    "### Technical\n",
    "\n",
    "* Business case walk-throughs\n",
    "* Hot-seat DS-related topics for recall practice (under pressure)"
   ]
  },
  {
   "cell_type": "markdown",
   "metadata": {
    "jupyter": {
     "source_hidden": true
    }
   },
   "source": [
    "### Behavioral\n",
    "\n",
    "* \"Tell me a bit about yourself\"\n",
    "* \"Tell me about a project you've worked on and are proud of\"\n",
    "* \"What do you know about our company?\"\n",
    "* \"Where do you see yourself in 3-5 years?\"\n",
    "* \"Why do you want to work here / want this job?\"\n",
    "* \"What makes you most qualified for this role?\"\n",
    "* \"What is your greatest strength/weakness?\"\n",
    "  * \"What is your greatest technical strength?\"\n",
    "* \"Tell me about a time when you had conflict with someone and how you handled it\"\n",
    "* \"Tell me about a mistake you made and how you handled it\"\n",
    "* Scenario questions (STAR: situation, task, action, result)\n",
    "  * Success story / biggest accomplishment\n",
    "  * Greatest challenge (overcome)\n",
    "  * Persuaded someone who did not agree with you\n",
    "  * Dealt with and resolved a conflict (among team members)\n",
    "  * Led a team / showed leadership skills or aptitude\n",
    "  * How you've dealt with stress / stressful situations\n",
    "  * Most difficult problem encountered in previous job; how you solved it\n",
    "  * Solved a problem creatively\n",
    "  * Exceeded expectations to get a job done\n",
    "  * Showed initiative\n",
    "  * Something that's not on your resume\n",
    "  * Example of important goal you set and how you reached it\n",
    "  * A time you failed\n",
    "* \"Do you have any questions for me?\"\n",
    "  * What is your favorite aspect of working here?\n",
    "  * What has your journey looked like at the company?\n",
    "  * What are some challenges you face in your position?"
   ]
  },
  {
   "cell_type": "markdown",
   "metadata": {},
   "source": []
  },
  {
   "cell_type": "markdown",
   "metadata": {},
   "source": [
    "---\n",
    "\n",
    "## 2-Hour Job Search"
   ]
  },
  {
   "cell_type": "markdown",
   "metadata": {},
   "source": []
  }
 ],
 "metadata": {
  "kernelspec": {
   "display_name": "Python 3.7.6 64-bit ('vela': pipenv)",
   "language": "python",
   "name": "python37664bitvelapipenvde09592071074af6a70ce3b1ce38af95"
  },
  "language_info": {
   "codemirror_mode": {
    "name": "ipython",
    "version": 3
   },
   "file_extension": ".py",
   "mimetype": "text/x-python",
   "name": "python",
   "nbconvert_exporter": "python",
   "pygments_lexer": "ipython3",
   "version": "3.7.6"
  }
 },
 "nbformat": 4,
 "nbformat_minor": 4
}
