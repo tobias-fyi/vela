{
 "cells": [
  {
   "cell_type": "markdown",
   "metadata": {},
   "source": [
    "# Creating Binary Masks Using Image Segmentation\n",
    "\n",
    "> Create binary mask for objects in an image using image segmentation\n",
    "\n",
    "A tobias.fyi blog post by...you guessed it: _Tobias Reaper_."
   ]
  },
  {
   "cell_type": "markdown",
   "metadata": {},
   "source": [
    "---\n",
    "\n",
    "Notebook Outline\n",
    "\n",
    "* [Resources](#resources)\n",
    "* [Outline](#outline)\n",
    "* [Goal](#goal)\n",
    "  * [Computer vision](#computer-vision)\n",
    "  * [Mask R-CNN](#mask-r-cnn)"
   ]
  },
  {
   "cell_type": "markdown",
   "metadata": {},
   "source": [
    "---\n",
    "\n",
    "## Resources and Related Content\n",
    "\n",
    "* [Mask R-CNN](https://github.com/matterport/Mask_RCNN/)\n",
    "  * [Mask R-CNN Shiny](https://github.com/huuuuusy/Mask-RCNN-Shiny)\n",
    "* Other models / frameworks\n",
    "  * [CenterMask2](https://github.com/youngwanLEE/centermask2)\n",
    "  * [Yolact](https://github.com/dbolya/yolact)"
   ]
  },
  {
   "cell_type": "markdown",
   "metadata": {},
   "source": [
    "---\n",
    "\n",
    "## Outline\n",
    "\n",
    "* Intro\n",
    "  * Goal\n",
    "  * Solution\n",
    "    * Computer vision models\n",
    "    * Mask R-CNN\n",
    "* Content\n",
    "  * Using pre-trained weights\n",
    "  * Training a custom model\n",
    "  * Extracting the data from the predictions:\n",
    "    * Masks\n",
    "    * Bounding boxes\n",
    "* Conclusion"
   ]
  },
  {
   "cell_type": "markdown",
   "metadata": {},
   "source": [
    "---\n",
    "\n",
    "## Introduction"
   ]
  },
  {
   "cell_type": "markdown",
   "metadata": {},
   "source": [
    "### TL;DR\n",
    "\n",
    "The goal of this tutorial is to describe a possible method of creating binary masks for one or more objects in an image by using an image segmentation (computer vision) model.\n",
    "\n",
    "Rather than drawing binary masks completely by hand or use proprietary software like Photoshop I will show you how to automate the process using completely free, open-source tools. Namely, we will be using Python along with a few open-source libraries such as NumPy, OpenCV (opencv-python), and PyTorch. Don't get intimidated by the names or the libraries—the process really just comes down to writing a function."
   ]
  },
  {
   "cell_type": "markdown",
   "metadata": {},
   "source": [
    "---\n",
    "\n",
    "## The Problem\n",
    "\n",
    "Selecting and separating parts of an image can be a tedious, time-consuming process. Anyone who's done a fair amount of tinkering with image manipulation using a program like Photoshop knows the struggle.\n",
    "\n",
    "As an example, say I'd like to cut out a person from a photo in order to \"Photoshop\" that person into a different image. A classic example is to put a friend who missed a get-together into the group photo from the event. To not embarass any of my friends, I'll use a photo of me as an example.\n",
    "\n",
    "So, say I'd like to cut myself out of the photo below in order to paste into another image. In other words, I want to make all the pixels in the image transparent except for the ones representing me.\n",
    "\n",
    "> [[ImageBlock :: Original image of Hobbes - hobbes_01.jpg]]\n",
    "\n",
    "To accomplish this manually, I could spend anywhere from a few minutes to an hour outlining myself in the original image, mostly by hand. The time investment depends on how easily-separable the subject is from the rest of the image, how accurate I want the cut to be, and what tools are available to me. Regarding that last point, the magicians at Adobe have done some rather impressive black magic with Photoshop, giving users very quick and very effective methods for selecting parts of an image.\n",
    "\n",
    "In the example image, I'd say I'm relatively easily separable (my colors are distinct) from the background. Therefore, it really would not take all that long to create and apply a mask to myself (cut myself out) using Photoshop. However, this post is not about using Photoshop, so I'm going to pretend as if I don't have access to a copy of it. Or, I don't even have to pretend that it's cool to be able to do this with some Python code and an image segmentation model.\n",
    "\n",
    "A mask is basically a method of distinguishing/selecting/separating pixels. If you've never heard the term used this way before, one way to think about it is with masking tape and paint. Typically, one would put masking tape—i.e. create a \"mask\"—around areas on a wall that should _not_ be painted. This is essentially what a mask is doing in any photo manipulation software: indicating what areas of an image to affect or transform (or which areas not to do so).\n",
    "\n",
    "> [[ImageBlog :: Mask Overlay]]\n",
    "\n",
    "A binary mask is a method of masking which uses a two-tone color scheme, to indicate the areas of an image to be affected and not affected. By overlaying a binary mask on top of the original image, the boundaries between the two colors can be used to affect the different areas of the image differently, whether that is making pixels transparent (removing them) or applying some sort of effect or transformation.\n",
    "\n",
    "> [[ImageBlock :: Binary Mask - half regular image, half binary mask]]"
   ]
  },
  {
   "cell_type": "markdown",
   "metadata": {},
   "source": [
    "---\n",
    "\n",
    "## Solution\n",
    "\n",
    "### Computer vision\n",
    "\n",
    "In order to generate binary masks based on the content of the image, the algorithm must be somewhat intelligent. That is, it must be able to process the image in such a way that it can recognize where the foreground is and draw a polygon around it with some degree of accuracy.\n",
    "\n",
    "Luckily, there are a number of deep learning models that will do just that. The field is called Computer Vision. More specifically, the models described in this article are known as image segmentation models.\n",
    "\n",
    "Don't worry if you don't have any experience with this type of thing, or even if you don't want to _get_ experience with it. Modern machine learning tooling makes it incredibly quick and easy to get a model up and predicting with pre-trained weights. To understand what's going on, it will likely help to know a bit of Python programming.\n",
    "\n",
    "One caveat though: the pre-trained models will do great with the objects that were in their training data. Depending on what the object in the foreground is that you are trying to extract, you may or may not need to extend the model with a custom dataset and training session. That is a topic for another post."
   ]
  },
  {
   "cell_type": "markdown",
   "metadata": {},
   "source": [
    "### Detectron2\n",
    "\n",
    "Although the primary framework used in this article is Detectron2, this process should be translatable to other image segmentation models as well. In fact, at the end of this post I go over using Matterport's TensorFlow-based implementation of Mask R-CNN to accomplish the exact same thing.\n",
    "\n",
    "> TODO: Also do this with [fastai](https://docs.fast.ai/vision.image.html#ImageSegment)?"
   ]
  },
  {
   "cell_type": "markdown",
   "metadata": {},
   "source": [
    "---\n",
    "---\n",
    "\n",
    "## Tutorial"
   ]
  },
  {
   "cell_type": "markdown",
   "metadata": {},
   "source": [
    "### Environment Setup\n",
    "\n",
    "I will be walking through setup and execution using Google Colab. \n"
   ]
  },
  {
   "cell_type": "code",
   "execution_count": null,
   "metadata": {},
   "outputs": [],
   "source": []
  },
  {
   "cell_type": "code",
   "execution_count": null,
   "metadata": {},
   "outputs": [],
   "source": []
  },
  {
   "cell_type": "code",
   "execution_count": null,
   "metadata": {},
   "outputs": [],
   "source": []
  },
  {
   "cell_type": "code",
   "execution_count": null,
   "metadata": {},
   "outputs": [],
   "source": []
  },
  {
   "cell_type": "code",
   "execution_count": null,
   "metadata": {},
   "outputs": [],
   "source": []
  },
  {
   "cell_type": "code",
   "execution_count": null,
   "metadata": {},
   "outputs": [],
   "source": []
  },
  {
   "cell_type": "code",
   "execution_count": null,
   "metadata": {},
   "outputs": [],
   "source": []
  },
  {
   "cell_type": "code",
   "execution_count": null,
   "metadata": {},
   "outputs": [],
   "source": []
  },
  {
   "cell_type": "code",
   "execution_count": null,
   "metadata": {},
   "outputs": [],
   "source": []
  }
 ],
 "metadata": {
  "kernelspec": {
   "display_name": "Python 3.7.6 64-bit ('vela': pipenv)",
   "language": "python",
   "name": "python37664bitvelapipenvde09592071074af6a70ce3b1ce38af95"
  },
  "language_info": {
   "codemirror_mode": {
    "name": "ipython",
    "version": 3
   },
   "file_extension": ".py",
   "mimetype": "text/x-python",
   "name": "python",
   "nbconvert_exporter": "python",
   "pygments_lexer": "ipython3",
   "version": "3.7.6"
  }
 },
 "nbformat": 4,
 "nbformat_minor": 4
}
