{
 "cells": [
  {
   "cell_type": "markdown",
   "metadata": {},
   "source": [
    "# 20-06-26: Daily Practice"
   ]
  },
  {
   "cell_type": "markdown",
   "metadata": {},
   "source": [
    "---\n",
    "\n",
    "## Daily Practices\n",
    "\n",
    "* [ ] Practice with DS/ML tools and processes\n",
    "* [ ] Coding & Problem Solving Practice\n",
    "* [ ] Meta Data: Review and write\n",
    "* [ ] 2-Hour Job Search\n",
    "* [ ] Interviewing"
   ]
  },
  {
   "cell_type": "markdown",
   "metadata": {},
   "source": [
    "---\n",
    "\n",
    "## Coding & Problem Solving Practice\n",
    "\n",
    "> Work through practice problems on HackerRank or similar"
   ]
  },
  {
   "cell_type": "markdown",
   "metadata": {},
   "source": [
    "### Python"
   ]
  },
  {
   "cell_type": "markdown",
   "metadata": {},
   "source": [
    "#### [Designer PDF Viewer](https://www.hackerrank.com/challenges/designer-pdf-viewer/problem)\n",
    "\n",
    "When you select a contiguous block of text in a PDF viewer, the selection is highlighted with a blue rectangle. In this PDF viewer, each word is highlighted independently.\n",
    "\n",
    "In this challenge, you will be given a list of letter heights in the alphabet and a string. Using the letter heights given, determine the area of the rectangle highlight in $mm^2$ assuming all letters are $1mm$ wide.\n",
    "\n",
    "##### Input Format\n",
    "\n",
    "The first line contains 26 space-separated integers describing the respective heights of each consecutive lowercase English letter, `ascii[a-z]`.\n",
    "The second line contains a single word, consisting of lowercase English alphabetic letters.\n",
    "\n",
    "Sample Input\n",
    "\n",
    "    1 3 1 3 1 4 1 3 2 5 5 5 5 5 5 5 5 5 5 5 5 5 5 5 5 5\n",
    "    abc\n",
    "\n",
    "Sample Output\n",
    "\n",
    "    9"
   ]
  },
  {
   "cell_type": "code",
   "execution_count": 13,
   "metadata": {},
   "outputs": [],
   "source": [
    "def designerPdfViewer(h, word):\n",
    "    # Create dict with letter-height lookup\n",
    "    alphabet = \"abcdefghijklmnopqrstuvwxyz\"\n",
    "    letter_heights = {}\n",
    "    for i in range(26):\n",
    "        # Letter as key, height as value\n",
    "        letter_heights[alphabet[i]] = int(h[i])\n",
    "    # Find tallest letter in word\n",
    "    tallest = 0\n",
    "    for l in word:\n",
    "        if letter_heights[l] > tallest:\n",
    "            tallest = letter_heights[l]\n",
    "    # Calculate area\n",
    "    return len(word) * tallest"
   ]
  },
  {
   "cell_type": "code",
   "execution_count": 14,
   "metadata": {},
   "outputs": [
    {
     "data": {
      "text/plain": [
       "9"
      ]
     },
     "execution_count": 14,
     "metadata": {},
     "output_type": "execute_result"
    }
   ],
   "source": [
    "# === Test it out === #\n",
    "heights = [1, 3, 1, 3, 1, 4, 1, 3, 2, 5, 5, 5, 5, 5, 5, 5, 5, 5, 5, 5, 5, 5, 5, 5, 5, 5]\n",
    "designerPdfViewer(heights, \"abc\")"
   ]
  },
  {
   "cell_type": "markdown",
   "metadata": {},
   "source": [
    "#### [Utopian Tree](https://www.hackerrank.com/challenges/utopian-tree/problem)\n",
    "\n",
    "For next time."
   ]
  },
  {
   "cell_type": "markdown",
   "metadata": {},
   "source": [
    "### SQL\n",
    "\n",
    "Applied SQL Analytics workshop on Packt."
   ]
  },
  {
   "cell_type": "markdown",
   "metadata": {},
   "source": [
    "#### The COALESCE Function\n",
    "\n",
    "Replace `NULL` values with a standard value. Goes through provided list of columns and scalar values, filling any nulls in the former with the latter.\n",
    "\n",
    "Get a list of the first names, last names, and phone numbers of all male customers. For those customers with no phone number, instead write the value of 'NO PHONE'.\n",
    "\n",
    "```sql\n",
    "SELECT first_name,\n",
    "last_name,\n",
    "COALESCE(phone, 'NO PHONE') as phone\n",
    "FROM customers\n",
    "ORDER BY 1;\n",
    "```\n",
    "\n",
    "#### The NULLIF Function\n",
    "\n",
    "Two-value function (like COALESCE) that returns `NULL` if the first value equals the second value.\n",
    "\n",
    "This example removes the title \"Honorable\" from those that have it.\n",
    "\n",
    "```sql\n",
    "SELECT customer_id,\n",
    "  NULLIF(title, 'Honorable') as title,\n",
    "  first_name,\n",
    "  last_name,\n",
    "  suffix,\n",
    "  email,\n",
    "  gender,\n",
    "  ip_address,\n",
    "  phone,\n",
    "  street_address,\n",
    "  city,\n",
    "  state,\n",
    "  postal_code,\n",
    "  latitude,\n",
    "  longitude,\n",
    "  date_added\n",
    "FROM customers c\n",
    "ORDER BY 1;\n",
    "```\n",
    "\n",
    "#### The LEAST/GREATEST Functions\n",
    "\n",
    "Takes any number of values and returns the least/greatest of the values. For example, replacing a value if it's too high or low.\n",
    "\n",
    "```sql\n",
    "SELECT product_id,\n",
    "  model,\n",
    "  year,\n",
    "  product_type,\n",
    "  LEAST(600.00, base_msrp) as base_msrp,\n",
    "  production_start_date,\n",
    "  production_end_date\n",
    "FROM products\n",
    "WHERE product_type='scooter'\n",
    "ORDER BY 1;\n",
    "```\n",
    "\n",
    "#### The Casting Function\n",
    "\n",
    "Change the data type of a column within a query using the `column::datatype` syntax.\n",
    "\n",
    "```sql\n",
    "SELECT product_id,\n",
    "  model,\n",
    "  year::TEXT,\n",
    "  product_type,\n",
    "  base_msrp,\n",
    "  production_start_date,\n",
    "  production_end_date\n",
    "FROM products;\n",
    "```\n",
    "\n",
    "#### The DISTINCT and DISTINCT ON Functions\n",
    "\n",
    "I already have a pretty good grasp of distinct, though I don't think I knew that it can be used on multiple columns to get all of the distinct column combinations.\n",
    "\n",
    "```sql\n",
    "SELECT DISTINCT year, product_type\n",
    "FROM products\n",
    "ORDER BY 1, 2;\n",
    "```\n",
    "\n",
    "The related keyword `DISTINCT ON` ensures that only one row is returned and one or more columns are always unique in the set.\n",
    "\n",
    "This example selects salespeople with unique first names, and if there are two identical first names, the one who was hired first will be returned.\n",
    "\n",
    "```sql\n",
    "SELECT DISTINCT ON (first_name)\n",
    "*\n",
    "FROM salespeople\n",
    "ORDER BY first_name, hire_date;\n",
    "```"
   ]
  },
  {
   "cell_type": "markdown",
   "metadata": {},
   "source": [
    "---\n",
    "\n",
    "## DS + ML Practice"
   ]
  },
  {
   "cell_type": "markdown",
   "metadata": {},
   "source": [
    "### Likewise\n",
    "\n",
    "Successfully trained a small collaborative filtering model using fastai.collab. Spent a while learning how to use it to generate predictions."
   ]
  },
  {
   "cell_type": "markdown",
   "metadata": {},
   "source": [
    "---\n",
    "\n",
    "## Meta Data: Review and Write\n",
    "\n",
    "> Focus on a topic or project, learn/review the concepts, write (a blog post) about it"
   ]
  },
  {
   "cell_type": "markdown",
   "metadata": {},
   "source": []
  },
  {
   "cell_type": "markdown",
   "metadata": {},
   "source": []
  },
  {
   "cell_type": "markdown",
   "metadata": {},
   "source": [
    "---\n",
    "\n",
    "## 2-Hour Job Search"
   ]
  },
  {
   "cell_type": "markdown",
   "metadata": {},
   "source": []
  },
  {
   "cell_type": "markdown",
   "metadata": {},
   "source": []
  },
  {
   "cell_type": "markdown",
   "metadata": {},
   "source": [
    "---\n",
    "\n",
    "## Interviewing\n",
    "\n",
    "> Practice answering the most common behavioral and technical interview questions\n",
    "\n",
    "### Technical\n",
    "\n",
    "* Business case walk-throughs\n",
    "* Hot-seat DS-related topics for recall practice (under pressure)"
   ]
  },
  {
   "cell_type": "markdown",
   "metadata": {
    "jupyter": {
     "source_hidden": true
    }
   },
   "source": [
    "### Behavioral\n",
    "\n",
    "* \"Tell me a bit about yourself\"\n",
    "* \"Tell me about a project you've worked on and are proud of\"\n",
    "* \"What do you know about our company?\"\n",
    "* \"Where do you see yourself in 3-5 years?\"\n",
    "* \"Why do you want to work here / want this job?\"\n",
    "* \"What makes you most qualified for this role?\"\n",
    "* \"What is your greatest strength/weakness?\"\n",
    "  * \"What is your greatest technical strength?\"\n",
    "* \"Tell me about a time when you had conflict with someone and how you handled it\"\n",
    "* \"Tell me about a mistake you made and how you handled it\"\n",
    "* Scenario questions (STAR: situation, task, action, result)\n",
    "  * Success story / biggest accomplishment\n",
    "  * Greatest challenge (overcome)\n",
    "  * Persuaded someone who did not agree with you\n",
    "  * Dealt with and resolved a conflict (among team members)\n",
    "  * Led a team / showed leadership skills or aptitude\n",
    "  * How you've dealt with stress / stressful situations\n",
    "  * Most difficult problem encountered in previous job; how you solved it\n",
    "  * Solved a problem creatively\n",
    "  * Exceeded expectations to get a job done\n",
    "  * Showed initiative\n",
    "  * Something that's not on your resume\n",
    "  * Example of important goal you set and how you reached it\n",
    "  * A time you failed\n",
    "* \"Do you have any questions for me?\"\n",
    "  * What is your favorite aspect of working here?\n",
    "  * What has your journey looked like at the company?\n",
    "  * What are some challenges you face in your position?"
   ]
  },
  {
   "cell_type": "markdown",
   "metadata": {},
   "source": []
  },
  {
   "cell_type": "markdown",
   "metadata": {},
   "source": []
  },
  {
   "cell_type": "markdown",
   "metadata": {},
   "source": []
  },
  {
   "cell_type": "markdown",
   "metadata": {},
   "source": []
  },
  {
   "cell_type": "markdown",
   "metadata": {},
   "source": []
  },
  {
   "cell_type": "markdown",
   "metadata": {},
   "source": []
  },
  {
   "cell_type": "markdown",
   "metadata": {},
   "source": []
  },
  {
   "cell_type": "markdown",
   "metadata": {},
   "source": []
  },
  {
   "cell_type": "markdown",
   "metadata": {},
   "source": []
  },
  {
   "cell_type": "markdown",
   "metadata": {},
   "source": []
  },
  {
   "cell_type": "markdown",
   "metadata": {},
   "source": []
  },
  {
   "cell_type": "markdown",
   "metadata": {},
   "source": []
  }
 ],
 "metadata": {
  "kernelspec": {
   "display_name": "Python 3.7.6 64-bit ('vela': pipenv)",
   "language": "python",
   "name": "python37664bitvelapipenvde09592071074af6a70ce3b1ce38af95"
  },
  "language_info": {
   "codemirror_mode": {
    "name": "ipython",
    "version": 3
   },
   "file_extension": ".py",
   "mimetype": "text/x-python",
   "name": "python",
   "nbconvert_exporter": "python",
   "pygments_lexer": "ipython3",
   "version": "3.7.6"
  }
 },
 "nbformat": 4,
 "nbformat_minor": 4
}
