{
 "cells": [
  {
   "cell_type": "markdown",
   "metadata": {
    "colab_type": "text",
    "id": "6K-Ijmo7VceT"
   },
   "source": [
    "# 👽👾 `print(fiction)` 📚🛸\n",
    "\n",
    "> #### A data science project by _Tobias Reaper_\n",
    "\n",
    "#### 📓 Notebook 1: Data Preparation 🔬"
   ]
  },
  {
   "cell_type": "markdown",
   "metadata": {},
   "source": [
    "---\n",
    "\n",
    "### Notebook Outline\n",
    "\n",
    "* Intro\n",
    "* Imports and configuration\n",
    "* Convert data to tabular format"
   ]
  },
  {
   "cell_type": "markdown",
   "metadata": {},
   "source": [
    "---\n",
    "\n",
    "## Intro\n",
    "\n",
    "[quick intro to project]\n",
    "\n",
    "[explanation of this notebook in context of project]"
   ]
  },
  {
   "cell_type": "markdown",
   "metadata": {},
   "source": [
    "---\n",
    "\n",
    "### 📥 Initial Imports and Configuration ⚙️"
   ]
  },
  {
   "cell_type": "code",
   "execution_count": 1,
   "metadata": {},
   "outputs": [],
   "source": [
    "# The Utiliteers\n",
    "import numpy as np\n",
    "import pandas as pd\n",
    "import matplotlib.pyplot as plt\n",
    "\n",
    "# Extras\n",
    "import janitor\n",
    "import missingno\n",
    "import pandas_profiling\n",
    "import os"
   ]
  },
  {
   "cell_type": "code",
   "execution_count": 2,
   "metadata": {},
   "outputs": [],
   "source": [
    "# Set pandas display options to allow for more columns and rows\n",
    "pd.options.display.max_columns = 200\n",
    "pd.options.display.max_rows = 200"
   ]
  },
  {
   "cell_type": "markdown",
   "metadata": {},
   "source": [
    "---\n",
    "---\n",
    "\n",
    "## Convert data to tabular format\n",
    "\n",
    "The output of the scraper was a set of JSON files. In order to use it in the project, I'll need to convert to Pandas DataFrame."
   ]
  },
  {
   "cell_type": "markdown",
   "metadata": {},
   "source": [
    "#### Setting up filepaths"
   ]
  },
  {
   "cell_type": "code",
   "execution_count": 3,
   "metadata": {},
   "outputs": [],
   "source": [
    "# === Path to json data === #\n",
    "datapath = \"/Users/Tobias/workshop/vela/ds/interview_prep/practice/print-fiction/assets/json_data\""
   ]
  },
  {
   "cell_type": "code",
   "execution_count": 4,
   "metadata": {},
   "outputs": [
    {
     "data": {
      "text/plain": [
       "['/Users/Tobias/workshop/vela/ds/interview_prep/practice/print-fiction/assets/json_data/book_must_read_01_20.jl',\n",
       " '/Users/Tobias/workshop/vela/ds/interview_prep/practice/print-fiction/assets/json_data/book_must_read_21_200.jl',\n",
       " '/Users/Tobias/workshop/vela/ds/interview_prep/practice/print-fiction/assets/json_data/book_must_read_201_216.jl']"
      ]
     },
     "execution_count": 4,
     "metadata": {},
     "output_type": "execute_result"
    }
   ],
   "source": [
    "# === Create the book filepaths === #\n",
    "bookfiles = [  # List of book json files to be included in the books dataframe\n",
    "    \"book_must_read_01_20.jl\",\n",
    "    \"book_must_read_21_200.jl\",\n",
    "    \"book_must_read_201_216.jl\",\n",
    "]\n",
    "\n",
    "# Create list of filepaths from book file names\n",
    "bookpaths = [os.path.join(datapath, filename) for filename in bookfiles]\n",
    "\n",
    "bookpaths"
   ]
  },
  {
   "cell_type": "markdown",
   "metadata": {},
   "source": [
    "#### Functions to combine files into single DataFrame and do some preprocessing"
   ]
  },
  {
   "cell_type": "code",
   "execution_count": 5,
   "metadata": {},
   "outputs": [],
   "source": [
    "def json_cat(json_files):\n",
    "    \"\"\"\n",
    "    Reads and concatenates a list of .jl (json lines) \n",
    "    files into a single dataframe.\n",
    "    \"\"\"\n",
    "\n",
    "    # Read the books json files into a list of dataframes\n",
    "    dfs = [pd.read_json(filepath, lines=True) for filepath in json_files]\n",
    "\n",
    "    # Concatenate the list of dataframes\n",
    "    df = pd.concat(dfs, sort=False)\n",
    "    \n",
    "    return df"
   ]
  },
  {
   "cell_type": "code",
   "execution_count": 6,
   "metadata": {},
   "outputs": [],
   "source": [
    "def encode_book_genres(df):\n",
    "    \"\"\"Deconcatenates top 30 book genres into separate features, OneHotEncoding style.\"\"\"\n",
    "    \n",
    "    # Set comprehension - creates a set of all genres listed in dataset\n",
    "    all_genres = {genre for row_genres in df[\"genres\"] for genre in row_genres}\n",
    "\n",
    "    # Create a new feature for every genre\n",
    "    for genre in all_genres:\n",
    "        has_genre = lambda g: genre in g\n",
    "        df[genre] = df.genres.apply(has_genre)\n",
    "\n",
    "    # Create list of top 30 most common genres\n",
    "    most_common_genres = df[list(all_genres)].sum().sort_values(ascending=False).head(30)\n",
    "    most_common_genres = most_common_genres.index.tolist()\n",
    "    \n",
    "    # Drop all but the top 30 genres from the dataframe\n",
    "    unwanted_genres = list(all_genres - set(most_common_genres))\n",
    "    df = df.drop(columns=unwanted_genres)\n",
    "    \n",
    "    # Drop the original \"genres\" feature\n",
    "    df = df.drop(columns=[\"genres\"])\n",
    "    \n",
    "    return df"
   ]
  },
  {
   "cell_type": "code",
   "execution_count": 8,
   "metadata": {},
   "outputs": [],
   "source": [
    "def book_pub_date(df):\n",
    "    \"\"\"Deconcatenates book publish_date to three separate features\n",
    "    for year, month, and day. Drops the original publish_date feature.\n",
    "    \"\"\"\n",
    "    # === The Pandas method === #\n",
    "    # Convert the \"publish_date\" column to datetime\n",
    "    df[\"publish_date\"] = pd.to_datetime(df[\"publish_date\"], errors=\"coerce\", infer_datetime_format=True)\n",
    "\n",
    "    # Break out \"publish_date\" into dt components\n",
    "    df[\"publish_year\"] = df[\"publish_date\"].dt.year\n",
    "    df[\"publish_month\"] = df[\"publish_date\"].dt.month\n",
    "    df[\"publish_day\"] = df[\"publish_date\"].dt.day\n",
    "    \n",
    "    df = df.drop(columns=[\"publish_date\"])  # Drop the OG publish_date\n",
    "    \n",
    "    return df"
   ]
  },
  {
   "cell_type": "code",
   "execution_count": 11,
   "metadata": {},
   "outputs": [],
   "source": [
    "def book_cat(paths_list, output_filename):\n",
    "    \"\"\"Reads and concatenates a list of book_*.jl (json lines) files.\"\"\"\n",
    "\n",
    "    # === Concatenate the list of dataframes === #\n",
    "    df = json_cat(paths_list)\n",
    "\n",
    "    # === Initial wrangling === #\n",
    "    # I will address these three steps later on\n",
    "    # df = df.dropna(subset=[\"genres\"])  # Drop rows with null \"genres\"\n",
    "    # df = encode_book_genres(df)  # Break out genres into top 30\n",
    "    # df = book_pub_date(df)  # Break out publish_date into components\n",
    "\n",
    "    df = df.drop_duplicates(subset=[\"url\"])  # Drop duplicate records\n",
    "    # Format column names with pyjanitor\n",
    "    df = (df.clean_names())\n",
    "\n",
    "    # Break ratings_histogram (array) into component features\n",
    "    df_hist = df[\"rating_histogram\"].apply(pd.Series)\n",
    "    rating_cols = {}  # Dict for mapping column names\n",
    "    for col in df_hist.columns.tolist():\n",
    "        rating_cols[col] = f\"{col}_rating_count\"\n",
    "    # Rename according to mapper created above\n",
    "    df_hist = df_hist.rename(columns=rating_cols)\n",
    "    # Concat new columns onto main dataframe\n",
    "    df = pd.concat([df, df_hist], axis=1, join=\"outer\")\n",
    "    # Drop extra column\n",
    "    df = df.drop(columns=[\"rating_histogram\"])\n",
    "    \n",
    "    df.to_csv(output_filename, index=False)\n",
    "    print(f\"Successfully created dataframe and saved to current directory as '{output_filename}'\")\n",
    "    \n",
    "    return df"
   ]
  },
  {
   "cell_type": "markdown",
   "metadata": {},
   "source": [
    "---\n",
    "\n",
    "#### Create books DataFrame"
   ]
  },
  {
   "cell_type": "code",
   "execution_count": 12,
   "metadata": {},
   "outputs": [
    {
     "name": "stdout",
     "output_type": "stream",
     "text": [
      "Successfully created dataframe and saved to current directory as 'must_read_books-01.csv'\n"
     ]
    }
   ],
   "source": [
    "# === Create the books dataframe === #\n",
    "books = book_cat(bookpaths, \"must_read_books-01.csv\")"
   ]
  },
  {
   "cell_type": "code",
   "execution_count": 15,
   "metadata": {},
   "outputs": [
    {
     "name": "stdout",
     "output_type": "stream",
     "text": [
      "(21514, 21)\n"
     ]
    },
    {
     "data": {
      "text/html": [
       "<div>\n",
       "<style scoped>\n",
       "    .dataframe tbody tr th:only-of-type {\n",
       "        vertical-align: middle;\n",
       "    }\n",
       "\n",
       "    .dataframe tbody tr th {\n",
       "        vertical-align: top;\n",
       "    }\n",
       "\n",
       "    .dataframe thead th {\n",
       "        text-align: right;\n",
       "    }\n",
       "</style>\n",
       "<table border=\"1\" class=\"dataframe\">\n",
       "  <thead>\n",
       "    <tr style=\"text-align: right;\">\n",
       "      <th></th>\n",
       "      <th>url</th>\n",
       "      <th>title</th>\n",
       "      <th>author</th>\n",
       "      <th>num_ratings</th>\n",
       "      <th>num_reviews</th>\n",
       "      <th>avg_rating</th>\n",
       "      <th>num_pages</th>\n",
       "      <th>language</th>\n",
       "      <th>publish_date</th>\n",
       "      <th>original_publish_year</th>\n",
       "      <th>genres</th>\n",
       "      <th>characters</th>\n",
       "      <th>series</th>\n",
       "      <th>places</th>\n",
       "      <th>asin</th>\n",
       "      <th>0_rating_count</th>\n",
       "      <th>1_rating_count</th>\n",
       "      <th>2_rating_count</th>\n",
       "      <th>3_rating_count</th>\n",
       "      <th>4_rating_count</th>\n",
       "      <th>5_rating_count</th>\n",
       "    </tr>\n",
       "  </thead>\n",
       "  <tbody>\n",
       "    <tr>\n",
       "      <th>0</th>\n",
       "      <td>https://www.goodreads.com/book/show/323355.The...</td>\n",
       "      <td>The Book of Mormon: Another Testament of Jesus...</td>\n",
       "      <td>Anonymous</td>\n",
       "      <td>71355.0</td>\n",
       "      <td>5704.0</td>\n",
       "      <td>4.37</td>\n",
       "      <td>531.0</td>\n",
       "      <td>English</td>\n",
       "      <td>2013-10-22 00:00:00</td>\n",
       "      <td>1830.0</td>\n",
       "      <td>[Lds, Church, Christianity, Religion, Nonfiction]</td>\n",
       "      <td>NaN</td>\n",
       "      <td>NaN</td>\n",
       "      <td>NaN</td>\n",
       "      <td>NaN</td>\n",
       "      <td>NaN</td>\n",
       "      <td>7520.0</td>\n",
       "      <td>2697.0</td>\n",
       "      <td>2521.0</td>\n",
       "      <td>1963.0</td>\n",
       "      <td>56654.0</td>\n",
       "    </tr>\n",
       "    <tr>\n",
       "      <th>1</th>\n",
       "      <td>https://www.goodreads.com/book/show/28862.The_...</td>\n",
       "      <td>The Prince</td>\n",
       "      <td>Niccolò Machiavelli</td>\n",
       "      <td>229715.0</td>\n",
       "      <td>7261.0</td>\n",
       "      <td>3.81</td>\n",
       "      <td>140.0</td>\n",
       "      <td>English</td>\n",
       "      <td>2003-06-01 00:00:00</td>\n",
       "      <td>1513.0</td>\n",
       "      <td>[European Literature, Italian Literature, Hist...</td>\n",
       "      <td>[Theseus (mythology), Alexander the Great, Ces...</td>\n",
       "      <td>NaN</td>\n",
       "      <td>NaN</td>\n",
       "      <td>NaN</td>\n",
       "      <td>NaN</td>\n",
       "      <td>5254.0</td>\n",
       "      <td>16827.0</td>\n",
       "      <td>61182.0</td>\n",
       "      <td>80221.0</td>\n",
       "      <td>66231.0</td>\n",
       "    </tr>\n",
       "    <tr>\n",
       "      <th>2</th>\n",
       "      <td>https://www.goodreads.com/book/show/46654.The_...</td>\n",
       "      <td>The Foundation Trilogy</td>\n",
       "      <td>Isaac Asimov</td>\n",
       "      <td>83933.0</td>\n",
       "      <td>1331.0</td>\n",
       "      <td>4.40</td>\n",
       "      <td>679.0</td>\n",
       "      <td>English</td>\n",
       "      <td>1974-01-01 00:00:00</td>\n",
       "      <td>1953.0</td>\n",
       "      <td>[Science Fiction, Classics, Fiction]</td>\n",
       "      <td>[Hari Seldon, Salvor Hardin, Hober Mallow, Mul...</td>\n",
       "      <td>Foundation (Publication Order) #1-3</td>\n",
       "      <td>NaN</td>\n",
       "      <td>NaN</td>\n",
       "      <td>NaN</td>\n",
       "      <td>477.0</td>\n",
       "      <td>1521.0</td>\n",
       "      <td>9016.0</td>\n",
       "      <td>25447.0</td>\n",
       "      <td>47472.0</td>\n",
       "    </tr>\n",
       "    <tr>\n",
       "      <th>3</th>\n",
       "      <td>https://www.goodreads.com/book/show/3980.From_...</td>\n",
       "      <td>From the Mixed-Up Files of Mrs. Basil E. Frank...</td>\n",
       "      <td>E.L. Konigsburg</td>\n",
       "      <td>173617.0</td>\n",
       "      <td>6438.0</td>\n",
       "      <td>4.15</td>\n",
       "      <td>178.0</td>\n",
       "      <td>English</td>\n",
       "      <td>2003-06-02 00:00:00</td>\n",
       "      <td>1967.0</td>\n",
       "      <td>[Childrens, Mystery, Middle Grade, Fiction, Yo...</td>\n",
       "      <td>[Mrs. Basil E. Frankweiler, Claudia Kincaid, J...</td>\n",
       "      <td>NaN</td>\n",
       "      <td>[New York City, New York, Connecticut]</td>\n",
       "      <td>NaN</td>\n",
       "      <td>NaN</td>\n",
       "      <td>2742.0</td>\n",
       "      <td>6381.0</td>\n",
       "      <td>29358.0</td>\n",
       "      <td>58559.0</td>\n",
       "      <td>76577.0</td>\n",
       "    </tr>\n",
       "    <tr>\n",
       "      <th>4</th>\n",
       "      <td>https://www.goodreads.com/book/show/18521.A_Ro...</td>\n",
       "      <td>A Room of One's Own</td>\n",
       "      <td>Virginia Woolf</td>\n",
       "      <td>98164.0</td>\n",
       "      <td>5848.0</td>\n",
       "      <td>4.14</td>\n",
       "      <td>112.0</td>\n",
       "      <td>English</td>\n",
       "      <td>2000-01-01 00:00:00</td>\n",
       "      <td>1929.0</td>\n",
       "      <td>[Essays, Feminism, Classics, Nonfiction, Writing]</td>\n",
       "      <td>NaN</td>\n",
       "      <td>NaN</td>\n",
       "      <td>NaN</td>\n",
       "      <td>NaN</td>\n",
       "      <td>NaN</td>\n",
       "      <td>1357.0</td>\n",
       "      <td>3778.0</td>\n",
       "      <td>15993.0</td>\n",
       "      <td>35876.0</td>\n",
       "      <td>41160.0</td>\n",
       "    </tr>\n",
       "  </tbody>\n",
       "</table>\n",
       "</div>"
      ],
      "text/plain": [
       "                                                 url  \\\n",
       "0  https://www.goodreads.com/book/show/323355.The...   \n",
       "1  https://www.goodreads.com/book/show/28862.The_...   \n",
       "2  https://www.goodreads.com/book/show/46654.The_...   \n",
       "3  https://www.goodreads.com/book/show/3980.From_...   \n",
       "4  https://www.goodreads.com/book/show/18521.A_Ro...   \n",
       "\n",
       "                                               title               author  \\\n",
       "0  The Book of Mormon: Another Testament of Jesus...            Anonymous   \n",
       "1                                         The Prince  Niccolò Machiavelli   \n",
       "2                             The Foundation Trilogy         Isaac Asimov   \n",
       "3  From the Mixed-Up Files of Mrs. Basil E. Frank...      E.L. Konigsburg   \n",
       "4                                A Room of One's Own       Virginia Woolf   \n",
       "\n",
       "   num_ratings  num_reviews  avg_rating  num_pages language  \\\n",
       "0      71355.0       5704.0        4.37      531.0  English   \n",
       "1     229715.0       7261.0        3.81      140.0  English   \n",
       "2      83933.0       1331.0        4.40      679.0  English   \n",
       "3     173617.0       6438.0        4.15      178.0  English   \n",
       "4      98164.0       5848.0        4.14      112.0  English   \n",
       "\n",
       "          publish_date  original_publish_year  \\\n",
       "0  2013-10-22 00:00:00                 1830.0   \n",
       "1  2003-06-01 00:00:00                 1513.0   \n",
       "2  1974-01-01 00:00:00                 1953.0   \n",
       "3  2003-06-02 00:00:00                 1967.0   \n",
       "4  2000-01-01 00:00:00                 1929.0   \n",
       "\n",
       "                                              genres  \\\n",
       "0  [Lds, Church, Christianity, Religion, Nonfiction]   \n",
       "1  [European Literature, Italian Literature, Hist...   \n",
       "2               [Science Fiction, Classics, Fiction]   \n",
       "3  [Childrens, Mystery, Middle Grade, Fiction, Yo...   \n",
       "4  [Essays, Feminism, Classics, Nonfiction, Writing]   \n",
       "\n",
       "                                          characters  \\\n",
       "0                                                NaN   \n",
       "1  [Theseus (mythology), Alexander the Great, Ces...   \n",
       "2  [Hari Seldon, Salvor Hardin, Hober Mallow, Mul...   \n",
       "3  [Mrs. Basil E. Frankweiler, Claudia Kincaid, J...   \n",
       "4                                                NaN   \n",
       "\n",
       "                                series  \\\n",
       "0                                  NaN   \n",
       "1                                  NaN   \n",
       "2  Foundation (Publication Order) #1-3   \n",
       "3                                  NaN   \n",
       "4                                  NaN   \n",
       "\n",
       "                                   places asin  0_rating_count  \\\n",
       "0                                     NaN  NaN             NaN   \n",
       "1                                     NaN  NaN             NaN   \n",
       "2                                     NaN  NaN             NaN   \n",
       "3  [New York City, New York, Connecticut]  NaN             NaN   \n",
       "4                                     NaN  NaN             NaN   \n",
       "\n",
       "   1_rating_count  2_rating_count  3_rating_count  4_rating_count  \\\n",
       "0          7520.0          2697.0          2521.0          1963.0   \n",
       "1          5254.0         16827.0         61182.0         80221.0   \n",
       "2           477.0          1521.0          9016.0         25447.0   \n",
       "3          2742.0          6381.0         29358.0         58559.0   \n",
       "4          1357.0          3778.0         15993.0         35876.0   \n",
       "\n",
       "   5_rating_count  \n",
       "0         56654.0  \n",
       "1         66231.0  \n",
       "2         47472.0  \n",
       "3         76577.0  \n",
       "4         41160.0  "
      ]
     },
     "execution_count": 15,
     "metadata": {},
     "output_type": "execute_result"
    }
   ],
   "source": [
    "# === First looks at books dataframe === #\n",
    "print(books.shape)\n",
    "books.head()"
   ]
  },
  {
   "cell_type": "code",
   "execution_count": 16,
   "metadata": {},
   "outputs": [
    {
     "data": {
      "text/plain": [
       "url                          0\n",
       "title                        1\n",
       "author                       1\n",
       "num_ratings                  1\n",
       "num_reviews                  1\n",
       "avg_rating                   1\n",
       "num_pages                 1175\n",
       "language                  2148\n",
       "publish_date               436\n",
       "original_publish_year     8675\n",
       "genres                    2941\n",
       "characters               15691\n",
       "series                   14466\n",
       "places                   16276\n",
       "asin                     17561\n",
       "0_rating_count           21514\n",
       "1_rating_count            1295\n",
       "2_rating_count            1295\n",
       "3_rating_count            1295\n",
       "4_rating_count            1295\n",
       "5_rating_count            1295\n",
       "dtype: int64"
      ]
     },
     "execution_count": 16,
     "metadata": {},
     "output_type": "execute_result"
    }
   ],
   "source": [
    "books.isnull().sum()"
   ]
  },
  {
   "cell_type": "markdown",
   "metadata": {},
   "source": [
    "---\n",
    "\n",
    "## To Be Continued\n",
    "\n",
    "The next notebook in this series, prefixed with '02', picks up where this one ends. I.e. the next one is where the bulk of the data wrangling and exploration takes place.\n",
    "\n",
    "See you there!"
   ]
  },
  {
   "cell_type": "markdown",
   "metadata": {},
   "source": [
    "## 📓👀"
   ]
  },
  {
   "cell_type": "markdown",
   "metadata": {},
   "source": []
  }
 ],
 "metadata": {
  "kernelspec": {
   "display_name": "Python 3",
   "language": "python",
   "name": "python3"
  },
  "language_info": {
   "codemirror_mode": {
    "name": "ipython",
    "version": 3
   },
   "file_extension": ".py",
   "mimetype": "text/x-python",
   "name": "python",
   "nbconvert_exporter": "python",
   "pygments_lexer": "ipython3",
   "version": "3.7.6"
  }
 },
 "nbformat": 4,
 "nbformat_minor": 4
}
