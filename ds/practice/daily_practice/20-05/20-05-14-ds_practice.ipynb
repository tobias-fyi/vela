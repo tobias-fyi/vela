{
 "cells": [
  {
   "cell_type": "markdown",
   "metadata": {},
   "source": [
    "# 20-05-14: Daily Data Practice\n",
    "\n",
    "---\n",
    "\n",
    "### Daily Practices\n",
    "\n",
    "* Practice with the common DS/ML tools and processes\n",
    "  * HackerRank SQL or Packt SQL Data Analytics\n",
    "  * Try to hit benchmark accuracies with [UCI ML datasets](https://archive.ics.uci.edu/ml/index.php)\n",
    "  * Kaggle\n",
    "  * Hands-on ML with sklearn, Keras, and TensorFlow\n",
    "    * Read, code along, take notes\n",
    "    * _test yourself on the concepts_ — i.e. do all the chapter exercises\n",
    "  * [fast.ai course](https://course.fast.ai/)\n",
    "  * Packt Workshops\n",
    "* Interviewing\n",
    "  * Behavioral questions and scenarios\n",
    "  * Business case walk-throughs\n",
    "  * Hot-seat DS-related topics for recall practice (under pressure)\n",
    "* Meta Data: Review and write\n",
    "  * Focus on a topic, review notes and resources, write a blog post about it\n",
    "* Job sourcing\n",
    "  * Networking\n",
    "  * LinkedIn\n",
    "  * Indeed"
   ]
  },
  {
   "cell_type": "markdown",
   "metadata": {},
   "source": [
    "---\n",
    "\n",
    "## Reading: Naked Statistics\n",
    "\n"
   ]
  },
  {
   "cell_type": "markdown",
   "metadata": {},
   "source": [
    "It is my goal today to reinvigorate myself and start a new phase of my understanding of statistics.\n",
    "\n",
    "> I will learn to love it!"
   ]
  },
  {
   "cell_type": "markdown",
   "metadata": {},
   "source": [
    "* Describe data\n",
    "  * An important power of statistics is the ability to boil down large / complex numbers into a single number\n",
    "* Inference is using data from the \"known world\" to make informed inferences about the \"unknown world\"\n",
    "* Make better decisions\n",
    "* Asses / classify risk\n",
    "* Find and describe (hopefully meaningful) relationships\n",
    "\n",
    "#### Descriptive Statistics\n",
    "\n",
    "1. Find some sort of \"middle\" or central tendency\n",
    "    * Different summary stats are misleading - or can be - in different ways, under different circumstances\n",
    "    * Percentiles provide comparative / relative measure\n",
    "\n",
    "> Absolute number, score, figure: has some sort of intrinsic meaning.\n",
    "> Context is not necessarily needed.\n",
    "> Relative value, figure: has meaning only in comparison to something else.\n",
    "> Needs context.\n",
    "\n",
    "2. Find the spread of the data with Standard Deviation\n",
    "    * Weights of people on an airplane vs. people running a marathon\n",
    "      * one will be more varied / spread, with a fatter distribution\n",
    "    * Normal distribution: bell shaped and symmetrical distribution around mean\n",
    "\n",
    "| StDevs | % |\n",
    "| --- | --- |\n",
    "| 1 | 68.2 |\n",
    "| 2 | 95.4 |\n",
    "| 3 | 99.7 |\n",
    "\n",
    "`% change = (new - old) / old`\n",
    "\n",
    "* An index is an example of a summary stat\n",
    "  * Lots of complex data simplified\n",
    "  * The important benefit is that now I can rank things that may have been untenable before\n",
    "  \n",
    "> Done with Chapter 2"
   ]
  },
  {
   "cell_type": "markdown",
   "metadata": {},
   "source": [
    "---\n",
    "\n",
    "## Writing\n",
    "\n",
    "> Focus on a topic or project, learn/review the concepts, and write a blog post about it\n",
    "\n"
   ]
  },
  {
   "cell_type": "markdown",
   "metadata": {},
   "source": [
    "* Finished recreating Tech Term Velocity on the new site\n",
    "* Started working on print(fiction)"
   ]
  },
  {
   "cell_type": "markdown",
   "metadata": {},
   "source": [
    "---\n",
    "\n",
    "### DS + ML Practice\n",
    "\n",
    "* Pick a dataset and try to do X with it\n",
    "  * Try to hit benchmark accuracies with [UCI ML datasets](https://archive.ics.uci.edu/ml/index.php)\n",
    "  * Kaggle\n",
    "* Practice with the common DS/ML tools and processes\n",
    "  * Hands-on ML with sklearn, Keras, and TensorFlow\n",
    "  * Machine learning flashcards\n",
    "\n",
    "#### _The goal is to be comfortable explaining the entire process._\n",
    "\n",
    "* Data access / sourcing, cleaning\n",
    "  * SQL\n",
    "  * Pandas\n",
    "  * Exploratory data analysis\n",
    "  * Data wrangling techniques and processes\n",
    "* Inference\n",
    "  * Statistics\n",
    "  * Probability\n",
    "  * Visualization\n",
    "* Modeling\n",
    "  * Implement + justify choice of model / algorithm\n",
    "  * Track performance + justify choice of metrics\n",
    "    * Communicate results as relevant to the goal"
   ]
  },
  {
   "cell_type": "markdown",
   "metadata": {},
   "source": [
    "Started getting into Ch 3 of Hands-On ML: Classification. More specifically, I read the section on evalutation metrics such as the confusion matrix.\n",
    "\n",
    "Just to review once again, hopefully drilling this in my head for good:\n",
    "\n",
    "* Precision = True Positives / (True Positives + False Positives)\n",
    "  * PREcision -> accuracy in PREdiected values\n",
    "* Recall = Real positives = True Positives / (True Positives + False Negatives)\n",
    "  * REcall -> accuracy in REal values"
   ]
  },
  {
   "cell_type": "markdown",
   "metadata": {},
   "source": []
  },
  {
   "cell_type": "markdown",
   "metadata": {},
   "source": []
  },
  {
   "cell_type": "markdown",
   "metadata": {},
   "source": []
  },
  {
   "cell_type": "markdown",
   "metadata": {},
   "source": []
  },
  {
   "cell_type": "markdown",
   "metadata": {},
   "source": []
  }
 ],
 "metadata": {
  "kernelspec": {
   "display_name": "Python 3.7.6 64-bit ('vela': pipenv)",
   "language": "python",
   "name": "python37664bitvelapipenvde09592071074af6a70ce3b1ce38af95"
  },
  "language_info": {
   "codemirror_mode": {
    "name": "ipython",
    "version": 3
   },
   "file_extension": ".py",
   "mimetype": "text/x-python",
   "name": "python",
   "nbconvert_exporter": "python",
   "pygments_lexer": "ipython3",
   "version": "3.7.6"
  }
 },
 "nbformat": 4,
 "nbformat_minor": 4
}
