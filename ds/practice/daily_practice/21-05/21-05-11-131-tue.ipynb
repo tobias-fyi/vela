{
 "cells": [
  {
   "cell_type": "markdown",
   "id": "joint-acquisition",
   "metadata": {},
   "source": [
    "# 2021-05-11 Daily Practice\n",
    "\n",
    "- [x] Practice\n",
    "  - [ ] SQL\n",
    "  - [x] Algorithms\n",
    "  - [ ] Solve + Design\n",
    "- [ ] Learn\n",
    "- [ ] Write\n",
    "- [ ] Build"
   ]
  },
  {
   "cell_type": "markdown",
   "id": "flexible-vintage",
   "metadata": {},
   "source": [
    "---\n",
    "\n",
    "## Practice"
   ]
  },
  {
   "source": [
    "### Binary Search\n",
    "\n",
    "> On [LeetCode](https://leetcode.com/problems/binary-search/)\n",
    "\n",
    "Given an array of integers nums which is sorted in ascending order, and an integer target, write a function to search target in nums. If target exists, then return its index. Otherwise, return -1.\n",
    "\n",
    "Example 1:\n",
    "\n",
    "    Input: nums = [-1,0,3,5,9,12], target = 9\n",
    "    Output: 4\n",
    "    Explanation: 9 exists in nums and its index is 4\n",
    "\n",
    "Example 2:\n",
    "\n",
    "    Input: nums = [-1,0,3,5,9,12], target = 2\n",
    "    Output: -1\n",
    "    Explanation: 2 does not exist in nums so return -1\n"
   ],
   "cell_type": "markdown",
   "metadata": {}
  },
  {
   "cell_type": "code",
   "execution_count": 20,
   "id": "promotional-identity",
   "metadata": {},
   "outputs": [],
   "source": [
    "from typing import List\n",
    "\n",
    "class Solution:\n",
    "    def search(self, nums: List[int], target: int) -> int:\n",
    "        mid_index = len(nums) // 2\n",
    "        result = self.binary_search(nums, 0, mid_index, len(nums) - 1, target)\n",
    "        return result\n",
    "\n",
    "    def binary_search(self, nums, start_index, mid_index, end_index, target) -> int:\n",
    "        # Base case: target is found\n",
    "        if nums[mid_index] == target:\n",
    "            return mid_index\n",
    "        # Base case: no more nums to search\n",
    "        if start_index == mid_index:\n",
    "            return -1\n",
    "        # Recursive case\n",
    "        # Compare target to value at mid_index\n",
    "        if target > nums[mid_index]:  # If target is larger\n",
    "            new_mid_index = mid_index + (len(nums[mid_index + 1:end_index + 1]) // 2)\n",
    "            return self.binary_search(nums, mid_index, new_mid_index, end_index, target)\n",
    "        if target < nums[mid_index]:  # If target smaller\n",
    "            new_mid_index = start_index + (len(nums[start_index:mid_index]) // 2)\n",
    "            return self.binary_search(nums, start_index, new_mid_index, mid_index, target)"
   ]
  },
  {
   "source": [
    "Not quite..."
   ],
   "cell_type": "markdown",
   "metadata": {}
  },
  {
   "cell_type": "code",
   "execution_count": 32,
   "metadata": {},
   "outputs": [],
   "source": [
    "class Solution:\n",
    "    def search(self, nums: List[int], target: int) -> int:\n",
    "        result = self.binary_search(nums, 0, len(nums) - 1, target)\n",
    "        return result\n",
    "\n",
    "    def binary_search(self, nums, start, end, target):\n",
    "        # Base case: high index is less than low\n",
    "        if start <= end:\n",
    "            mid_index = (start + end) // 2\n",
    "\n",
    "            if nums[mid_index] == target:\n",
    "                return mid_index\n",
    "            \n",
    "            # Compare target to value at mid index\n",
    "            elif target > nums[mid_index]:  # Must be in right slice\n",
    "                return self.binary_search(nums, mid_index + 1, end, target)\n",
    "            else:  # Must be in left\n",
    "                return self.binary_search(nums, start, mid_index - 1, target)\n",
    "        else:\n",
    "            return -1"
   ]
  },
  {
   "cell_type": "code",
   "execution_count": 33,
   "id": "perceived-serial",
   "metadata": {},
   "outputs": [
    {
     "output_type": "execute_result",
     "data": {
      "text/plain": [
       "4"
      ]
     },
     "metadata": {},
     "execution_count": 33
    }
   ],
   "source": [
    "nums = [-1,0,3,5,9,12]\n",
    "target = 9\n",
    "sol = Solution()\n",
    "sol.search(nums, target)"
   ]
  },
  {
   "cell_type": "code",
   "execution_count": 34,
   "id": "average-chapter",
   "metadata": {},
   "outputs": [
    {
     "output_type": "execute_result",
     "data": {
      "text/plain": [
       "-1"
      ]
     },
     "metadata": {},
     "execution_count": 34
    }
   ],
   "source": [
    "nums = [-1,0,3,5,9,12]\n",
    "target = 2\n",
    "sol = Solution()\n",
    "sol.search(nums, target)"
   ]
  },
  {
   "cell_type": "code",
   "execution_count": 35,
   "id": "single-declaration",
   "metadata": {},
   "outputs": [
    {
     "output_type": "execute_result",
     "data": {
      "text/plain": [
       "2"
      ]
     },
     "metadata": {},
     "execution_count": 35
    }
   ],
   "source": [
    "nums = [-1,0,5]\n",
    "target = 5\n",
    "sol = Solution()\n",
    "sol.search(nums, target)"
   ]
  },
  {
   "source": [
    "### Rotate Image\n",
    "\n",
    "> On [LeetCode](https://leetcode.com/problems/rotate-image/)\n",
    "\n",
    "You are given an n x n 2D matrix representing an image, rotate the image by 90 degrees (clockwise).\n",
    "\n",
    "You have to rotate the image in-place, which means you have to modify the input 2D matrix directly. DO NOT allocate another 2D matrix and do the rotation."
   ],
   "cell_type": "markdown",
   "metadata": {}
  },
  {
   "cell_type": "code",
   "execution_count": 46,
   "metadata": {},
   "outputs": [
    {
     "output_type": "execute_result",
     "data": {
      "text/plain": [
       "[[1, 2, 3], [4, 5, 6], [7, 8, 9]]"
      ]
     },
     "metadata": {},
     "execution_count": 46
    }
   ],
   "source": [
    "matrix = [\n",
    "    [1,2,3],\n",
    "    [4,5,6],\n",
    "    [7,8,9]\n",
    "]\n",
    "matrix"
   ]
  },
  {
   "cell_type": "code",
   "execution_count": 53,
   "metadata": {},
   "outputs": [],
   "source": [
    "def transpose_matrix(matrix: List[List[int]]) -> None:\n",
    "    \"\"\"Rows become columns and columns become rows.\"\"\"\n",
    "    for i in range(len(matrix)):\n",
    "        for j in range(i, len(matrix)):\n",
    "            first = matrix[i][j]  # Temp var to hold value\n",
    "            matrix[i][j] = matrix[j][i]  # Replace first value with second\n",
    "            matrix[j][i] = first  # Replace second value with first"
   ]
  },
  {
   "cell_type": "code",
   "execution_count": 55,
   "metadata": {},
   "outputs": [
    {
     "output_type": "execute_result",
     "data": {
      "text/plain": [
       "[[1, 4, 7], [2, 5, 8], [3, 6, 9]]"
      ]
     },
     "metadata": {},
     "execution_count": 55
    }
   ],
   "source": [
    "transpose_matrix(matrix)\n",
    "matrix"
   ]
  },
  {
   "cell_type": "code",
   "execution_count": 67,
   "metadata": {},
   "outputs": [],
   "source": [
    "matrix = [\n",
    "    [5,1,9,11],\n",
    "    [2,4,8,10],\n",
    "    [13,3,6,7],\n",
    "    [15,14,12,16]\n",
    "]"
   ]
  },
  {
   "cell_type": "code",
   "execution_count": 68,
   "metadata": {},
   "outputs": [],
   "source": [
    "def swap_matrix(matrix: List[List[int]]) -> None:\n",
    "    \"\"\"Swap symmetric column values within each row.\"\"\"\n",
    "    # Two pointers coming toward center\n",
    "    l = len(matrix)\n",
    "    for i in range(l):\n",
    "        for j in range(l // 2):\n",
    "            first = matrix[i][j]\n",
    "            matrix[i][j] = matrix[i][l-1-j]\n",
    "            matrix[i][l-1-j] = first"
   ]
  },
  {
   "cell_type": "code",
   "execution_count": 71,
   "metadata": {},
   "outputs": [
    {
     "output_type": "execute_result",
     "data": {
      "text/plain": [
       "[[11, 9, 1, 5], [10, 8, 4, 2], [7, 6, 3, 13], [16, 12, 14, 15]]"
      ]
     },
     "metadata": {},
     "execution_count": 71
    }
   ],
   "source": [
    "swap_matrix(matrix)\n",
    "matrix"
   ]
  },
  {
   "cell_type": "code",
   "execution_count": 74,
   "id": "double-member",
   "metadata": {},
   "outputs": [],
   "source": [
    "class Solution:\n",
    "    def rotate(self, matrix: List[List[int]]) -> None:\n",
    "        \"\"\"Do not return anything, modify matrix in-place instead.\"\"\"\n",
    "        # Rotate by transposition -> swapping\n",
    "        self.transpose_matrix(matrix)\n",
    "        self.swap_matrix(matrix)\n",
    "\n",
    "    def transpose_matrix(self, matrix: List[List[int]]) -> None:\n",
    "        \"\"\"Rows become columns and columns become rows.\"\"\"\n",
    "        for i in range(len(matrix)):\n",
    "            for j in range(i, len(matrix)):\n",
    "                first = matrix[i][j]  # Temp var to hold value\n",
    "                matrix[i][j] = matrix[j][i]  # Replace first value with second\n",
    "                matrix[j][i] = first  # Replace second value with first\n",
    "\n",
    "    def swap_matrix(self, matrix: List[List[int]]) -> None:\n",
    "        \"\"\"Swap symmetric column values within each row.\"\"\"\n",
    "        l = len(matrix)\n",
    "        # Two pointers coming toward center\n",
    "        for i in range(l):\n",
    "            for j in range(l // 2):\n",
    "                first = matrix[i][j]\n",
    "                matrix[i][j] = matrix[i][l-1-j]\n",
    "                matrix[i][l-1-j] = first"
   ]
  },
  {
   "cell_type": "code",
   "execution_count": 75,
   "metadata": {},
   "outputs": [
    {
     "output_type": "execute_result",
     "data": {
      "text/plain": [
       "[[7, 4, 1], [8, 5, 2], [9, 6, 3]]"
      ]
     },
     "metadata": {},
     "execution_count": 75
    }
   ],
   "source": [
    "matrix = [\n",
    "    [1,2,3],\n",
    "    [4,5,6],\n",
    "    [7,8,9]\n",
    "]\n",
    "\n",
    "sol = Solution()\n",
    "sol.rotate(matrix)\n",
    "matrix"
   ]
  },
  {
   "cell_type": "code",
   "execution_count": 76,
   "metadata": {},
   "outputs": [
    {
     "output_type": "execute_result",
     "data": {
      "text/plain": [
       "[[15, 13, 2, 5], [14, 3, 4, 1], [12, 6, 8, 9], [16, 7, 10, 11]]"
      ]
     },
     "metadata": {},
     "execution_count": 76
    }
   ],
   "source": [
    "matrix2 = [\n",
    "    [5,1,9,11],\n",
    "    [2,4,8,10],\n",
    "    [13,3,6,7],\n",
    "    [15,14,12,16]\n",
    "]\n",
    "\n",
    "sol = Solution()\n",
    "sol.rotate(matrix2)\n",
    "matrix2"
   ]
  },
  {
   "source": [
    "### Valid Parentheses\n",
    "\n",
    "> On [LeetCode](https://leetcode.com/problems/valid-parentheses/)\n",
    "\n",
    "Given a string s containing just the characters , ')', '{', '}', '[' and ']', determine if the input string is valid.\n",
    "\n",
    "An input string is valid if:\n",
    "\n",
    "- Open brackets must be closed by the same type of brackets.\n",
    "- Open brackets must be closed in the correct order."
   ],
   "cell_type": "markdown",
   "metadata": {}
  },
  {
   "cell_type": "code",
   "execution_count": 92,
   "metadata": {},
   "outputs": [],
   "source": [
    "from collections import deque\n",
    "\n",
    "class Solution:\n",
    "    def isValid(self, s: str) -> bool:\n",
    "        r_lookup = {\n",
    "            \")\": \"(\",\n",
    "            \"}\": \"{\",\n",
    "            \"]\": \"[\",\n",
    "        }\n",
    "        stack = deque()\n",
    "        \n",
    "        for p in s:\n",
    "            if p not in r_lookup:  # Left\n",
    "                stack.append(p)\n",
    "            # If p is right-handed without match -> invalid\n",
    "            if p in r_lookup:  # Right\n",
    "                if len(stack) == 0:  # If stack is empty -> invalid\n",
    "                    return False\n",
    "                else:\n",
    "                    if r_lookup[p] == stack[-1]:  # If matched, valid\n",
    "                        stack.pop()\n",
    "                    else:\n",
    "                        return False\n",
    "        if len(stack) > 0:\n",
    "            return False\n",
    "        else:\n",
    "            return True\n"
   ]
  },
  {
   "cell_type": "code",
   "execution_count": 93,
   "metadata": {},
   "outputs": [
    {
     "output_type": "execute_result",
     "data": {
      "text/plain": [
       "False"
      ]
     },
     "metadata": {},
     "execution_count": 93
    }
   ],
   "source": [
    "s = \"[\"\n",
    "\n",
    "sol = Solution()\n",
    "sol.isValid(s)"
   ]
  },
  {
   "cell_type": "code",
   "execution_count": 87,
   "metadata": {},
   "outputs": [
    {
     "output_type": "execute_result",
     "data": {
      "text/plain": [
       "True"
      ]
     },
     "metadata": {},
     "execution_count": 87
    }
   ],
   "source": [
    "s = \"()[]{}\"\n",
    "\n",
    "sol = Solution()\n",
    "sol.isValid(s)"
   ]
  },
  {
   "cell_type": "code",
   "execution_count": 88,
   "metadata": {},
   "outputs": [
    {
     "output_type": "execute_result",
     "data": {
      "text/plain": [
       "False"
      ]
     },
     "metadata": {},
     "execution_count": 88
    }
   ],
   "source": [
    "s = \"([)]\"\n",
    "\n",
    "sol = Solution()\n",
    "sol.isValid(s)"
   ]
  },
  {
   "cell_type": "code",
   "execution_count": 89,
   "metadata": {},
   "outputs": [
    {
     "output_type": "execute_result",
     "data": {
      "text/plain": [
       "True"
      ]
     },
     "metadata": {},
     "execution_count": 89
    }
   ],
   "source": [
    "s = \"{[]}\"\n",
    "\n",
    "sol = Solution()\n",
    "sol.isValid(s)"
   ]
  },
  {
   "cell_type": "code",
   "execution_count": 90,
   "metadata": {},
   "outputs": [
    {
     "output_type": "execute_result",
     "data": {
      "text/plain": [
       "False"
      ]
     },
     "metadata": {},
     "execution_count": 90
    }
   ],
   "source": [
    "s = \"(]\"\n",
    "\n",
    "sol = Solution()\n",
    "sol.isValid(s)"
   ]
  },
  {
   "source": [
    "### Grouping Anagrams\n",
    "\n",
    "On [LeetCode](https://leetcode.com/problems/group-anagrams/)\n",
    "\n",
    "Given an array of strings strs, group the anagrams together. You can return the answer in any order.\n",
    "\n",
    "An Anagram is a word or phrase formed by rearranging the letters of a different word or phrase, typically using all the original letters exactly once. \n",
    "\n",
    "Example 1:\n",
    "\n",
    "    Input: strs = [\"eat\",\"tea\",\"tan\",\"ate\",\"nat\",\"bat\"]\n",
    "    Output: [[\"bat\"],[\"nat\",\"tan\"],[\"ate\",\"eat\",\"tea\"]]\n",
    "\n",
    "Example 2:\n",
    "\n",
    "    Input: strs = [\"\"]\n",
    "    Output: [[\"\"]]\n",
    "\n",
    "Example 3:\n",
    "\n",
    "    Input: strs = [\"a\"]\n",
    "    Output: [[\"a\"]]"
   ],
   "cell_type": "markdown",
   "metadata": {}
  },
  {
   "source": [
    "# Brute force method\n",
    "\n",
    "# Create dict with first string as key and value of list with string as first item\n",
    "# Iterate through rest of strings\n",
    "# Compare set of current string to set of keys (iterate through keys)\n",
    "# If it is an anagram, the set of each string will match\n",
    "# If an anagram is found in existing keys, append string to that key's list of anagrams\n",
    "# If not found, add to dictionary"
   ],
   "cell_type": "code",
   "metadata": {},
   "execution_count": null,
   "outputs": []
  },
  {
   "cell_type": "code",
   "execution_count": 110,
   "metadata": {},
   "outputs": [],
   "source": [
    "# This solution doesn't work because it only counts the unique letters in the word\n",
    "# A correct solution will also contain the counts\n",
    "\n",
    "class Solution:\n",
    "    def groupAnagrams(self, strs: List[str]) -> List[List[str]]:\n",
    "        anas = {strs[0]: [strs[0]]}\n",
    "        for i in range(1, len(strs)):\n",
    "            cur_set = set(strs[i])\n",
    "            key_sets = [set(k) for k in anas.keys()]\n",
    "            if cur_set in key_sets:\n",
    "                for key in anas:\n",
    "                    if set(strs[i]) == set(key):\n",
    "                        anas[key].append(strs[i])\n",
    "            else:\n",
    "                anas[strs[i]] = [strs[i]]\n",
    "        \n",
    "        return list(anas.values())"
   ]
  },
  {
   "cell_type": "code",
   "execution_count": 111,
   "metadata": {},
   "outputs": [
    {
     "output_type": "execute_result",
     "data": {
      "text/plain": [
       "[['eat', 'tea', 'ate'], ['tan', 'nat'], ['bat']]"
      ]
     },
     "metadata": {},
     "execution_count": 111
    }
   ],
   "source": [
    "strs = [\"eat\",\"tea\",\"tan\",\"ate\",\"nat\",\"bat\"]\n",
    "\n",
    "sol = Solution()\n",
    "sol.groupAnagrams(strs)"
   ]
  },
  {
   "cell_type": "code",
   "execution_count": 112,
   "metadata": {},
   "outputs": [
    {
     "output_type": "execute_result",
     "data": {
      "text/plain": [
       "[['ddddddddddg', 'dgggggggggg']]"
      ]
     },
     "metadata": {},
     "execution_count": 112
    }
   ],
   "source": [
    "strs2 = [\"ddddddddddg\",\"dgggggggggg\"]\n",
    "\n",
    "sol = Solution()\n",
    "sol.groupAnagrams(strs2)\n",
    "# Should be: [[\"dgggggggggg\"],[\"ddddddddddg\"]]"
   ]
  },
  {
   "cell_type": "code",
   "execution_count": 100,
   "metadata": {},
   "outputs": [
    {
     "output_type": "stream",
     "name": "stdout",
     "text": [
      "True\n"
     ]
    },
    {
     "output_type": "execute_result",
     "data": {
      "text/plain": [
       "True"
      ]
     },
     "metadata": {},
     "execution_count": 100
    }
   ],
   "source": [
    "print(\"t\" in \"tea\")\n",
    "set(\"tea\") == set(\"ate\")"
   ]
  },
  {
   "cell_type": "code",
   "execution_count": 102,
   "metadata": {},
   "outputs": [
    {
     "output_type": "execute_result",
     "data": {
      "text/plain": [
       "[2, '2']"
      ]
     },
     "metadata": {},
     "execution_count": 102
    }
   ],
   "source": [
    "d = {1: 2, \"1\": \"2\"}\n",
    "list(d.values())"
   ]
  },
  {
   "cell_type": "code",
   "execution_count": 107,
   "metadata": {},
   "outputs": [
    {
     "output_type": "execute_result",
     "data": {
      "text/plain": [
       "'tea'"
      ]
     },
     "metadata": {},
     "execution_count": 107
    }
   ],
   "source": [
    "strs = [\"tea\",\"tan\",\"ate\",\"nat\",\"bat\"]\n",
    "\n",
    "strs[[set(k) for k in strs].index(set(\"eat\"))]"
   ]
  },
  {
   "cell_type": "code",
   "execution_count": null,
   "metadata": {},
   "outputs": [],
   "source": [
    "# Use dictionary to get counts of letters in words\n",
    "# Two words are anagrams if they have the same letters, all with the same counts\n",
    "from collections import Counter\n",
    "\n",
    "class Solution:\n",
    "    def groupAnagrams(self, strs: List[str]) -> List[List[str]]:\n",
    "        letter_counts = []\n",
    "        for s in strs:\n",
    "            letter_counts.append(Counter(s))\n",
    "        "
   ]
  },
  {
   "cell_type": "code",
   "execution_count": null,
   "metadata": {},
   "outputs": [],
   "source": [
    "# Sort the letters of words to find anagrams\n",
    "# Two words are anagrams if, when the letters are sorted, they are the same\n",
    "\n",
    "class Solution:\n",
    "    def groupAnagrams(self, strs: List[str]) -> List[List[str]]:"
   ]
  },
  {
   "cell_type": "code",
   "execution_count": null,
   "metadata": {},
   "outputs": [],
   "source": []
  }
 ],
 "metadata": {
  "kernelspec": {
   "name": "python37664bitvelapipenvde09592071074af6a70ce3b1ce38af95",
   "display_name": "Python 3.7.6 64-bit ('vela-_qIiF1eP': pipenv)"
  },
  "language_info": {
   "codemirror_mode": {
    "name": "ipython",
    "version": 3
   },
   "file_extension": ".py",
   "mimetype": "text/x-python",
   "name": "python",
   "nbconvert_exporter": "python",
   "pygments_lexer": "ipython3",
   "version": "3.7.6"
  },
  "metadata": {
   "interpreter": {
    "hash": "d279672dec97687973da8f2b23dbdcc76259fde61874b489061eca7e42b844dc"
   }
  }
 },
 "nbformat": 4,
 "nbformat_minor": 5
}