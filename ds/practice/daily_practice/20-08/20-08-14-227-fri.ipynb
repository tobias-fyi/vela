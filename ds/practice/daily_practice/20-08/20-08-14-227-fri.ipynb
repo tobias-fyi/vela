{
 "cells": [
  {
   "cell_type": "markdown",
   "metadata": {},
   "source": [
    "# 20-08-14: Daily Practice"
   ]
  },
  {
   "cell_type": "markdown",
   "metadata": {},
   "source": [
    "---\n",
    "---\n",
    "\n",
    "## Practices"
   ]
  },
  {
   "cell_type": "markdown",
   "metadata": {},
   "source": [
    "### Daily\n",
    "\n",
    "* [ ] [Job Search](#2-Hour-Job-Search)\n",
    "  * [ ] 2HJS progress\n",
    "  * [x] Network\n",
    "  * [ ] Social media\n",
    "* [ ] [Meta-data: read & write](#Meta-data:-reading-&-writing)\n",
    "* [ ] [Practice & learn](#Practice-&-learn)\n",
    "  * [ ] Algorithms & data structures\n",
    "  * [x] Project Euler/Brain teasers\n",
    "  * [x] Interviewing, STAR storytelling\n",
    "  * [ ] Data science: access, manipulation, analysis, visualization\n",
    "  * [ ] Machine learning: Scikit-learn, TensorFlow, PyTorch\n",
    "  * [ ] Engineering: SQL, PySpark, APIs, TDD, OOP"
   ]
  },
  {
   "cell_type": "markdown",
   "metadata": {},
   "source": [
    "### Weekly\n",
    "\n",
    "Vim command(s) I'll get familiar with this week:\n",
    "\n"
   ]
  },
  {
   "cell_type": "markdown",
   "metadata": {},
   "source": [
    "---\n",
    "---\n",
    "\n",
    "## 2-Hour Job Search"
   ]
  },
  {
   "cell_type": "markdown",
   "metadata": {},
   "source": [
    "### Informational\n",
    "\n",
    "Had one informational this morning. I'm really enjoying meeting and connecting with new people, especially when we get to talk about fascinating topics like data science and machine/deep learning."
   ]
  },
  {
   "cell_type": "markdown",
   "metadata": {},
   "source": []
  },
  {
   "cell_type": "markdown",
   "metadata": {},
   "source": []
  },
  {
   "cell_type": "markdown",
   "metadata": {},
   "source": []
  },
  {
   "cell_type": "markdown",
   "metadata": {},
   "source": [
    "---\n",
    "---\n",
    "\n",
    "## Meta-data: read & write"
   ]
  },
  {
   "cell_type": "markdown",
   "metadata": {},
   "source": []
  },
  {
   "cell_type": "markdown",
   "metadata": {},
   "source": []
  },
  {
   "cell_type": "markdown",
   "metadata": {},
   "source": [
    "---\n",
    "---\n",
    "\n",
    "## Practice & learn"
   ]
  },
  {
   "cell_type": "markdown",
   "metadata": {},
   "source": [
    "---\n",
    "\n",
    "### Brain teasers: Project Euler"
   ]
  },
  {
   "cell_type": "markdown",
   "metadata": {},
   "source": [
    "#### Multiples of 3 and 5\n",
    "\n",
    "If we list all the natural numbers below 10 that are multiples of 3 or 5, we get 3, 5, 6 and 9. The sum of these multiples is 23.\n",
    "\n",
    "Find the sum of all the multiples of 3 or 5 below 1000."
   ]
  },
  {
   "cell_type": "code",
   "execution_count": null,
   "metadata": {},
   "outputs": [],
   "source": [
    "def multiples_sum(num1: int, num2: int, threshold: int) -> int:\n",
    "    # There are at least two ways of doing this that I can think of immediately\n",
    "    \n",
    "    # Method 1:\n",
    "    # One would be to iterate through each number below the threshold,\n",
    "    # taking the modulo of both numbers, adding that to the total sum when mod is 0.\n",
    "    # The issue with this is that this requires a lot of iteration. (time complexity)\n",
    "    \n",
    "    # Method 2:\n",
    "    # The other one would be to iterate through only the multiples of both numbers.\n",
    "    # This would reduce the time complexity at least in half, if not a little more.\n",
    "    pass"
   ]
  },
  {
   "cell_type": "code",
   "execution_count": 10,
   "metadata": {},
   "outputs": [],
   "source": [
    "# === Method 1 === #\n",
    "\n",
    "def multiples_sum(num1: int, num2: int, threshold: int) -> int:\n",
    "    # Keep track of total sum\n",
    "    total = 0\n",
    "    # Iterate through range up to threshold\n",
    "    for i in range(threshold):\n",
    "        # Modulo current number by both nums\n",
    "        # If one or both modulos are 0, add current number to sum\n",
    "        if i % num1 == 0 or i % num2 == 0:\n",
    "            total += i\n",
    "    # Return total sum\n",
    "    return total"
   ]
  },
  {
   "cell_type": "code",
   "execution_count": 11,
   "metadata": {},
   "outputs": [
    {
     "name": "stdout",
     "output_type": "stream",
     "text": [
      "23\n",
      "233168\n"
     ]
    }
   ],
   "source": [
    "print(multiples_sum(3, 5, 10))\n",
    "print(multiples_sum(3, 5, 1000))"
   ]
  },
  {
   "cell_type": "code",
   "execution_count": 12,
   "metadata": {},
   "outputs": [],
   "source": [
    "# === Method 2 === #\n",
    "\n",
    "def multiples_sum2(num1: int, num2: int, threshold: int) -> int:\n",
    "    # Keep track of total\n",
    "    total = 0\n",
    "    # Iterate through all multiples of num1 up to threshold\n",
    "    for i1 in range(0, threshold, num1):\n",
    "        # Add all of them to total\n",
    "        total += i1\n",
    "    # Iterate through all multiples of num2 up to threshold\n",
    "    for i2 in range(0, threshold, num2):\n",
    "        # Check if current multiple mod num1 is 0\n",
    "        if i2 % num1 == 0:\n",
    "            # If so, do not add to total\n",
    "            continue\n",
    "        # If not, add to total\n",
    "        else:\n",
    "            total += i2\n",
    "    # Return total\n",
    "    return total"
   ]
  },
  {
   "cell_type": "code",
   "execution_count": 13,
   "metadata": {},
   "outputs": [
    {
     "name": "stdout",
     "output_type": "stream",
     "text": [
      "23\n",
      "233168\n"
     ]
    }
   ],
   "source": [
    "print(multiples_sum2(3, 5, 10))\n",
    "print(multiples_sum2(3, 5, 1000))"
   ]
  },
  {
   "cell_type": "code",
   "execution_count": 18,
   "metadata": {},
   "outputs": [
    {
     "name": "stdout",
     "output_type": "stream",
     "text": [
      "Method 1 time: 0:00:01.608123\n",
      "Method 2 time: 0:00:00.434936\n"
     ]
    }
   ],
   "source": [
    "# === Check to see which is faster === #\n",
    "import datetime\n",
    "\n",
    "method_1_start = datetime.datetime.now()\n",
    "multiples_sum(3, 5, 10000000)\n",
    "method_1_end = datetime.datetime.now()\n",
    "print(f\"Method 1 time: {method_1_end - method_1_start}\")\n",
    "\n",
    "method_2_start = datetime.datetime.now()\n",
    "multiples_sum2(3, 5, 10000000)\n",
    "method_2_end = datetime.datetime.now()\n",
    "print(f\"Method 2 time: {method_2_end - method_2_start}\")"
   ]
  },
  {
   "cell_type": "markdown",
   "metadata": {},
   "source": [
    "#### Even Fibonacci Numbers\n",
    "\n",
    "Each new term in the Fibonacci sequence is generated by adding the previous two terms. By starting with 1 and 2, the first 10 terms will be:\n",
    "\n",
    "    1, 2, 3, 5, 8, 13, 21, 34, 55, 89, ...\n",
    "\n",
    "By considering the terms in the Fibonacci sequence whose values do not exceed four million, find the sum of the even-valued terms."
   ]
  },
  {
   "cell_type": "code",
   "execution_count": 20,
   "metadata": {},
   "outputs": [
    {
     "data": {
      "text/plain": [
       "55"
      ]
     },
     "execution_count": 20,
     "metadata": {},
     "output_type": "execute_result"
    }
   ],
   "source": [
    "def fib(n: int):\n",
    "    \"\"\"Prints out terms of fibonacci sequence - recursive.\"\"\"\n",
    "    # === Base case === #\n",
    "    if n == 0 or n == 1:\n",
    "        return n\n",
    "    \n",
    "    # === Recursive call === #\n",
    "    return fib(n - 1) + fib(n - 2)\n",
    "    \n",
    "fib(10)"
   ]
  },
  {
   "cell_type": "code",
   "execution_count": 25,
   "metadata": {},
   "outputs": [
    {
     "data": {
      "text/plain": [
       "6765"
      ]
     },
     "execution_count": 25,
     "metadata": {},
     "output_type": "execute_result"
    }
   ],
   "source": [
    "from functools import lru_cache\n",
    "\n",
    "@lru_cache(maxsize=None)\n",
    "def fib(n: int):\n",
    "    \"\"\"Prints out terms of fibonacci sequence - recursive.\"\"\"\n",
    "    # === Base case === #\n",
    "    if n < 2:\n",
    "        return n\n",
    "    \n",
    "    # === Recursive call === #\n",
    "    return fib(n - 2) + fib(n - 1)\n",
    "    \n",
    "fib(20)"
   ]
  },
  {
   "cell_type": "code",
   "execution_count": 26,
   "metadata": {},
   "outputs": [
    {
     "data": {
      "text/plain": [
       "4613732"
      ]
     },
     "execution_count": 26,
     "metadata": {},
     "output_type": "execute_result"
    }
   ],
   "source": [
    "def even_fib(threshold: int) -> int:\n",
    "    total = 0  # Keep track of total sum\n",
    "    # Iterate up, calling fib on each number\n",
    "    for i in range(threshold):\n",
    "        term = fib(i)\n",
    "        if term % 2 == 0:  # If term is even\n",
    "            # If number is less than threshold, add to sum\n",
    "            if term <= threshold:\n",
    "                total += term\n",
    "            # If greater, return sum\n",
    "            else:\n",
    "                return total\n",
    "\n",
    "even_fib(4000000)"
   ]
  },
  {
   "cell_type": "markdown",
   "metadata": {},
   "source": [
    "---\n",
    "\n",
    "### Interview questions"
   ]
  },
  {
   "cell_type": "markdown",
   "metadata": {},
   "source": [
    "> This question was asked by: LinkedIn  \n",
    "> Let's say we're given a dataset of page views where each row represents one page view.  \n",
    "> How would you differentiate between scrapers and real people?  "
   ]
  },
  {
   "cell_type": "markdown",
   "metadata": {},
   "source": [
    "One way that could lead to differentiation between scrapers and real people is the speed or frequency at which the page views happen. It would be quite unnatural for a real person to jump from page to page at a rate of more than one page every few seconds — 1 second to be safe.\n",
    "\n",
    "There would have to be some sort of time stamp and some sort of identifying number or IP address for each distinct \"user\". With those two features, it would be a simple case of measuring the time between page views.\n",
    "\n",
    "Another (very similar) method, also requiring time stamps and IP address/user ID, would be to look for cases where the interval between page views is exactly the same across multiple pages. I'd assume that many scrapers will have a set interval, which would be visible through analysis."
   ]
  },
  {
   "cell_type": "markdown",
   "metadata": {},
   "source": [
    "---\n",
    "\n",
    "### Data science and machine learning"
   ]
  },
  {
   "cell_type": "markdown",
   "metadata": {},
   "source": [
    "#### Case Study: Bike Sharing\n",
    "\n",
    "Met with my coach and had a half-practice half-explanatory interview/meeting. It was a great way to continue case study practice and my work on defining a framework for tackling these problems in an complete, meaningful, methodical way."
   ]
  },
  {
   "cell_type": "markdown",
   "metadata": {},
   "source": [
    "> You are provided with a dataset containing the hourly and daily count of rental bikes between years 2011 and 2012 with corresponding weather and seasonal information. Your aim is to build a model to predict the volume of bike rentals in a given time period.\n",
    "\n",
    "Please share how you would:\n",
    "\n",
    "1. Frame the problem (e.g. type of model, metrics, problem statement)\n",
    "2. Prepare the data\n",
    "3. Explore the data\n",
    "4. Create a train-validation split\n",
    "5. Assess a handful of models\n",
    "  * For the machine learning technique you mentioned, please explain to me how it works like I'm a five year old.\n",
    "6. Decide on a model for production\n",
    "  * Now that we have a working model, we want to take the next step of using this model to deploy the proper number of bikes to the area in question. It costs money to deploy bikes, particularly when they aren't being rented. How would you design a process or framework to ensure that enough bikes are deployed without overdeploying and costing the company?"
   ]
  },
  {
   "cell_type": "markdown",
   "metadata": {},
   "source": [
    "> More details in the notebook: case_study_ds_ml.ipynb"
   ]
  },
  {
   "cell_type": "code",
   "execution_count": null,
   "metadata": {},
   "outputs": [],
   "source": []
  },
  {
   "cell_type": "code",
   "execution_count": null,
   "metadata": {},
   "outputs": [],
   "source": []
  },
  {
   "cell_type": "markdown",
   "metadata": {},
   "source": []
  },
  {
   "cell_type": "markdown",
   "metadata": {},
   "source": []
  },
  {
   "cell_type": "markdown",
   "metadata": {},
   "source": []
  },
  {
   "cell_type": "markdown",
   "metadata": {},
   "source": []
  }
 ],
 "metadata": {
  "kernelspec": {
   "display_name": "Python 3.7.6 64-bit ('vela': pipenv)",
   "language": "python",
   "name": "python37664bitvelapipenvde09592071074af6a70ce3b1ce38af95"
  },
  "language_info": {
   "codemirror_mode": {
    "name": "ipython",
    "version": 3
   },
   "file_extension": ".py",
   "mimetype": "text/x-python",
   "name": "python",
   "nbconvert_exporter": "python",
   "pygments_lexer": "ipython3",
   "version": "3.7.6"
  }
 },
 "nbformat": 4,
 "nbformat_minor": 4
}
