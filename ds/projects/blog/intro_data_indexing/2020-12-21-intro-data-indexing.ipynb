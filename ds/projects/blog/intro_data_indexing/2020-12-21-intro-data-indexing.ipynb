{
 "cells": [
  {
   "cell_type": "markdown",
   "metadata": {
    "colab_type": "text",
    "id": "6K-Ijmo7VceT"
   },
   "source": [
    "# \"Exploring the Basics of Data Indexing\"\n",
    "\n",
    "> \"A gentle introduction to the concept of data indexing.\"\n",
    "\n",
    "- toc: true\n",
    "- badges: true\n",
    "- author: Tobias Reaper\n",
    "- comments: true\n",
    "- categories: [blog]\n",
    "- image: "
   ]
  },
  {
   "cell_type": "markdown",
   "metadata": {},
   "source": [
    "---"
   ]
  },
  {
   "cell_type": "markdown",
   "metadata": {},
   "source": [
    "# Introduction"
   ]
  },
  {
   "cell_type": "markdown",
   "metadata": {},
   "source": [
    "Anyone who has worked with data in even a limited capacity — which, if considered literally, is virtually most people nowadays — is likely familiar with the term _data indexing_. I explicitly won't be getting into SQL or _database_ indexing in this particular piece; that will be the topic of another.\n",
    "\n",
    "Therefore, in its most generic form, what is a _data index_? For that matter, what is an _index_?\n",
    "\n",
    "There are a few things that come to mind right off the bat.\n",
    "\n",
    "The first one is the index of a book — that section typically at the back of books (usually reference-type books such as textbooks) that list specific names and terms and where in the book they can be found. I think this is one of the best ways to illustrate what an index _does_: it allows information to be \"looked up\" more easily and/or quickly.\n",
    "\n",
    "For example, an index would be quite useful when looking for a specific term, say \"immediately invoked function expressions\" in a JavaScript textbook. If that term was listed in the book's index, it would be easy to find every page where this term appears and simply flip to those pages directly. If no index existed, or that term wasn't listed, then one would have to do some searching. An intelligent algorithm for searching could reduce the time and page-flips needed to find the term, but the effort involved in this is, obviously, much greater than simply flipping directly to pages.\n",
    "\n",
    "For those with some familiarity with data structures, this is very similar (if not identical in some cases) to looking something up in a hashtable versus an array. There's a reason hashtables were invented: they are _much_ more efficient for many purposes.\n",
    "\n",
    "As someone who has worked quite a lot with pandas, the next thing that comes to mind when I hear or read the phrase \"data indexing\" is the index column in a pandas dataframe. If you're familiar with this concept of an index column, that's also not a bad way to think about the more generic form of data index: it is a method of looking up data — you can access rows of the dataframe by \"indexing\" them.\n",
    "\n"
   ]
  },
  {
   "cell_type": "code",
   "execution_count": null,
   "metadata": {},
   "outputs": [],
   "source": []
  },
  {
   "cell_type": "markdown",
   "metadata": {},
   "source": [
    "## Data Reindexing Example: By Artist\n",
    "\n",
    "In this example, I'll be using an imaginary API that returns music metadata to build a dataset as an array of objects / dictionaries, where each item (object / dict / hash table) in the array represents one row in the dataset. In this format, each of the data points are assigned directly to their column names within the object. The other common format for datasets returned as JSON objects via an API is an array of arrays, where the column names are held in some other object and can be matched to their respective row-data by way of numerical indexing. For this example, I'm going to be using the former.\n",
    "\n",
    "Here is an example of what a couple rows would look like in this format (once the JSON object is converted into a Python dictionary, which is essentially the same thing)."
   ]
  },
  {
   "cell_type": "code",
   "execution_count": null,
   "metadata": {},
   "outputs": [],
   "source": [
    "rows = [\n",
    "    {\n",
    "        \"id\": \"V6cb2pnH4vDW15pI\",\n",
    "        \"track_title\": \"Fairy\",\n",
    "        \"artists\": [\"Amonita\"],\n",
    "        \"collaborators\": \"\",\n",
    "        \"label\": \"All Day I Dream\",\n",
    "        \"release_title\": \"Secret of Happiness\",\n",
    "        \"release_date\": \"2019-04-19\",\n",
    "        \"genre\": \"Deep House\",\n",
    "        \"duration\": 436000,\n",
    "        \"danceability\": 0.78,\n",
    "        \"key\": 7,\n",
    "        \"valence\": 0.81,\n",
    "        \"playlist_count\": 382,\n",
    "        \"streams\": 442906\n",
    "    },\n",
    "    {\n",
    "        \"id\": \"J2amgp6tQli64sKU\",\n",
    "        \"track_title\": \"Do Not Grill Inside\",\n",
    "        \"artists\": [\"Gab Rhome\"],\n",
    "        \"collaborators\": \"\",\n",
    "        \"label\": \"All Day I Dream\",\n",
    "        \"release_title\": \"Rêveries Éphémères\",\n",
    "        \"release_date\": \"2019-05-03\",\n",
    "        \"genre\": \"Deep House\",\n",
    "        \"duration\": 433000,\n",
    "        \"danceability\": 0.71,\n",
    "        \"key\": 3,\n",
    "        \"valence\": 0.65,\n",
    "        \"playlist_count\": 148,\n",
    "        \"streams\": 510786\n",
    "    },\n",
    "    # And so on...\n",
    "]"
   ]
  },
  {
   "cell_type": "markdown",
   "metadata": {},
   "source": [
    "One of the key features of this"
   ]
  },
  {
   "cell_type": "markdown",
   "metadata": {},
   "source": [
    "Say that we need to group the rows by artist in order to create a chart of each artist's releases over time, to visualize trends in popularity over time.\n",
    "\n",
    "The code will loop through a list of artists and render a set of charts for each. Therefore, the data needs to be efficiently accessed by artist. As alluded to above, it wouldn't be very efficient to simply run through the entire dataset every single time to add the rows where the `artist` column matches each one in the list. A much more time-efficient way to go about this is to index the data by artist, in this example using a hash table as the data structure.\n",
    "\n",
    "The final result will look something like this:"
   ]
  },
  {
   "cell_type": "code",
   "execution_count": null,
   "metadata": {},
   "outputs": [],
   "source": [
    "rows_by_artist = {\n",
    "    \"Amonita\": [\n",
    "        {\n",
    "            \"id\": \"V6cb2pnH4vDW15pI\",\n",
    "            \"track_title\": \"Fairy\",\n",
    "            \"artists\": [\"Amonita\"],\n",
    "            \"collaborators\": \"\",\n",
    "            \"label\": \"All Day I Dream\",\n",
    "            \"release_title\": \"Secret of Happiness\",\n",
    "            \"release_date\": \"2019-04-19\",\n",
    "            \"genre\": \"Deep House\",\n",
    "            \"duration\": 436000,\n",
    "            \"danceability\": 0.78,\n",
    "            \"key\": 7,\n",
    "            \"valence\": 0.81,\n",
    "            \"playlist_count\": 382,\n",
    "            \"streams\": 442906\n",
    "        },\n",
    "        {\n",
    "            \"id\": \"V6cb2pnH4vDW15pI\",\n",
    "            \"track_title\": \"Azure\",\n",
    "            \"artists\": [\"Amonita\"],\n",
    "            \"collaborators\": \"\",\n",
    "            \"label\": \"All Day I Dream\",\n",
    "            \"release_title\": \"Secret of Happiness\",\n",
    "            \"release_date\": \"2019-04-19\",\n",
    "            \"genre\": \"Deep House\",\n",
    "            \"duration\": 436000,\n",
    "            \"danceability\": 0.78,\n",
    "            \"key\": 7,\n",
    "            \"valence\": 0.81,\n",
    "            \"playlist_count\": 93,\n",
    "            \"streams\": 38337\n",
    "        },\n",
    "    ],\n",
    "    \"Gab Rhome\": [\n",
    "        {\n",
    "            \"id\": \"J2amgp6tQli64sKU\",\n",
    "            \"track_title\": \"Do Not Grill Inside\",\n",
    "            \"artists\": [\"Gab Rhome\"],\n",
    "            \"collaborators\": \"\",\n",
    "            \"label\": \"All Day I Dream\",\n",
    "            \"release_title\": \"Rêveries Éphémères\",\n",
    "            \"release_date\": \"2019-05-03\",\n",
    "            \"genre\": \"Deep House\",\n",
    "            \"duration\": 433000,\n",
    "            \"danceability\": 0.71,\n",
    "            \"key\": 3,\n",
    "            \"valence\": 0.65,\n",
    "            \"playlist_count\": 148,\n",
    "            \"streams\": 510786\n",
    "        },\n",
    "        {\n",
    "            \"id\": \"J2amgp6tQli64sKU\",\n",
    "            \"track_title\": \"La Maison\",\n",
    "            \"artists\": [\"Gab Rhome\"],\n",
    "            \"collaborators\": \"\",\n",
    "            \"label\": \"Sol Selectas\",\n",
    "            \"release_title\": \"La Maison\",\n",
    "            \"release_date\": \"2018-12-31\",\n",
    "            \"genre\": \"Deep House\",\n",
    "            \"duration\": 430000,\n",
    "            \"danceability\": 0.78,\n",
    "            \"key\": 7,\n",
    "            \"valence\": 0.68,\n",
    "            \"playlist_count\": 520,\n",
    "            \"streams\": 2478105\n",
    "        },\n",
    "    ]\n",
    "}"
   ]
  },
  {
   "cell_type": "code",
   "execution_count": null,
   "metadata": {},
   "outputs": [],
   "source": []
  },
  {
   "cell_type": "code",
   "execution_count": null,
   "metadata": {},
   "outputs": [],
   "source": []
  },
  {
   "cell_type": "code",
   "execution_count": null,
   "metadata": {},
   "outputs": [],
   "source": []
  }
 ],
 "metadata": {
  "kernelspec": {
   "display_name": "Python 3.7.6 64-bit ('vela': pipenv)",
   "language": "python",
   "name": "python37664bitvelapipenvde09592071074af6a70ce3b1ce38af95"
  },
  "language_info": {
   "codemirror_mode": {
    "name": "ipython",
    "version": 3
   },
   "file_extension": ".py",
   "mimetype": "text/x-python",
   "name": "python",
   "nbconvert_exporter": "python",
   "pygments_lexer": "ipython3",
   "version": "3.7.6"
  }
 },
 "nbformat": 4,
 "nbformat_minor": 4
}
