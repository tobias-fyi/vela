{
 "cells": [
  {
   "cell_type": "markdown",
   "metadata": {},
   "source": [
    "# 20-08-07: Daily Practice"
   ]
  },
  {
   "cell_type": "markdown",
   "metadata": {},
   "source": [
    "---\n",
    "---\n",
    "\n",
    "## Practices"
   ]
  },
  {
   "cell_type": "markdown",
   "metadata": {},
   "source": [
    "### Daily\n",
    "\n",
    "* [x] [Job Search](#2-Hour-Job-Search)\n",
    "  * [x] 2HJS progress\n",
    "  * [x] Network\n",
    "  * [x] Social media\n",
    "* [ ] [Meta-data: read & write](#Meta-data:-reading-&-writing)\n",
    "* [x] [Practice & learn](#Practice-&-learn)\n",
    "  * [x] Coding, algorithms & data structures\n",
    "  * [ ] Data science: access, manipulation, analysis, visualization\n",
    "  * [x] Engineering: SQL, PySpark, APIs, TDD, OOP\n",
    "  * [ ] Machine learning: Scikit-learn, TensorFlow, PyTorch\n",
    "  * [ ] Interview questions, STAR storytelling"
   ]
  },
  {
   "cell_type": "markdown",
   "metadata": {},
   "source": [
    "### Weekly\n",
    "\n",
    "Vim command(s) I'll get familiar with this week:\n",
    "\n",
    "* `*` — jump forward to next occurrence of current word\n",
    "* `#` — jump backward to previous occurrence of current word\n",
    "* Combine with...\n",
    "  * `n` to continue going in same direction\n",
    "  * `N` to go in reverse direction"
   ]
  },
  {
   "cell_type": "markdown",
   "metadata": {},
   "source": [
    "---\n",
    "---\n",
    "\n",
    "## 2-Hour Job Search"
   ]
  },
  {
   "cell_type": "markdown",
   "metadata": {},
   "source": [
    "### Interview\n",
    "\n",
    "Had my first real interview today, and it went really well. Got to talk about my favorite project the entire time — the ideal situation."
   ]
  },
  {
   "cell_type": "markdown",
   "metadata": {},
   "source": []
  },
  {
   "cell_type": "markdown",
   "metadata": {},
   "source": []
  },
  {
   "cell_type": "markdown",
   "metadata": {},
   "source": []
  },
  {
   "cell_type": "markdown",
   "metadata": {},
   "source": [
    "---\n",
    "---\n",
    "\n",
    "## Meta-data: read & write"
   ]
  },
  {
   "cell_type": "markdown",
   "metadata": {},
   "source": []
  },
  {
   "cell_type": "markdown",
   "metadata": {},
   "source": []
  },
  {
   "cell_type": "markdown",
   "metadata": {},
   "source": [
    "---\n",
    "---\n",
    "\n",
    "## Practice & learn"
   ]
  },
  {
   "cell_type": "markdown",
   "metadata": {},
   "source": [
    "---\n",
    "\n",
    "### Coding, algorithms & data structures"
   ]
  },
  {
   "cell_type": "markdown",
   "metadata": {},
   "source": [
    "#### [Hash Tables: Ransom Note](https://www.hackerrank.com/challenges/ctci-ransom-note/problem)\n",
    "\n",
    "Harold is a kidnapper who wrote a ransom note, but now he is worried it will be traced back to him through his handwriting. He found a magazine and wants to know if he can cut out whole words from it and use them to create an untraceable replica of his ransom note. The words in his note are case-sensitive and he must use only whole words available in the magazine. He cannot use substrings or concatenation to create the words he needs.\n",
    "\n",
    "Given the words in the magazine and the words in the ransom note, print `Yes` if he can replicate his ransom note exactly using whole words from the magazine; otherwise, print `No`.\n",
    "\n",
    "For example, the note is \"Attack at dawn\". The magazine contains only \"attack at dawn\". The magazine has all the right words, but there's a case mismatch. The answer is `No`."
   ]
  },
  {
   "cell_type": "code",
   "execution_count": null,
   "metadata": {},
   "outputs": [],
   "source": [
    "# Complete the checkMagazine function below.\n",
    "def checkMagazine(magazine, note):\n",
    "    # Method 1: Insert each word of mag into dictionary, then loop through note trying to match up.\n",
    "    # If no exact match exists, return No. If they all match, return Yes\n",
    "    pass"
   ]
  },
  {
   "cell_type": "code",
   "execution_count": 11,
   "metadata": {},
   "outputs": [
    {
     "name": "stdout",
     "output_type": "stream",
     "text": [
      "{'give': 0, 'me': 0, 'one': 0, 'grand': 0, 'today': 0, 'night': 0}\n",
      "Yes\n",
      "{'give': 1, 'me': 0, 'one': 1, 'grand': 1, 'today': 1, 'night': 0}\n"
     ]
    }
   ],
   "source": [
    "# === Test 1 === #\n",
    "mag1 = \"give me one grand today night\"\n",
    "note1 = \"give one grand today\"\n",
    "\n",
    "mag1_dict = {v:0 for (i, v) in enumerate(mag1.split())}\n",
    "print(mag1_dict)\n",
    "\n",
    "not_found = 0\n",
    "for word in note1.split():\n",
    "    try:\n",
    "        mag1_dict[word] += 1\n",
    "    except KeyError:\n",
    "        print(\"No\")\n",
    "        not_found += 1\n",
    "\n",
    "if not_found == 0:\n",
    "    print(\"Yes\")\n",
    "    \n",
    "print(mag1_dict)"
   ]
  },
  {
   "cell_type": "code",
   "execution_count": 7,
   "metadata": {},
   "outputs": [],
   "source": [
    "# === Plain dictionary (doesn't work for duplicates) === #\n",
    "def checkMagazine(magazine, note):\n",
    "    # Insert each word of mag into dict as keys, with 0 as value\n",
    "    mag = {v:0 for (i, v) in enumerate(magazine.split())}\n",
    "    for word in note.split():  # Loop through note trying to match up\n",
    "        try:\n",
    "            used = mag[word]\n",
    "            # Watch out for duplicates by adding 1 if already used\n",
    "            if used == 0\n",
    "        except KeyError:\n",
    "            # If no exact match exists, return No.\n",
    "            return \"No\"\n",
    "    # If loop completes without error, return Yes\n",
    "    return \"Yes\""
   ]
  },
  {
   "cell_type": "code",
   "execution_count": 16,
   "metadata": {},
   "outputs": [],
   "source": [
    "# === Now, with a counter === #\n",
    "from collections import Counter\n",
    "\n",
    "def checkMagazine(magazine, note):\n",
    "    # Insert each word of mag into dict as keys, with count as value\n",
    "    # AKA a counter\n",
    "    mag = Counter(magazine.split())\n",
    "    for word in note.split():  # Loop through note trying to match up\n",
    "        try:\n",
    "            used = mag[word]\n",
    "            # Watch out for duplicates by adding 1 if already used\n",
    "            if used == 0:\n",
    "                print(\"No\")\n",
    "                return\n",
    "            else:\n",
    "                mag[word] -= 1\n",
    "        except KeyError:\n",
    "            # If no exact match exists, return No.\n",
    "            print(\"No\")\n",
    "            return\n",
    "    # If loop completes without error, return Yes\n",
    "    print(\"Yes\")\n",
    "    return"
   ]
  },
  {
   "cell_type": "code",
   "execution_count": 16,
   "metadata": {},
   "outputs": [
    {
     "name": "stdout",
     "output_type": "stream",
     "text": [
      "No\n"
     ]
    }
   ],
   "source": [
    "mag2 = \"two times three is not four\"\n",
    "note2 = \"two times two is four\"\n",
    "checkMagazine(mag2, note2)"
   ]
  },
  {
   "cell_type": "code",
   "execution_count": 17,
   "metadata": {},
   "outputs": [
    {
     "name": "stdout",
     "output_type": "stream",
     "text": [
      "Yes\n"
     ]
    }
   ],
   "source": [
    "# === Test out function === #\n",
    "checkMagazine(mag1, note1)"
   ]
  },
  {
   "cell_type": "markdown",
   "metadata": {},
   "source": [
    "---\n",
    "\n",
    "### Interview questions"
   ]
  },
  {
   "cell_type": "markdown",
   "metadata": {},
   "source": [
    "#### Journey, Experience, and Projects\n",
    "\n",
    "* Tell me a bit about yourself\n",
    "  * Give me a 2-minute elevator pitch on your career up to this point\n",
    "    * I love to challenge myself and to learn\n",
    "* Tell me about a project you've worked on and are proud of\n",
    "* What is the biggest success in your career and what led to that success?"
   ]
  },
  {
   "cell_type": "markdown",
   "metadata": {},
   "source": [
    "#### Personality\n",
    "\n",
    "* What is your greatest strength/weakness?\n",
    "  * What is your greatest technical strength?\n",
    "* What is the greatest misperception others have about you and who you are?\n",
    "* What important truth do very few people agree with you on?"
   ]
  },
  {
   "cell_type": "markdown",
   "metadata": {},
   "source": [
    "#### Company and Role\n",
    "\n",
    "* What do you know about our company?\n",
    "* Why do you want to work here / want this job?\n",
    "* What makes you most qualified for this role?\n",
    "* What have you learned in the last year outside of work?\n",
    "* Where do you see yourself in 3-5 years?\n",
    "* What does data science look like in 10 years?\n",
    "  * What are 5 predictions you have for the next 10 years?"
   ]
  },
  {
   "cell_type": "markdown",
   "metadata": {},
   "source": [
    "#### Scenario\n",
    "\n",
    "1. What was the situation?\n",
    "2. What happened?\n",
    "3. What was the outcome?\n",
    "\n",
    "> STAR: situation, task, action, result\n",
    "\n",
    "* Tell me about (a time when)...\n",
    "  * You had conflict with someone and how you handled it\n",
    "  * You made as mistake and how you handled it\n",
    "  * You had to get something done but had no idea where to begin?\n",
    "  * You had to go against the data and go with your gut?\n",
    "  * Greatest challenge (overcome)\n",
    "  * Persuaded someone who did not agree with you\n",
    "  * Dealt with and resolved a conflict (among team members)\n",
    "  * Led a team / showed leadership skills or aptitude\n",
    "  * How you've dealt with stress / stressful situations\n",
    "  * Most difficult problem encountered in previous job; how you solved it\n",
    "  * Solved a problem creatively\n",
    "    * Found a method of using deep learning to remove image backgrounds\n",
    "  * Exceeded expectations to get a job done\n",
    "  * Showed initiative\n",
    "  * Something that's not on your resume\n",
    "  * Example of important goal you set and how you reached it\n",
    "  * A time you failed"
   ]
  },
  {
   "cell_type": "markdown",
   "metadata": {},
   "source": [
    "#### Questions for the interviewer\n",
    "\n",
    "##### Interviewer / Job\n",
    "\n",
    "* What do you love most about working here?\n",
    "  * What's your favorite thing that you've worked on?\n",
    "* What has your journey looked like at the company?\n",
    "* What did you find most surprising about the company culture when you first started?\n",
    "* What are some interesting problems/challenges you face in your position?\n",
    "\n",
    "##### Company\n",
    "\n",
    "* What do you think is the most important thing to **Company**?\n",
    "* Are there opportunities for professional development? If so, what do they look like?\n",
    "  * Will there be opportunities to be mentored?\n",
    "* If a startup, how long is the runway?\n",
    "\n",
    "\n",
    "##### Myself and the Role\n",
    "\n",
    "* What do the day-to-day responsibilities of the role look like?\n",
    "* What does success look like in this position, and how do you measure it?\n",
    "* Who will I be working most closely with?\n",
    "* Is there anything about my background or resume that is unclear or makes you question whether I am a good fit for this role?"
   ]
  },
  {
   "cell_type": "markdown",
   "metadata": {},
   "source": []
  },
  {
   "cell_type": "markdown",
   "metadata": {},
   "source": [
    "---\n",
    "\n",
    "### Data science"
   ]
  },
  {
   "cell_type": "code",
   "execution_count": null,
   "metadata": {},
   "outputs": [],
   "source": []
  },
  {
   "cell_type": "markdown",
   "metadata": {},
   "source": [
    "---\n",
    "\n",
    "### Engineering"
   ]
  },
  {
   "cell_type": "markdown",
   "metadata": {},
   "source": [
    "Tested out building a blog using fastpages. Crazy how easy it is to get started. Next I'm going to try and replicate my portfolio/blog and potentially switch my site over to that so I don't have to keep paying hosting and database costs. Building and deploying my site was a great learning experience, but it is a little overkill for what it is.\n",
    "\n",
    "We'll see."
   ]
  },
  {
   "cell_type": "markdown",
   "metadata": {},
   "source": [
    "---\n",
    "\n",
    "### Machine learning"
   ]
  },
  {
   "cell_type": "code",
   "execution_count": null,
   "metadata": {},
   "outputs": [],
   "source": []
  },
  {
   "cell_type": "markdown",
   "metadata": {},
   "source": []
  },
  {
   "cell_type": "markdown",
   "metadata": {},
   "source": []
  },
  {
   "cell_type": "markdown",
   "metadata": {},
   "source": []
  },
  {
   "cell_type": "markdown",
   "metadata": {},
   "source": []
  }
 ],
 "metadata": {
  "kernelspec": {
   "display_name": "Python 3.7.6 64-bit ('vela': pipenv)",
   "language": "python",
   "name": "python37664bitvelapipenvde09592071074af6a70ce3b1ce38af95"
  },
  "language_info": {
   "codemirror_mode": {
    "name": "ipython",
    "version": 3
   },
   "file_extension": ".py",
   "mimetype": "text/x-python",
   "name": "python",
   "nbconvert_exporter": "python",
   "pygments_lexer": "ipython3",
   "version": "3.7.6"
  }
 },
 "nbformat": 4,
 "nbformat_minor": 4
}
