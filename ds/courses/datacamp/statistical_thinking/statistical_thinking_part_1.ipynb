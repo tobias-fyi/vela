{
 "cells": [
  {
   "cell_type": "markdown",
   "metadata": {},
   "source": [
    "# Statistical Thinking in Python"
   ]
  },
  {
   "cell_type": "markdown",
   "metadata": {},
   "source": [
    "---\n",
    "---\n",
    "\n",
    "## Part 1"
   ]
  },
  {
   "cell_type": "markdown",
   "metadata": {},
   "source": [
    "### Chapter 1: Graphical EDA\n",
    "\n",
    "* Always label the axes!\n",
    "* Histograms\n",
    "  * A rule of thumb for number of bins is the square root of the number of observations\n",
    "* Bee swarm plots\n",
    "* Empirical cumulative distribution function (ECDF)\n",
    "  * Sorted and plotted as a series of points to show how the data is distributed"
   ]
  },
  {
   "cell_type": "markdown",
   "metadata": {},
   "source": [
    "### Chapter 2: Quantitative EDA\n",
    "\n",
    "* Mean and median\n",
    "* Percentiles, outliers and box plots\n",
    "  * Box is the middle 50% of data, or the IQR (Interquartile range)\n",
    "  * Whiskers typically extend 1.5 IQR past interquartile range (1.5 above 75% and below 25%)\n",
    "* Variance and standard deviation\n",
    "  * Calculate variance and stdev by hand, plus with numpy\n",
    "* Covariance and the Pearson correlation coefficient\n",
    "  * Covariance is the distance of a point from the mean of two separate groups\n",
    "  * Pearson correlation coeffition is covariance divided by stdev of x and y\n",
    "  * Or, it is the variability due to codependence divided by the independent variability"
   ]
  },
  {
   "cell_type": "markdown",
   "metadata": {},
   "source": [
    "### Chapter 3: Probabilistic Thinking - Discrete Variables\n",
    "\n",
    "* Probabilistic logic and statistical inference\n",
    "* Random number generators and hacker statistics\n",
    "  * Hacker statistics\n",
    "    * Use simulated repeated measurements to compute probabilities\n",
    "    * Simulate coin flips (Bernoulli trial - 0/1 true/false)\n",
    "  * Hacker stats probabilities\n",
    "    * Determine how to simulate data\n",
    "    * Simulate many many times\n",
    "    * Probability is approximately the fraction of trials with the outcome of interest\n",
    "  * Bernoulli trials\n",
    "* The Binomial distribution\n",
    "  * Probability mass function (PMF): a set of probabilities of discrete outcomes\n",
    "* Poisson processes and the Poisson distribution\n",
    "  * Poisson process: timing of next event is independent of when previous event happened\n",
    "  * Poisson distribution\n",
    "  * With rare events (low p, high n) the Binomial distribution is Poisson"
   ]
  },
  {
   "cell_type": "markdown",
   "metadata": {},
   "source": []
  }
 ],
 "metadata": {
  "kernelspec": {
   "display_name": "Python 3.7.6 64-bit ('vela': pipenv)",
   "language": "python",
   "name": "python37664bitvelapipenvde09592071074af6a70ce3b1ce38af95"
  },
  "language_info": {
   "codemirror_mode": {
    "name": "ipython",
    "version": 3
   },
   "file_extension": ".py",
   "mimetype": "text/x-python",
   "name": "python",
   "nbconvert_exporter": "python",
   "pygments_lexer": "ipython3",
   "version": "3.7.6"
  }
 },
 "nbformat": 4,
 "nbformat_minor": 4
}
