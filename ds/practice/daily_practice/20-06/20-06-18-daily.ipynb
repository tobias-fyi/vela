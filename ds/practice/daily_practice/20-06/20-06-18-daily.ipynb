{
 "cells": [
  {
   "cell_type": "markdown",
   "metadata": {},
   "source": [
    "# 20-06-18: Daily Data Practice"
   ]
  },
  {
   "cell_type": "markdown",
   "metadata": {},
   "source": [
    "---\n",
    "\n",
    "## Daily Practices\n",
    "\n",
    "* Practice with DS/ML tools and processes\n",
    "  * [fast.ai course](https://course.fast.ai/)\n",
    "  * HackerRank SQL or Packt SQL Data Analytics\n",
    "  * Hands-on ML | NLP In Action | Dive Into Deep Learning | Coursera / guided projects\n",
    "    * Read, code along, take notes\n",
    "    * _test yourself on the concepts_ — i.e. do all the chapter exercises\n",
    "  * Try to hit benchmark accuracies with [UCI ML datasets](https://archive.ics.uci.edu/ml/index.php) or Kaggle\n",
    "* Meta Data: Review and write\n",
    "  * Focus on a topic, review notes and resources, write a blog post about it\n",
    "* 2-Hour Job Search\n",
    "* Interviewing\n",
    "  * Behavioral questions and scenarios\n",
    "  * Business case walk-throughs\n",
    "  * Hot-seat DS-related topics for recall practice (under pressure)"
   ]
  },
  {
   "cell_type": "markdown",
   "metadata": {},
   "source": [
    "---\n",
    "\n",
    "## Coding & Problem Solving Practice\n",
    "\n",
    "> Work through practice problems on HackerRank or similar"
   ]
  },
  {
   "cell_type": "markdown",
   "metadata": {},
   "source": [
    "### Python"
   ]
  },
  {
   "cell_type": "markdown",
   "metadata": {},
   "source": [
    "#### [Staircase](https://www.hackerrank.com/challenges/staircase/problem)\n",
    "\n",
    "Consider a staircase of size $n = 4$:\n",
    "\n",
    "```\n",
    "   #\n",
    "  ##\n",
    " ###\n",
    "####\n",
    "```\n",
    "\n",
    "Observe that its base and height are both equal to $n$, and the image is drawn using `#` symbols and spaces.  \n",
    "The last line is not preceded by any spaces.\n",
    "\n",
    "Write a program that prints a staircase of size $n$."
   ]
  },
  {
   "cell_type": "code",
   "execution_count": null,
   "metadata": {},
   "outputs": [],
   "source": [
    "def staircase(n):\n",
    "    \"\"\"Prints a staircase of size n.\"\"\"\n",
    "    pass"
   ]
  },
  {
   "cell_type": "code",
   "execution_count": 10,
   "metadata": {},
   "outputs": [
    {
     "name": "stdout",
     "output_type": "stream",
     "text": [
      "#\n",
      "##\n",
      "###\n",
      "####\n"
     ]
    }
   ],
   "source": [
    "# === Test out initial idea === #\n",
    "n = 4\n",
    "for line in range(1, n + 1):\n",
    "    # Make list of n octothorpes\n",
    "    octo_list = [\"#\"] * line\n",
    "    # Join string including n octothorpes\n",
    "    print(\"\".join(octo_list))\n",
    "\n",
    "# This results in a descending staircase"
   ]
  },
  {
   "cell_type": "code",
   "execution_count": 9,
   "metadata": {},
   "outputs": [
    {
     "name": "stdout",
     "output_type": "stream",
     "text": [
      "   #\n",
      "  ##\n",
      " ###\n",
      "####\n"
     ]
    }
   ],
   "source": [
    "# === Use right justified string method === #\n",
    "n = 4\n",
    "for line in range(1, n + 1):\n",
    "    # Make list of n octothorpes\n",
    "    octo_list = [\"#\"] * line\n",
    "    # Join string including n octothorpes\n",
    "    octo_line = \"\".join(octo_list)\n",
    "    # Justify right\n",
    "    octo_just = octo_line.rjust(n, \" \")\n",
    "    print(octo_just)"
   ]
  },
  {
   "cell_type": "code",
   "execution_count": 7,
   "metadata": {},
   "outputs": [
    {
     "name": "stdout",
     "output_type": "stream",
     "text": [
      "     #\n",
      "    ##\n",
      "   ###\n",
      "  ####\n",
      " #####\n",
      "######\n"
     ]
    }
   ],
   "source": [
    "def staircase(n):\n",
    "    \"\"\"Prints a staircase of size n.\"\"\"\n",
    "    for line in range(1, n + 1):\n",
    "        # Make list of n octothorpes\n",
    "        octo_list = [\"#\"] * line\n",
    "        # Join string including n octothorpes\n",
    "        octo_line = \"\".join(octo_list)\n",
    "        # Justify right\n",
    "        octo_just = octo_line.rjust(n, \" \")\n",
    "        print(octo_just)\n",
    "\n",
    "staircase(6)"
   ]
  },
  {
   "cell_type": "markdown",
   "metadata": {},
   "source": [
    "#### [Mini-Max Sum](https://www.hackerrank.com/challenges/mini-max-sum/problem)\n",
    "\n",
    "This one will be for next time."
   ]
  },
  {
   "cell_type": "markdown",
   "metadata": {},
   "source": [
    "### SQL (Applied SQL Analytics)\n",
    "\n",
    "Today for SQL practice I'll be doing 30 mins of the Packt Workshop Applied SQL Analytics."
   ]
  },
  {
   "cell_type": "code",
   "execution_count": null,
   "metadata": {},
   "outputs": [],
   "source": []
  },
  {
   "cell_type": "markdown",
   "metadata": {},
   "source": [
    "---\n",
    "\n",
    "## DS + ML Practice\n",
    "\n",
    "* Pick a dataset and try to do X with it\n",
    "  * Try to hit benchmark accuracies with [UCI ML datasets](https://archive.ics.uci.edu/ml/index.php) or Kaggle\n",
    "* Practice with the common DS/ML tools and processes\n",
    "  * Hands-on ML | NLP In Action | Dive Into Deep Learning | Coursera / guided projects\n",
    "  * Machine learning flashcards\n",
    "\n",
    "#### _The goal is to be comfortable explaining the entire process._\n",
    "\n",
    "* Data access / sourcing, cleaning\n",
    "  * Exploratory data analysis\n",
    "  * Data wrangling techniques and processes\n",
    "* Inference\n",
    "  * Statistics\n",
    "  * Probability\n",
    "  * Visualization\n",
    "* Modeling\n",
    "  * Implement + justify choice of model / algorithm\n",
    "  * Track performance + justify choice of metrics\n",
    "    * Communicate results as relevant to the goal"
   ]
  },
  {
   "cell_type": "markdown",
   "metadata": {},
   "source": [
    "### ReCount\n",
    "\n",
    "I'm going to continue gathering images to train a model that can recognize different exercises, such as push-ups, pull-ups, sit-ups. The goal with this is to start working on bits and pieces of a system that can be used to keep people accountable for doing a certain type and level of exercise. Of course to accomplish this bigger goal, the model will need to be able to recognize _actions_. But I'm taking it one step at a time to see what is possible and practical. I figured training an image classifier for exercises is a step in the right direction\n",
    "\n",
    "* [Gather images thread](https://forums.fast.ai/t/tips-for-building-large-image-datasets/26688/34)\n",
    "* [More](https://forums.fast.ai/t/generating-image-datasets-quickly/19079)\n",
    "* [Threads](https://forums.fast.ai/t/how-to-scrape-the-web-for-images/7446/8)\n",
    "\n",
    "I'm going to start out by trying the [fastclass](https://github.com/cwerner/fastclass) package written by someone in the thread. If that doesn't work well I'll try the official fast.ai tutorial on the subject."
   ]
  },
  {
   "cell_type": "markdown",
   "metadata": {},
   "source": [
    "#### fastclass\n",
    "\n",
    "Installed the package into my new environment for the recount project:\n",
    "\n",
    "    pipenv install -e git+https://github.com/cwerner/fastclass.git#egg=fastclass\n",
    "    \n",
    "Then I created a list of 12 exercises and their search queries. I decided to do 4 from each of abs, legs/butt, and arms/back/chest. I'll refine the categories if need be.\n",
    "\n",
    "| searchterm | exclude |\n",
    "| --- | --- |\n",
    "| pushup| |\n",
    "| tricep dip | |\n",
    "| pull up | |\n",
    "| superman exercise | exercise|\n",
    "| squat | |\n",
    "| donkey kick exercise | exercise|\n",
    "| lunge | |\n",
    "| bridge exercise | exercise|\n",
    "| sit up | |\n",
    "| flutter kick | |\n",
    "| plank | |\n",
    "| side plank | |\n",
    "\n",
    "And ran the crawler via this command:\n",
    "\n",
    "    fcd -c ALL -s 224 exercises.csv\n",
    "    \n",
    "Basically, this command runs each query in `exercises.csv` on all the default crawlers (Bing, Google, Baidu), finds a maximum of 1,000 images per query (default), then resizes the resulting images to 224x224 pixels.\n",
    "\n",
    "Easy as that. I'll let it ride for a while and see what the results are when I come back from lunch."
   ]
  },
  {
   "cell_type": "markdown",
   "metadata": {},
   "source": [
    "---\n",
    "\n",
    "## Professional Development Meeting\n",
    "\n"
   ]
  },
  {
   "cell_type": "markdown",
   "metadata": {},
   "source": []
  },
  {
   "cell_type": "markdown",
   "metadata": {},
   "source": []
  },
  {
   "cell_type": "markdown",
   "metadata": {},
   "source": [
    "---\n",
    "\n",
    "## Meta Data: Review and Write\n",
    "\n",
    "> Focus on a topic or project, learn/review the concepts, write (a blog post) about it\n",
    "\n",
    "Or work on the site."
   ]
  },
  {
   "cell_type": "markdown",
   "metadata": {},
   "source": [
    "I worked for most of the afternoon and evening on configuring OpenGraph meta tags for tobias.fyi, as I want to use the links to the portfolio pages/articles to look good when posted / featured on sites like LinkedIn.\n",
    "\n",
    "Here's basically an example of the code I wrote in one of the templates to use the new meta tags:"
   ]
  },
  {
   "cell_type": "markdown",
   "metadata": {},
   "source": [
    "```html\n",
    "{% block opengraph %}\n",
    "\t<meta property=\"og:title\" content=\"{{ page.title }}\" />\n",
    "\t<meta property=\"og:type\" content=\"article\" />\n",
    "\t<meta property=\"og:url\" content=\"https://tobias.fyi{% pageurl page %}\" />\n",
    "\t{% image page.header_image width-400 as img %}\n",
    "\t<meta property=\"og:image\" content=\"https://tobias.fyi{{ img.url }}\" />\n",
    "\t<meta property=\"og:description\" content=\"{{ page.intro }}\" />\n",
    "{% endblock opengraph %}\n",
    "```"
   ]
  },
  {
   "cell_type": "markdown",
   "metadata": {},
   "source": [
    "While I was working on the site, I also added the Twitter icon to my list of contact links and fixed/improved a couple of other things."
   ]
  },
  {
   "cell_type": "markdown",
   "metadata": {},
   "source": []
  },
  {
   "cell_type": "markdown",
   "metadata": {},
   "source": [
    "---\n",
    "\n",
    "## Interviewing\n",
    "\n",
    "> Practice answering the most common behavioral and technical interview questions\n",
    "\n",
    "### Technical\n",
    "\n",
    "* Business case walk-throughs\n",
    "* Hot-seat DS-related topics for recall practice (under pressure)"
   ]
  },
  {
   "cell_type": "markdown",
   "metadata": {
    "jupyter": {
     "source_hidden": true
    }
   },
   "source": [
    "### Behavioral\n",
    "\n",
    "* \"Tell me a bit about yourself\"\n",
    "* \"Tell me about a project you've worked on and are proud of\"\n",
    "* \"What do you know about our company?\"\n",
    "* \"Where do you see yourself in 3-5 years?\"\n",
    "* \"Why do you want to work here / want this job?\"\n",
    "* \"What makes you most qualified for this role?\"\n",
    "* \"What is your greatest strength/weakness?\"\n",
    "  * \"What is your greatest technical strength?\"\n",
    "* \"Tell me about a time when you had conflict with someone and how you handled it\"\n",
    "* \"Tell me about a mistake you made and how you handled it\"\n",
    "* Scenario questions (STAR: situation, task, action, result)\n",
    "  * Success story / biggest accomplishment\n",
    "  * Greatest challenge (overcome)\n",
    "  * Persuaded someone who did not agree with you\n",
    "  * Dealt with and resolved a conflict (among team members)\n",
    "  * Led a team / showed leadership skills or aptitude\n",
    "  * How you've dealt with stress / stressful situations\n",
    "  * Most difficult problem encountered in previous job; how you solved it\n",
    "  * Solved a problem creatively\n",
    "  * Exceeded expectations to get a job done\n",
    "  * Showed initiative\n",
    "  * Something that's not on your resume\n",
    "  * Example of important goal you set and how you reached it\n",
    "  * A time you failed\n",
    "* \"Do you have any questions for me?\"\n",
    "  * What is your favorite aspect of working here?\n",
    "  * What has your journey looked like at the company?\n",
    "  * What are some challenges you face in your position?"
   ]
  },
  {
   "cell_type": "markdown",
   "metadata": {},
   "source": []
  },
  {
   "cell_type": "markdown",
   "metadata": {},
   "source": [
    "---\n",
    "\n",
    "## 2-Hour Job Search"
   ]
  },
  {
   "cell_type": "markdown",
   "metadata": {},
   "source": []
  },
  {
   "cell_type": "markdown",
   "metadata": {},
   "source": []
  },
  {
   "cell_type": "markdown",
   "metadata": {},
   "source": []
  },
  {
   "cell_type": "markdown",
   "metadata": {},
   "source": []
  },
  {
   "cell_type": "markdown",
   "metadata": {},
   "source": []
  },
  {
   "cell_type": "markdown",
   "metadata": {},
   "source": []
  },
  {
   "cell_type": "markdown",
   "metadata": {},
   "source": []
  },
  {
   "cell_type": "markdown",
   "metadata": {},
   "source": []
  },
  {
   "cell_type": "markdown",
   "metadata": {},
   "source": []
  },
  {
   "cell_type": "markdown",
   "metadata": {},
   "source": []
  },
  {
   "cell_type": "markdown",
   "metadata": {},
   "source": []
  },
  {
   "cell_type": "markdown",
   "metadata": {},
   "source": []
  },
  {
   "cell_type": "markdown",
   "metadata": {},
   "source": []
  },
  {
   "cell_type": "markdown",
   "metadata": {},
   "source": []
  }
 ],
 "metadata": {
  "kernelspec": {
   "display_name": "Python 3.7.6 64-bit ('vela': pipenv)",
   "language": "python",
   "name": "python37664bitvelapipenvde09592071074af6a70ce3b1ce38af95"
  },
  "language_info": {
   "codemirror_mode": {
    "name": "ipython",
    "version": 3
   },
   "file_extension": ".py",
   "mimetype": "text/x-python",
   "name": "python",
   "nbconvert_exporter": "python",
   "pygments_lexer": "ipython3",
   "version": "3.7.6"
  }
 },
 "nbformat": 4,
 "nbformat_minor": 4
}
