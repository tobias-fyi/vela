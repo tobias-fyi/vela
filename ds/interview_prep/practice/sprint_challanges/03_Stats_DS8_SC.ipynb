{
  "nbformat": 4,
  "nbformat_minor": 0,
  "metadata": {
    "colab": {
      "name": "03_Stats_DS8_SC.ipynb",
      "provenance": [],
      "collapsed_sections": []
    },
    "kernelspec": {
      "display_name": "Python 3",
      "language": "python",
      "name": "python3"
    },
    "language_info": {
      "codemirror_mode": {
        "name": "ipython",
        "version": 3
      },
      "file_extension": ".py",
      "mimetype": "text/x-python",
      "name": "python",
      "nbconvert_exporter": "python",
      "pygments_lexer": "ipython3",
      "version": "3.7.3"
    }
  },
  "cells": [
    {
      "cell_type": "markdown",
      "metadata": {
        "colab_type": "text",
        "id": "NooAiTdnafkz"
      },
      "source": [
        "# Data Science Unit 1 Sprint Challenge 3\n",
        "\n",
        "## Exploring Data, Testing Hypotheses\n",
        "\n",
        "In this sprint challenge you will look at a dataset of people being approved or rejected for credit.\n",
        "\n",
        "https://archive.ics.uci.edu/ml/datasets/Credit+Approval"
      ]
    },
    {
      "cell_type": "markdown",
      "metadata": {
        "colab_type": "text",
        "id": "PqlWfIauMcrT"
      },
      "source": [
        "Data Set Information: This file concerns credit card applications. All attribute names and values have been changed to meaningless symbols to protect confidentiality of the data. This dataset is interesting because\n",
        "\n",
        "- A good mix of attributes\n",
        "  - continuous\n",
        "  - nominal with small numbers of values\n",
        "  - nominal with larger numbers of values\n",
        "- A few missing values"
      ]
    },
    {
      "cell_type": "markdown",
      "metadata": {
        "colab_type": "text",
        "id": "JblLU6CbMcrY"
      },
      "source": [
        "Attribute Information:\n",
        "\n",
        "- A1: b, a.\n",
        "- A2: continuous.\n",
        "- A3: continuous.\n",
        "- A4: u, y, l, t.\n",
        "- A5: g, p, gg.\n",
        "- A6: c, d, cc, i, j, k, m, r, q, w, x, e, aa, ff.\n",
        "- A7: v, h, bb, j, n, z, dd, ff, o.\n",
        "- A8: continuous.\n",
        "- A9: t, f.\n",
        "- A10: t, f.\n",
        "- A11: continuous.\n",
        "- A12: t, f.\n",
        "- A13: g, p, s.\n",
        "- A14: continuous.\n",
        "- A15: continuous.\n",
        "- A16: +,- (class attribute)"
      ]
    },
    {
      "cell_type": "markdown",
      "metadata": {
        "colab_type": "text",
        "id": "DUuTfYPYMcrb"
      },
      "source": [
        "Yes, most of that doesn't mean anything. A16 is a variable that indicates whether or not a person's request for credit has been approved or denied. This is a good candidate for a y variable since we might want to use the other features to predict this one. The remaining variables have been obfuscated for privacy - a challenge you may have to deal with in your data science career.\n",
        "\n",
        "Sprint challenges are evaluated based on satisfactory completion of each part. It is suggested you work through it in order, getting each aspect reasonably working, before trying to deeply explore, iterate, or refine any given step. Once you get to the end, if you want to go back and improve things, go for it!"
      ]
    },
    {
      "cell_type": "markdown",
      "metadata": {
        "id": "RqkOyfa6Mcre",
        "colab_type": "text"
      },
      "source": [
        "---\n",
        "---"
      ]
    },
    {
      "cell_type": "code",
      "metadata": {
        "id": "oRwcWxGhMcrg",
        "colab_type": "code",
        "colab": {
          "base_uri": "https://localhost:8080/",
          "height": 74
        },
        "outputId": "3b5eab06-e8f2-4d77-d18f-1981e71eb215"
      },
      "source": [
        "# === Imports === #\n",
        "import pandas as pd\n",
        "import numpy as np\n",
        "from scipy import stats\n",
        "import matplotlib.pyplot as plt\n",
        "import seaborn as sns"
      ],
      "execution_count": 1,
      "outputs": [
        {
          "output_type": "stream",
          "text": [
            "/usr/local/lib/python3.6/dist-packages/statsmodels/tools/_testing.py:19: FutureWarning: pandas.util.testing is deprecated. Use the functions in the public API at pandas.testing instead.\n",
            "  import pandas.util.testing as tm\n"
          ],
          "name": "stderr"
        }
      ]
    },
    {
      "cell_type": "code",
      "metadata": {
        "id": "mPYU2TpSIiki",
        "colab_type": "code",
        "colab": {}
      },
      "source": [
        "# === Configure pandas to show more rows\n",
        "pd.options.display.max_rows = 200"
      ],
      "execution_count": 0,
      "outputs": []
    },
    {
      "cell_type": "markdown",
      "metadata": {
        "id": "POh6IivlMcr_",
        "colab_type": "text"
      },
      "source": [
        "---"
      ]
    },
    {
      "cell_type": "markdown",
      "metadata": {
        "colab_type": "text",
        "id": "5wch6ksCbJtZ"
      },
      "source": [
        "## Part 1 - Load and validate the data\n",
        "\n",
        "- Load the data as a `pandas` data frame.\n",
        "- Validate that it has the appropriate number of observations (you can check the raw file, and also read the dataset description from UCI).\n",
        "- UCI says there should be missing data - check, and if necessary change the data so pandas recognizes it as na\n",
        "- Make sure that the loaded features are of the types described above (continuous values should be treated as float), and correct as necessary\n",
        "\n",
        "This is review, but skills that you'll use at the start of any data exploration. Further, you may have to do some investigation to figure out which file to load from - that is part of the puzzle.\n",
        "\n",
        "Hint: If a column has the datatype of \"object\" even though it's made up of float or integer values, you can coerce it to act as a numeric column by using the `pd.to_numeric()` function."
      ]
    },
    {
      "cell_type": "markdown",
      "metadata": {
        "id": "iYeh-pxRMcsF",
        "colab_type": "text"
      },
      "source": [
        "---"
      ]
    },
    {
      "cell_type": "markdown",
      "metadata": {
        "id": "SlZI4A07McsI",
        "colab_type": "text"
      },
      "source": [
        "### Load the data"
      ]
    },
    {
      "cell_type": "code",
      "metadata": {
        "id": "WUBjZS77McsN",
        "colab_type": "code",
        "outputId": "c7a9bc0a-8b04-4313-fb2d-2eee0596610c",
        "colab": {
          "base_uri": "https://localhost:8080/",
          "height": 219
        }
      },
      "source": [
        "# === Download the dataset to local storage === #\n",
        "!wget https://archive.ics.uci.edu/ml/machine-learning-databases/credit-screening/crx.data"
      ],
      "execution_count": 3,
      "outputs": [
        {
          "output_type": "stream",
          "text": [
            "--2020-05-08 22:37:11--  https://archive.ics.uci.edu/ml/machine-learning-databases/credit-screening/crx.data\n",
            "Resolving archive.ics.uci.edu (archive.ics.uci.edu)... 128.195.10.252\n",
            "Connecting to archive.ics.uci.edu (archive.ics.uci.edu)|128.195.10.252|:443... connected.\n",
            "HTTP request sent, awaiting response... 200 OK\n",
            "Length: 32218 (31K) [application/x-httpd-php]\n",
            "Saving to: ‘crx.data.3’\n",
            "\n",
            "\rcrx.data.3            0%[                    ]       0  --.-KB/s               \rcrx.data.3          100%[===================>]  31.46K  --.-KB/s    in 0.04s   \n",
            "\n",
            "2020-05-08 22:37:11 (794 KB/s) - ‘crx.data.3’ saved [32218/32218]\n",
            "\n"
          ],
          "name": "stdout"
        }
      ]
    },
    {
      "cell_type": "code",
      "metadata": {
        "id": "-EVpUG-SMy5a",
        "colab_type": "code",
        "colab": {
          "base_uri": "https://localhost:8080/",
          "height": 1000
        },
        "outputId": "3e67e8c6-d572-4997-cf43-51c1c7bb5e7a"
      },
      "source": [
        "# === Download and display data description === #\n",
        "# !wget https://archive.ics.uci.edu/ml/machine-learning-databases/credit-screening/crx.names\n",
        "!cat crx.names"
      ],
      "execution_count": 4,
      "outputs": [
        {
          "output_type": "stream",
          "text": [
            "\n",
            "1. Title: Credit Approval\n",
            "\n",
            "2. Sources: \n",
            "    (confidential)\n",
            "    Submitted by quinlan@cs.su.oz.au\n",
            "\n",
            "3.  Past Usage:\n",
            "\n",
            "    See Quinlan,\n",
            "    * \"Simplifying decision trees\", Int J Man-Machine Studies 27,\n",
            "      Dec 1987, pp. 221-234.\n",
            "    * \"C4.5: Programs for Machine Learning\", Morgan Kaufmann, Oct 1992\n",
            "  \n",
            "4.  Relevant Information:\n",
            "\n",
            "    This file concerns credit card applications.  All attribute names\n",
            "    and values have been changed to meaningless symbols to protect\n",
            "    confidentiality of the data.\n",
            "  \n",
            "    This dataset is interesting because there is a good mix of\n",
            "    attributes -- continuous, nominal with small numbers of\n",
            "    values, and nominal with larger numbers of values.  There\n",
            "    are also a few missing values.\n",
            "  \n",
            "5.  Number of Instances: 690\n",
            "\n",
            "6.  Number of Attributes: 15 + class attribute\n",
            "\n",
            "7.  Attribute Information:\n",
            "\n",
            "    A1:\tb, a.\n",
            "    A2:\tcontinuous.\n",
            "    A3:\tcontinuous.\n",
            "    A4:\tu, y, l, t.\n",
            "    A5:\tg, p, gg.\n",
            "    A6:\tc, d, cc, i, j, k, m, r, q, w, x, e, aa, ff.\n",
            "    A7:\tv, h, bb, j, n, z, dd, ff, o.\n",
            "    A8:\tcontinuous.\n",
            "    A9:\tt, f.\n",
            "    A10:\tt, f.\n",
            "    A11:\tcontinuous.\n",
            "    A12:\tt, f.\n",
            "    A13:\tg, p, s.\n",
            "    A14:\tcontinuous.\n",
            "    A15:\tcontinuous.\n",
            "    A16: +,-         (class attribute)\n",
            "\n",
            "8.  Missing Attribute Values:\n",
            "    37 cases (5%) have one or more missing values.  The missing\n",
            "    values from particular attributes are:\n",
            "\n",
            "    A1:  12\n",
            "    A2:  12\n",
            "    A4:   6\n",
            "    A5:   6\n",
            "    A6:   9\n",
            "    A7:   9\n",
            "    A14: 13\n",
            "\n",
            "9.  Class Distribution\n",
            "  \n",
            "    +: 307 (44.5%)\n",
            "    -: 383 (55.5%)\n",
            "\n"
          ],
          "name": "stdout"
        }
      ]
    },
    {
      "cell_type": "code",
      "metadata": {
        "id": "jwm6oax8GFU3",
        "colab_type": "code",
        "outputId": "400c8bb4-50e0-4667-ff90-374f9e2c4a37",
        "colab": {
          "base_uri": "https://localhost:8080/",
          "height": 206
        }
      },
      "source": [
        "# === Load data into dataframe === #\n",
        "# Also found that there is no header\n",
        "# question marks for null values\n",
        "# Create column names using loop\n",
        "\n",
        "cols = []\n",
        "\n",
        "for a in range(1, 17):\n",
        "    cols.append(f\"A{a}\")\n",
        "\n",
        "credit = pd.read_csv(\"crx.data\", header=None, names=cols, na_values=\"?\")\n",
        "credit.head()"
      ],
      "execution_count": 5,
      "outputs": [
        {
          "output_type": "execute_result",
          "data": {
            "text/html": [
              "<div>\n",
              "<style scoped>\n",
              "    .dataframe tbody tr th:only-of-type {\n",
              "        vertical-align: middle;\n",
              "    }\n",
              "\n",
              "    .dataframe tbody tr th {\n",
              "        vertical-align: top;\n",
              "    }\n",
              "\n",
              "    .dataframe thead th {\n",
              "        text-align: right;\n",
              "    }\n",
              "</style>\n",
              "<table border=\"1\" class=\"dataframe\">\n",
              "  <thead>\n",
              "    <tr style=\"text-align: right;\">\n",
              "      <th></th>\n",
              "      <th>A1</th>\n",
              "      <th>A2</th>\n",
              "      <th>A3</th>\n",
              "      <th>A4</th>\n",
              "      <th>A5</th>\n",
              "      <th>A6</th>\n",
              "      <th>A7</th>\n",
              "      <th>A8</th>\n",
              "      <th>A9</th>\n",
              "      <th>A10</th>\n",
              "      <th>A11</th>\n",
              "      <th>A12</th>\n",
              "      <th>A13</th>\n",
              "      <th>A14</th>\n",
              "      <th>A15</th>\n",
              "      <th>A16</th>\n",
              "    </tr>\n",
              "  </thead>\n",
              "  <tbody>\n",
              "    <tr>\n",
              "      <th>0</th>\n",
              "      <td>b</td>\n",
              "      <td>30.83</td>\n",
              "      <td>0.000</td>\n",
              "      <td>u</td>\n",
              "      <td>g</td>\n",
              "      <td>w</td>\n",
              "      <td>v</td>\n",
              "      <td>1.25</td>\n",
              "      <td>t</td>\n",
              "      <td>t</td>\n",
              "      <td>1</td>\n",
              "      <td>f</td>\n",
              "      <td>g</td>\n",
              "      <td>202.0</td>\n",
              "      <td>0</td>\n",
              "      <td>+</td>\n",
              "    </tr>\n",
              "    <tr>\n",
              "      <th>1</th>\n",
              "      <td>a</td>\n",
              "      <td>58.67</td>\n",
              "      <td>4.460</td>\n",
              "      <td>u</td>\n",
              "      <td>g</td>\n",
              "      <td>q</td>\n",
              "      <td>h</td>\n",
              "      <td>3.04</td>\n",
              "      <td>t</td>\n",
              "      <td>t</td>\n",
              "      <td>6</td>\n",
              "      <td>f</td>\n",
              "      <td>g</td>\n",
              "      <td>43.0</td>\n",
              "      <td>560</td>\n",
              "      <td>+</td>\n",
              "    </tr>\n",
              "    <tr>\n",
              "      <th>2</th>\n",
              "      <td>a</td>\n",
              "      <td>24.50</td>\n",
              "      <td>0.500</td>\n",
              "      <td>u</td>\n",
              "      <td>g</td>\n",
              "      <td>q</td>\n",
              "      <td>h</td>\n",
              "      <td>1.50</td>\n",
              "      <td>t</td>\n",
              "      <td>f</td>\n",
              "      <td>0</td>\n",
              "      <td>f</td>\n",
              "      <td>g</td>\n",
              "      <td>280.0</td>\n",
              "      <td>824</td>\n",
              "      <td>+</td>\n",
              "    </tr>\n",
              "    <tr>\n",
              "      <th>3</th>\n",
              "      <td>b</td>\n",
              "      <td>27.83</td>\n",
              "      <td>1.540</td>\n",
              "      <td>u</td>\n",
              "      <td>g</td>\n",
              "      <td>w</td>\n",
              "      <td>v</td>\n",
              "      <td>3.75</td>\n",
              "      <td>t</td>\n",
              "      <td>t</td>\n",
              "      <td>5</td>\n",
              "      <td>t</td>\n",
              "      <td>g</td>\n",
              "      <td>100.0</td>\n",
              "      <td>3</td>\n",
              "      <td>+</td>\n",
              "    </tr>\n",
              "    <tr>\n",
              "      <th>4</th>\n",
              "      <td>b</td>\n",
              "      <td>20.17</td>\n",
              "      <td>5.625</td>\n",
              "      <td>u</td>\n",
              "      <td>g</td>\n",
              "      <td>w</td>\n",
              "      <td>v</td>\n",
              "      <td>1.71</td>\n",
              "      <td>t</td>\n",
              "      <td>f</td>\n",
              "      <td>0</td>\n",
              "      <td>f</td>\n",
              "      <td>s</td>\n",
              "      <td>120.0</td>\n",
              "      <td>0</td>\n",
              "      <td>+</td>\n",
              "    </tr>\n",
              "  </tbody>\n",
              "</table>\n",
              "</div>"
            ],
            "text/plain": [
              "  A1     A2     A3 A4 A5 A6 A7    A8 A9 A10  A11 A12 A13    A14  A15 A16\n",
              "0  b  30.83  0.000  u  g  w  v  1.25  t   t    1   f   g  202.0    0   +\n",
              "1  a  58.67  4.460  u  g  q  h  3.04  t   t    6   f   g   43.0  560   +\n",
              "2  a  24.50  0.500  u  g  q  h  1.50  t   f    0   f   g  280.0  824   +\n",
              "3  b  27.83  1.540  u  g  w  v  3.75  t   t    5   t   g  100.0    3   +\n",
              "4  b  20.17  5.625  u  g  w  v  1.71  t   f    0   f   s  120.0    0   +"
            ]
          },
          "metadata": {
            "tags": []
          },
          "execution_count": 5
        }
      ]
    },
    {
      "cell_type": "markdown",
      "metadata": {
        "id": "WOzMOIJhMctV",
        "colab_type": "text"
      },
      "source": [
        "---"
      ]
    },
    {
      "cell_type": "markdown",
      "metadata": {
        "id": "yWABQCE7Mctl",
        "colab_type": "text"
      },
      "source": [
        "### Validate the Number of observations\n",
        "\n",
        "Validate that the loaded data has the appropriate number of observations. You can check the raw file and read the dataset description from UCI."
      ]
    },
    {
      "cell_type": "markdown",
      "metadata": {
        "id": "QtP_juY4Mctp",
        "colab_type": "text"
      },
      "source": [
        "According to `crx.names`, there should be 690 rows and 16 columns (15 columns + 1 class attribute)."
      ]
    },
    {
      "cell_type": "code",
      "metadata": {
        "id": "s1jKv9C4Mur9",
        "colab_type": "code",
        "colab": {
          "base_uri": "https://localhost:8080/",
          "height": 35
        },
        "outputId": "5a2bbdf3-a568-43c7-9268-c533c218861a"
      },
      "source": [
        "credit.shape"
      ],
      "execution_count": 6,
      "outputs": [
        {
          "output_type": "execute_result",
          "data": {
            "text/plain": [
              "(690, 16)"
            ]
          },
          "metadata": {
            "tags": []
          },
          "execution_count": 6
        }
      ]
    },
    {
      "cell_type": "markdown",
      "metadata": {
        "id": "r7phTkxwMcuF",
        "colab_type": "text"
      },
      "source": [
        "---"
      ]
    },
    {
      "cell_type": "markdown",
      "metadata": {
        "id": "mN4-k_a9McuH",
        "colab_type": "text"
      },
      "source": [
        "### Account for Missing Data\n",
        "\n",
        "UCI says there should be missing data - check, and if necessary change the data so pandas recognizes it as NaN."
      ]
    },
    {
      "cell_type": "markdown",
      "metadata": {
        "id": "rqnuyQuHMcuP",
        "colab_type": "text"
      },
      "source": [
        " According to `crx.names`, there should be missing data as follows:\n",
        " \n",
        "   - 37 cases (5%) have one or more missing values\n",
        "  - The missing values from particular attributes are:\n",
        "    - A1:  12\n",
        "    - A2:  12\n",
        "    - A4:   6\n",
        "    - A5:   6\n",
        "    - A6:   9\n",
        "    - A7:   9\n",
        "    - A14: 13"
      ]
    },
    {
      "cell_type": "code",
      "metadata": {
        "id": "5TZKxVfiGJ8p",
        "colab_type": "code",
        "colab": {
          "base_uri": "https://localhost:8080/",
          "height": 1000
        },
        "outputId": "cae4428d-51c5-4aae-8131-d9fb0c837daa"
      },
      "source": [
        "# === Look at data to find missing value indicator === #\n",
        "!head -n 100 crx.data"
      ],
      "execution_count": 7,
      "outputs": [
        {
          "output_type": "stream",
          "text": [
            "b,30.83,0,u,g,w,v,1.25,t,t,01,f,g,00202,0,+\n",
            "a,58.67,4.46,u,g,q,h,3.04,t,t,06,f,g,00043,560,+\n",
            "a,24.50,0.5,u,g,q,h,1.5,t,f,0,f,g,00280,824,+\n",
            "b,27.83,1.54,u,g,w,v,3.75,t,t,05,t,g,00100,3,+\n",
            "b,20.17,5.625,u,g,w,v,1.71,t,f,0,f,s,00120,0,+\n",
            "b,32.08,4,u,g,m,v,2.5,t,f,0,t,g,00360,0,+\n",
            "b,33.17,1.04,u,g,r,h,6.5,t,f,0,t,g,00164,31285,+\n",
            "a,22.92,11.585,u,g,cc,v,0.04,t,f,0,f,g,00080,1349,+\n",
            "b,54.42,0.5,y,p,k,h,3.96,t,f,0,f,g,00180,314,+\n",
            "b,42.50,4.915,y,p,w,v,3.165,t,f,0,t,g,00052,1442,+\n",
            "b,22.08,0.83,u,g,c,h,2.165,f,f,0,t,g,00128,0,+\n",
            "b,29.92,1.835,u,g,c,h,4.335,t,f,0,f,g,00260,200,+\n",
            "a,38.25,6,u,g,k,v,1,t,f,0,t,g,00000,0,+\n",
            "b,48.08,6.04,u,g,k,v,0.04,f,f,0,f,g,00000,2690,+\n",
            "a,45.83,10.5,u,g,q,v,5,t,t,07,t,g,00000,0,+\n",
            "b,36.67,4.415,y,p,k,v,0.25,t,t,10,t,g,00320,0,+\n",
            "b,28.25,0.875,u,g,m,v,0.96,t,t,03,t,g,00396,0,+\n",
            "a,23.25,5.875,u,g,q,v,3.17,t,t,10,f,g,00120,245,+\n",
            "b,21.83,0.25,u,g,d,h,0.665,t,f,0,t,g,00000,0,+\n",
            "a,19.17,8.585,u,g,cc,h,0.75,t,t,07,f,g,00096,0,+\n",
            "b,25.00,11.25,u,g,c,v,2.5,t,t,17,f,g,00200,1208,+\n",
            "b,23.25,1,u,g,c,v,0.835,t,f,0,f,s,00300,0,+\n",
            "a,47.75,8,u,g,c,v,7.875,t,t,06,t,g,00000,1260,+\n",
            "a,27.42,14.5,u,g,x,h,3.085,t,t,01,f,g,00120,11,+\n",
            "a,41.17,6.5,u,g,q,v,0.5,t,t,03,t,g,00145,0,+\n",
            "a,15.83,0.585,u,g,c,h,1.5,t,t,02,f,g,00100,0,+\n",
            "a,47.00,13,u,g,i,bb,5.165,t,t,09,t,g,00000,0,+\n",
            "b,56.58,18.5,u,g,d,bb,15,t,t,17,t,g,00000,0,+\n",
            "b,57.42,8.5,u,g,e,h,7,t,t,03,f,g,00000,0,+\n",
            "b,42.08,1.04,u,g,w,v,5,t,t,06,t,g,00500,10000,+\n",
            "b,29.25,14.79,u,g,aa,v,5.04,t,t,05,t,g,00168,0,+\n",
            "b,42.00,9.79,u,g,x,h,7.96,t,t,08,f,g,00000,0,+\n",
            "b,49.50,7.585,u,g,i,bb,7.585,t,t,15,t,g,00000,5000,+\n",
            "a,36.75,5.125,u,g,e,v,5,t,f,0,t,g,00000,4000,+\n",
            "a,22.58,10.75,u,g,q,v,0.415,t,t,05,t,g,00000,560,+\n",
            "b,27.83,1.5,u,g,w,v,2,t,t,11,t,g,00434,35,+\n",
            "b,27.25,1.585,u,g,cc,h,1.835,t,t,12,t,g,00583,713,+\n",
            "a,23.00,11.75,u,g,x,h,0.5,t,t,02,t,g,00300,551,+\n",
            "b,27.75,0.585,y,p,cc,v,0.25,t,t,02,f,g,00260,500,+\n",
            "b,54.58,9.415,u,g,ff,ff,14.415,t,t,11,t,g,00030,300,+\n",
            "b,34.17,9.17,u,g,c,v,4.5,t,t,12,t,g,00000,221,+\n",
            "b,28.92,15,u,g,c,h,5.335,t,t,11,f,g,00000,2283,+\n",
            "b,29.67,1.415,u,g,w,h,0.75,t,t,01,f,g,00240,100,+\n",
            "b,39.58,13.915,u,g,w,v,8.625,t,t,06,t,g,00070,0,+\n",
            "b,56.42,28,y,p,c,v,28.5,t,t,40,f,g,00000,15,+\n",
            "b,54.33,6.75,u,g,c,h,2.625,t,t,11,t,g,00000,284,+\n",
            "a,41.00,2.04,y,p,q,h,0.125,t,t,23,t,g,00455,1236,+\n",
            "b,31.92,4.46,u,g,cc,h,6.04,t,t,03,f,g,00311,300,+\n",
            "b,41.50,1.54,u,g,i,bb,3.5,f,f,0,f,g,00216,0,+\n",
            "b,23.92,0.665,u,g,c,v,0.165,f,f,0,f,g,00100,0,+\n",
            "a,25.75,0.5,u,g,c,h,0.875,t,f,0,t,g,00491,0,+\n",
            "b,26.00,1,u,g,q,v,1.75,t,f,0,t,g,00280,0,+\n",
            "b,37.42,2.04,u,g,w,v,0.04,t,f,0,t,g,00400,5800,+\n",
            "b,34.92,2.5,u,g,w,v,0,t,f,0,t,g,00239,200,+\n",
            "b,34.25,3,u,g,cc,h,7.415,t,f,0,t,g,00000,0,+\n",
            "b,23.33,11.625,y,p,w,v,0.835,t,f,0,t,g,00160,300,+\n",
            "b,23.17,0,u,g,cc,v,0.085,t,f,0,f,g,00000,0,+\n",
            "b,44.33,0.5,u,g,i,h,5,t,f,0,t,g,00320,0,+\n",
            "b,35.17,4.5,u,g,x,h,5.75,f,f,0,t,s,00711,0,+\n",
            "b,43.25,3,u,g,q,h,6,t,t,11,f,g,00080,0,+\n",
            "b,56.75,12.25,u,g,m,v,1.25,t,t,04,t,g,00200,0,+\n",
            "b,31.67,16.165,u,g,d,v,3,t,t,09,f,g,00250,730,+\n",
            "a,23.42,0.79,y,p,q,v,1.5,t,t,02,t,g,00080,400,+\n",
            "a,20.42,0.835,u,g,q,v,1.585,t,t,01,f,g,00000,0,+\n",
            "b,26.67,4.25,u,g,cc,v,4.29,t,t,01,t,g,00120,0,+\n",
            "b,34.17,1.54,u,g,cc,v,1.54,t,t,01,t,g,00520,50000,+\n",
            "a,36.00,1,u,g,c,v,2,t,t,11,f,g,00000,456,+\n",
            "b,25.50,0.375,u,g,m,v,0.25,t,t,03,f,g,00260,15108,+\n",
            "b,19.42,6.5,u,g,w,h,1.46,t,t,07,f,g,00080,2954,+\n",
            "b,35.17,25.125,u,g,x,h,1.625,t,t,01,t,g,00515,500,+\n",
            "b,32.33,7.5,u,g,e,bb,1.585,t,f,0,t,s,00420,0,-\n",
            "b,34.83,4,u,g,d,bb,12.5,t,f,0,t,g,?,0,-\n",
            "a,38.58,5,u,g,cc,v,13.5,t,f,0,t,g,00980,0,-\n",
            "b,44.25,0.5,u,g,m,v,10.75,t,f,0,f,s,00400,0,-\n",
            "b,44.83,7,y,p,c,v,1.625,f,f,0,f,g,00160,2,-\n",
            "b,20.67,5.29,u,g,q,v,0.375,t,t,01,f,g,00160,0,-\n",
            "b,34.08,6.5,u,g,aa,v,0.125,t,f,0,t,g,00443,0,-\n",
            "a,19.17,0.585,y,p,aa,v,0.585,t,f,0,t,g,00160,0,-\n",
            "b,21.67,1.165,y,p,k,v,2.5,t,t,01,f,g,00180,20,-\n",
            "b,21.50,9.75,u,g,c,v,0.25,t,f,0,f,g,00140,0,-\n",
            "b,49.58,19,u,g,ff,ff,0,t,t,01,f,g,00094,0,-\n",
            "a,27.67,1.5,u,g,m,v,2,t,f,0,f,s,00368,0,-\n",
            "b,39.83,0.5,u,g,m,v,0.25,t,f,0,f,s,00288,0,-\n",
            "a,?,3.5,u,g,d,v,3,t,f,0,t,g,00300,0,-\n",
            "b,27.25,0.625,u,g,aa,v,0.455,t,f,0,t,g,00200,0,-\n",
            "b,37.17,4,u,g,c,bb,5,t,f,0,t,s,00280,0,-\n",
            "b,?,0.375,u,g,d,v,0.875,t,f,0,t,s,00928,0,-\n",
            "b,25.67,2.21,y,p,aa,v,4,t,f,0,f,g,00188,0,-\n",
            "b,34.00,4.5,u,g,aa,v,1,t,f,0,t,g,00240,0,-\n",
            "a,49.00,1.5,u,g,j,j,0,t,f,0,t,g,00100,27,-\n",
            "b,62.50,12.75,y,p,c,h,5,t,f,0,f,g,00112,0,-\n",
            "b,31.42,15.5,u,g,c,v,0.5,t,f,0,f,g,00120,0,-\n",
            "b,?,5,y,p,aa,v,8.5,t,f,0,f,g,00000,0,-\n",
            "b,52.33,1.375,y,p,c,h,9.46,t,f,0,t,g,00200,100,-\n",
            "b,28.75,1.5,y,p,c,v,1.5,t,f,0,t,g,00000,225,-\n",
            "a,28.58,3.54,u,g,i,bb,0.5,t,f,0,t,g,00171,0,-\n",
            "b,23.00,0.625,y,p,aa,v,0.125,t,f,0,f,g,00180,1,-\n",
            "b,?,0.5,u,g,c,bb,0.835,t,f,0,t,s,00320,0,-\n",
            "a,22.50,11,y,p,q,v,3,t,f,0,t,g,00268,0,-\n",
            "a,28.50,1,u,g,q,v,1,t,t,02,t,g,00167,500,-\n"
          ],
          "name": "stdout"
        }
      ]
    },
    {
      "cell_type": "markdown",
      "metadata": {
        "id": "UoiiCBRwHgCS",
        "colab_type": "text"
      },
      "source": [
        "### Null values\n",
        "\n",
        "Based on a look at the first 100 lines of the file, I can see that the null values are represented by question marks `?`."
      ]
    },
    {
      "cell_type": "code",
      "metadata": {
        "id": "7zrnRGPgJf3V",
        "colab_type": "code",
        "outputId": "5551a138-2045-4604-8951-b53d2cac6861",
        "colab": {
          "base_uri": "https://localhost:8080/",
          "height": 329
        }
      },
      "source": [
        "# === Check null value counts === #\n",
        "credit.isnull().sum()"
      ],
      "execution_count": 8,
      "outputs": [
        {
          "output_type": "execute_result",
          "data": {
            "text/plain": [
              "A1     12\n",
              "A2     12\n",
              "A3      0\n",
              "A4      6\n",
              "A5      6\n",
              "A6      9\n",
              "A7      9\n",
              "A8      0\n",
              "A9      0\n",
              "A10     0\n",
              "A11     0\n",
              "A12     0\n",
              "A13     0\n",
              "A14    13\n",
              "A15     0\n",
              "A16     0\n",
              "dtype: int64"
            ]
          },
          "metadata": {
            "tags": []
          },
          "execution_count": 8
        }
      ]
    },
    {
      "cell_type": "code",
      "metadata": {
        "id": "JbERCiCZMr_M",
        "colab_type": "code",
        "colab": {}
      },
      "source": [
        "# === Fill in na values === #\n",
        "credit[\"A1\"] = credit[\"A1\"].fillna(method=\"ffill\")\n",
        "credit[\"A2\"] = credit[\"A2\"].fillna(value=credit[\"A2\"].mean())\n",
        "credit[\"A4\"] = credit[\"A4\"].fillna(method=\"ffill\")\n",
        "credit[\"A5\"] = credit[\"A5\"].fillna(method=\"ffill\")\n",
        "credit[\"A6\"] = credit[\"A6\"].fillna(method=\"ffill\")\n",
        "credit[\"A7\"] = credit[\"A7\"].fillna(method=\"ffill\")\n",
        "credit[\"A14\"] = credit[\"A14\"].fillna(value=credit[\"A14\"].mean())\n"
      ],
      "execution_count": 0,
      "outputs": []
    },
    {
      "cell_type": "code",
      "metadata": {
        "id": "8g_Vlt_BbRXy",
        "colab_type": "code",
        "colab": {
          "base_uri": "https://localhost:8080/",
          "height": 329
        },
        "outputId": "d493f096-0b8b-4572-bf55-0b094de0137f"
      },
      "source": [
        "# === Confirm it worked === #\n",
        "credit.isnull().sum()"
      ],
      "execution_count": 10,
      "outputs": [
        {
          "output_type": "execute_result",
          "data": {
            "text/plain": [
              "A1     0\n",
              "A2     0\n",
              "A3     0\n",
              "A4     0\n",
              "A5     0\n",
              "A6     0\n",
              "A7     0\n",
              "A8     0\n",
              "A9     0\n",
              "A10    0\n",
              "A11    0\n",
              "A12    0\n",
              "A13    0\n",
              "A14    0\n",
              "A15    0\n",
              "A16    0\n",
              "dtype: int64"
            ]
          },
          "metadata": {
            "tags": []
          },
          "execution_count": 10
        }
      ]
    },
    {
      "cell_type": "markdown",
      "metadata": {
        "id": "zYfXOCrtMcvj",
        "colab_type": "text"
      },
      "source": [
        "---"
      ]
    },
    {
      "cell_type": "markdown",
      "metadata": {
        "id": "fzEqT8uoMcvm",
        "colab_type": "text"
      },
      "source": [
        "### Validate Column Datatypes\n",
        "\n",
        "Make sure that the loaded features are of the types described above (continuous values should be treated as float), and correct as necessary"
      ]
    },
    {
      "cell_type": "markdown",
      "metadata": {
        "id": "jW8zlZ2-Mcvo",
        "colab_type": "text"
      },
      "source": [
        "Attribute Information:\n",
        "\n",
        "    A1: b, a.\n",
        "    A2: continuous.\n",
        "    A3: continuous.\n",
        "    A4: u, y, l, t.\n",
        "    A5: g, p, gg.\n",
        "    A6: c, d, cc, i, j, k, m, r, q, w, x, e, aa, ff.\n",
        "    A7: v, h, bb, j, n, z, dd, ff, o.\n",
        "    A8: continuous.\n",
        "    A9: t, f.\n",
        "    A10: t, f.\n",
        "    A11: continuous.\n",
        "    A12: t, f.\n",
        "    A13: g, p, s.\n",
        "    A14: continuous.\n",
        "    A15: continuous.\n",
        "    A16: +,- (class attribute)\n",
        "\n"
      ]
    },
    {
      "cell_type": "code",
      "metadata": {
        "id": "w0pWXxrLM4DR",
        "colab_type": "code",
        "colab": {
          "base_uri": "https://localhost:8080/",
          "height": 329
        },
        "outputId": "abb265db-e9b6-47a8-dc35-11cb97e4e513"
      },
      "source": [
        "# === Compare datatypes === #\n",
        "credit.dtypes"
      ],
      "execution_count": 11,
      "outputs": [
        {
          "output_type": "execute_result",
          "data": {
            "text/plain": [
              "A1      object\n",
              "A2     float64\n",
              "A3     float64\n",
              "A4      object\n",
              "A5      object\n",
              "A6      object\n",
              "A7      object\n",
              "A8     float64\n",
              "A9      object\n",
              "A10     object\n",
              "A11      int64\n",
              "A12     object\n",
              "A13     object\n",
              "A14    float64\n",
              "A15      int64\n",
              "A16     object\n",
              "dtype: object"
            ]
          },
          "metadata": {
            "tags": []
          },
          "execution_count": 11
        }
      ]
    },
    {
      "cell_type": "code",
      "metadata": {
        "id": "1YYcJdSxLmP1",
        "colab_type": "code",
        "colab": {
          "base_uri": "https://localhost:8080/",
          "height": 206
        },
        "outputId": "5be4ac78-54dd-4675-fd90-b048e239de66"
      },
      "source": [
        "# === Convert target to binary int === #\n",
        "replace = {\n",
        "    \"+\": 1,\n",
        "    \"-\": 0,\n",
        "}\n",
        "credit[\"A16\"] = credit[\"A16\"].replace(to_replace=replace)\n",
        "credit.head()"
      ],
      "execution_count": 12,
      "outputs": [
        {
          "output_type": "execute_result",
          "data": {
            "text/html": [
              "<div>\n",
              "<style scoped>\n",
              "    .dataframe tbody tr th:only-of-type {\n",
              "        vertical-align: middle;\n",
              "    }\n",
              "\n",
              "    .dataframe tbody tr th {\n",
              "        vertical-align: top;\n",
              "    }\n",
              "\n",
              "    .dataframe thead th {\n",
              "        text-align: right;\n",
              "    }\n",
              "</style>\n",
              "<table border=\"1\" class=\"dataframe\">\n",
              "  <thead>\n",
              "    <tr style=\"text-align: right;\">\n",
              "      <th></th>\n",
              "      <th>A1</th>\n",
              "      <th>A2</th>\n",
              "      <th>A3</th>\n",
              "      <th>A4</th>\n",
              "      <th>A5</th>\n",
              "      <th>A6</th>\n",
              "      <th>A7</th>\n",
              "      <th>A8</th>\n",
              "      <th>A9</th>\n",
              "      <th>A10</th>\n",
              "      <th>A11</th>\n",
              "      <th>A12</th>\n",
              "      <th>A13</th>\n",
              "      <th>A14</th>\n",
              "      <th>A15</th>\n",
              "      <th>A16</th>\n",
              "    </tr>\n",
              "  </thead>\n",
              "  <tbody>\n",
              "    <tr>\n",
              "      <th>0</th>\n",
              "      <td>b</td>\n",
              "      <td>30.83</td>\n",
              "      <td>0.000</td>\n",
              "      <td>u</td>\n",
              "      <td>g</td>\n",
              "      <td>w</td>\n",
              "      <td>v</td>\n",
              "      <td>1.25</td>\n",
              "      <td>t</td>\n",
              "      <td>t</td>\n",
              "      <td>1</td>\n",
              "      <td>f</td>\n",
              "      <td>g</td>\n",
              "      <td>202.0</td>\n",
              "      <td>0</td>\n",
              "      <td>1</td>\n",
              "    </tr>\n",
              "    <tr>\n",
              "      <th>1</th>\n",
              "      <td>a</td>\n",
              "      <td>58.67</td>\n",
              "      <td>4.460</td>\n",
              "      <td>u</td>\n",
              "      <td>g</td>\n",
              "      <td>q</td>\n",
              "      <td>h</td>\n",
              "      <td>3.04</td>\n",
              "      <td>t</td>\n",
              "      <td>t</td>\n",
              "      <td>6</td>\n",
              "      <td>f</td>\n",
              "      <td>g</td>\n",
              "      <td>43.0</td>\n",
              "      <td>560</td>\n",
              "      <td>1</td>\n",
              "    </tr>\n",
              "    <tr>\n",
              "      <th>2</th>\n",
              "      <td>a</td>\n",
              "      <td>24.50</td>\n",
              "      <td>0.500</td>\n",
              "      <td>u</td>\n",
              "      <td>g</td>\n",
              "      <td>q</td>\n",
              "      <td>h</td>\n",
              "      <td>1.50</td>\n",
              "      <td>t</td>\n",
              "      <td>f</td>\n",
              "      <td>0</td>\n",
              "      <td>f</td>\n",
              "      <td>g</td>\n",
              "      <td>280.0</td>\n",
              "      <td>824</td>\n",
              "      <td>1</td>\n",
              "    </tr>\n",
              "    <tr>\n",
              "      <th>3</th>\n",
              "      <td>b</td>\n",
              "      <td>27.83</td>\n",
              "      <td>1.540</td>\n",
              "      <td>u</td>\n",
              "      <td>g</td>\n",
              "      <td>w</td>\n",
              "      <td>v</td>\n",
              "      <td>3.75</td>\n",
              "      <td>t</td>\n",
              "      <td>t</td>\n",
              "      <td>5</td>\n",
              "      <td>t</td>\n",
              "      <td>g</td>\n",
              "      <td>100.0</td>\n",
              "      <td>3</td>\n",
              "      <td>1</td>\n",
              "    </tr>\n",
              "    <tr>\n",
              "      <th>4</th>\n",
              "      <td>b</td>\n",
              "      <td>20.17</td>\n",
              "      <td>5.625</td>\n",
              "      <td>u</td>\n",
              "      <td>g</td>\n",
              "      <td>w</td>\n",
              "      <td>v</td>\n",
              "      <td>1.71</td>\n",
              "      <td>t</td>\n",
              "      <td>f</td>\n",
              "      <td>0</td>\n",
              "      <td>f</td>\n",
              "      <td>s</td>\n",
              "      <td>120.0</td>\n",
              "      <td>0</td>\n",
              "      <td>1</td>\n",
              "    </tr>\n",
              "  </tbody>\n",
              "</table>\n",
              "</div>"
            ],
            "text/plain": [
              "  A1     A2     A3 A4 A5 A6 A7    A8 A9 A10  A11 A12 A13    A14  A15  A16\n",
              "0  b  30.83  0.000  u  g  w  v  1.25  t   t    1   f   g  202.0    0    1\n",
              "1  a  58.67  4.460  u  g  q  h  3.04  t   t    6   f   g   43.0  560    1\n",
              "2  a  24.50  0.500  u  g  q  h  1.50  t   f    0   f   g  280.0  824    1\n",
              "3  b  27.83  1.540  u  g  w  v  3.75  t   t    5   t   g  100.0    3    1\n",
              "4  b  20.17  5.625  u  g  w  v  1.71  t   f    0   f   s  120.0    0    1"
            ]
          },
          "metadata": {
            "tags": []
          },
          "execution_count": 12
        }
      ]
    },
    {
      "cell_type": "markdown",
      "metadata": {
        "id": "_p8A77B2Mcww",
        "colab_type": "text"
      },
      "source": [
        "---\n",
        "---"
      ]
    },
    {
      "cell_type": "markdown",
      "metadata": {
        "colab_type": "text",
        "id": "G7rLytbrO38L"
      },
      "source": [
        "## Part 2 - Exploring data, Testing hypotheses\n",
        "\n",
        "The only thing we really know about this data is that A16 is the class label. Besides that, we have 6 continuous (float) features and 9 categorical features."
      ]
    },
    {
      "cell_type": "markdown",
      "metadata": {
        "colab_type": "text",
        "id": "kIPPAtI2Mcw1"
      },
      "source": [
        "Explore the data: you can use whatever approach (tables, utility functions, visualizations) to get an impression of the distributions and relationships of the variables.\n",
        "\n",
        "> In general, your goal is to understand how the features are different when grouped by the two class labels (`+` and `-`)."
      ]
    },
    {
      "cell_type": "markdown",
      "metadata": {
        "colab_type": "text",
        "id": "Cd3uYMz1Mcw1"
      },
      "source": [
        "#### Continuous Features\n",
        "\n",
        "For the 6 continuous features, how are they different when split between the two class labels? \n",
        "\n",
        "Choose two features to run t-tests (again split by class label) - specifically, select one feature that is *extremely* different between the classes, and another feature that is notably less different (though perhaps still \"statistically significantly\" different). You may have to explore more than two features to do this."
      ]
    },
    {
      "cell_type": "markdown",
      "metadata": {
        "colab_type": "text",
        "id": "ChdQveWZMcw3"
      },
      "source": [
        "#### Categorical Features\n",
        "\n",
        "For the categorical features, explore by creating \"cross tabs\" (aka [contingency tables](https://en.wikipedia.org/wiki/Contingency_table)) between them and the class label, and apply the Chi-squared test to them. [pandas.crosstab](http://pandas.pydata.org/pandas-docs/stable/reference/api/pandas.crosstab.html) can create contingency tables, and [scipy.stats.chi2_contingency](https://docs.scipy.org/doc/scipy/reference/generated/scipy.stats.chi2_contingency.html) can calculate the Chi-squared statistic for them.\n",
        "\n",
        "There are 9 categorical features - as with the t-test, try to find one where the Chi-squared test returns an extreme result (rejecting the null that the data are independent), and one where it is less extreme.\n",
        "\n",
        "> \"less extreme\" just means smaller test statistic/larger p-value. Even the least extreme differences may be strongly statistically significant."
      ]
    },
    {
      "cell_type": "markdown",
      "metadata": {
        "colab_type": "text",
        "id": "W-e5VAyHMcw4"
      },
      "source": [
        "#### Notes\n",
        "\n",
        "Your *main* goal is the hypothesis tests, so don't spend too much time on the exploration/visualization piece. That is just a means to an end - use simple visualizations, such as boxplots or a scatter matrix (both built in to pandas), to get a feel for the overall distribution of the variables.\n",
        "\n",
        "This is challenging, so manage your time and aim for a baseline of at least running two t-tests and two Chi-squared tests before polishing. And don't forget to answer the questions in part 3, even if your results in this part aren't what you want them to be."
      ]
    },
    {
      "cell_type": "markdown",
      "metadata": {
        "id": "Y7kqgfaeMcw6",
        "colab_type": "text"
      },
      "source": [
        "---"
      ]
    },
    {
      "cell_type": "markdown",
      "metadata": {
        "colab_type": "text",
        "id": "yG2AAvPRMcw9"
      },
      "source": [
        "Explore the data: you can use whatever approach (tables, utility functions, visualizations) to get an impression of the distributions and relationships of the variables.\n",
        "\n",
        "> In general, your goal is to understand how the features are different when grouped by the two class labels (`+` and `-`)."
      ]
    },
    {
      "cell_type": "code",
      "metadata": {
        "id": "u6QkTOJQMVnq",
        "colab_type": "code",
        "colab": {
          "base_uri": "https://localhost:8080/",
          "height": 206
        },
        "outputId": "e8c8dce7-6963-4570-c2dd-67d0d76ce6ef"
      },
      "source": [
        "# === Look at data again === #\n",
        "credit.head()"
      ],
      "execution_count": 13,
      "outputs": [
        {
          "output_type": "execute_result",
          "data": {
            "text/html": [
              "<div>\n",
              "<style scoped>\n",
              "    .dataframe tbody tr th:only-of-type {\n",
              "        vertical-align: middle;\n",
              "    }\n",
              "\n",
              "    .dataframe tbody tr th {\n",
              "        vertical-align: top;\n",
              "    }\n",
              "\n",
              "    .dataframe thead th {\n",
              "        text-align: right;\n",
              "    }\n",
              "</style>\n",
              "<table border=\"1\" class=\"dataframe\">\n",
              "  <thead>\n",
              "    <tr style=\"text-align: right;\">\n",
              "      <th></th>\n",
              "      <th>A1</th>\n",
              "      <th>A2</th>\n",
              "      <th>A3</th>\n",
              "      <th>A4</th>\n",
              "      <th>A5</th>\n",
              "      <th>A6</th>\n",
              "      <th>A7</th>\n",
              "      <th>A8</th>\n",
              "      <th>A9</th>\n",
              "      <th>A10</th>\n",
              "      <th>A11</th>\n",
              "      <th>A12</th>\n",
              "      <th>A13</th>\n",
              "      <th>A14</th>\n",
              "      <th>A15</th>\n",
              "      <th>A16</th>\n",
              "    </tr>\n",
              "  </thead>\n",
              "  <tbody>\n",
              "    <tr>\n",
              "      <th>0</th>\n",
              "      <td>b</td>\n",
              "      <td>30.83</td>\n",
              "      <td>0.000</td>\n",
              "      <td>u</td>\n",
              "      <td>g</td>\n",
              "      <td>w</td>\n",
              "      <td>v</td>\n",
              "      <td>1.25</td>\n",
              "      <td>t</td>\n",
              "      <td>t</td>\n",
              "      <td>1</td>\n",
              "      <td>f</td>\n",
              "      <td>g</td>\n",
              "      <td>202.0</td>\n",
              "      <td>0</td>\n",
              "      <td>1</td>\n",
              "    </tr>\n",
              "    <tr>\n",
              "      <th>1</th>\n",
              "      <td>a</td>\n",
              "      <td>58.67</td>\n",
              "      <td>4.460</td>\n",
              "      <td>u</td>\n",
              "      <td>g</td>\n",
              "      <td>q</td>\n",
              "      <td>h</td>\n",
              "      <td>3.04</td>\n",
              "      <td>t</td>\n",
              "      <td>t</td>\n",
              "      <td>6</td>\n",
              "      <td>f</td>\n",
              "      <td>g</td>\n",
              "      <td>43.0</td>\n",
              "      <td>560</td>\n",
              "      <td>1</td>\n",
              "    </tr>\n",
              "    <tr>\n",
              "      <th>2</th>\n",
              "      <td>a</td>\n",
              "      <td>24.50</td>\n",
              "      <td>0.500</td>\n",
              "      <td>u</td>\n",
              "      <td>g</td>\n",
              "      <td>q</td>\n",
              "      <td>h</td>\n",
              "      <td>1.50</td>\n",
              "      <td>t</td>\n",
              "      <td>f</td>\n",
              "      <td>0</td>\n",
              "      <td>f</td>\n",
              "      <td>g</td>\n",
              "      <td>280.0</td>\n",
              "      <td>824</td>\n",
              "      <td>1</td>\n",
              "    </tr>\n",
              "    <tr>\n",
              "      <th>3</th>\n",
              "      <td>b</td>\n",
              "      <td>27.83</td>\n",
              "      <td>1.540</td>\n",
              "      <td>u</td>\n",
              "      <td>g</td>\n",
              "      <td>w</td>\n",
              "      <td>v</td>\n",
              "      <td>3.75</td>\n",
              "      <td>t</td>\n",
              "      <td>t</td>\n",
              "      <td>5</td>\n",
              "      <td>t</td>\n",
              "      <td>g</td>\n",
              "      <td>100.0</td>\n",
              "      <td>3</td>\n",
              "      <td>1</td>\n",
              "    </tr>\n",
              "    <tr>\n",
              "      <th>4</th>\n",
              "      <td>b</td>\n",
              "      <td>20.17</td>\n",
              "      <td>5.625</td>\n",
              "      <td>u</td>\n",
              "      <td>g</td>\n",
              "      <td>w</td>\n",
              "      <td>v</td>\n",
              "      <td>1.71</td>\n",
              "      <td>t</td>\n",
              "      <td>f</td>\n",
              "      <td>0</td>\n",
              "      <td>f</td>\n",
              "      <td>s</td>\n",
              "      <td>120.0</td>\n",
              "      <td>0</td>\n",
              "      <td>1</td>\n",
              "    </tr>\n",
              "  </tbody>\n",
              "</table>\n",
              "</div>"
            ],
            "text/plain": [
              "  A1     A2     A3 A4 A5 A6 A7    A8 A9 A10  A11 A12 A13    A14  A15  A16\n",
              "0  b  30.83  0.000  u  g  w  v  1.25  t   t    1   f   g  202.0    0    1\n",
              "1  a  58.67  4.460  u  g  q  h  3.04  t   t    6   f   g   43.0  560    1\n",
              "2  a  24.50  0.500  u  g  q  h  1.50  t   f    0   f   g  280.0  824    1\n",
              "3  b  27.83  1.540  u  g  w  v  3.75  t   t    5   t   g  100.0    3    1\n",
              "4  b  20.17  5.625  u  g  w  v  1.71  t   f    0   f   s  120.0    0    1"
            ]
          },
          "metadata": {
            "tags": []
          },
          "execution_count": 13
        }
      ]
    },
    {
      "cell_type": "code",
      "metadata": {
        "id": "-0-VRqUZQTyM",
        "colab_type": "code",
        "colab": {
          "base_uri": "https://localhost:8080/",
          "height": 265
        },
        "outputId": "0d1f3630-3696-4f11-8263-72727ec48715"
      },
      "source": [
        "# === Plot grouped to get a sense of group distributions === #\n",
        "\n",
        "# This one seems to one of the less extreme cases\n",
        "credit.groupby(by=\"A16\")[\"A2\"].plot.hist();"
      ],
      "execution_count": 14,
      "outputs": [
        {
          "output_type": "display_data",
          "data": {
            "image/png": "[encoded data removed]",
            "text/plain": [
              "<Figure size 432x288 with 1 Axes>"
            ]
          },
          "metadata": {
            "tags": [],
            "needs_background": "light"
          }
        }
      ]
    },
    {
      "cell_type": "code",
      "metadata": {
        "id": "-yAnNhL7SdoX",
        "colab_type": "code",
        "colab": {
          "base_uri": "https://localhost:8080/",
          "height": 265
        },
        "outputId": "8b7241b1-7f9e-4bb9-d732-e3f6e3d49fc8"
      },
      "source": [
        "credit.groupby(by=\"A16\")[\"A3\"].plot.hist();"
      ],
      "execution_count": 15,
      "outputs": [
        {
          "output_type": "display_data",
          "data": {
            "image/png": "[encoded data removed]",
            "text/plain": [
              "<Figure size 432x288 with 1 Axes>"
            ]
          },
          "metadata": {
            "tags": [],
            "needs_background": "light"
          }
        }
      ]
    },
    {
      "cell_type": "code",
      "metadata": {
        "id": "qC7urdu3S34H",
        "colab_type": "code",
        "colab": {
          "base_uri": "https://localhost:8080/",
          "height": 265
        },
        "outputId": "a06e4ec6-2ab7-40fc-cbc0-2d346bc6ee4a"
      },
      "source": [
        "# === One of the more extreme ones === #\n",
        "credit.groupby(by=\"A16\")[\"A14\"].plot.hist();"
      ],
      "execution_count": 16,
      "outputs": [
        {
          "output_type": "display_data",
          "data": {
            "image/png": "[encoded data removed]",
            "text/plain": [
              "<Figure size 432x288 with 1 Axes>"
            ]
          },
          "metadata": {
            "tags": [],
            "needs_background": "light"
          }
        }
      ]
    },
    {
      "cell_type": "code",
      "metadata": {
        "id": "xc3TxmoOSuoW",
        "colab_type": "code",
        "colab": {
          "base_uri": "https://localhost:8080/",
          "height": 265
        },
        "outputId": "0edbd4d0-7114-4149-a24c-4c4053752e46"
      },
      "source": [
        "# === Seems to be another relatively extreme case === #\n",
        "credit.groupby(by=\"A16\")[\"A15\"].plot.hist();"
      ],
      "execution_count": 17,
      "outputs": [
        {
          "output_type": "display_data",
          "data": {
            "image/png": "[encoded data removed]",
            "text/plain": [
              "<Figure size 432x288 with 1 Axes>"
            ]
          },
          "metadata": {
            "tags": [],
            "needs_background": "light"
          }
        }
      ]
    },
    {
      "cell_type": "markdown",
      "metadata": {
        "id": "sXZJ-oI1Mcxf",
        "colab_type": "text"
      },
      "source": [
        "---"
      ]
    },
    {
      "cell_type": "markdown",
      "metadata": {
        "colab_type": "text",
        "id": "hhJzb8Z-Mcxh"
      },
      "source": [
        "#### Continuous Features\n",
        "\n",
        "For the 6 continuous features, how are they different when split between the two class labels? \n",
        "\n",
        "Choose two features to run t-tests (again split by class label) - specifically, select one feature that is *extremely* different between the classes, and another feature that is notably less different (though perhaps still \"statistically significantly\" different). You may have to explore more than two features to do this."
      ]
    },
    {
      "cell_type": "markdown",
      "metadata": {
        "id": "-him42fGTy4r",
        "colab_type": "text"
      },
      "source": [
        "Based on the above explorations:\n",
        "\n",
        "* More extreme: A14\n",
        "* Less extreme: A2"
      ]
    },
    {
      "cell_type": "code",
      "metadata": {
        "id": "cVhwxOaHTth_",
        "colab_type": "code",
        "colab": {}
      },
      "source": [
        "# === Filter dataframe for two groups === #\n",
        "group_0 = credit[credit[\"A16\"] == 0]\n",
        "group_1 = credit[credit[\"A16\"] == 1]"
      ],
      "execution_count": 0,
      "outputs": []
    },
    {
      "cell_type": "markdown",
      "metadata": {
        "id": "fp8rtm7nV5Fi",
        "colab_type": "text"
      },
      "source": [
        "#### Test it out\n",
        "\n",
        "When the variables A* are separated into two groups based on the value of the target, A16:\n",
        "\n",
        "1. Null Hypothesis: the value of A* does not vary between the two groups\n",
        "2. Alternative Hypothesis: the mean value of A* is different between the two groups\n",
        "3. Confidence level: 95%"
      ]
    },
    {
      "cell_type": "code",
      "metadata": {
        "id": "KJzpHtmbNI2o",
        "colab_type": "code",
        "colab": {
          "base_uri": "https://localhost:8080/",
          "height": 35
        },
        "outputId": "562618a5-5750-4e82-9b70-d762da0a62a0"
      },
      "source": [
        "# === Perform t-test on A14 === #\n",
        "stats.ttest_ind(group_0[\"A14\"], group_1[\"A14\"])"
      ],
      "execution_count": 21,
      "outputs": [
        {
          "output_type": "execute_result",
          "data": {
            "text/plain": [
              "Ttest_indResult(statistic=2.635453311174974, pvalue=0.008591788512202131)"
            ]
          },
          "metadata": {
            "tags": []
          },
          "execution_count": 21
        }
      ]
    },
    {
      "cell_type": "markdown",
      "metadata": {
        "id": "IyB9JPoGfWOH",
        "colab_type": "text"
      },
      "source": [
        "Due to a p-value of 0.008, I reject the null hypothesis that the two groups are the same."
      ]
    },
    {
      "cell_type": "code",
      "metadata": {
        "id": "JTkpTKDZfrNv",
        "colab_type": "code",
        "colab": {
          "base_uri": "https://localhost:8080/",
          "height": 35
        },
        "outputId": "e53cecb9-df9c-45b0-b1fd-83f08d2485d0"
      },
      "source": [
        "# === Perform t-test on A2\n",
        "stats.ttest_ind(group_0[\"A2\"], group_1[\"A2\"])"
      ],
      "execution_count": 22,
      "outputs": [
        {
          "output_type": "execute_result",
          "data": {
            "text/plain": [
              "Ttest_indResult(statistic=-4.295929647669026, pvalue=1.9902200656148825e-05)"
            ]
          },
          "metadata": {
            "tags": []
          },
          "execution_count": 22
        }
      ]
    },
    {
      "cell_type": "markdown",
      "metadata": {
        "id": "UL3uKKbNgHtW",
        "colab_type": "text"
      },
      "source": [
        "Due to a p-value of 0.0000019, I reject the null hypothesis that the two froups are the frame."
      ]
    },
    {
      "cell_type": "markdown",
      "metadata": {
        "id": "9tn--IolMcyE",
        "colab_type": "text"
      },
      "source": [
        "---"
      ]
    },
    {
      "cell_type": "markdown",
      "metadata": {
        "colab_type": "text",
        "id": "mhR_so7AMcyG"
      },
      "source": [
        "#### Categorical Features\n",
        "\n",
        "For the categorical features, explore by creating \"cross tabs\" (aka [contingency tables](https://en.wikipedia.org/wiki/Contingency_table)) between them and the class label, and apply the Chi-squared test to them. [pandas.crosstab](http://pandas.pydata.org/pandas-docs/stable/reference/api/pandas.crosstab.html) can create contingency tables, and [scipy.stats.chi2_contingency](https://docs.scipy.org/doc/scipy/reference/generated/scipy.stats.chi2_contingency.html) can calculate the Chi-squared statistic for them.\n",
        "\n",
        "There are 9 categorical features - as with the t-test, try to find one where the Chi-squared test returns an extreme result (rejecting the null that the data are independent), and one where it is less extreme.\n",
        "\n",
        "> \"less extreme\" just means smaller test statistic/larger p-value. Even the least extreme differences may be strongly statistically significant."
      ]
    },
    {
      "cell_type": "code",
      "metadata": {
        "id": "S_m4LdGAg5Yz",
        "colab_type": "code",
        "colab": {
          "base_uri": "https://localhost:8080/",
          "height": 112
        },
        "outputId": "8bb9fb23-dee0-4ede-fc34-4f4b50961686"
      },
      "source": [
        "credit.head(2)"
      ],
      "execution_count": 23,
      "outputs": [
        {
          "output_type": "execute_result",
          "data": {
            "text/html": [
              "<div>\n",
              "<style scoped>\n",
              "    .dataframe tbody tr th:only-of-type {\n",
              "        vertical-align: middle;\n",
              "    }\n",
              "\n",
              "    .dataframe tbody tr th {\n",
              "        vertical-align: top;\n",
              "    }\n",
              "\n",
              "    .dataframe thead th {\n",
              "        text-align: right;\n",
              "    }\n",
              "</style>\n",
              "<table border=\"1\" class=\"dataframe\">\n",
              "  <thead>\n",
              "    <tr style=\"text-align: right;\">\n",
              "      <th></th>\n",
              "      <th>A1</th>\n",
              "      <th>A2</th>\n",
              "      <th>A3</th>\n",
              "      <th>A4</th>\n",
              "      <th>A5</th>\n",
              "      <th>A6</th>\n",
              "      <th>A7</th>\n",
              "      <th>A8</th>\n",
              "      <th>A9</th>\n",
              "      <th>A10</th>\n",
              "      <th>A11</th>\n",
              "      <th>A12</th>\n",
              "      <th>A13</th>\n",
              "      <th>A14</th>\n",
              "      <th>A15</th>\n",
              "      <th>A16</th>\n",
              "    </tr>\n",
              "  </thead>\n",
              "  <tbody>\n",
              "    <tr>\n",
              "      <th>0</th>\n",
              "      <td>b</td>\n",
              "      <td>30.83</td>\n",
              "      <td>0.00</td>\n",
              "      <td>u</td>\n",
              "      <td>g</td>\n",
              "      <td>w</td>\n",
              "      <td>v</td>\n",
              "      <td>1.25</td>\n",
              "      <td>t</td>\n",
              "      <td>t</td>\n",
              "      <td>1</td>\n",
              "      <td>f</td>\n",
              "      <td>g</td>\n",
              "      <td>202.0</td>\n",
              "      <td>0</td>\n",
              "      <td>1</td>\n",
              "    </tr>\n",
              "    <tr>\n",
              "      <th>1</th>\n",
              "      <td>a</td>\n",
              "      <td>58.67</td>\n",
              "      <td>4.46</td>\n",
              "      <td>u</td>\n",
              "      <td>g</td>\n",
              "      <td>q</td>\n",
              "      <td>h</td>\n",
              "      <td>3.04</td>\n",
              "      <td>t</td>\n",
              "      <td>t</td>\n",
              "      <td>6</td>\n",
              "      <td>f</td>\n",
              "      <td>g</td>\n",
              "      <td>43.0</td>\n",
              "      <td>560</td>\n",
              "      <td>1</td>\n",
              "    </tr>\n",
              "  </tbody>\n",
              "</table>\n",
              "</div>"
            ],
            "text/plain": [
              "  A1     A2    A3 A4 A5 A6 A7    A8 A9 A10  A11 A12 A13    A14  A15  A16\n",
              "0  b  30.83  0.00  u  g  w  v  1.25  t   t    1   f   g  202.0    0    1\n",
              "1  a  58.67  4.46  u  g  q  h  3.04  t   t    6   f   g   43.0  560    1"
            ]
          },
          "metadata": {
            "tags": []
          },
          "execution_count": 23
        }
      ]
    },
    {
      "cell_type": "code",
      "metadata": {
        "id": "rHgs362ANRVC",
        "colab_type": "code",
        "colab": {
          "base_uri": "https://localhost:8080/",
          "height": 127
        },
        "outputId": "fe3fd2cf-ee1f-4e16-e017-9a06eb10b0e3"
      },
      "source": [
        "# === A1 === #\n",
        "ct_a1 = pd.crosstab(credit[\"A1\"], credit[\"A16\"])\n",
        "# Not very significant of a difference when looking at the table,\n",
        "# what about when running a chi^2?\n",
        "chi_squared, p_value, dof, expected = stats.chi2_contingency(ct_a1)\n",
        "\n",
        "print(f\"Chi-Squared: {chi_squared}\")\n",
        "print(f\"P-value: {p_value}\")\n",
        "print(f\"Degrees of Freedom: {dof}\")\n",
        "print(\"Expected: \\n\", np.array(expected))"
      ],
      "execution_count": 32,
      "outputs": [
        {
          "output_type": "stream",
          "text": [
            "Chi-Squared: 0.5037254160868209\n",
            "P-value: 0.47786776443128076\n",
            "Degrees of Freedom: 1\n",
            "Expected: \n",
            " [[118.78550725  95.21449275]\n",
            " [264.21449275 211.78550725]]\n"
          ],
          "name": "stdout"
        }
      ]
    },
    {
      "cell_type": "markdown",
      "metadata": {
        "id": "TAUoVKTajU7S",
        "colab_type": "text"
      },
      "source": [
        "> In the case of A1, I fail to reject the null hypothesis that A1 is independent of A16.  \n",
        "I cannot therefore conclude that there is any relationship between A1 and A16."
      ]
    },
    {
      "cell_type": "code",
      "metadata": {
        "id": "Q5fbMlwOhqyQ",
        "colab_type": "code",
        "colab": {
          "base_uri": "https://localhost:8080/",
          "height": 520
        },
        "outputId": "91ec9395-8bf4-4846-ee84-8ddad07f6d3e"
      },
      "source": [
        "# === A6 === #\n",
        "pd.crosstab(credit[\"A6\"], credit[\"A16\"])"
      ],
      "execution_count": 28,
      "outputs": [
        {
          "output_type": "execute_result",
          "data": {
            "text/html": [
              "<div>\n",
              "<style scoped>\n",
              "    .dataframe tbody tr th:only-of-type {\n",
              "        vertical-align: middle;\n",
              "    }\n",
              "\n",
              "    .dataframe tbody tr th {\n",
              "        vertical-align: top;\n",
              "    }\n",
              "\n",
              "    .dataframe thead th {\n",
              "        text-align: right;\n",
              "    }\n",
              "</style>\n",
              "<table border=\"1\" class=\"dataframe\">\n",
              "  <thead>\n",
              "    <tr style=\"text-align: right;\">\n",
              "      <th>A16</th>\n",
              "      <th>0</th>\n",
              "      <th>1</th>\n",
              "    </tr>\n",
              "    <tr>\n",
              "      <th>A6</th>\n",
              "      <th></th>\n",
              "      <th></th>\n",
              "    </tr>\n",
              "  </thead>\n",
              "  <tbody>\n",
              "    <tr>\n",
              "      <th>aa</th>\n",
              "      <td>35</td>\n",
              "      <td>19</td>\n",
              "    </tr>\n",
              "    <tr>\n",
              "      <th>c</th>\n",
              "      <td>75</td>\n",
              "      <td>64</td>\n",
              "    </tr>\n",
              "    <tr>\n",
              "      <th>cc</th>\n",
              "      <td>12</td>\n",
              "      <td>29</td>\n",
              "    </tr>\n",
              "    <tr>\n",
              "      <th>d</th>\n",
              "      <td>23</td>\n",
              "      <td>7</td>\n",
              "    </tr>\n",
              "    <tr>\n",
              "      <th>e</th>\n",
              "      <td>11</td>\n",
              "      <td>14</td>\n",
              "    </tr>\n",
              "    <tr>\n",
              "      <th>ff</th>\n",
              "      <td>46</td>\n",
              "      <td>7</td>\n",
              "    </tr>\n",
              "    <tr>\n",
              "      <th>i</th>\n",
              "      <td>47</td>\n",
              "      <td>14</td>\n",
              "    </tr>\n",
              "    <tr>\n",
              "      <th>j</th>\n",
              "      <td>7</td>\n",
              "      <td>3</td>\n",
              "    </tr>\n",
              "    <tr>\n",
              "      <th>k</th>\n",
              "      <td>38</td>\n",
              "      <td>14</td>\n",
              "    </tr>\n",
              "    <tr>\n",
              "      <th>m</th>\n",
              "      <td>22</td>\n",
              "      <td>16</td>\n",
              "    </tr>\n",
              "    <tr>\n",
              "      <th>q</th>\n",
              "      <td>27</td>\n",
              "      <td>53</td>\n",
              "    </tr>\n",
              "    <tr>\n",
              "      <th>r</th>\n",
              "      <td>1</td>\n",
              "      <td>2</td>\n",
              "    </tr>\n",
              "    <tr>\n",
              "      <th>w</th>\n",
              "      <td>33</td>\n",
              "      <td>33</td>\n",
              "    </tr>\n",
              "    <tr>\n",
              "      <th>x</th>\n",
              "      <td>6</td>\n",
              "      <td>32</td>\n",
              "    </tr>\n",
              "  </tbody>\n",
              "</table>\n",
              "</div>"
            ],
            "text/plain": [
              "A16   0   1\n",
              "A6         \n",
              "aa   35  19\n",
              "c    75  64\n",
              "cc   12  29\n",
              "d    23   7\n",
              "e    11  14\n",
              "ff   46   7\n",
              "i    47  14\n",
              "j     7   3\n",
              "k    38  14\n",
              "m    22  16\n",
              "q    27  53\n",
              "r     1   2\n",
              "w    33  33\n",
              "x     6  32"
            ]
          },
          "metadata": {
            "tags": []
          },
          "execution_count": 28
        }
      ]
    },
    {
      "cell_type": "code",
      "metadata": {
        "id": "jP7hdZrbhFCy",
        "colab_type": "code",
        "colab": {
          "base_uri": "https://localhost:8080/",
          "height": 127
        },
        "outputId": "560ff5eb-1306-432d-a795-856f01263cbb"
      },
      "source": [
        "# === A9 === #\n",
        "ct_a9 = pd.crosstab(credit[\"A9\"], credit[\"A16\"])\n",
        "\n",
        "chi_squared, p_value, dof, expected = stats.chi2_contingency(ct_a9)\n",
        "\n",
        "print(f\"Chi-Squared: {chi_squared}\")\n",
        "print(f\"P-value: {p_value}\")\n",
        "print(f\"Degrees of Freedom: {dof}\")\n",
        "print(\"Expected: \\n\", np.array(expected))"
      ],
      "execution_count": 36,
      "outputs": [
        {
          "output_type": "stream",
          "text": [
            "Chi-Squared: 355.2038167412799\n",
            "P-value: 3.1185900878457007e-79\n",
            "Degrees of Freedom: 1\n",
            "Expected: \n",
            " [[182.61884058 146.38115942]\n",
            " [200.38115942 160.61884058]]\n"
          ],
          "name": "stdout"
        }
      ]
    },
    {
      "cell_type": "markdown",
      "metadata": {
        "id": "4Fn_aUcikhRC",
        "colab_type": "text"
      },
      "source": [
        "> Due to a p-value of basically 0, I reject the null hypothesis that A9 and A16 are independent.  \n",
        "I can therefore conclude that there is a relationship between them."
      ]
    },
    {
      "cell_type": "markdown",
      "metadata": {
        "id": "DIwIaQBwMczT",
        "colab_type": "text"
      },
      "source": [
        "---\n",
        "---"
      ]
    },
    {
      "cell_type": "markdown",
      "metadata": {
        "colab_type": "text",
        "id": "ZM8JckA2bgnp"
      },
      "source": [
        "## Part 3 - Analysis and Interpretation\n",
        "\n",
        "Now that you've looked at the data, answer the following questions:\n",
        "\n",
        "- Interpret and explain the two t-tests you ran - what do they tell you about the relationships between the continuous features you selected and the class labels?\n",
        "- Interpret and explain the two Chi-squared tests you ran - what do they tell you about the relationships between the categorical features you selected and the class labels?\n",
        "- What was the most challenging part of this sprint challenge?\n",
        "\n",
        "Answer with text, but feel free to intersperse example code/results or refer to it from earlier."
      ]
    },
    {
      "cell_type": "markdown",
      "metadata": {
        "colab_type": "text",
        "id": "LIozLDNG2Uhu"
      },
      "source": [
        "---\n",
        "\n",
        "*My words below!*\n",
        "\n",
        "---"
      ]
    },
    {
      "cell_type": "markdown",
      "metadata": {
        "id": "Vn2ACSPgMczX",
        "colab_type": "text"
      },
      "source": [
        "### Interpret and explain the two t-tests you ran\n",
        "\n",
        "What do they tell you about the relationships between the continuous features you selected and the class labels?"
      ]
    },
    {
      "cell_type": "markdown",
      "metadata": {
        "id": "RUSo88_LNd6V",
        "colab_type": "text"
      },
      "source": [
        ""
      ]
    },
    {
      "cell_type": "markdown",
      "metadata": {
        "id": "Udk0JoWQMczd",
        "colab_type": "text"
      },
      "source": [
        "### Interpret and explain the two $\\chi^2$ tests you ran\n",
        "\n",
        "What do they tell you about the relationships between the categorical features you selected and the class labels?"
      ]
    },
    {
      "cell_type": "markdown",
      "metadata": {
        "id": "nMTR-DL6Nf_7",
        "colab_type": "text"
      },
      "source": [
        ""
      ]
    },
    {
      "cell_type": "markdown",
      "metadata": {
        "id": "viFB2hylMczi",
        "colab_type": "text"
      },
      "source": [
        "### What was the most challenging part of this sprint challenge?"
      ]
    },
    {
      "cell_type": "markdown",
      "metadata": {
        "id": "Ic2BwSZkNhXz",
        "colab_type": "text"
      },
      "source": [
        ""
      ]
    },
    {
      "cell_type": "markdown",
      "metadata": {
        "id": "YkJokV4MMczj",
        "colab_type": "text"
      },
      "source": [
        "---\n",
        "---"
      ]
    },
    {
      "cell_type": "markdown",
      "metadata": {
        "colab_type": "text",
        "id": "krq6QeyrXs6b"
      },
      "source": [
        "## Stretch Goals\n",
        "\n",
        "Please do not work on anything listed in this section until you have adequately answered everything in the above three sections, all of these stretch goals are **OPTIONAL** but completing them will ensure you a score of 3 on the corresponding sections.\n",
        "\n",
        "### Section 1 Stretch Goal: (do the following)\n",
        "- Go above and beyond in conducting thorough data exploration including high quality comments and/or markdown text cells to explain your process/discoveries.\n",
        "\n",
        "### Section 2 Stretch Goals: (do one of the following)\n",
        " - Write a function(s) to automate the execution of t-tests on the continuous variables treating the different class labels as the two samples.\n",
        "\n",
        " - Write a funciton(s) to automate the execution of chi^2 tests on all of the different combinations of categorical variables in the dataset.\n",
        "\n",
        "### Section 3 Stretch Goals: (do one of the following)\n",
        "- Construct a confidence interval around the mean of one of the continuous variables, communicate the results/interpretation of that confidence interval in the most consumable/easy-to-understand way that you can. (You may choose to include a graph here, but you don't necessarily have to) Communicate the precision of your estimate as clearly as possible.\n",
        "\n",
        "- Explain the relationship between confidence intervals and T-tests, if possible, use code to demonstrate some important aspects of te"
      ]
    }
  ]
}