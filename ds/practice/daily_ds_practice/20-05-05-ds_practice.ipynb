{
 "cells": [
  {
   "cell_type": "markdown",
   "metadata": {},
   "source": [
    "# 20-XX-XX: Daily Data Practice\n",
    "\n",
    "---\n",
    "\n",
    "### Daily Practices\n",
    "\n",
    "* Meta Data: Review and write\n",
    "  * Focus on a topic, review notes and resources, write a blog post about it\n",
    "* HackerRank SQL or Packt SQL Data Analytics\n",
    "* Practice with the common DS/ML tools and processes\n",
    "  * Try to hit benchmark accuracies with [UCI ML datasets](https://archive.ics.uci.edu/ml/index.php)\n",
    "  * Hands-on ML with sklearn, Keras, and TensorFlow\n",
    "    * Read, code along, take notes\n",
    "    * _test yourself on the concepts_ — i.e. do all the chapter exercises\n",
    "  * [fast.ai course](https://course.fast.ai/)\n",
    "  * Kaggle\n",
    "* Interviewing\n",
    "  * \"Tell me a bit about yourself\"\n",
    "  * \"Tell me about a project you've worked on and are proud of\"\n",
    "  * Business case walk-throughs\n",
    "  * Hot-seat DS-related topics for recall practice (under pressure)\n",
    "* Job sourcing\n",
    "  * LinkedIn"
   ]
  },
  {
   "cell_type": "markdown",
   "metadata": {},
   "source": [
    "---\n",
    "\n",
    "### Writing\n",
    "\n",
    "> Focus on a topic or project, learn/review the concepts, and write a blog post about it\n",
    "\n"
   ]
  },
  {
   "cell_type": "markdown",
   "metadata": {},
   "source": [
    "### The Data\n",
    "\n",
    "As seems to be the case with most, if not all, machine learning projects, we spent the\n",
    "vast majority of the time gathering and labeling our dataset.\n",
    "\n",
    "In an ideal world, our model would be able to recognize any object that anyone would\n",
    "ever want to throw away. But the reality is that this is practically impossible,\n",
    "particularly within the 8 weeks we had to work on Trash Panda.\n",
    "\n",
    "We were granted an API key from Earth911 to utilize their recycling center search\n",
    "database. When we were working with it, the database held information on around 300\n",
    "items—how they should be recycled based on location, and facilities that accept them if\n",
    "they are not curbside recyclable.\n",
    "\n",
    "We had our starting point for the list of items our system should be able to\n",
    "recognize. However, the documentation for the neural network architecture we'd decided\n",
    "to use suggested that to create a robust model, it should be trained with at least\n",
    "1,000 instancesi (in this case, images) of each of the classes we wanted it to detect.\n",
    "\n",
    "Gathering 300,000 images was also quite a bit out of the scope of the project at that\n",
    "point. So the DS team spent many hours reducing the size of that list to something a\n",
    "little more manageable and realistic.\n",
    "\n",
    "The main method of doing so was to group the items based primarily on visual\n",
    "similarity. We knew it was also out of the scope of our time with the project to train\n",
    "a model that could tell the difference between #2 plastic bottles and #3 plastic\n",
    "bottles, or motor oil bottles and brake fluid bottles.\n",
    "\n",
    "We also considered the items that 1) users would be throwing away on a somewhat\n",
    "regular basis, and 2) users would usually either be unsure of how to dispose of properly\n",
    "or would dispose of properly."
   ]
  },
  {
   "cell_type": "markdown",
   "metadata": {},
   "source": [
    "---\n",
    "\n",
    "## Statistics and Probability\n",
    "\n",
    "* Training kit\n",
    "* Lecture and assignment notebooks\n",
    "* Books\n",
    "  * Practical Statistics for Data Scientists\n",
    "* Video\n",
    "  * [StatQuest Statistics Fundamentals](https://www.youtube.com/playlist?list=PLblh5JKOoLUK0FLuzwntyYI10UQFUhsY9)"
   ]
  },
  {
   "cell_type": "markdown",
   "metadata": {},
   "source": [
    "#### Sets\n",
    "\n",
    "A set is a collection of unique entities. A set is said to be a subset of another set, if all of the first set's members are also members of the second set.\n",
    "\n",
    "An empty set is a set without any members. It can be defined as the set that is the subset of every set, and every set (universal set) is a subset of itself."
   ]
  },
  {
   "cell_type": "markdown",
   "metadata": {},
   "source": [
    "### Random sampling and sample bias\n",
    "\n",
    "A _sample_ is a subset of data from a larger dataset, the _population_.\n",
    "\n",
    "* `N(n)` : The size of the population (sample)\n",
    "* Random sampling : Drawing elements into a sample at random\n",
    "  * Each available member of the population has an equal chance of being chosen for the sample at each draw\n",
    "* Stratified sampling : Dividing the population into strata and randomly sampling from each strata\n",
    "  * The intuition here is that a stratified sample can help a sample to follow the distribution of the population, particularly in the case of a biased distribution\n",
    "* Simple random sample : random sample without stratifying the population\n",
    "* Sample bias : a sample that misrepresents the population\n",
    "  * Samples will always be somewhat non-representative of the population\n",
    "  * Sampling bias occurs when that difference is meaningful\n",
    "  * An unbiased process will produce error, but it is random and does not tend strongly in any direction\n",
    "* with replacement : observations are put back in the population after each draw\n",
    "  * without replacement : once selected, observations can't be drawn again\n",
    "\n",
    "Data quality is often more important than data quantity. Random sampling can reduce bias and facilitate quality improvement that would be prohibitively expensive.\n",
    "\n",
    "To minimize bias, specify a hypothesis first, then collect data using randomization and random sampling.\n",
    "\n",
    "* Regression to the mean : when taking successive measurements on a given variable, extreme observations tend to be followed by more central ones\n",
    "\n",
    "#### Sampling distribution of a statistic\n",
    "\n",
    "* Sample statistic : a metric calculated for a sample of data drawn from a larger population\n",
    "* Data distribution : the frequency distribution of individual values in a dataset\n",
    "* Sampling distribution : the frequency distribution of a sample statistic over many samples or resamples\n",
    "* Central Limit Theorem : the tendency of the sampling distribution to take on a normal shape as sample size increases\n",
    "* Standard error : the variability (stdev) of a sample statistic over many samples\n",
    "  * Standard deviation : variability of individual data values\n",
    "  \n",
    "#### The bootstrap\n",
    "\n",
    "* Bootstrap sample : a sample taken with replacement from an observed dataset\n",
    "* Resampling : the process of taking repeated samples from observed data\n",
    "  * Includes bootstrap and permutation (shuffling)"
   ]
  },
  {
   "cell_type": "markdown",
   "metadata": {},
   "source": []
  },
  {
   "cell_type": "markdown",
   "metadata": {},
   "source": []
  },
  {
   "cell_type": "markdown",
   "metadata": {},
   "source": []
  },
  {
   "cell_type": "markdown",
   "metadata": {},
   "source": [
    "---\n",
    "\n",
    "### Interviewing\n",
    "\n",
    "> Practice answering the most common interview questions\n",
    "\n",
    "* \"Tell me a bit about yourself\"\n",
    "* \"Tell me about a project you've worked on and are proud of\"\n",
    "* \"What is your greatest strength / weakness?\"\n",
    "* \"Tell me about a time when you had conflict with someone and how you handled it\"\n",
    "* \"Tell me about a mistake you made and how you handled it\"\n",
    "* Business case walk-throughs\n",
    "* Hot-seat DS-related topics for recall practice (under pressure)"
   ]
  },
  {
   "cell_type": "markdown",
   "metadata": {},
   "source": [
    "> \"Where do you see yourself in 3-5 years?\"\n",
    "\n",
    "Ideally working on the cutting edge of deep learning, whether it is doing research or\n",
    "developing applications and products for users. As company X does X, I can see myself\n",
    "working deeply on the research or machine learning engineering team here."
   ]
  },
  {
   "cell_type": "markdown",
   "metadata": {},
   "source": [
    "> \"What brought you to data science? What interested you about data science?\"\n",
    "\n",
    "My background in Economics gave me my first real taste of programmatically gathering\n",
    "and utilizing data. Data science is mostly a continuation of that into the modern age\n",
    "of big data. I know that data can make big improvements in peoples' lives, and data\n",
    "science ..."
   ]
  },
  {
   "cell_type": "markdown",
   "metadata": {},
   "source": [
    "> \"What sort of compensation are you looking for for this position?\"\n",
    "\n",
    "I have an idea of a salary range based on the position, the work, and my experience.\n",
    "It's flexible and depends heavily on the whole package, such as PTO and other benefits.\n",
    "First, I wanted to hear what general range you would offer for this position."
   ]
  },
  {
   "cell_type": "markdown",
   "metadata": {},
   "source": [
    "> \"Tell me a bit about yourself\"\n",
    "\n",
    "* Homeschooled until seventh grade\n",
    "  * Learning is a life-long endeavor\n",
    "  * Jack of many trades, master of some\n",
    "    * I have a wide range of interests, skills and experiences\n",
    "    * Go deep on things I'm fascinated with (maybe better as strength/weakness)\n",
    "  * I like the free flow of creativity\n",
    "  * also need something technical to dig my teeth into\n",
    "* Always been fascinated by technology\n",
    "* Econ undergrad - first taste of harnessing the power of data\n",
    "* After college\n",
    "  * On-site implementation consultant for an ERP software company\n",
    "  * Trained in manipulating Oracle RDBMS\n",
    "  * Wrote Crystal Reports using SQL (lots and lots of joins)\n",
    "* Worked as a professional DJ for a couple of years\n",
    "  * Wasn't stratching my technical itch\n",
    "  * Found my way back to data"
   ]
  },
  {
   "cell_type": "markdown",
   "metadata": {},
   "source": [
    "> \"Tell me about a mistake you made and how you handled it\"\n",
    "\n",
    "* First solo implementation project\n",
    "  * Tried to do everything myself\n",
    "    * Instantiating the system\n",
    "    * Migrating the data\n",
    "    * Teaching the users\n",
    "    * Writing reports\n",
    "* Resolution\n",
    "  * Started building my delegation muscle\n",
    "  * Decided to backtrack to be sure all of the bases were hit\n",
    "  * Delegated work to those who are specialized for it (teachers to teach)"
   ]
  },
  {
   "cell_type": "markdown",
   "metadata": {},
   "source": []
  },
  {
   "cell_type": "markdown",
   "metadata": {},
   "source": [
    "---\n",
    "\n",
    "### SQL\n",
    "\n",
    "> Work through practice problems on HackerRank or Packt"
   ]
  },
  {
   "cell_type": "markdown",
   "metadata": {},
   "source": []
  },
  {
   "cell_type": "markdown",
   "metadata": {},
   "source": []
  },
  {
   "cell_type": "markdown",
   "metadata": {},
   "source": []
  },
  {
   "cell_type": "markdown",
   "metadata": {},
   "source": []
  },
  {
   "cell_type": "markdown",
   "metadata": {},
   "source": []
  },
  {
   "cell_type": "markdown",
   "metadata": {},
   "source": [
    "---\n",
    "\n",
    "### DS + ML Practice\n",
    "\n",
    "* Pick a dataset and try to do X with it\n",
    "  * Try to hit benchmark accuracies with [UCI ML datasets](https://archive.ics.uci.edu/ml/index.php)\n",
    "  * Kaggle\n",
    "* Practice with the common DS/ML tools and processes\n",
    "  * Hands-on ML with sklearn, Keras, and TensorFlow\n",
    "  * Machine learning flashcards\n",
    "\n",
    "#### _The goal is to be comfortable explaining the entire process._\n",
    "\n",
    "* Data access / sourcing, cleaning\n",
    "  * SQL\n",
    "  * Pandas\n",
    "  * Exploratory data analysis\n",
    "  * Data wrangling techniques and processes\n",
    "* Inference\n",
    "  * Statistics\n",
    "  * Probability\n",
    "  * Visualization\n",
    "* Modeling\n",
    "  * Implement + justify choice of model / algorithm\n",
    "  * Track performance + justify choice of metrics\n",
    "    * Communicate results as relevant to the goal"
   ]
  },
  {
   "cell_type": "markdown",
   "metadata": {},
   "source": []
  },
  {
   "cell_type": "markdown",
   "metadata": {},
   "source": []
  },
  {
   "cell_type": "markdown",
   "metadata": {},
   "source": [
    "---\n",
    "\n",
    "### Job sourcing\n",
    "\n",
    "> Browse LinkedIn, Indeed, and connections for promising leads"
   ]
  },
  {
   "cell_type": "markdown",
   "metadata": {},
   "source": []
  },
  {
   "cell_type": "markdown",
   "metadata": {},
   "source": []
  },
  {
   "cell_type": "markdown",
   "metadata": {},
   "source": []
  },
  {
   "cell_type": "markdown",
   "metadata": {},
   "source": []
  },
  {
   "cell_type": "markdown",
   "metadata": {},
   "source": []
  },
  {
   "cell_type": "markdown",
   "metadata": {},
   "source": []
  },
  {
   "cell_type": "markdown",
   "metadata": {},
   "source": []
  },
  {
   "cell_type": "markdown",
   "metadata": {},
   "source": []
  },
  {
   "cell_type": "markdown",
   "metadata": {},
   "source": []
  },
  {
   "cell_type": "markdown",
   "metadata": {},
   "source": []
  },
  {
   "cell_type": "markdown",
   "metadata": {},
   "source": []
  },
  {
   "cell_type": "markdown",
   "metadata": {},
   "source": []
  },
  {
   "cell_type": "markdown",
   "metadata": {},
   "source": []
  },
  {
   "cell_type": "markdown",
   "metadata": {},
   "source": []
  }
 ],
 "metadata": {
  "kernelspec": {
   "display_name": "Python 3.7.6 64-bit ('vela': pipenv)",
   "language": "python",
   "name": "python37664bitvelapipenvde09592071074af6a70ce3b1ce38af95"
  },
  "language_info": {
   "codemirror_mode": {
    "name": "ipython",
    "version": 3
   },
   "file_extension": ".py",
   "mimetype": "text/x-python",
   "name": "python",
   "nbconvert_exporter": "python",
   "pygments_lexer": "ipython3",
   "version": "3.7.6"
  }
 },
 "nbformat": 4,
 "nbformat_minor": 4
}
