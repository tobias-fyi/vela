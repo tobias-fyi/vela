{
 "cells": [
  {
   "cell_type": "markdown",
   "metadata": {},
   "source": [
    "# 20-06-22: Daily Data Practice"
   ]
  },
  {
   "cell_type": "markdown",
   "metadata": {},
   "source": [
    "---\n",
    "\n",
    "## Daily Practices\n",
    "\n",
    "* Practice with DS/ML tools and processes\n",
    "  * [fast.ai course](https://course.fast.ai/)\n",
    "  * Hands-on ML | NLP In Action | Dive Into Deep Learning | Coursera / guided projects\n",
    "    * Read, code along, take notes\n",
    "    * _test yourself on the concepts_ — i.e. do all the chapter exercises\n",
    "  * Try to hit benchmark accuracies with [UCI ML datasets](https://archive.ics.uci.edu/ml/index.php) or Kaggle\n",
    "* Coding & Problem Solving Practice\n",
    "  * HackerRank SQL or Packt SQL Data Analytics\n",
    "  * Python on HackerRank or similar platform\n",
    "* Meta Data: Review and write\n",
    "  * Focus on a topic, review notes and resources, write a blog post about it\n",
    "* 2-Hour Job Search\n",
    "* Interviewing\n",
    "  * Behavioral questions and scenarios\n",
    "  * Business case walk-throughs\n",
    "  * Hot-seat DS-related topics for recall practice (under pressure)"
   ]
  },
  {
   "cell_type": "markdown",
   "metadata": {},
   "source": [
    "---\n",
    "\n",
    "## 2-Hour Job Search"
   ]
  },
  {
   "cell_type": "markdown",
   "metadata": {},
   "source": [
    "### Applications and Pre-Interview Projects\n",
    "\n",
    "> Do the job before you get the job.\n",
    "\n",
    "I'm going to be working on job applications today by following the frameworks of 2HJS and Pre-Interview Projects. This basically means that I'll be working on my list of companies to pursue (2HJS) then on the applications for a couple of positions that I already found.\n",
    "\n",
    "Part of the application process (on my end) will be completing pre-interview projects. Essentially, I will be using the job description and company as the basis for a project, that I hope to complete in time for the interview that I will hopefully get. This way I will have something absolutely relevant to the company/position to discuss with my interviewer and others at the company—it's a way of showing them I can do the job...before I get the job."
   ]
  },
  {
   "cell_type": "markdown",
   "metadata": {},
   "source": [
    "#### Spreading the Word\n",
    "\n",
    "Actually, before I get deeper into the above, I'm going to start spreading the word through my own social and professional channels that I am \"officially\" on the hunt for a job as a data scientist and/or machine learning engineer.\n",
    "\n",
    "Here is an initial post for social media to let people know I'm done with the bootcamp and actively looking for jobs.\n",
    "\n",
    "##### Social Media Post\n",
    "\n",
    "I did it!\n",
    "\n",
    "I was officially endorsed by Lambda School last week—I \"graduated\"—as a professional data scientist. (Yay, science!)\n",
    "\n",
    "Before I started almost 10 months ago I had a strong feeling that the field of data science would be a good place for me to be. I saw it as a mixture of my favorite parts of what I studied in college (Economics) and the software development I'd been learning/practicing for a year leading up to my decision to study DS more formally and much more intensively.\n",
    "\n",
    "Little did I know how perfect of a fit this field is for me on many levels: I love learning a wide variety of subjects (DS is by its nature an interdisciplinary field), building cool and/or useful things (data can be used in many different ways, to many different ends; the level of innovation in the field is staggering), and, obviously, telling stories (data can tell very interesting stories).\n",
    "\n",
    "As I state on my brand spanking new personal site (link in comments), I believe the data we all exude throughout our daily lives has thus far mostly gone to waste or been (mis)used by others. The vast majority of value being extracted from our data has yet to find its way back to us, the creators.\n",
    "\n",
    "Data is a powerful tool, and as with any powerful tool, it can be used to achieve a variety of goals, good or bad; beneficial or detrimental. Only once we all start benefiting from our own data—truly benefiting, not simply seeing more relevant ads—will we enter the Data Age. In other words, I believe we have yet to really start scratching the surface of what data can teach us about ourselves and the universe.\n",
    "\n",
    "Philosophizing aside, I am now actively looking for employment as a data scientist and/or machine learning engineer, ideally at a company that holds a set of beliefs about data that overlap with mine. I'm hoping to find something in the Denver area, whether that is in an office here or working remotely. However, I am open to opportunities elsewhere if it's the right position at the right company.\n",
    "\n",
    "[[As this is a rather unique time to be starting a career, I figured it would be best to use any and all channels available to me to help me find a great job. I know I've been somewhat quiet and somewhat lately, but now that I have a solid grasp of the fundamentals, I'll be publishing and keeping up my online presence regularly—while still being intentional about my creation and use of data, of course.]]\n",
    "\n",
    "If you know or hear of a position that would be a good fit for me, I'd love to chat! Or, if you just want to philosophize about data and technology, I'm always down for a good discussion.\n",
    "\n",
    "I hope you all are staying happy, healthy, and kind to one another. We're in this together.\n",
    "\n",
    "❤️🧡💛💚💙💜💖🖤\n",
    "\n",
    "[tobias.fyi](https://tobias.fyi/fyi/)"
   ]
  },
  {
   "cell_type": "markdown",
   "metadata": {},
   "source": [
    "#### Twitter\n",
    "\n",
    "(1/10) I did it! I was officially endorsed by Lambda School—I \"graduated\"—as a professional data scientist. (Yay, science!)\n",
    "\n",
    "(2/10) Before I started ~10mo ago I had a strong feeling that the DS field would be a good place for me. I saw DS as a mixture of my fav parts of what I studied in college (Economics) and the software dev I'd been at for over a year.\n",
    "\n",
    "(3/10) Little did I know how perfect of a fit this field is for me on many levels: I love learning a wide variety of subjects (DS is by its nature an interdisciplinary field), ...\n",
    "\n",
    "(4/10) ...building cool and/or useful things (data can be used in many different ways, to many different ends; the level of innovation in the field is staggering), and, obviously, telling stories (data can tell very interesting stories).\n",
    "\n",
    "(5/10) As I state on my brand spankin' new personal site, I believe the data we all exude throughout our daily lives has thus far mostly gone to waste or been (mis)used by others. The majority of value extracted from our data has yet to find its way back to us, the creators.\n",
    "\n",
    "(6/10) In other words, I believe we have yet to really start scratching the surface of what data can teach us about ourselves and the universe.\n",
    "\n",
    "(7/10) Philosophizing aside, I'm excited to say that I'm now actively looking for employment as a data scientist and/or machine learning engineer!\n",
    "\n",
    "(8/10) I'm hoping to find a position that would allow me to stay in the Denver area, whether that is in an office here or working remotely. However, I am open to opportunities elsewhere if it's the right position at the right company.\n",
    "\n",
    "(9/10) If you know or hear of a position that would be a good fit for me, I'd love to chat! Or, if you just want to philosophize about data and technology, I'm always down for a good discussion.\n",
    "\n",
    "(10/10) I hope you all are staying happy, healthy, and kind to one another. We're in this together."
   ]
  },
  {
   "cell_type": "markdown",
   "metadata": {},
   "source": [
    "---\n",
    "\n",
    "## Goals\n",
    "\n"
   ]
  },
  {
   "cell_type": "markdown",
   "metadata": {},
   "source": [
    "### June 22 - 28, 2020\n",
    "\n",
    "* [ ] Apply to two positions\n",
    "  * [ ] [Scribd](https://jobs.lever.co/scribd/f907784a-5178-4e9b-8630-868f69674ef1)\n",
    "  * [ ] [INFLOW Music](https://angel.co/company/inflow-music)\n",
    "* [ ] Finish one new blog post/workshop article"
   ]
  },
  {
   "cell_type": "markdown",
   "metadata": {},
   "source": [
    "---\n",
    "\n",
    "## 2HJS\n",
    "\n",
    "Made my LAMP list of 40+ employers. By the end of the session, I compiled a list of 47 employers. I want to get a couple more handfuls before moving onto the next step."
   ]
  },
  {
   "cell_type": "markdown",
   "metadata": {},
   "source": [
    "---\n",
    "\n",
    "## DS + ML Practice\n",
    "\n",
    "* Pick a dataset and try to do X with it\n",
    "  * Try to hit benchmark accuracies with [UCI ML datasets](https://archive.ics.uci.edu/ml/index.php) or Kaggle\n",
    "* Practice with the common DS/ML tools and processes\n",
    "  * Hands-on ML | NLP In Action | Dive Into Deep Learning | Coursera / guided projects\n",
    "  * Machine learning flashcards\n",
    "\n",
    "#### _The goal is to be comfortable explaining the entire process._\n",
    "\n",
    "* Data access / sourcing, cleaning\n",
    "  * Exploratory data analysis\n",
    "  * Data wrangling techniques and processes\n",
    "* Inference\n",
    "  * Statistics\n",
    "  * Probability\n",
    "  * Visualization\n",
    "* Modeling\n",
    "  * Implement + justify choice of model / algorithm\n",
    "  * Track performance + justify choice of metrics\n",
    "    * Communicate results as relevant to the goal"
   ]
  },
  {
   "cell_type": "markdown",
   "metadata": {},
   "source": [
    "### Book recommendations\n",
    "\n",
    "Owen and I decided to work on a recommender system as a pre-interview project for the Scribd MLE position. After looking at some other datasets, we explored the one from UCSD. It is very extensive and built specifically for the purpose of building a recommender system. We decided to use that in our project.\n",
    "\n",
    "* [Recommender Datasets](https://cseweb.ucsd.edu/~jmcauley/datasets.html)\n",
    "* [GoodReads book graph dataset website](https://sites.google.com/eng.ucsd.edu/ucsdbookgraph/home)"
   ]
  },
  {
   "cell_type": "markdown",
   "metadata": {},
   "source": []
  },
  {
   "cell_type": "markdown",
   "metadata": {},
   "source": []
  },
  {
   "cell_type": "markdown",
   "metadata": {},
   "source": []
  },
  {
   "cell_type": "markdown",
   "metadata": {},
   "source": []
  },
  {
   "cell_type": "markdown",
   "metadata": {},
   "source": []
  },
  {
   "cell_type": "markdown",
   "metadata": {},
   "source": []
  },
  {
   "cell_type": "markdown",
   "metadata": {},
   "source": []
  },
  {
   "cell_type": "markdown",
   "metadata": {},
   "source": []
  },
  {
   "cell_type": "markdown",
   "metadata": {},
   "source": []
  },
  {
   "cell_type": "markdown",
   "metadata": {},
   "source": []
  },
  {
   "cell_type": "markdown",
   "metadata": {},
   "source": []
  },
  {
   "cell_type": "markdown",
   "metadata": {},
   "source": []
  },
  {
   "cell_type": "markdown",
   "metadata": {},
   "source": []
  },
  {
   "cell_type": "markdown",
   "metadata": {},
   "source": []
  }
 ],
 "metadata": {
  "kernelspec": {
   "display_name": "Python 3.7.6 64-bit ('vela': pipenv)",
   "language": "python",
   "name": "python37664bitvelapipenvde09592071074af6a70ce3b1ce38af95"
  },
  "language_info": {
   "codemirror_mode": {
    "name": "ipython",
    "version": 3
   },
   "file_extension": ".py",
   "mimetype": "text/x-python",
   "name": "python",
   "nbconvert_exporter": "python",
   "pygments_lexer": "ipython3",
   "version": "3.7.6"
  }
 },
 "nbformat": 4,
 "nbformat_minor": 4
}
