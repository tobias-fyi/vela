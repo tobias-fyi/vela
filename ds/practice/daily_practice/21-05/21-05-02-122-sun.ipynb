{
 "metadata": {
  "language_info": {
   "codemirror_mode": {
    "name": "ipython",
    "version": 3
   },
   "file_extension": ".py",
   "mimetype": "text/x-python",
   "name": "python",
   "nbconvert_exporter": "python",
   "pygments_lexer": "ipython3",
   "version": "3.7.6"
  },
  "orig_nbformat": 2,
  "kernelspec": {
   "name": "python376jvsc74a57bd0d279672dec97687973da8f2b23dbdcc76259fde61874b489061eca7e42b844dc",
   "display_name": "Python 3.7.6 64-bit ('vela': pipenv)"
  }
 },
 "nbformat": 4,
 "nbformat_minor": 2,
 "cells": [
  {
   "source": [
    "# 2021-05-02 Daily Practice\n",
    "\n",
    "- [x] Practice: algorithms and data structures\n",
    "- [x] Learn: Data Science Design Manual\n",
    "- [ ] Write: tobias.fyi or Contact Section\n",
    "- [ ] Build: Savor (Data)"
   ],
   "cell_type": "markdown",
   "metadata": {}
  },
  {
   "source": [
    "---\n",
    "\n",
    "## Practice"
   ],
   "cell_type": "markdown",
   "metadata": {}
  },
  {
   "source": [
    "### LeetCode - Implement queue using stacks\n",
    "\n",
    "Implement a first in first out (FIFO) queue using only two stacks. The implemented queue should support all the functions of a normal queue (push, peek, pop, and empty).\n",
    "\n",
    "Implement the MyQueue class:\n",
    "\n",
    "- `void push(int x)` Pushes element x to the back of the queue.\n",
    "- `int pop()` Removes the element from the front of the queue and returns it.\n",
    "- `int peek()` Returns the element at the front of the queue.\n",
    "- `boolean empty()` Returns `true` if the queue is empty, `false` otherwise.\n",
    "\n",
    "Notes:\n",
    "\n",
    "- You must use only standard operations of a stack, which means only push to top, peek/pop from top, size, and is empty operations are valid.\n",
    "- Depending on your language, the stack may not be supported natively. You may simulate a stack using a list or deque (double-ended queue) as long as you use only a stack's standard operations."
   ],
   "cell_type": "markdown",
   "metadata": {}
  },
  {
   "cell_type": "code",
   "execution_count": null,
   "metadata": {},
   "outputs": [],
   "source": [
    "class MyQueue:\n",
    "\n",
    "    def __init__(self):\n",
    "        \"\"\"Initialize your data structure here.\"\"\"\n",
    "        from collections import deque\n",
    "\n",
    "        self.stack_reg = deque()  # Regular order of queue\n",
    "        self.stack_rev = deque()  # Reverse order\n",
    "\n",
    "    def push(self, x: int) -> None:\n",
    "        \"\"\"Push element x to the back of queue.\"\"\"\n",
    "        # If both stacks are empty, skip this logic and push onto reg stack\n",
    "        if len(self.stack_rev) > 0:  # If in rev stack, move elements to reg stack\n",
    "            while len(self.stack_rev) > 0:\n",
    "                self.stack_reg.append(self.stack_rev.pop())\n",
    "            # If in reg stack, no move needed prior to push\n",
    "        self.stack_reg.append(x)  # Then, push onto regular stack\n",
    "\n",
    "    def pop(self) -> int:\n",
    "        \"\"\"Removes the element from in front of queue and returns that element.\"\"\"\n",
    "        # TODO: handle case when the queue is empty?\n",
    "        if len(self.stack_reg) > 0:  # If in reg stack, move to reverse stack\n",
    "            while len(self.stack_reg) > 0:\n",
    "                self.stack_rev.append(self.stack_reg.pop())\n",
    "        return self.stack_rev.pop()  # Pop top of reverse stack and return\n",
    "\n",
    "    def peek(self) -> int:\n",
    "        \"\"\"Get the front element.\"\"\"\n",
    "        # TODO: handle case when the queue is empty?\n",
    "        if len(self.stack_reg) > 0:  # If elements are in reg stack, move to reverse stack\n",
    "            while len(self.stack_reg) > 0:\n",
    "                self.stack_rev.append(self.stack_reg.pop())\n",
    "        top = self.stack_rev.pop()  # Pop last element off, read into var\n",
    "        self.stack_rev.append(top)  # Append element back onto stack\n",
    "        return top  # Return last element\n",
    "\n",
    "    def empty(self) -> bool:\n",
    "        \"\"\"Returns whether the queue is empty.\"\"\"\n",
    "        # Queue is empty if both stacks are empty\n",
    "        return True if len(self.stack_reg) == 0 and len(self.stack_rev) == 0 else False\n",
    "\n",
    "\n",
    "# Your MyQueue object will be instantiated and called as such:\n",
    "# obj = MyQueue()\n",
    "# obj.push(x)\n",
    "# param_2 = obj.pop()\n",
    "# param_3 = obj.peek()\n",
    "# param_4 = obj.empty()"
   ]
  },
  {
   "cell_type": "code",
   "execution_count": 6,
   "metadata": {},
   "outputs": [
    {
     "output_type": "stream",
     "name": "stdout",
     "text": [
      "Length: 5\nLast element: 10\n10\n9\n7\n5\n1\n0\n"
     ]
    }
   ],
   "source": [
    "from collections import deque\n",
    "\n",
    "st = deque()\n",
    "\n",
    "st.append(1)\n",
    "st.append(5)\n",
    "st.append(7)\n",
    "st.append(9)\n",
    "st.append(10)\n",
    "print(\"Length:\", len(st))\n",
    "print(\"Last element:\", st[-1])  # Index a queue\n",
    "\n",
    "while len(st) > 0:\n",
    "    print(st.pop())\n",
    "\n",
    "print(len(st))"
   ]
  },
  {
   "source": [
    "---\n",
    "\n",
    "## Learn\n",
    "\n",
    "> Data Science Design Manual\n",
    "\n",
    "Worked through the Statistics and Correlation Analysis sections of the Chapter 2 exercises."
   ],
   "cell_type": "markdown",
   "metadata": {}
  },
  {
   "cell_type": "code",
   "execution_count": null,
   "metadata": {},
   "outputs": [],
   "source": []
  }
 ]
}