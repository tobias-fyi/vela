{
 "cells": [
  {
   "cell_type": "markdown",
   "metadata": {},
   "source": [
    "# 20-06-29: Daily Practice"
   ]
  },
  {
   "cell_type": "markdown",
   "metadata": {},
   "source": [
    "---\n",
    "\n",
    "## Daily Practices\n",
    "\n",
    "* Practice with DS/ML tools and processes\n",
    "  * [fast.ai course](https://course.fast.ai/)\n",
    "  * Hands-on ML | NLP In Action | Dive Into Deep Learning | Coursera / guided projects\n",
    "    * Read, code along, take notes\n",
    "    * _test yourself on the concepts_ — i.e. do all the chapter exercises\n",
    "  * Try to hit benchmark accuracies with [UCI ML datasets](https://archive.ics.uci.edu/ml/index.php) or Kaggle\n",
    "* Coding & Problem Solving Practice\n",
    "  * HackerRank SQL or Packt SQL Data Analytics\n",
    "  * Python on HackerRank, Leetcode, or online course (algorithms, data structures, advanced topics)\n",
    "* Meta Data: Review and write\n",
    "  * Focus on a topic, review notes and resources, write a blog post about it\n",
    "* 2-Hour Job Search\n",
    "* Interviewing\n",
    "  * Behavioral questions and scenarios\n",
    "  * Business case walk-throughs\n",
    "  * Hot-seat DS-related topics for recall practice (under pressure)"
   ]
  },
  {
   "cell_type": "markdown",
   "metadata": {},
   "source": [
    "---\n",
    "\n",
    "## Morning Readings\n",
    "\n",
    "Have a few articles I meant to finish reading yesterday - mostly on DS jobs / job search.\n",
    "\n",
    "* [Crushed it](http://www.erinshellman.com/crushed-it-landing-a-data-science-job/)\n",
    "* [Fizzbuzz in TensorFlow](https://joelgrus.com/2016/05/23/fizz-buzz-in-tensorflow/)\n",
    "* [2 Years of DS at Twitter](https://medium.com/@rchang/my-two-year-journey-as-a-data-scientist-at-twitter-f0c13298aee6)"
   ]
  },
  {
   "cell_type": "markdown",
   "metadata": {},
   "source": [
    "#### Crushed it\n",
    "\n",
    "* Give yourself plenty of time\n",
    "* Screening questions commonly phrased like:\n",
    "  * How would you explain to an engineer how to interpret a p-value?\n",
    "* Practice / take the time to be able to explain core concepts like these in your own words\n",
    "* Spend ample time preparing professional materials (resume and cover letter)\n",
    "* Do lots of practice problems and scrutinize/analyze weak areas\n",
    "* Interview Prep - Quora\n",
    "  * [DS Interview Tips](https://www.quora.com/topic/Data-Science-Interviews)\n",
    "  * [Statistics/probability practice problems](https://www.quora.com/topic/Statistics-and-Probability-Homework-Question)\n",
    "* Interview Prep - Books:\n",
    "  * [Programming Interviews Exposed](https://www.amazon.com/Programming-Interviews-Exposed-Secrets-Landing/dp/1118261364/)\n",
    "  * [Programming Pearls](https://www.amazon.com/Programming-Pearls-2nd-Jon-Bentley/dp/0201657880)\n",
    "  * [A First Course in Probability](https://www.amazon.com/First-Course-Probability-9th/dp/032179477X)\n",
    "* Other resources\n",
    "  * [Biostatistics bootcamp 1](https://www.coursera.org/learn/biostatistics)\n",
    "  * [Data Science Specialization](https://www.coursera.org/specializations/jhu-data-science)"
   ]
  },
  {
   "cell_type": "markdown",
   "metadata": {},
   "source": [
    "---\n",
    "\n",
    "## Coding & Problem Solving Practice\n",
    "\n",
    "> Work through practice problems on HackerRank or similar"
   ]
  },
  {
   "cell_type": "markdown",
   "metadata": {},
   "source": [
    "### Python\n",
    "\n",
    "Decided to try out Leetcode again, as HackerRank wasn't really giving me the problem solving practice I wanted. I could look at the more difficult questions, but Leetcode seems like it has more technical-interview-type questions."
   ]
  },
  {
   "cell_type": "markdown",
   "metadata": {},
   "source": [
    "#### [Two Sum](https://leetcode.com/problems/two-sum/)\n",
    "\n",
    "> Start @ 09:52\n",
    "\n",
    "Given an array of integers, return indices of the two numbers such that they add up to a specific target.\n",
    "\n",
    "You may assume that each input would have exactly one solution, and you may not use the same element twice.\n",
    "\n",
    "Example:\n",
    "\n",
    "    Given nums = [2, 7, 11, 15], target = 9,\n",
    "\n",
    "    Because nums[0] + nums[1] = 2 + 7 = 9,\n",
    "    return [0, 1]."
   ]
  },
  {
   "cell_type": "code",
   "execution_count": 1,
   "metadata": {},
   "outputs": [],
   "source": [
    "from typing import List\n",
    "\n",
    "def twoSum(nums: List[int], target: int) -> List[int]:\n",
    "    # This seems like the kind of problem where using a has table (dictionary)\n",
    "    # would make sense - use the value as the key, and index as the value.\n",
    "    # Then, for each number, I can look to see if there is a key representing\n",
    "    # the difference between the active key and the target\n",
    "    pass"
   ]
  },
  {
   "cell_type": "code",
   "execution_count": 2,
   "metadata": {},
   "outputs": [
    {
     "data": {
      "text/plain": [
       "{2: 0, 7: 1, 11: 2, 15: 3}"
      ]
     },
     "execution_count": 2,
     "metadata": {},
     "output_type": "execute_result"
    }
   ],
   "source": [
    "nums = [2, 7, 11, 15]\n",
    "tgt = 9\n",
    "\n",
    "# === Create and populate hash table === #\n",
    "lookup = {}\n",
    "for i, v in enumerate(nums):\n",
    "    lookup[v] = i\n",
    "\n",
    "lookup"
   ]
  },
  {
   "cell_type": "code",
   "execution_count": 11,
   "metadata": {},
   "outputs": [
    {
     "name": "stdout",
     "output_type": "stream",
     "text": [
      "0 1\n"
     ]
    }
   ],
   "source": [
    "# === Loop/look for matches === #\n",
    "for ix, val in enumerate(nums):\n",
    "    match = tgt - val\n",
    "    try:\n",
    "        ii = lookup[match]\n",
    "    except KeyError:\n",
    "        continue\n",
    "    else:\n",
    "        if ix == ii:\n",
    "            continue\n",
    "        else:\n",
    "            print(ix, ii)\n",
    "            break"
   ]
  },
  {
   "cell_type": "code",
   "execution_count": 14,
   "metadata": {},
   "outputs": [
    {
     "data": {
      "text/plain": [
       "[0, 1]"
      ]
     },
     "execution_count": 14,
     "metadata": {},
     "output_type": "execute_result"
    }
   ],
   "source": [
    "def twoSum(nums: List[int], target: int) -> List[int]:\n",
    "    \"\"\"Given an array of integers, returns indices of two numbers such that\n",
    "    they add up to a specific target.\n",
    "    \"\"\"\n",
    "    # === Create and populate hash table === #\n",
    "    lookup = {}\n",
    "    for i, v in enumerate(nums):\n",
    "        lookup[v] = i\n",
    "    # === Loop/look for matches === #\n",
    "    for ix, val in enumerate(nums):\n",
    "        match = target - val\n",
    "        try:\n",
    "            ii = lookup[match]\n",
    "        except KeyError:\n",
    "            continue\n",
    "        else:\n",
    "            if ix == ii:\n",
    "                continue\n",
    "            else:\n",
    "                return [ix, ii]\n",
    "\n",
    "twoSum(nums, tgt)"
   ]
  },
  {
   "cell_type": "markdown",
   "metadata": {},
   "source": [
    "##### Success\n",
    "\n",
    "> Finish @ 10:04\n",
    "\n",
    "* Runtime: 68 ms, faster than 40.34% of Python3 online submissions for Two Sum.  \n",
    "* Memory Usage: 15.8 MB, less than 10.43% of Python3 online submissions for Two Sum.\n",
    "\n",
    "Not a great solution, but it works."
   ]
  },
  {
   "cell_type": "markdown",
   "metadata": {},
   "source": [
    "#### [Add Two Numbers](https://leetcode.com/problems/add-two-numbers/)\n",
    "\n",
    "> Start @ 10:18\n",
    "\n",
    "You are given two non-empty linked lists representing two non-negative integers. The digits are stored in reverse order and each of their nodes contain a single digit. Add the two numbers and return it as a linked list.\n",
    "\n",
    "You may assume the two numbers do not contain any leading zero, except the number 0 itself.\n",
    "\n",
    "Example:\n",
    "\n",
    "    Input: (2 -> 4 -> 3) + (5 -> 6 -> 4)\n",
    "    Output: 7 -> 0 -> 8\n",
    "    Explanation: 342 + 465 = 807."
   ]
  },
  {
   "cell_type": "code",
   "execution_count": 36,
   "metadata": {},
   "outputs": [],
   "source": [
    "from __future__ import annotations\n",
    "\n",
    "class ListNode:\n",
    "    def __init__(self, val: int = 0, next: ListNode = None):\n",
    "        self.val = val\n",
    "        self.next = next\n",
    "        \n",
    "    def __str__(self):\n",
    "        return f\"ListNode({self.val}, {self.next})\"\n",
    "\n",
    "def addTwoNumbers(l1: ListNode, l2: ListNode) -> ListNode:\n",
    "    # 1. Run through each linked list to reconstruct the numbers as integers\n",
    "    # 2. Add the two integers\n",
    "    # 3. Reconstruct the linked list\n",
    "    pass"
   ]
  },
  {
   "cell_type": "code",
   "execution_count": 55,
   "metadata": {},
   "outputs": [],
   "source": [
    "# === Create two example linked lists === #\n",
    "# This also is how the linked list will be (re)constructed\n",
    "\n",
    "# Helper function to (re)construct linked lists from integers\n",
    "def int_to_linked_list(num: int, last_node: ListNode = None) -> ListNode:\n",
    "    \"\"\"Constructs a linked list from an integer, with digits stored in\n",
    "    reverse order, each node containing a single digit.\n",
    "    \"\"\"\n",
    "    # === Base case: no more numbers === #\n",
    "    if num == 0 and last_node is not None:\n",
    "        return None\n",
    "    # Last digit is first to be added\n",
    "    # To return last digit, take modulo 10\n",
    "    last_digit = num % 10\n",
    "    # Then to remove the last digit, floor divide by 10\n",
    "    new_num = num // 10\n",
    "    print(f\"{new_num} -> {last_digit}\")\n",
    "    \n",
    "    # Create ListNode using last_digit\n",
    "    node = ListNode(last_digit)\n",
    "    # Assign to last node's next, if exists\n",
    "    if last_node:\n",
    "        last_node.next = node\n",
    "    # Call function recursively\n",
    "    int_to_linked_list(new_num, node)\n",
    "    return node"
   ]
  },
  {
   "cell_type": "code",
   "execution_count": 57,
   "metadata": {},
   "outputs": [
    {
     "name": "stdout",
     "output_type": "stream",
     "text": [
      "34 -> 2\n",
      "3 -> 4\n",
      "0 -> 3\n",
      "ListNode(2, ListNode(4, ListNode(3, None)))\n",
      "\n",
      "46 -> 5\n",
      "4 -> 6\n",
      "0 -> 4\n",
      "ListNode(5, ListNode(6, ListNode(4, None)))\n"
     ]
    }
   ],
   "source": [
    "# === Use helper to create example linked lists === #\n",
    "l1_head = int_to_linked_list(342)\n",
    "print(l1_head)\n",
    "print()\n",
    "l2_head = int_to_linked_list(465)\n",
    "print(l2_head)"
   ]
  },
  {
   "cell_type": "code",
   "execution_count": null,
   "metadata": {},
   "outputs": [],
   "source": [
    "# === Convert from linked list to integer === #\n",
    "def linked_list_to_int(ll: ListNode) -> int:\n",
    "    \"\"\"Deconstructs a linked list into an integer.\"\"\"\n",
    "    pass"
   ]
  },
  {
   "cell_type": "markdown",
   "metadata": {},
   "source": [
    "#### For Tomorrow\n",
    "\n",
    "I'll save the rest of [the problem](https://leetcode.com/problems/add-two-numbers/) for tomorrow.\n",
    "\n",
    "Also, tomorrow I will start doing a daily ~20 mins of the edX course [Advanced Algorithmics and Graph Theory with Python](https://courses.edx.org/courses/course-v1:IMTx+NET04x+3T2018/course/)."
   ]
  },
  {
   "cell_type": "markdown",
   "metadata": {},
   "source": [
    "### SQL\n",
    "\n",
    "No SQL practice today."
   ]
  },
  {
   "cell_type": "markdown",
   "metadata": {},
   "source": [
    "---\n",
    "\n",
    "## Meta Data: Review and Write\n",
    "\n",
    "* Focus on a topic or project, learn/review the concepts, write (a blog post) about it\n",
    "* Be active on social media (about data science/machine learning-related things)"
   ]
  },
  {
   "cell_type": "markdown",
   "metadata": {},
   "source": [
    "Posted another article from my workshop to LinkedIn and Facebook, and followed up with some potential leads."
   ]
  },
  {
   "cell_type": "markdown",
   "metadata": {},
   "source": [
    "### Resume\n",
    "\n",
    "Decided to update my resume some more.\n",
    "\n",
    "#### Executive Summary\n",
    "\n",
    "##### Edit 2-1\n",
    "\n",
    "Collaborative yet independent data professional with a BS in Economics and years of experience working on cross-functional teams building complex, data-driven software systems. Applied a wide range of technical and interpersonal expertise to successfully implement large manufacturing ERP systems and to develop and deploy production-grade Python web apps and APIs serving machine learning models.\n",
    "\n",
    "##### Edit 2-2\n",
    "\n",
    "Collaborative yet independent data professional with a BS in Economics and years of experience working with cross-functional teams on complex, data-driven software systems. Applied a wide range of technical and interpersonal expertise to successfully implement large-scale manufacturing ERP systems and to develop and deploy production-grade Python web apps and APIs serving machine learning models."
   ]
  },
  {
   "cell_type": "markdown",
   "metadata": {},
   "source": [
    "---\n",
    "\n",
    "## DS + ML Practice"
   ]
  },
  {
   "cell_type": "markdown",
   "metadata": {
    "jupyter": {
     "source_hidden": true
    }
   },
   "source": [
    "### Some options\n",
    "\n",
    "* Pick a dataset and try to do X with it\n",
    "  * Try to hit benchmark accuracies with [UCI ML datasets](https://archive.ics.uci.edu/ml/index.php) or Kaggle\n",
    "* Practice with the common DS/ML tools and processes\n",
    "  * Hands-on ML | NLP In Action | Dive Into Deep Learning | Coursera / guided projects\n",
    "  * Machine learning flashcards\n",
    "\n",
    "#### _The goal is to be comfortable explaining the entire process._\n",
    "\n",
    "* Data access / sourcing, cleaning\n",
    "  * Exploratory data analysis\n",
    "  * Data wrangling techniques and processes\n",
    "* Inference\n",
    "  * Statistics\n",
    "  * Probability\n",
    "  * Visualization\n",
    "* Modeling\n",
    "  * Implement + justify choice of model / algorithm\n",
    "  * Track performance + justify choice of metrics\n",
    "    * Communicate results as relevant to the goal"
   ]
  },
  {
   "cell_type": "markdown",
   "metadata": {},
   "source": []
  },
  {
   "cell_type": "markdown",
   "metadata": {},
   "source": []
  },
  {
   "cell_type": "markdown",
   "metadata": {},
   "source": [
    "---\n",
    "\n",
    "## 2-Hour Job Search"
   ]
  },
  {
   "cell_type": "markdown",
   "metadata": {},
   "source": []
  },
  {
   "cell_type": "markdown",
   "metadata": {},
   "source": []
  },
  {
   "cell_type": "markdown",
   "metadata": {},
   "source": [
    "---\n",
    "\n",
    "## Interviewing\n",
    "\n",
    "> Practice answering the most common behavioral and technical interview questions\n",
    "\n",
    "### Technical\n",
    "\n",
    "* Business case walk-throughs\n",
    "* Hot-seat DS-related topics for recall practice (under pressure)"
   ]
  },
  {
   "cell_type": "markdown",
   "metadata": {
    "jupyter": {
     "source_hidden": true
    }
   },
   "source": [
    "### Behavioral\n",
    "\n",
    "* \"Tell me a bit about yourself\"\n",
    "* \"Tell me about a project you've worked on and are proud of\"\n",
    "* \"What do you know about our company?\"\n",
    "* \"Where do you see yourself in 3-5 years?\"\n",
    "* \"Why do you want to work here / want this job?\"\n",
    "* \"What makes you most qualified for this role?\"\n",
    "* \"What is your greatest strength/weakness?\"\n",
    "  * \"What is your greatest technical strength?\"\n",
    "* \"Tell me about a time when you had conflict with someone and how you handled it\"\n",
    "* \"Tell me about a mistake you made and how you handled it\"\n",
    "* Scenario questions (STAR: situation, task, action, result)\n",
    "  * Success story / biggest accomplishment\n",
    "  * Greatest challenge (overcome)\n",
    "  * Persuaded someone who did not agree with you\n",
    "  * Dealt with and resolved a conflict (among team members)\n",
    "  * Led a team / showed leadership skills or aptitude\n",
    "  * How you've dealt with stress / stressful situations\n",
    "  * Most difficult problem encountered in previous job; how you solved it\n",
    "  * Solved a problem creatively\n",
    "  * Exceeded expectations to get a job done\n",
    "  * Showed initiative\n",
    "  * Something that's not on your resume\n",
    "  * Example of important goal you set and how you reached it\n",
    "  * A time you failed\n",
    "* \"Do you have any questions for me?\"\n",
    "  * What is your favorite aspect of working here?\n",
    "  * What has your journey looked like at the company?\n",
    "  * What are some challenges you face in your position?"
   ]
  },
  {
   "cell_type": "markdown",
   "metadata": {},
   "source": []
  },
  {
   "cell_type": "markdown",
   "metadata": {},
   "source": []
  },
  {
   "cell_type": "markdown",
   "metadata": {},
   "source": []
  },
  {
   "cell_type": "markdown",
   "metadata": {},
   "source": []
  },
  {
   "cell_type": "markdown",
   "metadata": {},
   "source": []
  },
  {
   "cell_type": "markdown",
   "metadata": {},
   "source": []
  },
  {
   "cell_type": "markdown",
   "metadata": {},
   "source": []
  },
  {
   "cell_type": "markdown",
   "metadata": {},
   "source": []
  },
  {
   "cell_type": "markdown",
   "metadata": {},
   "source": []
  },
  {
   "cell_type": "markdown",
   "metadata": {},
   "source": []
  },
  {
   "cell_type": "markdown",
   "metadata": {},
   "source": []
  },
  {
   "cell_type": "markdown",
   "metadata": {},
   "source": []
  }
 ],
 "metadata": {
  "kernelspec": {
   "display_name": "Python 3.7.6 64-bit ('vela': pipenv)",
   "language": "python",
   "name": "python37664bitvelapipenvde09592071074af6a70ce3b1ce38af95"
  },
  "language_info": {
   "codemirror_mode": {
    "name": "ipython",
    "version": 3
   },
   "file_extension": ".py",
   "mimetype": "text/x-python",
   "name": "python",
   "nbconvert_exporter": "python",
   "pygments_lexer": "ipython3",
   "version": "3.7.6"
  }
 },
 "nbformat": 4,
 "nbformat_minor": 4
}
