{
 "cells": [
  {
   "cell_type": "markdown",
   "metadata": {},
   "source": [
    "# Creating Binary Masks Using Image Segmentation\n",
    "\n",
    "> Create binary mask for objects in an image using image segmentation\n",
    "\n",
    "A tobias.fyi blog post by...you guessed it: _Tobias Reaper_.\n",
    "\n",
    "---"
   ]
  },
  {
   "cell_type": "markdown",
   "metadata": {},
   "source": [
    "---\n",
    "\n",
    "Notebook Outline\n",
    "\n",
    "* [Resources](#resources)\n",
    "* [Outline](#outline)\n",
    "* [Goal](#goal)\n",
    "  * [Computer vision](#computer-vision)\n",
    "  * [Mask R-CNN](#mask-r-cnn)"
   ]
  },
  {
   "cell_type": "markdown",
   "metadata": {},
   "source": [
    "---\n",
    "\n",
    "## Resources\n",
    "\n",
    "* [Mask R-CNN](https://github.com/matterport/Mask_RCNN/)\n",
    "* Other models / frameworks\n",
    "  * [CenterMask2](https://github.com/youngwanLEE/centermask2)\n",
    "  * [Yolact](https://github.com/dbolya/yolact)"
   ]
  },
  {
   "cell_type": "markdown",
   "metadata": {},
   "source": [
    "---\n",
    "\n",
    "## Outline\n",
    "\n",
    "* Intro\n",
    "  * Goal\n",
    "  * Solution\n",
    "    * Computer vision models\n",
    "    * Mask R-CNN\n",
    "* Content\n",
    "  * Using pre-trained weights\n",
    "  * Training a custom model\n",
    "  * Extracting the data from the predictions:\n",
    "    * Masks\n",
    "    * Bounding boxes\n",
    "* Conclusion"
   ]
  },
  {
   "cell_type": "markdown",
   "metadata": {},
   "source": [
    "---\n",
    "\n",
    "## Goal\n",
    "\n",
    "The goal of this article is to describe a possible method of creating binary masks for one or more objects in an image by using an image segmentation (computer vision) model.\n",
    "\n",
    "A binary mask is basically a two-color image with the same dimensions of the image that can be used to distinguish pixels in the original image.\n",
    "\n",
    "One important use-case for something like this is to apply different effects or transformations to the foreground and background of the image, making it possible to easily manipulate background pixels without affecting the foreground. For example, blurring the background to give a greater depth of field effect, or removing the color from the background to make the foreground really pop out."
   ]
  },
  {
   "cell_type": "markdown",
   "metadata": {},
   "source": [
    "### Computer vision\n",
    "\n",
    "In order to generate binary masks based on the content of the image, the algorithm must be somewhat intelligent. That is, it must be able to process the image in such a way that it can recognize where the foreground is and draw a polygon around it with some degree of accuracy.\n",
    "\n",
    "Luckily, there are a number of machine learning models that will do just that. The field is called Computer Vision. More specifically, the models described in this article are known as image segmentation models.\n",
    "\n",
    "Don't worry if you don't have any experience with this type of thing, or even if you don't want to _get_ experience with it. Modern machine learning tooling makes it incredibly quick and easy to get a model up and predicting with pre-trained weights.\n",
    "\n",
    "One caveat though: the pre-trained models will do great with the objects that were in their training data. Depending on what the object in the foreground is that you are trying to extract, you may or may not need to extend the model with a custom dataset and training session."
   ]
  },
  {
   "cell_type": "markdown",
   "metadata": {},
   "source": [
    "### Mask R-CNN\n",
    "\n",
    "The primary model used in this article is Matterport's implementation of a Mask R-CNN (Regional Convolutional Neural Network). Although it hasn't changed much in the last couple years, it is still one of the best implementations of an image segmentation model out there today."
   ]
  }
 ],
 "metadata": {
  "kernelspec": {
   "display_name": "Python 3.7.6 64-bit ('vela': pipenv)",
   "language": "python",
   "name": "python37664bitvelapipenvde09592071074af6a70ce3b1ce38af95"
  },
  "language_info": {
   "codemirror_mode": {
    "name": "ipython",
    "version": 3
   },
   "file_extension": ".py",
   "mimetype": "text/x-python",
   "name": "python",
   "nbconvert_exporter": "python",
   "pygments_lexer": "ipython3",
   "version": "3.7.6"
  }
 },
 "nbformat": 4,
 "nbformat_minor": 4
}
