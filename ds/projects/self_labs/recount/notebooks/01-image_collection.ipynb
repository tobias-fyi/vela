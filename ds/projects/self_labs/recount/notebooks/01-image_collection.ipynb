{
 "cells": [
  {
   "cell_type": "markdown",
   "metadata": {},
   "source": [
    "# Self Labs Recount: Image Collection\n",
    "\n",
    "Collecting images for the exercise classifier (and maybe counter).\n",
    "\n",
    "---"
   ]
  },
  {
   "cell_type": "markdown",
   "metadata": {},
   "source": [
    "## Packages\n",
    "\n",
    "### fastclass\n",
    "\n",
    "Installed [fastclass](https://github.com/cwerner/fastclass) into the new environment, to hopefully help with downloading and cleaning up the images.\n",
    "\n",
    "    pipenv install -e git+https://github.com/cwerner/fastclass.git#egg=fastclass\n",
    "    \n",
    "Then I created a list of 12 exercises and their search queries. I decided to do 4 from each of abs, legs/butt, and arms/back/chest. I'll refine the categories if need be.\n",
    "\n",
    "| searchterm | exclude |\n",
    "| --- | --- |\n",
    "| pushup| |\n",
    "| tricep dip | |\n",
    "| pull up | |\n",
    "| superman exercise | exercise|\n",
    "| squat | |\n",
    "| donkey kick exercise | exercise|\n",
    "| lunge | |\n",
    "| bridge exercise | exercise|\n",
    "| sit up | |\n",
    "| flutter kick | |\n",
    "| plank | |\n",
    "| side plank | |\n",
    "\n",
    "And ran the crawler via this command:\n",
    "\n",
    "    fcd -c ALL -s 224 exercises.csv\n",
    "    \n",
    "Basically, this command runs each query in `exercises.csv` on all the default crawlers (Bing, Google, Baidu), finds a maximum of 1,000 images per query (default), then resizes the resulting images to 224x224 pixels.\n",
    "\n",
    "Easy as that. I'll let it ride for a while and see what the results are when I come back from lunch."
   ]
  },
  {
   "cell_type": "code",
   "execution_count": null,
   "metadata": {},
   "outputs": [],
   "source": []
  }
 ],
 "metadata": {
  "kernelspec": {
   "display_name": "Python 3.7.6 64-bit ('vela': pipenv)",
   "language": "python",
   "name": "python37664bitvelapipenvde09592071074af6a70ce3b1ce38af95"
  },
  "language_info": {
   "codemirror_mode": {
    "name": "ipython",
    "version": 3
   },
   "file_extension": ".py",
   "mimetype": "text/x-python",
   "name": "python",
   "nbconvert_exporter": "python",
   "pygments_lexer": "ipython3",
   "version": "3.7.6"
  }
 },
 "nbformat": 4,
 "nbformat_minor": 4
}
