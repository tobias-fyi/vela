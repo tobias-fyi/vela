{
 "cells": [
  {
   "cell_type": "markdown",
   "metadata": {},
   "source": [
    "# 20-07-22: Daily Practice"
   ]
  },
  {
   "cell_type": "markdown",
   "metadata": {},
   "source": [
    "---\n",
    "---\n",
    "\n",
    "## Daily practices\n",
    "\n",
    "* [x] [Job Search](#2-Hour-Job-Search)\n",
    "  * [ ] LAMP List\n",
    "  * [x] Network\n",
    "  * [ ] Social media\n",
    "  * [ ] Job applications\n",
    "* [ ] [Meta-data: read & write](#Meta-data:-reading-&-writing)\n",
    "* [x] [Practice & learn](#Practice-&-learn)\n",
    "  * [ ] Coding, algorithms & data structures\n",
    "  * [x] Data science: access, manipulation, analysis, visualization\n",
    "  * [ ] Engineering: SQL, PySpark, APIs, TDD, OOP\n",
    "  * [ ] Machine learning: Scikit-learn, TensorFlow, PyTorch\n",
    "  * [ ] Interview questions (out loud)"
   ]
  },
  {
   "cell_type": "markdown",
   "metadata": {},
   "source": [
    "---\n",
    "---\n",
    "\n",
    "## Practice & learn"
   ]
  },
  {
   "cell_type": "markdown",
   "metadata": {},
   "source": [
    "---\n",
    "\n",
    "### Coding, algorithms & data structures"
   ]
  },
  {
   "cell_type": "markdown",
   "metadata": {},
   "source": [
    "#### [Arrays: Left Rotation](https://www.hackerrank.com/challenges/ctci-array-left-rotation/problem)\n",
    "\n",
    "A left rotation operation on an array shifts each of the array's elements unit to the left. For example, if $2$ left rotations are performed on array $[1, 2, 3, 4, 5]$, then the array would become $[3, 4, 5, 1, 2]$.\n",
    "\n",
    "Given an array $a$ of $n$ integers and a number, $d$, perform $d$ left rotations on the array. Return the updated array to be printed as a single line of space-separated integers."
   ]
  },
  {
   "cell_type": "code",
   "execution_count": null,
   "metadata": {},
   "outputs": [],
   "source": [
    "# Complete the rotLeft function below.\n",
    "def rotLeft(a, d):\n",
    "    # Method 1: Pop off len(arr) - d items from the tail, insert at head\n",
    "    # This method would not be very efficient, as each insertion would be O(n) where n\n",
    "    # is the number of items in the array - the whole array gets shifted each time.\n",
    "    # So the total time would be O(n^2).\n",
    "    \n",
    "    # Method 2: slice off len(arr) - d items from the tail in one go and insert at head\n",
    "    # This would be O(n) because each item in the array only has to get shifted once\n",
    "    \n",
    "    # Method 3: slice off head of array up to d index, append to tail\n",
    "    # Time complexity would be O(1), because only two operations have to happen:\n",
    "    # slice and append - technically O(2) but rounds down to O(1).\n",
    "    pass"
   ]
  },
  {
   "cell_type": "code",
   "execution_count": 6,
   "metadata": {},
   "outputs": [
    {
     "data": {
      "text/plain": [
       "[3, 4, 5, 1, 2]"
      ]
     },
     "execution_count": 6,
     "metadata": {},
     "output_type": "execute_result"
    }
   ],
   "source": [
    "# === Method 3 === #\n",
    "arr1 = [1, 2, 3, 4, 5]\n",
    "d = 2\n",
    "\n",
    "new_head = arr1[d:]\n",
    "new_tail = arr1[:d]\n",
    "new_arr = new_head + new_tail\n",
    "print(new_arr)"
   ]
  },
  {
   "cell_type": "code",
   "execution_count": 7,
   "metadata": {},
   "outputs": [],
   "source": [
    "def rotLeft(a, d):\n",
    "    \"\"\"Rotates a list to the left by d items.\"\"\"\n",
    "    new_head = a[d:]\n",
    "    new_tail = a[:d]\n",
    "    return new_head + new_tail"
   ]
  },
  {
   "cell_type": "code",
   "execution_count": 9,
   "metadata": {},
   "outputs": [
    {
     "data": {
      "text/plain": [
       "[3, 4, 5, 1, 2]"
      ]
     },
     "execution_count": 9,
     "metadata": {},
     "output_type": "execute_result"
    }
   ],
   "source": [
    "rotLeft(arr1, d)"
   ]
  },
  {
   "cell_type": "markdown",
   "metadata": {},
   "source": [
    "#### [New Year's Chaos](https://www.hackerrank.com/challenges/new-year-chaos/problem)\n",
    "\n",
    "For next time."
   ]
  },
  {
   "cell_type": "markdown",
   "metadata": {},
   "source": [
    "---\n",
    "\n",
    "### Interview questions"
   ]
  },
  {
   "cell_type": "markdown",
   "metadata": {},
   "source": [
    "* What is the central limit theorem and why is it important?\n",
    "* What is sampling? Explain two different sampling methods.\n",
    "* What is the difference between type I / type II errors?\n",
    "* What is the probability of winning a 3 out of 5 coin toss?"
   ]
  },
  {
   "cell_type": "markdown",
   "metadata": {},
   "source": [
    "#### Central Limit Theorem\n",
    "\n",
    "As the sample size increases, the distribution of sample means becomes more normal."
   ]
  },
  {
   "cell_type": "code",
   "execution_count": 11,
   "metadata": {},
   "outputs": [],
   "source": [
    "# === Imports === #\n",
    "import pandas as pd\n",
    "import numpy as np\n",
    "import matplotlib.pyplot as plt\n",
    "import seaborn as sns"
   ]
  },
  {
   "cell_type": "code",
   "execution_count": 10,
   "metadata": {},
   "outputs": [],
   "source": [
    "def load_sheffield(path):\n",
    "    # Load data line by line\n",
    "    with open(path) as f:\n",
    "        shef_lines = f.readlines()\n",
    "    # Strip lines\n",
    "    shef_lines = [l.strip() for l in shef_lines[8:]]\n",
    "    # Split header row\n",
    "    shef_cols = shef_lines[0].split()\n",
    "    # Split data rows\n",
    "    shef_data = [l.split() for l in shef_lines[1:]]\n",
    "    # Load into dataframe and fix datatypes\n",
    "    shef_df = pd.DataFrame(data=shef_data, columns=shef_cols)\n",
    "    shef_df = shef_df.replace(to_replace=\"---\", value=np.NaN)\n",
    "    for col in shef_df.columns:\n",
    "        shef_df[col] = pd.to_numeric(shef_df[col])\n",
    "    return shef_df"
   ]
  },
  {
   "cell_type": "code",
   "execution_count": 14,
   "metadata": {},
   "outputs": [
    {
     "data": {
      "text/plain": [
       "yyyy\n",
       "1883     875.5\n",
       "1884     648.2\n",
       "1885     788.1\n",
       "1886     940.3\n",
       "1887     491.1\n",
       "         ...  \n",
       "2012    1146.4\n",
       "2013     728.2\n",
       "2014     864.2\n",
       "2015     793.0\n",
       "2016     521.7\n",
       "Name: rain, Length: 134, dtype: float64"
      ]
     },
     "execution_count": 14,
     "metadata": {},
     "output_type": "execute_result"
    }
   ],
   "source": [
    "# === Load rainfall data === #\n",
    "sheffield = load_sheffield(\"assets/data/sheffield_weather_station.csv\")\n",
    "# Get annual rainfall\n",
    "rain = sheffield.groupby(\"yyyy\")[\"rain\"].sum()\n",
    "rain"
   ]
  },
  {
   "cell_type": "code",
   "execution_count": 28,
   "metadata": {},
   "outputs": [
    {
     "data": {
      "image/png": "[encoded data removed]",
      "text/plain": [
       "<Figure size 432x288 with 1 Axes>"
      ]
     },
     "metadata": {
      "needs_background": "light"
     },
     "output_type": "display_data"
    }
   ],
   "source": [
    "# === Sample to show CLM === #\n",
    "sample_means = []\n",
    "\n",
    "for _ in range(1000):\n",
    "    sample = np.random.choice(rain, size=len(rain), replace=True)\n",
    "    m = np.mean(sample)\n",
    "    sample_means.append(m)\n",
    "    \n",
    "plt.hist(sample_means, density=True, bins=100)\n",
    "plt.xlabel(\"Annual rainfall\")\n",
    "plt.show();"
   ]
  },
  {
   "cell_type": "markdown",
   "metadata": {},
   "source": [
    "#### Sampling\n",
    "\n",
    "* Simple random sampling\n",
    "  * All subsets of a dataset are equally likely to be sampled\n",
    "* Stratified sampling\n",
    "  * For categorical data, the distribution of the categories is used to determine the probability of sampling data from each category, thus leading to a sample with the same distribution of categories as the dataset"
   ]
  },
  {
   "cell_type": "markdown",
   "metadata": {},
   "source": [
    "#### Type I vs II Errors\n",
    "\n",
    "* Type I error is a false positive\n",
    "  * Null hypothesis is rejected when it is actually true\n",
    "* Type II error is a false negative\n",
    "  * Null hypothesis is not rejected when it is actually false"
   ]
  },
  {
   "cell_type": "markdown",
   "metadata": {},
   "source": [
    "#### Probability\n",
    "\n",
    "> What is the probability of winning a 3 out of 5 coin toss?"
   ]
  },
  {
   "cell_type": "markdown",
   "metadata": {},
   "source": [
    "#### Stories - STAR Method\n",
    "\n",
    "* Situation\n",
    "* Task\n",
    "* Action\n",
    "* Result"
   ]
  },
  {
   "cell_type": "markdown",
   "metadata": {},
   "source": [
    "---\n",
    "\n",
    "### Data science"
   ]
  },
  {
   "cell_type": "markdown",
   "metadata": {},
   "source": [
    "Got started organizing, loading, and viewing a dataset I've been collecting over the last couple years. It's a big task involving dozens of separate CSVs, so will be quite a process to get them all organized and joined. Good practice joining, merging, organizing, setting up, cleaning, and whatever else comes up."
   ]
  },
  {
   "cell_type": "markdown",
   "metadata": {},
   "source": [
    "---\n",
    "\n",
    "### Engineering"
   ]
  },
  {
   "cell_type": "code",
   "execution_count": null,
   "metadata": {},
   "outputs": [],
   "source": []
  },
  {
   "cell_type": "markdown",
   "metadata": {},
   "source": [
    "---\n",
    "\n",
    "### Machine learning"
   ]
  },
  {
   "cell_type": "code",
   "execution_count": null,
   "metadata": {},
   "outputs": [],
   "source": []
  },
  {
   "cell_type": "markdown",
   "metadata": {},
   "source": [
    "---\n",
    "---\n",
    "\n",
    "## Meta-data: read & write"
   ]
  },
  {
   "cell_type": "markdown",
   "metadata": {},
   "source": []
  },
  {
   "cell_type": "markdown",
   "metadata": {},
   "source": [
    "---\n",
    "---\n",
    "\n",
    "## 2-Hour Job Search"
   ]
  },
  {
   "cell_type": "markdown",
   "metadata": {},
   "source": []
  },
  {
   "cell_type": "markdown",
   "metadata": {},
   "source": []
  },
  {
   "cell_type": "markdown",
   "metadata": {},
   "source": []
  },
  {
   "cell_type": "markdown",
   "metadata": {},
   "source": []
  },
  {
   "cell_type": "markdown",
   "metadata": {},
   "source": []
  },
  {
   "cell_type": "markdown",
   "metadata": {},
   "source": []
  },
  {
   "cell_type": "markdown",
   "metadata": {},
   "source": []
  },
  {
   "cell_type": "markdown",
   "metadata": {},
   "source": []
  },
  {
   "cell_type": "markdown",
   "metadata": {},
   "source": []
  }
 ],
 "metadata": {
  "kernelspec": {
   "display_name": "Python 3.7.6 64-bit ('vela': pipenv)",
   "language": "python",
   "name": "python37664bitvelapipenvde09592071074af6a70ce3b1ce38af95"
  },
  "language_info": {
   "codemirror_mode": {
    "name": "ipython",
    "version": 3
   },
   "file_extension": ".py",
   "mimetype": "text/x-python",
   "name": "python",
   "nbconvert_exporter": "python",
   "pygments_lexer": "ipython3",
   "version": "3.7.6"
  }
 },
 "nbformat": 4,
 "nbformat_minor": 4
}
