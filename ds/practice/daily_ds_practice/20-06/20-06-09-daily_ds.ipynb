{
 "cells": [
  {
   "cell_type": "markdown",
   "metadata": {},
   "source": [
    "# 20-06-09: Daily Data Practice\n",
    "\n",
    "---\n",
    "\n",
    "## Daily Practices\n",
    "\n",
    "* Practice with the common DS/ML tools and processes\n",
    "  * [fast.ai course](https://course.fast.ai/)\n",
    "  * HackerRank SQL or Packt SQL Data Analytics\n",
    "  * Hands-on ML | NLP In Action | Dive Into Deep Learning\n",
    "    * Read, code along, take notes\n",
    "    * _test yourself on the concepts_ — i.e. do all the chapter exercises\n",
    "  * Try to hit benchmark accuracies with [UCI ML datasets](https://archive.ics.uci.edu/ml/index.php) or Kaggle\n",
    "* Meta Data: Review and write\n",
    "  * Focus on a topic, review notes and resources, write a blog post about it\n",
    "* 2-Hour Job Search\n",
    "* Interviewing\n",
    "  * Behavioral questions and scenarios\n",
    "  * Business case walk-throughs\n",
    "  * Hot-seat DS-related topics for recall practice (under pressure)"
   ]
  },
  {
   "cell_type": "markdown",
   "metadata": {},
   "source": [
    "---\n",
    "\n",
    "## SQL\n",
    "\n",
    "> Work through practice problems on HackerRank or Packt"
   ]
  },
  {
   "cell_type": "markdown",
   "metadata": {},
   "source": [
    "### Applied SQL Workshop\n",
    "\n",
    "#### SQL Joins\n",
    "\n",
    "##### Inner Join\n",
    "\n",
    "Only the records that exist in both tables are returned.\n",
    "\n",
    "Limiting the output to only one of the joined tables with `table.*`:\n",
    "\n",
    "```SQL\n",
    "SELECT salespeople.*\n",
    "FROM salespeople\n",
    "INNER JOIN dealerships\n",
    "  ON dealerships.dealership_id = salespeople.dealership_id\n",
    "WHERE dealerships.state = 'CA'\n",
    "ORDER BY 1;\n",
    "```\n",
    "\n",
    "Aliasing table names, with our without `AS`:\n",
    "\n",
    "```SQL\n",
    "SELECT s.*\n",
    "FROM salespeople AS s\n",
    "INNER JOIN dealerships d\n",
    "  ON d.dealership_id = s.dealership_id\n",
    "WHERE d.state = 'CA'\n",
    "ORDER BY 1;\n",
    "```\n",
    "\n",
    "##### Outer Join\n",
    "\n",
    "All records from the table in question are returned, and all matching from the other.\n",
    "\n",
    "```SQL\n",
    "SELECT *\n",
    "FROM emails e\n",
    "RIGHT OUTER JOIN customers c ON e.customer_id=c.customer_id\n",
    "ORDER BY c.customer_id\n",
    "LIMIT 1000;\n",
    "```\n",
    "\n",
    "##### Cross Join\n",
    "\n",
    "Returns every possible combination of records from the two tables.\n",
    "\n",
    "Not generally done in practice, but good to know it exists."
   ]
  },
  {
   "cell_type": "markdown",
   "metadata": {},
   "source": [
    "---\n",
    "\n",
    "## Writing\n",
    "\n",
    "> Focus on a topic or project, learn/review the concepts, and write a blog post about it\n",
    "\n"
   ]
  },
  {
   "cell_type": "markdown",
   "metadata": {},
   "source": []
  },
  {
   "cell_type": "markdown",
   "metadata": {},
   "source": [
    "---\n",
    "\n",
    "## DS + ML Practice\n",
    "\n",
    "* Pick a dataset and try to do X with it\n",
    "  * Try to hit benchmark accuracies with [UCI ML datasets](https://archive.ics.uci.edu/ml/index.php)\n",
    "  * Kaggle\n",
    "* Practice with the common DS/ML tools and processes\n",
    "  * Hands-on ML with sklearn, Keras, and TensorFlow\n",
    "  * Machine learning flashcards\n",
    "\n",
    "#### _The goal is to be comfortable explaining the entire process._\n",
    "\n",
    "* Data access / sourcing, cleaning\n",
    "  * SQL\n",
    "  * Pandas\n",
    "  * Exploratory data analysis\n",
    "  * Data wrangling techniques and processes\n",
    "* Inference\n",
    "  * Statistics\n",
    "  * Probability\n",
    "  * Visualization\n",
    "* Modeling\n",
    "  * Implement + justify choice of model / algorithm\n",
    "  * Track performance + justify choice of metrics\n",
    "    * Communicate results as relevant to the goal"
   ]
  },
  {
   "cell_type": "markdown",
   "metadata": {},
   "source": []
  },
  {
   "cell_type": "markdown",
   "metadata": {},
   "source": []
  },
  {
   "cell_type": "markdown",
   "metadata": {},
   "source": [
    "---\n",
    "\n",
    "## Interviewing\n",
    "\n",
    "> Practice answering the most common interview questions\n",
    "\n",
    "Technical\n",
    "\n",
    "* Business case walk-throughs\n",
    "* Hot-seat DS-related topics for recall practice (under pressure)\n",
    "\n",
    "Behavioral\n",
    "\n",
    "* \"Tell me a bit about yourself\"\n",
    "* \"Tell me about a project you've worked on and are proud of\"\n",
    "* \"What do you know about our company?\"\n",
    "* \"Where do you see yourself in 3-5 years?\"\n",
    "* \"Why do you want to work here / want this job?\"\n",
    "* \"What makes you most qualified for this role?\"\n",
    "* \"What is your greatest strength/weakness?\"\n",
    "  * \"What is your greatest technical strength?\"\n",
    "* \"Tell me about a time when you had conflict with someone and how you handled it\"\n",
    "* \"Tell me about a mistake you made and how you handled it\"\n",
    "* \"Do you have any questions for me?\"\n",
    "  * What is your favorite aspect of working here?\n",
    "  * What has your journey looked like at the company?\n",
    "  * What are some challenges you face in your position?\n",
    "* Scenario questions (STAR: situation, task, action, result)\n",
    "  * Success story / biggest accomplishment\n",
    "  * Greatest challenge (overcome)\n",
    "  * Persuaded someone who did not agree with you\n",
    "  * Dealt with and resolved a conflict (among team members)\n",
    "  * Led a team / showed leadership skills or aptitude\n",
    "  * How you've dealt with stress / stressful situations\n",
    "  * Most difficult problem encountered in previous job; how you solved it\n",
    "  * Solved a problem creatively\n",
    "  * Exceeded expectations to get a job done\n",
    "  * Showed initiative\n",
    "  * Something that's not on your resume\n",
    "  * Example of important goal you set and how you reached it\n",
    "  * A time you failed"
   ]
  },
  {
   "cell_type": "markdown",
   "metadata": {},
   "source": []
  },
  {
   "cell_type": "markdown",
   "metadata": {},
   "source": [
    "---\n",
    "\n",
    "## Job sourcing\n",
    "\n",
    "> Browse LinkedIn, Indeed, and connections for promising leads"
   ]
  },
  {
   "cell_type": "markdown",
   "metadata": {},
   "source": []
  },
  {
   "cell_type": "markdown",
   "metadata": {},
   "source": []
  },
  {
   "cell_type": "markdown",
   "metadata": {},
   "source": []
  },
  {
   "cell_type": "markdown",
   "metadata": {},
   "source": []
  },
  {
   "cell_type": "markdown",
   "metadata": {},
   "source": []
  },
  {
   "cell_type": "markdown",
   "metadata": {},
   "source": []
  },
  {
   "cell_type": "markdown",
   "metadata": {},
   "source": []
  },
  {
   "cell_type": "markdown",
   "metadata": {},
   "source": []
  },
  {
   "cell_type": "markdown",
   "metadata": {},
   "source": []
  },
  {
   "cell_type": "markdown",
   "metadata": {},
   "source": []
  },
  {
   "cell_type": "markdown",
   "metadata": {},
   "source": []
  },
  {
   "cell_type": "markdown",
   "metadata": {},
   "source": []
  },
  {
   "cell_type": "markdown",
   "metadata": {},
   "source": []
  },
  {
   "cell_type": "markdown",
   "metadata": {},
   "source": []
  }
 ],
 "metadata": {
  "kernelspec": {
   "display_name": "Python 3.7.6 64-bit ('vela': pipenv)",
   "language": "python",
   "name": "python37664bitvelapipenvde09592071074af6a70ce3b1ce38af95"
  },
  "language_info": {
   "codemirror_mode": {
    "name": "ipython",
    "version": 3
   },
   "file_extension": ".py",
   "mimetype": "text/x-python",
   "name": "python",
   "nbconvert_exporter": "python",
   "pygments_lexer": "ipython3",
   "version": "3.7.6"
  }
 },
 "nbformat": 4,
 "nbformat_minor": 4
}
