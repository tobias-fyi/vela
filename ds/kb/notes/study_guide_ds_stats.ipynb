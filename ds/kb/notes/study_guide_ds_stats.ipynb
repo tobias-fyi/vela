{
 "cells": [
  {
   "cell_type": "markdown",
   "metadata": {},
   "source": [
    "# Data Science and Machine Learning Topics\n",
    "\n",
    "---"
   ]
  },
  {
   "cell_type": "markdown",
   "metadata": {},
   "source": [
    "## Outline\n",
    "\n",
    "* Mathematics\n",
    "  * Statistics\n",
    "  * Probability\n",
    "  * Calculus\n",
    "  * Linear Algebra\n",
    "  \n",
    "  \n",
    "### General Resources\n",
    "\n",
    "* [Data Science Topics](https://www.jeremyjordan.me/data-science/)\n",
    "* [109 DS interview questions and answers](https://www.springboard.com/blog/data-science-interview-questions/#statistics)\n",
    "* [Over 100 interview questions and answers](https://towardsdatascience.com/over-100-data-scientist-interview-questions-and-answers-c5a66186769a)"
   ]
  },
  {
   "cell_type": "markdown",
   "metadata": {},
   "source": [
    "---\n",
    "\n",
    "## Part 1: Mathematics\n",
    "\n",
    "* Statistics\n",
    "* Linear Algebra\n",
    "* Calculus\n",
    "\n",
    "### Resources\n",
    "\n",
    "* Practical Statistics for Data Scientists\n",
    "* Naked Statistics\n",
    "* [Coursera Intro to Statistical Inference](https://www.youtube.com/playlist?list=PLpl-gQkQivXiBmGyzLrUjzsblmQsLtkzJ)\n"
   ]
  },
  {
   "cell_type": "markdown",
   "metadata": {},
   "source": [
    "---\n",
    "\n",
    "### Statistics\n",
    "\n",
    "> The study of collection, analysis, interpretation, presentation, and organization of data.\n",
    "\n",
    "#### Topic pasta\n",
    "\n",
    "* Basic Terms\n",
    "  * Standard deviation\n",
    "  * Variance\n",
    "* Central Limit Theorem\n",
    "* Probability distributions\n",
    "  * Normal / Gaussian\n",
    "* Sampling\n",
    "* Independent vs dependent events / variables\n",
    "* Type I vs type II errors\n",
    "* Bias / variance trade-off\n",
    "* Regression\n",
    "* Correlation\n"
   ]
  },
  {
   "cell_type": "code",
   "execution_count": null,
   "metadata": {},
   "outputs": [],
   "source": []
  },
  {
   "cell_type": "markdown",
   "metadata": {},
   "source": [
    "---\n",
    "\n",
    "## Part X: Situational Problem-Solving\n",
    "\n"
   ]
  },
  {
   "cell_type": "code",
   "execution_count": null,
   "metadata": {},
   "outputs": [],
   "source": []
  },
  {
   "cell_type": "code",
   "execution_count": null,
   "metadata": {},
   "outputs": [],
   "source": []
  },
  {
   "cell_type": "code",
   "execution_count": null,
   "metadata": {},
   "outputs": [],
   "source": []
  },
  {
   "cell_type": "code",
   "execution_count": null,
   "metadata": {},
   "outputs": [],
   "source": []
  },
  {
   "cell_type": "code",
   "execution_count": null,
   "metadata": {},
   "outputs": [],
   "source": []
  },
  {
   "cell_type": "code",
   "execution_count": null,
   "metadata": {},
   "outputs": [],
   "source": []
  },
  {
   "cell_type": "code",
   "execution_count": null,
   "metadata": {},
   "outputs": [],
   "source": []
  },
  {
   "cell_type": "code",
   "execution_count": null,
   "metadata": {},
   "outputs": [],
   "source": []
  },
  {
   "cell_type": "code",
   "execution_count": null,
   "metadata": {},
   "outputs": [],
   "source": []
  },
  {
   "cell_type": "code",
   "execution_count": null,
   "metadata": {},
   "outputs": [],
   "source": []
  },
  {
   "cell_type": "code",
   "execution_count": null,
   "metadata": {},
   "outputs": [],
   "source": []
  },
  {
   "cell_type": "code",
   "execution_count": null,
   "metadata": {},
   "outputs": [],
   "source": []
  },
  {
   "cell_type": "code",
   "execution_count": null,
   "metadata": {},
   "outputs": [],
   "source": []
  },
  {
   "cell_type": "code",
   "execution_count": null,
   "metadata": {},
   "outputs": [],
   "source": []
  }
 ],
 "metadata": {
  "kernelspec": {
   "display_name": "Python 3.7.6 64-bit ('vela': pipenv)",
   "language": "python",
   "name": "python37664bitvelapipenvde09592071074af6a70ce3b1ce38af95"
  },
  "language_info": {
   "codemirror_mode": {
    "name": "ipython",
    "version": 3
   },
   "file_extension": ".py",
   "mimetype": "text/x-python",
   "name": "python",
   "nbconvert_exporter": "python",
   "pygments_lexer": "ipython3",
   "version": "3.7.6"
  }
 },
 "nbformat": 4,
 "nbformat_minor": 4
}
