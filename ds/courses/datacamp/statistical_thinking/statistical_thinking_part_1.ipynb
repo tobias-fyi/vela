{
 "cells": [
  {
   "cell_type": "markdown",
   "metadata": {},
   "source": [
    "# Statistical Thinking in Python\n",
    "\n",
    "---\n",
    "---"
   ]
  },
  {
   "cell_type": "code",
   "execution_count": 2,
   "metadata": {},
   "outputs": [],
   "source": [
    "import numpy as np\n",
    "import pandas as pd\n",
    "import matplotlib.pyplot as plt\n",
    "import seaborn as sns"
   ]
  },
  {
   "cell_type": "markdown",
   "metadata": {},
   "source": [
    "---\n",
    "---\n",
    "\n",
    "## Part 1"
   ]
  },
  {
   "cell_type": "markdown",
   "metadata": {},
   "source": [
    "---\n",
    "\n",
    "### Chapter 1: Graphical EDA\n",
    "\n",
    "* Always label the axes!\n",
    "* Histograms\n",
    "  * A rule of thumb for number of bins is the square root of the number of observations\n",
    "* Bee swarm plots\n",
    "* Empirical cumulative distribution function (ECDF)\n",
    "  * Sorted and plotted as a series of points to show how the data is distributed"
   ]
  },
  {
   "cell_type": "code",
   "execution_count": 27,
   "metadata": {},
   "outputs": [
    {
     "data": {
      "text/plain": [
       "['sepal length (cm)',\n",
       " 'sepal width (cm)',\n",
       " 'petal length (cm)',\n",
       " 'petal width (cm)']"
      ]
     },
     "execution_count": 27,
     "metadata": {},
     "output_type": "execute_result"
    }
   ],
   "source": [
    "from sklearn.datasets import load_iris\n",
    "\n",
    "# data, target = load_iris(return_X_y=True, as_frame=True)\n",
    "data = load_iris()\n",
    "data.feature_names"
   ]
  },
  {
   "cell_type": "code",
   "execution_count": 29,
   "metadata": {},
   "outputs": [
    {
     "data": {
      "text/html": [
       "<div>\n",
       "<style scoped>\n",
       "    .dataframe tbody tr th:only-of-type {\n",
       "        vertical-align: middle;\n",
       "    }\n",
       "\n",
       "    .dataframe tbody tr th {\n",
       "        vertical-align: top;\n",
       "    }\n",
       "\n",
       "    .dataframe thead th {\n",
       "        text-align: right;\n",
       "    }\n",
       "</style>\n",
       "<table border=\"1\" class=\"dataframe\">\n",
       "  <thead>\n",
       "    <tr style=\"text-align: right;\">\n",
       "      <th></th>\n",
       "      <th>sepal length (cm)</th>\n",
       "      <th>sepal width (cm)</th>\n",
       "      <th>petal length (cm)</th>\n",
       "      <th>petal width (cm)</th>\n",
       "      <th>species</th>\n",
       "    </tr>\n",
       "  </thead>\n",
       "  <tbody>\n",
       "    <tr>\n",
       "      <th>0</th>\n",
       "      <td>5.1</td>\n",
       "      <td>3.5</td>\n",
       "      <td>1.4</td>\n",
       "      <td>0.2</td>\n",
       "      <td>Iris-setosa</td>\n",
       "    </tr>\n",
       "    <tr>\n",
       "      <th>1</th>\n",
       "      <td>4.9</td>\n",
       "      <td>3.0</td>\n",
       "      <td>1.4</td>\n",
       "      <td>0.2</td>\n",
       "      <td>Iris-setosa</td>\n",
       "    </tr>\n",
       "    <tr>\n",
       "      <th>2</th>\n",
       "      <td>4.7</td>\n",
       "      <td>3.2</td>\n",
       "      <td>1.3</td>\n",
       "      <td>0.2</td>\n",
       "      <td>Iris-setosa</td>\n",
       "    </tr>\n",
       "    <tr>\n",
       "      <th>3</th>\n",
       "      <td>4.6</td>\n",
       "      <td>3.1</td>\n",
       "      <td>1.5</td>\n",
       "      <td>0.2</td>\n",
       "      <td>Iris-setosa</td>\n",
       "    </tr>\n",
       "    <tr>\n",
       "      <th>4</th>\n",
       "      <td>5.0</td>\n",
       "      <td>3.6</td>\n",
       "      <td>1.4</td>\n",
       "      <td>0.2</td>\n",
       "      <td>Iris-setosa</td>\n",
       "    </tr>\n",
       "  </tbody>\n",
       "</table>\n",
       "</div>"
      ],
      "text/plain": [
       "   sepal length (cm)  sepal width (cm)  petal length (cm)  petal width (cm)  \\\n",
       "0                5.1               3.5                1.4               0.2   \n",
       "1                4.9               3.0                1.4               0.2   \n",
       "2                4.7               3.2                1.3               0.2   \n",
       "3                4.6               3.1                1.5               0.2   \n",
       "4                5.0               3.6                1.4               0.2   \n",
       "\n",
       "       species  \n",
       "0  Iris-setosa  \n",
       "1  Iris-setosa  \n",
       "2  Iris-setosa  \n",
       "3  Iris-setosa  \n",
       "4  Iris-setosa  "
      ]
     },
     "execution_count": 29,
     "metadata": {},
     "output_type": "execute_result"
    }
   ],
   "source": [
    "datapath = \"datasets/iris.data\"\n",
    "iris = pd.read_csv(datapath, header=None, names=data.feature_names + [\"species\"])\n",
    "iris.head()"
   ]
  },
  {
   "cell_type": "code",
   "execution_count": 30,
   "metadata": {},
   "outputs": [
    {
     "data": {
      "text/plain": [
       "Iris-virginica     50\n",
       "Iris-setosa        50\n",
       "Iris-versicolor    50\n",
       "Name: species, dtype: int64"
      ]
     },
     "execution_count": 30,
     "metadata": {},
     "output_type": "execute_result"
    }
   ],
   "source": [
    "iris[\"species\"].value_counts()"
   ]
  },
  {
   "cell_type": "code",
   "execution_count": 42,
   "metadata": {},
   "outputs": [
    {
     "data": {
      "text/plain": [
       "0    4.7\n",
       "1    4.5\n",
       "2    4.9\n",
       "3    4.0\n",
       "4    4.6\n",
       "5    4.5\n",
       "6    4.7\n",
       "7    3.3\n",
       "8    4.6\n",
       "9    3.9\n",
       "Name: petal length (cm), dtype: float64"
      ]
     },
     "execution_count": 42,
     "metadata": {},
     "output_type": "execute_result"
    }
   ],
   "source": [
    "versicolor_petal_length = iris[iris[\"species\"] == \"Iris-versicolor\"][\"petal length (cm)\"].copy().reset_index(drop=True)\n",
    "versicolor_petal_length[:10]"
   ]
  },
  {
   "cell_type": "code",
   "execution_count": 35,
   "metadata": {},
   "outputs": [
    {
     "data": {
      "image/png": "[encoded data removed]",
      "text/plain": [
       "<Figure size 432x288 with 1 Axes>"
      ]
     },
     "metadata": {},
     "output_type": "display_data"
    }
   ],
   "source": [
    "# Set default Seaborn style\n",
    "sns.set()\n",
    "\n",
    "# Plot histogram of versicolor petal lengths\n",
    "plt.hist(versicolor_petal_length)\n",
    "plt.xlabel(\"Versicolor petal length\")\n",
    "plt.ylabel(\"Frequency\")\n",
    "\n",
    "# Show histogram\n",
    "plt.show();"
   ]
  },
  {
   "cell_type": "code",
   "execution_count": 36,
   "metadata": {},
   "outputs": [
    {
     "data": {
      "image/png": "[encoded data removed]",
      "text/plain": [
       "<Figure size 432x288 with 1 Axes>"
      ]
     },
     "metadata": {},
     "output_type": "display_data"
    }
   ],
   "source": [
    "# Plot histogram of versicolor petal lengths\n",
    "_ = plt.hist(versicolor_petal_length)\n",
    "\n",
    "# Label axes\n",
    "_ = plt.xlabel(\"petal length (cm)\")\n",
    "_ = plt.ylabel(\"count\")\n",
    "\n",
    "# Show histogram\n",
    "plt.show()"
   ]
  },
  {
   "cell_type": "code",
   "execution_count": 37,
   "metadata": {},
   "outputs": [
    {
     "data": {
      "image/png": "[encoded data removed]",
      "text/plain": [
       "<Figure size 432x288 with 1 Axes>"
      ]
     },
     "metadata": {},
     "output_type": "display_data"
    }
   ],
   "source": [
    "# Import numpy\n",
    "import numpy as np\n",
    "\n",
    "# Compute number of data points: n_data\n",
    "n_data = len(versicolor_petal_length)\n",
    "\n",
    "# Number of bins is the square root of number of data points: n_bins\n",
    "n_bins = np.sqrt(n_data)\n",
    "\n",
    "# Convert number of bins to integer: n_bins\n",
    "n_bins = int(n_bins)\n",
    "\n",
    "# Plot the histogram\n",
    "_ = plt.hist(versicolor_petal_length, bins=n_bins)\n",
    "\n",
    "# Label axes\n",
    "_ = plt.xlabel('petal length (cm)')\n",
    "_ = plt.ylabel('count')\n",
    "\n",
    "# Show histogram\n",
    "plt.show()"
   ]
  },
  {
   "cell_type": "code",
   "execution_count": 38,
   "metadata": {},
   "outputs": [
    {
     "data": {
      "image/png": "[encoded data removed]",
      "text/plain": [
       "<Figure size 432x288 with 1 Axes>"
      ]
     },
     "metadata": {},
     "output_type": "display_data"
    }
   ],
   "source": [
    "# Make copy of df to match name\n",
    "df = iris.copy()\n",
    "\n",
    "# Create bee swarm plot with Seaborn's default settings\n",
    "_ = sns.swarmplot(x=\"species\", y=\"petal length (cm)\", data=df)\n",
    "\n",
    "# Label the axes\n",
    "_ = plt.xlabel(\"species\")\n",
    "_ = plt.ylabel(\"petal length (cm)\")\n",
    "\n",
    "# Show the plot\n",
    "plt.show()"
   ]
  },
  {
   "cell_type": "code",
   "execution_count": 39,
   "metadata": {},
   "outputs": [],
   "source": [
    "def ecdf(data):\n",
    "    \"\"\"Compute ECDF for a one-dimensional array of measurements.\"\"\"\n",
    "    # Number of data points: n\n",
    "    n = len(data)\n",
    "\n",
    "    # x-data for the ECDF: x\n",
    "    x = np.sort(data)\n",
    "\n",
    "    # y-data for the ECDF: y\n",
    "    y = np.arange(1, n + 1) / n\n",
    "\n",
    "    return x, y"
   ]
  },
  {
   "cell_type": "code",
   "execution_count": 40,
   "metadata": {},
   "outputs": [
    {
     "data": {
      "image/png": "[encoded data removed]",
      "text/plain": [
       "<Figure size 432x288 with 1 Axes>"
      ]
     },
     "metadata": {},
     "output_type": "display_data"
    }
   ],
   "source": [
    "# Compute ECDF for versicolor data: x_vers, y_vers\n",
    "x_vers, y_vers = ecdf(versicolor_petal_length)\n",
    "\n",
    "# Generate plot\n",
    "_ = plt.plot(x_vers, y_vers, marker=\".\", linestyle=\"none\")\n",
    "\n",
    "# Label the axes\n",
    "_ = plt.xlabel(\"petal length (cm)\")\n",
    "_ = plt.ylabel(\"ECDF\")\n",
    "\n",
    "# Display the plot\n",
    "plt.show()"
   ]
  },
  {
   "cell_type": "code",
   "execution_count": 43,
   "metadata": {},
   "outputs": [],
   "source": [
    "# Get other petal lengths data\n",
    "setosa_petal_length = iris[iris[\"species\"] == \"Iris-setosa\"][\"petal length (cm)\"].copy().reset_index(drop=True)\n",
    "virginica_petal_length = iris[iris[\"species\"] == \"Iris-virginica\"][\"petal length (cm)\"].copy().reset_index(drop=True)"
   ]
  },
  {
   "cell_type": "code",
   "execution_count": 44,
   "metadata": {},
   "outputs": [
    {
     "data": {
      "image/png": "[encoded data removed]",
      "text/plain": [
       "<Figure size 432x288 with 1 Axes>"
      ]
     },
     "metadata": {},
     "output_type": "display_data"
    }
   ],
   "source": [
    "# Compute ECDFs\n",
    "x_set, y_set = ecdf(setosa_petal_length)\n",
    "x_vers, y_vers = ecdf(versicolor_petal_length)\n",
    "x_virg, y_virg = ecdf(virginica_petal_length)\n",
    "\n",
    "# Plot all ECDFs on the same plot\n",
    "_ = plt.plot(x_set, y_set, marker=\".\", linestyle=\"none\")\n",
    "_ = plt.plot(x_vers, y_vers, marker=\".\", linestyle=\"none\")\n",
    "_ = plt.plot(x_virg, y_virg, marker=\".\", linestyle=\"none\")\n",
    "\n",
    "# Annotate the plot\n",
    "plt.legend(('setosa', 'versicolor', 'virginica'), loc='lower right')\n",
    "_ = plt.xlabel('petal length (cm)')\n",
    "_ = plt.ylabel('ECDF')\n",
    "\n",
    "# Display the plot\n",
    "plt.show()"
   ]
  },
  {
   "cell_type": "markdown",
   "metadata": {},
   "source": [
    "---\n",
    "\n",
    "### Chapter 2: Quantitative EDA\n",
    "\n",
    "* Mean and median\n",
    "* Percentiles, outliers and box plots\n",
    "  * Box is the middle 50% of data, or the IQR (Interquartile range)\n",
    "  * Whiskers typically extend 1.5 IQR past interquartile range (1.5 above 75% and below 25%)\n",
    "* Variance and standard deviation\n",
    "  * Calculate variance and stdev by hand, plus with numpy\n",
    "* Covariance and the Pearson correlation coefficient\n",
    "  * Covariance is the distance of a point from the mean of two separate groups\n",
    "  * Pearson correlation coeffition is covariance divided by stdev of x and y\n",
    "  * Or, it is the variability due to codependence divided by the independent variability"
   ]
  },
  {
   "cell_type": "code",
   "execution_count": 45,
   "metadata": {},
   "outputs": [
    {
     "name": "stdout",
     "output_type": "stream",
     "text": [
      "I. versicolor: 4.26 cm\n"
     ]
    }
   ],
   "source": [
    "# Compute the mean: mean_length_vers\n",
    "mean_length_vers = np.mean(versicolor_petal_length)\n",
    "\n",
    "# Print the result with some nice formatting\n",
    "print('I. versicolor:', mean_length_vers, 'cm')"
   ]
  },
  {
   "cell_type": "code",
   "execution_count": 46,
   "metadata": {},
   "outputs": [
    {
     "name": "stdout",
     "output_type": "stream",
     "text": [
      "[3.3    4.     4.35   4.6    4.9775]\n"
     ]
    }
   ],
   "source": [
    "# Specify array of percentiles: percentiles\n",
    "percentiles = np.array([2.5, 25, 50, 75, 97.5])\n",
    "\n",
    "# Compute percentiles: ptiles_vers\n",
    "ptiles_vers = np.percentile(versicolor_petal_length, percentiles)\n",
    "\n",
    "# Print the result\n",
    "print(ptiles_vers)"
   ]
  },
  {
   "cell_type": "code",
   "execution_count": 47,
   "metadata": {},
   "outputs": [
    {
     "data": {
      "image/png": "[encoded data removed]",
      "text/plain": [
       "<Figure size 432x288 with 1 Axes>"
      ]
     },
     "metadata": {},
     "output_type": "display_data"
    }
   ],
   "source": [
    "# Plot the ECDF\n",
    "_ = plt.plot(x_vers, y_vers, '.')\n",
    "_ = plt.xlabel('petal length (cm)')\n",
    "_ = plt.ylabel('ECDF')\n",
    "\n",
    "# Overlay percentiles as red diamonds.\n",
    "_ = plt.plot(ptiles_vers, percentiles/100, marker='D', color='red',\n",
    "         linestyle=\"none\")\n",
    "\n",
    "# Show the plot\n",
    "plt.show()"
   ]
  },
  {
   "cell_type": "code",
   "execution_count": 48,
   "metadata": {},
   "outputs": [
    {
     "data": {
      "image/png": "[encoded data removed]",
      "text/plain": [
       "<Figure size 432x288 with 1 Axes>"
      ]
     },
     "metadata": {},
     "output_type": "display_data"
    }
   ],
   "source": [
    "# Create box plot with Seaborn's default settings\n",
    "_ = sns.boxplot(x=\"species\", y=\"petal length (cm)\", data=df)\n",
    "\n",
    "# Label the axes\n",
    "_ = plt.xlabel(\"species\")\n",
    "_ = plt.ylabel(\"petal length (cm)\")\n",
    "\n",
    "# Show the plot\n",
    "plt.show()"
   ]
  },
  {
   "cell_type": "code",
   "execution_count": 49,
   "metadata": {},
   "outputs": [
    {
     "name": "stdout",
     "output_type": "stream",
     "text": [
      "0.21640000000000004 0.21640000000000004\n"
     ]
    }
   ],
   "source": [
    "# Array of differences to mean: differences\n",
    "differences = versicolor_petal_length - np.mean(versicolor_petal_length)\n",
    "\n",
    "# Square the differences: diff_sq\n",
    "diff_sq = differences ** 2\n",
    "\n",
    "# Compute the mean square difference: variance_explicit\n",
    "variance_explicit = np.mean(diff_sq)\n",
    "\n",
    "# Compute the variance using NumPy: variance_np\n",
    "variance_np = np.var(versicolor_petal_length)\n",
    "\n",
    "# Print the results\n",
    "print(variance_explicit, variance_np)"
   ]
  },
  {
   "cell_type": "code",
   "execution_count": 50,
   "metadata": {},
   "outputs": [
    {
     "name": "stdout",
     "output_type": "stream",
     "text": [
      "0.4651881339845203\n",
      "0.4651881339845203\n"
     ]
    }
   ],
   "source": [
    "# Compute the variance: variance\n",
    "variance = np.var(versicolor_petal_length)\n",
    "\n",
    "# Print the square root of the variance\n",
    "print(np.sqrt(variance))\n",
    "\n",
    "# Print the standard deviation\n",
    "print(np.std(versicolor_petal_length))"
   ]
  },
  {
   "cell_type": "code",
   "execution_count": 52,
   "metadata": {},
   "outputs": [
    {
     "data": {
      "image/png": "[encoded data removed]",
      "text/plain": [
       "<Figure size 432x288 with 1 Axes>"
      ]
     },
     "metadata": {},
     "output_type": "display_data"
    }
   ],
   "source": [
    "# Get vers petal width\n",
    "versicolor_petal_width = iris[iris[\"species\"] == \"Iris-versicolor\"][\"petal width (cm)\"].copy().reset_index(drop=True)\n",
    "\n",
    "# Make a scatter plot\n",
    "_ = plt.plot(versicolor_petal_length, versicolor_petal_width, marker=\".\", linestyle=\"none\")\n",
    "\n",
    "# Label the axes\n",
    "_ = plt.xlabel(\"petal length (cm)\")\n",
    "_ = plt.ylabel(\"petal width (cm)\")\n",
    "\n",
    "# Show the result\n",
    "plt.show()"
   ]
  },
  {
   "cell_type": "code",
   "execution_count": 53,
   "metadata": {},
   "outputs": [
    {
     "name": "stdout",
     "output_type": "stream",
     "text": [
      "[[0.22081633 0.07310204]\n",
      " [0.07310204 0.03910612]]\n",
      "0.07310204081632653\n"
     ]
    }
   ],
   "source": [
    "# Compute the covariance matrix: covariance_matrix\n",
    "covariance_matrix = np.cov(versicolor_petal_length, versicolor_petal_width)\n",
    "\n",
    "# Print covariance matrix\n",
    "print(covariance_matrix)\n",
    "\n",
    "# Extract covariance of length and width of petals: petal_cov\n",
    "petal_cov = covariance_matrix[0][1]\n",
    "\n",
    "# Print the length/width covariance\n",
    "print(petal_cov)"
   ]
  },
  {
   "cell_type": "code",
   "execution_count": 54,
   "metadata": {},
   "outputs": [
    {
     "name": "stdout",
     "output_type": "stream",
     "text": [
      "0.7866680885228169\n"
     ]
    }
   ],
   "source": [
    "def pearson_r(x, y):\n",
    "    \"\"\"Compute Pearson correlation coefficient between two arrays.\"\"\"\n",
    "    # Compute correlation matrix: corr_mat\n",
    "    corr_mat = np.corrcoef(x, y)\n",
    "\n",
    "    # Return entry [0,1]\n",
    "    return corr_mat[0,1]\n",
    "\n",
    "# Compute Pearson correlation coefficient for I. versicolor: r\n",
    "r = pearson_r(versicolor_petal_length, versicolor_petal_width)\n",
    "\n",
    "# Print the result\n",
    "print(r)"
   ]
  },
  {
   "cell_type": "markdown",
   "metadata": {},
   "source": [
    "---\n",
    "\n",
    "### Chapter 3: Probabilistic Thinking - Discrete Variables\n",
    "\n",
    "* Probabilistic logic and statistical inference\n",
    "* Random number generators and hacker statistics\n",
    "  * Hacker statistics\n",
    "    * Use simulated repeated measurements to compute probabilities\n",
    "    * Simulate coin flips (Bernoulli trial - 0/1 true/false)\n",
    "  * Hacker stats probabilities\n",
    "    * Determine how to simulate data\n",
    "    * Simulate many many times\n",
    "    * Probability is approximately the fraction of trials with the outcome of interest\n",
    "  * Bernoulli trials\n",
    "* The Binomial distribution\n",
    "  * Probability mass function (PMF): a set of probabilities of discrete outcomes\n",
    "* Poisson processes and the Poisson distribution\n",
    "  * Poisson process: timing of next event is independent of when previous event happened\n",
    "  * Poisson distribution\n",
    "  * With rare events (low p, high n) the Binomial distribution is Poisson"
   ]
  },
  {
   "cell_type": "code",
   "execution_count": 3,
   "metadata": {},
   "outputs": [
    {
     "data": {
      "image/png": "[encoded data removed]",
      "text/plain": [
       "<Figure size 432x288 with 1 Axes>"
      ]
     },
     "metadata": {
      "needs_background": "light"
     },
     "output_type": "display_data"
    }
   ],
   "source": [
    "# Seed the random number generator\n",
    "np.random.seed(42)\n",
    "\n",
    "# Initialize random numbers: random_numbers\n",
    "random_numbers = np.empty(100000)\n",
    "\n",
    "# Generate random numbers by looping over range(100000)\n",
    "for i in range(100000):\n",
    "    random_numbers[i] = np.random.random()\n",
    "\n",
    "# Plot a histogram\n",
    "_ = plt.hist(random_numbers)\n",
    "\n",
    "# Show the plot\n",
    "plt.show()"
   ]
  },
  {
   "cell_type": "code",
   "execution_count": 4,
   "metadata": {},
   "outputs": [],
   "source": [
    "def perform_bernoulli_trials(n, p):\n",
    "    \"\"\"Perform n Bernoulli trials with success probability p\n",
    "    and return number of successes.\"\"\"\n",
    "    # Initialize number of successes: n_success\n",
    "    n_success = 0\n",
    "\n",
    "    # Perform trials\n",
    "    for i in range(n):\n",
    "        # Choose random number between zero and one: random_number\n",
    "        random_number = np.random.random()\n",
    "\n",
    "        # If less than p, it's a success so add one to n_success\n",
    "        if random_number < p:\n",
    "            n_success += 1\n",
    "\n",
    "    return n_success"
   ]
  },
  {
   "cell_type": "code",
   "execution_count": 6,
   "metadata": {},
   "outputs": [
    {
     "data": {
      "image/png": "[encoded data removed]",
      "text/plain": [
       "<Figure size 432x288 with 1 Axes>"
      ]
     },
     "metadata": {
      "needs_background": "light"
     },
     "output_type": "display_data"
    }
   ],
   "source": [
    "# Seed random number generator\n",
    "np.random.seed(42)\n",
    "\n",
    "# Initialize the number of defaults: n_defaults\n",
    "n_defaults = np.empty(1000)\n",
    "\n",
    "# Compute the number of defaults\n",
    "for i in range(len(n_defaults)):\n",
    "    n_defaults[i] = perform_bernoulli_trials(100, 0.05)\n",
    "\n",
    "\n",
    "# Plot the histogram with default number of bins; label your axes\n",
    "_ = plt.hist(n_defaults, density=True)\n",
    "_ = plt.xlabel('number of defaults out of 100 loans')\n",
    "_ = plt.ylabel('probability')\n",
    "\n",
    "# Show the plot\n",
    "plt.show()"
   ]
  },
  {
   "cell_type": "code",
   "execution_count": 8,
   "metadata": {},
   "outputs": [
    {
     "data": {
      "image/png": "[encoded data removed]",
      "text/plain": [
       "<Figure size 432x288 with 1 Axes>"
      ]
     },
     "metadata": {
      "needs_background": "light"
     },
     "output_type": "display_data"
    },
    {
     "name": "stdout",
     "output_type": "stream",
     "text": [
      "Probability of losing money = 0.022\n"
     ]
    }
   ],
   "source": [
    "# Compute ECDF: x, y\n",
    "x, y = ecdf(n_defaults)\n",
    "\n",
    "# Plot the ECDF with labeled axes\n",
    "plt.plot(x, y, marker=\".\", linestyle=\"none\")\n",
    "plt.xlabel(\"number of defaults\")\n",
    "plt.ylabel(\"ECDF\")\n",
    "\n",
    "# Show the plot\n",
    "plt.show();\n",
    "\n",
    "# Compute the number of 100-loan simulations with 10 or more defaults: n_lose_money\n",
    "n_lose_money = np.sum(n_defaults >= 10)\n",
    "\n",
    "# Compute and print probability of losing money\n",
    "print('Probability of losing money =', n_lose_money / len(n_defaults))"
   ]
  },
  {
   "cell_type": "code",
   "execution_count": 9,
   "metadata": {},
   "outputs": [
    {
     "data": {
      "image/png": "[encoded data removed]",
      "text/plain": [
       "<Figure size 432x288 with 1 Axes>"
      ]
     },
     "metadata": {
      "needs_background": "light"
     },
     "output_type": "display_data"
    }
   ],
   "source": [
    "# Take 10,000 samples out of the binomial distribution: n_defaults\n",
    "n_defaults = np.random.binomial(100, 0.05, 10000)\n",
    "\n",
    "# Compute CDF: x, y\n",
    "x, y = ecdf(n_defaults)\n",
    "\n",
    "# Plot the CDF with axis labels\n",
    "plt.plot(x, y, marker=\".\", linestyle=\"none\")\n",
    "plt.xlabel(\"defaults\")\n",
    "plt.ylabel(\"ECDF\")\n",
    "\n",
    "# Show the plot\n",
    "plt.show();"
   ]
  },
  {
   "cell_type": "code",
   "execution_count": 11,
   "metadata": {},
   "outputs": [
    {
     "data": {
      "image/png": "[encoded data removed]",
      "text/plain": [
       "<Figure size 432x288 with 1 Axes>"
      ]
     },
     "metadata": {
      "needs_background": "light"
     },
     "output_type": "display_data"
    }
   ],
   "source": [
    "# Compute bin edges: bins\n",
    "bins = np.arange(0, max(n_defaults) + 1.5) - 0.5\n",
    "\n",
    "# Generate histogram\n",
    "plt.hist(n_defaults, bins=bins, density=True)\n",
    "\n",
    "# Label axes\n",
    "plt.xlabel(\"number of defaults\")\n",
    "plt.ylabel(\"frequency\")\n",
    "\n",
    "# Show the plot\n",
    "plt.show();"
   ]
  },
  {
   "cell_type": "markdown",
   "metadata": {},
   "source": [
    "##### Poisson Process and Distribution"
   ]
  },
  {
   "cell_type": "code",
   "execution_count": 12,
   "metadata": {},
   "outputs": [
    {
     "name": "stdout",
     "output_type": "stream",
     "text": [
      "Poisson:      10.0145 3.1713545607516043\n",
      "n = 20 Binom: 10.0592 2.23523944131272\n",
      "n = 100 Binom: 10.0441 2.9942536949964675\n",
      "n = 1000 Binom: 10.0129 3.139639085946026\n"
     ]
    }
   ],
   "source": [
    "# Draw 10,000 samples out of Poisson distribution: samples_poisson\n",
    "samples_poisson = np.random.poisson(10, 10000)\n",
    "\n",
    "# Print the mean and standard deviation\n",
    "print('Poisson:     ', np.mean(samples_poisson),\n",
    "                       np.std(samples_poisson))\n",
    "\n",
    "# Specify values of n and p to consider for Binomial: n, p\n",
    "n = [20, 100, 1000]\n",
    "p = [0.5, 0.1, 0.01]\n",
    "\n",
    "# Draw 10,000 samples for each n,p pair: samples_binomial\n",
    "for i in range(3):\n",
    "    samples_binomial = np.random.binomial(n[i], p[i], 10000)\n",
    "\n",
    "    # Print results\n",
    "    print('n =', n[i], 'Binom:', np.mean(samples_binomial),\n",
    "                                 np.std(samples_binomial))"
   ]
  },
  {
   "cell_type": "code",
   "execution_count": 13,
   "metadata": {},
   "outputs": [
    {
     "name": "stdout",
     "output_type": "stream",
     "text": [
      "Probability of seven or more no-hitters: 0.0072\n"
     ]
    }
   ],
   "source": [
    "# Draw 10,000 samples out of Poisson distribution: n_nohitters\n",
    "n_nohitters = np.random.poisson(251/115, 10000)\n",
    "\n",
    "# Compute number of samples that are seven or greater: n_large\n",
    "n_large = np.sum(n_nohitters >= 7)\n",
    "\n",
    "# Compute probability of getting seven or more: p_large\n",
    "p_large = n_large / 10000\n",
    "\n",
    "# Print the result\n",
    "print('Probability of seven or more no-hitters:', p_large)"
   ]
  },
  {
   "cell_type": "code",
   "execution_count": null,
   "metadata": {},
   "outputs": [],
   "source": []
  },
  {
   "cell_type": "code",
   "execution_count": null,
   "metadata": {},
   "outputs": [],
   "source": []
  },
  {
   "cell_type": "code",
   "execution_count": null,
   "metadata": {},
   "outputs": [],
   "source": []
  },
  {
   "cell_type": "code",
   "execution_count": null,
   "metadata": {},
   "outputs": [],
   "source": []
  },
  {
   "cell_type": "code",
   "execution_count": null,
   "metadata": {},
   "outputs": [],
   "source": []
  },
  {
   "cell_type": "markdown",
   "metadata": {},
   "source": [
    "---\n",
    "\n",
    "### Chapter 4: Probabilistic Thinking - Continuous Variables\n",
    "\n",
    "* Probability density functions\n",
    "  * Continuous analog to the probability mass function (PMF)\n",
    "* The Normal Distribution"
   ]
  },
  {
   "cell_type": "markdown",
   "metadata": {},
   "source": [
    "Normal Distribution"
   ]
  },
  {
   "cell_type": "code",
   "execution_count": 71,
   "metadata": {},
   "outputs": [
    {
     "data": {
      "image/png": "[encoded data removed]",
      "text/plain": [
       "<Figure size 432x288 with 1 Axes>"
      ]
     },
     "metadata": {
      "needs_background": "light"
     },
     "output_type": "display_data"
    }
   ],
   "source": [
    "# Draw 100000 samples from Normal distribution with stds of interest: samples_std1, samples_std3, samples_std10\n",
    "samples_std1 = np.random.normal(20, 1, 100000)\n",
    "samples_std3 = np.random.normal(20, 3, 100000)\n",
    "samples_std10 = np.random.normal(20, 10, 100000)\n",
    "\n",
    "# Make histograms\n",
    "_ = plt.hist(samples_std1, bins=100, density=True, histtype=\"step\")\n",
    "_ = plt.hist(samples_std3, bins=100, density=True, histtype=\"step\")\n",
    "_ = plt.hist(samples_std10, bins=100, density=True, histtype=\"step\")\n",
    "\n",
    "# Make a legend, set limits and show plot\n",
    "_ = plt.legend(('std = 1', 'std = 3', 'std = 10'))\n",
    "plt.ylim(-0.01, 0.42)\n",
    "plt.show()"
   ]
  },
  {
   "cell_type": "code",
   "execution_count": 72,
   "metadata": {},
   "outputs": [],
   "source": [
    "def ecdf(data):\n",
    "    \"\"\"Compute ECDF for a one-dimensional array of measurements.\"\"\"\n",
    "    # Number of data points: n\n",
    "    n = len(data)\n",
    "\n",
    "    # x-data for the ECDF: x\n",
    "    x = np.sort(data)\n",
    "\n",
    "    # y-data for the ECDF: y\n",
    "    y = np.arange(1, n + 1) / n\n",
    "\n",
    "    return x, y"
   ]
  },
  {
   "cell_type": "code",
   "execution_count": 73,
   "metadata": {},
   "outputs": [
    {
     "data": {
      "image/png": "[encoded data removed]",
      "text/plain": [
       "<Figure size 432x288 with 1 Axes>"
      ]
     },
     "metadata": {
      "needs_background": "light"
     },
     "output_type": "display_data"
    }
   ],
   "source": [
    "# Generate CDFs\n",
    "x_std1, y_std1 = ecdf(samples_std1)\n",
    "x_std3, y_std3 = ecdf(samples_std3)\n",
    "x_std10, y_std10 = ecdf(samples_std10)\n",
    "\n",
    "# Plot CDFs\n",
    "_ = plt.plot(x_std1, y_std1, marker=\".\", linestyle=\"none\")\n",
    "_ = plt.plot(x_std3, y_std3, marker=\".\", linestyle=\"none\")\n",
    "_ = plt.plot(x_std10, y_std10, marker=\".\", linestyle=\"none\")\n",
    "\n",
    "# Make a legend and show the plot\n",
    "_ = plt.legend(('std = 1', 'std = 3', 'std = 10'), loc='lower right')\n",
    "plt.show()"
   ]
  },
  {
   "cell_type": "markdown",
   "metadata": {},
   "source": [
    "Belmont horse racing times"
   ]
  },
  {
   "cell_type": "code",
   "execution_count": 93,
   "metadata": {},
   "outputs": [
    {
     "name": "stdout",
     "output_type": "stream",
     "text": [
      "(91, 8)\n"
     ]
    },
    {
     "data": {
      "text/html": [
       "<div>\n",
       "<style scoped>\n",
       "    .dataframe tbody tr th:only-of-type {\n",
       "        vertical-align: middle;\n",
       "    }\n",
       "\n",
       "    .dataframe tbody tr th {\n",
       "        vertical-align: top;\n",
       "    }\n",
       "\n",
       "    .dataframe thead th {\n",
       "        text-align: right;\n",
       "    }\n",
       "</style>\n",
       "<table border=\"1\" class=\"dataframe\">\n",
       "  <thead>\n",
       "    <tr style=\"text-align: right;\">\n",
       "      <th></th>\n",
       "      <th>Year</th>\n",
       "      <th>Winner</th>\n",
       "      <th>Jockey</th>\n",
       "      <th>Trainer</th>\n",
       "      <th>Owner</th>\n",
       "      <th>Time</th>\n",
       "      <th>Track</th>\n",
       "      <th>miles</th>\n",
       "    </tr>\n",
       "  </thead>\n",
       "  <tbody>\n",
       "    <tr>\n",
       "      <th>0</th>\n",
       "      <td>2016</td>\n",
       "      <td>Creator</td>\n",
       "      <td>Irad Ortiz, Jr</td>\n",
       "      <td>Steve Asmussen</td>\n",
       "      <td>WinStar Farm LLC</td>\n",
       "      <td>2:28.51</td>\n",
       "      <td>Belmont</td>\n",
       "      <td>1.5</td>\n",
       "    </tr>\n",
       "    <tr>\n",
       "      <th>1</th>\n",
       "      <td>2015</td>\n",
       "      <td>American Pharoah</td>\n",
       "      <td>Victor Espinoza</td>\n",
       "      <td>Bob Baffert</td>\n",
       "      <td>Zayat Stables, LLC</td>\n",
       "      <td>2:26.65</td>\n",
       "      <td>Belmont</td>\n",
       "      <td>1.5</td>\n",
       "    </tr>\n",
       "    <tr>\n",
       "      <th>2</th>\n",
       "      <td>2014</td>\n",
       "      <td>Tonalist</td>\n",
       "      <td>Joel Rosario</td>\n",
       "      <td>Christophe Clement</td>\n",
       "      <td>Robert S. Evans</td>\n",
       "      <td>2:28.52</td>\n",
       "      <td>Belmont</td>\n",
       "      <td>1.5</td>\n",
       "    </tr>\n",
       "    <tr>\n",
       "      <th>3</th>\n",
       "      <td>2013</td>\n",
       "      <td>Palace Malice</td>\n",
       "      <td>Mike Smith</td>\n",
       "      <td>Todd Pletcher</td>\n",
       "      <td>Dogwood Stable</td>\n",
       "      <td>2:30.70</td>\n",
       "      <td>Belmont</td>\n",
       "      <td>1.5</td>\n",
       "    </tr>\n",
       "    <tr>\n",
       "      <th>4</th>\n",
       "      <td>2012</td>\n",
       "      <td>Union Rags</td>\n",
       "      <td>John Velazquez</td>\n",
       "      <td>Michael Matz</td>\n",
       "      <td>Phyllis M. Wyeth</td>\n",
       "      <td>2:30.42</td>\n",
       "      <td>Belmont</td>\n",
       "      <td>1.5</td>\n",
       "    </tr>\n",
       "  </tbody>\n",
       "</table>\n",
       "</div>"
      ],
      "text/plain": [
       "   Year            Winner           Jockey             Trainer  \\\n",
       "0  2016           Creator   Irad Ortiz, Jr      Steve Asmussen   \n",
       "1  2015  American Pharoah  Victor Espinoza         Bob Baffert   \n",
       "2  2014          Tonalist     Joel Rosario  Christophe Clement   \n",
       "3  2013     Palace Malice       Mike Smith       Todd Pletcher   \n",
       "4  2012        Union Rags   John Velazquez        Michael Matz   \n",
       "\n",
       "                Owner     Time    Track  miles  \n",
       "0    WinStar Farm LLC  2:28.51  Belmont    1.5  \n",
       "1  Zayat Stables, LLC  2:26.65  Belmont    1.5  \n",
       "2     Robert S. Evans  2:28.52  Belmont    1.5  \n",
       "3      Dogwood Stable  2:30.70  Belmont    1.5  \n",
       "4    Phyllis M. Wyeth  2:30.42  Belmont    1.5  "
      ]
     },
     "execution_count": 93,
     "metadata": {},
     "output_type": "execute_result"
    }
   ],
   "source": [
    "datapath = \"assets/data/belmont.csv\"\n",
    "belmont_raw = pd.read_csv(datapath)\n",
    "print(belmont_raw.shape)\n",
    "belmont_raw.head()"
   ]
  },
  {
   "cell_type": "code",
   "execution_count": 94,
   "metadata": {},
   "outputs": [
    {
     "data": {
      "text/html": [
       "<div>\n",
       "<style scoped>\n",
       "    .dataframe tbody tr th:only-of-type {\n",
       "        vertical-align: middle;\n",
       "    }\n",
       "\n",
       "    .dataframe tbody tr th {\n",
       "        vertical-align: top;\n",
       "    }\n",
       "\n",
       "    .dataframe thead th {\n",
       "        text-align: right;\n",
       "    }\n",
       "</style>\n",
       "<table border=\"1\" class=\"dataframe\">\n",
       "  <thead>\n",
       "    <tr style=\"text-align: right;\">\n",
       "      <th></th>\n",
       "      <th>Year</th>\n",
       "      <th>Winner</th>\n",
       "      <th>Jockey</th>\n",
       "      <th>Trainer</th>\n",
       "      <th>Owner</th>\n",
       "      <th>Time</th>\n",
       "      <th>Track</th>\n",
       "      <th>miles</th>\n",
       "    </tr>\n",
       "  </thead>\n",
       "  <tbody>\n",
       "    <tr>\n",
       "      <th>0</th>\n",
       "      <td>2016</td>\n",
       "      <td>Creator</td>\n",
       "      <td>Irad Ortiz, Jr</td>\n",
       "      <td>Steve Asmussen</td>\n",
       "      <td>WinStar Farm LLC</td>\n",
       "      <td>148.51</td>\n",
       "      <td>Belmont</td>\n",
       "      <td>1.5</td>\n",
       "    </tr>\n",
       "    <tr>\n",
       "      <th>1</th>\n",
       "      <td>2015</td>\n",
       "      <td>American Pharoah</td>\n",
       "      <td>Victor Espinoza</td>\n",
       "      <td>Bob Baffert</td>\n",
       "      <td>Zayat Stables, LLC</td>\n",
       "      <td>146.65</td>\n",
       "      <td>Belmont</td>\n",
       "      <td>1.5</td>\n",
       "    </tr>\n",
       "    <tr>\n",
       "      <th>2</th>\n",
       "      <td>2014</td>\n",
       "      <td>Tonalist</td>\n",
       "      <td>Joel Rosario</td>\n",
       "      <td>Christophe Clement</td>\n",
       "      <td>Robert S. Evans</td>\n",
       "      <td>148.52</td>\n",
       "      <td>Belmont</td>\n",
       "      <td>1.5</td>\n",
       "    </tr>\n",
       "    <tr>\n",
       "      <th>3</th>\n",
       "      <td>2013</td>\n",
       "      <td>Palace Malice</td>\n",
       "      <td>Mike Smith</td>\n",
       "      <td>Todd Pletcher</td>\n",
       "      <td>Dogwood Stable</td>\n",
       "      <td>150.70</td>\n",
       "      <td>Belmont</td>\n",
       "      <td>1.5</td>\n",
       "    </tr>\n",
       "    <tr>\n",
       "      <th>4</th>\n",
       "      <td>2012</td>\n",
       "      <td>Union Rags</td>\n",
       "      <td>John Velazquez</td>\n",
       "      <td>Michael Matz</td>\n",
       "      <td>Phyllis M. Wyeth</td>\n",
       "      <td>150.42</td>\n",
       "      <td>Belmont</td>\n",
       "      <td>1.5</td>\n",
       "    </tr>\n",
       "  </tbody>\n",
       "</table>\n",
       "</div>"
      ],
      "text/plain": [
       "   Year            Winner           Jockey             Trainer  \\\n",
       "0  2016           Creator   Irad Ortiz, Jr      Steve Asmussen   \n",
       "1  2015  American Pharoah  Victor Espinoza         Bob Baffert   \n",
       "2  2014          Tonalist     Joel Rosario  Christophe Clement   \n",
       "3  2013     Palace Malice       Mike Smith       Todd Pletcher   \n",
       "4  2012        Union Rags   John Velazquez        Michael Matz   \n",
       "\n",
       "                Owner    Time    Track  miles  \n",
       "0    WinStar Farm LLC  148.51  Belmont    1.5  \n",
       "1  Zayat Stables, LLC  146.65  Belmont    1.5  \n",
       "2     Robert S. Evans  148.52  Belmont    1.5  \n",
       "3      Dogwood Stable  150.70  Belmont    1.5  \n",
       "4    Phyllis M. Wyeth  150.42  Belmont    1.5  "
      ]
     },
     "execution_count": 94,
     "metadata": {},
     "output_type": "execute_result"
    }
   ],
   "source": [
    "belmont_time = belmont_raw[\"Time\"].str.split(\":\", expand=True)\n",
    "belmont_time[\"mins\"] = belmont_time[0].astype(int) * 60 + belmont_time[1].astype(float)\n",
    "belmont_raw[\"Time\"] = belmont_time[\"mins\"]\n",
    "belmont_raw.head()"
   ]
  },
  {
   "cell_type": "code",
   "execution_count": 95,
   "metadata": {},
   "outputs": [],
   "source": [
    "belmont = belmont_raw.copy()"
   ]
  },
  {
   "cell_type": "code",
   "execution_count": 97,
   "metadata": {},
   "outputs": [
    {
     "data": {
      "text/html": [
       "<div>\n",
       "<style scoped>\n",
       "    .dataframe tbody tr th:only-of-type {\n",
       "        vertical-align: middle;\n",
       "    }\n",
       "\n",
       "    .dataframe tbody tr th {\n",
       "        vertical-align: top;\n",
       "    }\n",
       "\n",
       "    .dataframe thead th {\n",
       "        text-align: right;\n",
       "    }\n",
       "</style>\n",
       "<table border=\"1\" class=\"dataframe\">\n",
       "  <thead>\n",
       "    <tr style=\"text-align: right;\">\n",
       "      <th></th>\n",
       "      <th>Year</th>\n",
       "      <th>Winner</th>\n",
       "      <th>Jockey</th>\n",
       "      <th>Trainer</th>\n",
       "      <th>Owner</th>\n",
       "      <th>Time</th>\n",
       "      <th>Track</th>\n",
       "      <th>miles</th>\n",
       "    </tr>\n",
       "  </thead>\n",
       "  <tbody>\n",
       "    <tr>\n",
       "      <th>0</th>\n",
       "      <td>2016</td>\n",
       "      <td>Creator</td>\n",
       "      <td>Irad Ortiz, Jr</td>\n",
       "      <td>Steve Asmussen</td>\n",
       "      <td>WinStar Farm LLC</td>\n",
       "      <td>148.51</td>\n",
       "      <td>Belmont</td>\n",
       "      <td>1.5</td>\n",
       "    </tr>\n",
       "    <tr>\n",
       "      <th>1</th>\n",
       "      <td>2015</td>\n",
       "      <td>American Pharoah</td>\n",
       "      <td>Victor Espinoza</td>\n",
       "      <td>Bob Baffert</td>\n",
       "      <td>Zayat Stables, LLC</td>\n",
       "      <td>146.65</td>\n",
       "      <td>Belmont</td>\n",
       "      <td>1.5</td>\n",
       "    </tr>\n",
       "    <tr>\n",
       "      <th>2</th>\n",
       "      <td>2014</td>\n",
       "      <td>Tonalist</td>\n",
       "      <td>Joel Rosario</td>\n",
       "      <td>Christophe Clement</td>\n",
       "      <td>Robert S. Evans</td>\n",
       "      <td>148.52</td>\n",
       "      <td>Belmont</td>\n",
       "      <td>1.5</td>\n",
       "    </tr>\n",
       "    <tr>\n",
       "      <th>3</th>\n",
       "      <td>2013</td>\n",
       "      <td>Palace Malice</td>\n",
       "      <td>Mike Smith</td>\n",
       "      <td>Todd Pletcher</td>\n",
       "      <td>Dogwood Stable</td>\n",
       "      <td>150.70</td>\n",
       "      <td>Belmont</td>\n",
       "      <td>1.5</td>\n",
       "    </tr>\n",
       "    <tr>\n",
       "      <th>4</th>\n",
       "      <td>2012</td>\n",
       "      <td>Union Rags</td>\n",
       "      <td>John Velazquez</td>\n",
       "      <td>Michael Matz</td>\n",
       "      <td>Phyllis M. Wyeth</td>\n",
       "      <td>150.42</td>\n",
       "      <td>Belmont</td>\n",
       "      <td>1.5</td>\n",
       "    </tr>\n",
       "  </tbody>\n",
       "</table>\n",
       "</div>"
      ],
      "text/plain": [
       "   Year            Winner           Jockey             Trainer  \\\n",
       "0  2016           Creator   Irad Ortiz, Jr      Steve Asmussen   \n",
       "1  2015  American Pharoah  Victor Espinoza         Bob Baffert   \n",
       "2  2014          Tonalist     Joel Rosario  Christophe Clement   \n",
       "3  2013     Palace Malice       Mike Smith       Todd Pletcher   \n",
       "4  2012        Union Rags   John Velazquez        Michael Matz   \n",
       "\n",
       "                Owner    Time    Track  miles  \n",
       "0    WinStar Farm LLC  148.51  Belmont    1.5  \n",
       "1  Zayat Stables, LLC  146.65  Belmont    1.5  \n",
       "2     Robert S. Evans  148.52  Belmont    1.5  \n",
       "3      Dogwood Stable  150.70  Belmont    1.5  \n",
       "4    Phyllis M. Wyeth  150.42  Belmont    1.5  "
      ]
     },
     "execution_count": 97,
     "metadata": {},
     "output_type": "execute_result"
    }
   ],
   "source": [
    "belmont_no_outliers = belmont[(belmont[\"Year\"] != 1970) | (belmont[\"Year\"] != 1973)]\n",
    "belmont_no_outliers.head()"
   ]
  },
  {
   "cell_type": "code",
   "execution_count": 99,
   "metadata": {},
   "outputs": [
    {
     "data": {
      "image/png": "[encoded data removed]",
      "text/plain": [
       "<Figure size 432x288 with 1 Axes>"
      ]
     },
     "metadata": {
      "needs_background": "light"
     },
     "output_type": "display_data"
    }
   ],
   "source": [
    "# Compute mean and standard deviation: mu, sigma\n",
    "mu = belmont_no_outliers[\"Time\"].mean()\n",
    "sigma = belmont_no_outliers[\"Time\"].std()\n",
    "\n",
    "# Sample out of a normal distribution with this mu and sigma: samples\n",
    "samples = np.random.normal(mu, sigma, 10000)\n",
    "\n",
    "# Get the CDF of the samples and of the data\n",
    "x_theor, y_theor = ecdf(samples)\n",
    "x, y = ecdf(belmont_no_outliers[\"Time\"])\n",
    "\n",
    "# Plot the CDFs and show the plot\n",
    "_ = plt.plot(x_theor, y_theor)\n",
    "_ = plt.plot(x, y, marker='.', linestyle='none')\n",
    "_ = plt.xlabel('Belmont winning time (sec.)')\n",
    "_ = plt.ylabel('CDF')\n",
    "plt.show()"
   ]
  },
  {
   "cell_type": "code",
   "execution_count": 103,
   "metadata": {},
   "outputs": [
    {
     "name": "stdout",
     "output_type": "stream",
     "text": [
      "Probability of besting Secretariat: 0.001655\n"
     ]
    }
   ],
   "source": [
    "# Take a million samples out of the Normal distribution: samples\n",
    "samples = np.random.normal(mu, sigma, 1000000)\n",
    "\n",
    "# Compute the fraction that are faster than 144 seconds: prob\n",
    "prob = np.sum(samples <= 144) / len(samples)\n",
    "\n",
    "# Print the result\n",
    "print('Probability of besting Secretariat:', prob)"
   ]
  },
  {
   "cell_type": "markdown",
   "metadata": {},
   "source": [
    "##### The Exponential Distribution\n",
    "\n",
    "The waiting times between arrivals of a Poisson process is exponentially distributed.\n",
    "\n",
    "> What about two different Poisson processes?\n",
    "\n",
    "Total waiting time is the sum of the times waited for each."
   ]
  },
  {
   "cell_type": "code",
   "execution_count": 104,
   "metadata": {},
   "outputs": [],
   "source": [
    "def successive_poisson(tau1, tau2, size=1):\n",
    "    \"\"\"Compute time for arrival of 2 successive Poisson processes.\"\"\"\n",
    "    # Draw samples out of first exponential distribution: t1\n",
    "    t1 = np.random.exponential(tau1, size)\n",
    "\n",
    "    # Draw samples out of second exponential distribution: t2\n",
    "    t2 = np.random.exponential(tau2, size)\n",
    "\n",
    "    return t1 + t2"
   ]
  },
  {
   "cell_type": "code",
   "execution_count": 105,
   "metadata": {},
   "outputs": [
    {
     "data": {
      "image/png": "[encoded data removed]",
      "text/plain": [
       "<Figure size 432x288 with 1 Axes>"
      ]
     },
     "metadata": {
      "needs_background": "light"
     },
     "output_type": "display_data"
    }
   ],
   "source": [
    "# Draw samples of waiting times: waiting_times\n",
    "waiting_times = successive_poisson(764, 715, 100000)\n",
    "\n",
    "# Make the histogram\n",
    "_ = plt.hist(waiting_times, bins=100, density=True, histtype=\"step\")\n",
    "\n",
    "# Label axes\n",
    "_ = plt.xlabel(\"time\")\n",
    "_ = plt.ylabel(\"PDF\")\n",
    "\n",
    "# Show the plot\n",
    "plt.show()"
   ]
  },
  {
   "cell_type": "markdown",
   "metadata": {},
   "source": [
    "---\n",
    "---\n",
    "\n",
    "## Part 2"
   ]
  },
  {
   "cell_type": "markdown",
   "metadata": {},
   "source": []
  },
  {
   "cell_type": "code",
   "execution_count": null,
   "metadata": {},
   "outputs": [],
   "source": []
  },
  {
   "cell_type": "code",
   "execution_count": null,
   "metadata": {},
   "outputs": [],
   "source": []
  },
  {
   "cell_type": "code",
   "execution_count": null,
   "metadata": {},
   "outputs": [],
   "source": []
  },
  {
   "cell_type": "code",
   "execution_count": null,
   "metadata": {},
   "outputs": [],
   "source": []
  },
  {
   "cell_type": "code",
   "execution_count": null,
   "metadata": {},
   "outputs": [],
   "source": []
  },
  {
   "cell_type": "code",
   "execution_count": null,
   "metadata": {},
   "outputs": [],
   "source": []
  },
  {
   "cell_type": "code",
   "execution_count": null,
   "metadata": {},
   "outputs": [],
   "source": []
  },
  {
   "cell_type": "code",
   "execution_count": null,
   "metadata": {},
   "outputs": [],
   "source": []
  },
  {
   "cell_type": "code",
   "execution_count": null,
   "metadata": {},
   "outputs": [],
   "source": []
  },
  {
   "cell_type": "code",
   "execution_count": null,
   "metadata": {},
   "outputs": [],
   "source": []
  },
  {
   "cell_type": "code",
   "execution_count": null,
   "metadata": {},
   "outputs": [],
   "source": []
  },
  {
   "cell_type": "code",
   "execution_count": null,
   "metadata": {},
   "outputs": [],
   "source": []
  },
  {
   "cell_type": "code",
   "execution_count": null,
   "metadata": {},
   "outputs": [],
   "source": []
  },
  {
   "cell_type": "code",
   "execution_count": null,
   "metadata": {},
   "outputs": [],
   "source": []
  },
  {
   "cell_type": "code",
   "execution_count": null,
   "metadata": {},
   "outputs": [],
   "source": []
  }
 ],
 "metadata": {
  "kernelspec": {
   "display_name": "Python 3.7.6 64-bit ('vela': pipenv)",
   "language": "python",
   "name": "python37664bitvelapipenvde09592071074af6a70ce3b1ce38af95"
  },
  "language_info": {
   "codemirror_mode": {
    "name": "ipython",
    "version": 3
   },
   "file_extension": ".py",
   "mimetype": "text/x-python",
   "name": "python",
   "nbconvert_exporter": "python",
   "pygments_lexer": "ipython3",
   "version": "3.7.6"
  }
 },
 "nbformat": 4,
 "nbformat_minor": 4
}
