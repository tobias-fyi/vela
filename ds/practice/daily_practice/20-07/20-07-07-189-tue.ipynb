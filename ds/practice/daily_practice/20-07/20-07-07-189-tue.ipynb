{
 "cells": [
  {
   "cell_type": "markdown",
   "metadata": {},
   "source": [
    "# 20-07-07: Daily Practice"
   ]
  },
  {
   "cell_type": "markdown",
   "metadata": {},
   "source": [
    "---\n",
    "---\n",
    "\n",
    "## Daily practices\n",
    "\n",
    "* [ ] [Practice & learn](#Practice-&-learn)\n",
    "  * [x] Coding, algorithms & data structures\n",
    "  * [x] Data science: access, manipulation, analysis, visualization\n",
    "  * [ ] Engineering: SQL, PySpark, APIs, TDD, OOP\n",
    "  * [ ] Machine learning: Scikit-learn, TensorFlow, PyTorch\n",
    "  * [ ] Interview questions (out loud)\n",
    "* [ ] [Meta-data: reading & writing](#Meta-data:-reading-&-writing)\n",
    "  * [ ] Blog\n",
    "  * [ ] Social media discussions\n",
    "* [x] [2-Hour Job Search](#2-Hour-Job-Search)\n",
    "  * [x] LAMP List\n",
    "  * [x] Online networking"
   ]
  },
  {
   "cell_type": "markdown",
   "metadata": {},
   "source": [
    "---\n",
    "---\n",
    "\n",
    "## Practice & learn"
   ]
  },
  {
   "cell_type": "markdown",
   "metadata": {},
   "source": [
    "---\n",
    "\n",
    "### Coding, algorithms & data structures"
   ]
  },
  {
   "cell_type": "markdown",
   "metadata": {},
   "source": [
    "#### [Permutations (medium)](https://leetcode.com/problems/permutations/)\n",
    "\n",
    "Given a collection of distinct integers, return all possible permutations.\n",
    "\n",
    "Example:\n",
    "\n",
    "    Input: [1,2,3]\n",
    "    Output:\n",
    "    [\n",
    "      [1,2,3],\n",
    "      [1,3,2],\n",
    "      [2,1,3],\n",
    "      [2,3,1],\n",
    "      [3,1,2],\n",
    "      [3,2,1]\n",
    "    ]"
   ]
  },
  {
   "cell_type": "code",
   "execution_count": null,
   "metadata": {},
   "outputs": [],
   "source": [
    "nums = [1, 2, 3]\n",
    "\n",
    "nums_out = [\n",
    "  [1, 2, 3],\n",
    "  [1, 3, 2],\n",
    "  [2, 1, 3],\n",
    "  [2, 3, 1],\n",
    "  [3, 1, 2],\n",
    "  [3, 2, 1],\n",
    "]\n"
   ]
  },
  {
   "cell_type": "code",
   "execution_count": null,
   "metadata": {},
   "outputs": [],
   "source": [
    "from typing import List\n",
    "\n",
    "def permute(nums: List[int]) -> List[List[int]]:\n",
    "    # === Base case: nums is length 1 === #\n",
    "    if len(nums) == 1:\n",
    "        return nums\n",
    "    \n",
    "    for i in range(len(nums)):\n",
    "        nums2 = nums.copy()\n",
    "        # Freeze up thru index i - i.e. create new list\n",
    "        frozen = [nums2.pop(i)]\n",
    "        # Permute recursively on the rest of the numbers\n",
    "        # TODO: figure out how to return list from first recursive call\n",
    "        new_nums = permute(nums2)\n",
    "        print(frozen + new_nums)\n",
    "\n",
    "nums = [1, 2, 3]\n",
    "permute(nums)"
   ]
  },
  {
   "cell_type": "code",
   "execution_count": null,
   "metadata": {},
   "outputs": [],
   "source": []
  },
  {
   "cell_type": "markdown",
   "metadata": {},
   "source": [
    "---\n",
    "\n",
    "### Data science"
   ]
  },
  {
   "cell_type": "markdown",
   "metadata": {},
   "source": [
    "#### Data manipulation with pandas\n",
    "\n",
    "##### Chapter 4: Creating and visualizing DataFrames (review)\n",
    "\n",
    "Topics reviewed:\n",
    "\n",
    "* Visualization\n",
    "  * Bar plots\n",
    "  * Line plots\n",
    "  * Scatter plots\n",
    "* Handling missing values\n",
    "* Creating DataFrames\n",
    "* Reading and writing CSVs"
   ]
  },
  {
   "cell_type": "markdown",
   "metadata": {},
   "source": [
    "---\n",
    "\n",
    "### Engineering\n",
    "\n",
    "* SQL\n",
    "* PySpark\n",
    "* APIs\n",
    "* Test-driven development\n",
    "* Object-oriented practice"
   ]
  },
  {
   "cell_type": "markdown",
   "metadata": {},
   "source": [
    "I decided on the next project I'm going to build, which will involve all of the above, and much more."
   ]
  },
  {
   "cell_type": "markdown",
   "metadata": {},
   "source": [
    "---\n",
    "---\n",
    "\n",
    "## 2-Hour Job Search"
   ]
  },
  {
   "cell_type": "markdown",
   "metadata": {},
   "source": [
    "### Networking\n",
    "\n",
    "I reached out to a handful of connections to reconnect and inquire about potential leads, and posted another of my Workshop articles to LinkedIn and Facebook.\n",
    "\n",
    "#### Post Here\n",
    "\n",
    "Anyone who's used Reddit can attest to the fact that there is a subreddit for literally everything and anything. And that the site can be a very powerful tool, useful for far more than just entertainment—if used correctly.\n",
    "\n",
    "Post Here is a project I worked on with the goal of taking the guesswork out of posting to Reddit. I worked on the recommender system that analyzes prospective posts and recommends the most appropriate subreddits for each.\n",
    "\n",
    "This project taught me a lot about scope management. The team didn't have the resources to train a system on all 1,000 subreddits in the dataset (let alone the multitude of others not contained in the dataset), nor to deploy such a large model if we had done so. And as was the case with my other Build Week projects, we only had 4 days of work to train, build, and deploy.\n",
    "\n",
    "More details in my Workshop:\n",
    "\n",
    "https://tobias.fyi/workshop/post-here/"
   ]
  },
  {
   "cell_type": "markdown",
   "metadata": {},
   "source": [
    "### Informational\n",
    "\n",
    "Had an informal informational interview that was very...informational. And he's just a great guy, willing and able to help me out during this process."
   ]
  },
  {
   "cell_type": "markdown",
   "metadata": {},
   "source": []
  },
  {
   "cell_type": "markdown",
   "metadata": {},
   "source": []
  },
  {
   "cell_type": "markdown",
   "metadata": {},
   "source": []
  },
  {
   "cell_type": "markdown",
   "metadata": {},
   "source": []
  },
  {
   "cell_type": "markdown",
   "metadata": {},
   "source": []
  },
  {
   "cell_type": "markdown",
   "metadata": {},
   "source": []
  }
 ],
 "metadata": {
  "kernelspec": {
   "display_name": "Python 3.7.6 64-bit ('vela': pipenv)",
   "language": "python",
   "name": "python37664bitvelapipenvde09592071074af6a70ce3b1ce38af95"
  },
  "language_info": {
   "codemirror_mode": {
    "name": "ipython",
    "version": 3
   },
   "file_extension": ".py",
   "mimetype": "text/x-python",
   "name": "python",
   "nbconvert_exporter": "python",
   "pygments_lexer": "ipython3",
   "version": "3.7.6"
  }
 },
 "nbformat": 4,
 "nbformat_minor": 4
}
