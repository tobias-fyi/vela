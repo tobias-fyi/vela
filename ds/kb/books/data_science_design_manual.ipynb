{
 "cells": [
  {
   "cell_type": "markdown",
   "metadata": {},
   "source": [
    "# The Data Science Design Manual\n",
    "\n",
    "Notes by Tobias Reaper"
   ]
  },
  {
   "cell_type": "markdown",
   "metadata": {},
   "source": [
    "---\n",
    "\n",
    "## Introduction\n",
    "\n",
    "Fundamental principles of becoming a good data scientist:\n",
    "\n",
    "* Valuing doing the simple things right\n",
    "  * Understanding the application domain\n",
    "  * Cleaning and integrating relevant data sources\n",
    "  * Presenting your results clearly to others\n",
    "* Developing mathematical intuition\n",
    "  * Particularly statistics and linear algebra\n",
    "  * Why the concepts were developed, how they are useful, and when they work best\n",
    "* Think like a computer scientist, but act like a statistician"
   ]
  },
  {
   "cell_type": "markdown",
   "metadata": {},
   "source": [
    "---\n",
    "\n",
    "## Chapter 1: What is Data Science?\n",
    "\n",
    "### 1.2: Asking Interesting Questions from Data\n",
    "\n",
    "Good data scientists have wide-ranging interests. They read the newspaper every day to get a broader perspective on what is exciting. They understand that the world is an interesting place. Knowing a little something about everything equips them to play in other people's backyards. They are brave enough to get out of their comfort zones a bit, and driven to learn more once they get there.\n",
    "\n",
    "#### Baseball\n",
    "\n",
    "First example / exercise is baseball. Here are (interesting?) questions I came up with:\n",
    "\n",
    "- Who are the most expensive players, and how did they perform compared with the least expensive? Or compared with the median?\n",
    "- How much does a home run cost for the most/least expensive players?\n",
    "- Do height and weight determine the length of a player's career?\n",
    "- Are the most valuable players those who both bat and throw well / are well-rounded?\n",
    "- Do star players help a team win championships?\n",
    "\n",
    "Some interesting demographic ones:\n",
    "\n",
    "- How often do people return to live in the same place where they grew up?\n",
    "- Do lefties live longer than righties?\n",
    "\n",
    "#### IMDb\n",
    "\n"
   ]
  },
  {
   "cell_type": "markdown",
   "metadata": {},
   "source": [
    "---\n",
    "\n",
    "## Chapter 2: Mathematical Preliminaries\n",
    "\n",
    "### 2.1 Probability\n",
    "\n",
    "> Probability theory provides a formal framework for reasoning about the likelihood of events.\n",
    "\n",
    "- An experiment is a procedure yielding one of a set of possible outcomes\n",
    "  - On-going example: tossing two 6-sided dice, one red and one blue\n",
    "- A _sample space_ $S$ is the set of possible outcomes of an experiment\n",
    "  - In ex: there are 36 possible outcomes. \n",
    "- An _event_ $E$ is a specified subset of the outcomes of an experiment\n",
    "- THe _probability of an outcome_ $s$, denoted $p(s)$, is a number with two properties\n",
    "  - For each outcome $s$ in sample space $S$, $0 \\leq p(s) \\leq 1$\n",
    "  - The sum of probabilities of all outcomes adds to one\n",
    "- The _probability of an event_ $E$ is the sum of the probabilities of the outcomes of the experiment\n",
    "  - An easier method of calculating the probability is via the complement of $E$: $P(E) = 1 - P(\\bar{E})$\n",
    "- A _random variable_ $V$ is a numerical function on the outcomes of a probability space\n",
    "- The _expected value_ of a random variable $V$ defined on sample space $S$ is ...\n",
    "  - the probability of the event times its respective value, summed over all events\n",
    "\n",
    "$E(V) = \\sum p(s) \\cdot V(s)$\n",
    "\n",
    "#### 2.1.1 Probability vs. Statistics\n",
    "\n",
    "- Probability deals with predicting the likelihood of future events; theoretical math\n",
    "  - Probability theory enables us to find the consequences of a given ideal world\n",
    "- Statistics involves the analysis of the frequency of past events; applied math\n",
    "  - Statistical theory enables us to measure the extent to which our world is ideal\n",
    "\n",
    "#### 2.1.2 Compound Events and Independence\n",
    "\n",
    "- Intersection\n",
    "  - The outcomes in common between both events $A$ and $B$ are the intersection: $A \\cap B$\n",
    "  - Written as $A \\cap B = A - (S - B)$\n",
    "- Union\n",
    "  - The outcomes in which either $A$ or $B$ appear are the union: $A \\cup B$\n",
    "- Events $A$ and $B$ are independent if and only if ${P(A \\cap B) = P(A) \\times P(B)}$\n",
    "  - prob of intersection of A and B is equal to prob of A times prob of B\n",
    "\n",
    "#### 2.1.3 Conditional Probability\n",
    "\n",
    "- The conditional probability of $A$ given $B$, $P(A \\mid B)$ is defined as\n",
    "\n",
    "$P(A \\mid B) = \\frac{P(A \\cap B)}{P(B)}$\n",
    "\n",
    "Example:\n",
    "\n",
    "- Event $A$ is that at least one of the two dice be an even number\n",
    "- Event $B$ is the sum of the two dice is either a 7 or 11"
   ]
  },
  {
   "source": [],
   "cell_type": "markdown",
   "metadata": {}
  },
  {
   "cell_type": "code",
   "execution_count": null,
   "metadata": {},
   "outputs": [],
   "source": []
  },
  {
   "cell_type": "code",
   "execution_count": null,
   "metadata": {},
   "outputs": [],
   "source": []
  },
  {
   "cell_type": "code",
   "execution_count": null,
   "metadata": {},
   "outputs": [],
   "source": []
  },
  {
   "cell_type": "code",
   "execution_count": null,
   "metadata": {},
   "outputs": [],
   "source": []
  }
 ],
 "metadata": {
  "kernelspec": {
   "display_name": "Python 3.7.6 64-bit ('vela': pipenv)",
   "language": "python",
   "name": "python37664bitvelapipenvde09592071074af6a70ce3b1ce38af95"
  },
  "language_info": {
   "codemirror_mode": {
    "name": "ipython",
    "version": 3
   },
   "file_extension": ".py",
   "mimetype": "text/x-python",
   "name": "python",
   "nbconvert_exporter": "python",
   "pygments_lexer": "ipython3",
   "version": "3.7.6"
  }
 },
 "nbformat": 4,
 "nbformat_minor": 4
}