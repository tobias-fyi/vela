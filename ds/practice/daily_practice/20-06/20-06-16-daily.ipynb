{
 "cells": [
  {
   "cell_type": "markdown",
   "metadata": {},
   "source": [
    "# 20-06-16: Daily Data Practice"
   ]
  },
  {
   "cell_type": "markdown",
   "metadata": {},
   "source": [
    "---\n",
    "\n",
    "## Daily Practices\n",
    "\n",
    "* Practice with DS/ML tools and processes\n",
    "  * [fast.ai course](https://course.fast.ai/)\n",
    "  * HackerRank SQL or Packt SQL Data Analytics\n",
    "  * Hands-on ML | NLP In Action | Dive Into Deep Learning\n",
    "    * Read, code along, take notes\n",
    "    * _test yourself on the concepts_ — i.e. do all the chapter exercises\n",
    "  * Try to hit benchmark accuracies with [UCI ML datasets](https://archive.ics.uci.edu/ml/index.php) or Kaggle\n",
    "* Meta Data: Review and write\n",
    "  * Focus on a topic, review notes and resources, write a blog post about it\n",
    "* 2-Hour Job Search\n",
    "* Interviewing\n",
    "  * Behavioral questions and scenarios\n",
    "  * Business case walk-throughs\n",
    "  * Hot-seat DS-related topics for recall practice (under pressure)"
   ]
  },
  {
   "cell_type": "markdown",
   "metadata": {},
   "source": [
    "---\n",
    "\n",
    "## Coding\n",
    "\n",
    "> Work through practice problems on HackerRank or similar"
   ]
  },
  {
   "cell_type": "markdown",
   "metadata": {},
   "source": [
    "### Python"
   ]
  },
  {
   "cell_type": "markdown",
   "metadata": {},
   "source": [
    "#### [Diagonal difference](https://www.hackerrank.com/challenges/diagonal-difference/problem)\n",
    "\n",
    "Given a square matrix, calculate the absolute difference between the sums of its diagonals."
   ]
  },
  {
   "cell_type": "code",
   "execution_count": 8,
   "metadata": {},
   "outputs": [],
   "source": [
    "# Complete the 'diagonalDifference' function below.\n",
    "# The function is expected to return an INTEGER.\n",
    "# The function accepts 2D_INTEGER_ARRAY arr as parameter.\n",
    "\n",
    "def diagonalDifference(arr):\n",
    "    # First thing to do is to get the sums of the main diagonal...or is it?\n",
    "    # One question to answer is whether I can simply subtract the values as I go\n",
    "    # i.e. for the first row, subtract the first value from the last\n",
    "    # And get the same result as finding the sums of the diagonals first\n",
    "\n",
    "    # Ideally, I'd loop through the rows only once, getting both values with each step\n",
    "    # Though a potentially easier way would be to loop twice:\n",
    "    # Once forward and once backward\n",
    "    \n",
    "    # === Get main diagonal sum === #\n",
    "    # === Get secondary diag sum === #\n",
    "    # === Get absolute difference === #\n",
    "\n",
    "    pass"
   ]
  },
  {
   "cell_type": "code",
   "execution_count": 1,
   "metadata": {},
   "outputs": [],
   "source": [
    "# === Test it out === #\n",
    "arr1 = [\n",
    "    [11, 2, 4],\n",
    "    [4, 5, 6],\n",
    "    [10, 8, -12],\n",
    "]"
   ]
  },
  {
   "cell_type": "code",
   "execution_count": 7,
   "metadata": {},
   "outputs": [
    {
     "data": {
      "text/plain": [
       "4"
      ]
     },
     "execution_count": 7,
     "metadata": {},
     "output_type": "execute_result"
    }
   ],
   "source": [
    "# === Get main diagonal sum === #\n",
    "main_sum = 0\n",
    "for i in range(len(arr1)):\n",
    "    main_sum += arr1[i][i]\n",
    "    \n",
    "main_sum  # 4"
   ]
  },
  {
   "cell_type": "code",
   "execution_count": 12,
   "metadata": {},
   "outputs": [
    {
     "data": {
      "text/plain": [
       "19"
      ]
     },
     "execution_count": 12,
     "metadata": {},
     "output_type": "execute_result"
    }
   ],
   "source": [
    "# === Get secondary diag sum === #\n",
    "other_sum = 0\n",
    "for i in range(len(arr1)):\n",
    "    other_sum += arr1[::-1][i][i]\n",
    "\n",
    "other_sum  # 19"
   ]
  },
  {
   "cell_type": "code",
   "execution_count": 13,
   "metadata": {},
   "outputs": [
    {
     "data": {
      "text/plain": [
       "15"
      ]
     },
     "execution_count": 13,
     "metadata": {},
     "output_type": "execute_result"
    }
   ],
   "source": [
    "# === Get absolute difference === #\n",
    "subtotal = main_sum - other_sum\n",
    "if subtotal < 0:\n",
    "    subtotal *= -1\n",
    "    \n",
    "subtotal"
   ]
  },
  {
   "cell_type": "code",
   "execution_count": 15,
   "metadata": {},
   "outputs": [
    {
     "data": {
      "text/plain": [
       "15"
      ]
     },
     "execution_count": 15,
     "metadata": {},
     "output_type": "execute_result"
    }
   ],
   "source": [
    "def diagonalDifference(arr):\n",
    "    \"\"\"Given a square matrix, calculate the absolute\n",
    "    difference between the sums of its diagonals.\n",
    "    \"\"\"\n",
    "    # === Get main diagonal sum === #\n",
    "    main_sum = 0\n",
    "    for i in range(len(arr)):\n",
    "        main_sum += arr[i][i]\n",
    "\n",
    "    # === Get secondary diag sum === #\n",
    "    other_sum = 0\n",
    "    for i in range(len(arr)):\n",
    "        # This is same as above except with order of inner arrays reversed\n",
    "        other_sum += arr[::-1][i][i]\n",
    "    \n",
    "    # === Get absolute difference === #\n",
    "    subtotal = main_sum - other_sum\n",
    "    if subtotal < 0:  # If negative, make positive\n",
    "        subtotal *= -1\n",
    "\n",
    "    return subtotal\n",
    "\n",
    "diagonalDifference(arr1)"
   ]
  },
  {
   "cell_type": "markdown",
   "metadata": {},
   "source": [
    "#### [Plus Minus](https://www.hackerrank.com/challenges/plus-minus/problem)\n",
    "\n",
    "Given an array of integers, calculate the fractions of its elements that are positive, negative, and are zeros. Print the decimal value of each fraction on a new line."
   ]
  },
  {
   "cell_type": "code",
   "execution_count": 19,
   "metadata": {},
   "outputs": [],
   "source": [
    "# Complete the plusMinus function below.\n",
    "\n",
    "def plusMinus(arr):\n",
    "    # My initial thought is to simply use three separate counters\n",
    "    # and iterate through the list counting which category each\n",
    "    # item falls into, then printing them\n",
    "    \n",
    "    # === Set up counters === #\n",
    "    total = len(arr)\n",
    "    pos  = 0\n",
    "    neg  = 0\n",
    "    zero = 0\n",
    "    \n",
    "    # === Count items === #\n",
    "    for num in arr:\n",
    "        if num > 0:\n",
    "            pos += 1\n",
    "        elif num < 0:\n",
    "            neg += 1\n",
    "        else:\n",
    "            zero += 1\n",
    "    \n",
    "    # === Calculate fractions === #\n",
    "    pos_frac = pos / total\n",
    "    neg_frac = neg / total\n",
    "    zero_frac = zero / total\n",
    "    \n",
    "    # === Print === #\n",
    "    for item in [pos_frac, neg_frac, zero_frac]:\n",
    "        print(item)"
   ]
  },
  {
   "cell_type": "code",
   "execution_count": 17,
   "metadata": {},
   "outputs": [
    {
     "name": "stdout",
     "output_type": "stream",
     "text": [
      "0.5\n",
      "0.3333333333333333\n",
      "0.16666666666666666\n"
     ]
    }
   ],
   "source": [
    "# === Test it out === #\n",
    "arr1 = [-4, 3, -9, 0, 4, 1]\n",
    "plusMinus(arr1)"
   ]
  },
  {
   "cell_type": "code",
   "execution_count": 18,
   "metadata": {},
   "outputs": [
    {
     "name": "stdout",
     "output_type": "stream",
     "text": [
      "0.5\n",
      "0.5\n",
      "0.0\n"
     ]
    }
   ],
   "source": [
    "# === Test it out with one category having zero === #\n",
    "arr2 = [-9, 13, -9, 10, 4, -11, 2, 4, -2, -67]\n",
    "plusMinus(arr2)"
   ]
  },
  {
   "cell_type": "markdown",
   "metadata": {},
   "source": [
    "#### [Staircase](https://www.hackerrank.com/challenges/staircase/problem)\n",
    "\n",
    "This problem will be for next time."
   ]
  },
  {
   "cell_type": "markdown",
   "metadata": {},
   "source": [
    "### SQL"
   ]
  },
  {
   "cell_type": "markdown",
   "metadata": {},
   "source": [
    "#### [Weather Observation Station 6](https://www.hackerrank.com/challenges/weather-observation-station-6/problem)\n",
    "\n",
    "Query the list of CITY names starting with vowels (i.e., a, e, i, o, or u) from STATION. Your result cannot contain duplicates.\n",
    "\n",
    "```SQL\n",
    "SELECT DISTINCT CITY\n",
    "FROM STATION\n",
    "WHERE\n",
    "       CITY LIKE 'a%'\n",
    "    OR CITY LIKE 'e%'\n",
    "    OR CITY LIKE 'i%'\n",
    "    OR CITY LIKE 'o%'\n",
    "    OR CITY LIKE 'u%';\n",
    "```\n",
    "\n",
    "That works, but it's rather wordy and ugly - lot's of repeated code. Maybe try combining `LIKE` and `IN`?\n",
    "\n",
    "```SQL\n",
    "SELECT DISTINCT CITY\n",
    "FROM STATION\n",
    "WHERE CITY LIKE IN ('a%', 'e%', 'i%', 'o%', 'u%');\n",
    "```\n",
    "\n",
    "Nope. That doesn't work. There is no easy syntax to get that combination of functinality. Unfortunate."
   ]
  },
  {
   "cell_type": "markdown",
   "metadata": {},
   "source": [
    "#### [Weather Observation Station 7](https://www.hackerrank.com/challenges/weather-observation-station-7/problem)\n",
    "\n",
    "Query the list of CITY names ending with vowels (a, e, i, o, u) from STATION. Your result cannot contain duplicates.\n",
    "\n",
    "```SQL\n",
    "SELECT DISTINCT CITY\n",
    "FROM STATION\n",
    "WHERE\n",
    "       CITY LIKE '%a'\n",
    "    OR CITY LIKE '%e'\n",
    "    OR CITY LIKE '%i'\n",
    "    OR CITY LIKE '%o'\n",
    "    OR CITY LIKE '%u';\n",
    "```"
   ]
  },
  {
   "cell_type": "markdown",
   "metadata": {},
   "source": [
    "#### [Weather Observation Station 8](https://www.hackerrank.com/challenges/weather-observation-station-8/problem)\n",
    "\n",
    "Query the list of CITY names from STATION which have vowels (i.e., a, e, i, o, and u) as both their first and last characters. Your result cannot contain duplicates.\n",
    "\n",
    "> I'll leave off here - save this one for next time"
   ]
  },
  {
   "cell_type": "markdown",
   "metadata": {},
   "source": [
    "---\n",
    "\n",
    "## Meta Data: Review and Write\n",
    "\n",
    "> Focus on a topic or project, learn/review the concepts, write (a blog post) about it"
   ]
  },
  {
   "cell_type": "markdown",
   "metadata": {},
   "source": [
    "### FYI\n",
    "\n",
    "Today I'm finishing the FYI (about) page on my site, tobias.fyi. This page will have my \"Repertoire\", or my list of skills (and maybe experiences at some point). And it will have a little bit of my backstory, such as how I got into data science and how I came to have my current basic belief system.\n",
    "\n"
   ]
  },
  {
   "cell_type": "markdown",
   "metadata": {},
   "source": [
    "### Repertoire\n",
    "\n",
    "* Languages\n",
    "  * Python\n",
    "  * SQL\n",
    "  * HTML/CSS/Sass\n",
    "  * Jinja2\n",
    "  * Markdown\n",
    "  * JavaScript\n",
    "  * Bash\n",
    "  * YAML\n",
    "  * JSON\n",
    "* Data manipulation\n",
    "  * Pandas\n",
    "  * NumPy\n",
    "* Data visualization\n",
    "  * Matplotlib\n",
    "  * Seaborn\n",
    "  * Plotly\n",
    "    * Dash\n",
    "* Machine learning\n",
    "  * Scikit-learn\n",
    "  * XGBoost\n",
    "* Deep learning\n",
    "  * TensorFlow\n",
    "  * PyTorch\n",
    "* Data storage and access\n",
    "  * SQL\n",
    "  * PostgreSQL\n",
    "  * AWS RDS\n",
    "  * JSON\n",
    "  * MongoDB\n",
    "* Apps and APIs\n",
    "  * Django\n",
    "    * Wagtail\n",
    "  * Flask\n",
    "* Platforms and tools\n",
    "  * Linux\n",
    "    * Ubuntu\n",
    "  * Jupyter\n",
    "  * Docker\n",
    "    * Docker-Compose\n",
    "  * Environments\n",
    "    * Anaconda\n",
    "    * Pip and Pipenv\n",
    "    * Docker\n",
    "  * AWS\n",
    "    * Sagemaker\n",
    "    * Elastic Beanstalk\n",
    "    * EC2\n",
    "    * RDS\n",
    "  * Heroku\n",
    "  * Google\n",
    "    * Colaboratory\n",
    "    * GSuite\n",
    "    * GCP\n",
    "    * Analytics\n",
    "* Algorithms and data structures\n",
    "  * Arrays\n",
    "  * Stacks and Queues\n",
    "  * Hash tables\n",
    "    * Blockchain"
   ]
  },
  {
   "cell_type": "markdown",
   "metadata": {},
   "source": [
    "### Have Data, Will Science\n",
    "\n",
    "> A brief intro to how and why I got into data science\n",
    "\n",
    "As I mention on the [home page](https://tobias.fyi/), I'm an avid creator and consumer of many types of data.\n",
    "\n",
    "Of course, in today's day and age that in and of itself is nothing special. Us humans and our devices are continually creating a steady stream of data—our exhaust as we conduct our increasingly digital activities.\n",
    "\n",
    "Thus far, however, I believe much of this is going to waste. Or, worse yet, being mismanaged or used to deceive.\n",
    "\n",
    "We have yet to really scratch the surface of what can be done with the data we can create.\n",
    "\n",
    "Broadly, this is what inspires me and drives me to study data science. I'm fascinated by and passionate about exploring all the potential benefits that technology (much of it dependent on data) can bring to humanity, and beyond.\n",
    "\n",
    "(Just to be clear, I'm using \"data science\" here as an umbrella term that includes most forms of what many would call \"artificial intelligence\", such as machine learning and neural networks, along with data engineering, visualization, and analysis.)\n",
    "\n",
    "Data science (and good data, of course) can be used to optimize processes, describe complex phenomenon, learn about the past, and make inferences into the unknown. I see it as a way of augmenting what our brains are doing all the time: gathering and analyzing data to discover and describe the space around us in order to make decisions in uncertain circumstances.\n",
    "\n",
    "I believe the innovations to come from the field of data science will allow us to learn a great deal more about ourselves and the universe in which we live, making life better for everyone along the way. Indeed, it is difficult to think of a field or industry that would _not_ benefit from certain innovations in data science.\n",
    "\n",
    "I want to take part in that innovation.\n",
    "\n",
    "As with any tool, it can be just as powerful a force for bad as for good, if not more so. The important innovations to come will change us. Whether it hurts us or helps us is mostly up to us (there's always a bit of luck involved; uncertainty).\n",
    "\n",
    "I want to do my part in moving the needle toward the latter."
   ]
  },
  {
   "cell_type": "markdown",
   "metadata": {},
   "source": [
    "### A Bit of Backstory\n",
    "\n",
    "That was all very high-level and grandiose. Now it's time to get a little more specific, first with the tools I've used, the experiences that led me to where I am, and the skills I've picked up along the way.\n",
    "\n",
    "#### A Lifelong Endeavor\n",
    "\n",
    "I was born and raised by the beach in Santa Barbara, CA, also known as Paradise. Amazingly, my parents, both busy and successful doctors, found the time and energy to homeschool my two brothers and I throughout our childhood and into our teen years. They did not do this for any other reason than to give us the education they thought we deserved—one which they did not believe public school could provide.\n",
    "\n",
    "We went on frequent family field trips to destinations domestic and foreign in order to supplement—and help guide—our education.\n",
    "\n",
    "The positive memories of driving our trusty RV up and down and around the West Coast are the foundation upon which much of my early life was built. We would be gone for weeks at a time, visiting friends in Northern California or family in British Columbia, camping with other homeschooler families, skiing in the Sierras (my dad put me on skis as soon as I could stand up on my own, and probably even before that), and/or surfing in Mexico or wherever else we could find waves.\n",
    "\n",
    "Our old RV, Smooky, had a bumper sticker that stated, \"The world is our classroom\". As cliché as it may sound, this is how my family has always lived, instilling in me a deep passion for learning.\n",
    "\n",
    "My brothers and I grew up learning for the sake of learning; learning to sate our curiosities, whatever they may be. Learning was all around me at all times during my early formative years, and as a result, learning continues to be all around me at all times, regardless of if I'm in school or not.\n",
    "\n",
    "For me, learning truly is a life-long endeavor."
   ]
  },
  {
   "cell_type": "markdown",
   "metadata": {},
   "source": [
    "#### Resource Planning\n",
    "\n",
    "I got a BS in Economics from Cal Poly, SLO, where I competed as a student-athlete on the Swimming & Diving team (I was a diver). After I graduated, I worked for a couple of years at IQMS, a company that develops enterprise resource planning (ERP) software for manufacturers. I completed their 10-week training program and started as a tech support guru, moving into a position as an on-site implementation consultant within a year.\n",
    "\n",
    "My job was to ensure each of my client's transition from their legacy to the IQMS system was as smooth as possible. To do so, I had to understand their business from many different angles, learning and documenting their data flows. This position gave me a great deal of very practical experience working with data. The whole purpose of an ERP system is to make processes more efficient using data, and I was responsible for making it do just that.\n",
    "\n",
    "I recently completed a full-time, 9-month intensive training program in data science, data engineering, machine learning, deep learning, and computer science. I worked on several projects throughout those 9 months (which you can also check out in my Workshop):\n",
    "\n",
    "* Trash Panda\n",
    "* Post Here\n",
    "* MediZen\n",
    "* print(fiction)\n",
    "\n",
    "I am currently looking for a position as a data scientist, data engineer, or machine learning engineer."
   ]
  },
  {
   "cell_type": "markdown",
   "metadata": {},
   "source": [
    "---\n",
    "\n",
    "## DS + ML Practice\n",
    "\n",
    "* Pick a dataset and try to do X with it\n",
    "  * Try to hit benchmark accuracies with [UCI ML datasets](https://archive.ics.uci.edu/ml/index.php) or Kaggle\n",
    "* Practice with the common DS/ML tools and processes\n",
    "  * Hands-on ML | NLP In Action | Dive Into Deep Learning\n",
    "  * Machine learning flashcards\n",
    "\n",
    "#### _The goal is to be comfortable explaining the entire process._\n",
    "\n",
    "* Data access / sourcing, cleaning\n",
    "  * Exploratory data analysis\n",
    "  * Data wrangling techniques and processes\n",
    "* Inference\n",
    "  * Statistics\n",
    "  * Probability\n",
    "  * Visualization\n",
    "* Modeling\n",
    "  * Implement + justify choice of model / algorithm\n",
    "  * Track performance + justify choice of metrics\n",
    "    * Communicate results as relevant to the goal"
   ]
  },
  {
   "cell_type": "markdown",
   "metadata": {},
   "source": []
  },
  {
   "cell_type": "markdown",
   "metadata": {},
   "source": [
    "---\n",
    "\n",
    "## Interviewing\n",
    "\n",
    "> Practice answering the most common interview questions\n",
    "\n",
    "### Technical\n",
    "\n",
    "* Business case walk-throughs\n",
    "* Hot-seat DS-related topics for recall practice (under pressure)"
   ]
  },
  {
   "cell_type": "markdown",
   "metadata": {
    "jupyter": {
     "source_hidden": true
    }
   },
   "source": [
    "### Behavioral\n",
    "\n",
    "* \"Tell me a bit about yourself\"\n",
    "* \"Tell me about a project you've worked on and are proud of\"\n",
    "* \"What do you know about our company?\"\n",
    "* \"Where do you see yourself in 3-5 years?\"\n",
    "* \"Why do you want to work here / want this job?\"\n",
    "* \"What makes you most qualified for this role?\"\n",
    "* \"What is your greatest strength/weakness?\"\n",
    "  * \"What is your greatest technical strength?\"\n",
    "* \"Tell me about a time when you had conflict with someone and how you handled it\"\n",
    "* \"Tell me about a mistake you made and how you handled it\"\n",
    "* Scenario questions (STAR: situation, task, action, result)\n",
    "  * Success story / biggest accomplishment\n",
    "  * Greatest challenge (overcome)\n",
    "  * Persuaded someone who did not agree with you\n",
    "  * Dealt with and resolved a conflict (among team members)\n",
    "  * Led a team / showed leadership skills or aptitude\n",
    "  * How you've dealt with stress / stressful situations\n",
    "  * Most difficult problem encountered in previous job; how you solved it\n",
    "  * Solved a problem creatively\n",
    "  * Exceeded expectations to get a job done\n",
    "  * Showed initiative\n",
    "  * Something that's not on your resume\n",
    "  * Example of important goal you set and how you reached it\n",
    "  * A time you failed\n",
    "* \"Do you have any questions for me?\"\n",
    "  * What is your favorite aspect of working here?\n",
    "  * What has your journey looked like at the company?\n",
    "  * What are some challenges you face in your position?"
   ]
  },
  {
   "cell_type": "markdown",
   "metadata": {},
   "source": []
  },
  {
   "cell_type": "markdown",
   "metadata": {},
   "source": [
    "---\n",
    "\n",
    "## 2-Hour Job Search"
   ]
  },
  {
   "cell_type": "markdown",
   "metadata": {},
   "source": []
  },
  {
   "cell_type": "markdown",
   "metadata": {},
   "source": []
  },
  {
   "cell_type": "markdown",
   "metadata": {},
   "source": []
  },
  {
   "cell_type": "markdown",
   "metadata": {},
   "source": []
  },
  {
   "cell_type": "markdown",
   "metadata": {},
   "source": []
  },
  {
   "cell_type": "markdown",
   "metadata": {},
   "source": []
  },
  {
   "cell_type": "markdown",
   "metadata": {},
   "source": []
  },
  {
   "cell_type": "markdown",
   "metadata": {},
   "source": []
  },
  {
   "cell_type": "markdown",
   "metadata": {},
   "source": []
  },
  {
   "cell_type": "markdown",
   "metadata": {},
   "source": []
  },
  {
   "cell_type": "markdown",
   "metadata": {},
   "source": []
  },
  {
   "cell_type": "markdown",
   "metadata": {},
   "source": []
  },
  {
   "cell_type": "markdown",
   "metadata": {},
   "source": []
  },
  {
   "cell_type": "markdown",
   "metadata": {},
   "source": []
  }
 ],
 "metadata": {
  "kernelspec": {
   "display_name": "Python 3.7.6 64-bit ('vela': pipenv)",
   "language": "python",
   "name": "python37664bitvelapipenvde09592071074af6a70ce3b1ce38af95"
  },
  "language_info": {
   "codemirror_mode": {
    "name": "ipython",
    "version": 3
   },
   "file_extension": ".py",
   "mimetype": "text/x-python",
   "name": "python",
   "nbconvert_exporter": "python",
   "pygments_lexer": "ipython3",
   "version": "3.7.6"
  }
 },
 "nbformat": 4,
 "nbformat_minor": 4
}
