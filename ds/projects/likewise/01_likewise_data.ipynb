{
  "nbformat": 4,
  "nbformat_minor": 0,
  "metadata": {
    "kernelspec": {
      "display_name": "Python 3.7.6 64-bit ('vela': pipenv)",
      "language": "python",
      "name": "python37664bitvelapipenvde09592071074af6a70ce3b1ce38af95"
    },
    "language_info": {
      "codemirror_mode": {
        "name": "ipython",
        "version": 3
      },
      "file_extension": ".py",
      "mimetype": "text/x-python",
      "name": "python",
      "nbconvert_exporter": "python",
      "pygments_lexer": "ipython3",
      "version": "3.7.6"
    },
    "colab": {
      "name": "01-likewise_data.ipynb",
      "provenance": [],
      "collapsed_sections": []
    }
  },
  "cells": [
    {
      "cell_type": "markdown",
      "metadata": {
        "id": "I247szK0X_CE",
        "colab_type": "text"
      },
      "source": [
        "# LikeWise\n",
        "\n",
        "### A Comparison of Book Recommender Systems\n",
        "\n",
        "### By _Owen Burton_ and _Tobias Reaper_"
      ]
    },
    {
      "cell_type": "markdown",
      "metadata": {
        "id": "ijOK-tEUX_CR",
        "colab_type": "text"
      },
      "source": [
        "---\n",
        "---\n",
        "\n",
        "## Outline\n",
        "\n",
        "* [Introduction]()\n",
        "* [_Imports and Configuration_]()\n",
        "* [Data]()\n",
        "  * [Loading and Looking]()\n",
        "  * [Wrangling and Exploration]()"
      ]
    },
    {
      "cell_type": "markdown",
      "metadata": {
        "id": "by6gDq5PX_CV",
        "colab_type": "text"
      },
      "source": [
        "---\n",
        "---\n",
        "\n",
        "## Introduction\n",
        "\n",
        "### Stop! Collaborate and Filter\n",
        "\n",
        "[Collaborative Filtering](https://d2l.ai/chapter_recommender-systems/recsys-intro.html#collaborative-filtering) (CF)\n",
        "\n",
        "> In general, CF only uses the user-item interaction data to make predictions and recommendations."
      ]
    },
    {
      "cell_type": "markdown",
      "metadata": {
        "id": "GIYTUXCXX_Cu",
        "colab_type": "text"
      },
      "source": [
        "---\n",
        "---\n",
        "\n",
        "## Imports and Configuration"
      ]
    },
    {
      "cell_type": "code",
      "metadata": {
        "id": "nCk6ea9KX_C0",
        "colab_type": "code",
        "colab": {
          "base_uri": "https://localhost:8080/",
          "height": 74
        },
        "outputId": "4a91018b-4d65-4cdf-c989-762afd192a1e"
      },
      "source": [
        "# === General Imports === #\n",
        "import pandas as pd\n",
        "import numpy as np\n",
        "import matplotlib.pyplot as plt\n",
        "import seaborn"
      ],
      "execution_count": 2,
      "outputs": [
        {
          "output_type": "stream",
          "text": [
            "/usr/local/lib/python3.6/dist-packages/statsmodels/tools/_testing.py:19: FutureWarning: pandas.util.testing is deprecated. Use the functions in the public API at pandas.testing instead.\n",
            "  import pandas.util.testing as tm\n"
          ],
          "name": "stderr"
        }
      ]
    },
    {
      "cell_type": "code",
      "metadata": {
        "id": "1sYbdN9oX_ET",
        "colab_type": "code",
        "colab": {}
      },
      "source": [
        "# === Configuration === #\n",
        "%matplotlib inline\n",
        "pd.options.display.max_columns = 100\n",
        "pd.options.display.max_rows = 200"
      ],
      "execution_count": 3,
      "outputs": []
    },
    {
      "cell_type": "markdown",
      "metadata": {
        "id": "aC3_huAZX_FD",
        "colab_type": "text"
      },
      "source": [
        "---\n",
        "---\n",
        "\n",
        "## Data\n",
        "\n",
        "Intro to and explanation of dataset — why this dataset?\n",
        "\n",
        "Here is the dataset used for the LikeWise recommender systems: [UCSD Book Graph - GoodReads Datasets](https://sites.google.com/eng.ucsd.edu/ucsdbookgraph/home)."
      ]
    },
    {
      "cell_type": "markdown",
      "metadata": {
        "id": "vu0yFCmFX_FJ",
        "colab_type": "text"
      },
      "source": [
        "---\n",
        "\n",
        "### Load and Look\n",
        "\n",
        "Load the dataset and look at basic descriptive statistics.\n",
        "\n",
        "* Shape\n",
        "* Data types (and conversions, as needed)\n",
        "* Null values\n",
        "* Descriptive statistics\n",
        "  * Pandas Profiling (?)\n",
        "  * Distributions\n",
        "  * Numerical range, mean, stdev\n",
        "  * Categorical distributions, mode"
      ]
    },
    {
      "cell_type": "markdown",
      "metadata": {
        "id": "AR2XwDo9auBp",
        "colab_type": "text"
      },
      "source": [
        "#### Download data\n",
        "\n",
        "To develop and validate the initial models, we'll be using a genre-wise subset of the full interactions dataset for the Mystery, Thriller & Crime genre. This subset contains ~24.8m interactions, as opposed to the ~229m of the full dataset.\n",
        "\n",
        "Because there is no way to create the same subset of users and books, we cannot use the `book_id_map` or `user_id_map`."
      ]
    },
    {
      "cell_type": "code",
      "metadata": {
        "colab_type": "code",
        "id": "VLgIez-LaUS3",
        "colab": {
          "base_uri": "https://localhost:8080/",
          "height": 110
        },
        "outputId": "abfcb513-bbe8-4db0-cdf3-44ed4189c60c"
      },
      "source": [
        "# === Download goodreads_interactions_mystery_thriller_crime.json.gz === #\n",
        "import gdown\n",
        "\n",
        "file_id = \"1xuujDT-vOMMkk2Kog0CTT9ADmnD8pa9D\"\n",
        "url = \"https://drive.google.com/uc?id=\" + file_id\n",
        "gdown.download(url, output=None, quiet=False)"
      ],
      "execution_count": 9,
      "outputs": [
        {
          "output_type": "stream",
          "text": [
            "Downloading...\n",
            "From: https://drive.google.com/uc?id=1zmylV7XW2dfQVCLeg1LbllfQtHD2KUon\n",
            "To: /content/goodreads_interactions.csv\n",
            "4.32GB [01:06, 65.3MB/s]\n"
          ],
          "name": "stderr"
        },
        {
          "output_type": "execute_result",
          "data": {
            "application/vnd.google.colaboratory.intrinsic": {
              "type": "string"
            },
            "text/plain": [
              "'goodreads_interactions.csv'"
            ]
          },
          "metadata": {
            "tags": []
          },
          "execution_count": 9
        }
      ]
    },
    {
      "cell_type": "markdown",
      "metadata": {
        "id": "PLIwPrSta06l",
        "colab_type": "text"
      },
      "source": [
        "#### Load sample of interactions"
      ]
    },
    {
      "cell_type": "code",
      "metadata": {
        "id": "NzP40ku9b7CF",
        "colab_type": "code",
        "colab": {}
      },
      "source": [
        "# === First, load from gzipped json === #\n",
        "import gzip\n",
        "import json\n",
        "from typing import List\n",
        "\n",
        "def load_data(file_name: str, num_items: int) -> List[dict]:\n",
        "  \"\"\"Output a list of user-book interactions\"\"\"\n",
        "  count = 0\n",
        "  data = []\n",
        "  with gzip.open(file_name) as fin:\n",
        "      for l in fin:\n",
        "          d = json.loads(l)\n",
        "          count += 1\n",
        "          data.append(d)\n",
        "          \n",
        "          if (num_items is not None) and (count == num_items):\n",
        "              break\n",
        "  return data\n",
        "\n",
        "# === Load sample of 100,000 records === #\n",
        "interactions = load_data(\n",
        "    \"/content/goodreads_interactions_mystery_thriller_crime.json.gz\",\n",
        "    num_items=100000\n",
        ")\n",
        "\n",
        "assert len(interactions) == 100000"
      ],
      "execution_count": 4,
      "outputs": []
    },
    {
      "cell_type": "code",
      "metadata": {
        "id": "LMRIdX7-eusA",
        "colab_type": "code",
        "colab": {
          "base_uri": "https://localhost:8080/",
          "height": 201
        },
        "outputId": "4ff864aa-3e0e-4d64-ab0a-a54f8f0a8ef8"
      },
      "source": [
        "# === Take a look at one of the records === #\n",
        "interactions[-1]"
      ],
      "execution_count": 5,
      "outputs": [
        {
          "output_type": "execute_result",
          "data": {
            "text/plain": [
              "{'book_id': '383028',\n",
              " 'date_added': 'Fri Oct 03 08:02:16 -0700 2014',\n",
              " 'date_updated': 'Fri Oct 03 08:02:21 -0700 2014',\n",
              " 'is_read': False,\n",
              " 'rating': 0,\n",
              " 'read_at': '',\n",
              " 'review_id': '146a9921627d10f82bd6ca12df6efbb2',\n",
              " 'review_text_incomplete': '',\n",
              " 'started_at': '',\n",
              " 'user_id': '80881f5266512e9b860753b2d406d5dd'}"
            ]
          },
          "metadata": {
            "tags": []
          },
          "execution_count": 5
        }
      ]
    },
    {
      "cell_type": "code",
      "metadata": {
        "id": "Jjkw_sxhykWR",
        "colab_type": "code",
        "colab": {
          "base_uri": "https://localhost:8080/",
          "height": 488
        },
        "outputId": "bf43984e-f64f-46b3-8e1c-34d66ec58d23"
      },
      "source": [
        "# === Insert into dataframe === #\n",
        "inters = pd.DataFrame(interactions)\n",
        "print(inters.shape)\n",
        "inters.head()"
      ],
      "execution_count": 6,
      "outputs": [
        {
          "output_type": "stream",
          "text": [
            "(100000, 10)\n"
          ],
          "name": "stdout"
        },
        {
          "output_type": "execute_result",
          "data": {
            "text/html": [
              "<div>\n",
              "<style scoped>\n",
              "    .dataframe tbody tr th:only-of-type {\n",
              "        vertical-align: middle;\n",
              "    }\n",
              "\n",
              "    .dataframe tbody tr th {\n",
              "        vertical-align: top;\n",
              "    }\n",
              "\n",
              "    .dataframe thead th {\n",
              "        text-align: right;\n",
              "    }\n",
              "</style>\n",
              "<table border=\"1\" class=\"dataframe\">\n",
              "  <thead>\n",
              "    <tr style=\"text-align: right;\">\n",
              "      <th></th>\n",
              "      <th>user_id</th>\n",
              "      <th>book_id</th>\n",
              "      <th>review_id</th>\n",
              "      <th>is_read</th>\n",
              "      <th>rating</th>\n",
              "      <th>review_text_incomplete</th>\n",
              "      <th>date_added</th>\n",
              "      <th>date_updated</th>\n",
              "      <th>read_at</th>\n",
              "      <th>started_at</th>\n",
              "    </tr>\n",
              "  </thead>\n",
              "  <tbody>\n",
              "    <tr>\n",
              "      <th>0</th>\n",
              "      <td>8842281e1d1347389f2ab93d60773d4d</td>\n",
              "      <td>6392944</td>\n",
              "      <td>5e212a62bced17b4dbe41150e5bb9037</td>\n",
              "      <td>True</td>\n",
              "      <td>3</td>\n",
              "      <td>I haven't read a fun mystery book in a while a...</td>\n",
              "      <td>Mon Jul 24 02:48:17 -0700 2017</td>\n",
              "      <td>Sun Jul 30 09:28:03 -0700 2017</td>\n",
              "      <td>Tue Jul 25 00:00:00 -0700 2017</td>\n",
              "      <td>Mon Jul 24 00:00:00 -0700 2017</td>\n",
              "    </tr>\n",
              "    <tr>\n",
              "      <th>1</th>\n",
              "      <td>8842281e1d1347389f2ab93d60773d4d</td>\n",
              "      <td>2279538</td>\n",
              "      <td>556e9e3f00fb5b7e4eaa116764b771b0</td>\n",
              "      <td>False</td>\n",
              "      <td>0</td>\n",
              "      <td></td>\n",
              "      <td>Wed Mar 29 00:27:14 -0700 2017</td>\n",
              "      <td>Wed Mar 29 00:27:14 -0700 2017</td>\n",
              "      <td></td>\n",
              "      <td></td>\n",
              "    </tr>\n",
              "    <tr>\n",
              "      <th>2</th>\n",
              "      <td>8842281e1d1347389f2ab93d60773d4d</td>\n",
              "      <td>20821043</td>\n",
              "      <td>4b15f8a08f04a17f9a47f2b76fec21e5</td>\n",
              "      <td>False</td>\n",
              "      <td>0</td>\n",
              "      <td></td>\n",
              "      <td>Mon Mar 27 22:52:11 -0700 2017</td>\n",
              "      <td>Mon Mar 27 22:52:12 -0700 2017</td>\n",
              "      <td></td>\n",
              "      <td></td>\n",
              "    </tr>\n",
              "    <tr>\n",
              "      <th>3</th>\n",
              "      <td>8842281e1d1347389f2ab93d60773d4d</td>\n",
              "      <td>31184479</td>\n",
              "      <td>0b9fc382ad38c5804ec46df84d66be6e</td>\n",
              "      <td>False</td>\n",
              "      <td>0</td>\n",
              "      <td></td>\n",
              "      <td>Fri Jan 06 16:22:46 -0800 2017</td>\n",
              "      <td>Fri Jan 06 16:22:46 -0800 2017</td>\n",
              "      <td></td>\n",
              "      <td></td>\n",
              "    </tr>\n",
              "    <tr>\n",
              "      <th>4</th>\n",
              "      <td>8842281e1d1347389f2ab93d60773d4d</td>\n",
              "      <td>28684704</td>\n",
              "      <td>2ede853b14dc4583f96cf5d120af636f</td>\n",
              "      <td>True</td>\n",
              "      <td>3</td>\n",
              "      <td>A fun, fast paced science fiction thriller. I ...</td>\n",
              "      <td>Tue Nov 15 11:29:22 -0800 2016</td>\n",
              "      <td>Mon Mar 20 23:40:27 -0700 2017</td>\n",
              "      <td>Sat Mar 18 23:22:42 -0700 2017</td>\n",
              "      <td>Fri Mar 17 23:45:40 -0700 2017</td>\n",
              "    </tr>\n",
              "  </tbody>\n",
              "</table>\n",
              "</div>"
            ],
            "text/plain": [
              "                            user_id   book_id  \\\n",
              "0  8842281e1d1347389f2ab93d60773d4d   6392944   \n",
              "1  8842281e1d1347389f2ab93d60773d4d   2279538   \n",
              "2  8842281e1d1347389f2ab93d60773d4d  20821043   \n",
              "3  8842281e1d1347389f2ab93d60773d4d  31184479   \n",
              "4  8842281e1d1347389f2ab93d60773d4d  28684704   \n",
              "\n",
              "                          review_id  is_read  rating  \\\n",
              "0  5e212a62bced17b4dbe41150e5bb9037     True       3   \n",
              "1  556e9e3f00fb5b7e4eaa116764b771b0    False       0   \n",
              "2  4b15f8a08f04a17f9a47f2b76fec21e5    False       0   \n",
              "3  0b9fc382ad38c5804ec46df84d66be6e    False       0   \n",
              "4  2ede853b14dc4583f96cf5d120af636f     True       3   \n",
              "\n",
              "                              review_text_incomplete  \\\n",
              "0  I haven't read a fun mystery book in a while a...   \n",
              "1                                                      \n",
              "2                                                      \n",
              "3                                                      \n",
              "4  A fun, fast paced science fiction thriller. I ...   \n",
              "\n",
              "                       date_added                    date_updated  \\\n",
              "0  Mon Jul 24 02:48:17 -0700 2017  Sun Jul 30 09:28:03 -0700 2017   \n",
              "1  Wed Mar 29 00:27:14 -0700 2017  Wed Mar 29 00:27:14 -0700 2017   \n",
              "2  Mon Mar 27 22:52:11 -0700 2017  Mon Mar 27 22:52:12 -0700 2017   \n",
              "3  Fri Jan 06 16:22:46 -0800 2017  Fri Jan 06 16:22:46 -0800 2017   \n",
              "4  Tue Nov 15 11:29:22 -0800 2016  Mon Mar 20 23:40:27 -0700 2017   \n",
              "\n",
              "                          read_at                      started_at  \n",
              "0  Tue Jul 25 00:00:00 -0700 2017  Mon Jul 24 00:00:00 -0700 2017  \n",
              "1                                                                  \n",
              "2                                                                  \n",
              "3                                                                  \n",
              "4  Sat Mar 18 23:22:42 -0700 2017  Fri Mar 17 23:45:40 -0700 2017  "
            ]
          },
          "metadata": {
            "tags": []
          },
          "execution_count": 6
        }
      ]
    },
    {
      "cell_type": "markdown",
      "metadata": {
        "id": "w9RKc8G9X_GU",
        "colab_type": "text"
      },
      "source": [
        "---\n",
        "\n",
        "### Wrangling and Exploration\n",
        "\n",
        "* Dealing with null values\n",
        "* Based on how the data will be used, what transformations should be done?"
      ]
    },
    {
      "cell_type": "markdown",
      "metadata": {
        "id": "0NE1ZUfejF1L",
        "colab_type": "text"
      },
      "source": [
        "#### Data types and conversions\n",
        "\n",
        "The timestamp columns did not get read in correctly. If they are to be used, they'll have to be converted.\n",
        "\n",
        "However, I'm going to be ignoring the timestamp columns for now."
      ]
    },
    {
      "cell_type": "code",
      "metadata": {
        "id": "4OP9O1bdopzk",
        "colab_type": "code",
        "colab": {
          "base_uri": "https://localhost:8080/",
          "height": 206
        },
        "outputId": "073eff28-5eb7-41e7-fbd0-5d4dfa879f0b"
      },
      "source": [
        "# === Clean unused columns === #\n",
        "inters = inters[[\"user_id\", \"book_id\", \"rating\"]].copy()\n",
        "inters.head()"
      ],
      "execution_count": 21,
      "outputs": [
        {
          "output_type": "execute_result",
          "data": {
            "text/html": [
              "<div>\n",
              "<style scoped>\n",
              "    .dataframe tbody tr th:only-of-type {\n",
              "        vertical-align: middle;\n",
              "    }\n",
              "\n",
              "    .dataframe tbody tr th {\n",
              "        vertical-align: top;\n",
              "    }\n",
              "\n",
              "    .dataframe thead th {\n",
              "        text-align: right;\n",
              "    }\n",
              "</style>\n",
              "<table border=\"1\" class=\"dataframe\">\n",
              "  <thead>\n",
              "    <tr style=\"text-align: right;\">\n",
              "      <th></th>\n",
              "      <th>user_id</th>\n",
              "      <th>book_id</th>\n",
              "      <th>rating</th>\n",
              "    </tr>\n",
              "  </thead>\n",
              "  <tbody>\n",
              "    <tr>\n",
              "      <th>0</th>\n",
              "      <td>8842281e1d1347389f2ab93d60773d4d</td>\n",
              "      <td>6392944</td>\n",
              "      <td>3</td>\n",
              "    </tr>\n",
              "    <tr>\n",
              "      <th>1</th>\n",
              "      <td>8842281e1d1347389f2ab93d60773d4d</td>\n",
              "      <td>2279538</td>\n",
              "      <td>0</td>\n",
              "    </tr>\n",
              "    <tr>\n",
              "      <th>2</th>\n",
              "      <td>8842281e1d1347389f2ab93d60773d4d</td>\n",
              "      <td>20821043</td>\n",
              "      <td>0</td>\n",
              "    </tr>\n",
              "    <tr>\n",
              "      <th>3</th>\n",
              "      <td>8842281e1d1347389f2ab93d60773d4d</td>\n",
              "      <td>31184479</td>\n",
              "      <td>0</td>\n",
              "    </tr>\n",
              "    <tr>\n",
              "      <th>4</th>\n",
              "      <td>8842281e1d1347389f2ab93d60773d4d</td>\n",
              "      <td>28684704</td>\n",
              "      <td>3</td>\n",
              "    </tr>\n",
              "  </tbody>\n",
              "</table>\n",
              "</div>"
            ],
            "text/plain": [
              "                            user_id   book_id  rating\n",
              "0  8842281e1d1347389f2ab93d60773d4d   6392944       3\n",
              "1  8842281e1d1347389f2ab93d60773d4d   2279538       0\n",
              "2  8842281e1d1347389f2ab93d60773d4d  20821043       0\n",
              "3  8842281e1d1347389f2ab93d60773d4d  31184479       0\n",
              "4  8842281e1d1347389f2ab93d60773d4d  28684704       3"
            ]
          },
          "metadata": {
            "tags": []
          },
          "execution_count": 21
        }
      ]
    },
    {
      "cell_type": "code",
      "metadata": {
        "id": "AqoSHrYRog4o",
        "colab_type": "code",
        "colab": {
          "base_uri": "https://localhost:8080/",
          "height": 90
        },
        "outputId": "0f95c7ee-a44b-4f10-9b47-4f5dee9c3ed7"
      },
      "source": [
        "# === Data types === #\n",
        "inters.dtypes"
      ],
      "execution_count": 22,
      "outputs": [
        {
          "output_type": "execute_result",
          "data": {
            "text/plain": [
              "user_id    object\n",
              "book_id    object\n",
              "rating      int64\n",
              "dtype: object"
            ]
          },
          "metadata": {
            "tags": []
          },
          "execution_count": 22
        }
      ]
    },
    {
      "cell_type": "markdown",
      "metadata": {
        "id": "ntn0tiQYfMyL",
        "colab_type": "text"
      },
      "source": [
        "#### Basic descriptive statistics"
      ]
    },
    {
      "cell_type": "code",
      "metadata": {
        "id": "t7e8DVTPbBiT",
        "colab_type": "code",
        "colab": {
          "base_uri": "https://localhost:8080/",
          "height": 35
        },
        "outputId": "00b1c048-73cc-4b20-c597-1e76826abd41"
      },
      "source": [
        "# Number of distinct users\n",
        "unique_users = set(item[\"user_id\"] for item in interactions)\n",
        "len(unique_users)"
      ],
      "execution_count": 16,
      "outputs": [
        {
          "output_type": "execute_result",
          "data": {
            "text/plain": [
              "1763"
            ]
          },
          "metadata": {
            "tags": []
          },
          "execution_count": 16
        }
      ]
    },
    {
      "cell_type": "code",
      "metadata": {
        "id": "HY8ptFXNjQkB",
        "colab_type": "code",
        "colab": {
          "base_uri": "https://localhost:8080/",
          "height": 35
        },
        "outputId": "11e230c4-c2a9-4401-f2f7-fa7cb6da24ac"
      },
      "source": [
        "# Number of distinct books\n",
        "unique_books = set(item[\"book_id\"] for item in interactions)\n",
        "len(unique_books)"
      ],
      "execution_count": 17,
      "outputs": [
        {
          "output_type": "execute_result",
          "data": {
            "text/plain": [
              "33000"
            ]
          },
          "metadata": {
            "tags": []
          },
          "execution_count": 17
        }
      ]
    },
    {
      "cell_type": "markdown",
      "metadata": {
        "id": "m67qbxE4iVDO",
        "colab_type": "text"
      },
      "source": [
        "The interaction matrix is extremely sparse."
      ]
    },
    {
      "cell_type": "code",
      "metadata": {
        "id": "1PxTltvLguLH",
        "colab_type": "code",
        "colab": {
          "base_uri": "https://localhost:8080/",
          "height": 109
        },
        "outputId": "97149c09-c75f-4206-c550-9bf956916ba1"
      },
      "source": [
        "# === Look at sparsity === #\n",
        "\n",
        "# Get df of 0-rated (not rated) books\n",
        "inters_zero = inters[inters[\"rating\"] == 0]\n",
        "print(inters_zero.shape)\n",
        "print(f\"Number of 0 ratings: {inters_zero.shape[0]}\")\n",
        "\n",
        "# Get df of rated books\n",
        "inters_rated = inters[inters[\"rating\"] > 0]\n",
        "print(inters_rated.shape)\n",
        "print(f\"Number of rated books: {inters_rated.shape[0]}\")\n",
        "\n",
        "# Calculate sparsity\n",
        "sparsity = 1 - len(inters) / (len(unique_users) * len(unique_books))\n",
        "print(\"Sparsity:\", sparsity)"
      ],
      "execution_count": 19,
      "outputs": [
        {
          "output_type": "stream",
          "text": [
            "(50471, 10)\n",
            "Number of 0 ratings: 50471\n",
            "(49529, 10)\n",
            "Number of rated books: 49529\n",
            "Sparsity: 0.9982811667440141\n"
          ],
          "name": "stdout"
        }
      ]
    },
    {
      "cell_type": "markdown",
      "metadata": {
        "id": "Hk566mk8ihTz",
        "colab_type": "text"
      },
      "source": [
        "The distribution of the ratings looks roughly normal, with a slight skew to the left."
      ]
    },
    {
      "cell_type": "code",
      "metadata": {
        "id": "ln6mHzD2gbwB",
        "colab_type": "code",
        "colab": {
          "base_uri": "https://localhost:8080/",
          "height": 295
        },
        "outputId": "61ff7d85-f8da-4c5a-e42e-6aed5a197179"
      },
      "source": [
        "# === Distribution of ratings of rated books === #\n",
        "# i.e. without the books with a rating of 0\n",
        "plt.hist(inters_rated['rating'], bins=5, ec='black')\n",
        "plt.xlabel('Rating')\n",
        "plt.ylabel('Count')\n",
        "plt.title('Distribution of Ratings in MovieLens 100K')\n",
        "plt.show()"
      ],
      "execution_count": 13,
      "outputs": [
        {
          "output_type": "display_data",
          "data": {
            "image/png": "[encoded data removed]",
            "text/plain": [
              "<Figure size 432x288 with 1 Axes>"
            ]
          },
          "metadata": {
            "tags": [],
            "needs_background": "light"
          }
        }
      ]
    },
    {
      "cell_type": "code",
      "metadata": {
        "id": "Uc-CYJyXX_FM",
        "colab_type": "code",
        "colab": {}
      },
      "source": [
        ""
      ],
      "execution_count": null,
      "outputs": []
    },
    {
      "cell_type": "code",
      "metadata": {
        "id": "QcFygK9OX_GA",
        "colab_type": "code",
        "colab": {}
      },
      "source": [
        ""
      ],
      "execution_count": null,
      "outputs": []
    }
  ]
}