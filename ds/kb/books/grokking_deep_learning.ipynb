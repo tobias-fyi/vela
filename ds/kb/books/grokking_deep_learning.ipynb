{
 "cells": [
  {
   "cell_type": "markdown",
   "metadata": {},
   "source": [
    "# Grokking Deep Learning\n",
    "\n",
    "> Andrew Trask\n",
    "\n",
    "Notes by Tobias Reaper"
   ]
  },
  {
   "cell_type": "markdown",
   "metadata": {},
   "source": [
    "---\n",
    "---\n",
    "\n",
    "## Chapter 2: Fundamental Concepts\n",
    "\n",
    "* What are deep learning, machine learning, and artificial intelligence?\n",
    "* What are parametric models and nonparametric models?\n",
    "* What are supervised learning and unsupervised learning?\n",
    "* How can machines learn?"
   ]
  },
  {
   "cell_type": "markdown",
   "metadata": {},
   "source": [
    "---\n",
    "\n",
    "### What is deep learning?\n",
    "\n",
    "* Deep learning is a subset of machine learning\n",
    "  * Subset of methods in the ML toolbox primarily using ANNs\n",
    "\n",
    "#### What is machine learning?\n",
    "\n",
    "* Subfield of computer science\n",
    "* Deals with teaching machines to perform tasks for which they were not explicitly programmed\n",
    "* Machines observe a pattern and attempt to imitate it, either directly or indirectly\n",
    "  * i.e. supervised or unsupervised"
   ]
  },
  {
   "cell_type": "markdown",
   "metadata": {},
   "source": [
    "---\n",
    "\n",
    "### Supervised vs unsupervised\n",
    "\n",
    "### Supervised\n",
    "\n",
    "* Transform one dataset into another\n",
    "  * Input is what is known\n",
    "  * Output is what one wants to know\n",
    "  \n",
    "### Unsupervised\n",
    "\n",
    "* Also transforms one dataset into another\n",
    "* However, the output dataset is not previously known\n",
    "* No \"right answer\"\n",
    "  * Finding patterns in the data\n",
    "* Ex: clustering datapoints into cluster labels\n",
    "\n",
    "> In general, all forms of unsupervised learning are ~forms of clustering"
   ]
  },
  {
   "cell_type": "markdown",
   "metadata": {},
   "source": [
    "---\n",
    "\n",
    "### Parametric vs nonparametric learning\n",
    "\n",
    "* Supervision ~ the type of pattern being learned\n",
    "* Parametricism ~ the way the learning is stored and the method for learning\n",
    "* Characterization by number of parameters\n",
    "  * Parametric model has a fixed number of parameters\n",
    "    * Tend to use trial and error\n",
    "  * Nonparametric model has potentially infinite number of parameters\n",
    "    * Tend to use counting\n",
    "    \n",
    "#### Supervised parametric learning\n",
    "\n",
    "* \"Trial and error learning using knobs\"\n",
    "  * Trial-and-error is a common property of parametric models (with exceptions)\n",
    "* Machines with a fixed number of knobs (parameters)\n",
    "  * Learning means turning the knobs\n",
    "* Input data is processed based on the settings of the knobs, transformed into a prediction\n",
    "* Steps\n",
    "  * 1. Predict\n",
    "  * 2. Compare to truth pattern\n",
    "  * 3. Learn the pattern\n",
    "  \n",
    "#### Unsupervised parametric learning\n",
    "\n",
    "* Uses knobs to group data\n",
    "  * Knobs in each group map the input's \"affinity\" to a particular group\n",
    "* Each group's machine transforms the input data to number 0-1\n",
    "  * Probability that the input is a member of that group\n",
    "\n",
    "#### Nonparametric learning\n",
    "\n",
    "* \"Counting-based methods\"\n",
    "* Number of parameters/knobs is based on the data, rather than predefined\n",
    "* There is some overlap / a blurry boundary between (non)parametric\n",
    "  * Because the number of parameters in parametric models will be influenced by the number of classes in the data\n",
    "* \"Parameters\" is a generic term\n",
    "  * Set of numbers used to model a pattern"
   ]
  },
  {
   "cell_type": "markdown",
   "metadata": {},
   "source": [
    "---\n",
    "\n",
    "### Review and solifidy\n",
    "\n",
    "> Record myself explaining (ELI5) the following topics\n",
    "\n",
    "* [ ] Machine learning and deep learning\n",
    "* [ ] Supervised vs unsupervised learning\n",
    "* [ ] Parametric vs nonparametric learning"
   ]
  },
  {
   "cell_type": "markdown",
   "metadata": {},
   "source": [
    "---\n",
    "---\n",
    "\n",
    "## Chapter 3: Forward Propogation\n",
    "\n",
    "* A simple network making a prediction\n",
    "* What is a neural network and what does it do?\n",
    "* Making a prediction with...\n",
    "  * Multiple inputs\n",
    "  * Multiple outputs\n",
    "  * Multiple inputs and outputs\n",
    "* Predicting on predictions"
   ]
  },
  {
   "cell_type": "markdown",
   "metadata": {},
   "source": [
    "---\n",
    "\n",
    "### Step 1: Predict\n",
    "\n",
    "* Number of datapoints processed at a time does a lot to determine the structure of the NN\n",
    "* How many to process at a time?\n",
    "  * Can the neural network be accurate with the (batch of) data it's given?\n",
    "  * E.g. predicting on an image requires the entire image data, not just a single pixel\n",
    "  * Rule of thumb: always present \"enough\" (how much a human might need to make the same prediction)\n",
    "* Network defined by the shape of the input and output\n",
    "  * Start with a single datapoint making a single prediction"
   ]
  },
  {
   "cell_type": "markdown",
   "metadata": {},
   "source": [
    "#### Making a prediction with a single input"
   ]
  },
  {
   "cell_type": "code",
   "execution_count": 1,
   "metadata": {},
   "outputs": [],
   "source": [
    "# === First neural network === #\n",
    "weight = 0.1\n",
    "\n",
    "def neural_network(input, weight):\n",
    "    pred = input * weight\n",
    "    return pred"
   ]
  },
  {
   "cell_type": "code",
   "execution_count": 4,
   "metadata": {},
   "outputs": [
    {
     "data": {
      "text/plain": [
       "0.9500000000000001"
      ]
     },
     "execution_count": 4,
     "metadata": {},
     "output_type": "execute_result"
    }
   ],
   "source": [
    "number_of_fingers = [9.5, 10, 15.5, 11]\n",
    "input = number_of_fingers[0]\n",
    "\n",
    "pred = neural_network(input, weight)\n",
    "pred"
   ]
  },
  {
   "cell_type": "markdown",
   "metadata": {},
   "source": [
    "#### What does this NN do?\n",
    "\n",
    "* Multiplies the input by a weight\n",
    "  * Scales the input by a certain amount\n",
    "* Input variable = information\n",
    "* Weight variable = knowledge\n",
    "* Prediction = output\n",
    "\n",
    "> Though they might get more complex, this same underlying concept always applies.\n",
    "\n",
    "* Another way to look at it:\n",
    "  * Weight value is a measure of sensitivity b/w input and the net's prediction\n",
    "    * Large weights amplify the range of predictions\n",
    "    * Small weights \"understate\" or reduce range of preds\n",
    "  * \"Volume knob\"\n",
    "* Inputs, predictions can be negative"
   ]
  },
  {
   "cell_type": "markdown",
   "metadata": {},
   "source": [
    "#### Making a prediction with multiple inputs\n",
    "\n",
    "* Combining intelligence from multiple datapoints\n",
    "  * Multiply each input by its own weight\n",
    "  * Sum the predictions (weighted sum)\n",
    "    * Dot product"
   ]
  },
  {
   "cell_type": "code",
   "execution_count": 6,
   "metadata": {},
   "outputs": [],
   "source": [
    "def w_sum(a, b):\n",
    "    assert(len(a) == len(b))\n",
    "    output = 0\n",
    "    for i in range(len(a)):\n",
    "        output += (a[i] * b[i])\n",
    "    return output\n",
    "\n",
    "def neural_network(input, weights):\n",
    "    pred = w_sum(input, weights)\n",
    "    return pred"
   ]
  },
  {
   "cell_type": "code",
   "execution_count": 8,
   "metadata": {},
   "outputs": [
    {
     "data": {
      "text/plain": [
       "0.9800000000000001"
      ]
     },
     "execution_count": 8,
     "metadata": {},
     "output_type": "execute_result"
    }
   ],
   "source": [
    "weights = [0.1, 0.2, 0]\n",
    "\n",
    "toes = [8.5, 9.5, 9.9, 9.0]\n",
    "wlrec = [0.65, 0.8, 0.8, 0.9]\n",
    "nfans = [1.2, 1.3, 0.5, 1.0]\n",
    "\n",
    "input = [toes[0], wlrec[0], nfans[0]]\n",
    "\n",
    "pred = neural_network(input, weights)\n",
    "pred"
   ]
  },
  {
   "cell_type": "markdown",
   "metadata": {},
   "source": [
    "##### Vector math\n",
    "\n",
    "* Elementwise operation\n",
    "  * Mathematical operation between two vectors of equal length\n",
    "  * Pair up values according to their positions in their vectors"
   ]
  },
  {
   "cell_type": "code",
   "execution_count": 10,
   "metadata": {},
   "outputs": [],
   "source": [
    "def elementwise_multiplication(vec_a, vec_b):\n",
    "    assert len(vec_a) == len(vec_b)\n",
    "    vec_out = [0 for i in range(len(vec_a))]\n",
    "    for i in range(len(vec_a)):\n",
    "        vec_out[i] = vec_a[i] * vec_b[i]\n",
    "    return vec_out"
   ]
  },
  {
   "cell_type": "code",
   "execution_count": 11,
   "metadata": {},
   "outputs": [],
   "source": [
    "def elementwise_addition(vec_a, vec_b):\n",
    "    assert len(vec_a) == len(vec_b)\n",
    "    vec_out = [0 for i in range(len(vec_a))]\n",
    "    for i in range(len(vec_a)):\n",
    "        vec_out[i] = vec_a[i] + vec_b[i]\n",
    "    return vec_out"
   ]
  },
  {
   "cell_type": "code",
   "execution_count": 12,
   "metadata": {},
   "outputs": [],
   "source": [
    "def vector_sum(vec_a):\n",
    "    output = 0\n",
    "    for v in vec_a:\n",
    "        output += v\n",
    "    return output"
   ]
  },
  {
   "cell_type": "code",
   "execution_count": 13,
   "metadata": {},
   "outputs": [],
   "source": [
    "def vector_average(vec_a):\n",
    "    output = 0\n",
    "    for v in vec_a:\n",
    "        output += v\n",
    "    return output / len(vec_a)"
   ]
  },
  {
   "cell_type": "code",
   "execution_count": 14,
   "metadata": {},
   "outputs": [],
   "source": [
    "def dot_product(vec_a, vec_b):\n",
    "    vec_c = elementwise_multiplication(vec_a, vec_b)\n",
    "    return vector_sum(vec_c)"
   ]
  },
  {
   "cell_type": "markdown",
   "metadata": {},
   "source": [
    "##### Dot product intuition\n",
    "\n",
    "The intuition behind how and why a dot product (weighted sum) works is one of the most important parts of understanding how NNs make predictions.\n",
    "\n",
    "> A dot product gives you a notion of similarity between two vectors\n",
    "\n",
    "The highest dot product is between two identical vectors."
   ]
  },
  {
   "cell_type": "markdown",
   "metadata": {},
   "source": [
    "What does it mean when a neural network makes a prediction?\n",
    "\n",
    "> The network gives a high score of the inputs based on how similar they are to the weights."
   ]
  },
  {
   "cell_type": "code",
   "execution_count": 1,
   "metadata": {},
   "outputs": [
    {
     "name": "stdout",
     "output_type": "stream",
     "text": [
      "0.9800000000000001\n"
     ]
    }
   ],
   "source": [
    "# === Multiple inputs using numpy === #\n",
    "import numpy as np\n",
    "\n",
    "weights = np.array([0.1, 0.2, 0])\n",
    "def neural_network(input, weights):\n",
    "    pred = input.dot(weights)\n",
    "    return pred\n",
    "\n",
    "toes = np.array([8.5, 9.5, 9.9, 9.0])\n",
    "wlrec = np.array([0.65, 0.8, 0.8, 0.9])\n",
    "nfans = np.array([1.2, 1.3, 0.5, 1.0])\n",
    "\n",
    "input = np.array([toes[0], wlrec[0], nfans[0]])\n",
    "pred = neural_network(input, weights)\n",
    "print(pred)"
   ]
  },
  {
   "cell_type": "markdown",
   "metadata": {},
   "source": [
    "#### Making a prediction with multiple outputs\n",
    "\n",
    "I.e. 3 disconnected single-weight networks."
   ]
  },
  {
   "cell_type": "code",
   "execution_count": 3,
   "metadata": {},
   "outputs": [
    {
     "name": "stdout",
     "output_type": "stream",
     "text": [
      "[0.195, 0.13, 0.5850000000000001]\n"
     ]
    }
   ],
   "source": [
    "def ele_mul(number,vector):\n",
    "    output = [0] * len(vector)\n",
    "    assert(len(output) == len(vector))\n",
    "    for i in range(len(vector)):\n",
    "        output[i] = number * vector[i]\n",
    "    return output\n",
    "\n",
    "def neural_network(input, weights):\n",
    "    pred = ele_mul(input, weights)\n",
    "    return pred\n",
    "\n",
    "weights = [0.3, 0.2, 0.9]\n",
    "\n",
    "wlrec = [0.65, 0.8, 0.8, 0.9]\n",
    "input = wlrec[0]\n",
    "pred = neural_network(input, weights)\n",
    "print(pred)"
   ]
  },
  {
   "cell_type": "markdown",
   "metadata": {},
   "source": [
    "#### Multiple inputs and multiple outputs\n",
    "\n",
    "Three independent weighted sums of the input -> three predictions."
   ]
  },
  {
   "cell_type": "code",
   "execution_count": 14,
   "metadata": {},
   "outputs": [
    {
     "data": {
      "text/plain": [
       "[0.555, 0.9800000000000001, 0.9650000000000001]"
      ]
     },
     "execution_count": 14,
     "metadata": {},
     "output_type": "execute_result"
    }
   ],
   "source": [
    "def w_sum(a, b):\n",
    "    assert len(a) == len(b)\n",
    "    output = 0\n",
    "    for i in range(len(a)):\n",
    "        output += (a[i] * b[i])\n",
    "    return output\n",
    "\n",
    "def vect_mat_mul(vect, matrix):\n",
    "    assert len(vect) == len(matrix)\n",
    "    output = [0] * len(vect)\n",
    "    for i in range(len(vect)):\n",
    "        output[i] = w_sum(vect, matrix[i])\n",
    "    return output\n",
    "\n",
    "def neural_network(input, weights):\n",
    "    pred = vect_mat_mul(input, weights)\n",
    "    return pred\n",
    "\n",
    "weights = [\n",
    "    [0.1, 0.1, -0.3], # hurt?\n",
    "    [0.1, 0.2, 0.0],  # win?\n",
    "    [0.0, 1.3, 0.1],  # sad?\n",
    "]\n",
    "\n",
    "toes = [8.5, 9.5, 9.9, 9.0]\n",
    "wlrec = [0.65, 0.8, 0.8, 0.9]\n",
    "nfans = [1.2, 1.3, 0.5, 1.0]\n",
    "\n",
    "input = [toes[0], wlrec[0], nfans[0]]\n",
    "pred = neural_network(input, weights)\n",
    "pred"
   ]
  },
  {
   "cell_type": "markdown",
   "metadata": {},
   "source": [
    "#### Predictions on predictions\n",
    "\n",
    "Take the output of one network and use it as input to another."
   ]
  },
  {
   "cell_type": "code",
   "execution_count": 15,
   "metadata": {},
   "outputs": [
    {
     "data": {
      "text/plain": [
       "[0.21350000000000002, 0.14500000000000002, 0.5065]"
      ]
     },
     "execution_count": 15,
     "metadata": {},
     "output_type": "execute_result"
    }
   ],
   "source": [
    "ih_wgt = [\n",
    "    [0.1, 0.2, -0.1], # hid[0]\n",
    "    [-0.1,0.1, 0.9],  # hid[1]\n",
    "    [0.1, 0.4, 0.1],  # hid[2]\n",
    "]\n",
    "\n",
    "hp_wgt = [\n",
    "    [0.3, 1.1, -0.3], # hurt?\n",
    "    [0.1, 0.2, 0.0],  # win?\n",
    "    [0.0, 1.3, 0.1],  # sad?\n",
    "]\n",
    "\n",
    "weights = [ih_wgt, hp_wgt]\n",
    "\n",
    "def neural_network(input, weights):\n",
    "    hid = vect_mat_mul(input, weights[0])\n",
    "    pred = vect_mat_mul(hid, weights[1])\n",
    "    return pred\n",
    "\n",
    "neural_network(input, weights)"
   ]
  },
  {
   "cell_type": "code",
   "execution_count": 18,
   "metadata": {},
   "outputs": [
    {
     "data": {
      "text/plain": [
       "array([ 0.496,  1.256, -0.286])"
      ]
     },
     "execution_count": 18,
     "metadata": {},
     "output_type": "execute_result"
    }
   ],
   "source": [
    "# === numpy version === #\n",
    "import numpy as np\n",
    "\n",
    "ih_wgt = np.array([\n",
    "    [0.1, 0.2, -0.1], # hid[0]\n",
    "    [-0.1,0.1, 0.9],  # hid[1]\n",
    "    [0.1, 0.4, 0.1],  # hid[2]\n",
    "])\n",
    "\n",
    "hp_wgt = np.array([\n",
    "    [0.3, 1.1, -0.3], # hurt?\n",
    "    [0.1, 0.2, 0.0],  # win?\n",
    "    [0.0, 1.3, 0.1],  # sad?\n",
    "])\n",
    "\n",
    "weights = [ih_wgt, hp_wgt]\n",
    "\n",
    "input = np.array([toes[0], wlrec[0], nfans[0]])\n",
    "\n",
    "def neural_network(input, weights):\n",
    "    hid = input.dot(weights[0])\n",
    "    pred = hid.dot(weights[1])\n",
    "    return pred\n",
    "\n",
    "neural_network(input, weights)"
   ]
  },
  {
   "cell_type": "markdown",
   "metadata": {},
   "source": [
    "For dot product: put the (rows, columns) shapes next to each other - the inner ones should match."
   ]
  },
  {
   "cell_type": "markdown",
   "metadata": {},
   "source": [
    "---\n",
    "\n",
    "### Chapter 3: Review and solifidy\n",
    "\n",
    "> Record myself explaining (ELI5) the following topics\n",
    "\n",
    "* [ ] What is a neural network and what does it do?\n",
    "* [ ] What is the intuition behind the dot product of two vectors?\n",
    "* [ ] What dimensions have to match when taking the dot product?"
   ]
  },
  {
   "cell_type": "markdown",
   "metadata": {},
   "source": [
    "---\n",
    "---\n",
    "\n",
    "## Chapter 4: Gradient Descent\n",
    "\n",
    "* Do neural networks make accurate predictions?\n",
    "* Why measure error?\n",
    "* Hot and cold learning\n",
    "* Calculating both direction and amount from error\n",
    "* Gradient descent\n",
    "* Learning is just reducing error\n",
    "* Derivatives and how to use them to learn\n",
    "* Divergence and alpha\n",
    "\n",
    "> Or, the \"compare\" and \"learn\" part of the \"predict, compare, and learn\" process.\n",
    "\n",
    "Compare provides a measurement of how far off a prediction was, while learning tells each weight how it can change to reduce the error."
   ]
  },
  {
   "cell_type": "markdown",
   "metadata": {},
   "source": [
    "### Compare\n",
    "\n",
    "Does your network make good predictions?\n",
    "\n",
    "* Measuring error simplifies the problem\n",
    "* Different ways of measuring error prioritize error differently\n",
    "  * Mean squared error amplifies large error and minimizes small error"
   ]
  },
  {
   "cell_type": "code",
   "execution_count": 19,
   "metadata": {},
   "outputs": [
    {
     "name": "stdout",
     "output_type": "stream",
     "text": [
      "0.30250000000000005\n"
     ]
    }
   ],
   "source": [
    "knob_weight = 0.5\n",
    "input = 0.5\n",
    "goal_pred = 0.8\n",
    "\n",
    "pred = input * knob_weight\n",
    "error = (pred - goal_pred) ** 2\n",
    "\n",
    "print(error)"
   ]
  },
  {
   "cell_type": "code",
   "execution_count": null,
   "metadata": {},
   "outputs": [],
   "source": []
  },
  {
   "cell_type": "code",
   "execution_count": null,
   "metadata": {},
   "outputs": [],
   "source": []
  },
  {
   "cell_type": "code",
   "execution_count": null,
   "metadata": {},
   "outputs": [],
   "source": []
  },
  {
   "cell_type": "code",
   "execution_count": null,
   "metadata": {},
   "outputs": [],
   "source": []
  },
  {
   "cell_type": "code",
   "execution_count": null,
   "metadata": {},
   "outputs": [],
   "source": []
  },
  {
   "cell_type": "code",
   "execution_count": null,
   "metadata": {},
   "outputs": [],
   "source": []
  },
  {
   "cell_type": "code",
   "execution_count": null,
   "metadata": {},
   "outputs": [],
   "source": []
  },
  {
   "cell_type": "code",
   "execution_count": null,
   "metadata": {},
   "outputs": [],
   "source": []
  },
  {
   "cell_type": "code",
   "execution_count": null,
   "metadata": {},
   "outputs": [],
   "source": []
  },
  {
   "cell_type": "code",
   "execution_count": null,
   "metadata": {},
   "outputs": [],
   "source": []
  },
  {
   "cell_type": "code",
   "execution_count": null,
   "metadata": {},
   "outputs": [],
   "source": []
  },
  {
   "cell_type": "code",
   "execution_count": null,
   "metadata": {},
   "outputs": [],
   "source": []
  },
  {
   "cell_type": "code",
   "execution_count": null,
   "metadata": {},
   "outputs": [],
   "source": []
  },
  {
   "cell_type": "code",
   "execution_count": null,
   "metadata": {},
   "outputs": [],
   "source": []
  },
  {
   "cell_type": "code",
   "execution_count": null,
   "metadata": {},
   "outputs": [],
   "source": []
  }
 ],
 "metadata": {
  "kernelspec": {
   "display_name": "Python 3.7.6 64-bit ('vela': pipenv)",
   "language": "python",
   "name": "python37664bitvelapipenvde09592071074af6a70ce3b1ce38af95"
  },
  "language_info": {
   "codemirror_mode": {
    "name": "ipython",
    "version": 3
   },
   "file_extension": ".py",
   "mimetype": "text/x-python",
   "name": "python",
   "nbconvert_exporter": "python",
   "pygments_lexer": "ipython3",
   "version": "3.7.6"
  }
 },
 "nbformat": 4,
 "nbformat_minor": 4
}
