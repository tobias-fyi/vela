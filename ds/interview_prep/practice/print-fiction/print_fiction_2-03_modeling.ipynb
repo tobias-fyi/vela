{
 "cells": [
  {
   "cell_type": "markdown",
   "metadata": {
    "colab_type": "text",
    "id": "6K-Ijmo7VceT"
   },
   "source": [
    "# 👽👾 `print(fiction)` 📚🛸\n",
    "\n",
    "> #### A data science project by _Tobias Reaper_\n",
    "\n",
    "#### 📓 Notebook 3: Modeling 🧠"
   ]
  },
  {
   "cell_type": "markdown",
   "metadata": {},
   "source": [
    "---\n",
    "\n",
    "### Notebook Outline\n",
    "\n",
    "* Intro\n",
    "* Imports and configuration\n",
    "* "
   ]
  },
  {
   "cell_type": "markdown",
   "metadata": {},
   "source": [
    "---\n",
    "\n",
    "## Intro\n",
    "\n",
    "[quick intro to project]\n",
    "\n",
    "[explanation of this notebook in context of project]"
   ]
  },
  {
   "cell_type": "markdown",
   "metadata": {
    "colab_type": "text",
    "id": "NCMU9Y5DVvT5"
   },
   "source": [
    "---\n",
    "\n",
    "### 📥 Initial Imports and Configuration ⚙️"
   ]
  },
  {
   "cell_type": "code",
   "execution_count": 9,
   "metadata": {
    "colab": {},
    "colab_type": "code",
    "id": "cOS1Wyo0VZQM"
   },
   "outputs": [],
   "source": [
    "# === General Imports === #\n",
    "import pandas as pd\n",
    "import numpy as np\n",
    "import matplotlib.pyplot as plt\n",
    "import seaborn as sns\n",
    "\n",
    "import os\n",
    "import janitor"
   ]
  },
  {
   "cell_type": "code",
   "execution_count": 2,
   "metadata": {},
   "outputs": [],
   "source": [
    "# === Configure === #\n",
    "%matplotlib inline\n",
    "pd.options.display.max_rows = 200\n",
    "pd.options.display.max_columns = 200"
   ]
  },
  {
   "cell_type": "code",
   "execution_count": 15,
   "metadata": {},
   "outputs": [],
   "source": [
    "# === ML Imports === #\n",
    "import category_encoders as ce\n",
    "from sklearn.preprocessing import StandardScaler\n",
    "from sklearn.impute import SimpleImputer\n",
    "from sklearn.model_selection import train_test_split, cross_val_score, RandomizedSearchCV\n",
    "from sklearn.pipeline import make_pipeline\n",
    "from sklearn.metrics import confusion_matrix, accuracy_score\n",
    "from sklearn.linear_model import LogisticRegression\n",
    "from sklearn.ensemble import RandomForestClassifier"
   ]
  },
  {
   "cell_type": "markdown",
   "metadata": {},
   "source": [
    "---\n",
    "\n",
    "## 📈 Load Data"
   ]
  },
  {
   "cell_type": "code",
   "execution_count": 4,
   "metadata": {
    "colab": {},
    "colab_type": "code",
    "id": "ndvQA9x5WtnB"
   },
   "outputs": [
    {
     "name": "stdout",
     "output_type": "stream",
     "text": [
      "(18344, 18)\n"
     ]
    },
    {
     "data": {
      "text/html": [
       "<div>\n",
       "<style scoped>\n",
       "    .dataframe tbody tr th:only-of-type {\n",
       "        vertical-align: middle;\n",
       "    }\n",
       "\n",
       "    .dataframe tbody tr th {\n",
       "        vertical-align: top;\n",
       "    }\n",
       "\n",
       "    .dataframe thead th {\n",
       "        text-align: right;\n",
       "    }\n",
       "</style>\n",
       "<table border=\"1\" class=\"dataframe\">\n",
       "  <thead>\n",
       "    <tr style=\"text-align: right;\">\n",
       "      <th></th>\n",
       "      <th>title</th>\n",
       "      <th>author</th>\n",
       "      <th>num_ratings</th>\n",
       "      <th>num_reviews</th>\n",
       "      <th>avg_rating</th>\n",
       "      <th>num_pages</th>\n",
       "      <th>language</th>\n",
       "      <th>series</th>\n",
       "      <th>1_rating_count</th>\n",
       "      <th>2_rating_count</th>\n",
       "      <th>3_rating_count</th>\n",
       "      <th>4_rating_count</th>\n",
       "      <th>5_rating_count</th>\n",
       "      <th>publish_year</th>\n",
       "      <th>publish_month</th>\n",
       "      <th>publish_day</th>\n",
       "      <th>fiction</th>\n",
       "      <th>republish</th>\n",
       "    </tr>\n",
       "  </thead>\n",
       "  <tbody>\n",
       "    <tr>\n",
       "      <th>0</th>\n",
       "      <td>The Book of Mormon: Another Testament of Jesus...</td>\n",
       "      <td>Anonymous</td>\n",
       "      <td>71355.0</td>\n",
       "      <td>5704.0</td>\n",
       "      <td>4.37</td>\n",
       "      <td>531.0</td>\n",
       "      <td>English</td>\n",
       "      <td>0</td>\n",
       "      <td>7520.0</td>\n",
       "      <td>2697.0</td>\n",
       "      <td>2521.0</td>\n",
       "      <td>1963.0</td>\n",
       "      <td>56654.0</td>\n",
       "      <td>2013.0</td>\n",
       "      <td>10.0</td>\n",
       "      <td>22.0</td>\n",
       "      <td>0</td>\n",
       "      <td>1</td>\n",
       "    </tr>\n",
       "    <tr>\n",
       "      <th>1</th>\n",
       "      <td>The Prince</td>\n",
       "      <td>Niccolò Machiavelli</td>\n",
       "      <td>229715.0</td>\n",
       "      <td>7261.0</td>\n",
       "      <td>3.81</td>\n",
       "      <td>140.0</td>\n",
       "      <td>English</td>\n",
       "      <td>0</td>\n",
       "      <td>5254.0</td>\n",
       "      <td>16827.0</td>\n",
       "      <td>61182.0</td>\n",
       "      <td>80221.0</td>\n",
       "      <td>66231.0</td>\n",
       "      <td>2003.0</td>\n",
       "      <td>6.0</td>\n",
       "      <td>1.0</td>\n",
       "      <td>0</td>\n",
       "      <td>1</td>\n",
       "    </tr>\n",
       "    <tr>\n",
       "      <th>2</th>\n",
       "      <td>The Foundation Trilogy</td>\n",
       "      <td>Isaac Asimov</td>\n",
       "      <td>83933.0</td>\n",
       "      <td>1331.0</td>\n",
       "      <td>4.40</td>\n",
       "      <td>679.0</td>\n",
       "      <td>English</td>\n",
       "      <td>1</td>\n",
       "      <td>477.0</td>\n",
       "      <td>1521.0</td>\n",
       "      <td>9016.0</td>\n",
       "      <td>25447.0</td>\n",
       "      <td>47472.0</td>\n",
       "      <td>1974.0</td>\n",
       "      <td>1.0</td>\n",
       "      <td>1.0</td>\n",
       "      <td>1</td>\n",
       "      <td>1</td>\n",
       "    </tr>\n",
       "  </tbody>\n",
       "</table>\n",
       "</div>"
      ],
      "text/plain": [
       "                                               title               author  \\\n",
       "0  The Book of Mormon: Another Testament of Jesus...            Anonymous   \n",
       "1                                         The Prince  Niccolò Machiavelli   \n",
       "2                             The Foundation Trilogy         Isaac Asimov   \n",
       "\n",
       "   num_ratings  num_reviews  avg_rating  num_pages language  series  \\\n",
       "0      71355.0       5704.0        4.37      531.0  English       0   \n",
       "1     229715.0       7261.0        3.81      140.0  English       0   \n",
       "2      83933.0       1331.0        4.40      679.0  English       1   \n",
       "\n",
       "   1_rating_count  2_rating_count  3_rating_count  4_rating_count  \\\n",
       "0          7520.0          2697.0          2521.0          1963.0   \n",
       "1          5254.0         16827.0         61182.0         80221.0   \n",
       "2           477.0          1521.0          9016.0         25447.0   \n",
       "\n",
       "   5_rating_count  publish_year  publish_month  publish_day  fiction  \\\n",
       "0         56654.0        2013.0           10.0         22.0        0   \n",
       "1         66231.0        2003.0            6.0          1.0        0   \n",
       "2         47472.0        1974.0            1.0          1.0        1   \n",
       "\n",
       "   republish  \n",
       "0          1  \n",
       "1          1  \n",
       "2          1  "
      ]
     },
     "execution_count": 4,
     "metadata": {},
     "output_type": "execute_result"
    }
   ],
   "source": [
    "# === Load the dataset === #\n",
    "# This version was exported from the previous notebook\n",
    "# after doing some initial wrangling\n",
    "data_path = \"assets/must_read_books-02.csv\"\n",
    "\n",
    "books = pd.read_csv(data_path, na_values=\"?\")\n",
    "print(books.shape)\n",
    "books.head(3)"
   ]
  },
  {
   "cell_type": "code",
   "execution_count": 4,
   "metadata": {},
   "outputs": [
    {
     "data": {
      "text/plain": [
       "title                0\n",
       "author               0\n",
       "num_ratings          0\n",
       "num_reviews          0\n",
       "avg_rating           0\n",
       "num_pages          666\n",
       "language          1332\n",
       "series               0\n",
       "1_rating_count      83\n",
       "2_rating_count      83\n",
       "3_rating_count      83\n",
       "4_rating_count      83\n",
       "5_rating_count      83\n",
       "publish_year       282\n",
       "publish_month      282\n",
       "publish_day        282\n",
       "fiction              0\n",
       "republish            0\n",
       "dtype: int64"
      ]
     },
     "execution_count": 4,
     "metadata": {},
     "output_type": "execute_result"
    }
   ],
   "source": [
    "# === Confirm null values were read in correctly === #\n",
    "books.isnull().sum()"
   ]
  },
  {
   "cell_type": "markdown",
   "metadata": {},
   "source": [
    "---\n",
    "\n",
    "## Model validation\n",
    "\n",
    "* Split data into train, validation, and test sets\n",
    "* Choose an appropriate evaluation metric\n",
    "* Get a baseline accuracy (or precision/recall)"
   ]
  },
  {
   "cell_type": "code",
   "execution_count": 5,
   "metadata": {},
   "outputs": [
    {
     "data": {
      "text/plain": [
       "((11740, 18), (2935, 18), (3669, 18))"
      ]
     },
     "execution_count": 5,
     "metadata": {},
     "output_type": "execute_result"
    }
   ],
   "source": [
    "# === Split up data into train / val / test === #\n",
    "train, test = train_test_split(books, stratify=books[\"fiction\"], test_size=0.2, random_state=92)\n",
    "train, val = train_test_split(train, stratify=train[\"fiction\"], test_size=0.2, random_state=92)\n",
    "\n",
    "train.shape, val.shape, test.shape"
   ]
  },
  {
   "cell_type": "code",
   "execution_count": 7,
   "metadata": {},
   "outputs": [
    {
     "name": "stdout",
     "output_type": "stream",
     "text": [
      "(11740,) (2935,) (3669,)\n",
      "(11740, 17) (2935, 17) (3669, 17)\n"
     ]
    }
   ],
   "source": [
    "# === Set up target and features === #\n",
    "\n",
    "target = \"fiction\"\n",
    "\n",
    "# Arrange y vector\n",
    "y_train = train[target]\n",
    "y_val = val[target]\n",
    "y_test = test[target]\n",
    "\n",
    "print(y_train.shape, y_val.shape, y_test.shape)\n",
    "\n",
    "# Arrange X matrices\n",
    "X_train = train.drop(columns=[target])\n",
    "X_val = val.drop(columns=[target])\n",
    "X_test = test.drop(columns=[target])\n",
    "\n",
    "print(X_train.shape, X_val.shape, X_test.shape)"
   ]
  },
  {
   "cell_type": "code",
   "execution_count": 12,
   "metadata": {},
   "outputs": [
    {
     "name": "stdout",
     "output_type": "stream",
     "text": [
      "1    6145\n",
      "0    5595\n",
      "Name: fiction, dtype: int64\n"
     ]
    },
    {
     "data": {
      "image/png": "[encoded data removed]",
      "text/plain": [
       "<Figure size 432x288 with 1 Axes>"
      ]
     },
     "metadata": {
      "needs_background": "light"
     },
     "output_type": "display_data"
    }
   ],
   "source": [
    "# === Target distribution === #\n",
    "print(y_train.value_counts())\n",
    "sns.distplot(y_train);"
   ]
  },
  {
   "cell_type": "markdown",
   "metadata": {},
   "source": [
    "#### Majority class baseline"
   ]
  },
  {
   "cell_type": "code",
   "execution_count": 16,
   "metadata": {},
   "outputs": [
    {
     "data": {
      "text/plain": [
       "0.5234241908006815"
      ]
     },
     "execution_count": 16,
     "metadata": {},
     "output_type": "execute_result"
    }
   ],
   "source": [
    "# === Use mode as predictions === #\n",
    "maj = y_train.mode()[0]  # Mode is 1 (fiction)\n",
    "\n",
    "# Simply predict 1 for every training example\n",
    "y_pred_maj = [maj] * len(y_train)\n",
    "\n",
    "# Baseline accuracy\n",
    "accuracy_score(y_train, y_pred_maj)"
   ]
  },
  {
   "cell_type": "markdown",
   "metadata": {},
   "source": [
    "#### Limited logistic baseline"
   ]
  },
  {
   "cell_type": "code",
   "execution_count": 17,
   "metadata": {},
   "outputs": [
    {
     "data": {
      "text/plain": [
       "((11740, 3), (2935, 3), (3669, 3))"
      ]
     },
     "execution_count": 17,
     "metadata": {},
     "output_type": "execute_result"
    }
   ],
   "source": [
    "# === Use only a few features for this baseline === #\n",
    "base_features = [\n",
    "    \"num_reviews\",\n",
    "    \"avg_rating\",\n",
    "    \"num_pages\",\n",
    "]\n",
    "\n",
    "# Arrange X matrices\n",
    "X1_train = train[base_features]\n",
    "X1_val = val[base_features]\n",
    "X1_test = test[base_features]\n",
    "\n",
    "X1_train.shape, X1_val.shape, X1_test.shape"
   ]
  },
  {
   "cell_type": "code",
   "execution_count": 18,
   "metadata": {},
   "outputs": [
    {
     "data": {
      "text/plain": [
       "Pipeline(steps=[('standardscaler', StandardScaler()),\n",
       "                ('simpleimputer', SimpleImputer(strategy='median')),\n",
       "                ('logisticregression', LogisticRegression(random_state=92))])"
      ]
     },
     "execution_count": 18,
     "metadata": {},
     "output_type": "execute_result"
    }
   ],
   "source": [
    "# === Baseline model === #\n",
    "base_pipe = make_pipeline(\n",
    "    StandardScaler(),\n",
    "    SimpleImputer(strategy=\"median\"),\n",
    "    LogisticRegression(random_state=92),\n",
    ")\n",
    "\n",
    "# Train base pipeline\n",
    "base_pipe.fit(X1_train, y_train)"
   ]
  },
  {
   "cell_type": "code",
   "execution_count": 19,
   "metadata": {},
   "outputs": [
    {
     "name": "stdout",
     "output_type": "stream",
     "text": [
      "Baseline accuracy: 0.6275979557069846\n"
     ]
    }
   ],
   "source": [
    "# === Made predictions to get validation accuracy === #\n",
    "y_pred_base = base_pipe.predict(X1_val)\n",
    "\n",
    "# Compute accuracy\n",
    "print(\"Baseline accuracy:\", accuracy_score(y_val, y_pred_base))"
   ]
  },
  {
   "cell_type": "code",
   "execution_count": 20,
   "metadata": {},
   "outputs": [
    {
     "data": {
      "text/plain": [
       "array([[ 821,  578],\n",
       "       [ 515, 1021]])"
      ]
     },
     "execution_count": 20,
     "metadata": {},
     "output_type": "execute_result"
    }
   ],
   "source": [
    "# === Baseline confusion matrix === #\n",
    "confusion_matrix(y_val, y_pred_base)"
   ]
  },
  {
   "cell_type": "code",
   "execution_count": null,
   "metadata": {},
   "outputs": [],
   "source": []
  },
  {
   "cell_type": "code",
   "execution_count": null,
   "metadata": {},
   "outputs": [],
   "source": []
  },
  {
   "cell_type": "code",
   "execution_count": null,
   "metadata": {},
   "outputs": [],
   "source": []
  },
  {
   "cell_type": "code",
   "execution_count": null,
   "metadata": {},
   "outputs": [],
   "source": []
  },
  {
   "cell_type": "code",
   "execution_count": null,
   "metadata": {},
   "outputs": [],
   "source": []
  },
  {
   "cell_type": "markdown",
   "metadata": {},
   "source": [
    "## Iterate\n",
    "\n",
    "* Engineer more features\n",
    "* Iterate and tune hyperparameters"
   ]
  },
  {
   "cell_type": "code",
   "execution_count": null,
   "metadata": {},
   "outputs": [],
   "source": []
  },
  {
   "cell_type": "code",
   "execution_count": null,
   "metadata": {},
   "outputs": [],
   "source": []
  },
  {
   "cell_type": "code",
   "execution_count": null,
   "metadata": {},
   "outputs": [],
   "source": []
  },
  {
   "cell_type": "code",
   "execution_count": null,
   "metadata": {},
   "outputs": [],
   "source": []
  },
  {
   "cell_type": "code",
   "execution_count": null,
   "metadata": {},
   "outputs": [],
   "source": []
  },
  {
   "cell_type": "code",
   "execution_count": null,
   "metadata": {},
   "outputs": [],
   "source": []
  },
  {
   "cell_type": "code",
   "execution_count": null,
   "metadata": {},
   "outputs": [],
   "source": []
  }
 ],
 "metadata": {
  "colab": {
   "collapsed_sections": [],
   "name": "print-fiction-2-01.ipynb",
   "provenance": []
  },
  "kernelspec": {
   "display_name": "Python 3",
   "language": "python",
   "name": "python3"
  },
  "language_info": {
   "codemirror_mode": {
    "name": "ipython",
    "version": 3
   },
   "file_extension": ".py",
   "mimetype": "text/x-python",
   "name": "python",
   "nbconvert_exporter": "python",
   "pygments_lexer": "ipython3",
   "version": "3.7.6"
  }
 },
 "nbformat": 4,
 "nbformat_minor": 4
}
