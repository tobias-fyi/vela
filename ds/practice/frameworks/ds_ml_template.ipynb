{
 "cells": [
  {
   "cell_type": "markdown",
   "id": "sized-bishop",
   "metadata": {},
   "source": [
    "# Data Science Template\n",
    "\n",
    "By Tobias Reaper"
   ]
  },
  {
   "cell_type": "markdown",
   "id": "contemporary-wyoming",
   "metadata": {},
   "source": [
    "---\n",
    "\n",
    "## Contents\n",
    "\n"
   ]
  },
  {
   "cell_type": "markdown",
   "id": "valid-boulder",
   "metadata": {},
   "source": [
    "---\n",
    "\n",
    "## Description\n"
   ]
  },
  {
   "cell_type": "markdown",
   "id": "structural-investing",
   "metadata": {},
   "source": [
    "---\n",
    "\n",
    "## Introduction\n",
    "\n",
    "### Business Question\n",
    "\n",
    "#### How does this help the business?\n",
    "\n",
    "### Solution Overview\n",
    "\n",
    "- Assumptions:\n",
    "- Supervised model\n",
    "- Type of classification / regression / etc.\n",
    "\n",
    "#### Process\n",
    "\n",
    "- Data processing and exploration\n",
    "  - Target engineering\n",
    "  - Explore the data: types, ranges, distributions, outliers\n",
    "  - Feature relationships\n",
    "- Evaluate models\n",
    "  - Split data into train and test\n",
    "  - Choose evaluation metric\n",
    "  - Start with a baseline model\n",
    "  - Tune hyperparameters and conduct feature engineering to increase predictive power"
   ]
  },
  {
   "cell_type": "markdown",
   "id": "continent-exclusion",
   "metadata": {},
   "source": [
    "---\n",
    "\n",
    "## Data and Libraries Setup"
   ]
  },
  {
   "cell_type": "markdown",
   "id": "postal-instrumentation",
   "metadata": {},
   "source": [
    "### Imports and Configuration"
   ]
  },
  {
   "cell_type": "code",
   "execution_count": null,
   "id": "stretch-change",
   "metadata": {},
   "outputs": [],
   "source": [
    "# Basic imports\n",
    "import pandas as pd\n",
    "import numpy as np\n",
    "import matplotlib.pyplot as plt\n",
    "import seaborn as sns\n",
    "\n",
    "# ML / sklearn imports\n",
    "from sklearn.model_selection import train_test_split, RandomizedSearchCV\n",
    "from sklearn.ensemble import RandomForestClassifier"
   ]
  },
  {
   "cell_type": "code",
   "execution_count": null,
   "id": "trained-karaoke",
   "metadata": {},
   "outputs": [],
   "source": [
    "# Configuration\n",
    "pd.options.display.max_columns = None\n",
    "# Suppress scientific notation\n",
    "pd.options.display.float_format = '{:.2f}'.format\n",
    "seed = 92  # Set a random seed"
   ]
  },
  {
   "cell_type": "markdown",
   "id": "accompanied-photograph",
   "metadata": {},
   "source": [
    "### Data import and overview\n",
    "\n",
    "- Preview of columns\n",
    "- Drop unneeded columns\n",
    "- Deal with null values\n",
    "- What are the data types and do any need to be fixed?"
   ]
  },
  {
   "cell_type": "code",
   "execution_count": null,
   "id": "attractive-frontier",
   "metadata": {},
   "outputs": [],
   "source": [
    "# Import ____\n",
    "df = pd.read_csv()\n",
    "df.head()"
   ]
  },
  {
   "cell_type": "code",
   "execution_count": null,
   "id": "otherwise-furniture",
   "metadata": {},
   "outputs": [],
   "source": [
    "# Basic shape of data\n",
    "df.shape"
   ]
  },
  {
   "cell_type": "code",
   "execution_count": null,
   "id": "local-ordering",
   "metadata": {},
   "outputs": [],
   "source": [
    "# Take a look at data types\n",
    "df.dtypes"
   ]
  },
  {
   "cell_type": "markdown",
   "id": "verified-junction",
   "metadata": {},
   "source": [
    "---\n",
    "\n",
    "## Data Exploration and Preprocessing"
   ]
  },
  {
   "cell_type": "markdown",
   "id": "surface-single",
   "metadata": {},
   "source": [
    "### Data types"
   ]
  },
  {
   "cell_type": "code",
   "execution_count": null,
   "id": "northern-seeker",
   "metadata": {},
   "outputs": [],
   "source": [
    "# Convert dates to datetimes"
   ]
  },
  {
   "cell_type": "markdown",
   "id": "collective-being",
   "metadata": {},
   "source": [
    "### Target engineering"
   ]
  },
  {
   "cell_type": "code",
   "execution_count": null,
   "id": "complete-ratio",
   "metadata": {},
   "outputs": [],
   "source": []
  },
  {
   "cell_type": "code",
   "execution_count": null,
   "id": "based-daniel",
   "metadata": {},
   "outputs": [],
   "source": []
  },
  {
   "cell_type": "code",
   "execution_count": null,
   "id": "impressed-lunch",
   "metadata": {},
   "outputs": [],
   "source": []
  },
  {
   "cell_type": "markdown",
   "id": "affecting-commercial",
   "metadata": {},
   "source": [
    "### Data exploration"
   ]
  },
  {
   "cell_type": "code",
   "execution_count": null,
   "id": "laughing-means",
   "metadata": {},
   "outputs": [],
   "source": []
  },
  {
   "cell_type": "code",
   "execution_count": null,
   "id": "hearing-procurement",
   "metadata": {},
   "outputs": [],
   "source": []
  },
  {
   "cell_type": "code",
   "execution_count": null,
   "id": "experienced-brake",
   "metadata": {},
   "outputs": [],
   "source": []
  },
  {
   "cell_type": "markdown",
   "id": "meaning-sigma",
   "metadata": {},
   "source": [
    "---\n",
    "\n",
    "## Modeling\n",
    "\n",
    "- Split into train and test\n",
    "- Choose evaluation metric\n",
    "- Baseline model\n",
    "- Iterate\n",
    "  - Feature engineering\n",
    "  - Hyperparameter tuning\n",
    "- Validate"
   ]
  },
  {
   "cell_type": "markdown",
   "id": "congressional-cooler",
   "metadata": {},
   "source": [
    "### Split data into train and test"
   ]
  },
  {
   "cell_type": "code",
   "execution_count": null,
   "id": "encouraging-assault",
   "metadata": {},
   "outputs": [],
   "source": []
  },
  {
   "cell_type": "code",
   "execution_count": null,
   "id": "chinese-purse",
   "metadata": {},
   "outputs": [],
   "source": []
  },
  {
   "cell_type": "markdown",
   "id": "unsigned-retreat",
   "metadata": {},
   "source": [
    "### Baseline model pipeline"
   ]
  },
  {
   "cell_type": "code",
   "execution_count": null,
   "id": "attended-tiffany",
   "metadata": {},
   "outputs": [],
   "source": []
  },
  {
   "cell_type": "code",
   "execution_count": null,
   "id": "loose-fetish",
   "metadata": {},
   "outputs": [],
   "source": []
  },
  {
   "cell_type": "code",
   "execution_count": null,
   "id": "driven-editor",
   "metadata": {},
   "outputs": [],
   "source": []
  },
  {
   "cell_type": "markdown",
   "id": "inner-warning",
   "metadata": {},
   "source": [
    "### Feature engineering"
   ]
  },
  {
   "cell_type": "code",
   "execution_count": null,
   "id": "framed-australian",
   "metadata": {},
   "outputs": [],
   "source": []
  },
  {
   "cell_type": "code",
   "execution_count": null,
   "id": "handled-sheep",
   "metadata": {},
   "outputs": [],
   "source": []
  },
  {
   "cell_type": "code",
   "execution_count": null,
   "id": "innocent-absorption",
   "metadata": {},
   "outputs": [],
   "source": []
  },
  {
   "cell_type": "markdown",
   "id": "southeast-lunch",
   "metadata": {},
   "source": [
    "### Hyperparameter tuning"
   ]
  },
  {
   "cell_type": "code",
   "execution_count": null,
   "id": "stone-tomorrow",
   "metadata": {},
   "outputs": [],
   "source": []
  },
  {
   "cell_type": "code",
   "execution_count": null,
   "id": "english-tiger",
   "metadata": {},
   "outputs": [],
   "source": []
  },
  {
   "cell_type": "code",
   "execution_count": null,
   "id": "considered-ranch",
   "metadata": {},
   "outputs": [],
   "source": []
  },
  {
   "cell_type": "code",
   "execution_count": null,
   "id": "demographic-steel",
   "metadata": {},
   "outputs": [],
   "source": []
  },
  {
   "cell_type": "code",
   "execution_count": null,
   "id": "satisfied-provider",
   "metadata": {},
   "outputs": [],
   "source": []
  },
  {
   "cell_type": "code",
   "execution_count": null,
   "id": "guided-genome",
   "metadata": {},
   "outputs": [],
   "source": []
  },
  {
   "cell_type": "code",
   "execution_count": null,
   "id": "multiple-tutorial",
   "metadata": {},
   "outputs": [],
   "source": []
  },
  {
   "cell_type": "code",
   "execution_count": null,
   "id": "developed-villa",
   "metadata": {},
   "outputs": [],
   "source": []
  }
 ],
 "metadata": {
  "kernelspec": {
   "display_name": "Python 3.7.6 64-bit ('vela': pipenv)",
   "language": "python",
   "name": "python37664bitvelapipenvde09592071074af6a70ce3b1ce38af95"
  },
  "language_info": {
   "codemirror_mode": {
    "name": "ipython",
    "version": 3
   },
   "file_extension": ".py",
   "mimetype": "text/x-python",
   "name": "python",
   "nbconvert_exporter": "python",
   "pygments_lexer": "ipython3",
   "version": "3.7.6"
  }
 },
 "nbformat": 4,
 "nbformat_minor": 5
}
