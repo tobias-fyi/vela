{
 "cells": [
  {
   "cell_type": "markdown",
   "metadata": {},
   "source": [
    "# 20-07-27: Daily Practice"
   ]
  },
  {
   "cell_type": "markdown",
   "metadata": {},
   "source": [
    "---\n",
    "---\n",
    "\n",
    "## Daily practices\n",
    "\n",
    "* [ ] [Job Search](#2-Hour-Job-Search)\n",
    "  * [ ] LAMP List\n",
    "  * [ ] Network\n",
    "  * [ ] Social media\n",
    "  * [ ] Job applications\n",
    "* [ ] [Meta-data: read & write](#Meta-data:-reading-&-writing)\n",
    "* [ ] [Practice & learn](#Practice-&-learn)\n",
    "  * [ ] Coding, algorithms & data structures\n",
    "  * [ ] Data science: access, manipulation, analysis, visualization\n",
    "  * [ ] Engineering: SQL, PySpark, APIs, TDD, OOP\n",
    "  * [ ] Machine learning: Scikit-learn, TensorFlow, PyTorch\n",
    "  * [ ] Interview questions (out loud)\n",
    "    * STAR storytelling"
   ]
  },
  {
   "cell_type": "markdown",
   "metadata": {},
   "source": [
    "---\n",
    "---\n",
    "\n",
    "## 2-Hour Job Search"
   ]
  },
  {
   "cell_type": "markdown",
   "metadata": {},
   "source": [
    "### Networking\n",
    "\n",
    "#### Denver Devs\n",
    "\n",
    "Set up my account on the Denver Devs slack, from a recommendation saying there are jobs and such posted there a lot. Introduced myself and all that.\n",
    "\n",
    "#### Connections\n",
    "\n",
    "More outreach to potential lead generators."
   ]
  },
  {
   "cell_type": "markdown",
   "metadata": {},
   "source": [
    "### Job Applications and Cover Letters"
   ]
  },
  {
   "cell_type": "markdown",
   "metadata": {},
   "source": [
    "#### Summary\n",
    "\n",
    "Data professional with a BS in Economics and years of experience with complex, data-driven software systems. Applied a wide range of expertise to design, develop, and implement key reports and data processes. Highly proficient with languages such as Python and SQL that cover the entire data lifecycle, from storage and access to transformation; from visualization and exploration to analysis and interpretation."
   ]
  },
  {
   "cell_type": "markdown",
   "metadata": {},
   "source": [
    "#### Cover Letter\n",
    "\n",
    "Put together a template for my cover letters, with the styling to match my resume and site."
   ]
  },
  {
   "cell_type": "markdown",
   "metadata": {},
   "source": [
    "---\n",
    "---\n",
    "\n",
    "## Meta-data: read & write"
   ]
  },
  {
   "cell_type": "markdown",
   "metadata": {},
   "source": []
  },
  {
   "cell_type": "markdown",
   "metadata": {},
   "source": []
  },
  {
   "cell_type": "markdown",
   "metadata": {},
   "source": [
    "---\n",
    "---\n",
    "\n",
    "## Practice & learn"
   ]
  },
  {
   "cell_type": "markdown",
   "metadata": {},
   "source": [
    "---\n",
    "\n",
    "### Coding, algorithms & data structures"
   ]
  },
  {
   "cell_type": "code",
   "execution_count": null,
   "metadata": {},
   "outputs": [],
   "source": []
  },
  {
   "cell_type": "markdown",
   "metadata": {},
   "source": [
    "---\n",
    "\n",
    "### Interview questions"
   ]
  },
  {
   "cell_type": "code",
   "execution_count": null,
   "metadata": {},
   "outputs": [],
   "source": []
  },
  {
   "cell_type": "markdown",
   "metadata": {},
   "source": [
    "---\n",
    "\n",
    "### Data science"
   ]
  },
  {
   "cell_type": "code",
   "execution_count": null,
   "metadata": {},
   "outputs": [],
   "source": []
  },
  {
   "cell_type": "markdown",
   "metadata": {},
   "source": [
    "---\n",
    "\n",
    "### Engineering"
   ]
  },
  {
   "cell_type": "markdown",
   "metadata": {},
   "source": [
    "#### Intro to Shell\n",
    "\n",
    "* Chapter 2: Manipulating Data (Review)\n",
    "* Chapter 3: Combining Tools\n",
    "  * Using the pipe to combine commands"
   ]
  },
  {
   "cell_type": "markdown",
   "metadata": {},
   "source": [
    "#### Django\n",
    "\n",
    "Spent 2 hours troubleshooting an error that is occurring on a Django app I built and deployed."
   ]
  },
  {
   "cell_type": "markdown",
   "metadata": {},
   "source": [
    "---\n",
    "\n",
    "### Machine learning"
   ]
  },
  {
   "cell_type": "code",
   "execution_count": null,
   "metadata": {},
   "outputs": [],
   "source": []
  },
  {
   "cell_type": "markdown",
   "metadata": {},
   "source": []
  },
  {
   "cell_type": "markdown",
   "metadata": {},
   "source": []
  },
  {
   "cell_type": "markdown",
   "metadata": {},
   "source": []
  },
  {
   "cell_type": "markdown",
   "metadata": {},
   "source": []
  }
 ],
 "metadata": {
  "kernelspec": {
   "display_name": "Python 3.7.6 64-bit ('vela': pipenv)",
   "language": "python",
   "name": "python37664bitvelapipenvde09592071074af6a70ce3b1ce38af95"
  },
  "language_info": {
   "codemirror_mode": {
    "name": "ipython",
    "version": 3
   },
   "file_extension": ".py",
   "mimetype": "text/x-python",
   "name": "python",
   "nbconvert_exporter": "python",
   "pygments_lexer": "ipython3",
   "version": "3.7.6"
  }
 },
 "nbformat": 4,
 "nbformat_minor": 4
}
