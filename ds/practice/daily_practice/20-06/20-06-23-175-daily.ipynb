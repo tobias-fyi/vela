{
 "cells": [
  {
   "cell_type": "markdown",
   "metadata": {},
   "source": [
    "# 20-06-23: Daily Data Practice"
   ]
  },
  {
   "cell_type": "markdown",
   "metadata": {},
   "source": [
    "---\n",
    "\n",
    "## Daily Practices\n",
    "\n",
    "* Practice with DS/ML tools and processes\n",
    "  * [fast.ai course](https://course.fast.ai/)\n",
    "  * Hands-on ML | NLP In Action | Dive Into Deep Learning | Coursera / guided projects\n",
    "    * Read, code along, take notes\n",
    "    * _test yourself on the concepts_ — i.e. do all the chapter exercises\n",
    "  * Try to hit benchmark accuracies with [UCI ML datasets](https://archive.ics.uci.edu/ml/index.php) or Kaggle\n",
    "* Coding & Problem Solving Practice\n",
    "  * HackerRank SQL or Packt SQL Data Analytics\n",
    "  * Python on HackerRank or similar platform\n",
    "* Meta Data: Review and write\n",
    "  * Focus on a topic, review notes and resources, write a blog post about it\n",
    "* 2-Hour Job Search\n",
    "* Interviewing\n",
    "  * Behavioral questions and scenarios\n",
    "  * Business case walk-throughs\n",
    "  * Hot-seat DS-related topics for recall practice (under pressure)"
   ]
  },
  {
   "cell_type": "markdown",
   "metadata": {},
   "source": [
    "---\n",
    "\n",
    "## Coding & Problem Solving Practice\n",
    "\n",
    "> Work through practice problems on HackerRank or similar"
   ]
  },
  {
   "cell_type": "markdown",
   "metadata": {},
   "source": [
    "### Python"
   ]
  },
  {
   "cell_type": "markdown",
   "metadata": {},
   "source": [
    "#### [Mini-Max Sum](https://www.hackerrank.com/challenges/mini-max-sum/problem)\n",
    "\n",
    "Given five positive integers, find the minimum and maximum values that can be calculated by summing exactly four of the five integers. Then print the respective minimum and maximum values as a single line of two space-separated long integers. "
   ]
  },
  {
   "cell_type": "code",
   "execution_count": null,
   "metadata": {},
   "outputs": [],
   "source": [
    "def miniMaxSum(arr):\n",
    "    # My first thought is that I can simply sort the array then sum the first\n",
    "    # four numbers for the min and last four for the max\n",
    "    pass"
   ]
  },
  {
   "cell_type": "code",
   "execution_count": 1,
   "metadata": {},
   "outputs": [
    {
     "name": "stdout",
     "output_type": "stream",
     "text": [
      "16 24\n"
     ]
    }
   ],
   "source": [
    "arr = [1, 3, 5, 7, 9]\n",
    "arr.sort()\n",
    "\n",
    "mini = sum(arr[:-1])\n",
    "maxi = sum(arr[-4:])\n",
    "\n",
    "print(mini, maxi)"
   ]
  },
  {
   "cell_type": "code",
   "execution_count": 4,
   "metadata": {},
   "outputs": [],
   "source": [
    "def miniMaxSum(arr):\n",
    "    \"\"\"Given five positive integers, finds the min and max values that can be\n",
    "    calculated by summing exactly four of the five integers.\n",
    "    \"\"\"\n",
    "    arr.sort()  # Make sure array is sorted\n",
    "    print(sum(arr[:-1]), sum(arr[-4:]))"
   ]
  },
  {
   "cell_type": "code",
   "execution_count": 5,
   "metadata": {},
   "outputs": [
    {
     "name": "stdout",
     "output_type": "stream",
     "text": [
      "16 24\n"
     ]
    }
   ],
   "source": [
    "miniMaxSum(arr)"
   ]
  },
  {
   "cell_type": "markdown",
   "metadata": {},
   "source": [
    "#### [Birthday Cake Candles](https://www.hackerrank.com/challenges/birthday-cake-candles/problem)\n",
    "\n",
    "You are in charge of the cake for your niece's birthday and have decided the cake will have one candle for each year of her total age. When she blows out the candles, she’ll only be able to blow out the tallest ones. Your task is to find out how many candles she can successfully blow out.\n",
    "\n",
    "For example, if your niece is turning 4 years old, and the cake will have 4 candles of height 4, 4, 1, 3, she will be able to blow out 2 candles successfully, since the tallest candles are of height 4 and there are 2 such candles.\n",
    "\n",
    "Complete the function birthdayCakeCandles below. It must return an integer representing the number of candles she can blow out. "
   ]
  },
  {
   "cell_type": "code",
   "execution_count": null,
   "metadata": {},
   "outputs": [],
   "source": [
    "# Complete the birthdayCakeCandles function below.\n",
    "def birthdayCakeCandles(ar):\n",
    "    # First idea is that I could use a counter data structure to count the\n",
    "    # number of instances of each number, then just return the count of the\n",
    "    # highest number (tallest candle) that has any instances.\n",
    "    pass"
   ]
  },
  {
   "cell_type": "code",
   "execution_count": 8,
   "metadata": {},
   "outputs": [
    {
     "data": {
      "text/plain": [
       "2"
      ]
     },
     "execution_count": 8,
     "metadata": {},
     "output_type": "execute_result"
    }
   ],
   "source": [
    "# === Example === #\n",
    "from collections import Counter\n",
    "\n",
    "arr = [4, 4, 1, 3]\n",
    "\n",
    "counter = Counter()\n",
    "for item in arr:\n",
    "    counter[item] += 1\n",
    "    \n",
    "counter.most_common(1)[0][1]"
   ]
  },
  {
   "cell_type": "code",
   "execution_count": 11,
   "metadata": {},
   "outputs": [],
   "source": [
    "def birthdayCakeCandles(ar):\n",
    "    counter = Counter()\n",
    "    for item in ar:\n",
    "        counter[item] += 1\n",
    "    return counter.most_common(1)[0][1]"
   ]
  },
  {
   "cell_type": "code",
   "execution_count": 12,
   "metadata": {},
   "outputs": [
    {
     "data": {
      "text/plain": [
       "2"
      ]
     },
     "execution_count": 12,
     "metadata": {},
     "output_type": "execute_result"
    }
   ],
   "source": [
    "birthdayCakeCandles(arr)"
   ]
  },
  {
   "cell_type": "markdown",
   "metadata": {},
   "source": [
    "#### [Time Conversion](https://www.hackerrank.com/challenges/time-conversion/problem)\n",
    "\n",
    "For tomorrow."
   ]
  },
  {
   "cell_type": "markdown",
   "metadata": {},
   "source": [
    "### SQL\n",
    "\n",
    "Applied SQL Analytics workshop on Packt."
   ]
  },
  {
   "cell_type": "markdown",
   "metadata": {},
   "source": [
    "#### Using Joins\n",
    "\n",
    "The head of sales at your company would like a list of all customers who bought a car. We need to create a query that will return all customer IDs, first names, last names, and valid phone numbers of customers who purchased a car.\n",
    "\n",
    "```SQL\n",
    "SELECT\n",
    "\tc.customer_id,\n",
    "\tc.first_name,\n",
    "\tc.last_name,\n",
    "\tc.phone\n",
    "FROM sales s\n",
    "INNER JOIN customers c ON c.customer_id = s.customer_id\n",
    "INNER JOIN products p ON p.product_id = s.product_id\n",
    "WHERE p.product_type = 'automobile'\n",
    "AND c.phone IS NOT NULL;\n",
    "```"
   ]
  },
  {
   "cell_type": "markdown",
   "metadata": {},
   "source": [
    "#### Subqueries\n",
    "\n",
    "Subqueries are a way to use the tables produced by the SELECT queries instead of referencing an existing table in your database. You can simply take a query, insert it between a pair of parentheses, and give it an alias.\n",
    "\n",
    "Find all the salespeople working in California:\n",
    "\n",
    "```SQL\n",
    "SELECT *\n",
    "FROM salespeople\n",
    "INNER JOIN (\n",
    "  SELECT * FROM dealerships\n",
    "  WHERE dealerships.state = 'CA'\n",
    "  ) d\n",
    "  ON d.dealership_id = salespeople.dealership_id\n",
    "ORDER BY 1;\n",
    "```\n",
    "\n",
    "If a query only has one column, you can use a subquery with the IN keyword in a WHERE clause. To extract the details from the salespeople table using the dealership ID for the state of California:\n",
    "\n",
    "```SQL\n",
    "SELECT *\n",
    "FROM salespeople\n",
    "WHERE dealership_id IN (\n",
    "  SELECT dealership_id from dealerships\n",
    "  WHERE dealerships.state = 'CA'\n",
    "  )\n",
    "ORDER BY 1;\n",
    "```"
   ]
  },
  {
   "cell_type": "markdown",
   "metadata": {},
   "source": [
    "#### Unions\n",
    "\n",
    "With joins, columns are added \"horizontally\" - _columns_ are added. Unions can keep the same number of columns but add together the rows of multiple queries.\n",
    "\n",
    "To visualize the addresses of dealerships and customers using Google Maps, you would need both the addresses of customers and dealerships.\n",
    "\n",
    "```SQL\n",
    "(\n",
    "  SELECT street_address, city, state, postal_code\n",
    "  FROM customers\n",
    "  WHERE street_address IS NOT NULL\n",
    ")\n",
    "UNION\n",
    "(\n",
    "  SELECT street_address, city, state, postal_code\n",
    "  FROM dealerships\n",
    "  WHERE street_address IS NOT NULL\n",
    ")\n",
    "ORDER BY 1;\n",
    "```\n",
    "\n",
    "Notes:\n",
    "\n",
    "* The subqueries result in columns with the same names and data types\n",
    "* `UNION` by default removes all duplicate rows in the output\n",
    "  * `UNION ALL` retains the duplicate rows"
   ]
  },
  {
   "cell_type": "markdown",
   "metadata": {},
   "source": [
    "##### Exercise 2.02\n",
    "\n",
    "Make a guest list with ZoomZoom customers who live in Los Angeles, CA, as well as salespeople who work at the ZoomZoom dealership in Los Angeles, CA. The guest list should include first and last names and whether the guest is a customer or an employee.\n",
    "\n",
    "```SQL\n",
    "(\n",
    "  SELECT first_name, last_name, 'Customer' as guest_type\n",
    "  FROM customers\n",
    "  WHERE city = 'Los Angeles'\n",
    "  AND state = 'CA'\n",
    ")\n",
    "UNION\n",
    "(\n",
    "  SELECT first_name, last_name, 'Employee' as guest_type\n",
    "  FROM salespeople s\n",
    "  INNER JOIN dealerships d on d.dealership_id = s.dealership_id\n",
    "  WHERE d.city = 'Los Angeles'\n",
    "  AND d.state = 'CA'\n",
    ")\n",
    "```"
   ]
  },
  {
   "cell_type": "markdown",
   "metadata": {},
   "source": [
    "---\n",
    "\n",
    "## Reading\n",
    "\n",
    "[Visual Guide to FastText Word Embeddings](https://amitness.com/2020/06/fasttext-embeddings/)\n",
    "\n"
   ]
  },
  {
   "cell_type": "markdown",
   "metadata": {},
   "source": [
    "---\n",
    "\n",
    "## 2-Hour Job Search"
   ]
  },
  {
   "cell_type": "markdown",
   "metadata": {},
   "source": [
    "### Executive Summary\n",
    "\n",
    "Soft skills/keywords\n",
    "\n",
    "* Collaborative\n",
    "* Lifelong learner\n",
    "* Data-driven\n",
    "* Dedicated\n",
    "* Flexible / adaptable\n",
    "* Persistent\n",
    "* Broad-minded\n",
    "* Growth mindset - always improving\n",
    "* Candid / humble / honest\n",
    "* Independent (self-driven)\n",
    "* Motivated\n",
    "* Story\n",
    "\n",
    "Experiences\n",
    "\n",
    "* Experience both working on and managing teams\n",
    "* BS in Economics from Cal Poly, SLO\n",
    "* Worked intimately with massive production databases\n",
    "\n",
    "As a dedicated and passionate life-long learner, I take pride in my ability to learn both quickly and deeply, as needed to accomplish specific goals. Collaborative, with a flexible, broad mind and a persistent growth mindset, I've successfully managed projects and teams; timelines and expectations. I hold a BS in Economics from Cal Poly, SLO, where I was a Div I student-athlete and independent musician and writer.\n",
    "\n",
    "As a machine learning engineer, data scientist, and software developer, I have expertise in all aspects of building and deploying production-grade machine learning systems using cutting-edge tools and processes. I've worked on a number of interdisciplinary teams in which my teammates and I were responsible for the entire process, from defining the business problem in terms of software and data to building data pipelines, conducting analyses, training and evaluating various algorithms, and deploying and maintaining production models.\n",
    "\n",
    "I recognize the role that narrative has in shaping the world and each of our experiences in it, and believe data is a tool that can be used to tell the true stories.\n",
    "\n",
    "I love building systems and processes that serve as practical solutions to complex problems."
   ]
  },
  {
   "cell_type": "markdown",
   "metadata": {},
   "source": [
    "#### Edit 2\n",
    "\n",
    "As a dedicated and passionate life-long learner, I take pride in my ability to learn both quickly and deeply, as needed to accomplish specific goals. Collaborative, with a flexible, broad mind and a persistent growth mindset, I've successfully managed projects and teams; timelines and expectations. I hold a BS in Economics from Cal Poly, SLO, where I was a Div I student-athlete and independent musician and writer.\n",
    "\n",
    "I've worked on a number of interdisciplinary teams building systems and processes to solve complex problems, and have expertise in all aspects of building and deploying production-grade machine learning systems using cutting-edge tools and processes."
   ]
  },
  {
   "cell_type": "markdown",
   "metadata": {},
   "source": [
    "---\n",
    "\n",
    "## DS + ML Practice\n",
    "\n",
    "* Pick a dataset and try to do X with it\n",
    "  * Try to hit benchmark accuracies with [UCI ML datasets](https://archive.ics.uci.edu/ml/index.php) or Kaggle\n",
    "* Practice with the common DS/ML tools and processes\n",
    "  * Hands-on ML | NLP In Action | Dive Into Deep Learning | Coursera / guided projects\n",
    "  * Machine learning flashcards\n",
    "\n",
    "#### _The goal is to be comfortable explaining the entire process._\n",
    "\n",
    "* Data access / sourcing, cleaning\n",
    "  * Exploratory data analysis\n",
    "  * Data wrangling techniques and processes\n",
    "* Inference\n",
    "  * Statistics\n",
    "  * Probability\n",
    "  * Visualization\n",
    "* Modeling\n",
    "  * Implement + justify choice of model / algorithm\n",
    "  * Track performance + justify choice of metrics\n",
    "    * Communicate results as relevant to the goal"
   ]
  },
  {
   "cell_type": "markdown",
   "metadata": {},
   "source": []
  },
  {
   "cell_type": "markdown",
   "metadata": {},
   "source": [
    "---\n",
    "\n",
    "## Meta Data: Review and Write\n",
    "\n",
    "> Focus on a topic or project, learn/review the concepts, write (a blog post) about it"
   ]
  },
  {
   "cell_type": "markdown",
   "metadata": {},
   "source": []
  },
  {
   "cell_type": "markdown",
   "metadata": {},
   "source": [
    "---\n",
    "\n",
    "## Interviewing\n",
    "\n",
    "> Practice answering the most common behavioral and technical interview questions\n",
    "\n",
    "### Technical\n",
    "\n",
    "* Business case walk-throughs\n",
    "* Hot-seat DS-related topics for recall practice (under pressure)"
   ]
  },
  {
   "cell_type": "markdown",
   "metadata": {
    "jupyter": {
     "source_hidden": true
    }
   },
   "source": [
    "### Behavioral\n",
    "\n",
    "* \"Tell me a bit about yourself\"\n",
    "* \"Tell me about a project you've worked on and are proud of\"\n",
    "* \"What do you know about our company?\"\n",
    "* \"Where do you see yourself in 3-5 years?\"\n",
    "* \"Why do you want to work here / want this job?\"\n",
    "* \"What makes you most qualified for this role?\"\n",
    "* \"What is your greatest strength/weakness?\"\n",
    "  * \"What is your greatest technical strength?\"\n",
    "* \"Tell me about a time when you had conflict with someone and how you handled it\"\n",
    "* \"Tell me about a mistake you made and how you handled it\"\n",
    "* Scenario questions (STAR: situation, task, action, result)\n",
    "  * Success story / biggest accomplishment\n",
    "  * Greatest challenge (overcome)\n",
    "  * Persuaded someone who did not agree with you\n",
    "  * Dealt with and resolved a conflict (among team members)\n",
    "  * Led a team / showed leadership skills or aptitude\n",
    "  * How you've dealt with stress / stressful situations\n",
    "  * Most difficult problem encountered in previous job; how you solved it\n",
    "  * Solved a problem creatively\n",
    "  * Exceeded expectations to get a job done\n",
    "  * Showed initiative\n",
    "  * Something that's not on your resume\n",
    "  * Example of important goal you set and how you reached it\n",
    "  * A time you failed\n",
    "* \"Do you have any questions for me?\"\n",
    "  * What is your favorite aspect of working here?\n",
    "  * What has your journey looked like at the company?\n",
    "  * What are some challenges you face in your position?"
   ]
  },
  {
   "cell_type": "markdown",
   "metadata": {},
   "source": []
  },
  {
   "cell_type": "markdown",
   "metadata": {},
   "source": []
  },
  {
   "cell_type": "markdown",
   "metadata": {},
   "source": []
  },
  {
   "cell_type": "markdown",
   "metadata": {},
   "source": []
  },
  {
   "cell_type": "markdown",
   "metadata": {},
   "source": []
  },
  {
   "cell_type": "markdown",
   "metadata": {},
   "source": []
  },
  {
   "cell_type": "markdown",
   "metadata": {},
   "source": []
  },
  {
   "cell_type": "markdown",
   "metadata": {},
   "source": []
  },
  {
   "cell_type": "markdown",
   "metadata": {},
   "source": []
  },
  {
   "cell_type": "markdown",
   "metadata": {},
   "source": []
  },
  {
   "cell_type": "markdown",
   "metadata": {},
   "source": []
  },
  {
   "cell_type": "markdown",
   "metadata": {},
   "source": []
  },
  {
   "cell_type": "markdown",
   "metadata": {},
   "source": []
  }
 ],
 "metadata": {
  "kernelspec": {
   "display_name": "Python 3.7.6 64-bit ('vela': pipenv)",
   "language": "python",
   "name": "python37664bitvelapipenvde09592071074af6a70ce3b1ce38af95"
  },
  "language_info": {
   "codemirror_mode": {
    "name": "ipython",
    "version": 3
   },
   "file_extension": ".py",
   "mimetype": "text/x-python",
   "name": "python",
   "nbconvert_exporter": "python",
   "pygments_lexer": "ipython3",
   "version": "3.7.6"
  }
 },
 "nbformat": 4,
 "nbformat_minor": 4
}
