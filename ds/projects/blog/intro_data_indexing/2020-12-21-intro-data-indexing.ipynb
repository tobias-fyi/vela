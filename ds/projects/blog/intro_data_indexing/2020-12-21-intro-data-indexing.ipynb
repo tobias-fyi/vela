{
 "cells": [
  {
   "cell_type": "markdown",
   "metadata": {
    "colab_type": "text",
    "id": "6K-Ijmo7VceT"
   },
   "source": [
    "# \"Exploring the Basics of Data Indexing\"\n",
    "\n",
    "> \"A gentle introduction to the concept of data indexing.\"\n",
    "\n",
    "- toc: true\n",
    "- badges: true\n",
    "- author: Tobias Reaper\n",
    "- comments: true\n",
    "- categories: [blog]\n",
    "- image: "
   ]
  },
  {
   "cell_type": "markdown",
   "metadata": {},
   "source": [
    "---"
   ]
  },
  {
   "cell_type": "markdown",
   "metadata": {},
   "source": [
    "# Introduction"
   ]
  },
  {
   "cell_type": "markdown",
   "metadata": {},
   "source": [
    "Anyone who has worked with data in even a limited capacity — which, if considered literally, is virtually most people nowadays — is likely familiar with the term _data indexing_.\n",
    "\n",
    "Therefore, in its most generic form, what is a _data index_? For that matter, what is an _index_? (Really, the two can be interchangeable in many situations. However, for the purposes of illustration I'm going to say a data index is specific to relational data.)\n",
    "\n",
    "There are a few things that come to mind right off the bat.\n",
    "\n",
    "The first one is the index of a book — that section typically at the back of books (usually reference-type books such as textbooks) that list specific names and terms and where in the book they can be found. I think this is one of the best ways to illustrate what an index _does_: it allows information to be \"looked up\" more easily and/or quickly.\n",
    "\n",
    "For example, an index would be quite useful when looking for a specific term, say \"immediately invoked function expressions\" in a JavaScript textbook. If that term was listed in the book's index, it would be easy to find every page where this term appears and simply flip to those pages directly. If no index existed, or that term wasn't listed, then one would have to do some searching. An intelligent algorithm for searching could reduce the time and page-flips needed to find the term, but the effort involved in this is, obviously, much greater than simply flipping directly to pages.\n",
    "\n",
    "For those with some familiarity with data structures, this is very similar (if not identical in some cases) to looking something up in a hashtable versus an array. There's a reason hashtables were invented: they are _much_ more efficient for many purposes.\n",
    "\n",
    "Indeed, the book example is used to explain the word \"index\" in many [needs citation] dictionaries.\n",
    "\n",
    "As someone who has worked quite a lot with pandas, the next thing that comes to mind when I hear or read the phrase \"data indexing\" is the index column in a pandas dataframe. If you're familiar with this concept of an index column, that's also not a bad way to think about the more generic form of data index: it is a method of looking up data — you can access rows of the dataframe by \"indexing\" them."
   ]
  },
  {
   "cell_type": "markdown",
   "metadata": {},
   "source": [
    "---\n",
    "\n",
    "## Savor Data Reindexing\n",
    "\n",
    "- [ ] By Sublocation\n",
    "- Personal Data Dashboard\n",
    "  - [ ] How long does it take me to do ___ (shower, dress, etc) this month this year vs last year?\n",
    "\n",
    "For these examples, I'll be retrieving Savor data from Airtable via [airtable-python-wrapper](https://github.com/gtalarico/airtable-python-wrapper), transforming it into a set of variations of a dataset that can plug into my Personal Data Dashboard.\n",
    "\n",
    "In case you haven't read my first post about Savor, here's a very brief overview: it's a real-time journaling system I'm building with the aim of making it easy to gather and utilize rich data about my life as it happens. Thus far, I've been using Airtable as the interface, capturing the data in a relatively simple set of relational tables."
   ]
  },
  {
   "cell_type": "code",
   "execution_count": 1,
   "metadata": {},
   "outputs": [],
   "source": [
    "#collapse-hide\n",
    "# === Imports and config === #\n",
    "%load_ext autoreload\n",
    "%autoreload\n",
    "\n",
    "from os import environ\n",
    "from pprint import pprint\n",
    "\n",
    "from airtable import Airtable\n",
    "import pandas as pd\n",
    "import janitor\n",
    "\n",
    "pd.options.display.max_rows = 100\n",
    "pd.options.display.max_columns = 50"
   ]
  },
  {
   "cell_type": "code",
   "execution_count": 2,
   "metadata": {},
   "outputs": [],
   "source": [
    "#collapse-hide\n",
    "# === Connect to airtable === #\n",
    "\n",
    "# Envirovars for authentication\n",
    "from dotenv import load_dotenv\n",
    "from pathlib import Path\n",
    "\n",
    "load_dotenv(dotenv_path=\".env\")\n",
    "base_key = environ.get(\"AIRTABLE_BASE_KEY\")\n",
    "api_key = environ.get(\"AIRTABLE_API_KEY\")"
   ]
  },
  {
   "cell_type": "code",
   "execution_count": 3,
   "metadata": {},
   "outputs": [
    {
     "name": "stdout",
     "output_type": "stream",
     "text": [
      "<Airtable table:engage_log>\n"
     ]
    }
   ],
   "source": [
    "# Connect to engage_log table\n",
    "engage_log = Airtable(base_key, \"engage_log\", api_key=api_key)\n",
    "print(engage_log)"
   ]
  },
  {
   "cell_type": "markdown",
   "metadata": {},
   "source": [
    "### ETL Setup\n",
    "\n",
    "The data is returned as an array of dictionaries (objects in JavaScript), where each item in the array represents one row in the dataset. In this format, each of the data points are assigned directly to their column names within the object. Another common format for datasets returned as JSON objects via an API is an array of arrays, where the column names are held in some other object and can be matched to their respective row-data by way of numerical indexing. For this example, I'm going to be using the former.\n",
    "\n",
    "Here is an example of what a couple rows would look like in this format."
   ]
  },
  {
   "cell_type": "code",
   "execution_count": 4,
   "metadata": {},
   "outputs": [
    {
     "data": {
      "text/plain": [
       "[{'id': 'recNVDgKQ75fbhUjv',\n",
       "  'fields': {'id_num': 20314,\n",
       "   'project_log': ['reccjFvHkMmxGrsu3'],\n",
       "   'subloc': ['recrQNJglSZ5mmZQl'],\n",
       "   'dose': ['rec74Hi1KbAdEHspV', 'recXaoGTBbrRiVeXt'],\n",
       "   'time_in': '2021-02-18T13:25:00.000Z',\n",
       "   'mental': ['recm7RWIWmDQDCWSe'],\n",
       "   'physical': ['recNcdJGnjhCWe6Eu'],\n",
       "   'name': '20314-Cap-Thi',\n",
       "   'modified': '2021-03-10T23:15:13.000Z',\n",
       "   'created': '2021-02-18T03:48:00.000Z',\n",
       "   'duration': {'specialValue': 'NaN'},\n",
       "   'project_location': ['recgaBaPGoewkBgbE']},\n",
       "  'createdTime': '2021-02-18T03:48:00.000Z'},\n",
       " {'id': 'recSubcryeSu1Iwhd',\n",
       "  'fields': {'id_num': 20313,\n",
       "   'project_log': ['reccjFvHkMmxGrsu3'],\n",
       "   'subloc': ['rec92DKYGuA3gGzXd'],\n",
       "   'time_in': '2021-02-18T13:21:00.000Z',\n",
       "   'mental': ['recm7RWIWmDQDCWSe'],\n",
       "   'physical': ['recQsIaiG012c5KoI'],\n",
       "   'name': '20313-Tea-Thi',\n",
       "   'modified': '2021-03-10T23:15:13.000Z',\n",
       "   'created': '2021-02-18T03:48:00.000Z',\n",
       "   'duration': {'specialValue': 'NaN'},\n",
       "   'project_location': ['recgaBaPGoewkBgbE']},\n",
       "  'createdTime': '2021-02-18T03:48:00.000Z'}]"
      ]
     },
     "execution_count": 4,
     "metadata": {},
     "output_type": "execute_result"
    }
   ],
   "source": [
    "# Get all engagement records, sorted by time_in'\n",
    "# engage_fields = [\n",
    "#     \"time_in\",\n",
    "#     \"mental\",\n",
    "#     \"physical\",\n",
    "#     \"tags\",\n",
    "#     \"subloc\",\n",
    "#     \"mental_note\",\n",
    "#     \"physical_note\",\n",
    "#     \"who\",\n",
    "#     \"dose\",\n",
    "# ]\n",
    "engages = engage_log.get_all(\n",
    "#     fields=engage_fields,\n",
    "    sort=[\"-time_in\"],\n",
    "    max_records=2\n",
    ")\n",
    "engages[:2]"
   ]
  },
  {
   "cell_type": "code",
   "execution_count": 5,
   "metadata": {
    "collapsed": true,
    "jupyter": {
     "outputs_hidden": true,
     "source_hidden": true
    },
    "tags": []
   },
   "outputs": [
    {
     "name": "stdout",
     "output_type": "stream",
     "text": [
      "{'createdTime': '2021-02-18T03:48:00.000Z',\n",
      " 'fields': {'created': '2021-02-18T03:48:00.000Z',\n",
      "            'dose': ['rec74Hi1KbAdEHspV', 'recXaoGTBbrRiVeXt'],\n",
      "            'duration': {'specialValue': 'NaN'},\n",
      "            'id_num': 20314,\n",
      "            'mental': ['recm7RWIWmDQDCWSe'],\n",
      "            'modified': '2021-03-10T23:15:13.000Z',\n",
      "            'name': '20314-Cap-Thi',\n",
      "            'physical': ['recNcdJGnjhCWe6Eu'],\n",
      "            'project_location': ['recgaBaPGoewkBgbE'],\n",
      "            'project_log': ['reccjFvHkMmxGrsu3'],\n",
      "            'subloc': ['recrQNJglSZ5mmZQl'],\n",
      "            'time_in': '2021-02-18T13:25:00.000Z'},\n",
      " 'id': 'recNVDgKQ75fbhUjv'}\n",
      "{'createdTime': '2021-02-18T03:48:00.000Z',\n",
      " 'fields': {'created': '2021-02-18T03:48:00.000Z',\n",
      "            'duration': {'specialValue': 'NaN'},\n",
      "            'id_num': 20313,\n",
      "            'mental': ['recm7RWIWmDQDCWSe'],\n",
      "            'modified': '2021-03-10T23:15:13.000Z',\n",
      "            'name': '20313-Tea-Thi',\n",
      "            'physical': ['recQsIaiG012c5KoI'],\n",
      "            'project_location': ['recgaBaPGoewkBgbE'],\n",
      "            'project_log': ['reccjFvHkMmxGrsu3'],\n",
      "            'subloc': ['rec92DKYGuA3gGzXd'],\n",
      "            'time_in': '2021-02-18T13:21:00.000Z'},\n",
      " 'id': 'recSubcryeSu1Iwhd'}\n",
      "{'createdTime': '2021-02-18T03:48:00.000Z',\n",
      " 'fields': {'created': '2021-02-18T03:48:00.000Z',\n",
      "            'duration': {'specialValue': 'NaN'},\n",
      "            'id_num': 20312,\n",
      "            'mental': ['recm7RWIWmDQDCWSe'],\n",
      "            'modified': '2021-03-10T23:15:13.000Z',\n",
      "            'name': '20312-Dre-Thi',\n",
      "            'physical': ['receRalEteLbagvQO'],\n",
      "            'project_location': ['recgaBaPGoewkBgbE'],\n",
      "            'project_log': ['reccjFvHkMmxGrsu3'],\n",
      "            'subloc': ['recCrIDUXHReLWTMi'],\n",
      "            'time_in': '2021-02-18T13:13:00.000Z'},\n",
      " 'id': 'recFgmO53D9dzgMqa'}\n",
      "{'createdTime': '2021-02-18T03:48:00.000Z',\n",
      " 'fields': {'created': '2021-02-18T03:48:00.000Z',\n",
      "            'duration': {'specialValue': 'NaN'},\n",
      "            'id_num': 20311,\n",
      "            'mental': ['recm7RWIWmDQDCWSe'],\n",
      "            'modified': '2021-03-10T23:15:13.000Z',\n",
      "            'name': '20311-Ski-Thi',\n",
      "            'physical': ['recZlxdFqBJoWJ18h'],\n",
      "            'project_location': ['recgaBaPGoewkBgbE'],\n",
      "            'project_log': ['reccjFvHkMmxGrsu3'],\n",
      "            'subloc': ['recIu6snfptzDgN1y'],\n",
      "            'time_in': '2021-02-18T13:09:00.000Z'},\n",
      " 'id': 'recnCB5dg7YO9zYgO'}\n",
      "{'createdTime': '2021-02-18T03:48:00.000Z',\n",
      " 'fields': {'created': '2021-02-18T03:48:00.000Z',\n",
      "            'duration': {'specialValue': 'NaN'},\n",
      "            'id_num': 20310,\n",
      "            'mental': ['recm7RWIWmDQDCWSe'],\n",
      "            'modified': '2021-03-10T23:15:13.000Z',\n",
      "            'name': '20310-Sho-Thi',\n",
      "            'physical': ['recUdgdcvFsr3qgtS'],\n",
      "            'project_location': ['recgaBaPGoewkBgbE'],\n",
      "            'project_log': ['reccjFvHkMmxGrsu3'],\n",
      "            'subloc': ['recIu6snfptzDgN1y'],\n",
      "            'time_in': '2021-02-18T13:06:00.000Z'},\n",
      " 'id': 'recBTBaqE2IsEyLVW'}\n",
      "{'createdTime': '2021-02-18T03:45:56.000Z',\n",
      " 'fields': {'created': '2021-02-18T03:45:56.000Z',\n",
      "            'dose': ['recAhCmawtlrMCwmc'],\n",
      "            'duration': {'specialValue': 'NaN'},\n",
      "            'id_num': 20309,\n",
      "            'mental': ['recsQ5LOa08yOzJf5'],\n",
      "            'modified': '2021-03-10T23:15:13.000Z',\n",
      "            'name': '20309-Res-Spa',\n",
      "            'physical': ['recC65wqE6zeYP3lx'],\n",
      "            'project_location': ['recgaBaPGoewkBgbE'],\n",
      "            'project_log': ['reccjFvHkMmxGrsu3'],\n",
      "            'subloc': ['recCrIDUXHReLWTMi'],\n",
      "            'time_in': '2021-02-18T12:50:00.000Z',\n",
      "            'who': ['reckWDuDKuRc3t01V']},\n",
      " 'id': 'rec4LyKXqOB0xh4uL'}\n",
      "{'createdTime': '2021-02-18T03:45:40.000Z',\n",
      " 'fields': {'created': '2021-02-18T03:45:40.000Z',\n",
      "            'duration': {'specialValue': 'NaN'},\n",
      "            'id_num': 20308,\n",
      "            'mental': ['recwGKNSfoVb2RTin'],\n",
      "            'modified': '2021-03-10T23:15:13.000Z',\n",
      "            'name': '20308-Res-Sle',\n",
      "            'physical': ['recC65wqE6zeYP3lx'],\n",
      "            'project_location': ['recgaBaPGoewkBgbE'],\n",
      "            'project_log': ['reckA4BtOC5IETTDJ'],\n",
      "            'subloc': ['recCrIDUXHReLWTMi'],\n",
      "            'time_in': '2021-02-18T05:15:00.000Z',\n",
      "            'who': ['reckWDuDKuRc3t01V']},\n",
      " 'id': 'recgISwx4fLrO71HS'}\n",
      "{'createdTime': '2021-02-18T03:45:31.000Z',\n",
      " 'fields': {'created': '2021-02-18T03:45:31.000Z',\n",
      "            'duration': {'specialValue': 'NaN'},\n",
      "            'id_num': 20307,\n",
      "            'mental': ['recJjXRBEtra3FAmr'],\n",
      "            'mental_note': '# The Fellowship of the Ring\\n'\n",
      "                           '\\n'\n",
      "                           'Frodo offers to take the ring and Elrond thinks it '\n",
      "                           'is the way. Eight companions are assembled to '\n",
      "                           'complete the Nine who will be the fellowship. They '\n",
      "                           'wait a month or two for scouts to return bearing '\n",
      "                           'any news of the riders; none is found. Bilbo gives '\n",
      "                           'Frodo his sword sting and his Mithril shirt. They '\n",
      "                           'set off into the winter.',\n",
      "            'modified': '2021-03-10T23:15:13.000Z',\n",
      "            'name': '20307-Res-Rea',\n",
      "            'physical': ['recC65wqE6zeYP3lx'],\n",
      "            'project_location': ['recgaBaPGoewkBgbE'],\n",
      "            'project_log': ['reckA4BtOC5IETTDJ'],\n",
      "            'subloc': ['recCrIDUXHReLWTMi'],\n",
      "            'time_in': '2021-02-18T04:45:00.000Z'},\n",
      " 'id': 'recbb2YyXrDwiW3MP'}\n",
      "{'createdTime': '2021-02-18T03:45:19.000Z',\n",
      " 'fields': {'created': '2021-02-18T03:45:19.000Z',\n",
      "            'duration': {'specialValue': 'NaN'},\n",
      "            'id_num': 20306,\n",
      "            'mental': ['recm7RWIWmDQDCWSe'],\n",
      "            'modified': '2021-03-10T23:15:13.000Z',\n",
      "            'name': '20306-Ski-Thi',\n",
      "            'physical': ['recZlxdFqBJoWJ18h'],\n",
      "            'project_location': ['recgaBaPGoewkBgbE'],\n",
      "            'project_log': ['reckA4BtOC5IETTDJ'],\n",
      "            'subloc': ['recIu6snfptzDgN1y'],\n",
      "            'time_in': '2021-02-18T04:40:00.000Z'},\n",
      " 'id': 'rec1ajj9KRXuZi5fz'}\n",
      "{'createdTime': '2021-02-18T03:44:53.000Z',\n",
      " 'fields': {'created': '2021-02-18T03:44:53.000Z',\n",
      "            'duration': {'specialValue': 'NaN'},\n",
      "            'id_num': 20305,\n",
      "            'mental': ['recm7RWIWmDQDCWSe'],\n",
      "            'modified': '2021-03-10T23:15:13.000Z',\n",
      "            'name': '20305-Sho-Thi',\n",
      "            'physical': ['recUdgdcvFsr3qgtS'],\n",
      "            'project_location': ['recgaBaPGoewkBgbE'],\n",
      "            'project_log': ['reckA4BtOC5IETTDJ'],\n",
      "            'subloc': ['recIu6snfptzDgN1y'],\n",
      "            'time_in': '2021-02-18T04:30:00.000Z'},\n",
      " 'id': 'reccCl5XF6l1Z6AEr'}\n"
     ]
    }
   ],
   "source": [
    "# Generator\n",
    "engage_log_records = airtable.get_iter(\n",
    "    sort=[\"-time_in\"],\n",
    "    max_records=10\n",
    ")\n",
    "for page in engage_log_records:\n",
    "    for record in page:\n",
    "        pprint(record)"
   ]
  },
  {
   "cell_type": "markdown",
   "metadata": {},
   "source": [
    "#### Primary Keys\n",
    "\n",
    "As likely noticed in these records, any time a related table is referenced, the primary key is used — e.g. `rec92DKYGuA3gGzXd`. Part of the ETL process will therefore be matching up those keys to their respective records. This is not only for me to know what I'm working with; also to get human-readable names for these records to display on the dashboard. Technically I could still do all the reindexing without knowing what the records are, but I would by flying mostly blind and wouldn't be able to get much useful insight.\n",
    "\n",
    "In most cases, I really only need to get the name of the record, though there are a couple of instances where additional information is useful. For example, the `dose` table, which holds data about nutritional and nootropic supplements, has information like what supplement it is and the amount.\n",
    "\n",
    "Additionally, the way Airtable sets up the relations results in a nice feature that I can use to my advantage here: there is already an index for each relation. When a relation is set up between two tables, a column automatically gets created in both tables listing all references to their respective records in the other table. That's the `engage_log` column in each of the tables below: a list of `engage_log` records that reference the record.\n",
    "\n",
    "This saves me a step in case I want to look up — or _index_ — `engage_log` records by a related record. The way this might surface in the dashboard is that I could be looking at a monthly summary of my mental and physical activities and decide I want to drill down into more details about a specific mental activity. I'd ideally be able to click on that activity and it would _reindex_ the data such that it would show me the other data summarized / aggregated according to that activity, such as descriptive statistics about how long is spent on it each time I do it, where it takes place, and maybe (someday) a smart summary and sentiment analysis of my notes.\n",
    "\n",
    "Indeed, this example can be generalized to much of the logic behind a dashboard like this: a dashboard is a visual way to reindex data."
   ]
  },
  {
   "cell_type": "code",
   "execution_count": 5,
   "metadata": {},
   "outputs": [],
   "source": [
    "# Get relevant related records to match up\n",
    "table_fields = {\n",
    "    \"mental\": [\"name\", \"engage_log\"],\n",
    "    \"physical\": [\"name\", \"engage_log\"],\n",
    "    \"dose\": [\"name\", \"engage_log\", \"supp\", \"amt\", \"unit\"],\n",
    "    \"who\": [\"name\", \"engage_log\"],\n",
    "    \"location\": [\"name\", \"engage_log\", \"location\", \"city\", \"state\"],\n",
    "    \"subloc\": [\"name\", \"engage_log\"],\n",
    "    \"tag\": [\"name\", \"engage_log\"],\n",
    "}\n",
    "\n",
    "table_data = {\n",
    "    \"mental\": {},\n",
    "    \"physical\": {},\n",
    "    \"dose\": {},\n",
    "    \"who\": {},\n",
    "    \"subloc\": {},\n",
    "    \"tag\": {},\n",
    "}\n",
    "\n",
    "# Loop through tables to retrieve records and save in dictionary\n",
    "for table in table_fields:\n",
    "    airtable = Airtable(  # Connect to table\n",
    "        base_key,\n",
    "        table,\n",
    "        api_key=api_key\n",
    "    )\n",
    "    records = airtable.get_all(  # Retrieve records\n",
    "        fields=table_fields[table],\n",
    "    )\n",
    "    table_data[table] = records  # Save records to above dict"
   ]
  },
  {
   "cell_type": "markdown",
   "metadata": {},
   "source": [
    "Now the `table_data` dictionary holds the key-name lookup I'll need later on. I won't go through the entire dataset and replace all of the PKs as that would be something of a process. My method will be to match them up only when I actually need the human-readable name."
   ]
  },
  {
   "cell_type": "code",
   "execution_count": 7,
   "metadata": {},
   "outputs": [
    {
     "name": "stdout",
     "output_type": "stream",
     "text": [
      "[{'createdTime': '2019-11-24T06:04:43.000Z',\n",
      "  'fields': {'name': 'Podcast'},\n",
      "  'id': 'rec04WWDmwUYsOfVR'},\n",
      " {'createdTime': '2020-09-20T20:58:30.000Z',\n",
      "  'fields': {'name': 'Arrange'},\n",
      "  'id': 'rec1qtyxPApCENwj3'},\n",
      " {'createdTime': '2019-12-05T00:13:44.000Z',\n",
      "  'fields': {'name': 'Troubleshoot'},\n",
      "  'id': 'rec2ETpho10dvgd3e'},\n",
      " {'createdTime': '2019-12-06T21:04:43.000Z',\n",
      "  'fields': {'name': 'Chat/Text'},\n",
      "  'id': 'rec47FqiuoEPdjVwc'},\n",
      " {'createdTime': '2019-12-07T22:53:48.000Z',\n",
      "  'fields': {'name': 'Shop'},\n",
      "  'id': 'rec5saWQlgv6Bemi7'}]\n"
     ]
    }
   ],
   "source": [
    "pprint(table_data[\"mental\"][:5])"
   ]
  },
  {
   "cell_type": "markdown",
   "metadata": {},
   "source": [
    "###"
   ]
  },
  {
   "cell_type": "code",
   "execution_count": null,
   "metadata": {},
   "outputs": [],
   "source": []
  },
  {
   "cell_type": "code",
   "execution_count": null,
   "metadata": {},
   "outputs": [],
   "source": []
  },
  {
   "cell_type": "code",
   "execution_count": null,
   "metadata": {},
   "outputs": [],
   "source": []
  }
 ],
 "metadata": {
  "kernelspec": {
   "display_name": "Python 3.7.6 64-bit ('vela': pipenv)",
   "language": "python",
   "name": "python37664bitvelapipenvde09592071074af6a70ce3b1ce38af95"
  },
  "language_info": {
   "codemirror_mode": {
    "name": "ipython",
    "version": 3
   },
   "file_extension": ".py",
   "mimetype": "text/x-python",
   "name": "python",
   "nbconvert_exporter": "python",
   "pygments_lexer": "ipython3",
   "version": "3.7.6"
  }
 },
 "nbformat": 4,
 "nbformat_minor": 4
}
