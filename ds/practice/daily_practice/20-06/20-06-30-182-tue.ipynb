{
 "cells": [
  {
   "cell_type": "markdown",
   "metadata": {},
   "source": [
    "# 20-06-30: Daily Practice"
   ]
  },
  {
   "cell_type": "markdown",
   "metadata": {},
   "source": [
    "---\n",
    "\n",
    "## Daily Practices\n",
    "\n",
    "* [x] Coding & Problem Solving Practice\n",
    "* [x] Practice & Learn - DS/ML\n",
    "* [ ] Meta Data: Review & Write\n",
    "* [x] 2-Hour Job Search\n",
    "* [x] Interview Practice"
   ]
  },
  {
   "cell_type": "markdown",
   "metadata": {},
   "source": [
    "---\n",
    "\n",
    "## Coding & Problem Solving Practice"
   ]
  },
  {
   "cell_type": "markdown",
   "metadata": {},
   "source": [
    "### Python"
   ]
  },
  {
   "cell_type": "markdown",
   "metadata": {},
   "source": [
    "#### [Add Two Numbers](https://leetcode.com/problems/add-two-numbers/)\n",
    "\n",
    "> Start @ 11:06\n",
    "\n",
    "You are given two non-empty linked lists representing two non-negative integers. The digits are stored in reverse order and each of their nodes contain a single digit. Add the two numbers and return it as a linked list.\n",
    "\n",
    "You may assume the two numbers do not contain any leading zero, except the number 0 itself.\n",
    "\n",
    "Example:\n",
    "\n",
    "    Input: (2 -> 4 -> 3) + (5 -> 6 -> 4)\n",
    "    Output: 7 -> 0 -> 8\n",
    "    Explanation: 342 + 465 = 807."
   ]
  },
  {
   "cell_type": "code",
   "execution_count": 1,
   "metadata": {},
   "outputs": [],
   "source": [
    "from __future__ import annotations\n",
    "\n",
    "class ListNode:\n",
    "    def __init__(self, val: int = 0, next: ListNode = None):\n",
    "        self.val = val\n",
    "        self.next = next\n",
    "        \n",
    "    def __str__(self):\n",
    "        return f\"ListNode({self.val}, {self.next})\"\n",
    "\n",
    "def addTwoNumbers(l1: ListNode, l2: ListNode) -> ListNode:\n",
    "    # 1. Run through each linked list to reconstruct the numbers as integers\n",
    "    # 2. Add the two integers\n",
    "    # 3. Reconstruct the linked list\n",
    "    pass"
   ]
  },
  {
   "cell_type": "code",
   "execution_count": 2,
   "metadata": {},
   "outputs": [],
   "source": [
    "# === Create two example linked lists === #\n",
    "# This also is how the linked list will be (re)constructed\n",
    "\n",
    "# Helper function to (re)construct linked lists from integers\n",
    "def int_to_linked_list(num: int, last_node: ListNode = None) -> ListNode:\n",
    "    \"\"\"Constructs a linked list from an integer, with digits stored in\n",
    "    reverse order, each node containing a single digit.\n",
    "    \"\"\"\n",
    "    # === Base case: no more numbers === #\n",
    "    # But if number starts as 0, should be added as node\n",
    "    if num == 0 and last_node is not None:\n",
    "        return None\n",
    "    # Last digit is first to be added\n",
    "    # To return last digit, take modulo 10\n",
    "    last_digit = num % 10\n",
    "    # Then to remove the last digit, floor divide by 10\n",
    "    new_num = num // 10\n",
    "    print(f\"{new_num} -> {last_digit}\")\n",
    "    \n",
    "    # Create ListNode using last_digit\n",
    "    node = ListNode(last_digit)\n",
    "    # Assign to last node's next, if exists\n",
    "    if last_node:\n",
    "        last_node.next = node\n",
    "    # Call function recursively\n",
    "    int_to_linked_list(new_num, node)\n",
    "    return node"
   ]
  },
  {
   "cell_type": "code",
   "execution_count": 3,
   "metadata": {},
   "outputs": [
    {
     "name": "stdout",
     "output_type": "stream",
     "text": [
      "34 -> 2\n",
      "3 -> 4\n",
      "0 -> 3\n",
      "ListNode(2, ListNode(4, ListNode(3, None)))\n",
      "\n",
      "46 -> 5\n",
      "4 -> 6\n",
      "0 -> 4\n",
      "ListNode(5, ListNode(6, ListNode(4, None)))\n"
     ]
    }
   ],
   "source": [
    "# === Use helper to create example linked lists === #\n",
    "l1_head = int_to_linked_list(342)\n",
    "print(l1_head)\n",
    "print()\n",
    "l2_head = int_to_linked_list(465)\n",
    "print(l2_head)"
   ]
  },
  {
   "cell_type": "code",
   "execution_count": 15,
   "metadata": {},
   "outputs": [],
   "source": [
    "# === Convert from linked list to integer === #\n",
    "def linked_list_to_int(node: ListNode, new_num: int = 0, mult: int = 1) -> int:\n",
    "    \"\"\"Deconstructs a linked list into an integer.\"\"\"\n",
    "    # === Base case: node.next is none === #\n",
    "    if node is None:\n",
    "        return new_num\n",
    "    # === Multiply node's value with multiplier === #\n",
    "    new_num = new_num + (node.val * mult)\n",
    "    # Modify the multiplier * 10\n",
    "    mult *= 10\n",
    "    \n",
    "    # === Recursive call === #\n",
    "    new_num = linked_list_to_int(node.next, new_num, mult=mult)\n",
    "    return new_num"
   ]
  },
  {
   "cell_type": "code",
   "execution_count": 18,
   "metadata": {},
   "outputs": [
    {
     "name": "stdout",
     "output_type": "stream",
     "text": [
      "342\n",
      "465\n"
     ]
    }
   ],
   "source": [
    "l1_int = linked_list_to_int(l1_head)\n",
    "print(l1_int)\n",
    "l2_int = linked_list_to_int(l2_head)\n",
    "print(l2_int)"
   ]
  },
  {
   "cell_type": "code",
   "execution_count": 19,
   "metadata": {},
   "outputs": [],
   "source": [
    "def addTwoNumbers(l1: ListNode, l2: ListNode) -> ListNode:\n",
    "    # === 1. Run through linked lists to construct the integers === #\n",
    "    int1 = linked_list_to_int(l1)\n",
    "    int2 = linked_list_to_int(l2)\n",
    "    # === 2. Add the two integers === #\n",
    "    int_sum = int1 + int2\n",
    "    # === 3. Reconstruct the linked list === #\n",
    "    return int_to_linked_list(int_sum)"
   ]
  },
  {
   "cell_type": "code",
   "execution_count": 21,
   "metadata": {},
   "outputs": [
    {
     "name": "stdout",
     "output_type": "stream",
     "text": [
      "80 -> 7\n",
      "8 -> 0\n",
      "0 -> 8\n",
      "ListNode(7, ListNode(0, ListNode(8, None)))\n"
     ]
    }
   ],
   "source": [
    "print(addTwoNumbers(l1_head, l2_head))"
   ]
  },
  {
   "cell_type": "code",
   "execution_count": 22,
   "metadata": {},
   "outputs": [],
   "source": [
    "# === Full solution === #\n",
    "class Solution:\n",
    "    def int_to_linked_list(self, num: int, last_node: ListNode = None) -> ListNode:\n",
    "        \"\"\"Constructs a linked list from an integer, with digits stored in\n",
    "        reverse order, each node containing a single digit.\n",
    "        \"\"\"\n",
    "        # === Base case: no more numbers === #\n",
    "        # But if number starts as 0, should be added as node\n",
    "        if num == 0 and last_node is not None:\n",
    "            return None\n",
    "        # Last digit is first to be added\n",
    "        # To return last digit, take modulo 10\n",
    "        last_digit = num % 10\n",
    "        # Then to remove the last digit, floor divide by 10\n",
    "        new_num = num // 10\n",
    "        print(f\"{new_num} -> {last_digit}\")\n",
    "        # Create ListNode using last_digit\n",
    "        node = ListNode(last_digit)\n",
    "        # Assign to last node's next, if exists\n",
    "        if last_node:\n",
    "            last_node.next = node\n",
    "        # Call function recursively\n",
    "        self.int_to_linked_list(new_num, node)\n",
    "        return node\n",
    "\n",
    "    def linked_list_to_int(self, node: ListNode, new_num: int = 0, mult: int = 1) -> int:\n",
    "        \"\"\"Deconstructs a linked list into an integer.\"\"\"\n",
    "        # === Base case: node.next is none === #\n",
    "        if node is None:\n",
    "            return new_num\n",
    "        # === Multiply node's value with multiplier === #\n",
    "        new_num = new_num + (node.val * mult)\n",
    "        # Modify the multiplier * 10\n",
    "        mult *= 10\n",
    "        # === Recursive call === #\n",
    "        new_num = self.linked_list_to_int(node.next, new_num, mult=mult)\n",
    "        return new_num\n",
    "\n",
    "    def addTwoNumbers(self, l1: ListNode, l2: ListNode) -> ListNode:\n",
    "        # === 1. Run through linked lists to construct the integers === #\n",
    "        int1 = self.linked_list_to_int(l1)\n",
    "        int2 = self.linked_list_to_int(l2)\n",
    "        # === 2. Add the two integers === #\n",
    "        int_sum = int1 + int2\n",
    "        # === 3. Reconstruct the linked list === #\n",
    "        return self.int_to_linked_list(int_sum)"
   ]
  },
  {
   "cell_type": "markdown",
   "metadata": {},
   "source": [
    "##### Success\n",
    "\n",
    "> Finish @ 11:45\n",
    "\n",
    "* Runtime: 88 ms, faster than 20.71% of Python3 online submissions for Add Two Numbers.\n",
    "* Memory Usage: 14.1 MB, less than 5.01% of Python3 online submissions for Add Two Numbers.\n",
    "\n",
    "Once again, not the most efficient solution. But it works!"
   ]
  },
  {
   "cell_type": "markdown",
   "metadata": {},
   "source": [
    "---\n",
    "\n",
    "## 2-Hour Job Search"
   ]
  },
  {
   "cell_type": "markdown",
   "metadata": {},
   "source": [
    "### LinkedIn\n",
    "\n",
    "#### Education: Lambda School\n",
    "\n",
    "- 9-month immersive, hands-on training program in data science, data engineering, machine learning, deep learning, and computer science\n",
    "- Developed solid foundational skills for a career in data science: descriptive and predictive statistics; linear algebra; hypothesis testing; data collection, wrangling, exploration, and visualization; storytelling with data and more\n",
    "- Gained hands-on experience with machine learning, including supervised and unsupervised learning, neural networks/deep learning, natural language processing, computer vision,\n",
    "- Completed a deep dive into data engineering, working with databases, productization and big data\n",
    "- Served as a data scientist and machine learning engineer on cross-functional product teams, working alongside UX designers, web developers, and mobile developers to build and deploy production-grade software applications\n",
    "\n",
    "9-month immersive, hands-on training program in data science, data engineering, machine learning, deep learning, and computer science\n",
    "\n",
    "Developed solid foundational skills for a career in data science: descriptive and predictive statistics; linear algebra; hypothesis testing; data collection, wrangling, exploration, and visualization; storytelling with data and more\n",
    "\n",
    "Gained hands-on experience with machine learning, including supervised and unsupervised learning, neural networks/deep learning, natural language processing, computer vision,\n",
    "\n",
    "Completed a deep dive into data engineering, working with databases, productization and big data\n",
    "\n",
    "Served as a data scientist and machine learning engineer on cross-functional product teams, working alongside UX designers, web developers, and mobile developers to build and deploy production-grade software applications\n",
    "\n",
    "#### Profile Photo\n",
    "\n",
    "I took (3d scanned) a new photo for all of my (professional) online accounts. I used an app on my iPhone to take a 3d scan of my face (using the TrueDepth infrared camera on the front), then took a 2d capture of that 3d point cloud.\n",
    "\n",
    "At some point in the future, I'd like to import that point cloud into a 3d modeling software and do some cool stuff with it. Or send it to a friend who can do it better and quicker than me."
   ]
  },
  {
   "cell_type": "markdown",
   "metadata": {},
   "source": [
    "#### Networking\n",
    "\n",
    "I also spent a fair amount of time today doing some online networking while working on the last bit of my LAMP list. I reached out to a few people and will be chatting with two of them tomorrow."
   ]
  },
  {
   "cell_type": "markdown",
   "metadata": {},
   "source": [
    "---\n",
    "\n",
    "## Practice + Learning - DS/ML"
   ]
  },
  {
   "cell_type": "markdown",
   "metadata": {},
   "source": [
    "### LikeWise\n",
    "\n",
    "I spent ~2 hours on the LikeWise project — a collaborative filtering book recommender engine based on GoodReads data. The time was spent organizing, exploring, and understanding the dataset.\n",
    "\n",
    "More details can be found in the LikeWise notebooks, which are also in the vela repository ([here](../../../projects/likewise/notebooks))."
   ]
  },
  {
   "cell_type": "markdown",
   "metadata": {},
   "source": [
    "---\n",
    "\n",
    "## Meta Data: Review & Write"
   ]
  },
  {
   "cell_type": "markdown",
   "metadata": {},
   "source": [
    "Aside from my daily fiction writing, I wrote a bit in the LikeWise notebooks. I did not, however, work on a blog post (aside from what will become the LikeWise article, though that doesn't really count as \"writing\" at this stage).\n",
    "\n",
    "My goal is to finish a blog post per week. Tomorrow I will spend some quality time doing so."
   ]
  },
  {
   "cell_type": "markdown",
   "metadata": {},
   "source": [
    "---\n",
    "\n",
    "## Interview Practice"
   ]
  },
  {
   "cell_type": "markdown",
   "metadata": {},
   "source": [
    "Watched a couple of livestream recordings from Kaggle.\n",
    "\n",
    "The first one was a couple of folks mock-interviewing each other, asking questions similar to what they've had to answer in DS interviews. The second one was a presentation from two Google data scientists who recently went through at least one job hunt, and had some good insight to share into how the interviewing process works/how to prepare/what to expect.\n",
    "\n",
    "Another goal during this job search is to actively practice every day.\n",
    "\n",
    "I did practice talking out loud while solving an algorithms problem (see Coding & Problem Solving Practice section above). However, based on the videos I watched, I am going to add some more DS-specific technical questions to that daily practice."
   ]
  }
 ],
 "metadata": {
  "kernelspec": {
   "display_name": "Python 3.7.6 64-bit ('vela': pipenv)",
   "language": "python",
   "name": "python37664bitvelapipenvde09592071074af6a70ce3b1ce38af95"
  },
  "language_info": {
   "codemirror_mode": {
    "name": "ipython",
    "version": 3
   },
   "file_extension": ".py",
   "mimetype": "text/x-python",
   "name": "python",
   "nbconvert_exporter": "python",
   "pygments_lexer": "ipython3",
   "version": "3.7.6"
  }
 },
 "nbformat": 4,
 "nbformat_minor": 4
}
