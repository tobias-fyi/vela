{
 "cells": [
  {
   "cell_type": "markdown",
   "metadata": {},
   "source": [
    "# 20-09-02: Daily Practice"
   ]
  },
  {
   "cell_type": "markdown",
   "metadata": {},
   "source": [
    "---\n",
    "---\n",
    "\n",
    "## Practices"
   ]
  },
  {
   "cell_type": "markdown",
   "metadata": {},
   "source": [
    "### Daily\n",
    "\n",
    "* [x] [Job Search](#2-Hour-Job-Search)\n",
    "  * [x] 2HJS progress\n",
    "  * [ ] Network\n",
    "  * [ ] Social media\n",
    "* [ ] [Meta-data: read & write](#Meta-data:-reading-&-writing)\n",
    "* [x] [Practice & learn](#Practice-&-learn)\n",
    "  * [x] Data science and machine learning\n",
    "  * [ ] Algorithms, data structures, and brain teasers\n",
    "  * [x] Interviewing, STAR storytelling"
   ]
  },
  {
   "cell_type": "markdown",
   "metadata": {},
   "source": [
    "### Weekly\n",
    "\n",
    "Vim command(s) to practice this week:\n",
    "\n",
    "* `^` : jump to first non-blank character in the current line"
   ]
  },
  {
   "cell_type": "markdown",
   "metadata": {},
   "source": [
    "---\n",
    "---\n",
    "\n",
    "## 2-Hour Job Search"
   ]
  },
  {
   "cell_type": "markdown",
   "metadata": {},
   "source": [
    "### Cover Letters\n",
    "\n",
    "I succeeded in staying focused and succinct in my writing for a while longer than usual today. Stoked about the position!"
   ]
  },
  {
   "cell_type": "markdown",
   "metadata": {},
   "source": []
  },
  {
   "cell_type": "markdown",
   "metadata": {},
   "source": []
  },
  {
   "cell_type": "markdown",
   "metadata": {},
   "source": []
  },
  {
   "cell_type": "markdown",
   "metadata": {},
   "source": [
    "---\n",
    "---\n",
    "\n",
    "## Meta-data: read & write"
   ]
  },
  {
   "cell_type": "markdown",
   "metadata": {},
   "source": []
  },
  {
   "cell_type": "markdown",
   "metadata": {},
   "source": []
  },
  {
   "cell_type": "markdown",
   "metadata": {},
   "source": [
    "---\n",
    "---\n",
    "\n",
    "## Practice & learn"
   ]
  },
  {
   "cell_type": "markdown",
   "metadata": {},
   "source": [
    "---\n",
    "\n",
    "### Data science and machine learning\n",
    "\n",
    "Finished chapter 4 of Grokking Deep Learning. I like how he outlines the intuition and reasoning behind gradient descent. This way of thinking about it is a little different from how I've thought about it before — much more fundamental. Insights like that are why I decided to read through this book before diving into more advanced ones — it helps to have diverse perspectives."
   ]
  },
  {
   "cell_type": "markdown",
   "metadata": {},
   "source": [
    "### Grokking Deep Learning - Chapter 4: Gradient Descent\n",
    "\n",
    "* Do neural networks make accurate predictions?\n",
    "* Why measure error?\n",
    "* Hot and cold learning\n",
    "* Calculating both direction and amount from error\n",
    "* Gradient descent\n",
    "* Learning is just reducing error\n",
    "* Derivatives and how to use them to learn\n",
    "* Divergence and alpha\n",
    "\n",
    "> Or, the \"compare\" and \"learn\" part of the \"predict, compare, and learn\" process.\n",
    "\n",
    "Compare provides a measurement of how far off a prediction was, while learning tells each weight how it can change to reduce the error."
   ]
  },
  {
   "cell_type": "markdown",
   "metadata": {},
   "source": [
    "#### Compare\n",
    "\n",
    "Does your network make good predictions?\n",
    "\n",
    "* Measuring error simplifies the problem\n",
    "* Different ways of measuring error prioritize error differently\n",
    "  * Mean squared error amplifies large error and minimizes small error\n",
    "* Also ensures that the error is always positive (there can't be negative error!)"
   ]
  },
  {
   "cell_type": "code",
   "execution_count": 19,
   "metadata": {},
   "outputs": [
    {
     "name": "stdout",
     "output_type": "stream",
     "text": [
      "0.30250000000000005\n"
     ]
    }
   ],
   "source": [
    "knob_weight = 0.5\n",
    "input = 0.5\n",
    "goal_pred = 0.8\n",
    "\n",
    "pred = input * knob_weight\n",
    "error = (pred - goal_pred) ** 2\n",
    "\n",
    "print(error)"
   ]
  },
  {
   "cell_type": "markdown",
   "metadata": {},
   "source": [
    "#### Calculating both direction and amount from error\n",
    "\n",
    "AKA gradient descent!\n",
    "\n",
    "* Stopping: if `input` is 0 then `direction_and_amount` is also 0 - there's nothing to learn\n",
    "* Negative reversal: multiplying pure error by `input` will reverse the sign of `direction_and_amount` if `input` is negative\n",
    "  * Ensures `weight` moves in the right direction even if `input` is negative\n",
    "* Scaling: if `input` is large, so should be `weight`"
   ]
  },
  {
   "cell_type": "code",
   "execution_count": 1,
   "metadata": {},
   "outputs": [
    {
     "name": "stdout",
     "output_type": "stream",
     "text": [
      "Error: 0.30250000000000005; Prediction: 0.25\n",
      "Error: 0.17015625000000004; Prediction: 0.3875\n",
      "Error: 0.095712890625; Prediction: 0.49062500000000003\n",
      "Error: 0.05383850097656251; Prediction: 0.56796875\n",
      "Error: 0.03028415679931642; Prediction: 0.6259765625\n",
      "Error: 0.0170348381996155; Prediction: 0.669482421875\n",
      "Error: 0.00958209648728372; Prediction: 0.70211181640625\n",
      "Error: 0.005389929274097089; Prediction: 0.7265838623046875\n",
      "Error: 0.0030318352166796153; Prediction: 0.7449378967285156\n",
      "Error: 0.0017054073093822882; Prediction: 0.7587034225463867\n",
      "Error: 0.0009592916115275371; Prediction: 0.76902756690979\n",
      "Error: 0.0005396015314842384; Prediction: 0.7767706751823426\n",
      "Error: 0.000303525861459885; Prediction: 0.7825780063867569\n",
      "Error: 0.00017073329707118678; Prediction: 0.7869335047900676\n",
      "Error: 9.603747960254256e-05; Prediction: 0.7902001285925507\n",
      "Error: 5.402108227642978e-05; Prediction: 0.7926500964444131\n",
      "Error: 3.038685878049206e-05; Prediction: 0.7944875723333098\n",
      "Error: 1.7092608064027242e-05; Prediction: 0.7958656792499823\n",
      "Error: 9.614592036015323e-06; Prediction: 0.7968992594374867\n",
      "Error: 5.408208020258491e-06; Prediction: 0.7976744445781151\n"
     ]
    }
   ],
   "source": [
    "weight = 0.5\n",
    "goal_pred = 0.8\n",
    "input = 0.5\n",
    "\n",
    "for iteration in range(20):\n",
    "    pred = input * weight\n",
    "    # `(pred - goal_pred)` is the pure error\n",
    "    error = (pred - goal_pred) ** 2\n",
    "    # input: scaling, negative reversal, and stopping\n",
    "    direction_and_amount = (pred - goal_pred) * input\n",
    "    # Recalculate weight\n",
    "    weight = weight - direction_and_amount\n",
    "    \n",
    "    print(f\"Error: {error}; Prediction: {pred}\")"
   ]
  },
  {
   "cell_type": "code",
   "execution_count": 3,
   "metadata": {},
   "outputs": [
    {
     "name": "stdout",
     "output_type": "stream",
     "text": [
      "Error: 0.6400000000000001; Prediction: 0.0\n",
      "Error: 0.3600000000000001; Prediction: 0.2\n",
      "Error: 0.2025; Prediction: 0.35000000000000003\n",
      "Error: 0.11390625000000001; Prediction: 0.4625\n"
     ]
    }
   ],
   "source": [
    "# Perform weight update / gradient descent on single training example\n",
    "\n",
    "weight = 0.1\n",
    "alpha = 0.01\n",
    "\n",
    "def neural_network(input, weight):\n",
    "    prediction = input * weight\n",
    "    return prediction\n",
    "\n",
    "weight, goal_pred, input = (0.0, 0.8, 0.5)\n",
    "\n",
    "for iteration in range(4):\n",
    "    # Make prediction, calculate error and delta\n",
    "    pred = neural_network(input, weight)\n",
    "    error = (pred - goal_pred) ** 2\n",
    "    delta = pred - goal_pred\n",
    "    weight_delta = input * delta\n",
    "    weight = weight - weight_delta\n",
    "    print(f\"Error: {error}; Prediction: {pred}\")"
   ]
  },
  {
   "cell_type": "markdown",
   "metadata": {},
   "source": [
    "#### What is `weight_delta`, really?\n",
    "\n",
    "What is a function, and how can one be understood?\n",
    "\n",
    "* A function defines some sort of relationship between the input and output\n",
    "* Every function has moving parts that can be tweaked to change the output\n",
    "\n",
    "    error = ((input * weight) - goal_pred) ** 2\n",
    "\n",
    "`weight` is the only part of the function above that can be changed while still conforming to the patterns in the data\n",
    "\n",
    "> Key point: learning is adjusting `weight` to reduce `error` to 0."
   ]
  },
  {
   "cell_type": "markdown",
   "metadata": {},
   "source": [
    "##### Derivatives\n",
    "\n",
    "The derivative describes how one variable moves when another is changed. Or, it's the slope describing the relationship.\n",
    "\n",
    "This slope can be used to figure out how to force one to change in a specific direction by modifying the other.\n",
    "\n",
    "The important thing is to understand what the derivative represents.\n",
    "\n",
    "Again again again! — the relationship between two variables in a function, describing how much one changes in response to the other changing. It's the sensitivity between two variables.\n",
    "\n",
    "##### Using a derivative to learn\n",
    "\n",
    "> `weight_delta` is the derivative!\n",
    "\n",
    "To use the derivative in finding the minimum `error`, move (change `weight`) in the opposite direction of the slope (derivative).\n",
    "\n",
    "##### Divergence and alpha\n",
    "\n",
    "With big `input`, the prediction is very sensitive to changes in `weight`. Small changes in `weight` will lead to massive swings in the prediction.\n",
    "\n",
    "This can be combatted using alpha, or the learning rate. I.e. multiply the `weight_delta` by a fraction."
   ]
  },
  {
   "cell_type": "code",
   "execution_count": 5,
   "metadata": {},
   "outputs": [
    {
     "name": "stdout",
     "output_type": "stream",
     "text": [
      "Error:0.03999999999999998 Prediction:1.0\n",
      "Error:0.0144 Prediction:0.92\n",
      "Error:0.005183999999999993 Prediction:0.872\n",
      "Error:0.0018662400000000014 Prediction:0.8432000000000001\n",
      "Error:0.0006718464000000028 Prediction:0.8259200000000001\n",
      "Error:0.00024186470400000033 Prediction:0.815552\n",
      "Error:8.70712934399997e-05 Prediction:0.8093312\n",
      "Error:3.134566563839939e-05 Prediction:0.80559872\n",
      "Error:1.1284439629823931e-05 Prediction:0.803359232\n",
      "Error:4.062398266736526e-06 Prediction:0.8020155392\n",
      "Error:1.4624633760252567e-06 Prediction:0.8012093235200001\n",
      "Error:5.264868153690924e-07 Prediction:0.8007255941120001\n",
      "Error:1.8953525353291194e-07 Prediction:0.8004353564672001\n",
      "Error:6.82326912718715e-08 Prediction:0.8002612138803201\n",
      "Error:2.456376885786678e-08 Prediction:0.8001567283281921\n",
      "Error:8.842956788836216e-09 Prediction:0.8000940369969153\n",
      "Error:3.1834644439835434e-09 Prediction:0.8000564221981492\n",
      "Error:1.1460471998340758e-09 Prediction:0.8000338533188895\n",
      "Error:4.125769919393652e-10 Prediction:0.8000203119913337\n",
      "Error:1.485277170987127e-10 Prediction:0.8000121871948003\n"
     ]
    }
   ],
   "source": [
    "weight = 0.5\n",
    "goal_pred = 0.8\n",
    "# Earlier implementation would break with this input\n",
    "# but this one doesn't, thanks to our friend alpha!\n",
    "input = 2\n",
    "alpha = 0.1\n",
    "\n",
    "for iteration in range(20):\n",
    "    pred = input * weight\n",
    "    error = (pred - goal_pred) ** 2\n",
    "    derivative = input * (pred - goal_pred)\n",
    "    weight = weight - (alpha * derivative)\n",
    "    print(\"Error:\" + str(error) + \" Prediction:\" + str(pred))"
   ]
  },
  {
   "cell_type": "markdown",
   "metadata": {},
   "source": [
    "#### Chapter 4: Review and solifidy\n",
    "\n",
    "\n",
    "* [ ] Build the code for the above neural network implementation from scratch, without looking at notes\n",
    "  * Leave comments ELI5 every single line"
   ]
  },
  {
   "cell_type": "code",
   "execution_count": null,
   "metadata": {},
   "outputs": [],
   "source": []
  },
  {
   "cell_type": "markdown",
   "metadata": {},
   "source": [
    "---\n",
    "\n",
    "### Algorithms, data structures, and brain teasers"
   ]
  },
  {
   "cell_type": "markdown",
   "metadata": {},
   "source": []
  },
  {
   "cell_type": "code",
   "execution_count": null,
   "metadata": {},
   "outputs": [],
   "source": []
  },
  {
   "cell_type": "markdown",
   "metadata": {},
   "source": [
    "---\n",
    "\n",
    "### Interviewing and STAR storytelling"
   ]
  },
  {
   "cell_type": "markdown",
   "metadata": {},
   "source": [
    "This question was asked by: LinkedIn\n",
    "\n",
    "Let's say that you're working on a job recommendation engine. You have access to all user Linkedin profiles, a list of jobs each user applied to, and answers to questions that the user filled in about their job search.\n",
    "\n",
    "Using this information, how would you build a job recommendation feed?"
   ]
  },
  {
   "cell_type": "code",
   "execution_count": null,
   "metadata": {},
   "outputs": [],
   "source": []
  },
  {
   "cell_type": "code",
   "execution_count": null,
   "metadata": {},
   "outputs": [],
   "source": []
  },
  {
   "cell_type": "code",
   "execution_count": null,
   "metadata": {},
   "outputs": [],
   "source": []
  },
  {
   "cell_type": "markdown",
   "metadata": {},
   "source": []
  }
 ],
 "metadata": {
  "kernelspec": {
   "display_name": "Python 3.7.6 64-bit ('vela': pipenv)",
   "language": "python",
   "name": "python37664bitvelapipenvde09592071074af6a70ce3b1ce38af95"
  },
  "language_info": {
   "codemirror_mode": {
    "name": "ipython",
    "version": 3
   },
   "file_extension": ".py",
   "mimetype": "text/x-python",
   "name": "python",
   "nbconvert_exporter": "python",
   "pygments_lexer": "ipython3",
   "version": "3.7.6"
  }
 },
 "nbformat": 4,
 "nbformat_minor": 4
}
