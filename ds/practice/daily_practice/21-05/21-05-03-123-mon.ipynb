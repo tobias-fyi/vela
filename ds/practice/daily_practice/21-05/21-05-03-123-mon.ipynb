{
 "metadata": {
  "language_info": {
   "codemirror_mode": {
    "name": "ipython",
    "version": 3
   },
   "file_extension": ".py",
   "mimetype": "text/x-python",
   "name": "python",
   "nbconvert_exporter": "python",
   "pygments_lexer": "ipython3",
   "version": 3
  },
  "orig_nbformat": 2
 },
 "nbformat": 4,
 "nbformat_minor": 2,
 "cells": [
  {
   "source": [
    "# 2021-05-03 Daily Practice\n",
    "\n",
    "- [ ] Practice: algorithms and data structures\n",
    "- [ ] Learn: Data Science Design Manual\n",
    "- [x] Write: tobias.fyi or Contact Section\n",
    "- [ ] Build: Savor (Data)"
   ],
   "cell_type": "markdown",
   "metadata": {}
  },
  {
   "source": [
    "---\n",
    "\n",
    "## Write: Contact Section\n",
    "\n",
    "Started a new story based on a dream I had this morning about playing a card game that was more than a card game, in a big warehouse that under the purview of some controlling interest. I got into a good flow; excited to continue the story tomorrow morning."
   ],
   "cell_type": "markdown",
   "metadata": {}
  },
  {
   "source": [
    "---\n",
    "\n",
    "## Practice"
   ],
   "cell_type": "markdown",
   "metadata": {}
  },
  {
   "source": [
    "### Running Sum\n",
    "\n",
    "Given an array `nums`. We define a running sum of an array as `runningSum[i] = sum(nums[0]…nums[i])`.\n",
    "\n",
    "Return the running sum of `nums`.\n",
    "\n",
    "Example 1\n",
    "\n",
    "    Input: nums = [1,2,3,4]\n",
    "    Output: [1,3,6,10]\n",
    "    Explanation: Running sum is obtained as follows: [1, 1+2, 1+2+3, 1+2+3+4]."
   ],
   "cell_type": "markdown",
   "metadata": {}
  },
  {
   "cell_type": "code",
   "execution_count": null,
   "metadata": {},
   "outputs": [],
   "source": [
    "# Method 1\n",
    "def runningSum(nums: List[int]) -> List[int]:\n",
    "    sums = []  # Create new list, sums, to hold running sum\n",
    "    run_sum = 0  # Keep track of current sum with var\n",
    "    # Iterate through nums, adding to var and appending var to sums\n",
    "    for num in nums:\n",
    "        run_sum += num\n",
    "        sums.append(run_sum)\n",
    "    return sums"
   ]
  },
  {
   "cell_type": "code",
   "execution_count": null,
   "metadata": {},
   "outputs": [],
   "source": [
    "# Method 2\n",
    "def runningSum(nums: List[int]) -> List[int]:\n",
    "    sums = [None] * len(nums)  # Create sums list with same length as nums\n",
    "    # Iterate through nums, setting sums[i] = nums[i] + sums[i-1]\n",
    "    for i, num in enumerate(nums):\n",
    "        if i == 0:  # In case of first number, don't add\n",
    "            sums[i] = nums[i]\n",
    "        else:\n",
    "            sums[i] = nums[i] + sums[i - 1]\n",
    "    return sums"
   ]
  },
  {
   "source": [
    "### Binary Search Tree Iterator\n",
    "\n",
    "Implement the `BSTIterator` class that represents an iterator over the in-order traversal of a binary search tree (BST):\n",
    "\n",
    "- `BSTIterator(TreeNode root)` Initializes an object of the `BSTIterator` class. The root of the BST is given as part of the constructor. The pointer should be initialized to a non-existent number smaller than any element in the BST.\n",
    "- `boolean hasNext()` Returns true if there exists a number in the traversal to the right of the pointer, otherwise returns false.\n",
    "- `int next()` Moves the pointer to the right, then returns the number at the pointer.\n",
    "\n",
    "Notice that by initializing the pointer to a non-existent smallest number, the first call to `next()` will return the smallest element in the BST.\n",
    "\n",
    "You may assume that `next()` calls will always be valid. That is, there will be at least a next number in the in-order traversal when `next()` is called."
   ],
   "cell_type": "markdown",
   "metadata": {}
  },
  {
   "cell_type": "code",
   "execution_count": null,
   "metadata": {},
   "outputs": [],
   "source": [
    "# Definition for a binary tree node.\n",
    "class TreeNode:\n",
    "    def __init__(self, val=0, left=None, right=None):\n",
    "        self.val = val\n",
    "        self.left = left\n",
    "        self.right = right\n",
    "\n",
    "\n",
    "class BSTIterator:\n",
    "\n",
    "    def __init__(self, root: TreeNode):\n",
    "        self.root = root\n",
    "        # Find smallest value to set pointer\n",
    "        smallest_value = 0\n",
    "        cur_node = self.root\n",
    "        while cur_node:\n",
    "            # If node's value is less than smallest, set smallest to it\n",
    "            if cur_node.val < smallest_value:\n",
    "                smallest_value = cur_node.val\n",
    "            # Try iterating to left\n",
    "            if cur_node.left:\n",
    "                cur_node = cur_node.left\n",
    "            elif cur_node.right:\n",
    "                cur_node = cur_node.right\n",
    "            else:\n",
    "                cur_node = None\n",
    "        self.pointer = smallest_value - 1\n",
    "\n",
    "    def next(self) -> int:\n",
    "        # Traverse down tree to find lowest value above current pointer\n",
    "        \n",
    "\n",
    "    def hasNext(self) -> bool:\n",
    "        \n",
    "\n",
    "\n",
    "# Your BSTIterator object will be instantiated and called as such:\n",
    "# obj = BSTIterator(root)\n",
    "# param_1 = obj.next()\n",
    "# param_2 = obj.hasNext()"
   ]
  },
  {
   "source": [
    "### Session Difference\n",
    "\n",
    "On [Interview Query](https://www.interviewquery.com/questions/session-difference)\n",
    "\n",
    "user_sessions table\n",
    "\n",
    "| column     | type     |\n",
    "| ---------- | -------- |\n",
    "| session_id | integer  |\n",
    "| created_at | datetime |\n",
    "| user_id    | integer  |\n",
    "\n",
    "Given a table of user sessions, write a query to get the number of days between each user's first session and last session for the year of 2020.\n",
    "\n",
    "Output:\n",
    "\n",
    "| column     | type |\n",
    "| ---------- | ---- |\n",
    "| user_id    | int  |\n",
    "| no_of_days | int  |\n",
    "\n",
    "First pass solution:\n",
    "\n",
    "```sql\n",
    "-- Get min for each user\n",
    "with mins as (\n",
    "    select\n",
    "        user_id\n",
    "        , min(created_at) as first_session_2020\n",
    "    from user_sessions\n",
    "    where created_at > '2020-01-01'\n",
    "        and created_at < '2021-01-01'\n",
    "    group by user_id\n",
    ")\n",
    "-- Get max for each user\n",
    ", maxes as (\n",
    "    select\n",
    "        user_id\n",
    "        , max(created_at) as last_session_2020\n",
    "    from user_sessions\n",
    "    where created_at > '2020-01-01'\n",
    "        and created_at < '2021-01-01'\n",
    "    group by user_id\n",
    ")\n",
    "\n",
    "-- Join min and max; calculate difference\n",
    "select\n",
    "    mins.user_id as user_id\n",
    "    , DATEDIFF(last_session_2020, first_session_2020) as no_of_days\n",
    "from mins\n",
    "join maxes\n",
    "    on mins.user_id = maxes.user_id\n",
    "```\n",
    "\n",
    "And the (much more concise) answer:\n",
    "\n",
    "```sql\n",
    "SELECT \n",
    "  user_id,\n",
    "  DATEDIFF(MAX(created_at),MIN(created_at)) AS no_of_days\n",
    "FROM user_sessions\n",
    "WHERE YEAR(created_at)=2020\n",
    "GROUP BY 1\n",
    "```\n",
    "\n",
    "My answer worked after using the `YEAR()` function instead of my clunky double-WHERE.\n"
   ],
   "cell_type": "markdown",
   "metadata": {}
  },
  {
   "cell_type": "code",
   "execution_count": null,
   "metadata": {},
   "outputs": [],
   "source": []
  }
 ]
}