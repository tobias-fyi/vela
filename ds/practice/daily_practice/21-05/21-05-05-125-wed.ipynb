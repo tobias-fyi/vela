{
 "cells": [
  {
   "cell_type": "markdown",
   "id": "substantial-midwest",
   "metadata": {},
   "source": [
    "# 2021-05-05 Daily Practice\n",
    "\n",
    "- [x] Practice\n",
    "  - [x] SQL\n",
    "  - [x] Coding\n",
    "  - [x] Solving\n",
    "- [x] Learn\n",
    "- [ ] Write\n",
    "- [ ] Build"
   ]
  },
  {
   "cell_type": "markdown",
   "id": "alleged-expression",
   "metadata": {},
   "source": [
    "---\n",
    "\n",
    "## Warmups"
   ]
  },
  {
   "cell_type": "code",
   "execution_count": 1,
   "id": "selective-belarus",
   "metadata": {},
   "outputs": [],
   "source": [
    "ts = [\n",
    "    '2019-01-01', \n",
    "    '2019-01-02',\n",
    "    '2019-01-08', \n",
    "    '2019-02-01', \n",
    "    '2019-02-02',\n",
    "    '2019-02-05',\n",
    "]\n",
    "\n",
    "output = [\n",
    "    ['2019-01-01', '2019-01-02'], \n",
    "    ['2019-01-08'], \n",
    "    ['2019-02-01', '2019-02-02'],\n",
    "    ['2019-02-05'],\n",
    "]"
   ]
  },
  {
   "cell_type": "code",
   "execution_count": 9,
   "id": "thrown-polls",
   "metadata": {},
   "outputs": [
    {
     "data": {
      "text/plain": [
       "[[datetime.datetime(2019, 1, 1, 0, 0), datetime.datetime(2019, 1, 2, 0, 0)],\n",
       " [datetime.datetime(2019, 1, 8, 0, 0)]]"
      ]
     },
     "execution_count": 9,
     "metadata": {},
     "output_type": "execute_result"
    }
   ],
   "source": [
    "from typing import List\n",
    "from datetime import datetime, timedelta\n",
    "\n",
    "\n",
    "def weekly_aggregation(ts: List[str]) -> List[list]:\n",
    "    output = []  # Create output list of lists\n",
    "    cur_group = [datetime.fromisoformat(ts[0])]  # Append first day to new nested list\n",
    "    delta = timedelta(days=7)\n",
    "    # Iterate through days, converting to datetime\n",
    "    for day in ts[1:]:\n",
    "        day_date = datetime.fromisoformat(day)\n",
    "        # If timestamp within timedelta of 7 days, add to current group\n",
    "        if day_date - cur_group[0] < delta:\n",
    "            cur_group.append(day_date)\n",
    "        else:  # Else append current group and start new group\n",
    "            output.append(cur_group)  # Append current group to output\n",
    "            cur_group = [day_date]  # And start a new group\n",
    "    return output\n",
    "    \n",
    "weekly_aggregation(ts)"
   ]
  },
  {
   "cell_type": "code",
   "execution_count": 10,
   "id": "global-raise",
   "metadata": {},
   "outputs": [
    {
     "data": {
      "text/plain": [
       "['2019-01-01',\n",
       " '2019-01-02',\n",
       " '2019-01-08',\n",
       " '2019-02-01',\n",
       " '2019-02-02',\n",
       " '2019-02-05']"
      ]
     },
     "execution_count": 10,
     "metadata": {},
     "output_type": "execute_result"
    }
   ],
   "source": [
    "ts"
   ]
  },
  {
   "cell_type": "markdown",
   "id": "heard-jones",
   "metadata": {},
   "source": [
    "### SQL\n",
    "\n",
    "[Empty Neighborhoods](https://www.interviewquery.com/questions/empty-neighborhoods)\n",
    "\n",
    "```sql\n",
    "select\n",
    "    n.name\n",
    "from neighborhoods n\n",
    "left join users u\n",
    "    on n.id = u.neighborhood_id\n",
    "where u.name is null\n",
    "```\n",
    "\n"
   ]
  },
  {
   "cell_type": "markdown",
   "id": "italic-trouble",
   "metadata": {},
   "source": [
    "---\n",
    "\n",
    "## Takehome Test\n",
    "\n",
    "> Selections from this morning's takehome test on programming, data engineering, system design, SQL and written communication."
   ]
  },
  {
   "cell_type": "markdown",
   "id": "dedicated-stockholm",
   "metadata": {},
   "source": [
    "### SQL\n",
    "\n",
    "```sql\n",
    "with sleep_counts as (\n",
    "  -- list of users that have sleep data day count >= 200 days in the past year\n",
    "  select\n",
    "    user_id\n",
    "    , sum(case when sleep_minutes is not null then 1 else 0 end) as count_sleep_data_day\n",
    "  from fitbit_activity\n",
    "  where date > current_date - 365\n",
    "  group by user_id\n",
    "  having sleep_data_day_count > 200\n",
    ")\n",
    "\n",
    ", completed_survey as (\n",
    "  -- list of users that have completed a survey in past 30 days\n",
    "  select distinct user_id\n",
    "  where date_offered > current_date - 30\n",
    "    and date_submitted is not null\n",
    ")\n",
    "\n",
    "-- Find users that have sleep counts but are not in the list of those who completed surveys in past 30 days\n",
    "select\n",
    "  count(sc.user_id) as count_users_sleep_no_survey\n",
    "from sleep_counts sc\n",
    "left outer join completed_survey ncs\n",
    "  on sc.user_id = ncs.user_id\n",
    "-- don't include users who submitted surveys in last 30 days; i.e. users in left but not in right\n",
    "where ncs.user_id is null -- right side's user_id will be null for users it doesn't have\n",
    "```"
   ]
  },
  {
   "cell_type": "markdown",
   "id": "limiting-agriculture",
   "metadata": {},
   "source": [
    "---\n",
    "\n",
    "## Learn\n",
    "\n",
    "> Learned and practiced some new and old linux / bash commands.\n",
    "\n",
    "My favorite from this session is `top` / `htop` – essentially Activity Monitor in the terminal. I had some fun with this  on a remote linux server I have that's running a web app for a client by having `htop` open while playing around on the interface of the app via the browser and seeing the various processes kick off – nginx, gunicorn, docker, etc.\n",
    "\n",
    "Good fun!\n",
    "\n",
    "Another good one is `df -ah` to check disk space: how much is used and how much is free."
   ]
  },
  {
   "cell_type": "code",
   "execution_count": null,
   "id": "recent-drive",
   "metadata": {},
   "outputs": [],
   "source": []
  },
  {
   "cell_type": "code",
   "execution_count": null,
   "id": "forty-metropolitan",
   "metadata": {},
   "outputs": [],
   "source": []
  },
  {
   "cell_type": "code",
   "execution_count": null,
   "id": "spatial-electricity",
   "metadata": {},
   "outputs": [],
   "source": []
  },
  {
   "cell_type": "code",
   "execution_count": null,
   "id": "little-rolling",
   "metadata": {},
   "outputs": [],
   "source": []
  },
  {
   "cell_type": "code",
   "execution_count": null,
   "id": "willing-closing",
   "metadata": {},
   "outputs": [],
   "source": []
  }
 ],
 "metadata": {
  "kernelspec": {
   "display_name": "Python 3.7.6 64-bit ('vela': pipenv)",
   "language": "python",
   "name": "python37664bitvelapipenvde09592071074af6a70ce3b1ce38af95"
  },
  "language_info": {
   "codemirror_mode": {
    "name": "ipython",
    "version": 3
   },
   "file_extension": ".py",
   "mimetype": "text/x-python",
   "name": "python",
   "nbconvert_exporter": "python",
   "pygments_lexer": "ipython3",
   "version": "3.7.6"
  }
 },
 "nbformat": 4,
 "nbformat_minor": 5
}
