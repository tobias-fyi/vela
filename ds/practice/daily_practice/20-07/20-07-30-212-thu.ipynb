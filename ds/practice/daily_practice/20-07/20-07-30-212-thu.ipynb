{
 "cells": [
  {
   "cell_type": "markdown",
   "metadata": {},
   "source": [
    "# 20-07-30: Daily Practice"
   ]
  },
  {
   "cell_type": "markdown",
   "metadata": {},
   "source": [
    "---\n",
    "---\n",
    "\n",
    "## Practices"
   ]
  },
  {
   "cell_type": "markdown",
   "metadata": {},
   "source": [
    "### Daily\n",
    "\n",
    "* [x] [Job Search](#2-Hour-Job-Search)\n",
    "  * [x] LAMP List\n",
    "  * [x] Network\n",
    "  * [x] Social media\n",
    "* [ ] [Meta-data: read & write](#Meta-data:-reading-&-writing)\n",
    "* [x] [Practice & learn](#Practice-&-learn)\n",
    "  * [ ] Coding, algorithms & data structures\n",
    "  * [ ] Data science: access, manipulation, analysis, visualization\n",
    "  * [x] Engineering: SQL, PySpark, APIs, TDD, OOP\n",
    "  * [ ] Machine learning: Scikit-learn, TensorFlow, PyTorch\n",
    "  * [x] Interview questions (out loud)\n",
    "    * STAR storytelling"
   ]
  },
  {
   "cell_type": "markdown",
   "metadata": {},
   "source": [
    "### Weekly\n",
    "\n",
    "Vim command(s) I'll get familiar with this week:\n",
    "\n",
    "* `*` — jump forward to next occurrence of current word\n",
    "* `#` — jump backward to previous occurrence of current word\n",
    "* Combine with...\n",
    "  * `n` to continue going in same direction\n",
    "  * `N` to go in reverse direction"
   ]
  },
  {
   "cell_type": "markdown",
   "metadata": {},
   "source": [
    "---\n",
    "---\n",
    "\n",
    "## 2-Hour Job Search"
   ]
  },
  {
   "cell_type": "markdown",
   "metadata": {},
   "source": [
    "### Professional Copy\n",
    "\n",
    "Worked on the copy for my LinkedIn About section and my resume.\n",
    "\n",
    "#### LinkedIn - About\n",
    "\n",
    "Entrepreneurial data scientist, software engineer, writer, and music producer with a BS in Economics and a relentless drive to iterate and learn. Dedicated to creating value using software, data, and a wide range of technical, intellectual, and interpersonal expertise gained from a lifetime of curiosity and years of experience working intimately with complex software systems, from manufacturing ERP to web apps, APIs, and machine learning models.\n",
    "\n",
    "My current repertoire:\n",
    "\n",
    "* Languages: Python, SQL, Bash, JavaScript, HTML/CSS/Sass, Jinja2, Markdown, YAML, JSON.\n",
    "* Data manipulation/visualization: Pandas, NumPy, SciPy, Matplotlib, Seaborn, Plotly.\n",
    "* Machine/deep learning: Scikit-learn, XGBoost, TensorFlow, Keras, PyTorch, fastai.\n",
    "* Data storage/access: RDBMS, PostgreSQL, ORMs, AWS RDS, MongoDB.\n",
    "* Apps/APIs: Flask, Django, Wagtail, Plotly Dash.\n",
    "* Platforms/tools: Git, GitHub, Jupyter, Docker, Docker-Compose, Anaconda, Pip, Pipenv, AWS (Sagemaker, Elastic Beanstalk, EC2, ECR, RDS), Heroku, Google Cloud Platform, Weights & Biases.\n",
    "* CS: object-oriented programming (OOP), algorithms, data structures. "
   ]
  },
  {
   "cell_type": "markdown",
   "metadata": {},
   "source": [
    "### Network\n",
    "\n",
    "Scheduled another informational and reached out to start talking about more. Sent out resumes to a couple of connections that may have leads for me."
   ]
  },
  {
   "cell_type": "markdown",
   "metadata": {},
   "source": []
  },
  {
   "cell_type": "markdown",
   "metadata": {},
   "source": []
  },
  {
   "cell_type": "markdown",
   "metadata": {},
   "source": [
    "---\n",
    "---\n",
    "\n",
    "## Meta-data: read & write"
   ]
  },
  {
   "cell_type": "markdown",
   "metadata": {},
   "source": []
  },
  {
   "cell_type": "markdown",
   "metadata": {},
   "source": []
  },
  {
   "cell_type": "markdown",
   "metadata": {},
   "source": [
    "---\n",
    "---\n",
    "\n",
    "## Practice & learn"
   ]
  },
  {
   "cell_type": "markdown",
   "metadata": {},
   "source": [
    "---\n",
    "\n",
    "### Coding, algorithms & data structures"
   ]
  },
  {
   "cell_type": "code",
   "execution_count": null,
   "metadata": {},
   "outputs": [],
   "source": []
  },
  {
   "cell_type": "markdown",
   "metadata": {},
   "source": [
    "---\n",
    "\n",
    "### Interview questions"
   ]
  },
  {
   "cell_type": "markdown",
   "metadata": {},
   "source": [
    "#### DS Careers Office Hours with Rachel\n",
    "\n",
    "* Read over new executive summary\n",
    "  * Said it works grammatically and makes sense\n",
    "  * Hiring managers will mostly be skimming it anyways, and it has enough of the right content to work for that purpose\n",
    "* Asked a couple of small questions\n",
    "  * Is it fine to list all three titles at top of resume/LinkedIn: Data Scientist | Software Engineer | Machine Learning Engineer?\n",
    "    * Said it's fine\n",
    "  * Does it seem pretentious to include my middle initials?\n",
    "    * No, and as I'd hoped, it can be a talking point if an interviewer ever asks about it\n",
    "* Practiced my behavioral interviewing answers/demeanor\n",
    "\n",
    "##### Practice Interview\n",
    "\n",
    "* Tell me about yourself and a little about your background\n",
    "  * Most important lesson instilled by my parents: learning is a lifelong endeavor\n",
    "  * That has been a defining feature of my life - always learning\n",
    "  * Believe in the power of data and technology to usher in a better world for all\n",
    "  * Got a Bachelor of Science in Economics from Cal Poly\n",
    "    * Didn't really realize it at the time, but the classes I enjoyed the most were in the realm of DS\n",
    "    * Had the opportunity to do 4+1 DS masters, but didn't take it - Why? (Tradeoff enumeration)\n",
    "      * Financial\n",
    "      * Psychological - was very much done with being in school - needed a break\n",
    "  * Still worked intimately with data at my first company out of college, IQMS\n",
    "    * Training program on an Oracle-based ERP to be tech support guru\n",
    "    * Promoted to on-site implementation consultant within a year\n",
    "\n",
    "I think I was a little long-winded on this answer, but she said I had all of the right pieces. With more practice I'll be able to connect them all smoothly. She also said that it would be fine to mention that I had the opportunity to do the 4+1 DS masters but decided against it, because the reasons I didn't could illustrate my values/motivations, or simply provide some more depth to my personality.\n",
    "    \n",
    "* Things are very busy here - tell me about a time when you had to multi-task\n",
    "  * As an implementation consultant, I was responsible for managing the entire implementation process\n",
    "  * Lots of things have to be done concurrently to have a successful implementation, on budget and on time\n",
    "  * Setting up the systems/databases, migrating legacy data, and much more\n",
    "  * Found how important it was to manage both my own and my clients' expectations of what could reasonably be accomplished, and how it could be accomplished\n",
    "    * Forced me to learn how to delegate and work with/manage multiple teams\n",
    "    \n",
    "I could've stayed a little more on-topic towards the end of my answer. Always have to end it on a confident / memorable note.\n",
    "    \n",
    "* Our tech stack is always changing - tell me about a time when you've had to learn/apply a new skill quickly\n",
    "  * Trash Panda - computer vision app to help people have better recycling habits\n",
    "  * Only a brief intro to CV beforehand - had to learn best practices for the entire process\n",
    "  * Also, I learned how to use two additional CV frameworks in order to automate the labeling process\n",
    "  * In the end, the four of us gathered and labeled over 82k images\n",
    "    * Model achieved about a 50% mean average precision across all of the 73 classes it was trained on\n",
    "    * Some getting up to high 80s, others not so good - a lot of room for improvement\n",
    "  * I was solely responsible for building and deploying the API\n",
    "    * Built the API with Flask, containerized it with Docker, and deployed it to AWS Elastic Beanstalk\n",
    "  * You can try out the app for yourself via the browser on your phone (or Play store for Android)\n",
    "  \n",
    "She said I did very well — I hit the important points and did a good job explaining the challenges. At first I forgot to include the last (results/outcomes) part of the third question, but once she reminded me I went ahead and finished it. Served as another great reminder to end things with a solid wrap-up."
   ]
  },
  {
   "cell_type": "markdown",
   "metadata": {},
   "source": [
    "#### Mock Interview #2\n",
    "\n",
    "Had a second mock interview, also behavioral questions. Notes to come later."
   ]
  },
  {
   "cell_type": "markdown",
   "metadata": {},
   "source": [
    "#### Behavioral Questions List\n",
    "\n",
    "Something to keep adding to.\n",
    "\n",
    "* \"Tell me a bit about yourself\"\n",
    "* \"Tell me about a project you've worked on and are proud of\"\n",
    "* \"What do you know about our company?\"\n",
    "* \"Where do you see yourself in 3-5 years?\"\n",
    "* \"Why do you want to work here / want this job?\"\n",
    "* \"What makes you most qualified for this role?\"\n",
    "* \"What is your greatest strength/weakness?\"\n",
    "  * \"What is your greatest technical strength?\"\n",
    "* \"Tell me about a time when you had conflict with someone and how you handled it\"\n",
    "* \"Tell me about a mistake you made and how you handled it\"\n",
    "* \"Do you have any questions for me?\"\n",
    "  * What is your favorite aspect of working here?\n",
    "  * What has your journey looked like at the company?\n",
    "  * What are some challenges you face in your position?\n",
    "* Scenario questions (STAR: situation, task, action, result)\n",
    "  * Success story / biggest accomplishment\n",
    "  * Greatest challenge (overcome)\n",
    "  * Persuaded someone who did not agree with you\n",
    "  * Dealt with and resolved a conflict (among team members)\n",
    "  * Led a team / showed leadership skills or aptitude\n",
    "  * How you've dealt with stress / stressful situations\n",
    "  * Most difficult problem encountered in previous job; how you solved it\n",
    "  * Solved a problem creatively\n",
    "  * Exceeded expectations to get a job done\n",
    "  * Showed initiative\n",
    "  * Something that's not on your resume\n",
    "  * Example of important goal you set and how you reached it\n",
    "  * A time you failed"
   ]
  },
  {
   "cell_type": "markdown",
   "metadata": {},
   "source": [
    "---\n",
    "\n",
    "### Data science"
   ]
  },
  {
   "cell_type": "code",
   "execution_count": null,
   "metadata": {},
   "outputs": [],
   "source": []
  },
  {
   "cell_type": "markdown",
   "metadata": {},
   "source": [
    "---\n",
    "\n",
    "### Engineering"
   ]
  },
  {
   "cell_type": "markdown",
   "metadata": {},
   "source": [
    "---\n",
    "\n",
    "#### Intro to Shell"
   ]
  },
  {
   "cell_type": "markdown",
   "metadata": {},
   "source": [
    "#### Ch 4: Batch Processing\n",
    "\n",
    "* EnviroVars and Shell Variables\n",
    "\n",
    "`set | grep HISTFILESIZE`\n",
    "\n",
    "`echo $OSTYPE`\n",
    "\n",
    "* Looping\n",
    "\n",
    "```bash\n",
    "$ for filetype in docx odt pdf; do echo $filetype; done\n",
    "```\n",
    "\n",
    "```bash\n",
    "$ for filename in people/*; do echo $filename; done\n",
    "```\n",
    "\n",
    "```bash\n",
    "$ files=seasonal/*.csv\n",
    "$ for f in $files; do echo $f; done\n",
    "```\n",
    "\n",
    "* Running commands over multiple files using a loop:\n",
    "\n",
    "```bash\n",
    "$ for file in seasonal/*.csv; do grep 2017-07 $file | tail -n 1; done\n",
    "```"
   ]
  },
  {
   "cell_type": "markdown",
   "metadata": {},
   "source": [
    "#### Ch 5: Creating New Tools\n",
    "\n",
    "* Using Nano\n",
    "* Saving command history\n",
    "\n",
    "```bash\n",
    "$ cp seasonal/{spring,summer}.csv .$ files=seasonal/{spring,summer}.csv\n",
    "$ grep -h -v Tooth *.csv > temp.csv$ history | tail -n 3 > steps.txt\n",
    "```\n",
    "\n",
    "* Running commands saved in `.sh` scripts\n",
    "* Piping the output of scripts to other files\n",
    "* Passing variables to scripts\n",
    "  * `$@` for all\n",
    "  * `$1`, `$2`, etc. for specific ones\n",
    "\n",
    "```bash\n",
    "$ nano count-records.sh\n",
    "$ cat count-records.sh\n",
    ">>> tail -q -n +2 $@ | wc -l\n",
    "$ bash count-records.sh seasonal/*.csv > num-records.out\n",
    "```\n",
    "\n",
    "* Writing loops in scripts\n",
    "\n",
    "```bash\n",
    "$ cat date-range.sh\n",
    "# Print the first and last date from each data file.\n",
    "for filename in $@\n",
    "do\n",
    "    cut -d , -f 1 $filename | grep -v Date | sort | head -n 1\n",
    "    cut -d , -f 1 $filename | grep -v Date | sort | tail -n 1\n",
    "done\n",
    "\n",
    "$ bash date-range.sh seasonal/*.csv | sort\n",
    "2017-01-03\n",
    "...\n",
    "2017-09-07\n",
    "```"
   ]
  },
  {
   "cell_type": "markdown",
   "metadata": {},
   "source": [
    "---\n",
    "\n",
    "### Machine learning"
   ]
  },
  {
   "cell_type": "code",
   "execution_count": null,
   "metadata": {},
   "outputs": [],
   "source": []
  },
  {
   "cell_type": "markdown",
   "metadata": {},
   "source": []
  },
  {
   "cell_type": "markdown",
   "metadata": {},
   "source": []
  },
  {
   "cell_type": "markdown",
   "metadata": {},
   "source": []
  },
  {
   "cell_type": "markdown",
   "metadata": {},
   "source": []
  }
 ],
 "metadata": {
  "kernelspec": {
   "display_name": "Python 3.7.6 64-bit ('vela': pipenv)",
   "language": "python",
   "name": "python37664bitvelapipenvde09592071074af6a70ce3b1ce38af95"
  },
  "language_info": {
   "codemirror_mode": {
    "name": "ipython",
    "version": 3
   },
   "file_extension": ".py",
   "mimetype": "text/x-python",
   "name": "python",
   "nbconvert_exporter": "python",
   "pygments_lexer": "ipython3",
   "version": "3.7.6"
  }
 },
 "nbformat": 4,
 "nbformat_minor": 4
}
