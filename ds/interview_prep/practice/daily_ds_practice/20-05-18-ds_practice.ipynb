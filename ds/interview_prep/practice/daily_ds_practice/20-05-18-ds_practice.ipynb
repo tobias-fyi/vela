{
 "cells": [
  {
   "cell_type": "markdown",
   "metadata": {},
   "source": [
    "# 20-05-18: Daily Data Practice\n",
    "\n",
    "---\n",
    "\n",
    "## Daily Practices\n",
    "\n",
    "* Practice with the common DS/ML tools and processes\n",
    "  * HackerRank SQL or Packt SQL Data Analytics\n",
    "  * Try to hit benchmark accuracies with [UCI ML datasets](https://archive.ics.uci.edu/ml/index.php)\n",
    "  * Kaggle\n",
    "  * Hands-on ML with sklearn, Keras, and TensorFlow\n",
    "    * Read, code along, take notes\n",
    "    * _test yourself on the concepts_ — i.e. do all the chapter exercises\n",
    "  * [fast.ai course](https://course.fast.ai/)\n",
    "  * Packt Workshops\n",
    "* Interviewing\n",
    "  * Behavioral questions and scenarios\n",
    "  * Business case walk-throughs\n",
    "  * Hot-seat DS-related topics for recall practice (under pressure)\n",
    "* Meta Data: Review and write\n",
    "  * Focus on a topic, review notes and resources, write a blog post about it\n",
    "* Job sourcing\n",
    "  * Networking\n",
    "  * LinkedIn\n",
    "  * Indeed"
   ]
  },
  {
   "cell_type": "markdown",
   "metadata": {},
   "source": [
    "---\n",
    "\n",
    "## DS + ML Practice\n",
    "\n",
    "* Pick a dataset and try to do X with it\n",
    "  * Try to hit benchmark accuracies with [UCI ML datasets](https://archive.ics.uci.edu/ml/index.php)\n",
    "  * Kaggle\n",
    "* Practice with the common DS/ML tools and processes\n",
    "  * Hands-on ML with sklearn, Keras, and TensorFlow\n",
    "  * Machine learning flashcards\n",
    "\n",
    "#### _The goal is to be comfortable explaining the entire process._\n",
    "\n",
    "* Data access / sourcing, cleaning\n",
    "  * SQL\n",
    "  * Pandas\n",
    "  * Exploratory data analysis\n",
    "  * Data wrangling techniques and processes\n",
    "* Inference\n",
    "  * Statistics\n",
    "  * Probability\n",
    "  * Visualization\n",
    "* Modeling\n",
    "  * Implement + justify choice of model / algorithm\n",
    "  * Track performance + justify choice of metrics\n",
    "    * Communicate results as relevant to the goal"
   ]
  },
  {
   "cell_type": "markdown",
   "metadata": {},
   "source": [
    "---\n",
    "\n",
    "## Reading: Data Science From Scratch"
   ]
  },
  {
   "cell_type": "markdown",
   "metadata": {},
   "source": [
    "### Chapter 6: Probability\n",
    "\n",
    "* Probability is a way of quantifying the uncertainty associated with certain events out of some set of events.\n",
    "* (In)Dependence\n",
    "  * Two events are dependent if knowing A happened provides information on the likelihood of B happening\n",
    "* Conditional Probability\n",
    "* Bayes' Theorem ([3B1B](https://youtu.be/HZGCoVF3YvM))\n",
    "  * A way of reversing conditional probabilities\n",
    "\n",
    "> I'll come back to this later on"
   ]
  },
  {
   "cell_type": "markdown",
   "metadata": {},
   "source": [
    "---\n",
    "\n",
    "## Review / Practice\n",
    "\n",
    "Starting back at Unit 1, Sprint (2 or 3) - Statistics, and going through assignments and lecture notebooks."
   ]
  },
  {
   "cell_type": "markdown",
   "metadata": {},
   "source": [
    "#### 132: Sampling Confidence Intervals\n",
    "\n",
    "T-test assumptions\n",
    "\n",
    "* Independence of means\n",
    "* Homogeneity of variance\n",
    "* Dependence variable (sample means) are distributed normally\n",
    "\n",
    "*Central Limit Theorem*: the distribution of sample means becomes more normal as n increases.\n",
    "\n",
    "Relationship bw confidence intervals and t-tests\n",
    "\n",
    "* Confidence interval is the boundary of statistical significance for our t-test\n",
    "  * Sample mean falls inside the confidence interval, we will Fail to Reject the null hypothesis\n",
    "  * Sample mean falls outside the confidence interval, we will Reject the null hypothesis\n",
    "\n",
    "[StatQuest: Confidence Intervals](https://youtu.be/TqOeMYtOc1w)\n",
    "\n",
    "* Bootstrapping: estimating the sampling distribution of a statistic or of model parameters\n",
    "  * Draw additional samples from the sample itself, with replacement\n",
    "  * Recalculate the statistic or model for each resample\n",
    "* A 95% confidence interval covers 95% of the bootstrapped sample means"
   ]
  },
  {
   "cell_type": "markdown",
   "metadata": {},
   "source": [
    "---\n",
    "\n",
    "## Writing\n",
    "\n",
    "> Focus on a topic or project, learn/review the concepts, and write a blog post about it\n",
    "\n"
   ]
  },
  {
   "cell_type": "markdown",
   "metadata": {},
   "source": []
  },
  {
   "cell_type": "markdown",
   "metadata": {},
   "source": [
    "---\n",
    "\n",
    "## Interviewing\n",
    "\n",
    "> Practice answering the most common interview questions\n",
    "\n",
    "Technical\n",
    "\n",
    "* Business case walk-throughs\n",
    "* Hot-seat DS-related topics for recall practice (under pressure)\n",
    "\n",
    "Behavioral\n",
    "\n",
    "* \"Tell me a bit about yourself\"\n",
    "* \"Tell me about a project you've worked on and are proud of\"\n",
    "* \"What do you know about our company?\"\n",
    "* \"Where do you see yourself in 3-5 years?\"\n",
    "* \"Why do you want to work here / want this job?\"\n",
    "* \"What makes you most qualified for this role?\"\n",
    "* \"What is your greatest strength/weakness?\"\n",
    "  * \"What is your greatest technical strength?\"\n",
    "* \"Tell me about a time when you had conflict with someone and how you handled it\"\n",
    "* \"Tell me about a mistake you made and how you handled it\"\n",
    "* \"Do you have any questions for me?\"\n",
    "  * What is your favorite aspect of working here?\n",
    "  * What has your journey looked like at the company?\n",
    "  * What are some challenges you face in your position?\n",
    "* Scenario questions (STAR: situation, task, action, result)\n",
    "  * Success story / biggest accomplishment\n",
    "  * Greatest challenge (overcome)\n",
    "  * Persuaded someone who did not agree with you\n",
    "  * Dealt with and resolved a conflict (among team members)\n",
    "  * Led a team / showed leadership skills or aptitude\n",
    "  * How you've dealt with stress / stressful situations\n",
    "  * Most difficult problem encountered in previous job; how you solved it\n",
    "  * Solved a problem creatively\n",
    "  * Exceeded expectations to get a job done\n",
    "  * Showed initiative\n",
    "  * Something that's not on your resume\n",
    "  * Example of important goal you set and how you reached it\n",
    "  * A time you failed"
   ]
  },
  {
   "cell_type": "markdown",
   "metadata": {},
   "source": []
  },
  {
   "cell_type": "markdown",
   "metadata": {},
   "source": [
    "---\n",
    "\n",
    "## SQL\n",
    "\n",
    "> Work through practice problems on HackerRank or Packt"
   ]
  },
  {
   "cell_type": "markdown",
   "metadata": {},
   "source": []
  },
  {
   "cell_type": "markdown",
   "metadata": {},
   "source": [
    "---\n",
    "\n",
    "## Job sourcing\n",
    "\n",
    "> Browse LinkedIn, Indeed, and connections for promising leads"
   ]
  },
  {
   "cell_type": "markdown",
   "metadata": {},
   "source": []
  },
  {
   "cell_type": "markdown",
   "metadata": {},
   "source": []
  },
  {
   "cell_type": "markdown",
   "metadata": {},
   "source": []
  },
  {
   "cell_type": "markdown",
   "metadata": {},
   "source": []
  },
  {
   "cell_type": "markdown",
   "metadata": {},
   "source": []
  },
  {
   "cell_type": "markdown",
   "metadata": {},
   "source": []
  },
  {
   "cell_type": "markdown",
   "metadata": {},
   "source": []
  },
  {
   "cell_type": "markdown",
   "metadata": {},
   "source": []
  },
  {
   "cell_type": "markdown",
   "metadata": {},
   "source": []
  },
  {
   "cell_type": "markdown",
   "metadata": {},
   "source": []
  },
  {
   "cell_type": "markdown",
   "metadata": {},
   "source": []
  },
  {
   "cell_type": "markdown",
   "metadata": {},
   "source": []
  },
  {
   "cell_type": "markdown",
   "metadata": {},
   "source": []
  },
  {
   "cell_type": "markdown",
   "metadata": {},
   "source": []
  }
 ],
 "metadata": {
  "kernelspec": {
   "display_name": "Python 3.7.6 64-bit ('vela': pipenv)",
   "language": "python",
   "name": "python37664bitvelapipenvde09592071074af6a70ce3b1ce38af95"
  },
  "language_info": {
   "codemirror_mode": {
    "name": "ipython",
    "version": 3
   },
   "file_extension": ".py",
   "mimetype": "text/x-python",
   "name": "python",
   "nbconvert_exporter": "python",
   "pygments_lexer": "ipython3",
   "version": "3.7.6"
  }
 },
 "nbformat": 4,
 "nbformat_minor": 4
}
