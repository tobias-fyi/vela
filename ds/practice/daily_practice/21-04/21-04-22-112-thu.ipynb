{
 "metadata": {
  "language_info": {
   "codemirror_mode": {
    "name": "ipython",
    "version": 3
   },
   "file_extension": ".py",
   "mimetype": "text/x-python",
   "name": "python",
   "nbconvert_exporter": "python",
   "pygments_lexer": "ipython3",
   "version": "3.7.6"
  },
  "orig_nbformat": 2,
  "kernelspec": {
   "name": "python376jvsc74a57bd0d279672dec97687973da8f2b23dbdcc76259fde61874b489061eca7e42b844dc",
   "display_name": "Python 3.7.6 64-bit ('vela': pipenv)"
  }
 },
 "nbformat": 4,
 "nbformat_minor": 2,
 "cells": [
  {
   "source": [
    "# 2021-04-22 Daily Practice\n",
    "\n",
    "- [x] Leedcode / HackerRank algorithms practice"
   ],
   "cell_type": "markdown",
   "metadata": {}
  },
  {
   "source": [
    "---\n",
    "\n",
    "## LeetCode\n",
    "\n",
    "### Distribute Candies\n",
    "\n",
    "Alice has `n` candies, where the ith candy is of type `candyType[i]`. Alice noticed that she started to gain weight, so she visited a doctor.\n",
    "\n",
    "The doctor advised Alice to only eat `n / 2` of the candies she has (`n` is always even). Alice likes her candies very much, and she wants to eat the maximum number of different types of candies while still following the doctor's advice.\n",
    "\n",
    "Given the integer array `candyType` of length `n`, return the maximum number of different types of candies she can eat if she only eats `n / 2` of them."
   ],
   "cell_type": "markdown",
   "metadata": {}
  },
  {
   "source": [
    "#### Example 1\n",
    "\n",
    "    Input: candyType = [1,1,2,2,3,3]\n",
    "    Output: 3\n",
    "    Explanation: Alice can only eat 6 / 2 = 3 candies. Since there are only 3 types, she can eat one of each type.\n",
    "\n",
    "#### Example 2\n",
    "\n",
    "    Input: candyType = [1,1,2,3]\n",
    "    Output: 2\n",
    "    Explanation: Alice can only eat 4 / 2 = 2 candies. Whether she eats types [1,2], [1,3], or [2,3], she still can only eat 2 different types.\n",
    "\n",
    "#### Example 3\n",
    "\n",
    "    Input: candyType = [6,6,6,6]\n",
    "    Output: 1\n",
    "    Explanation: Alice can only eat 4 / 2 = 2 candies. Even though she can eat 2 candies, she only has 1 type.\n"
   ],
   "cell_type": "markdown",
   "metadata": {}
  },
  {
   "source": [
    "from typing import List\n",
    "\n",
    "class Solution:\n",
    "    def distributeCandies(self, candyType: List[int]) -> int:\n",
    "        # ...\n",
    "        pass\n",
    "\n",
    "def distributeCandies(candyType: List[int]) -> int:\n",
    "    # Calculate number of candies Alice can eat\n",
    "    num_can_eat = int(len(candyType) / 2)\n",
    "    # Find number of unique types of candies\n",
    "    num_types = int(len(set(candyType)))\n",
    "    # Return the lower of the two\n",
    "    return num_can_eat if num_can_eat < num_types else num_types\n",
    "\n",
    "def distributeCandies(candyType: List[int]) -> int:\n",
    "    # One-liner\n",
    "    return int(len(candyType) / 2) if int(len(candyType) / 2) < int(len(set(candyType))) else int(len(set(candyType)))"
   ],
   "cell_type": "code",
   "metadata": {},
   "execution_count": 9,
   "outputs": []
  },
  {
   "cell_type": "code",
   "execution_count": 10,
   "metadata": {},
   "outputs": [
    {
     "output_type": "stream",
     "name": "stdout",
     "text": [
      "3\n2\n1\n"
     ]
    }
   ],
   "source": [
    "ans_1 = distributeCandies([1,1,2,2,3,3])\n",
    "print(ans_1)\n",
    "assert ans_1 == 3\n",
    "\n",
    "ans_2 = distributeCandies([1,1,2,3])\n",
    "print(ans_2)\n",
    "assert ans_2 == 2\n",
    "\n",
    "ans_3 = distributeCandies([6,6,6,6])\n",
    "print(ans_3)\n",
    "assert ans_3 == 1"
   ]
  },
  {
   "cell_type": "code",
   "execution_count": null,
   "metadata": {},
   "outputs": [],
   "source": []
  }
 ]
}