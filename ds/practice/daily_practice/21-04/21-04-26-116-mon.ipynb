{
 "metadata": {
  "language_info": {
   "codemirror_mode": {
    "name": "ipython",
    "version": 3
   },
   "file_extension": ".py",
   "mimetype": "text/x-python",
   "name": "python",
   "nbconvert_exporter": "python",
   "pygments_lexer": "ipython3",
   "version": "3.7.6"
  },
  "orig_nbformat": 2,
  "kernelspec": {
   "name": "python376jvsc74a57bd0d279672dec97687973da8f2b23dbdcc76259fde61874b489061eca7e42b844dc",
   "display_name": "Python 3.7.6 64-bit ('vela-_qIiF1eP': virtualenv)"
  }
 },
 "nbformat": 4,
 "nbformat_minor": 2,
 "cells": [
  {
   "source": [
    "# 2021-04-26 Daily Practice\n",
    "\n",
    "- [x] Leedcode / HackerRank algorithms practice"
   ],
   "cell_type": "markdown",
   "metadata": {}
  },
  {
   "source": [
    "---\n",
    "\n",
    "## Letter combos\n",
    "\n",
    "> [Letter combinations of a phone number](https://leetcode.com/explore/featured/card/april-leetcoding-challenge-2021/594/week-2-april-8th-april-14th/3701/)\n",
    "\n",
    "Given a string containing digits from 2-9 inclusive, return all possible letter combinations that the number could represent. Return the answer in any order.\n",
    "\n",
    "A mapping of digit to letters (just like on the telephone buttons) is given below. Note that 1 does not map to any letters."
   ],
   "cell_type": "markdown",
   "metadata": {}
  },
  {
   "cell_type": "code",
   "execution_count": 2,
   "metadata": {},
   "outputs": [],
   "source": [
    "from typing import List\n",
    "\n",
    "mapping = {\n",
    "    2: \"abc\",\n",
    "    3: \"def\",\n",
    "    4: \"ghi\",\n",
    "    5: \"jkl\",\n",
    "    6: \"mno\",\n",
    "    7: \"pqrs\",\n",
    "    8: \"tuv\",\n",
    "    9: \"wxyz\",\n",
    "}"
   ]
  },
  {
   "source": [
    "Example 1:\n",
    "\n",
    "    Input: digits = \"23\"\n",
    "    Output: [\"ad\",\"ae\",\"af\",\"bd\",\"be\",\"bf\",\"cd\",\"ce\",\"cf\"]\n",
    "\n",
    "Example 2:\n",
    "\n",
    "    Input: digits = \"\"\n",
    "    Output: []\n",
    "\n",
    "Example 3:\n",
    "\n",
    "    Input: digits = \"2\"\n",
    "    Output: [\"a\",\"b\",\"c\"]"
   ],
   "cell_type": "markdown",
   "metadata": {}
  },
  {
   "cell_type": "code",
   "execution_count": 22,
   "metadata": {},
   "outputs": [],
   "source": [
    "from itertools import product\n",
    "\n",
    "def letterCombinations(digits: str) -> List[str]:\n",
    "    if digits == \"\":\n",
    "        return digits\n",
    "    mapping = {\n",
    "        2: \"abc\",\n",
    "        3: \"def\",\n",
    "        4: \"ghi\",\n",
    "        5: \"jkl\",\n",
    "        6: \"mno\",\n",
    "        7: \"pqrs\",\n",
    "        8: \"tuv\",\n",
    "        9: \"wxyz\",\n",
    "    }\n",
    "    digits = list(digits)  # Split up the digits into digits (chars)\n",
    "    # Split up each digit's letters into a list of letters\n",
    "    list_of_lists = [list(mapping[int(digit)]) for digit in digits]\n",
    "    # Return the cartesian product between all digits as a list\n",
    "    return [\"\".join(prod) for prod in product(*list_of_lists)]"
   ]
  },
  {
   "cell_type": "code",
   "execution_count": 23,
   "metadata": {},
   "outputs": [
    {
     "output_type": "execute_result",
     "data": {
      "text/plain": [
       "['2', '3']"
      ]
     },
     "metadata": {},
     "execution_count": 23
    }
   ],
   "source": [
    "digits = \"23\"\n",
    "list(digits)"
   ]
  },
  {
   "cell_type": "code",
   "execution_count": 24,
   "metadata": {},
   "outputs": [
    {
     "output_type": "execute_result",
     "data": {
      "text/plain": [
       "['ad', 'ae', 'af', 'bd', 'be', 'bf', 'cd', 'ce', 'cf']"
      ]
     },
     "metadata": {},
     "execution_count": 24
    }
   ],
   "source": [
    "letterCombinations(digits)"
   ]
  },
  {
   "cell_type": "code",
   "execution_count": 21,
   "metadata": {},
   "outputs": [
    {
     "output_type": "execute_result",
     "data": {
      "text/plain": [
       "'ad'"
      ]
     },
     "metadata": {},
     "execution_count": 21
    }
   ],
   "source": [
    "\"\".join(('a', 'd'))"
   ]
  },
  {
   "cell_type": "code",
   "execution_count": null,
   "metadata": {},
   "outputs": [],
   "source": []
  }
 ]
}