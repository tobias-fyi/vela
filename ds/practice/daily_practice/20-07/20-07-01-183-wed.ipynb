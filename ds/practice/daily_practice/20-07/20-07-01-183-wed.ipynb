{
 "cells": [
  {
   "cell_type": "markdown",
   "metadata": {},
   "source": [
    "# 20-07-01: Daily Practice"
   ]
  },
  {
   "cell_type": "markdown",
   "metadata": {},
   "source": [
    "---\n",
    "\n",
    "## Daily Practices\n",
    "\n",
    "* [ ] Coding & Problem Solving Practice\n",
    "* [x] Practice & Learn - Data Science / Machine Learning\n",
    "* [x] Meta Data: Review & Write\n",
    "* [x] 2-Hour Job Search\n",
    "* [ ] Interview Practice"
   ]
  },
  {
   "cell_type": "markdown",
   "metadata": {},
   "source": [
    "---\n",
    "\n",
    "## Meta Data: Review & Write"
   ]
  },
  {
   "cell_type": "markdown",
   "metadata": {},
   "source": [
    "### Binary Mask Creation Using Image Segmentation\n",
    "\n",
    "I spent ~40 mins on the blog post I'm currently writing which outlines a process of automatically creating binary masks outlining objects in images using an image segmentation model. I made some good progress on it, and have some good ideas about structuring it to make it read well, such as some examples to use throughout."
   ]
  },
  {
   "cell_type": "markdown",
   "metadata": {},
   "source": [
    "---\n",
    "\n",
    "## 2-Hour Job Search"
   ]
  },
  {
   "cell_type": "markdown",
   "metadata": {},
   "source": [
    "### Job Application\n",
    "\n",
    "I submitted an application for a position that I'm very interested in, and for which I'm working on a little project (LikeWise - GoodReads recsys). Excited to see if anything comes of it!\n",
    "\n",
    "### LAMP List\n",
    "\n",
    "Finished compiling my LAMP list, with a total of 60 companies."
   ]
  },
  {
   "cell_type": "markdown",
   "metadata": {},
   "source": [
    "---\n",
    "\n",
    "## Practice & Learning - Data Science / Machine Learning"
   ]
  },
  {
   "cell_type": "markdown",
   "metadata": {},
   "source": [
    "### PySpark\n",
    "\n",
    "I signed up for DataCamp using the GitHub student pack offer, which allegedly provides me with a 3-month individual subscription. The first course I started is the first in the _Big Data with PySpark_ Skill Track, Introduction to PySpark. I've been interested in learning (Py)Spark so figured that would be a good course to use as a DataCamp tester.\n",
    "\n",
    "So far, so good. I like the DataCamp platform, as it integrates learning with assessments and code all in the one interface. That makes it easy."
   ]
  },
  {
   "cell_type": "markdown",
   "metadata": {},
   "source": [
    "### LikeWise\n",
    "\n",
    "Retrained the collab model with the larger sample of the dataset. Did a little more browsing the code in the reference notebook I found to find a way to generate the actual recommendations."
   ]
  },
  {
   "cell_type": "markdown",
   "metadata": {},
   "source": [
    "---\n",
    "\n",
    "## Coding & Problem Solving Practice"
   ]
  },
  {
   "cell_type": "markdown",
   "metadata": {},
   "source": [
    "### Python\n",
    "\n",
    "* [Merge two sorted lists (easy)](https://leetcode.com/problems/merge-two-sorted-lists/)\n",
    "* [Remove duplicates from sorted array (easy)](https://leetcode.com/problems/remove-duplicates-from-sorted-array/)\n",
    "* [Permutations (medium)](https://leetcode.com/problems/permutations/)\n",
    "* [Generate parantheses (medium)](https://leetcode.com/problems/generate-parentheses/)"
   ]
  },
  {
   "cell_type": "markdown",
   "metadata": {},
   "source": []
  },
  {
   "cell_type": "code",
   "execution_count": null,
   "metadata": {},
   "outputs": [],
   "source": []
  },
  {
   "cell_type": "markdown",
   "metadata": {},
   "source": [
    "### SQL"
   ]
  },
  {
   "cell_type": "markdown",
   "metadata": {},
   "source": []
  },
  {
   "cell_type": "markdown",
   "metadata": {},
   "source": []
  },
  {
   "cell_type": "markdown",
   "metadata": {},
   "source": [
    "---\n",
    "\n",
    "## Interview Practice"
   ]
  },
  {
   "cell_type": "markdown",
   "metadata": {},
   "source": []
  },
  {
   "cell_type": "markdown",
   "metadata": {},
   "source": []
  },
  {
   "cell_type": "markdown",
   "metadata": {},
   "source": []
  },
  {
   "cell_type": "markdown",
   "metadata": {},
   "source": []
  },
  {
   "cell_type": "markdown",
   "metadata": {},
   "source": []
  },
  {
   "cell_type": "markdown",
   "metadata": {},
   "source": []
  },
  {
   "cell_type": "markdown",
   "metadata": {},
   "source": []
  },
  {
   "cell_type": "markdown",
   "metadata": {},
   "source": []
  },
  {
   "cell_type": "markdown",
   "metadata": {},
   "source": []
  },
  {
   "cell_type": "markdown",
   "metadata": {},
   "source": []
  },
  {
   "cell_type": "markdown",
   "metadata": {},
   "source": []
  },
  {
   "cell_type": "markdown",
   "metadata": {},
   "source": []
  }
 ],
 "metadata": {
  "kernelspec": {
   "display_name": "Python 3.7.6 64-bit ('vela': pipenv)",
   "language": "python",
   "name": "python37664bitvelapipenvde09592071074af6a70ce3b1ce38af95"
  },
  "language_info": {
   "codemirror_mode": {
    "name": "ipython",
    "version": 3
   },
   "file_extension": ".py",
   "mimetype": "text/x-python",
   "name": "python",
   "nbconvert_exporter": "python",
   "pygments_lexer": "ipython3",
   "version": "3.7.6"
  }
 },
 "nbformat": 4,
 "nbformat_minor": 4
}
