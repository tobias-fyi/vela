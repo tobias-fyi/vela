{
 "cells": [
  {
   "cell_type": "markdown",
   "metadata": {},
   "source": [
    "# 20-08-09: Daily Practice"
   ]
  },
  {
   "cell_type": "markdown",
   "metadata": {},
   "source": [
    "---\n",
    "---\n",
    "\n",
    "## Practices"
   ]
  },
  {
   "cell_type": "markdown",
   "metadata": {},
   "source": [
    "### Daily\n",
    "\n",
    "* [ ] [Job Search](#2-Hour-Job-Search)\n",
    "  * [ ] 2HJS progress\n",
    "  * [ ] Network\n",
    "  * [ ] Social media\n",
    "* [ ] [Meta-data: read & write](#Meta-data:-reading-&-writing)\n",
    "* [ ] [Practice & learn](#Practice-&-learn)\n",
    "  * [ ] Coding, algorithms & data structures\n",
    "  * [ ] Data science: access, manipulation, analysis, visualization\n",
    "  * [ ] Engineering: SQL, PySpark, APIs, TDD, OOP\n",
    "  * [ ] Machine learning: Scikit-learn, TensorFlow, PyTorch\n",
    "  * [ ] Interview questions, STAR storytelling"
   ]
  },
  {
   "cell_type": "markdown",
   "metadata": {},
   "source": [
    "### Weekly\n",
    "\n",
    "Vim command(s) I'll get familiar with this week:\n",
    "\n"
   ]
  },
  {
   "cell_type": "markdown",
   "metadata": {},
   "source": [
    "---\n",
    "---\n",
    "\n",
    "## 2-Hour Job Search"
   ]
  },
  {
   "cell_type": "markdown",
   "metadata": {},
   "source": [
    "### Covered Letters\n",
    "\n",
    "Found another interesting opportunity via a Slack networking group. Decided to go ahead and reach out with my resume and a cover letter saying why I'd be a good fit. I was inspired and managed to finish the cover letter and everything within an hour."
   ]
  },
  {
   "cell_type": "markdown",
   "metadata": {},
   "source": []
  },
  {
   "cell_type": "markdown",
   "metadata": {},
   "source": []
  },
  {
   "cell_type": "markdown",
   "metadata": {},
   "source": []
  },
  {
   "cell_type": "markdown",
   "metadata": {},
   "source": [
    "---\n",
    "---\n",
    "\n",
    "## Meta-data: read & write"
   ]
  },
  {
   "cell_type": "markdown",
   "metadata": {},
   "source": []
  },
  {
   "cell_type": "markdown",
   "metadata": {},
   "source": []
  },
  {
   "cell_type": "markdown",
   "metadata": {},
   "source": [
    "---\n",
    "---\n",
    "\n",
    "## Practice & learn"
   ]
  },
  {
   "cell_type": "markdown",
   "metadata": {},
   "source": [
    "---\n",
    "\n",
    "### Coding, algorithms & data structures"
   ]
  },
  {
   "cell_type": "code",
   "execution_count": null,
   "metadata": {},
   "outputs": [],
   "source": []
  },
  {
   "cell_type": "markdown",
   "metadata": {},
   "source": [
    "---\n",
    "\n",
    "### Interview questions"
   ]
  },
  {
   "cell_type": "code",
   "execution_count": null,
   "metadata": {},
   "outputs": [],
   "source": []
  },
  {
   "cell_type": "markdown",
   "metadata": {},
   "source": [
    "---\n",
    "\n",
    "### Data science"
   ]
  },
  {
   "cell_type": "markdown",
   "metadata": {},
   "source": []
  },
  {
   "cell_type": "markdown",
   "metadata": {},
   "source": [
    "---\n",
    "\n",
    "### Engineering"
   ]
  },
  {
   "cell_type": "markdown",
   "metadata": {},
   "source": [
    "\n",
    "\n",
    "## 19:57 ~ 3 :: FastAI\n",
    "\n",
    "### 19:58 ~ 3.1 :: Yoga Pose Detection\n",
    "\n",
    "I'm going to start working on the Yoga pose detection model. I was skeptical about doing it because I thought I wouldn't be able to test out the time measurement functionality without a GPU. But I can simply input a video of myself and use that instead of using live video.\n",
    "\n",
    "So now I'm going to build this:\n",
    "\n",
    "* Image (video) classification model to classify yoga poses\n",
    "* Web app to serve model for inference\n",
    "* Once the model detects a pose, start counter\n",
    "* Count the number of seconds (or breathes?) each pose is held\n",
    "\n",
    "That's really about it. We'll see how it goes. First step is to create a yoga post classification model using fastai.\n",
    "\n",
    "And the first step for that is to download more images! I'm going to see if I can use a notebook to download them this time.\n",
    "\n",
    "### 20:53 ~ 3.2 :: Poses\n",
    "\n",
    "Got 16 poses.\n",
    "\n",
    "* utkatasana,\n",
    "* adho mukha svanasana,\n",
    "* virabhadrasana I,\n",
    "* virabhadrasana II,\n",
    "* vrksasana,\n",
    "* setubandha,\n",
    "* baddha konasana,\n",
    "* natarajasana,\n",
    "* marjaryasana,\n",
    "* bitilasana,\n",
    "* balasana,\n",
    "* chaturanga dandasana,\n",
    "* urdhva mukha svanasana,\n",
    "* trikonasana,\n",
    "* uttanasana,\n",
    "* halasana,\n",
    "\n",
    "Found the (fastclass) command I used for exercises. Adapting it for the new file.\n",
    "\n",
    "    fcd -c ALL -s 224 -o yoga yoga.csv\n",
    "\n",
    "Basically, this command runs each query in `exercises.csv` on all the default crawlers  (Bing, Google, Baidu), resizes the resulting images to 224x224 pixels.\n",
    "\n",
    "### 22:09 ~ 3.3 :: For Fated\n",
    "\n",
    "Just finished downloading images for all 16 classes.\n",
    "\n",
    "    ╭─ recount-7H8D90e8 » tobiasfyi » ..elf_labs/recount     20.08.09 ∫ 20:57:16\n",
    "    ╰─ fcd -c ALL -s 224 -o yoga yoga.csv\n",
    "    INFO: final dataset will be located in yoga\n",
    "    [1/16] Searching: >> utkatasana <<\n",
    "    (1) Crawling ...\n",
    "        -> GOOGLE\n",
    "        -> BING\n",
    "    Number of duplicate image files: 33. Removing...\n",
    "    (2) Resizing images to (224, 224)\n",
    "    100%|█████████████████████████████| 696/696 [00:10<00:00, 67.45it/s]\n",
    "    [2/16] Searching: >> adho mukha svanasana <<\n",
    "    (1) Crawling ...\n",
    "\n",
    "    ...\n",
    "\n",
    "    [16/16] Searching: >> halasana <<\n",
    "    (1) Crawling ...\n",
    "        -> GOOGLE\n",
    "        -> BING\n",
    "    Number of duplicate image files: 29. Removing...\n",
    "    (2) Resizing images to (224, 224)\n",
    "    100%|████████████████████████████| 688/688 [00:10<00:00, 67.43it/s]\n",
    "\n",
    "### 22:38 ~ 3.4 :: Bad Eggs\n",
    "\n",
    "Went through one class.\n",
    "\n",
    "    ╭─ recount-7H8D90e8 » tobiasfyi » ..abs/recount/yoga      20.08.09 ∫ 22:36:30\n",
    "    ╰─ l adho_mukha_svanasana.clean | wc -l\n",
    "        583"
   ]
  },
  {
   "cell_type": "markdown",
   "metadata": {},
   "source": [
    "---\n",
    "\n",
    "### Machine learning"
   ]
  },
  {
   "cell_type": "code",
   "execution_count": null,
   "metadata": {},
   "outputs": [],
   "source": []
  },
  {
   "cell_type": "markdown",
   "metadata": {},
   "source": []
  },
  {
   "cell_type": "markdown",
   "metadata": {},
   "source": []
  },
  {
   "cell_type": "markdown",
   "metadata": {},
   "source": []
  },
  {
   "cell_type": "markdown",
   "metadata": {},
   "source": []
  }
 ],
 "metadata": {
  "kernelspec": {
   "display_name": "Python 3.7.6 64-bit ('vela': pipenv)",
   "language": "python",
   "name": "python37664bitvelapipenvde09592071074af6a70ce3b1ce38af95"
  },
  "language_info": {
   "codemirror_mode": {
    "name": "ipython",
    "version": 3
   },
   "file_extension": ".py",
   "mimetype": "text/x-python",
   "name": "python",
   "nbconvert_exporter": "python",
   "pygments_lexer": "ipython3",
   "version": "3.7.6"
  }
 },
 "nbformat": 4,
 "nbformat_minor": 4
}
