{
 "cells": [
  {
   "cell_type": "markdown",
   "metadata": {},
   "source": [
    "# 20-07-21: Daily Practice"
   ]
  },
  {
   "cell_type": "markdown",
   "metadata": {},
   "source": [
    "---\n",
    "---\n",
    "\n",
    "## Daily practices\n",
    "\n",
    "* [x] [Job Search](#Job-Search)\n",
    "  * [x] LAMP List\n",
    "  * [x] Network\n",
    "  * [x] Social media\n",
    "  * [x] Job applications\n",
    "* [ ] [Meta-data: read & write](#Meta-data:-reading-&-writing)\n",
    "* [ ] [Practice & learn](#Practice-&-learn)\n",
    "  * [ ] Coding, algorithms & data structures\n",
    "  * [x] Data science: access, manipulation, analysis, visualization\n",
    "  * [ ] Engineering: SQL, PySpark, APIs, TDD, OOP\n",
    "  * [ ] Machine learning: Scikit-learn, TensorFlow, PyTorch\n",
    "  * [ ] Interview questions (out loud)"
   ]
  },
  {
   "cell_type": "markdown",
   "metadata": {},
   "source": [
    "---\n",
    "---\n",
    "\n",
    "## 2-Hour Job Search"
   ]
  },
  {
   "cell_type": "markdown",
   "metadata": {},
   "source": [
    "Working on an application for a job and tuning my resume for the position. I have certain experiences and skills that make me a great candidate for the position that I want to highlight on my resume.\n",
    "\n",
    "### Executive Summary: Data Developer\n",
    "\n",
    "#### Draft 1\n",
    "\n",
    "Collaborative yet independent data professional with a BS in Economics and years of experience working in various capacities with interdisciplinary teams on complex, data-driven software systems.\n",
    "\n",
    "Applied a wide range of expertise to design, develop, and implement key reports to meet manufacturing clients' specifications and expectations.\n",
    "\n",
    "An eye for design and a head for data.\n",
    "\n",
    "#### Draft 2\n",
    "\n",
    "Data professional with a BS in Economics and years of experience with complex, data-driven software systems. Applied a wide range of expertise to design, develop, and implement key reports and data processes. Highly proficient with languages such as Python and SQL that cover the entire data lifecycle, from storage and access to transformation; from visualization and exploration to analysis and interpretation."
   ]
  },
  {
   "cell_type": "markdown",
   "metadata": {},
   "source": [
    "### Job applications\n",
    "\n",
    "* [x] Supply Chain Data Developer\n"
   ]
  },
  {
   "cell_type": "markdown",
   "metadata": {},
   "source": [
    "### Networking\n",
    "\n",
    "* Added to and organized the LAMP list a bit\n",
    "* Researched companies\n",
    "* Replied to some messages on LinkedIn"
   ]
  },
  {
   "cell_type": "markdown",
   "metadata": {},
   "source": []
  },
  {
   "cell_type": "markdown",
   "metadata": {},
   "source": [
    "---\n",
    "---\n",
    "\n",
    "## Practice & learn"
   ]
  },
  {
   "cell_type": "markdown",
   "metadata": {},
   "source": [
    "---\n",
    "\n",
    "### Data science"
   ]
  },
  {
   "cell_type": "markdown",
   "metadata": {},
   "source": [
    "#### Framework for Experimental Design\n",
    "\n",
    "1. Formulate the research question\n",
    "2. Identify variables: independent vs dependent\n",
    "3. Generate hypothesis\n",
    "4. Determine experimental design\n",
    "    * How am I going to test the hypothesis?\n",
    "    * What variables will be involved?\n",
    "5. Develop experimental task & procedure\n",
    "    * What algorithms and techniques best support the experiment design\n",
    "6. Detemine data manipulation & measurements\n",
    "7. Analyze results"
   ]
  },
  {
   "cell_type": "markdown",
   "metadata": {},
   "source": [
    "#### Stat Thinking 2 - Chapter 3: Introduction to Hypothesis Testing\n",
    "\n",
    "##### Test statistics and p-values\n",
    "\n",
    "* p-value: the probability that a value of the test statistic is at least as extreme as what was observed, given the null hypothesis is true\n",
    "  * _Not_ the probability that the null hypothesis is true\n",
    "* NHST: Null Hypothesis Significance Testing\n",
    "* Best to not simply state that the p-value is statistically significant or not\n",
    "  * Consider the value of the p-value\n",
    "  * Consider how much different the data are from what's expected from the null hypothesis (practical significance)\n",
    "* When performing hypothesis tests, your choice of test statistic should be:\n",
    "  * Relevant to the question which the hypothesis test is trying to answer\n",
    "* The p-value is generally a measure of:\n",
    "  * the probability of observing a test statistic equally or more extreme than the one you observed, given that the null hypothesis is true"
   ]
  },
  {
   "cell_type": "code",
   "execution_count": 3,
   "metadata": {},
   "outputs": [],
   "source": [
    "# === Imports === #\n",
    "import pandas as pd\n",
    "import numpy as np\n",
    "import matplotlib.pyplot as plt\n",
    "import seaborn as sns"
   ]
  },
  {
   "cell_type": "code",
   "execution_count": 1,
   "metadata": {},
   "outputs": [],
   "source": [
    "def permutation_sample(data1, data2):\n",
    "    \"\"\"Generate a permutation sample from two data sets.\"\"\"\n",
    "\n",
    "    # Concatenate the data sets: data\n",
    "    data = np.concatenate((data1, data2))\n",
    "\n",
    "    # Permute the concatenated array: permuted_data\n",
    "    permuted_data = np.random.permutation(data)\n",
    "\n",
    "    # Split the permuted array into two: perm_sample_1, perm_sample_2\n",
    "    perm_sample_1 = permuted_data[:len(data1)]\n",
    "    perm_sample_2 = permuted_data[len(data1):]\n",
    "\n",
    "    return perm_sample_1, perm_sample_2"
   ]
  },
  {
   "cell_type": "code",
   "execution_count": 2,
   "metadata": {},
   "outputs": [],
   "source": [
    "# === Generating permutation replicates === #\n",
    "def draw_perm_reps(data_1, data_2, func, size=1):\n",
    "    \"\"\"Generate multiple permutation replicates.\"\"\"\n",
    "\n",
    "    # Initialize array of replicates: perm_replicates\n",
    "    perm_replicates = np.empty(size)\n",
    "\n",
    "    for i in range(size):\n",
    "        # Generate permutation sample\n",
    "        perm_sample_1, perm_sample_2 = permutation_sample(data_1, data_2)\n",
    "\n",
    "        # Compute the test statistic\n",
    "        perm_replicates[i] = func(perm_sample_1, perm_sample_2)\n",
    "\n",
    "    return perm_replicates"
   ]
  },
  {
   "cell_type": "code",
   "execution_count": 43,
   "metadata": {},
   "outputs": [
    {
     "name": "stdout",
     "output_type": "stream",
     "text": [
      "# These data are from the paper,\n",
      "#   Kleinteich and Gorb, Sci. Rep., 4, 5225, 2014.\n",
      "# It was featured in the New York Times.\n",
      "#    http://www.nytimes.com/2014/08/25/science/a-frog-thats-a-living-breathing-pac-man.html\n",
      "#\n",
      "# The authors included the data in their supplemental information.\n",
      "#\n",
      "# Importantly, the ID refers to the identifites of the frogs they tested.\n",
      "#   I:   adult, 63 mm snout-vent-length (SVL) and 63.1 g body weight,\n",
      "#        Ceratophrys cranwelli crossed with Ceratophrys cornuta\n",
      "#   II:  adult, 70 mm SVL and 72.7 g body weight,\n",
      "#        Ceratophrys cranwelli crossed with Ceratophrys cornuta\n",
      "#   III: juvenile, 28 mm SVL and 12.7 g body weight, Ceratophrys cranwelli\n",
      "#   IV:  juvenile, 31 mm SVL and 12.7 g body weight, Ceratophrys cranwelli\n",
      "date,ID,trial number,impact force (mN),impact time (ms),impact force / body weight,adhesive force (mN),time frog pulls on target (ms),adhesive force / body weight,adhesive impulse (N-s),total contact area (mm2),contact area without mucus (mm2),contact area with mucus / contact area without mucus,contact pressure (Pa),adhesive strength (Pa)\n",
      "2013_02_26,I,3,1205,46,1.95,-785,884,1.27,-0.290,387,70,0.82,3117,-2030\n",
      "2013_02_26,I,4,2527,44,4.08,-983,248,1.59,-0.181,101,94,0.07,24923,-9695\n",
      "2013_03_01,I,1,1745,34,2.82,-850,211,1.37,-0.157,83,79,0.05,21020,-10239\n",
      "2013_03_01,I,2,1556,41,2.51,-455,1025,0.74,-0.170,330,158,0.52,4718,-1381\n",
      "2013_03_01,I,3,493,36,0.80,-974,499,1.57,-0.423,245,216,0.12,2012,-3975\n",
      "2013_03_01,I,4,2276,31,3.68,-592,969,0.96,-0.176,341,106,0.69,6676,-1737\n",
      "2013_03_05,I,1,556,43,0.90,-512,835,0.83,-0.285,359,110,0.69,1550,-1427\n",
      "2013_03_05,I,2,1928,46,3.11,-804,508,1.30,-0.285,246,178,0.28,7832,-3266\n",
      "2013_03_05,I,3,2641,50,4.27,-690,491,1.12,-0.239,269,224,0.17,9824,-2568\n",
      "2013_03_05,I,4,1897,41,3.06,-462,839,0.75,-0.328,266,176,0.34,7122,-1733\n",
      "2013_03_12,I,1,1891,40,3.06,-766,1069,1.24,-0.380,408,33,0.92,4638,-1879\n",
      "2013_03_12,I,2,1545,48,2.50,-715,649,1.15,-0.298,141,112,0.21,10947,-5064\n",
      "2013_03_12,I,3,1307,29,2.11,-613,1845,0.99,-0.768,455,92,0.80,2874,-1348\n",
      "2013_03_12,I,4,1692,31,2.73,-677,917,1.09,-0.457,186,129,0.31,9089,-3636\n",
      "2013_03_12,I,5,1543,38,2.49,-528,750,0.85,-0.353,153,148,0.03,10095,-3453\n",
      "2013_03_15,I,1,1282,31,2.07,-452,785,0.73,-0.253,290,105,0.64,4419,-1557\n",
      "2013_03_15,I,2,775,34,1.25,-430,837,0.70,-0.276,257,124,0.52,3019,-1677\n",
      "2013_03_15,I,3,2032,60,3.28,-652,486,1.05,-0.257,147,134,0.09,13784,-4425\n",
      "2013_03_15,I,4,1240,34,2.00,-692,906,1.12,-0.317,364,260,0.28,3406,-1901\n",
      "2013_03_15,I,5,473,40,0.76,-536,1218,0.87,-0.382,259,168,0.35,1830,-2073\n",
      "2013_03_19,II,1,1612,18,3.79,-655,3087,1.54,-0.385,348,15,0.96,4633,-1881\n",
      "2013_03_19,II,2,605,55,1.42,-292,1261,0.69,-0.294,248,24,0.90,2441,-1177\n",
      "2013_03_19,II,3,327,51,0.77,-246,1508,0.58,-0.282,130,34,0.74,2517,-1894\n",
      "2013_03_19,II,4,946,59,2.23,-245,1841,0.58,-0.340,106,26,0.76,8893,-2301\n",
      "2013_03_21,II,1,541,33,1.27,-553,3126,1.30,-0.432,276,16,0.94,1959,-2004\n",
      "2013_03_21,II,2,1539,43,3.62,-664,741,1.56,-0.046,85,24,0.72,18073,-7802\n",
      "2013_03_21,II,3,529,28,1.24,-261,2482,0.61,-0.414,325,33,0.90,1627,-803\n",
      "2013_03_21,II,4,628,31,1.48,-691,998,1.63,-0.071,242,67,0.72,2600,-2860\n",
      "2013_03_25,II,1,1453,72,3.42,-92,1652,0.22,-0.008,136,0,1.00,10645,-678\n",
      "2013_03_25,II,2,297,42,0.70,-566,936,1.33,-0.084,126,4,0.97,2367,-4506\n",
      "2013_03_25,II,3,703,33,1.65,-223,2152,0.52,-0.209,237,8,0.97,2972,-942\n",
      "2013_03_25,II,4,269,57,0.63,-512,189,1.20,-0.055,29,28,0.03,9279,-17652\n",
      "2013_03_28,II,1,751,39,1.77,-227,1195,0.53,-0.026,206,0,1.00,3647,-1101\n",
      "2013_03_28,II,2,245,21,0.58,-573,1466,1.35,-0.215,190,46,0.76,1288,-3014\n",
      "2013_04_03,II,1,1182,28,2.78,-522,1197,1.23,-0.118,281,0,1.00,4213,-1860\n",
      "2013_04_03,II,2,515,29,1.21,-599,1486,1.41,-0.226,217,0,1.00,2369,-2757\n",
      "2013_04_08,II,1,435,26,1.02,-364,1017,0.86,-0.211,189,89,0.53,2302,-1927\n",
      "2013_04_08,II,2,383,31,0.90,-469,974,1.10,-0.260,221,72,0.67,1737,-2129\n",
      "2013_04_08,II,3,457,15,1.08,-844,780,1.99,-0.328,171,106,0.38,2665,-4925\n",
      "2013_04_12,II,1,730,42,1.72,-648,786,1.52,-0.121,142,43,0.70,5149,-4573\n",
      "2013_05_27,III,1,614,88,4.94,-94,683,0.76,-0.001,97,15,0.83,6326,-967\n",
      "2013_05_27,III,2,414,143,3.33,-163,245,1.31,-0.032,108,10,0.60,3824,-1507\n",
      "2013_05_27,III,3,324,105,2.61,-172,619,1.38,-0.079,55,23,0.37,5946,-3149\n",
      "2013_06_11,III,1,776,35,6.24,-225,1823,1.81,-0.132,124,17,0.77,6272,-1818\n",
      "2013_06_11,III,2,611,29,4.91,-301,918,2.42,-0.155,128,43,0.02,4770,-2354\n",
      "2013_06_11,III,3,544,16,4.38,-93,1351,0.75,-0.110,43,34,0.71,12699,-2181\n",
      "2013_06_14,III,1,538,38,4.32,-131,1790,1.05,-0.036,130,74,1.00,4130,-1005\n",
      "2013_06_14,III,2,579,31,4.66,-289,1006,2.33,-0.073,113,4,0.48,5110,-2555\n",
      "2013_06_18,III,1,806,29,6.49,-104,883,0.84,-0.055,115,55,0.66,6993,-902\n",
      "2013_06_18,III,2,459,32,3.70,-229,1218,1.85,-0.137,89,6,0.95,5165,-2580\n",
      "2013_06_18,III,3,458,30,3.69,-259,910,2.08,-0.194,91,88,0.15,5048,-2855\n",
      "2013_06_18,III,4,626,16,5.04,-231,550,1.86,-0.042,82,23,0.01,7633,-2819\n",
      "2013_06_21,III,1,621,27,4.99,-267,2081,2.14,-0.183,120,58,0.90,5152,-2213\n",
      "2013_06_21,III,2,544,30,4.38,-178,376,1.43,-0.034,19,17,0.05,28641,-9364\n",
      "2013_06_21,III,3,535,35,4.30,-123,289,0.99,-0.029,21,29,0.05,25471,-5843\n",
      "2013_06_21,III,4,385,39,3.09,-151,607,1.22,-0.082,31,126,0.03,12409,-4882\n",
      "2013_06_26,III,1,401,36,3.23,-127,2932,1.02,-0.215,142,12,0.86,2835,-896\n",
      "2013_06_26,III,2,614,34,4.94,-372,680,2.99,-0.140,72,1,0.42,8475,-5136\n",
      "2013_06_26,III,3,665,40,5.35,-236,685,1.90,-0.118,129,0,0.16,5171,-1834\n",
      "2013_06_26,III,4,488,34,3.93,-390,1308,3.14,-0.208,112,58,0.39,4376,-3492\n",
      "2013_05_27,IV,2,172,26,1.28,-456,462,3.40,-0.050,133,0,0.88,1297,-3440\n",
      "2013_05_27,IV,3,142,20,1.05,-193,250,1.44,-0.047,57,74,0.83,2498,-3400\n",
      "2013_05_27,IV,4,37,55,0.28,-236,743,1.76,-0.119,51,44,0.54,735,-4647\n",
      "2013_05_30,IV,1,453,38,3.37,-225,844,1.68,-0.110,142,108,0.48,3177,-1581\n",
      "2013_05_30,IV,2,355,31,2.64,-217,728,1.61,-0.023,174,39,0.98,2037,-1245\n",
      "2013_05_30,IV,3,22,33,0.17,-161,472,1.20,-0.052,56,4,0.02,397,-2866\n",
      "2013_06_03,IV,1,502,74,3.74,-139,959,1.04,-0.089,65,77,0.91,7713,-2141\n",
      "2013_06_11,IV,1,273,26,2.03,-264,844,1.97,-0.160,124,81,0.29,2205,-2136\n",
      "2013_06_11,IV,2,720,27,5.36,-342,1515,2.55,-0.226,137,0,0.83,5259,-2497\n",
      "2013_06_11,IV,3,582,33,4.34,-231,279,1.72,-0.033,60,4,0.03,9705,-3847\n",
      "2013_06_11,IV,4,198,23,1.47,-209,1427,1.55,-0.151,110,69,0.84,1793,-1889\n",
      "2013_06_14,IV,1,198,6,1.47,-292,2874,2.17,-0.232,145,50,0.99,1369,-2018\n",
      "2013_06_18,IV,1,597,29,4.44,-339,4251,2.53,-0.281,191,12,1.00,3116,-1772\n",
      "2013_06_18,IV,2,516,31,3.84,-371,626,2.76,-0.094,83,18,0.12,6184,-4447\n",
      "2013_06_18,IV,3,815,34,6.07,-331,1254,2.47,-0.077,151,20,0.71,5386,-2190\n",
      "2013_06_18,IV,4,402,38,3.00,-302,986,2.25,-0.122,117,30,0.07,3446,-2591\n",
      "2013_06_21,IV,1,605,39,4.50,-216,1627,1.61,-0.139,123,20,1.00,4928,-1759\n",
      "2013_06_21,IV,2,711,76,5.30,-163,2021,1.21,-0.217,129,42,0.97,5498,-1257\n",
      "2013_06_21,IV,3,614,33,4.57,-367,1366,2.73,-0.198,128,108,0.46,4776,-2857\n",
      "2013_06_21,IV,4,468,36,3.48,-218,1269,1.63,-0.122,129,68,0.61,3617,-1688\n"
     ]
    }
   ],
   "source": [
    "with open(\"assets/data/frog_tongue.csv\", \"r\") as f:\n",
    "    lines = f.read()\n",
    "print(lines)"
   ]
  },
  {
   "cell_type": "code",
   "execution_count": 33,
   "metadata": {},
   "outputs": [
    {
     "name": "stdout",
     "output_type": "stream",
     "text": [
      "(80, 15)\n"
     ]
    },
    {
     "data": {
      "text/html": [
       "<div>\n",
       "<style scoped>\n",
       "    .dataframe tbody tr th:only-of-type {\n",
       "        vertical-align: middle;\n",
       "    }\n",
       "\n",
       "    .dataframe tbody tr th {\n",
       "        vertical-align: top;\n",
       "    }\n",
       "\n",
       "    .dataframe thead th {\n",
       "        text-align: right;\n",
       "    }\n",
       "</style>\n",
       "<table border=\"1\" class=\"dataframe\">\n",
       "  <thead>\n",
       "    <tr style=\"text-align: right;\">\n",
       "      <th></th>\n",
       "      <th>date</th>\n",
       "      <th>ID</th>\n",
       "      <th>trial number</th>\n",
       "      <th>impact force (mN)</th>\n",
       "      <th>impact time (ms)</th>\n",
       "      <th>impact force / body weight</th>\n",
       "      <th>adhesive force (mN)</th>\n",
       "      <th>time frog pulls on target (ms)</th>\n",
       "      <th>adhesive force / body weight</th>\n",
       "      <th>adhesive impulse (N-s)</th>\n",
       "      <th>total contact area (mm2)</th>\n",
       "      <th>contact area without mucus (mm2)</th>\n",
       "      <th>contact area with mucus / contact area without mucus</th>\n",
       "      <th>contact pressure (Pa)</th>\n",
       "      <th>adhesive strength (Pa)</th>\n",
       "    </tr>\n",
       "  </thead>\n",
       "  <tbody>\n",
       "    <tr>\n",
       "      <th>0</th>\n",
       "      <td>2013-02-26</td>\n",
       "      <td>I</td>\n",
       "      <td>3</td>\n",
       "      <td>1205</td>\n",
       "      <td>46</td>\n",
       "      <td>1.95</td>\n",
       "      <td>-785</td>\n",
       "      <td>884</td>\n",
       "      <td>1.27</td>\n",
       "      <td>-0.290</td>\n",
       "      <td>387</td>\n",
       "      <td>70</td>\n",
       "      <td>0.82</td>\n",
       "      <td>3117</td>\n",
       "      <td>-2030</td>\n",
       "    </tr>\n",
       "    <tr>\n",
       "      <th>1</th>\n",
       "      <td>2013-02-26</td>\n",
       "      <td>I</td>\n",
       "      <td>4</td>\n",
       "      <td>2527</td>\n",
       "      <td>44</td>\n",
       "      <td>4.08</td>\n",
       "      <td>-983</td>\n",
       "      <td>248</td>\n",
       "      <td>1.59</td>\n",
       "      <td>-0.181</td>\n",
       "      <td>101</td>\n",
       "      <td>94</td>\n",
       "      <td>0.07</td>\n",
       "      <td>24923</td>\n",
       "      <td>-9695</td>\n",
       "    </tr>\n",
       "    <tr>\n",
       "      <th>2</th>\n",
       "      <td>2013-03-01</td>\n",
       "      <td>I</td>\n",
       "      <td>1</td>\n",
       "      <td>1745</td>\n",
       "      <td>34</td>\n",
       "      <td>2.82</td>\n",
       "      <td>-850</td>\n",
       "      <td>211</td>\n",
       "      <td>1.37</td>\n",
       "      <td>-0.157</td>\n",
       "      <td>83</td>\n",
       "      <td>79</td>\n",
       "      <td>0.05</td>\n",
       "      <td>21020</td>\n",
       "      <td>-10239</td>\n",
       "    </tr>\n",
       "    <tr>\n",
       "      <th>3</th>\n",
       "      <td>2013-03-01</td>\n",
       "      <td>I</td>\n",
       "      <td>2</td>\n",
       "      <td>1556</td>\n",
       "      <td>41</td>\n",
       "      <td>2.51</td>\n",
       "      <td>-455</td>\n",
       "      <td>1025</td>\n",
       "      <td>0.74</td>\n",
       "      <td>-0.170</td>\n",
       "      <td>330</td>\n",
       "      <td>158</td>\n",
       "      <td>0.52</td>\n",
       "      <td>4718</td>\n",
       "      <td>-1381</td>\n",
       "    </tr>\n",
       "    <tr>\n",
       "      <th>4</th>\n",
       "      <td>2013-03-01</td>\n",
       "      <td>I</td>\n",
       "      <td>3</td>\n",
       "      <td>493</td>\n",
       "      <td>36</td>\n",
       "      <td>0.80</td>\n",
       "      <td>-974</td>\n",
       "      <td>499</td>\n",
       "      <td>1.57</td>\n",
       "      <td>-0.423</td>\n",
       "      <td>245</td>\n",
       "      <td>216</td>\n",
       "      <td>0.12</td>\n",
       "      <td>2012</td>\n",
       "      <td>-3975</td>\n",
       "    </tr>\n",
       "  </tbody>\n",
       "</table>\n",
       "</div>"
      ],
      "text/plain": [
       "        date ID  trial number  impact force (mN)  impact time (ms)  \\\n",
       "0 2013-02-26  I             3               1205                46   \n",
       "1 2013-02-26  I             4               2527                44   \n",
       "2 2013-03-01  I             1               1745                34   \n",
       "3 2013-03-01  I             2               1556                41   \n",
       "4 2013-03-01  I             3                493                36   \n",
       "\n",
       "   impact force / body weight  adhesive force (mN)  \\\n",
       "0                        1.95                 -785   \n",
       "1                        4.08                 -983   \n",
       "2                        2.82                 -850   \n",
       "3                        2.51                 -455   \n",
       "4                        0.80                 -974   \n",
       "\n",
       "   time frog pulls on target (ms)  adhesive force / body weight  \\\n",
       "0                             884                          1.27   \n",
       "1                             248                          1.59   \n",
       "2                             211                          1.37   \n",
       "3                            1025                          0.74   \n",
       "4                             499                          1.57   \n",
       "\n",
       "   adhesive impulse (N-s)  total contact area (mm2)  \\\n",
       "0                  -0.290                       387   \n",
       "1                  -0.181                       101   \n",
       "2                  -0.157                        83   \n",
       "3                  -0.170                       330   \n",
       "4                  -0.423                       245   \n",
       "\n",
       "   contact area without mucus (mm2)  \\\n",
       "0                                70   \n",
       "1                                94   \n",
       "2                                79   \n",
       "3                               158   \n",
       "4                               216   \n",
       "\n",
       "   contact area with mucus / contact area without mucus  \\\n",
       "0                                               0.82      \n",
       "1                                               0.07      \n",
       "2                                               0.05      \n",
       "3                                               0.52      \n",
       "4                                               0.12      \n",
       "\n",
       "   contact pressure (Pa)  adhesive strength (Pa)  \n",
       "0                   3117                   -2030  \n",
       "1                  24923                   -9695  \n",
       "2                  21020                  -10239  \n",
       "3                   4718                   -1381  \n",
       "4                   2012                   -3975  "
      ]
     },
     "execution_count": 33,
     "metadata": {},
     "output_type": "execute_result"
    }
   ],
   "source": [
    "# === Load data for next exercise: frog_tongue.csv === #\n",
    "def load_frog_data(filepath):\n",
    "    \"\"\"Loads frog tongue dataset into DataFrame.\"\"\"\n",
    "    # Open file and read into list\n",
    "    with open(filepath, \"r\") as f:\n",
    "        lines = f.readlines()\n",
    "    # Extract column names\n",
    "    cols = lines[14].strip().split(\",\")\n",
    "    # Load into dataframe from list of lists\n",
    "    data = [l.strip().split(\",\") for l in lines[15:]]\n",
    "    df = pd.DataFrame(data, columns=cols)\n",
    "    # Fix date column\n",
    "    df[\"date\"] = pd.to_datetime(df[\"date\"].str.replace(\"_\", \"-\"))\n",
    "    # Fix other columns\n",
    "    for col in df.columns[2:]:\n",
    "        df[col] = pd.to_numeric(df[col])\n",
    "    return df\n",
    "\n",
    "dfrogs = load_frog_data(\"assets/data/frog_tongue.csv\")\n",
    "print(dfrogs.shape)\n",
    "dfrogs.head()"
   ]
  },
  {
   "cell_type": "code",
   "execution_count": 34,
   "metadata": {},
   "outputs": [
    {
     "data": {
      "text/plain": [
       "date                                                    datetime64[ns]\n",
       "ID                                                              object\n",
       "trial number                                                     int64\n",
       "impact force (mN)                                                int64\n",
       "impact time (ms)                                                 int64\n",
       "impact force / body weight                                     float64\n",
       "adhesive force (mN)                                              int64\n",
       "time frog pulls on target (ms)                                   int64\n",
       "adhesive force / body weight                                   float64\n",
       "adhesive impulse (N-s)                                         float64\n",
       "total contact area (mm2)                                         int64\n",
       "contact area without mucus (mm2)                                 int64\n",
       "contact area with mucus / contact area without mucus           float64\n",
       "contact pressure (Pa)                                            int64\n",
       "adhesive strength (Pa)                                           int64\n",
       "dtype: object"
      ]
     },
     "execution_count": 34,
     "metadata": {},
     "output_type": "execute_result"
    }
   ],
   "source": [
    "dfrogs.dtypes"
   ]
  },
  {
   "cell_type": "code",
   "execution_count": 35,
   "metadata": {},
   "outputs": [
    {
     "data": {
      "text/plain": [
       "I      20\n",
       "IV     20\n",
       "III    20\n",
       "II     20\n",
       "Name: ID, dtype: int64"
      ]
     },
     "execution_count": 35,
     "metadata": {},
     "output_type": "execute_result"
    }
   ],
   "source": [
    "dfrogs[\"ID\"].value_counts()"
   ]
  },
  {
   "cell_type": "code",
   "execution_count": 50,
   "metadata": {},
   "outputs": [
    {
     "name": "stdout",
     "output_type": "stream",
     "text": [
      "(40, 2)\n"
     ]
    },
    {
     "data": {
      "text/html": [
       "<div>\n",
       "<style scoped>\n",
       "    .dataframe tbody tr th:only-of-type {\n",
       "        vertical-align: middle;\n",
       "    }\n",
       "\n",
       "    .dataframe tbody tr th {\n",
       "        vertical-align: top;\n",
       "    }\n",
       "\n",
       "    .dataframe thead th {\n",
       "        text-align: right;\n",
       "    }\n",
       "</style>\n",
       "<table border=\"1\" class=\"dataframe\">\n",
       "  <thead>\n",
       "    <tr style=\"text-align: right;\">\n",
       "      <th></th>\n",
       "      <th>ID</th>\n",
       "      <th>impact_force</th>\n",
       "    </tr>\n",
       "  </thead>\n",
       "  <tbody>\n",
       "    <tr>\n",
       "      <th>20</th>\n",
       "      <td>II</td>\n",
       "      <td>1612</td>\n",
       "    </tr>\n",
       "    <tr>\n",
       "      <th>21</th>\n",
       "      <td>II</td>\n",
       "      <td>605</td>\n",
       "    </tr>\n",
       "    <tr>\n",
       "      <th>22</th>\n",
       "      <td>II</td>\n",
       "      <td>327</td>\n",
       "    </tr>\n",
       "    <tr>\n",
       "      <th>23</th>\n",
       "      <td>II</td>\n",
       "      <td>946</td>\n",
       "    </tr>\n",
       "    <tr>\n",
       "      <th>24</th>\n",
       "      <td>II</td>\n",
       "      <td>541</td>\n",
       "    </tr>\n",
       "  </tbody>\n",
       "</table>\n",
       "</div>"
      ],
      "text/plain": [
       "    ID  impact_force\n",
       "20  II          1612\n",
       "21  II           605\n",
       "22  II           327\n",
       "23  II           946\n",
       "24  II           541"
      ]
     },
     "execution_count": 50,
     "metadata": {},
     "output_type": "execute_result"
    }
   ],
   "source": [
    "# === Match up with data in exercise === #\n",
    "df = dfrogs[[\"ID\", \"impact force (mN)\"]]\n",
    "df = df.rename(mapper={\"impact force (mN)\": \"impact_force\"}, axis=1)\n",
    "# A (adult) is ID == II | B (juvenile) is ID == IV\n",
    "df = df[(df[\"ID\"] == \"II\") | (df[\"ID\"] == \"IV\")]\n",
    "\n",
    "print(df.shape)\n",
    "df.head()"
   ]
  },
  {
   "cell_type": "code",
   "execution_count": 51,
   "metadata": {},
   "outputs": [
    {
     "data": {
      "image/png": "[encoded data removed]",
      "text/plain": [
       "<Figure size 432x288 with 1 Axes>"
      ]
     },
     "metadata": {
      "needs_background": "light"
     },
     "output_type": "display_data"
    }
   ],
   "source": [
    "# === Look before you leap: EDA before hypothesis testing === #\n",
    "# Make bee swarm plot\n",
    "_ = sns.swarmplot(x=\"ID\", y=\"impact_force\", data=df)\n",
    "\n",
    "# Label axes\n",
    "_ = plt.xlabel('frog')\n",
    "_ = plt.ylabel('impact force (N)')\n",
    "\n",
    "# Show the plot\n",
    "plt.show()"
   ]
  },
  {
   "cell_type": "code",
   "execution_count": null,
   "metadata": {},
   "outputs": [],
   "source": [
    "# === Match up data sets to exercise === #\n",
    "force_a = df[df[\"ID\"] == \"II\"]\n",
    "force_b = df[df[\"ID\"] == \"IV\"]"
   ]
  },
  {
   "cell_type": "code",
   "execution_count": null,
   "metadata": {},
   "outputs": [],
   "source": [
    "# === Permutation test on frog data === #\n",
    "\n",
    "def diff_of_means(data_1, data_2):\n",
    "    \"\"\"Difference in means of two arrays.\"\"\"\n",
    "\n",
    "    # The difference of means of data_1, data_2: diff\n",
    "    diff = data_1.mean() - data_2.mean()\n",
    "\n",
    "    return diff\n",
    "\n",
    "# Compute difference of mean impact force from experiment: empirical_diff_means\n",
    "empirical_diff_means = diff_of_means(force_a, force_b)\n",
    "\n",
    "# Draw 10,000 permutation replicates: perm_replicates\n",
    "perm_replicates = draw_perm_reps(force_a, force_b,\n",
    "                                 diff_of_means, size=10000)\n",
    "\n",
    "# Compute p-value: p\n",
    "p = np.sum(perm_replicates >= empirical_diff_means) / len(perm_replicates)\n",
    "\n",
    "# Print the result\n",
    "print('p-value =', p)"
   ]
  },
  {
   "cell_type": "code",
   "execution_count": null,
   "metadata": {},
   "outputs": [],
   "source": []
  },
  {
   "cell_type": "code",
   "execution_count": null,
   "metadata": {},
   "outputs": [],
   "source": []
  },
  {
   "cell_type": "markdown",
   "metadata": {},
   "source": [
    "---\n",
    "\n",
    "### Interview questions"
   ]
  },
  {
   "cell_type": "markdown",
   "metadata": {},
   "source": [
    "#### Data Science Interview Questions\n",
    "\n",
    "* What are 5 predictions you have for the next 20 years?\n",
    "* What is survivorship bias and why is it important?\n",
    "* What layers make up a CNN?\n",
    "* Explain how you'd design an experiment to determine user behavior.\n",
    "* How are extrapolation and interpolation different?\n",
    "\n",
    "#### Strategies\n",
    "\n",
    "* Spend more time digging into how things work, rather than only how to apply them\n"
   ]
  },
  {
   "cell_type": "markdown",
   "metadata": {},
   "source": [
    "---\n",
    "\n",
    "### Coding, algorithms & data structures"
   ]
  },
  {
   "cell_type": "code",
   "execution_count": null,
   "metadata": {},
   "outputs": [],
   "source": []
  },
  {
   "cell_type": "markdown",
   "metadata": {},
   "source": [
    "---\n",
    "\n",
    "### Engineering"
   ]
  },
  {
   "cell_type": "code",
   "execution_count": null,
   "metadata": {},
   "outputs": [],
   "source": []
  },
  {
   "cell_type": "markdown",
   "metadata": {},
   "source": [
    "---\n",
    "\n",
    "### Machine learning"
   ]
  },
  {
   "cell_type": "code",
   "execution_count": null,
   "metadata": {},
   "outputs": [],
   "source": []
  },
  {
   "cell_type": "markdown",
   "metadata": {},
   "source": [
    "---\n",
    "---\n",
    "\n",
    "## Meta-data: read & write"
   ]
  },
  {
   "cell_type": "markdown",
   "metadata": {},
   "source": []
  },
  {
   "cell_type": "markdown",
   "metadata": {},
   "source": []
  },
  {
   "cell_type": "markdown",
   "metadata": {},
   "source": []
  },
  {
   "cell_type": "markdown",
   "metadata": {},
   "source": []
  },
  {
   "cell_type": "markdown",
   "metadata": {},
   "source": []
  },
  {
   "cell_type": "markdown",
   "metadata": {},
   "source": []
  }
 ],
 "metadata": {
  "kernelspec": {
   "display_name": "Python 3.7.6 64-bit ('vela': pipenv)",
   "language": "python",
   "name": "python37664bitvelapipenvde09592071074af6a70ce3b1ce38af95"
  },
  "language_info": {
   "codemirror_mode": {
    "name": "ipython",
    "version": 3
   },
   "file_extension": ".py",
   "mimetype": "text/x-python",
   "name": "python",
   "nbconvert_exporter": "python",
   "pygments_lexer": "ipython3",
   "version": "3.7.6"
  }
 },
 "nbformat": 4,
 "nbformat_minor": 4
}
