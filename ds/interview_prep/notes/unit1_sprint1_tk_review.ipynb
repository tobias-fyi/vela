{
 "cells": [
  {
   "cell_type": "markdown",
   "metadata": {},
   "source": [
    "# Notes: Unit 1\n",
    "\n",
    "Notes on Lambda Training Kit."
   ]
  },
  {
   "cell_type": "markdown",
   "metadata": {},
   "source": [
    "---\n",
    "---\n",
    "\n",
    "## Unit 1: Statistics Fundamentals\n",
    "\n"
   ]
  },
  {
   "cell_type": "markdown",
   "metadata": {},
   "source": [
    "---\n",
    "\n",
    "### 1. Data Wrangling and Storytelling\n",
    "\n",
    "Join and Reshape Data\n",
    "\n",
    "* Concatenate and merge data with Pandas\n",
    "* Understand tidy data formatting\n",
    "* Melt and pivot data with Pandas\n",
    "\n",
    "Make Explanatory Visualizations\n",
    "\n",
    "* Identify misleading visualizations and fix them\n",
    "* Matplotlib\n",
    "  * Name the parts of a Matplotlib plot\n",
    "  * Differentiate between plt syntaxes\n",
    "  * Control basic visual aspects of plt plot to mimic popular plotting styles\n",
    "    * plot, plot stylesheet, title, subtitle\n",
    "    * axis labels, axis tick marks, background colors, text annotations\""
   ]
  },
  {
   "cell_type": "code",
   "execution_count": null,
   "metadata": {},
   "outputs": [],
   "source": []
  },
  {
   "cell_type": "code",
   "execution_count": null,
   "metadata": {},
   "outputs": [],
   "source": []
  },
  {
   "cell_type": "code",
   "execution_count": null,
   "metadata": {},
   "outputs": [],
   "source": []
  },
  {
   "cell_type": "code",
   "execution_count": null,
   "metadata": {},
   "outputs": [],
   "source": []
  },
  {
   "cell_type": "code",
   "execution_count": null,
   "metadata": {},
   "outputs": [],
   "source": []
  },
  {
   "cell_type": "code",
   "execution_count": null,
   "metadata": {},
   "outputs": [],
   "source": []
  },
  {
   "cell_type": "code",
   "execution_count": null,
   "metadata": {},
   "outputs": [],
   "source": []
  },
  {
   "cell_type": "code",
   "execution_count": null,
   "metadata": {},
   "outputs": [],
   "source": []
  },
  {
   "cell_type": "code",
   "execution_count": null,
   "metadata": {},
   "outputs": [],
   "source": []
  },
  {
   "cell_type": "markdown",
   "metadata": {},
   "source": [
    "---\n",
    "\n",
    "### 2. Statistical Tests and Experiments\n",
    "\n",
    "Probability, Statistics, and Inference\n",
    "\n",
    "* Understand fundamental concepts of set theory and probability:\n",
    "  * Permutations\n",
    "  * Combinations\n",
    "  * Expected value\n",
    "  * Variance\n",
    "  * Binomial distribution\n",
    "  * Bernoulli trial\n",
    "* Explain how statistics can inform a practical and reliable understanding of data\n",
    "\n",
    "Sampling, Confidence Intervals, and Hypothesis Testing\n",
    "\n",
    "* Understand how sampling works\n",
    "  * Fundamental concept(s)\n",
    "    * Sample vs. population\n",
    "  * Common pitfalls\n",
    "* Use hypothesis testing to determine if a result is significant\n",
    "* Determine the level of confidence for a possible outcome\n",
    "\n",
    "Introduction to Bayesian Inference\n",
    "\n",
    "* Discuss differences between Bayesian and Frequentist statistics\n",
    "* Derive Bayes' theorem from the Law of Conditional Probability\n",
    "* Calculate Bayesian confidence intervals"
   ]
  },
  {
   "cell_type": "code",
   "execution_count": null,
   "metadata": {},
   "outputs": [],
   "source": []
  },
  {
   "cell_type": "code",
   "execution_count": null,
   "metadata": {},
   "outputs": [],
   "source": []
  },
  {
   "cell_type": "code",
   "execution_count": null,
   "metadata": {},
   "outputs": [],
   "source": []
  },
  {
   "cell_type": "code",
   "execution_count": null,
   "metadata": {},
   "outputs": [],
   "source": []
  },
  {
   "cell_type": "code",
   "execution_count": null,
   "metadata": {},
   "outputs": [],
   "source": []
  },
  {
   "cell_type": "code",
   "execution_count": null,
   "metadata": {},
   "outputs": [],
   "source": []
  },
  {
   "cell_type": "code",
   "execution_count": null,
   "metadata": {},
   "outputs": [],
   "source": []
  },
  {
   "cell_type": "markdown",
   "metadata": {},
   "source": [
    "---\n",
    "\n",
    "### 3. Linear Algebra\n",
    "\n",
    "Vectors and Matrices\n",
    "\n",
    "* Explain why linear algebra is important for data science\n",
    "* Vectors\n",
    "  * Graph them\n",
    "  * Identify dimensionality\n",
    "  * Calculate length\n",
    "  * Calculate dot product of two vectors\n",
    "* Matrices\n",
    "  * Identify dimensionality\n",
    "  * Multiply them\n",
    "  * Identify when matmul works\n",
    "  * Transpose\n",
    "  * Identify special matrices:\n",
    "    * Identity matrix\n",
    "    * Calculate the determinant and inverse\n",
    "* Use numpy to perform basic linear algebra operations\n",
    "\n",
    "Intermediate Linear Algebra\n",
    "\n",
    "* Visualize orthogonal projections in R^2\n",
    "* Understand the differences in standardization between variance, stdev, covariance, and correlation\n",
    "* Identify when two vectors or matrices are orthogonal\n",
    "  * Explain the intuitive implications of orthogonality\n",
    "* Unit vectors\n",
    "  * Rewrite any vector as a linear combination of scalars and unit vectors\n",
    "  * Explain what makes a vector a \"unit\" vector\n",
    "  * Know how to turn any vector into a unit vector\n",
    "* Identify linearly dependent vectors in both graphical and numeric representations\n",
    "* Calculate the rank of a matrix\n",
    "  * Use it to determine the span and basis of component vectors\n",
    "  \n",
    "Dimensionality Reduction Techniques\n",
    "\n",
    "* Recognize when `p > n` and explain why this leads to failure of certain ML models\n",
    "* Principal Component Analysis (PCA)\n",
    "  * Identify high-dimensionality data\n",
    "  * Use PCA to improve model performance\n",
    "* Understand limitations of projecting data onto an eigenvector subspace\n",
    "\n",
    "Clustering\n",
    "\n",
    "* Identify situations when unsupervised learning is necessary\n",
    "  * Select and apply appropriate clustering techniques\n",
    "* Use K-Means clustering and other centroid-based clustering algorithms\n",
    "* Articulate the \"No Free Lunch Principle\"\n",
    "  * Use it to guide the search for appropriate ML algorithm for a situation"
   ]
  },
  {
   "cell_type": "markdown",
   "metadata": {},
   "source": []
  },
  {
   "cell_type": "markdown",
   "metadata": {},
   "source": []
  },
  {
   "cell_type": "markdown",
   "metadata": {},
   "source": []
  },
  {
   "cell_type": "markdown",
   "metadata": {},
   "source": []
  },
  {
   "cell_type": "markdown",
   "metadata": {},
   "source": []
  },
  {
   "cell_type": "markdown",
   "metadata": {},
   "source": []
  },
  {
   "cell_type": "markdown",
   "metadata": {},
   "source": []
  },
  {
   "cell_type": "markdown",
   "metadata": {},
   "source": []
  },
  {
   "cell_type": "markdown",
   "metadata": {},
   "source": []
  }
 ],
 "metadata": {
  "kernelspec": {
   "display_name": "Python 3.7.6 64-bit ('vela': pipenv)",
   "language": "python",
   "name": "python37664bitvelapipenvde09592071074af6a70ce3b1ce38af95"
  },
  "language_info": {
   "codemirror_mode": {
    "name": "ipython",
    "version": 3
   },
   "file_extension": ".py",
   "mimetype": "text/x-python",
   "name": "python",
   "nbconvert_exporter": "python",
   "pygments_lexer": "ipython3",
   "version": "3.7.6"
  }
 },
 "nbformat": 4,
 "nbformat_minor": 4
}
