{
 "cells": [
  {
   "cell_type": "markdown",
   "metadata": {},
   "source": [
    "# MediZen\n",
    "\n",
    "### Cannabis strain recommendation system\n",
    "\n",
    "Tobias Reaper\n",
    "\n",
    "---"
   ]
  },
  {
   "cell_type": "markdown",
   "metadata": {},
   "source": [
    "---\n",
    "\n",
    "## Notebook Outline\n",
    "\n",
    "* Introduction"
   ]
  },
  {
   "cell_type": "markdown",
   "metadata": {},
   "source": [
    "---\n",
    "\n",
    "## Introduction\n",
    "\n"
   ]
  },
  {
   "cell_type": "markdown",
   "metadata": {},
   "source": [
    "---\n",
    "\n",
    "### Imports and config"
   ]
  },
  {
   "cell_type": "code",
   "execution_count": 1,
   "metadata": {},
   "outputs": [],
   "source": [
    "# === General imports === #\n",
    "import pandas as pd\n",
    "import numpy as np\n",
    "import matplotlib.pyplot as plt\n",
    "import seaborn\n",
    "\n",
    "import janitor\n",
    "\n",
    "# === ML Imports === #\n",
    "from sklearn.feature_extraction.text import TfidfVectorizer\n",
    "from sklearn.neighbors import NearestNeighbors"
   ]
  },
  {
   "cell_type": "code",
   "execution_count": 2,
   "metadata": {},
   "outputs": [],
   "source": [
    "# === Configuration === #\n",
    "%matplotlib inline\n",
    "# Configure pandas to display entire text of column\n",
    "pd.set_option('max_colwidth', 200)\n",
    "pd.set_option('max_columns', 200)  # Display up to 200 columns"
   ]
  },
  {
   "cell_type": "markdown",
   "metadata": {},
   "source": [
    "---\n",
    "\n",
    "## The Data"
   ]
  },
  {
   "cell_type": "code",
   "execution_count": 7,
   "metadata": {},
   "outputs": [
    {
     "name": "stdout",
     "output_type": "stream",
     "text": [
      "(2351, 6)\n"
     ]
    },
    {
     "data": {
      "text/html": [
       "<div>\n",
       "<style scoped>\n",
       "    .dataframe tbody tr th:only-of-type {\n",
       "        vertical-align: middle;\n",
       "    }\n",
       "\n",
       "    .dataframe tbody tr th {\n",
       "        vertical-align: top;\n",
       "    }\n",
       "\n",
       "    .dataframe thead th {\n",
       "        text-align: right;\n",
       "    }\n",
       "</style>\n",
       "<table border=\"1\" class=\"dataframe\">\n",
       "  <thead>\n",
       "    <tr style=\"text-align: right;\">\n",
       "      <th></th>\n",
       "      <th>strain</th>\n",
       "      <th>type</th>\n",
       "      <th>rating</th>\n",
       "      <th>effects</th>\n",
       "      <th>flavor</th>\n",
       "      <th>description</th>\n",
       "    </tr>\n",
       "  </thead>\n",
       "  <tbody>\n",
       "    <tr>\n",
       "      <th>0</th>\n",
       "      <td>100-Og</td>\n",
       "      <td>hybrid</td>\n",
       "      <td>4.0</td>\n",
       "      <td>Creative,Energetic,Tingly,Euphoric,Relaxed</td>\n",
       "      <td>Earthy,Sweet,Citrus</td>\n",
       "      <td>$100 OG is a 50/50 hybrid strain that packs a strong punch. The name supposedly refers to both its strength and high price when it first started showing up in Hollywood. As a plant, $100 OG tends ...</td>\n",
       "    </tr>\n",
       "    <tr>\n",
       "      <th>1</th>\n",
       "      <td>98-White-Widow</td>\n",
       "      <td>hybrid</td>\n",
       "      <td>4.7</td>\n",
       "      <td>Relaxed,Aroused,Creative,Happy,Energetic</td>\n",
       "      <td>Flowery,Violet,Diesel</td>\n",
       "      <td>The ‘98 Aloha White Widow is an especially potent cut of White Widow that has grown in renown alongside Hawaiian legends like Maui Wowie and Kona Gold. This White Widow phenotype reeks of diesel a...</td>\n",
       "    </tr>\n",
       "    <tr>\n",
       "      <th>2</th>\n",
       "      <td>1024</td>\n",
       "      <td>sativa</td>\n",
       "      <td>4.4</td>\n",
       "      <td>Uplifted,Happy,Relaxed,Energetic,Creative</td>\n",
       "      <td>Spicy/Herbal,Sage,Woody</td>\n",
       "      <td>1024 is a sativa-dominant hybrid bred in Spain by Medical Seeds Co. The breeders claim to guard the secret genetics due to security reasons, but regardless of its genetic heritage, 1024 is a THC p...</td>\n",
       "    </tr>\n",
       "    <tr>\n",
       "      <th>3</th>\n",
       "      <td>13-Dawgs</td>\n",
       "      <td>hybrid</td>\n",
       "      <td>4.2</td>\n",
       "      <td>Tingly,Creative,Hungry,Relaxed,Uplifted</td>\n",
       "      <td>Apricot,Citrus,Grapefruit</td>\n",
       "      <td>13 Dawgs is a hybrid of G13 and Chemdawg genetics bred by Canadian LP Delta 9 BioTech. The two potent strains mix to create a balance between indica and sativa effects. 13 Dawgs has a sweet earthy...</td>\n",
       "    </tr>\n",
       "    <tr>\n",
       "      <th>4</th>\n",
       "      <td>24K-Gold</td>\n",
       "      <td>hybrid</td>\n",
       "      <td>4.6</td>\n",
       "      <td>Happy,Relaxed,Euphoric,Uplifted,Talkative</td>\n",
       "      <td>Citrus,Earthy,Orange</td>\n",
       "      <td>Also known as Kosher Tangie, 24k Gold is a 60% indica-dominant hybrid that combines the legendary LA strain Kosher Kush with champion sativa Tangie to create something quite unique. Growing tall i...</td>\n",
       "    </tr>\n",
       "  </tbody>\n",
       "</table>\n",
       "</div>"
      ],
      "text/plain": [
       "           strain    type  rating                                     effects  \\\n",
       "0          100-Og  hybrid     4.0  Creative,Energetic,Tingly,Euphoric,Relaxed   \n",
       "1  98-White-Widow  hybrid     4.7    Relaxed,Aroused,Creative,Happy,Energetic   \n",
       "2            1024  sativa     4.4   Uplifted,Happy,Relaxed,Energetic,Creative   \n",
       "3        13-Dawgs  hybrid     4.2     Tingly,Creative,Hungry,Relaxed,Uplifted   \n",
       "4        24K-Gold  hybrid     4.6   Happy,Relaxed,Euphoric,Uplifted,Talkative   \n",
       "\n",
       "                      flavor  \\\n",
       "0        Earthy,Sweet,Citrus   \n",
       "1      Flowery,Violet,Diesel   \n",
       "2    Spicy/Herbal,Sage,Woody   \n",
       "3  Apricot,Citrus,Grapefruit   \n",
       "4       Citrus,Earthy,Orange   \n",
       "\n",
       "                                                                                                                                                                                               description  \n",
       "0  $100 OG is a 50/50 hybrid strain that packs a strong punch. The name supposedly refers to both its strength and high price when it first started showing up in Hollywood. As a plant, $100 OG tends ...  \n",
       "1  The ‘98 Aloha White Widow is an especially potent cut of White Widow that has grown in renown alongside Hawaiian legends like Maui Wowie and Kona Gold. This White Widow phenotype reeks of diesel a...  \n",
       "2  1024 is a sativa-dominant hybrid bred in Spain by Medical Seeds Co. The breeders claim to guard the secret genetics due to security reasons, but regardless of its genetic heritage, 1024 is a THC p...  \n",
       "3  13 Dawgs is a hybrid of G13 and Chemdawg genetics bred by Canadian LP Delta 9 BioTech. The two potent strains mix to create a balance between indica and sativa effects. 13 Dawgs has a sweet earthy...  \n",
       "4  Also known as Kosher Tangie, 24k Gold is a 60% indica-dominant hybrid that combines the legendary LA strain Kosher Kush with champion sativa Tangie to create something quite unique. Growing tall i...  "
      ]
     },
     "execution_count": 7,
     "metadata": {},
     "output_type": "execute_result"
    }
   ],
   "source": [
    "# === Load and look at the dataset === #\n",
    "datapath = \"assets/cannabis.csv\"\n",
    "\n",
    "strains = (pd.read_csv(datapath)\n",
    "           .clean_names()\n",
    "          )\n",
    "\n",
    "print(strains.shape)\n",
    "strains.head()"
   ]
  },
  {
   "cell_type": "markdown",
   "metadata": {},
   "source": [
    "### Wrangling"
   ]
  },
  {
   "cell_type": "code",
   "execution_count": 8,
   "metadata": {},
   "outputs": [
    {
     "data": {
      "text/plain": [
       "strain          0\n",
       "type            0\n",
       "rating          0\n",
       "effects         0\n",
       "flavor         46\n",
       "description    33\n",
       "dtype: int64"
      ]
     },
     "execution_count": 8,
     "metadata": {},
     "output_type": "execute_result"
    }
   ],
   "source": [
    "# === Look for nulls === #\n",
    "strains.isnull().sum()"
   ]
  },
  {
   "cell_type": "code",
   "execution_count": 10,
   "metadata": {},
   "outputs": [
    {
     "name": "stdout",
     "output_type": "stream",
     "text": [
      "(2277, 6)\n"
     ]
    },
    {
     "data": {
      "text/plain": [
       "strain         0\n",
       "type           0\n",
       "rating         0\n",
       "effects        0\n",
       "flavor         0\n",
       "description    0\n",
       "dtype: int64"
      ]
     },
     "execution_count": 10,
     "metadata": {},
     "output_type": "execute_result"
    }
   ],
   "source": [
    "# === Drop null values === #\n",
    "strains = strains.dropna(subset=[\"flavor\", \"description\"])\n",
    "print(strains.shape)\n",
    "strains.isnull().sum()"
   ]
  },
  {
   "cell_type": "markdown",
   "metadata": {},
   "source": [
    "### Exploration"
   ]
  },
  {
   "cell_type": "code",
   "execution_count": 13,
   "metadata": {},
   "outputs": [
    {
     "data": {
      "text/plain": [
       "hybrid    1169\n",
       "indica     680\n",
       "sativa     428\n",
       "Name: type, dtype: int64"
      ]
     },
     "execution_count": 13,
     "metadata": {},
     "output_type": "execute_result"
    }
   ],
   "source": [
    "# === Distribution of strain types === #\n",
    "strains[\"type\"].value_counts()"
   ]
  },
  {
   "cell_type": "code",
   "execution_count": 12,
   "metadata": {},
   "outputs": [
    {
     "data": {
      "text/plain": [
       "{'Aroused',\n",
       " 'Creative',\n",
       " 'Dry',\n",
       " 'Energetic',\n",
       " 'Euphoric',\n",
       " 'Focused',\n",
       " 'Giggly',\n",
       " 'Happy',\n",
       " 'Hungry',\n",
       " 'Mouth',\n",
       " 'Relaxed',\n",
       " 'Sleepy',\n",
       " 'Talkative',\n",
       " 'Tingly',\n",
       " 'Uplifted'}"
      ]
     },
     "execution_count": 12,
     "metadata": {},
     "output_type": "execute_result"
    }
   ],
   "source": [
    "# === Get list of unique effects === #\n",
    "\n",
    "# Create a blank set, loop thru df1, filling the set\n",
    "# The result is a set of unique effects\n",
    "effects_set = set()\n",
    "\n",
    "for row in strains.itertuples(index=False):\n",
    "    for w in row[3].split(\",\"):\n",
    "        if w != \"None\":\n",
    "            effects_set.add(w)\n",
    "            \n",
    "effects_set"
   ]
  },
  {
   "cell_type": "code",
   "execution_count": null,
   "metadata": {},
   "outputs": [],
   "source": [
    "# === Get list of unique flavors === #"
   ]
  },
  {
   "cell_type": "code",
   "execution_count": null,
   "metadata": {},
   "outputs": [],
   "source": [
    "# === Get count of rows containing each characteristic === #\n",
    "\n",
    "# Create new dataframe for this\n",
    "dfx = df1[[\"Strain\", \"Type\", \"Effects\"]].copy()\n",
    "dfx.head(2)\n",
    "\n",
    "# Create new columns for each\n",
    "for effect in effects_set:\n",
    "    dfx[effect] = dfx[\"Effects\"].str.contains(effect)\n",
    "\n",
    "# Drop original column\n",
    "dfx = dfx.drop(columns=[\"Effects\"])\n",
    "\n",
    "dfx.head()"
   ]
  },
  {
   "cell_type": "code",
   "execution_count": null,
   "metadata": {},
   "outputs": [],
   "source": [
    "dfx.value_counts()"
   ]
  },
  {
   "cell_type": "code",
   "execution_count": null,
   "metadata": {},
   "outputs": [],
   "source": []
  },
  {
   "cell_type": "code",
   "execution_count": null,
   "metadata": {},
   "outputs": [],
   "source": []
  },
  {
   "cell_type": "code",
   "execution_count": 28,
   "metadata": {},
   "outputs": [],
   "source": [
    "# === Use pyjanitor to wrangle the data === #\n",
    "\n",
    "df2 = (df1\n",
    "        .clean_names()  # In this case, fixes Title Case\n",
    "        .concatenate_columns(\n",
    "            # Create a single feature for NLP analysis\n",
    "            column_names=[\"type\", \"effects\", \"flavor\"],\n",
    "            new_column_name=\"type_effects_flavor\",\n",
    "            sep=\",\",\n",
    "        )\n",
    "        .remove_columns(column_names=[\n",
    "            \"rating\",\n",
    "            \"description\",\n",
    "            \"type\",\n",
    "            \"effects\",\n",
    "            \"flavor\",\n",
    "        ]))"
   ]
  },
  {
   "cell_type": "markdown",
   "metadata": {},
   "source": [
    "What we're left with is a single feature containing the `type`, `effects`, and `flavor` of each strain."
   ]
  },
  {
   "cell_type": "code",
   "execution_count": 29,
   "metadata": {},
   "outputs": [
    {
     "data": {
      "text/html": [
       "<div>\n",
       "<style scoped>\n",
       "    .dataframe tbody tr th:only-of-type {\n",
       "        vertical-align: middle;\n",
       "    }\n",
       "\n",
       "    .dataframe tbody tr th {\n",
       "        vertical-align: top;\n",
       "    }\n",
       "\n",
       "    .dataframe thead th {\n",
       "        text-align: right;\n",
       "    }\n",
       "</style>\n",
       "<table border=\"1\" class=\"dataframe\">\n",
       "  <thead>\n",
       "    <tr style=\"text-align: right;\">\n",
       "      <th></th>\n",
       "      <th>strain</th>\n",
       "      <th>type_effects_flavor</th>\n",
       "    </tr>\n",
       "  </thead>\n",
       "  <tbody>\n",
       "    <tr>\n",
       "      <th>0</th>\n",
       "      <td>100-Og</td>\n",
       "      <td>hybrid,Creative,Energetic,Tingly,Euphoric,Relaxed,Earthy,Sweet,Citrus</td>\n",
       "    </tr>\n",
       "    <tr>\n",
       "      <th>1</th>\n",
       "      <td>98-White-Widow</td>\n",
       "      <td>hybrid,Relaxed,Aroused,Creative,Happy,Energetic,Flowery,Violet,Diesel</td>\n",
       "    </tr>\n",
       "  </tbody>\n",
       "</table>\n",
       "</div>"
      ],
      "text/plain": [
       "           strain  \\\n",
       "0          100-Og   \n",
       "1  98-White-Widow   \n",
       "\n",
       "                                                     type_effects_flavor  \n",
       "0  hybrid,Creative,Energetic,Tingly,Euphoric,Relaxed,Earthy,Sweet,Citrus  \n",
       "1  hybrid,Relaxed,Aroused,Creative,Happy,Energetic,Flowery,Violet,Diesel  "
      ]
     },
     "execution_count": 29,
     "metadata": {},
     "output_type": "execute_result"
    }
   ],
   "source": [
    "strains.head(2)"
   ]
  },
  {
   "cell_type": "code",
   "execution_count": null,
   "metadata": {},
   "outputs": [],
   "source": []
  },
  {
   "cell_type": "code",
   "execution_count": null,
   "metadata": {},
   "outputs": [],
   "source": []
  },
  {
   "cell_type": "code",
   "execution_count": null,
   "metadata": {},
   "outputs": [],
   "source": []
  },
  {
   "cell_type": "markdown",
   "metadata": {},
   "source": [
    "---\n",
    "\n",
    "## Modeling\n",
    "\n",
    "> ...to Filter or to Smart-Filter?\n",
    "\n",
    "The input we would be receiving is a list of the user's desired characteristics.\n",
    "\n",
    "We had two primary options for how to tackle the problem. We could build a simple filtering tool, or we could build a more powerful and flexible recommendation system.\n",
    "\n",
    "### Naive filtering\n",
    "\n",
    "* Break up `type`, `effects`, and `flavor` into separate columns for each individual element\n",
    "  * Filter based on booleans for each column\n",
    "* Use Pandas `str.contains()` or SQL `WHERE` clauses to filter\n",
    "* These solutions could be implemented relatively easily...\n",
    "  * They don't necessarily require ML modeling\n",
    "* These filtering solutions are _naive_ - they strictly enforce the preferences sent to us by the user\n",
    "    * If the user chose to filter by `sativa`, they would _only see sativa strains_\n",
    "    * What if the best strain for their particular case, given the other characteristics, is a `hybrid`?\n",
    "    * Sure, they would maybe be able to still find a good match\n",
    "    * However, the recommendations would fail to accurately gauge their need\n",
    "      * And, therefore miss out on providing the best recommendations\n",
    "\n",
    "### Recommendation engine\n",
    "\n",
    "* A good recommendation engine will be a little more flexible\n",
    "* The recommendations will be a result of the entire filterset as a whole\n",
    "  * Not based on individual elements\n",
    "* To continue this example, the user thinks that the strain for them is `sativa`\n",
    "  * Sativas are typically associated with effects like `energetic`, `creative`, `focused`\n",
    "  * They check that on the filters list\n",
    "* For the effects, however, they check off: `relaxed`, `giggly`, `sleepy`, `happy`, `hungry`\n",
    "  * These effects are more likely to be associated with `hybrid` or `indica`\n",
    "  * A more robust recommendations engine can recommend those, even if the user indicated `sativa`\n",
    "\n",
    "---\n",
    "\n",
    "### Recommended Model Recommendations\n",
    "\n",
    "- NLP models are typically very good at breaking up and analyzing long strings (documents)\n",
    "  - ...such as...a list of characteristics\n",
    "  - Therefore, we thought it would simplify things to concatenate the three characteristics columns\n",
    "  - The result is a single feature containing a single long string of each strain's characteristics\n",
    "  - The input coming from the app can easily be concatenated and formatted to match our new feature\n",
    "- Now we can think about methods, or models, that compare the input string to that of the dataset\n",
    "- In order to use such data in an ML model, the words must be vectorized\n",
    "  - or converted from words into numbers\n",
    "  - The method we used is called TF-IDF"
   ]
  },
  {
   "cell_type": "markdown",
   "metadata": {},
   "source": [
    "---\n",
    "\n",
    "### Vectorizer\n",
    "\n",
    "First, our pipeline uses TfidfVectorizer from scikit-learn to turn the words into numbers\n",
    "\n",
    "* NLP models are typically very good at breaking up and analyzing long strings (documents)\n",
    "  * ...such as...a list of characteristics\n",
    "  * Therefore, we thought it would simplify things to concatenate the three characteristics columns\n",
    "\n",
    "#### TF-IDF\n",
    "\n",
    "* TF-IDF is a method of finding unique aspects of documents (strings)\n",
    "  * The more common a word is across the documents the lower the score\n",
    "  * The result is the unique topics rising to the top\n",
    "* This way, we can compare the unique aspects of an input string.\n",
    "  * In our case, we want to find the most similar, or least-unique\n",
    "  * In this TF-IDF Matrix, 0 means completely similar"
   ]
  },
  {
   "cell_type": "code",
   "execution_count": 9,
   "metadata": {},
   "outputs": [],
   "source": [
    "# === Vectorizer === #\n",
    "# Instantiate vectorizer object\n",
    "tfidf = TfidfVectorizer(stop_words=\"english\")\n",
    "\n",
    "# Create a vocabulary from new feature\n",
    "dtm = tfidf.fit(strains2[\"type_effects_flavor\"])\n",
    "\n",
    "# Create vectorized version of concatenated feature\n",
    "sparse = tfidf.transform(strains2[\"type_effects_flavor\"])\n",
    "\n",
    "# The result is a sparse matrix, which can be converted back to a dataframe\n",
    "vdtm = pd.DataFrame(sparse.todense(), columns=tfidf.get_feature_names())"
   ]
  },
  {
   "cell_type": "code",
   "execution_count": 9,
   "metadata": {},
   "outputs": [],
   "source": [
    "# === Serialize the vectorizer vocabulary === #\n",
    "# The vocabulary is what we want to pickle and use in the app\n",
    "with open(\"vector_vocab.pkl\", \"wb\") as p:\n",
    "    pickle.dump(dtm, p)"
   ]
  },
  {
   "cell_type": "markdown",
   "metadata": {},
   "source": [
    "---\n",
    "\n",
    "### Recommndations\n",
    "\n",
    "#### Query for similarities with Nearest Neighbors (K-NN)\n",
    "\n",
    "* Nearest Neighbor is a great method of calculating a list of similar \"neighbors\" to a given input\n",
    "* Unsupervised model \n",
    "  * Means the model is not \"predicting\" anything\n",
    "  * "
   ]
  },
  {
   "cell_type": "code",
   "execution_count": 16,
   "metadata": {},
   "outputs": [
    {
     "data": {
      "text/plain": [
       "NearestNeighbors(algorithm='ball_tree', leaf_size=30, metric='minkowski',\n",
       "                 metric_params=None, n_jobs=None, n_neighbors=10, p=2,\n",
       "                 radius=1.0)"
      ]
     },
     "execution_count": 16,
     "metadata": {},
     "output_type": "execute_result"
    }
   ],
   "source": [
    "# === Instantiate the knn model === #\n",
    "nn = NearestNeighbors(n_neighbors=10, algorithm='ball_tree')\n",
    "\n",
    "# Fit (train) the model on the TF-IDF vector dataframe created above\n",
    "nn.fit(vdtm)"
   ]
  },
  {
   "cell_type": "code",
   "execution_count": 15,
   "metadata": {},
   "outputs": [],
   "source": [
    "# === Serialize model === #\n",
    "# This trained model is what we want to pickle and use in the app\n",
    "import pickle\n",
    "with open(\"nn_rec_model.pkl\", \"wb\") as p:\n",
    "    pickle.dump(nn, p)"
   ]
  },
  {
   "cell_type": "code",
   "execution_count": 17,
   "metadata": {},
   "outputs": [],
   "source": [
    "# === Test it out on a arbitrary input === #\n",
    "input1 = \"sativa,happy,energetic,focused,euphoric,earthy,woody,flowery\"\n",
    "num_recs = 10\n",
    "\n",
    "# Create vector using the vocab that was fit above\n",
    "input_vector = tfidf.transform([input1])\n",
    "\n",
    "# Use NN model to retrieve top n similar strains\n",
    "top_id = nn.kneighbors(input_vector.todense(), n_neighbors=num_recs)[1][0]"
   ]
  },
  {
   "cell_type": "markdown",
   "metadata": {},
   "source": [
    "#### Returns\n",
    "\n",
    "- Pass the vectorized input into the trained knn model, specifying the number of neighbors to return\n",
    "- This returns a list of two arrays: one is a measure of each neighbors 'near-ness'\n",
    "- the other (the one we want) contains the indexes for the neighbors\n",
    "  - API returns a list of only indexes\n",
    "  - For the purposes of this demo I'll hydrate that list with the rest data\n",
    "  - from the original (pre-wrangled) dataframe"
   ]
  },
  {
   "cell_type": "code",
   "execution_count": 18,
   "metadata": {},
   "outputs": [
    {
     "data": {
      "text/html": [
       "<div>\n",
       "<style scoped>\n",
       "    .dataframe tbody tr th:only-of-type {\n",
       "        vertical-align: middle;\n",
       "    }\n",
       "\n",
       "    .dataframe tbody tr th {\n",
       "        vertical-align: top;\n",
       "    }\n",
       "\n",
       "    .dataframe thead th {\n",
       "        text-align: right;\n",
       "    }\n",
       "</style>\n",
       "<table border=\"1\" class=\"dataframe\">\n",
       "  <thead>\n",
       "    <tr style=\"text-align: right;\">\n",
       "      <th></th>\n",
       "      <th>Strain</th>\n",
       "      <th>Type</th>\n",
       "      <th>Rating</th>\n",
       "      <th>Effects</th>\n",
       "      <th>Flavor</th>\n",
       "      <th>Description</th>\n",
       "    </tr>\n",
       "  </thead>\n",
       "  <tbody>\n",
       "    <tr>\n",
       "      <th>2335</th>\n",
       "      <td>Y-Griega</td>\n",
       "      <td>sativa</td>\n",
       "      <td>4.8</td>\n",
       "      <td>Happy,Energetic,Uplifted,Focused,Euphoric</td>\n",
       "      <td>Earthy,Woody,Flowery</td>\n",
       "      <td>Also known as simply “Y,” the 80% sativa Y Griega is an ...</td>\n",
       "    </tr>\n",
       "    <tr>\n",
       "      <th>2129</th>\n",
       "      <td>Thai-Tanic</td>\n",
       "      <td>sativa</td>\n",
       "      <td>4.0</td>\n",
       "      <td>Energetic,Uplifted,Happy,Focused,Euphoric</td>\n",
       "      <td>Sweet,Earthy,Woody</td>\n",
       "      <td>Thai-Tanic is a very compact sativa variety with that cl...</td>\n",
       "    </tr>\n",
       "    <tr>\n",
       "      <th>8</th>\n",
       "      <td>3D-Cbd</td>\n",
       "      <td>sativa</td>\n",
       "      <td>4.6</td>\n",
       "      <td>Uplifted,Focused,Happy,Talkative,Relaxed</td>\n",
       "      <td>Earthy,Woody,Flowery</td>\n",
       "      <td>3D CBD from Snoop Dogg’s branded line of cannabis strain...</td>\n",
       "    </tr>\n",
       "    <tr>\n",
       "      <th>987</th>\n",
       "      <td>Harlequin</td>\n",
       "      <td>sativa</td>\n",
       "      <td>4.3</td>\n",
       "      <td>Relaxed,Focused,Happy,Uplifted,Energetic</td>\n",
       "      <td>Earthy,Sweet,Woody</td>\n",
       "      <td>Harlequin is a 75/25 sativa-dominant strain renowned for...</td>\n",
       "    </tr>\n",
       "    <tr>\n",
       "      <th>2125</th>\n",
       "      <td>Thai</td>\n",
       "      <td>sativa</td>\n",
       "      <td>4.2</td>\n",
       "      <td>Happy,Relaxed,Focused,Uplifted,Energetic</td>\n",
       "      <td>Earthy,Flowery,Sweet</td>\n",
       "      <td>Thai refers to a cannabis variety that grows natively in...</td>\n",
       "    </tr>\n",
       "    <tr>\n",
       "      <th>475</th>\n",
       "      <td>Charlottes-Web</td>\n",
       "      <td>sativa</td>\n",
       "      <td>4.5</td>\n",
       "      <td>Relaxed,Uplifted,Focused,Happy,Energetic</td>\n",
       "      <td>Earthy,Flowery,Sweet</td>\n",
       "      <td>Charlotte’s Web is a cultivar with less than 0.3% THC th...</td>\n",
       "    </tr>\n",
       "    <tr>\n",
       "      <th>1100</th>\n",
       "      <td>Jack-Herer</td>\n",
       "      <td>sativa</td>\n",
       "      <td>4.4</td>\n",
       "      <td>Happy,Uplifted,Energetic,Focused,Euphoric</td>\n",
       "      <td>Earthy,Pine,Woody</td>\n",
       "      <td>Jack Herer is a sativa-dominant cannabis strain that has...</td>\n",
       "    </tr>\n",
       "    <tr>\n",
       "      <th>948</th>\n",
       "      <td>Green-Haze</td>\n",
       "      <td>sativa</td>\n",
       "      <td>3.8</td>\n",
       "      <td>Happy,Talkative,Creative,Focused,Hungry</td>\n",
       "      <td>Woody,Flowery,Earthy</td>\n",
       "      <td>Green Haze by A.C.E. Seeds is another version of their s...</td>\n",
       "    </tr>\n",
       "    <tr>\n",
       "      <th>1164</th>\n",
       "      <td>Kali-Mist</td>\n",
       "      <td>sativa</td>\n",
       "      <td>4.1</td>\n",
       "      <td>Energetic,Focused,Uplifted,Euphoric,Creative</td>\n",
       "      <td>Woody,Earthy,Citrus</td>\n",
       "      <td>Kali Mist is known to deliver clear-headed, energetic ef...</td>\n",
       "    </tr>\n",
       "    <tr>\n",
       "      <th>2047</th>\n",
       "      <td>Super-Green-Crack</td>\n",
       "      <td>sativa</td>\n",
       "      <td>4.5</td>\n",
       "      <td>Happy,Giggly,Energetic,Focused,Euphoric</td>\n",
       "      <td>Earthy,Flowery,Pungent</td>\n",
       "      <td>Super Green Crack is a true sativa. Like a cup of strong...</td>\n",
       "    </tr>\n",
       "  </tbody>\n",
       "</table>\n",
       "</div>"
      ],
      "text/plain": [
       "                 Strain    Type  Rating  \\\n",
       "2335           Y-Griega  sativa     4.8   \n",
       "2129         Thai-Tanic  sativa     4.0   \n",
       "8                3D-Cbd  sativa     4.6   \n",
       "987           Harlequin  sativa     4.3   \n",
       "2125               Thai  sativa     4.2   \n",
       "475      Charlottes-Web  sativa     4.5   \n",
       "1100         Jack-Herer  sativa     4.4   \n",
       "948          Green-Haze  sativa     3.8   \n",
       "1164          Kali-Mist  sativa     4.1   \n",
       "2047  Super-Green-Crack  sativa     4.5   \n",
       "\n",
       "                                           Effects                  Flavor  \\\n",
       "2335     Happy,Energetic,Uplifted,Focused,Euphoric    Earthy,Woody,Flowery   \n",
       "2129     Energetic,Uplifted,Happy,Focused,Euphoric      Sweet,Earthy,Woody   \n",
       "8         Uplifted,Focused,Happy,Talkative,Relaxed    Earthy,Woody,Flowery   \n",
       "987       Relaxed,Focused,Happy,Uplifted,Energetic      Earthy,Sweet,Woody   \n",
       "2125      Happy,Relaxed,Focused,Uplifted,Energetic    Earthy,Flowery,Sweet   \n",
       "475       Relaxed,Uplifted,Focused,Happy,Energetic    Earthy,Flowery,Sweet   \n",
       "1100     Happy,Uplifted,Energetic,Focused,Euphoric       Earthy,Pine,Woody   \n",
       "948        Happy,Talkative,Creative,Focused,Hungry    Woody,Flowery,Earthy   \n",
       "1164  Energetic,Focused,Uplifted,Euphoric,Creative     Woody,Earthy,Citrus   \n",
       "2047       Happy,Giggly,Energetic,Focused,Euphoric  Earthy,Flowery,Pungent   \n",
       "\n",
       "                                                      Description  \n",
       "2335  Also known as simply “Y,” the 80% sativa Y Griega is an ...  \n",
       "2129  Thai-Tanic is a very compact sativa variety with that cl...  \n",
       "8     3D CBD from Snoop Dogg’s branded line of cannabis strain...  \n",
       "987   Harlequin is a 75/25 sativa-dominant strain renowned for...  \n",
       "2125  Thai refers to a cannabis variety that grows natively in...  \n",
       "475   Charlotte’s Web is a cultivar with less than 0.3% THC th...  \n",
       "1100  Jack Herer is a sativa-dominant cannabis strain that has...  \n",
       "948   Green Haze by A.C.E. Seeds is another version of their s...  \n",
       "1164  Kali Mist is known to deliver clear-headed, energetic ef...  \n",
       "2047  Super Green Crack is a true sativa. Like a cup of strong...  "
      ]
     },
     "execution_count": 18,
     "metadata": {},
     "output_type": "execute_result"
    }
   ],
   "source": [
    "# === Index-locate neighbors in og dataframe === #\n",
    "top_df = df1.iloc[top_id]\n",
    "top_df"
   ]
  },
  {
   "cell_type": "code",
   "execution_count": null,
   "metadata": {},
   "outputs": [],
   "source": []
  }
 ],
 "metadata": {
  "kernelspec": {
   "display_name": "Python 3.7.6 64-bit ('vela': pipenv)",
   "language": "python",
   "name": "python37664bitvelapipenvde09592071074af6a70ce3b1ce38af95"
  },
  "language_info": {
   "codemirror_mode": {
    "name": "ipython",
    "version": 3
   },
   "file_extension": ".py",
   "mimetype": "text/x-python",
   "name": "python",
   "nbconvert_exporter": "python",
   "pygments_lexer": "ipython3",
   "version": "3.7.6"
  }
 },
 "nbformat": 4,
 "nbformat_minor": 4
}
