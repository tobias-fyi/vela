{
 "cells": [
  {
   "cell_type": "markdown",
   "metadata": {},
   "source": [
    "# Matrix Math and Numpy Refresher\n",
    "\n",
    "> Deep Learning Nanodegree\n",
    "\n",
    "---"
   ]
  },
  {
   "cell_type": "code",
   "execution_count": 1,
   "metadata": {},
   "outputs": [],
   "source": [
    "# === Import === #\n",
    "import numpy as np"
   ]
  },
  {
   "cell_type": "code",
   "execution_count": 6,
   "metadata": {},
   "outputs": [
    {
     "output_type": "stream",
     "name": "stdout",
     "text": "()\n28\n<class 'numpy.int64'>\n"
    }
   ],
   "source": [
    "# === Scalars === #\n",
    "s = np.array(5)\n",
    "print(s.shape)  # 0 dimensions\n",
    "# Can be used like a normal scalar\n",
    "t = s + 23\n",
    "print(t)\n",
    "print(type(t))"
   ]
  },
  {
   "cell_type": "code",
   "execution_count": 10,
   "metadata": {},
   "outputs": [
    {
     "output_type": "stream",
     "name": "stdout",
     "text": "(4,)\n3\n[3 2]\n"
    }
   ],
   "source": [
    "# === Vectors === #\n",
    "v = np.array([5,4,3,2])\n",
    "print(v.shape)\n",
    "\n",
    "y = v[2]\n",
    "print(y)\n",
    "\n",
    "y = v[2:]\n",
    "print(y)"
   ]
  },
  {
   "cell_type": "code",
   "execution_count": 13,
   "metadata": {},
   "outputs": [
    {
     "output_type": "stream",
     "name": "stdout",
     "text": "(4, 4)\n4\n"
    }
   ],
   "source": [
    "# === Matrices === #\n",
    "m = np.array([[5,4,3,2], [2,3,4,5], [3,3,4,4], [5,5,6,6]])\n",
    "print(m.shape)  # 2 dimensions (4, 4)\n",
    "\n",
    "print(m[1][2])"
   ]
  },
  {
   "cell_type": "code",
   "execution_count": 15,
   "metadata": {},
   "outputs": [
    {
     "output_type": "execute_result",
     "data": {
      "text/plain": "(3, 3, 2, 1)"
     },
     "metadata": {},
     "execution_count": 15
    }
   ],
   "source": [
    "# === Tensors === #\n",
    "t = np.array([[[[1],[2]],[[3],[4]],[[5],[6]]],[[[7],[8]],[[9],[10]],[[11],[12]]],[[[13],[14]],[[15],[16]],[[17],[17]]]])\n",
    "t.shape"
   ]
  },
  {
   "cell_type": "code",
   "execution_count": 18,
   "metadata": {},
   "outputs": [
    {
     "output_type": "stream",
     "name": "stdout",
     "text": "(4,)\n(1, 4)\n(1, 4)\n(4, 1)\n"
    }
   ],
   "source": [
    "# === Changing shapes === #\n",
    "v = np.array([5,4,3,2])\n",
    "print(v.shape)  # (4,)\n",
    "# Reshape into 4x1 matrix\n",
    "x = v.reshape(1, 4)\n",
    "print(x.shape)  # (1, 4)\n",
    "\n",
    "# Slice reshaping syntax\n",
    "x = v[None, :]\n",
    "print(x.shape)  # (1, 4)\n",
    "\n",
    "x = v[:, None]\n",
    "print(x.shape)  # (4, 1)"
   ]
  },
  {
   "cell_type": "markdown",
   "metadata": {},
   "source": [
    "---\n",
    "\n",
    "## Scalar math"
   ]
  },
  {
   "cell_type": "code",
   "execution_count": 23,
   "metadata": {},
   "outputs": [
    {
     "output_type": "execute_result",
     "data": {
      "text/plain": "array([10,  9,  8,  7,  6])"
     },
     "metadata": {},
     "execution_count": 23
    }
   ],
   "source": [
    "# === Element-wise operations === #\n",
    "valist = [5, 4, 3, 2, 1]\n",
    "vals = np.array(valist) + 5\n",
    "vals"
   ]
  },
  {
   "cell_type": "code",
   "execution_count": 24,
   "metadata": {},
   "outputs": [
    {
     "output_type": "execute_result",
     "data": {
      "text/plain": "array([10,  9,  8,  7,  6])"
     },
     "metadata": {},
     "execution_count": 24
    }
   ],
   "source": [
    "# Other syntax\n",
    "vals = np.array(valist)\n",
    "vals += 5\n",
    "vals"
   ]
  },
  {
   "cell_type": "code",
   "execution_count": 25,
   "metadata": {},
   "outputs": [
    {
     "output_type": "execute_result",
     "data": {
      "text/plain": "array([[ 7,  8],\n       [10, 12]])"
     },
     "metadata": {},
     "execution_count": 25
    }
   ],
   "source": [
    "# === Element-wise matrix operations === #\n",
    "a = np.array([[5, 5], [6, 7]])\n",
    "b = np.array([[2, 3], [4, 5]])\n",
    "a + b"
   ]
  },
  {
   "cell_type": "markdown",
   "metadata": {},
   "source": [
    "---\n",
    "\n",
    "## Matrix multiplication"
   ]
  },
  {
   "cell_type": "code",
   "execution_count": 30,
   "metadata": {},
   "outputs": [
    {
     "output_type": "stream",
     "name": "stdout",
     "text": "(2, 4) (4, 3)\n(2, 3)\n[[ 70  80  90]\n [158 184 210]]\n"
    }
   ],
   "source": [
    "a = np.array([\n",
    "    [1,2,3,4],\n",
    "    [5,6,7,8]])\n",
    "\n",
    "b = np.array([\n",
    "    [1,2,3],\n",
    "    [4,5,6],\n",
    "    [7,8,9],\n",
    "    [10,11,12]])\n",
    "\n",
    "print(a.shape, b.shape)\n",
    "\n",
    "c = np.matmul(a, b)\n",
    "print(c.shape)\n",
    "print(c)"
   ]
  },
  {
   "cell_type": "code",
   "execution_count": 31,
   "metadata": {},
   "outputs": [
    {
     "output_type": "execute_result",
     "data": {
      "text/plain": "array([[ 70,  80,  90],\n       [158, 184, 210]])"
     },
     "metadata": {},
     "execution_count": 31
    }
   ],
   "source": [
    "# Matrix product operator\n",
    "c = a @ b\n",
    "c"
   ]
  },
  {
   "cell_type": "code",
   "execution_count": 37,
   "metadata": {},
   "outputs": [
    {
     "output_type": "stream",
     "name": "stdout",
     "text": "[[ 1  2  3  4]\n [ 5  6  7  8]\n [ 9 10 11 12]]\n\n[[ 1  5  9]\n [ 2  6 10]\n [ 3  7 11]\n [ 4  8 12]]\n"
    }
   ],
   "source": [
    "# === Transpose === #\n",
    "m = np.array([\n",
    "    [1,2,3,4],\n",
    "    [5,6,7,8],\n",
    "    [9,10,11,12]])\n",
    "\n",
    "print(m)\n",
    "print()\n",
    "print(m.T)"
   ]
  },
  {
   "cell_type": "code",
   "execution_count": 38,
   "metadata": {},
   "outputs": [
    {
     "output_type": "stream",
     "name": "stdout",
     "text": "(1, 4) (3, 4)\n"
    }
   ],
   "source": [
    "# Example use-case of transpose for matrix multiplication\n",
    "inputs = np.array([[-0.27,  0.45,  0.64, 0.31]])\n",
    "weights = np.array([[0.02, 0.001, -0.03, 0.036], \\\n",
    "    [0.04, -0.003, 0.025, 0.009], [0.012, -0.045, 0.28, -0.067]])\n",
    "\n",
    "print(inputs.shape, weights.shape)"
   ]
  },
  {
   "cell_type": "code",
   "execution_count": 41,
   "metadata": {},
   "outputs": [
    {
     "output_type": "error",
     "ename": "ValueError",
     "evalue": "matmul: Input operand 1 has a mismatch in its core dimension 0, with gufunc signature (n?,k),(k,m?)->(n?,m?) (size 3 is different from 4)",
     "traceback": [
      "\u001b[0;31m---------------------------------------------------------------------------\u001b[0m",
      "\u001b[0;31mValueError\u001b[0m                                Traceback (most recent call last)",
      "\u001b[0;32m<ipython-input-41-54bf3e617605>\u001b[0m in \u001b[0;36m<module>\u001b[0;34m\u001b[0m\n\u001b[1;32m      1\u001b[0m \u001b[0;31m# Doesn't work to get product as is\u001b[0m\u001b[0;34m\u001b[0m\u001b[0;34m\u001b[0m\u001b[0;34m\u001b[0m\u001b[0m\n\u001b[0;32m----> 2\u001b[0;31m \u001b[0minputs\u001b[0m \u001b[0;34m@\u001b[0m \u001b[0mweights\u001b[0m\u001b[0;34m\u001b[0m\u001b[0;34m\u001b[0m\u001b[0m\n\u001b[0m",
      "\u001b[0;31mValueError\u001b[0m: matmul: Input operand 1 has a mismatch in its core dimension 0, with gufunc signature (n?,k),(k,m?)->(n?,m?) (size 3 is different from 4)"
     ]
    }
   ],
   "source": [
    "# Doesn't work to get product as is\n",
    "inputs @ weights"
   ]
  },
  {
   "cell_type": "code",
   "execution_count": 42,
   "metadata": {},
   "outputs": [
    {
     "output_type": "execute_result",
     "data": {
      "text/plain": "array([[-0.01299,  0.00664,  0.13494]])"
     },
     "metadata": {},
     "execution_count": 42
    }
   ],
   "source": [
    "# Transpose the weights and try again\n",
    "inputs @ weights.T"
   ]
  },
  {
   "cell_type": "code",
   "execution_count": 44,
   "metadata": {},
   "outputs": [
    {
     "output_type": "execute_result",
     "data": {
      "text/plain": "array([[-0.01299],\n       [ 0.00664],\n       [ 0.13494]])"
     },
     "metadata": {},
     "execution_count": 44
    }
   ],
   "source": [
    "# Or transpose the inputs\n",
    "weights @ inputs.T\n",
    "# The result is the transpose of the other result\n",
    "# Which to use depends on what output shape is needed"
   ]
  },
  {
   "cell_type": "code",
   "execution_count": 54,
   "metadata": {},
   "outputs": [],
   "source": [
    "def prepare_inputs(inputs):\n",
    "    arr = np.array(inputs)\n",
    "    \n",
    "    # create a 2-dimensional ndarray from the given 1-dimensional list\n",
    "    arr_2d = arr[None, :]\n",
    "    input_array = arr_2d\n",
    "    \n",
    "    # Find the minimum value in input_array\n",
    "    # subtract that value from all the elements of input_array\n",
    "    # Store the result in inputs_minus_min\n",
    "    inputs_minus_min = input_array - np.min(input_array)\n",
    "\n",
    "    # Find the maximum value in inputs_minus_min\n",
    "    # divide all of the values in inputs_minus_min by the maximum value\n",
    "    # Store the results in inputs_div_max\n",
    "    inputs_div_max = inputs_minus_min / np.max(inputs_minus_min)\n",
    "\n",
    "    # return the three arrays we've created\n",
    "    return input_array, inputs_minus_min, inputs_div_max"
   ]
  },
  {
   "cell_type": "code",
   "execution_count": 56,
   "metadata": {},
   "outputs": [],
   "source": [
    "def multiply_inputs(m1, m2):\n",
    "    # Check the shapes of the matrices m1 and m2. \n",
    "    # m1 and m2 will be ndarray objects.\n",
    "    # If you have not returned False, then calculate the matrix product\n",
    "    # of m1 and m2 and return it. Do not use a transpose,\n",
    "    # but you swap their order if necessary\n",
    "    if m1.shape[1] == m2.shape[0]:\n",
    "        return m1 @ m2\n",
    "    elif m2.shape[1] == m1.shape[0]:\n",
    "        return m2 @ m1\n",
    "    else:\n",
    "        # Return False if the shapes cannot be used for matrix\n",
    "        # multiplication. You may not use a transpose\n",
    "        return False"
   ]
  },
  {
   "cell_type": "code",
   "execution_count": 57,
   "metadata": {},
   "outputs": [],
   "source": [
    "def find_mean(values):\n",
    "    return sum(values) / len(values)"
   ]
  },
  {
   "cell_type": "code",
   "execution_count": 58,
   "metadata": {},
   "outputs": [
    {
     "output_type": "stream",
     "name": "stdout",
     "text": "Input as Array: [[-1  2  7]]\nInput minus min: [[0 3 8]]\nInput  Array: [[0.    0.375 1.   ]]\n"
    }
   ],
   "source": [
    "input_array, inputs_minus_min, inputs_div_max = prepare_inputs([-1,2,7])\n",
    "print(\"Input as Array: {}\".format(input_array))\n",
    "print(\"Input minus min: {}\".format(inputs_minus_min))\n",
    "print(\"Input  Array: {}\".format(inputs_div_max))"
   ]
  },
  {
   "cell_type": "code",
   "execution_count": 59,
   "metadata": {},
   "outputs": [
    {
     "output_type": "stream",
     "name": "stdout",
     "text": "Multiply 1:\nFalse\nMultiply 2:\n[[14]\n [32]]\nMultiply 3:\n[[ 9 12 15]]\n"
    }
   ],
   "source": [
    "print(\"Multiply 1:\\n{}\".format(multiply_inputs(np.array([[1,2,3],[4,5,6]]), np.array([[1],[2],[3],[4]]))))\n",
    "print(\"Multiply 2:\\n{}\".format(multiply_inputs(np.array([[1,2,3],[4,5,6]]), np.array([[1],[2],[3]]))))\n",
    "print(\"Multiply 3:\\n{}\".format(multiply_inputs(np.array([[1,2,3],[4,5,6]]), np.array([[1,2]]))))"
   ]
  },
  {
   "cell_type": "code",
   "execution_count": 60,
   "metadata": {},
   "outputs": [
    {
     "output_type": "stream",
     "name": "stdout",
     "text": "Mean == 2.6666666666666665\n"
    }
   ],
   "source": [
    "print(\"Mean == {}\".format(find_mean([1,3,4])))"
   ]
  },
  {
   "cell_type": "code",
   "execution_count": 61,
   "metadata": {},
   "outputs": [
    {
     "output_type": "stream",
     "name": "stdout",
     "text": "1.18.3\n"
    }
   ],
   "source": [
    "print(np.__version__)"
   ]
  },
  {
   "cell_type": "code",
   "execution_count": 62,
   "metadata": {},
   "outputs": [
    {
     "output_type": "execute_result",
     "data": {
      "text/plain": "-1"
     },
     "metadata": {},
     "execution_count": 62
    }
   ],
   "source": [
    "np.array([-1, 0, 1]).min()"
   ]
  },
  {
   "cell_type": "code",
   "execution_count": null,
   "metadata": {},
   "outputs": [],
   "source": []
  }
 ],
 "metadata": {
  "language_info": {
   "codemirror_mode": {
    "name": "ipython",
    "version": 3
   },
   "file_extension": ".py",
   "mimetype": "text/x-python",
   "name": "python",
   "nbconvert_exporter": "python",
   "pygments_lexer": "ipython3",
   "version": "3.7.6-final"
  },
  "orig_nbformat": 2,
  "kernelspec": {
   "name": "python37664bitvelapipenvde09592071074af6a70ce3b1ce38af95",
   "display_name": "Python 3.7.6 64-bit ('vela': pipenv)"
  }
 },
 "nbformat": 4,
 "nbformat_minor": 2
}