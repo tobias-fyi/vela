{
 "cells": [
  {
   "cell_type": "markdown",
   "metadata": {},
   "source": [
    "# 20-07-06: Daily Practice"
   ]
  },
  {
   "cell_type": "markdown",
   "metadata": {},
   "source": [
    "---\n",
    "---\n",
    "\n",
    "## Daily practices\n",
    "\n",
    "* [ ] [Practice & learn](#Practice-&-learn)\n",
    "  * [ ] Coding, algorithms & data structures\n",
    "  * [ ] Data science: access, manipulation, analysis, visualization\n",
    "  * [ ] Engineering: SQL, PySpark, APIs, TDD, OOP\n",
    "  * [ ] Machine learning: Scikit-learn, TensorFlow, PyTorch\n",
    "  * [ ] Interview questions (out loud)\n",
    "* [ ] [Meta-data: reading & writing](#Meta-data:-reading-&-writing)\n",
    "  * [ ] Blog\n",
    "  * [ ] Social media discussions\n",
    "* [ ] [2-Hour Job Search](#2-Hour-Job-Search)\n",
    "  * [ ] LAMP List\n",
    "  * [ ] Online networking"
   ]
  },
  {
   "cell_type": "markdown",
   "metadata": {},
   "source": [
    "---\n",
    "---\n",
    "\n",
    "## Practice & learn"
   ]
  },
  {
   "cell_type": "markdown",
   "metadata": {},
   "source": [
    "---\n",
    "\n",
    "### Coding, algorithms & data structures\n",
    "\n",
    "#### [Permutations (medium)](https://leetcode.com/problems/permutations/)\n",
    "\n",
    "Given a collection of distinct integers, return all possible permutations.\n",
    "\n",
    "Example:\n",
    "\n",
    "    Input: [1,2,3]\n",
    "    Output:\n",
    "    [\n",
    "      [1,2,3],\n",
    "      [1,3,2],\n",
    "      [2,1,3],\n",
    "      [2,3,1],\n",
    "      [3,1,2],\n",
    "      [3,2,1]\n",
    "    ]"
   ]
  },
  {
   "cell_type": "code",
   "execution_count": null,
   "metadata": {},
   "outputs": [],
   "source": [
    "nums = [1, 2, 3]\n",
    "\n",
    "nums_out = [\n",
    "  [1, 2, 3],\n",
    "  [1, 3, 2],\n",
    "  [2, 1, 3],\n",
    "  [2, 3, 1],\n",
    "  [3, 1, 2],\n",
    "  [3, 2, 1],\n",
    "]\n"
   ]
  },
  {
   "cell_type": "code",
   "execution_count": null,
   "metadata": {},
   "outputs": [],
   "source": [
    "four_in = [1, 2, 3, 4]\n",
    "\n",
    "four_in = [\n",
    "    [4, 3, 2, 1],\n",
    "    [4, 3, 1, 2],\n",
    "    [4, 2, ]\n",
    "    \n",
    "    [1, 2, 3, 4],\n",
    "    [1, 2, 4, 3],\n",
    "    [1, 3, 2, 4],\n",
    "    [1, 3, 4, 2],\n",
    "    [1, 4, 2, 3],\n",
    "    [1, 4, 3, 2],\n",
    "    \n",
    "]"
   ]
  },
  {
   "cell_type": "code",
   "execution_count": null,
   "metadata": {},
   "outputs": [],
   "source": [
    "nums = [1, 2, 3]\n",
    "\n",
    "[1] [2, 3]\n",
    "[1] [2] [3]"
   ]
  },
  {
   "cell_type": "code",
   "execution_count": null,
   "metadata": {},
   "outputs": [],
   "source": [
    "from typing import List\n",
    "\n",
    "def permute(nums: List[int]) -> List[List[int]]:\n",
    "    # === Base case: nums is length 1 === #\n",
    "    if len(nums) == 1:\n",
    "        return nums\n",
    "    \n",
    "    for i in range(len(nums)):\n",
    "        nums2 = nums.copy()\n",
    "        # Freeze up thru index i - i.e. create new list\n",
    "        frozen = [nums2.pop(i)]\n",
    "        # Permute recursively on the rest of the numbers\n",
    "        # TODO: figure out how to return list from first recursive call\n",
    "        new_nums = permute(nums2)\n",
    "        print(frozen + new_nums)\n",
    "\n",
    "nums = [1, 2, 3]\n",
    "permute(nums)"
   ]
  },
  {
   "cell_type": "code",
   "execution_count": 18,
   "metadata": {},
   "outputs": [
    {
     "name": "stdout",
     "output_type": "stream",
     "text": [
      "[1]\n",
      "[1, 2, 3]\n"
     ]
    }
   ],
   "source": [
    "nums = [1, 2, 3]\n",
    "\n",
    "print(nums[:1])\n",
    "print(nums[0:])"
   ]
  },
  {
   "cell_type": "markdown",
   "metadata": {},
   "source": [
    "I didn't quite finish this problem today, but will continue working on it tomorrow (without looking for a solution)."
   ]
  },
  {
   "cell_type": "markdown",
   "metadata": {},
   "source": [
    "---\n",
    "\n",
    "### Data science\n",
    "\n",
    "* Access\n",
    "* Manipulation\n",
    "* Analysis\n",
    "* Visualization"
   ]
  },
  {
   "cell_type": "markdown",
   "metadata": {},
   "source": [
    "#### Data manipulation with pandas\n",
    "\n",
    "##### Chapter 2: Aggregating Data (review)\n",
    "\n",
    "Topics reviewed:\n",
    "\n",
    "* `.agg()` method\n",
    "* Cumulative statistics\n",
    "* Counting\n",
    "* Grouping and grouped summary statistics\n",
    "* Pivot tables\n",
    "\n",
    "##### Chapter 3: Indexing and Slicing (review)\n",
    "\n",
    "Topics reviewed:\n",
    "\n",
    "* Explicit indexes\n",
    "  * Sorting by index\n",
    "  * Multi-level indexes\n",
    "* Slicing and indexing\n",
    "* Subsetting and slicing pivot tables"
   ]
  },
  {
   "cell_type": "markdown",
   "metadata": {},
   "source": [
    "---\n",
    "\n",
    "### Engineering\n",
    "\n",
    "* SQL\n",
    "* (Py)Spark / Scala\n",
    "* APIs\n",
    "* Test-driven development\n",
    "* Object-oriented practice"
   ]
  },
  {
   "cell_type": "markdown",
   "metadata": {},
   "source": [
    "#### Scala\n",
    "\n",
    "Spent ~1.5 hours researching how to set up a Scala environment on my machine. The Coursera course I'm going to be auditing shows how to set it up in IntelliJ. However, I want to use VSCode. Luckily, there is a (supposedly) good extension called Metals. I went through the initial steps of configuring my system for that."
   ]
  },
  {
   "cell_type": "markdown",
   "metadata": {},
   "source": [
    "---\n",
    "\n",
    "### Machine learning\n",
    "\n",
    "* Scikit-learn\n",
    "* TensorFlow / PyTorch"
   ]
  },
  {
   "cell_type": "markdown",
   "metadata": {},
   "source": [
    "I did not practice with any ML tools today."
   ]
  },
  {
   "cell_type": "markdown",
   "metadata": {},
   "source": [
    "---\n",
    "\n",
    "### Interview questions\n",
    "\n",
    "> Answer common interview questions **_out loud_**.\n",
    "\n",
    "* Technical: DS, ML, SE\n",
    "* Behavioral"
   ]
  },
  {
   "cell_type": "markdown",
   "metadata": {},
   "source": [
    "I practiced my algorithms problem solving by talking out loud while working through the above Permutations problem."
   ]
  },
  {
   "cell_type": "markdown",
   "metadata": {},
   "source": [
    "---\n",
    "---\n",
    "\n",
    "## Meta-data: reading & writing\n",
    "\n",
    "* Blog post\n",
    "* Social media discussion"
   ]
  },
  {
   "cell_type": "markdown",
   "metadata": {},
   "source": [
    "Aside from the online networking and a couple of tweets, I did not spend much time being active on social media. I also did not work on the Image Segmentation blog post today."
   ]
  },
  {
   "cell_type": "markdown",
   "metadata": {},
   "source": [
    "---\n",
    "---\n",
    "\n",
    "## 2-Hour Job Search\n",
    "\n",
    "* LAMP List\n",
    "* Online networking"
   ]
  },
  {
   "cell_type": "markdown",
   "metadata": {},
   "source": [
    "### Online networking\n",
    "\n",
    "Spent a good chunk of time today responding to messages on LinkedIn from people who responded to my initial outreach. This outreach is mostly to reconnect and learn from those who are either in the field already, know someone who is, or has some sort of insight into good practices and the like."
   ]
  },
  {
   "cell_type": "markdown",
   "metadata": {},
   "source": []
  },
  {
   "cell_type": "markdown",
   "metadata": {},
   "source": []
  },
  {
   "cell_type": "markdown",
   "metadata": {},
   "source": []
  },
  {
   "cell_type": "markdown",
   "metadata": {},
   "source": []
  },
  {
   "cell_type": "markdown",
   "metadata": {},
   "source": []
  },
  {
   "cell_type": "markdown",
   "metadata": {},
   "source": []
  },
  {
   "cell_type": "markdown",
   "metadata": {},
   "source": []
  }
 ],
 "metadata": {
  "kernelspec": {
   "display_name": "Python 3.7.6 64-bit ('vela': pipenv)",
   "language": "python",
   "name": "python37664bitvelapipenvde09592071074af6a70ce3b1ce38af95"
  },
  "language_info": {
   "codemirror_mode": {
    "name": "ipython",
    "version": 3
   },
   "file_extension": ".py",
   "mimetype": "text/x-python",
   "name": "python",
   "nbconvert_exporter": "python",
   "pygments_lexer": "ipython3",
   "version": "3.7.6"
  }
 },
 "nbformat": 4,
 "nbformat_minor": 4
}
