{
 "cells": [
  {
   "cell_type": "markdown",
   "metadata": {},
   "source": [
    "# 20-06-24: Daily Data Practice\n",
    "\n",
    "### 176/366"
   ]
  },
  {
   "cell_type": "markdown",
   "metadata": {},
   "source": [
    "---\n",
    "\n",
    "## Daily Practices\n",
    "\n",
    "* Practice with DS/ML tools and processes\n",
    "  * [fast.ai course](https://course.fast.ai/)\n",
    "  * Hands-on ML | NLP In Action | Dive Into Deep Learning | Coursera / guided projects\n",
    "    * Read, code along, take notes\n",
    "    * _test yourself on the concepts_ — i.e. do all the chapter exercises\n",
    "  * Try to hit benchmark accuracies with [UCI ML datasets](https://archive.ics.uci.edu/ml/index.php) or Kaggle\n",
    "* Coding & Problem Solving Practice\n",
    "  * HackerRank SQL or Packt SQL Data Analytics\n",
    "  * Python on HackerRank or similar platform\n",
    "* Meta Data: Review and write\n",
    "  * Focus on a topic, review notes and resources, write a blog post about it\n",
    "* 2-Hour Job Search\n",
    "* Interviewing\n",
    "  * Behavioral questions and scenarios\n",
    "  * Business case walk-throughs\n",
    "  * Hot-seat DS-related topics for recall practice (under pressure)"
   ]
  },
  {
   "cell_type": "markdown",
   "metadata": {},
   "source": [
    "---\n",
    "\n",
    "## Coding & Problem Solving Practice\n",
    "\n",
    "> Work through practice problems on HackerRank or similar"
   ]
  },
  {
   "cell_type": "markdown",
   "metadata": {},
   "source": [
    "### Python"
   ]
  },
  {
   "cell_type": "markdown",
   "metadata": {},
   "source": [
    "### [Time Conversion](https://www.hackerrank.com/challenges/time-conversion/problem)\n",
    "\n",
    "Given a time in 12-hour AM/PM format, convert it to military (24-hour) time.\n",
    "\n",
    "Note: Midnight is 12:00:00AM on a 12-hour clock, and 00:00:00 on a 24-hour clock. Noon is 12:00:00PM on a 12-hour clock, and 12:00:00 on a 24-hour clock. "
   ]
  },
  {
   "cell_type": "code",
   "execution_count": 11,
   "metadata": {},
   "outputs": [],
   "source": [
    "# === Sample input test === #\n",
    "time_string = \"07:05:45PM\"  # Output should be: \"19:05:45\""
   ]
  },
  {
   "cell_type": "code",
   "execution_count": 14,
   "metadata": {},
   "outputs": [
    {
     "name": "stdout",
     "output_type": "stream",
     "text": [
      "7 5 45\n"
     ]
    }
   ],
   "source": [
    "# === Parse the string === #\n",
    "am_pm = time_string[-2:]  # Get AM/PM\n",
    "time = time_string[:-2].split(\":\")  # Split into components\n",
    "time = [int(x) for x in time]  # Convert to integer\n",
    "hour, min, sec = time  # Assign components\n",
    "print(hour, min, sec)"
   ]
  },
  {
   "cell_type": "code",
   "execution_count": 15,
   "metadata": {},
   "outputs": [
    {
     "data": {
      "text/plain": [
       "'19:05:45'"
      ]
     },
     "execution_count": 15,
     "metadata": {},
     "output_type": "execute_result"
    }
   ],
   "source": [
    "# === Reconstruct as military time === #\n",
    "if am_pm == \"PM\":\n",
    "    hour += 12\n",
    "\n",
    "hour = str(hour).zfill(2)\n",
    "min = str(min).zfill(2)\n",
    "sec = str(sec).zfill(2)\n",
    "    \n",
    "time_24 = f\"{hour}:{min}:{sec}\"\n",
    "time_24"
   ]
  },
  {
   "cell_type": "code",
   "execution_count": 18,
   "metadata": {},
   "outputs": [],
   "source": [
    "# === Bring it together === #\n",
    "def timeConversion(s):\n",
    "    \"\"\"Converts time string from 12-hour to 24-hour time format.\"\"\"\n",
    "    # === Parse the string === #\n",
    "    am_pm = s[-2:]  # Get AM/PM\n",
    "    time = s[:-2].split(\":\")  # Split into components\n",
    "    hour = int(time[0])  # Only will be changing the hour\n",
    "    # === Reconstruct as military time === #\n",
    "    if am_pm == \"PM\":  # Only change if PM\n",
    "        hour += 12\n",
    "    return f\"{str(hour).zfill(2)}:{min}:{sec}\""
   ]
  },
  {
   "cell_type": "code",
   "execution_count": 32,
   "metadata": {},
   "outputs": [],
   "source": [
    "# === Bring it together === #\n",
    "def timeConversion(s):\n",
    "    \"\"\"Converts time string from 12-hour to 24-hour time format.\"\"\"\n",
    "    # === Parse the string === #\n",
    "    am_pm = s[-2:]  # Get AM/PM\n",
    "    time = s[:-2].split(\":\")  # Split into components\n",
    "    hour = int(time[0])  # Only will be changing the hour\n",
    "    # === Reconstruct as military time === #\n",
    "    if am_pm == \"PM\":  # Only change if PM\n",
    "        if hour < 12:\n",
    "            hour += 12\n",
    "    if am_pm == \"AM\" and hour == 12:\n",
    "        hour = 0\n",
    "    # No f-string version\n",
    "    time[0] = str(hour).zfill(2)\n",
    "    return \":\".join(time)"
   ]
  },
  {
   "cell_type": "code",
   "execution_count": 36,
   "metadata": {},
   "outputs": [
    {
     "name": "stdout",
     "output_type": "stream",
     "text": [
      "10:10:38\n",
      "00:00:00\n",
      "12:00:00\n"
     ]
    }
   ],
   "source": [
    "# === Test cases === #\n",
    "print(timeConversion(\"10:10:38AM\"))  # Normal case\n",
    "print(timeConversion(\"12:00:00AM\"))  # Special case 1: midnight\n",
    "print(timeConversion(\"12:00:00PM\"))  # Special case 2: noon"
   ]
  },
  {
   "cell_type": "markdown",
   "metadata": {},
   "source": [
    "### [Designer PDF Viewer](https://www.hackerrank.com/challenges/designer-pdf-viewer/problem)\n",
    "\n",
    "For next time."
   ]
  },
  {
   "cell_type": "markdown",
   "metadata": {},
   "source": [
    "### SQL\n",
    "\n",
    "Applied SQL Analytics workship on Packt"
   ]
  },
  {
   "cell_type": "markdown",
   "metadata": {},
   "source": [
    "#### Common Table Expressions\n",
    "\n",
    "* Similar to subqueries\n",
    "* Create temporary tables using the `WITH` clause\n",
    "* One advantage is that common table expressions are recursive\n",
    "  * Recursive common table expressions can reference themselves\n",
    "  \n",
    "```SQL\n",
    "WITH d as (\n",
    "SELECT * FROM dealerships\n",
    "  WHERE dealerships.state = 'CA'\n",
    "  )\n",
    "SELECT *\n",
    "FROM salespeople\n",
    "INNER JOIN d ON d.dealership_id = salespeople.dealership_id\n",
    "ORDER BY 1;\n",
    "```"
   ]
  },
  {
   "cell_type": "markdown",
   "metadata": {},
   "source": [
    "#### Transforming Data\n",
    "\n",
    "Process the query output data, like removing or subsituting values, or mapping values to other values.\n",
    "\n",
    "##### The `CASE WHEN` Function\n",
    "\n",
    "`CASE WHEN` is a function to map values in a column to other values. Here's the general form:\n",
    "\n",
    "```SQL\n",
    "CASE WHEN condition1 THEN value1\n",
    "WHEN condition2 THEN value2\n",
    "…\n",
    "WHEN conditionX THEN valueX\n",
    "ELSE else_value END;\n",
    "```\n",
    "\n",
    "Example:\n",
    "\n",
    "* Return all rows for customers from the customers table\n",
    "* Add a column `customer_type` that labels a user as:\n",
    "  * Elite Customer type if they live in postal code 33111\n",
    "  * Premium Customer type if they live in postal code 33124\n",
    "  * Otherwise, it will mark the customer as a Standard Customer type.\n",
    "\n",
    "```SQL\n",
    "SELECT *,\n",
    "  CASE WHEN postal_code='33111' THEN 'Elite Customer'\n",
    "  WHEN postal_code='33124' THEN 'Premium Customer'\n",
    "  ELSE 'Standard Customer' END\n",
    " AS customer_type\n",
    "FROM customers;\n",
    "```\n",
    "\n",
    "Exercise 2.03:\n",
    "\n",
    "* Customers from the states of MA, NH, VT, ME, CT, or RI\n",
    "  * Label as New England\n",
    "* Customers from the states of GA, FL, MS, AL, LA, KY, VA, NC, SC, TN, VI, WV, or AR\n",
    "  * Labeled as Southeast\n",
    "* Customers from any other state should be labeled as Other\n",
    "\n",
    "```SQL\n",
    "SELECT c.customer_id,\n",
    "CASE WHEN c.state in ('MA', 'NH', 'VT', 'ME', 'CT', 'RI') THEN 'New England'\n",
    "WHEN c.state in ('GA', 'FL', 'MS', 'AL', 'LA', 'KY', 'VA', 'NC', 'SC', 'TN', 'VI', 'WV', 'AR') THEN 'Southeast'\n",
    "ELSE 'Other' END as region\n",
    "FROM customers c\n",
    "ORDER BY 1;\n",
    "```"
   ]
  },
  {
   "cell_type": "markdown",
   "metadata": {},
   "source": [
    "---\n",
    "\n",
    "## 2-Hour Job Search"
   ]
  },
  {
   "cell_type": "markdown",
   "metadata": {},
   "source": [
    "### Executive Summary"
   ]
  },
  {
   "cell_type": "markdown",
   "metadata": {},
   "source": [
    "#### Extras\n",
    "\n",
    "As a dedicated and passionate life-long learner, I take pride in my ability to learn both quickly and deeply as needed to accomplish specific goals.\n",
    "\n",
    "I adapt readily, thriving in interdisciplinary environments where I can apply my wide range of expertise in harnessing data to uncover truths, tell stories and generate value.\n",
    "\n",
    "I hold a BS in Economics from Cal Poly, SLO, where I was a Div I student-athlete, entreprenuer, musician, and writer.\n",
    "\n",
    "developing and deploying production-grade software systems with cutting-edge tools and processes."
   ]
  },
  {
   "cell_type": "markdown",
   "metadata": {},
   "source": [
    "#### Edit 3\n",
    "\n",
    "As a dedicated and passionate life-long learner, I take pride in my ability to learn both quickly and deeply as needed to accomplish specific goals. Collaborative, with a flexible, broad mind and a persistent growth mindset, I thrive in both independent and interdisciplinary team environments. I hope to bring expertise in solving complex problems all aspects of developing and deploying production-grade machine learning systems using cutting-edge tools and processes."
   ]
  },
  {
   "cell_type": "markdown",
   "metadata": {},
   "source": [
    "#### Edit 4\n",
    "\n",
    "As a dedicated and passionate life-long learner, I take pride in my ability to learn both quickly and deeply as needed to accomplish specific goals. Collaborative yet independent, with a flexible, broad mind and a persistent growth mindset, I adapt readily and thrive in interdisciplinary environments where I can apply my wide range of expertise in harnessing data to tell stories and generate value."
   ]
  },
  {
   "cell_type": "markdown",
   "metadata": {},
   "source": [
    "#### Edit 5\n",
    "\n",
    "As a dedicated and passionate life-long learner, I take pride in my ability to learn both quickly and deeply as needed. I hold a BS in Economics from Cal Poly, SLO, where I was a Div I student-athlete, entreprenuer, musician, and writer. Collaborative yet independent, with a flexible, broad mind and a persistent growth mindset, I adapt readily and thrive in interdisciplinary environments where I can apply my wide range of expertise in harnessing data to tell stories and generate value."
   ]
  },
  {
   "cell_type": "markdown",
   "metadata": {},
   "source": [
    "#### Edit 6\n",
    "\n",
    "Data professional with a BS in Economics and years of experience building complex, data-driven systems. Collaborative yet independent, with a flexible, broad mind and a persistent growth mindset, I adapt readily and thrive in interdisciplinary environments where I can apply my wide range of expertise in harnessing data to uncover truths, tell stories and generate value."
   ]
  },
  {
   "cell_type": "markdown",
   "metadata": {},
   "source": [
    "#### Edit 7\n",
    "\n",
    "Collaborative yet independent data professional with a BS in Economics and years of experience working on interdisciplinary teams building complex, data-driven software systems. Applied a wide range of technical and interpersonal expertise to successfully implement large manufacturing ERP systems and develop and deploy production-grade Python web apps and APIs serving recommender systems and computer vision models."
   ]
  },
  {
   "cell_type": "markdown",
   "metadata": {},
   "source": [
    "---\n",
    "\n",
    "## Recommender Systems (book)\n",
    "\n",
    "Three key methods that form the fundamental pillars of research:\n",
    "\n",
    "* Collaborative filtering\n",
    "* Content-based\n",
    "* Knowledge-based\n",
    "\n",
    "The basic idea of recommender systems is to use various sources of data to infer customer (user) interests.\n",
    "\n",
    "* _user_: the entity to which the rec is provided\n",
    "* _item_: the product being recommended\n",
    "\n",
    "Recommendation analysis is often based on previous interactions between users and items, except in the case of knowledge-based recommender systems, which consider explicit user requirements.\n",
    "\n",
    "> The basic principle of recommendations: significant dependencies exist between user- and item-centric activity.\n",
    "\n",
    "### Goals of Recommender Systems\n",
    "\n",
    "Two primary models for defining the recommendation problem:\n",
    "\n",
    "* Prediction\n",
    "  * Predict the rating value for a user-item combination\n",
    "* Ranking\n",
    "  * Recommend top-k items for a user, or less commonly, top-k users for an item\n",
    "  \n",
    "The common operational and technical goals of a recommender system:\n",
    "\n",
    "* Relevance\n",
    "* Novelty: new; something the user didn't know about\n",
    "* Serendipity: somewhat unexpected recommendations - element of luck - surprising to the user\n",
    "* Increasing recommendation diversity\n",
    "  * When all recs are similar, increases risk of user not liking any of the items\n",
    "\n",
    "### Basic Models of Recommender Systems\n",
    "\n",
    "The basic models work with two kinds of data:\n",
    "\n",
    "* User-item interactions (collaborative filtering)\n",
    "* Attribute information about the users and items (content-based)\n",
    "\n",
    "Hybrid systems can combine the strengths of various types of systems.\n",
    "\n",
    "#### Collaborative Filtering Models\n",
    "\n",
    "* Use the collaborative power of ratings provided by multiple users to make recommendations.\n",
    "* Main challenge is that the ratings matrices are sparse\n",
    "* Most models leverage inter-item correlations and/or inter-user correlations for prediction\n",
    "\n",
    "Two types of methods commonly used in collaborative filtering:\n",
    "\n",
    "* Memory-based methods\n",
    "  * AKA neighborhood-based algorithms\n",
    "  * Neighborhoods defined by:\n",
    "    * User-based: similarity between rows to find similar users\n",
    "    * Item-based: similarity between columns to find similar items\n",
    "  * Pros\n",
    "    * Simple\n",
    "    * Easy to explain\n",
    "  * Cons\n",
    "    * Do not work well with sparse matrices\n",
    "* Model-based methods\n",
    "  * Machine learning and data mining\n",
    "  * Pros\n",
    "    * High level of coverage even with sparse matrices\n",
    "  * Cons\n",
    "    * More complex\n",
    "    * Require more data (?)\n",
    "\n",
    "##### Unary Ratings\n",
    "\n",
    "Unary ratings are ratings with only one direction. I.e. only a \"like\", no \"dislike\". This is very applicable to implicit ratings such as purchasing an item. Just because the user did not purchase another item does not mean they dislike it.\n",
    "\n",
    "##### Missing Value Analysis\n",
    "\n",
    "Collaborative filtering can be thought of as a difficult/special case of missing value analysis, which is concerned with imputing values in an incomplete data matrix.\n",
    "\n",
    "##### Generalized Classification and Regression\n",
    "\n",
    "Collaborative filtering can also be viewed as a generalization of classification and regression modeling. In the case of the latter, the target is an attribute with missing values. In the case of the latter, any column can have missing values, and there is no clear line between class and feature variables. Also, there is no distinction between training and test rows because any row might have missing values - training and testing _entries_ rather than rows.\n",
    "\n",
    "#### Content-Based Recommender Systems\n",
    "\n",
    "The descriptive attributes (content) of items (in combination with the ratings and buying behavior) are used to make recommendations. For each user, the training data is the item content of the items she has bought/rated, with those ratings or buying behavior being the target.\n",
    "\n",
    "One key advantage of content-based is the ability to make recommendations for new items that don't have rating data.\n",
    "\n",
    "Disadvantages:\n",
    "\n",
    "* More likely to provide obvious recommendations (not serendipitous; reduces rec diversity)\n",
    "* Not good at providing recommendations to new users\n",
    "\n",
    "For the latter, knowledge-based are good for the cold-start situations.\n",
    "\n",
    "#### Knowledge-Based Recommender Systems\n",
    "\n",
    "Recommendations are based on similarities between user requirements and item descriptions/content.\n",
    "\n",
    "Useful with items that are not purchased often: houses, cars, etc. or in the case of the cold-start problem, when ratings data is not available.\n",
    "\n",
    "Types of knowledge-based recsys:\n",
    "\n",
    "* Constrain-based\n",
    "  * Users specify requirements or constraints on item attributes\n",
    "  * Ways to guide the search\n",
    "    * Conversational: preferences determined iteratively with a feedback loop\n",
    "    * Search-based: use a preset sequence of questions\n",
    "    * Navigation-based: user makes iterative change requests to the recommendation\n",
    "* Case-based\n",
    "  * Specific cases are chosen by the user as targets/anchors, then similarity to those are calculated\n",
    "  \n",
    "Knowledge-based systems, because they also depend heavily on the item attributes, also fall prey to the issue of providing \"obvious\" recommendations.\n",
    "\n",
    "##### Utility-Based Recommender Systems\n",
    "\n",
    "Utility function is used to compute the probability of a user liking the item. The main challenge is defining an appropriate utility function for the active user.\n",
    "\n",
    "A quick note: all recommender systems implicitly rank recommendations on their utility for the target user.\n",
    "\n",
    "#### Hybrid and Ensemble-Based Recommender Systems\n",
    "\n",
    "All three of the above methods use different sources of input and work best in different situations; have different sets of strengths and weaknesses. With a variety of input sources comes the possibility and practicality of using multiple methods to get the best of all worlds."
   ]
  },
  {
   "cell_type": "markdown",
   "metadata": {},
   "source": [
    "---\n",
    "\n",
    "## DS + ML Practice"
   ]
  },
  {
   "cell_type": "markdown",
   "metadata": {
    "jupyter": {
     "source_hidden": true
    }
   },
   "source": [
    "### Some options\n",
    "\n",
    "* Pick a dataset and try to do X with it\n",
    "  * Try to hit benchmark accuracies with [UCI ML datasets](https://archive.ics.uci.edu/ml/index.php) or Kaggle\n",
    "* Practice with the common DS/ML tools and processes\n",
    "  * Hands-on ML | NLP In Action | Dive Into Deep Learning | Coursera / guided projects\n",
    "  * Machine learning flashcards\n",
    "\n",
    "#### _The goal is to be comfortable explaining the entire process._\n",
    "\n",
    "* Data access / sourcing, cleaning\n",
    "  * Exploratory data analysis\n",
    "  * Data wrangling techniques and processes\n",
    "* Inference\n",
    "  * Statistics\n",
    "  * Probability\n",
    "  * Visualization\n",
    "* Modeling\n",
    "  * Implement + justify choice of model / algorithm\n",
    "  * Track performance + justify choice of metrics\n",
    "    * Communicate results as relevant to the goal"
   ]
  },
  {
   "cell_type": "markdown",
   "metadata": {},
   "source": []
  },
  {
   "cell_type": "markdown",
   "metadata": {},
   "source": [
    "---\n",
    "\n",
    "## Interviewing\n",
    "\n",
    "> Practice answering the most common behavioral and technical interview questions\n",
    "\n",
    "### Technical\n",
    "\n",
    "* Business case walk-throughs\n",
    "* Hot-seat DS-related topics for recall practice (under pressure)"
   ]
  },
  {
   "cell_type": "markdown",
   "metadata": {
    "jupyter": {
     "source_hidden": true
    }
   },
   "source": [
    "### Behavioral\n",
    "\n",
    "* \"Tell me a bit about yourself\"\n",
    "* \"Tell me about a project you've worked on and are proud of\"\n",
    "* \"What do you know about our company?\"\n",
    "* \"Where do you see yourself in 3-5 years?\"\n",
    "* \"Why do you want to work here / want this job?\"\n",
    "* \"What makes you most qualified for this role?\"\n",
    "* \"What is your greatest strength/weakness?\"\n",
    "  * \"What is your greatest technical strength?\"\n",
    "* \"Tell me about a time when you had conflict with someone and how you handled it\"\n",
    "* \"Tell me about a mistake you made and how you handled it\"\n",
    "* Scenario questions (STAR: situation, task, action, result)\n",
    "  * Success story / biggest accomplishment\n",
    "  * Greatest challenge (overcome)\n",
    "  * Persuaded someone who did not agree with you\n",
    "  * Dealt with and resolved a conflict (among team members)\n",
    "  * Led a team / showed leadership skills or aptitude\n",
    "  * How you've dealt with stress / stressful situations\n",
    "  * Most difficult problem encountered in previous job; how you solved it\n",
    "  * Solved a problem creatively\n",
    "  * Exceeded expectations to get a job done\n",
    "  * Showed initiative\n",
    "  * Something that's not on your resume\n",
    "  * Example of important goal you set and how you reached it\n",
    "  * A time you failed\n",
    "* \"Do you have any questions for me?\"\n",
    "  * What is your favorite aspect of working here?\n",
    "  * What has your journey looked like at the company?\n",
    "  * What are some challenges you face in your position?"
   ]
  },
  {
   "cell_type": "markdown",
   "metadata": {},
   "source": []
  },
  {
   "cell_type": "markdown",
   "metadata": {},
   "source": []
  },
  {
   "cell_type": "markdown",
   "metadata": {},
   "source": []
  },
  {
   "cell_type": "markdown",
   "metadata": {},
   "source": []
  },
  {
   "cell_type": "markdown",
   "metadata": {},
   "source": []
  },
  {
   "cell_type": "markdown",
   "metadata": {},
   "source": []
  },
  {
   "cell_type": "markdown",
   "metadata": {},
   "source": []
  },
  {
   "cell_type": "markdown",
   "metadata": {},
   "source": []
  },
  {
   "cell_type": "markdown",
   "metadata": {},
   "source": []
  },
  {
   "cell_type": "markdown",
   "metadata": {},
   "source": []
  },
  {
   "cell_type": "markdown",
   "metadata": {},
   "source": []
  },
  {
   "cell_type": "markdown",
   "metadata": {},
   "source": []
  },
  {
   "cell_type": "markdown",
   "metadata": {},
   "source": []
  },
  {
   "cell_type": "markdown",
   "metadata": {},
   "source": []
  }
 ],
 "metadata": {
  "kernelspec": {
   "display_name": "Python 3.7.6 64-bit ('vela': pipenv)",
   "language": "python",
   "name": "python37664bitvelapipenvde09592071074af6a70ce3b1ce38af95"
  },
  "language_info": {
   "codemirror_mode": {
    "name": "ipython",
    "version": 3
   },
   "file_extension": ".py",
   "mimetype": "text/x-python",
   "name": "python",
   "nbconvert_exporter": "python",
   "pygments_lexer": "ipython3",
   "version": "3.7.6"
  }
 },
 "nbformat": 4,
 "nbformat_minor": 4
}
