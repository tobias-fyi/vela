{
 "cells": [
  {
   "cell_type": "markdown",
   "metadata": {},
   "source": [
    "# Bike Sharing\n",
    "\n",
    "## Data Exploration and Modeling\n",
    "\n",
    "Dataset available on [UCI ML Repository](https://archive.ics.uci.edu/ml/datasets/Bike+Sharing+Dataset#).\n",
    "\n",
    "Notebook by Tobias Reaper"
   ]
  },
  {
   "cell_type": "markdown",
   "metadata": {},
   "source": [
    "---\n",
    "---\n",
    "\n",
    "## Problem Statement"
   ]
  },
  {
   "cell_type": "markdown",
   "metadata": {},
   "source": [
    "You are provided with a dataset containing the hourly and daily count of rental bikes between years 2011 and 2012 with corresponding weather and seasonal information.\n",
    "\n",
    "Your aim is to build a model to predict the volume of bike rentals in a given time period.\n",
    "\n",
    "Please share how you would:\n",
    "\n",
    "1. Frame the problem (e.g. type of model, metrics, problem statement)\n",
    "2. Prepare the data\n",
    "3. Explore the data\n",
    "4. Create a train-validation split\n",
    "5. Assess a handful of models\n",
    "  * For the machine learning technique you mentioned, please explain to me how it works like I'm a five year old.\n",
    "6. Decide on a model for production\n",
    "  * Now that we have a working model, we want to take the next step of using this model to deploy the proper number of bikes to the area in question. It costs money to deploy bikes, particularly when they aren't being rented. How would you design a process or framework to ensure that enough bikes are deployed without overdeploying and costing the company?"
   ]
  },
  {
   "cell_type": "markdown",
   "metadata": {},
   "source": [
    "--\n",
    "\n",
    "### Initial thoughts and process outline"
   ]
  },
  {
   "cell_type": "markdown",
   "metadata": {},
   "source": [
    "#### 1. Frame the problem\n",
    "\n",
    "Clarifying questions:\n",
    "\n",
    "* Goal is to get the important constraints\n",
    "* Why does it matter?\n",
    "  * Don't ask directly, but get to the answer of \"What is the business model?\"\n",
    "* What's the measurement of success?\n",
    "* Frameworks: DS vs consulting case study\n",
    "  * DS: here's a dataset go predict something\n",
    "  * Consulting: how many mail trucks are there in the States?\n",
    "    * Elevators\n",
    "      * Inspector wants to be more accurate, get to all of them within a given period of time\n",
    "      * Elevator sales company wants to sell as much as possible\n",
    "    * Airport gates\n",
    "    * _Constraints_\n",
    "\n",
    "Outline:\n",
    "\n",
    "* Supervised model: the target is the volume of bike rentals\n",
    "* Regression: though the data is not fully \"continuous\" (integer) it's not really a classification problem\n",
    "  * Is this discrete or continuous?\n",
    "  * Can I transform the data to make it a linear relationship?\n",
    "* Eval metrics:\n",
    "  * MAE\n",
    "  * MSE\n",
    "    * Changes the units\n",
    "  * RMSE\n",
    "    * Solves the problem of changed units in MSE\n",
    "    * Problem of the scale of the error\n",
    "  * RMSLE\n",
    "    * Scales down the values to get around the above error\n",
    "  * R-squared\n",
    "    * The proportion of variance in the target explained by the feature(s)\n",
    "  * Adjusted R-squared\n",
    "  \n",
    "In some problems, outliers can really affect the model. In others, it wouldn't.\n",
    "\n",
    "Prepare the data\n",
    "\n",
    "* Don't scale the data until you know how the features interact."
   ]
  },
  {
   "cell_type": "code",
   "execution_count": null,
   "metadata": {},
   "outputs": [],
   "source": []
  },
  {
   "cell_type": "code",
   "execution_count": null,
   "metadata": {},
   "outputs": [],
   "source": []
  },
  {
   "cell_type": "code",
   "execution_count": null,
   "metadata": {},
   "outputs": [],
   "source": []
  },
  {
   "cell_type": "code",
   "execution_count": null,
   "metadata": {},
   "outputs": [],
   "source": []
  },
  {
   "cell_type": "code",
   "execution_count": null,
   "metadata": {},
   "outputs": [],
   "source": []
  },
  {
   "cell_type": "code",
   "execution_count": null,
   "metadata": {},
   "outputs": [],
   "source": []
  },
  {
   "cell_type": "code",
   "execution_count": null,
   "metadata": {},
   "outputs": [],
   "source": []
  },
  {
   "cell_type": "code",
   "execution_count": null,
   "metadata": {},
   "outputs": [],
   "source": []
  },
  {
   "cell_type": "code",
   "execution_count": null,
   "metadata": {},
   "outputs": [],
   "source": []
  },
  {
   "cell_type": "code",
   "execution_count": null,
   "metadata": {},
   "outputs": [],
   "source": []
  },
  {
   "cell_type": "code",
   "execution_count": null,
   "metadata": {},
   "outputs": [],
   "source": []
  },
  {
   "cell_type": "code",
   "execution_count": null,
   "metadata": {},
   "outputs": [],
   "source": []
  },
  {
   "cell_type": "code",
   "execution_count": null,
   "metadata": {},
   "outputs": [],
   "source": []
  }
 ],
 "metadata": {
  "kernelspec": {
   "display_name": "Python 3.7.6 64-bit ('vela': pipenv)",
   "language": "python",
   "name": "python37664bitvelapipenvde09592071074af6a70ce3b1ce38af95"
  },
  "language_info": {
   "codemirror_mode": {
    "name": "ipython",
    "version": 3
   },
   "file_extension": ".py",
   "mimetype": "text/x-python",
   "name": "python",
   "nbconvert_exporter": "python",
   "pygments_lexer": "ipython3",
   "version": "3.7.6"
  }
 },
 "nbformat": 4,
 "nbformat_minor": 4
}
