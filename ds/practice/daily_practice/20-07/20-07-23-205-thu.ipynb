{
 "cells": [
  {
   "cell_type": "markdown",
   "metadata": {},
   "source": [
    "# 20-07-23: Daily Practice"
   ]
  },
  {
   "cell_type": "markdown",
   "metadata": {},
   "source": [
    "---\n",
    "---\n",
    "\n",
    "## Daily practices\n",
    "\n",
    "* [ ] [Job Search](#2-Hour-Job-Search)\n",
    "  * [ ] LAMP List\n",
    "  * [ ] Network\n",
    "  * [ ] Social media\n",
    "  * [ ] Job applications\n",
    "* [ ] [Meta-data: read & write](#Meta-data:-reading-&-writing)\n",
    "* [ ] [Practice & learn](#Practice-&-learn)\n",
    "  * [x] Coding, algorithms & data structures\n",
    "  * [ ] Data science: access, manipulation, analysis, visualization\n",
    "  * [x] Engineering: SQL, PySpark, APIs, TDD, OOP\n",
    "  * [ ] Machine learning: Scikit-learn, TensorFlow, PyTorch\n",
    "  * [ ] Interview questions (out loud)\n",
    "    * STAR storytelling"
   ]
  },
  {
   "cell_type": "markdown",
   "metadata": {},
   "source": [
    "---\n",
    "---\n",
    "\n",
    "## Practice & learn"
   ]
  },
  {
   "cell_type": "markdown",
   "metadata": {},
   "source": [
    "---\n",
    "\n",
    "### Coding, algorithms & data structures"
   ]
  },
  {
   "cell_type": "markdown",
   "metadata": {},
   "source": [
    "#### [New Year's Chaos](https://www.hackerrank.com/challenges/new-year-chaos/problem)\n",
    "\n",
    "It's New Year's Day and everyone's in line for the Wonderland rollercoaster ride! There are a number of people queued up, and each person wears a sticker indicating their initial position in the queue. Initial positions increment by $1$ from $1$ at the front of the line to $n$ at the back.\n",
    "\n",
    "Any person in the queue can bribe the person directly in front of them to swap positions. If two people swap positions, they still wear the same sticker denoting their original places in line. One person can bribe at most two others. For example, if $n = 8$ and $Person 5$ bribes $Person 4$, the queue will look like this: $1, 2, 3, 5, 4, 6, 7, 8$.\n",
    "\n",
    "Fascinated by this chaotic queue, you decide you must know the minimum number of bribes that took place to get the queue into its current state!\n",
    "\n",
    "##### Function Description\n",
    "\n",
    "Complete the function minimumBribes in the editor below. It must print an integer representing the minimum number of bribes necessary, or `Too chaotic ` if the line configuration is not possible.\n",
    "\n",
    "minimumBribes has the following parameter(s):\n",
    "\n",
    "* q: an array of integers"
   ]
  },
  {
   "cell_type": "code",
   "execution_count": null,
   "metadata": {},
   "outputs": [],
   "source": [
    "# Complete the minimumBribes function below.\n",
    "def minimumBribes(q):\n",
    "    # Method 1:\n",
    "    # Need to figure out, for each index, the range of numbers that can be there -\n",
    "    # something like i + 2, as the max number of bribes that can happen is 2.\n",
    "    # If number is not within that range, return `too chaotic`.\n",
    "    # If number is within range, find out how many bribes it took to get it there.\n",
    "    # It might be as easy as finding difference b/w index and number, if number is\n",
    "    # greater than index. If less than index, means the bribe has already been counted.\n",
    "    pass"
   ]
  },
  {
   "cell_type": "code",
   "execution_count": 5,
   "metadata": {},
   "outputs": [
    {
     "data": {
      "text/plain": [
       "3"
      ]
     },
     "execution_count": 5,
     "metadata": {},
     "output_type": "execute_result"
    }
   ],
   "source": [
    "# === Method 1 === #\n",
    "q1 = [2, 1, 5, 3, 4]\n",
    "\n",
    "def minimumBribes(q):\n",
    "    total = 0\n",
    "    # Iterate through indexes and vals\n",
    "    for i, v in enumerate(q):\n",
    "        # Check if val has been bribed\n",
    "        if i + 1 < v:\n",
    "            # Find difference\n",
    "            diff = v - (i + 1)\n",
    "            # If diff is more than 2, too chaotic\n",
    "            if diff > 2:\n",
    "                return \"Too chaotic\"\n",
    "            else:\n",
    "                total += diff\n",
    "    return total\n",
    "\n",
    "minimumBribes(q1)"
   ]
  },
  {
   "cell_type": "code",
   "execution_count": 6,
   "metadata": {},
   "outputs": [
    {
     "name": "stdout",
     "output_type": "stream",
     "text": [
      "Too chaotic\n",
      "6\n"
     ]
    }
   ],
   "source": [
    "# === More tests === #\n",
    "q2 = [5, 1, 2, 3, 7, 8, 6, 4]\n",
    "# This one is correct\n",
    "print(minimumBribes(q2))\n",
    "\n",
    "# === Another test === #\n",
    "q3 = [1, 2, 5, 3, 7, 8, 6, 4]\n",
    "# This one was not correct - should return 7\n",
    "print(minimumBribes(q3))"
   ]
  },
  {
   "cell_type": "code",
   "execution_count": 7,
   "metadata": {},
   "outputs": [
    {
     "data": {
      "text/plain": [
       "6"
      ]
     },
     "execution_count": 7,
     "metadata": {},
     "output_type": "execute_result"
    }
   ],
   "source": [
    "# === Method 1, part 2 === #\n",
    "q3 = [1, 2, 5, 3, 7, 8, 6, 4]\n",
    "\n",
    "def minimumBribes(q):\n",
    "    total = 0\n",
    "    # Iterate through indexes and vals\n",
    "    for i, v in enumerate(q):\n",
    "        # Check if val has been bribed\n",
    "        if i + 1 < v:\n",
    "            # Find difference\n",
    "            diff = v - (i + 1)\n",
    "            # If diff is more than 2, too chaotic\n",
    "            if diff > 2:\n",
    "                return \"Too chaotic\"\n",
    "            else:\n",
    "                total += diff\n",
    "    return total\n",
    "\n",
    "minimumBribes(q3)\n",
    "\n",
    "# (i + 1) = 1 == v = 1 -> do nothing, iterate\n",
    "# (i + 1) = 2 == v = 2 -> do nothing, iterate\n",
    "# (i + 1) = 3 <  v = 5 -> diff = 2; total = 0 + 2 = 2\n",
    "# (i + 1) = 4 >  v = 3 -> do nothing, iterate\n",
    "# (i + 1) = 5 <  v = 7 -> diff = 2; total = 2 + 2 = 4\n",
    "# (i + 1) = 6 <  v = 8 -> diff = 2; total = 4 + 2 = 6\n",
    "# (i + 1) = 7 >  v = 6 -> do nothing, iterate\n",
    "# (i + 1) = 8 >  v = 4 -> do nothing, iterate\n",
    "\n",
    "# So, there is a bribe somewhere that I'm missing;\n",
    "# an edge case I haven't accounted for yet."
   ]
  },
  {
   "cell_type": "code",
   "execution_count": null,
   "metadata": {},
   "outputs": [],
   "source": [
    "# Work backwards - reverse engineer the ordered queue/array\n",
    "[1, 2, 5, 3, 7, 8, 6, 4]  # 0\n",
    "[1, 2, 5, 3, 7, 6, 8, 4]  # 1\n",
    "[1, 2, 5, 3, 7, 6, 4, 8]  # 2\n",
    "[1, 2, 5, 3, 6, 7, 4, 8]  # 3\n",
    "[1, 2, 5, 3, 6, 4, 7, 8]  # 4\n",
    "[1, 2, 5, 3, 4, 6, 7, 8]  # 5\n",
    "[1, 2, 3, 5, 4, 6, 7, 8]  # 6\n",
    "[1, 2, 3, 4, 5, 6, 7, 8]  # 7"
   ]
  },
  {
   "cell_type": "code",
   "execution_count": null,
   "metadata": {},
   "outputs": [],
   "source": [
    "# Work forwards\n",
    "[1, 2, 3, 4, 5, 6, 7, 8]  # 0\n",
    "[1, 2, 3, 5, 4, 6, 7, 8]  # 1\n",
    "[1, 2, 5, 3, 4, 6, 7, 8]  # 2\n",
    "[1, 2, 5, 3, 4, 7, 6, 8]  # 3\n",
    "[1, 2, 5, 3, 7, 4, 6, 8]  # 4\n",
    "[1, 2, 5, 3, 7, 6, 4, 8]  # 5\n",
    "[1, 2, 5, 3, 7, 6, 8, 4]  # 6\n",
    "[1, 2, 5, 3, 7, 8, 6, 4]  # 7"
   ]
  },
  {
   "cell_type": "markdown",
   "metadata": {},
   "source": [
    "The move I'm missing is when numbers are bribed / pushed backward decide to bribe their way forward again.\n",
    "\n",
    "I'll continue working on this next time."
   ]
  },
  {
   "cell_type": "markdown",
   "metadata": {},
   "source": [
    "---\n",
    "\n",
    "### Interview questions"
   ]
  },
  {
   "cell_type": "code",
   "execution_count": null,
   "metadata": {},
   "outputs": [],
   "source": []
  },
  {
   "cell_type": "markdown",
   "metadata": {},
   "source": [
    "---\n",
    "\n",
    "### Data science"
   ]
  },
  {
   "cell_type": "code",
   "execution_count": null,
   "metadata": {},
   "outputs": [],
   "source": []
  },
  {
   "cell_type": "markdown",
   "metadata": {},
   "source": [
    "---\n",
    "\n",
    "### Engineering"
   ]
  },
  {
   "cell_type": "markdown",
   "metadata": {},
   "source": [
    "Started the Data Engineering track on DataCamp (though didn't start at the beginning).\n",
    "\n",
    "#### Introduction to Shell (review)\n",
    "\n",
    "* `pwd`\n",
    "* `ls`\n",
    "* Relative and absolute paths\n",
    "\n",
    "I'm guessing most of the commands and concepts in this course are ones that I've been using every day or close to for the last 2+ years. But I figured I'd start there anyways in case there are some interesting tidbits. Might end up skipping to the bash scripting course though."
   ]
  },
  {
   "cell_type": "code",
   "execution_count": null,
   "metadata": {},
   "outputs": [],
   "source": []
  },
  {
   "cell_type": "markdown",
   "metadata": {},
   "source": [
    "---\n",
    "\n",
    "### Machine learning"
   ]
  },
  {
   "cell_type": "code",
   "execution_count": null,
   "metadata": {},
   "outputs": [],
   "source": []
  },
  {
   "cell_type": "markdown",
   "metadata": {},
   "source": [
    "---\n",
    "---\n",
    "\n",
    "## 2-Hour Job Search"
   ]
  },
  {
   "cell_type": "markdown",
   "metadata": {},
   "source": [
    "### Description\n",
    "\n",
    "> Have data, will science.\n",
    "\n",
    "I love to build and to measure, gathering and exploring data on everything I do. My hands are constantly dirty from the endless projects into which I enjoy investing my time and energy. My mind is either brainstorming in the clouds or picking through the weeds, diving deep into details and technicalities."
   ]
  },
  {
   "cell_type": "markdown",
   "metadata": {},
   "source": [
    "### Summary: interests and background\n",
    "\n",
    "#### Trash Panda\n",
    "\n",
    "Situation:\n",
    "\n",
    "Recycling is important, but maintaining good recycling habits can be difficult and time consuming. With China accepting much less of our waste, it is up to the US to deal with its own, and the societal cost to not recycling properly can be high.\n",
    "\n",
    "Task:\n",
    "\n",
    "The goal with Trash Panda was to build a mobile application that reduces the cognitive load of recycling so much that disposing of everything properly becomes effortless. A user could snap a photo of a piece of waste, and the app would use computer vision to recognize it, automatically bringing up all the relevant information they'd need to make a quick decision on how to dispose of it.\n",
    "\n",
    "Action:\n",
    "\n",
    "I helped build the pipeline that automated much of the process of gathering and labeling over 80,000 images with which we trained our object detection model. The section of the pipeline I was primarily responsible for building was automatically removing the backgrounds from images, so that they could be automatically labeled. To accomplish this, I ultimately used a secondary object detection model to find and extract the objects in the image. I also built the Flask API which was used to serve the model in production, and deployed it to Elastic Beanstalk using Docker.\n",
    "\n",
    "Result:\n",
    "\n",
    "Our model was trained on over 80,000 images spanning 73 distinct classes of waste, ultimately achieving a mAP of over 50%, with certain classes in the range of 80%. I successfully deployed the model and worked with the web dev team to integrate the API into the app."
   ]
  },
  {
   "cell_type": "markdown",
   "metadata": {},
   "source": []
  },
  {
   "cell_type": "markdown",
   "metadata": {},
   "source": []
  },
  {
   "cell_type": "markdown",
   "metadata": {},
   "source": [
    "---\n",
    "---\n",
    "\n",
    "## Meta-data: read & write"
   ]
  },
  {
   "cell_type": "markdown",
   "metadata": {},
   "source": []
  },
  {
   "cell_type": "markdown",
   "metadata": {},
   "source": []
  },
  {
   "cell_type": "markdown",
   "metadata": {},
   "source": []
  },
  {
   "cell_type": "markdown",
   "metadata": {},
   "source": []
  },
  {
   "cell_type": "markdown",
   "metadata": {},
   "source": []
  },
  {
   "cell_type": "markdown",
   "metadata": {},
   "source": []
  }
 ],
 "metadata": {
  "kernelspec": {
   "display_name": "Python 3.7.6 64-bit ('vela': pipenv)",
   "language": "python",
   "name": "python37664bitvelapipenvde09592071074af6a70ce3b1ce38af95"
  },
  "language_info": {
   "codemirror_mode": {
    "name": "ipython",
    "version": 3
   },
   "file_extension": ".py",
   "mimetype": "text/x-python",
   "name": "python",
   "nbconvert_exporter": "python",
   "pygments_lexer": "ipython3",
   "version": "3.7.6"
  }
 },
 "nbformat": 4,
 "nbformat_minor": 4
}
