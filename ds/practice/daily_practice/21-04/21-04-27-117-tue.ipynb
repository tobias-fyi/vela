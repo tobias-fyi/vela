{
 "metadata": {
  "language_info": {
   "codemirror_mode": {
    "name": "ipython",
    "version": 3
   },
   "file_extension": ".py",
   "mimetype": "text/x-python",
   "name": "python",
   "nbconvert_exporter": "python",
   "pygments_lexer": "ipython3",
   "version": "3.7.6"
  },
  "orig_nbformat": 2,
  "kernelspec": {
   "name": "python37664bitvelapipenvde09592071074af6a70ce3b1ce38af95",
   "display_name": "Python 3.7.6 64-bit ('vela-_qIiF1eP': virtualenv)"
  },
  "metadata": {
   "interpreter": {
    "hash": "d279672dec97687973da8f2b23dbdcc76259fde61874b489061eca7e42b844dc"
   }
  }
 },
 "nbformat": 4,
 "nbformat_minor": 2,
 "cells": [
  {
   "source": [
    "# 2021-04-27 Daily Practice\n",
    "\n",
    "- [x] Leedcode / HackerRank algorithms practice"
   ],
   "cell_type": "markdown",
   "metadata": {}
  },
  {
   "source": [
    "---\n",
    "\n",
    "## ZigZag Conversion\n",
    "\n",
    "[On LeetCode](https://leetcode.com/problems/zigzag-conversion/)\n",
    "\n",
    "The string \"PAYPALISHIRING\" is written in a zigzag pattern on a given number of rows like this: (you may want to display this pattern in a fixed font for better legibility)\n",
    "\n",
    "    P   A   H   N\n",
    "    A P L S I I G\n",
    "    Y   I   R\n",
    "\n",
    "And then read line by line: \"PAHNAPLSIIGYIR\"\n",
    "\n",
    "Write the code that will take a string and make this conversion given a number of rows.\n",
    "\n",
    "Example 1:\n",
    "\n",
    "- Input: s = \"PAYPALISHIRING\", numRows = 3\n",
    "- Output: \"PAHNAPLSIIGYIR\"\n",
    "\n",
    "Example 2:\n",
    "\n",
    "- Input: s = \"PAYPALISHIRING\", numRows = 4\n",
    "- Output: \"PINALSIGYAHRPI\"\n",
    "\n",
    "Explanation:\n",
    "\n",
    "    P     I    N\n",
    "    A   L S  I G\n",
    "    Y A   H R\n",
    "    P     I\n",
    "\n",
    "Example 3:\n",
    "\n",
    "- Input: s = \"A\", numRows = 1\n",
    "- Output: \"A\"\n",
    "\n"
   ],
   "cell_type": "markdown",
   "metadata": {}
  },
  {
   "source": [
    "---\n",
    "\n",
    "## Number of Recent Calls\n",
    "\n",
    "[On LeetCode](https://leetcode.com/problems/number-of-recent-calls/)\n",
    "\n",
    "You have a `RecentCounter` class which counts the number of recent requests within a certain time frame.\n",
    "\n",
    "Implement the `RecentCounter` class:\n",
    "\n",
    "- `RecentCounter()` Initializes the counter with zero recent requests.\n",
    "- `int ping(int t)` Adds a new request at time t, where t represents some time in milliseconds, and returns the number of requests that has happened in the past 3000 milliseconds (including the new request). Specifically, return the number of requests that have happened in the inclusive range `[t - 3000, t]`.\n",
    "\n",
    "It is guaranteed that every call to ping uses a strictly larger value of t than the previous call."
   ],
   "cell_type": "markdown",
   "metadata": {}
  },
  {
   "cell_type": "code",
   "execution_count": 7,
   "metadata": {},
   "outputs": [
    {
     "output_type": "stream",
     "name": "stdout",
     "text": [
      "[1]\n[1]\n[1, 2]\n<class 'int'>\n"
     ]
    }
   ],
   "source": [
    "# Curious if assigning a variable to an list then changing the variable\n",
    "# Does that result in the value in the list being updated?\n",
    "arr = []\n",
    "var = 1\n",
    "arr.append(var)\n",
    "print(arr)\n",
    "var = 2\n",
    "print(arr)\n",
    "arr.append(var)\n",
    "print(arr)\n",
    "# Seems like the answer is no; only the value is inserted into the array, not the variable itself\n",
    "print(type(arr[0]))"
   ]
  },
  {
   "cell_type": "code",
   "execution_count": 15,
   "metadata": {},
   "outputs": [],
   "source": [
    "class RecentCounter:\n",
    "\n",
    "    def __init__(self):\n",
    "        # Array to keep track of requests\n",
    "        # self.requests = [1, 100, 3001]\n",
    "        self.requests = []\n",
    "\n",
    "    def ping(self, t: int) -> int:\n",
    "        # Append the new request's time to requests array\n",
    "        self.requests.append(t)\n",
    "        # Return count of request time values in range\n",
    "        return len([r for r in self.requests if r >= t - 3000])"
   ]
  },
  {
   "cell_type": "code",
   "execution_count": 16,
   "metadata": {},
   "outputs": [
    {
     "output_type": "stream",
     "name": "stdout",
     "text": [
      "1\n2\n3\n3\n"
     ]
    }
   ],
   "source": [
    "obj = RecentCounter()\n",
    "print(obj.ping(1))\n",
    "print(obj.ping(100))\n",
    "print(obj.ping(3001))\n",
    "print(obj.ping(3002))"
   ]
  },
  {
   "source": [
    "The above version timed out, forcing me to rethink the data structure needed for keeping track of the requests.\n",
    "\n",
    "\n",
    "I'll try a queue next. If the first item "
   ],
   "cell_type": "markdown",
   "metadata": {}
  },
  {
   "cell_type": "code",
   "execution_count": 1,
   "metadata": {},
   "outputs": [],
   "source": [
    "from collections import deque\n",
    "\n",
    "class RecentCounter:\n",
    "\n",
    "    def __init__(self):\n",
    "        # Queue to keep track of requests\n",
    "        self.requests = deque()\n",
    "\n",
    "    def ping(self, t: int) -> int:\n",
    "        # Append the new request's time to requests array\n",
    "        self.requests.append(t)\n",
    "        # Remove all requests from queue that are below threshold\n",
    "        while True:\n",
    "            if self.requests[0] < t - 3000:\n",
    "                self.requests.popleft()\n",
    "            else:\n",
    "                break\n",
    "        # Return count of request time values in range\n",
    "        return len(self.requests)"
   ]
  },
  {
   "cell_type": "code",
   "execution_count": 2,
   "metadata": {},
   "outputs": [
    {
     "output_type": "stream",
     "name": "stdout",
     "text": [
      "1\n2\n3\n3\n"
     ]
    }
   ],
   "source": [
    "obj = RecentCounter()\n",
    "print(obj.ping(1))\n",
    "print(obj.ping(100))\n",
    "print(obj.ping(3001))\n",
    "print(obj.ping(3002))"
   ]
  },
  {
   "cell_type": "code",
   "execution_count": 31,
   "metadata": {},
   "outputs": [
    {
     "output_type": "execute_result",
     "data": {
      "text/plain": [
       "1"
      ]
     },
     "metadata": {},
     "execution_count": 31
    }
   ],
   "source": [
    "from collections import deque\n",
    "\n",
    "q = deque()\n",
    "q.append(1)\n",
    "q.append(100)\n",
    "q.append(3001)\n",
    "q[0]"
   ]
  },
  {
   "cell_type": "code",
   "execution_count": 32,
   "metadata": {},
   "outputs": [
    {
     "output_type": "stream",
     "name": "stdout",
     "text": [
      "deque([1, 100, 3001])\n"
     ]
    }
   ],
   "source": [
    "while True:\n",
    "    if q[0] > 3002 - 3000:\n",
    "        q.popleft()\n",
    "    else:\n",
    "        break\n",
    "\n",
    "print(q)"
   ]
  },
  {
   "cell_type": "code",
   "execution_count": 33,
   "metadata": {},
   "outputs": [
    {
     "output_type": "execute_result",
     "data": {
      "text/plain": [
       "3"
      ]
     },
     "metadata": {},
     "execution_count": 33
    }
   ],
   "source": [
    "len(q)"
   ]
  },
  {
   "cell_type": "code",
   "execution_count": null,
   "metadata": {},
   "outputs": [],
   "source": []
  }
 ]
}