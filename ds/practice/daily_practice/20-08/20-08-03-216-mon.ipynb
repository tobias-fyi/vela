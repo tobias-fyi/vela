{
 "cells": [
  {
   "cell_type": "markdown",
   "metadata": {},
   "source": [
    "# 20-08-03: Daily Practice"
   ]
  },
  {
   "cell_type": "markdown",
   "metadata": {},
   "source": [
    "---\n",
    "---\n",
    "\n",
    "## Practices"
   ]
  },
  {
   "cell_type": "markdown",
   "metadata": {},
   "source": [
    "### Daily\n",
    "\n",
    "* [x] [Job Search](#2-Hour-Job-Search)\n",
    "  * [x] 2HJS progress\n",
    "  * [x] Network\n",
    "  * [ ] Social media\n",
    "* [ ] [Meta-data: read & write](#Meta-data:-reading-&-writing)\n",
    "* [ ] [Practice & learn](#Practice-&-learn)\n",
    "  * [ ] Coding, algorithms & data structures\n",
    "  * [ ] Data science: access, manipulation, analysis, visualization\n",
    "  * [x] Engineering: SQL, PySpark, APIs, TDD, OOP\n",
    "  * [ ] Machine learning: Scikit-learn, TensorFlow, PyTorch\n",
    "  * [ ] Interview questions, STAR storytelling"
   ]
  },
  {
   "cell_type": "markdown",
   "metadata": {},
   "source": [
    "### Weekly\n",
    "\n",
    "Vim command(s) I'll get familiar with this week:\n",
    "\n",
    "* `*` — jump forward to next occurrence of current word\n",
    "* `#` — jump backward to previous occurrence of current word\n",
    "* Combine with...\n",
    "  * `n` to continue going in same direction\n",
    "  * `N` to go in reverse direction"
   ]
  },
  {
   "cell_type": "markdown",
   "metadata": {},
   "source": [
    "---\n",
    "---\n",
    "\n",
    "## 2-Hour Job Search"
   ]
  },
  {
   "cell_type": "markdown",
   "metadata": {},
   "source": [
    "### Slack Cover letter\n",
    "\n",
    "On Saturday, I reached out via Slack to an engineer who works for one of my current top/dream companies. He got back to me this morning asking for my resume and a blurb about some projects I've enjoyed working on. So I'm going to spend some time this morning working on that. Really shouldn't take very long, as I love talking about my projects!\n",
    "\n",
    "But I really care about making a great impression here, and thus want this \"blurb\" to be awesome as can be.\n",
    "\n",
    "* Trash Panda\n",
    "* Post Here\n",
    "* MediZen\n",
    "* Savor"
   ]
  },
  {
   "cell_type": "markdown",
   "metadata": {},
   "source": [
    "#### Trash Panda\n",
    "\n",
    "My blog post about it: [Trash Panda on tobias.fyi](https://tobias.fyi/workshop/trash-panda/)\n",
    "\n",
    "I worked on a team that included 3 other data scientists/machine learning engineers, 4 web developers, and 2 UX designers to build an app with the goal of reducing the cognitive load of creating and maintaining good recycling habits. In order to do this, myself and the team (3 other DS/ML, 4 web developers, 2 UX designers) knew we had to make it simple, quick, and easy enough that a user could find relevant, useful recycling information one-handed, while walking from the stove to the trash can. Ideally, by the time they reached the trash can, they'd know how to properly dispose of the item they have in their hand.\n",
    "\n",
    "Along with well-structured information architecture that leaves the information no more than 2 clicks away from the home screen of the app (3 in extreme cases), users can snap a photo of the item and use the app's object detection system to automatically recognize the item.\n",
    "\n",
    "> Meh...too long. That's more of an essay than a blurb."
   ]
  },
  {
   "cell_type": "markdown",
   "metadata": {},
   "source": [
    "#### Trash Panda\n",
    "\n",
    "Trash Panda is an app I worked on with a team that included 3 other machine learning engineers, 4 web developers, and 2 UX designers. We had 8 weeks to bring it from a raw idea to deployed, usable application that would help users create and maintain good recycling habits. I worked primarily as a machine learning engineer, collaborating on the pipeline we built to automate the process of gathering, organizing, and labeling 82,000+ images, utilizing those images to train a computer vision (object detection) model, and serving the trained model to be used for inference in the app.\n",
    "\n",
    "Along with general collaboration throughout the process, I was solely responsible for two pieces of the puzzle. The first was to find a way of automatically removing the background from images that had one, which I solved by building a secondary image processing pipeline with another computer vision model (image segmentation). The second was to deploy the trained model for the main app to use, which I accomplished by building a containerized Flask API and deploying it to AWS Elastic Beanstalk.\n",
    "\n",
    "#### Post Here\n",
    "\n",
    "Post Here is another web app I worked on with an interdisciplinary team, this time with only a week to develop and deploy the app. I was the primary machine learning engineer on the team, responsible for developing a recommender system for Reddit subreddits. I used relatively simple natural language processing techniques, along with dimensionality reduction and feature selection, to process the training data, which originally consisted of over 1m Reddit self-posts (text posts). Then, I iterated on a multinomial naive Bayes model to generate the recommendations, working intimately with the data engineer on our team to build and deploy the API used to serve the model.\n",
    "\n",
    "#### MediZen\n",
    "\n",
    "The goal with MediZen was to help medicinal cannabis users discover new strains and manage their experience with those they've tried. Myself and the rest of the data team were responsible for training and deploying the strain recommender system. As the recommendations would be based on each user's preferences — and thus did not have a specific target — we trained an unsupervised nearest neighbors model. I was primarily responsible for building and deploying the API to serve the model, which I did. However, I also ended up training my own iterations of the model after our primary machine learning engineer stopped contributing to the team upon delivering the first iteration.\n",
    "\n",
    "If you're curious, you can read more about each of these apps and my thoughts on the process of building them on my [blog/portfolio, tobias.fyi](https://tobias.fyi/workshop/)."
   ]
  },
  {
   "cell_type": "markdown",
   "metadata": {},
   "source": [
    "### Read Me\n",
    "\n",
    "Added the first iteration of my GitHub profile readme. Nothing special or crazy yet, but I'll get there."
   ]
  },
  {
   "cell_type": "markdown",
   "metadata": {},
   "source": [
    "---\n",
    "---\n",
    "\n",
    "## Meta-data: read & write"
   ]
  },
  {
   "cell_type": "markdown",
   "metadata": {},
   "source": []
  },
  {
   "cell_type": "markdown",
   "metadata": {},
   "source": []
  },
  {
   "cell_type": "markdown",
   "metadata": {},
   "source": [
    "---\n",
    "---\n",
    "\n",
    "## Practice & learn"
   ]
  },
  {
   "cell_type": "markdown",
   "metadata": {},
   "source": [
    "---\n",
    "\n",
    "### Coding, algorithms & data structures"
   ]
  },
  {
   "cell_type": "code",
   "execution_count": null,
   "metadata": {},
   "outputs": [],
   "source": []
  },
  {
   "cell_type": "markdown",
   "metadata": {},
   "source": [
    "---\n",
    "\n",
    "### Interview questions"
   ]
  },
  {
   "cell_type": "code",
   "execution_count": null,
   "metadata": {},
   "outputs": [],
   "source": []
  },
  {
   "cell_type": "markdown",
   "metadata": {},
   "source": [
    "---\n",
    "\n",
    "### Data science"
   ]
  },
  {
   "cell_type": "code",
   "execution_count": null,
   "metadata": {},
   "outputs": [],
   "source": []
  },
  {
   "cell_type": "markdown",
   "metadata": {},
   "source": [
    "---\n",
    "\n",
    "### Engineering"
   ]
  },
  {
   "cell_type": "markdown",
   "metadata": {},
   "source": [
    "Working on a Django project for a client with all of the time I have outside of pure job search/networking activities."
   ]
  },
  {
   "cell_type": "markdown",
   "metadata": {},
   "source": [
    "---\n",
    "\n",
    "### Machine learning"
   ]
  },
  {
   "cell_type": "code",
   "execution_count": null,
   "metadata": {},
   "outputs": [],
   "source": []
  },
  {
   "cell_type": "markdown",
   "metadata": {},
   "source": []
  },
  {
   "cell_type": "markdown",
   "metadata": {},
   "source": []
  },
  {
   "cell_type": "markdown",
   "metadata": {},
   "source": []
  },
  {
   "cell_type": "markdown",
   "metadata": {},
   "source": []
  }
 ],
 "metadata": {
  "kernelspec": {
   "display_name": "Python 3.7.6 64-bit ('vela': pipenv)",
   "language": "python",
   "name": "python37664bitvelapipenvde09592071074af6a70ce3b1ce38af95"
  },
  "language_info": {
   "codemirror_mode": {
    "name": "ipython",
    "version": 3
   },
   "file_extension": ".py",
   "mimetype": "text/x-python",
   "name": "python",
   "nbconvert_exporter": "python",
   "pygments_lexer": "ipython3",
   "version": "3.7.6"
  }
 },
 "nbformat": 4,
 "nbformat_minor": 4
}
