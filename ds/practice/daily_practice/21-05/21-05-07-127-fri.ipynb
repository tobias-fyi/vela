{
 "metadata": {
  "language_info": {
   "codemirror_mode": {
    "name": "ipython",
    "version": 3
   },
   "file_extension": ".py",
   "mimetype": "text/x-python",
   "name": "python",
   "nbconvert_exporter": "python",
   "pygments_lexer": "ipython3",
   "version": "3.7.6"
  },
  "orig_nbformat": 2,
  "kernelspec": {
   "name": "python376jvsc74a57bd0d279672dec97687973da8f2b23dbdcc76259fde61874b489061eca7e42b844dc",
   "display_name": "Python 3.7.6 64-bit ('vela-_qIiF1eP': virtualenv)"
  }
 },
 "nbformat": 4,
 "nbformat_minor": 2,
 "cells": [
  {
   "source": [
    "# 2021-05-07 Daily Practice\n",
    "\n",
    "- [x] Practice\n",
    "  - [ ] SQL\n",
    "  - [x] Code\n",
    "  - [x] Solve\n",
    "- [x] Learn\n",
    "- [ ] Write\n",
    "- [ ] Build"
   ],
   "cell_type": "markdown",
   "metadata": {}
  },
  {
   "source": [
    "---\n",
    "\n",
    "## Practice"
   ],
   "cell_type": "markdown",
   "metadata": {}
  },
  {
   "source": [
    "### Solve\n",
    "\n",
    "Spent the morning prepping for 3 interviews today, 2 of which had lots of problems I had to solve. Those took up the the middle part of the day. After that, I started prepping for my next one, next week, by doing some leetcode data structures / algorithms practice."
   ],
   "cell_type": "markdown",
   "metadata": {}
  },
  {
   "source": [
    "### Binary Trees\n",
    "\n",
    "Implementing a binary tree and using it for some algorithms, ideally from scratch without looking at notes or searching."
   ],
   "cell_type": "markdown",
   "metadata": {}
  },
  {
   "cell_type": "code",
   "execution_count": 1,
   "metadata": {},
   "outputs": [],
   "source": [
    "class TreeNode:\n",
    "    def __init__(self, val = 0, left = None, right = None):\n",
    "        self.val = val\n",
    "        self.left = left\n",
    "        self.right = right"
   ]
  },
  {
   "cell_type": "code",
   "execution_count": null,
   "metadata": {},
   "outputs": [],
   "source": [
    "class Solution:\n",
    "    def inorderTraversal(self, root: TreeNode) -> List[int]:\n",
    "        if root is None: return  # Base case: root is None -> return nada\n",
    "        # Recursive: return call self on left + [root.val] + call self on right\n",
    "        left = self.inorderTraversal(root.left) or []\n",
    "        right = self.inorderTraversal(root.right) or []\n",
    "        return left + [root.val] + right"
   ]
  },
  {
   "source": [
    "The cool thing about this implementation is that the only thing to change when doing another order (Preorder or Postorder) is the order of the return value. So for the [preorder traversal](https://leetcode.com/problems/binary-tree-preorder-traversal/): `return [root.val] + left + right`. And for [postorder](https://leetcode.com/problems/binary-tree-postorder-traversal/), `return left + right + [root.val]`."
   ],
   "cell_type": "markdown",
   "metadata": {}
  },
  {
   "cell_type": "code",
   "execution_count": null,
   "metadata": {},
   "outputs": [],
   "source": [
    "class Solution:\n",
    "    def preorderTraversal(self, root: TreeNode) -> List[int]:\n",
    "        if root is None: return\n",
    "        left = self.preorderTraversal(root.left) or []\n",
    "        right = self.preorderTraversal(root.right) or []\n",
    "        return [root.val] + left + right"
   ]
  },
  {
   "cell_type": "code",
   "execution_count": null,
   "metadata": {},
   "outputs": [],
   "source": [
    "class Solution:\n",
    "    def postorderTraversal(self, root: TreeNode) -> List[int]:\n",
    "        if root is None: return\n",
    "        left = self.postorderTraversal(root.left) or []\n",
    "        right = self.postorderTraversal(root.right) or []\n",
    "        return left + right + [root.val]"
   ]
  },
  {
   "cell_type": "code",
   "execution_count": 5,
   "metadata": {},
   "outputs": [
    {
     "output_type": "stream",
     "name": "stdout",
     "text": [
      "[]\n"
     ]
    }
   ],
   "source": [
    "def return_none(nada):\n",
    "    return nada or []\n",
    "\n",
    "ret = return_none(None)\n",
    "print(ret)\n",
    "print([] + [1] + [])"
   ]
  },
  {
   "cell_type": "code",
   "execution_count": null,
   "metadata": {},
   "outputs": [],
   "source": []
  }
 ]
}