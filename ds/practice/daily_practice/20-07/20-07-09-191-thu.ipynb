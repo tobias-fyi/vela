{
 "cells": [
  {
   "cell_type": "markdown",
   "metadata": {},
   "source": [
    "# 20-07-09: Daily Practice"
   ]
  },
  {
   "cell_type": "markdown",
   "metadata": {},
   "source": [
    "---\n",
    "---\n",
    "\n",
    "## Daily practices\n",
    "\n",
    "* [ ] [Practice & learn](#Practice-&-learn)\n",
    "  * [ ] Coding, algorithms & data structures\n",
    "  * [ ] Data science: access, manipulation, analysis, visualization\n",
    "  * [ ] Engineering: SQL, PySpark, APIs, TDD, OOP\n",
    "  * [ ] Machine learning: Scikit-learn, TensorFlow, PyTorch\n",
    "  * [ ] Interview questions (out loud)\n",
    "* [ ] [Meta-data: reading & writing](#Meta-data:-reading-&-writing)\n",
    "  * [ ] Blog\n",
    "* [ ] [2-Hour Job Search](#2-Hour-Job-Search)\n",
    "  * [ ] LAMP List\n",
    "  * [ ] Networking\n",
    "  * [ ] Social media"
   ]
  },
  {
   "cell_type": "markdown",
   "metadata": {},
   "source": [
    "---\n",
    "---\n",
    "\n",
    "## Practice & learn"
   ]
  },
  {
   "cell_type": "markdown",
   "metadata": {},
   "source": [
    "---\n",
    "\n",
    "### Coding, algorithms & data structures"
   ]
  },
  {
   "cell_type": "markdown",
   "metadata": {},
   "source": [
    "#### [Permutations (medium)](https://leetcode.com/problems/permutations/)\n",
    "\n",
    "Given a collection of distinct integers, return all possible permutations.\n",
    "\n",
    "Example:\n",
    "\n",
    "    Input: [1,2,3]\n",
    "    Output:\n",
    "    [\n",
    "      [1,2,3],\n",
    "      [1,3,2],\n",
    "      [2,1,3],\n",
    "      [2,3,1],\n",
    "      [3,1,2],\n",
    "      [3,2,1]\n",
    "    ]"
   ]
  },
  {
   "cell_type": "code",
   "execution_count": 1,
   "metadata": {},
   "outputs": [],
   "source": [
    "nums = [1, 2, 3]\n",
    "\n",
    "nums_out = [\n",
    "  [1, 2, 3],\n",
    "  [1, 3, 2],\n",
    "  [2, 1, 3],\n",
    "  [2, 3, 1],\n",
    "  [3, 1, 2],\n",
    "  [3, 2, 1],\n",
    "]\n"
   ]
  },
  {
   "cell_type": "code",
   "execution_count": 25,
   "metadata": {},
   "outputs": [
    {
     "data": {
      "text/plain": [
       "[[1, 2, 3], [1, 3, 2], [2, 1, 3], [2, 3, 1], [3, 1, 2], [3, 2, 1]]"
      ]
     },
     "execution_count": 25,
     "metadata": {},
     "output_type": "execute_result"
    }
   ],
   "source": [
    "from typing import List\n",
    "\n",
    "def permute(nums: List[int]) -> List[List[int]]:\n",
    "    # === Base case: nums is length 1 === #\n",
    "    if len(nums) < 2:\n",
    "        return [nums]\n",
    "    \n",
    "    permutations = []\n",
    "    \n",
    "    for i in range(len(nums)):\n",
    "        nums2 = nums.copy()\n",
    "        # Freeze index i\n",
    "        frozen = nums2.pop(i)\n",
    "        # Permute recursively on the rest of the numbers\n",
    "        new_nums = permute(nums2)\n",
    "        for num in new_nums:\n",
    "            permutations.append([frozen, *num])\n",
    "\n",
    "    return permutations\n",
    "\n",
    "nums = [1, 2, 3]\n",
    "permute(nums)"
   ]
  },
  {
   "cell_type": "code",
   "execution_count": 27,
   "metadata": {},
   "outputs": [
    {
     "data": {
      "text/plain": [
       "[1, 2, 3]"
      ]
     },
     "execution_count": 27,
     "metadata": {},
     "output_type": "execute_result"
    }
   ],
   "source": [
    "# Just testing out list unpacking\n",
    "def ret(nums):\n",
    "    return [*nums]\n",
    "\n",
    "ret(nums)"
   ]
  },
  {
   "cell_type": "markdown",
   "metadata": {},
   "source": [
    "##### Success\n",
    "\n",
    "* Runtime: 48 ms, faster than 31.31% of Python3 online submissions for Permutations.\n",
    "* Memory Usage: 14 MB, less than 47.86% of Python3 online submissions for Permutations."
   ]
  },
  {
   "cell_type": "code",
   "execution_count": 26,
   "metadata": {},
   "outputs": [
    {
     "name": "stdout",
     "output_type": "stream",
     "text": [
      "[[1, 2, 3], [1, 3, 2], [2, 1, 3], [2, 3, 1], [3, 1, 2], [3, 2, 1]]\n"
     ]
    }
   ],
   "source": [
    "# === Pretty genius solution found on SO === #\n",
    "# Doesn't work in my case because of yield, but thought it was interesting\n",
    "\n",
    "def permute(nums: List[int]) -> List[List[int]]:\n",
    "    if not nums:\n",
    "        yield []\n",
    "    for i in range(len(nums)):\n",
    "        for p in permute(nums[:i] + nums[i + 1 :]):\n",
    "            yield [nums[i], *p]\n",
    "\n",
    "\n",
    "nums = [1, 2, 3]\n",
    "print(list(permutations(nums)))"
   ]
  },
  {
   "cell_type": "markdown",
   "metadata": {},
   "source": [
    "---\n",
    "\n",
    "### Data science"
   ]
  },
  {
   "cell_type": "markdown",
   "metadata": {},
   "source": [
    "#### Statistical thinking in Python, Part 1\n",
    "\n",
    "##### Chapter 2: Quantitative EDA\n",
    "\n",
    "* Mean and median\n",
    "* Percentiles, outliers and box plots\n",
    "  * Box is the middle 50% of data, or the IQR (Interquartile range)\n",
    "  * Whiskers typically extend 1.5 IQR past interquartile range (1.5 above 75% and below 25%)\n",
    "* Variance and standard deviation\n",
    "  * Calculate variance and stdev by hand, plus with numpy\n",
    "* Covariance and the Pearson correlation coefficient\n",
    "  * Covariance is the distance of a point from the mean of two separate groups\n",
    "  * Pearson correlation coeffition is covariance divided by stdev of x and y\n",
    "  * Or, it is the variability due to codependence divided by the independent variability"
   ]
  },
  {
   "cell_type": "markdown",
   "metadata": {},
   "source": [
    "##### Chapter 3: Probabilistic thinking - discrete variables\n",
    "\n",
    "* Probabilistic logic and statistical inference\n",
    "* Random number generators and hacker statistics\n",
    "  * Hacker statistics\n",
    "    * Use simulated repeated measurements to compute probabilities\n",
    "    * Simulate coin flips (Bernoulli trial - 0/1 true/false)\n",
    "  * Hacker stats probabilities\n",
    "    * Determine how to simulate data\n",
    "    * Simulate many many times\n",
    "    * Probability is approximately the fraction of trials with the outcome of interest\n",
    "  * Bernoulli trials\n",
    "* The Binomial distribution\n",
    "  * Probability mass function (PMF): a set of probabilities of discrete outcomes\n",
    "* Poisson processes and the Poisson distribution\n",
    "  * Poisson process: timing of next event is independent of when previous event happened\n",
    "  * Poisson distribution\n",
    "  * With rare events (low p, high n) the Binomial distribution is Poisson"
   ]
  },
  {
   "cell_type": "markdown",
   "metadata": {},
   "source": [
    "---\n",
    "\n",
    "### Interview questions\n",
    "\n",
    "> Answer common interview questions **_out loud_**.\n",
    "\n",
    "* Technical: DS, ML, SE\n",
    "* Behavioral"
   ]
  },
  {
   "cell_type": "markdown",
   "metadata": {},
   "source": [
    "#### Data Science Interview Questions\n",
    "\n",
    "* What is the central limit theorem and why is it important?\n",
    "* What is sampling? Explain two different sampling methods.\n",
    "* What is the difference between type I / type II errors?\n",
    "* What is linear regression?\n",
    "  * For the following terms, meaning and significance:\n",
    "    * p-value?\n",
    "    * coefficient?\n",
    "    * r-squared?\n",
    "  * What are the assumptions required for linear regression?\n",
    "* What is a statistical interaction?"
   ]
  },
  {
   "cell_type": "markdown",
   "metadata": {},
   "source": [
    "---\n",
    "---\n",
    "\n",
    "## 2-Hour Job Search\n",
    "\n",
    "* LAMP List\n",
    "* Networking"
   ]
  },
  {
   "cell_type": "markdown",
   "metadata": {},
   "source": [
    "Completed another iteration of my LAMP list, and did lots of research into companies and positions that I'm interested in.\n",
    "\n",
    "Reached out to another potential lead."
   ]
  },
  {
   "cell_type": "markdown",
   "metadata": {},
   "source": [
    "---\n",
    "---\n",
    "\n",
    "## Meta-data: reading & writing\n",
    "\n",
    "* Blog post\n",
    "* Social media discussion"
   ]
  },
  {
   "cell_type": "markdown",
   "metadata": {},
   "source": [
    "Posted a few things to Twitter, semi-related to DS/ML, mostly just to be active."
   ]
  },
  {
   "cell_type": "markdown",
   "metadata": {},
   "source": []
  },
  {
   "cell_type": "markdown",
   "metadata": {},
   "source": []
  },
  {
   "cell_type": "markdown",
   "metadata": {},
   "source": []
  },
  {
   "cell_type": "markdown",
   "metadata": {},
   "source": []
  },
  {
   "cell_type": "markdown",
   "metadata": {},
   "source": []
  },
  {
   "cell_type": "markdown",
   "metadata": {},
   "source": []
  },
  {
   "cell_type": "markdown",
   "metadata": {},
   "source": []
  }
 ],
 "metadata": {
  "kernelspec": {
   "display_name": "Python 3.7.6 64-bit ('vela': pipenv)",
   "language": "python",
   "name": "python37664bitvelapipenvde09592071074af6a70ce3b1ce38af95"
  },
  "language_info": {
   "codemirror_mode": {
    "name": "ipython",
    "version": 3
   },
   "file_extension": ".py",
   "mimetype": "text/x-python",
   "name": "python",
   "nbconvert_exporter": "python",
   "pygments_lexer": "ipython3",
   "version": "3.7.6"
  }
 },
 "nbformat": 4,
 "nbformat_minor": 4
}
