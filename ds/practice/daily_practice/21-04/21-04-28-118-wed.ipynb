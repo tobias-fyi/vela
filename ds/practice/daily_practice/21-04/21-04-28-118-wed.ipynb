{
 "metadata": {
  "language_info": {
   "codemirror_mode": {
    "name": "ipython",
    "version": 3
   },
   "file_extension": ".py",
   "mimetype": "text/x-python",
   "name": "python",
   "nbconvert_exporter": "python",
   "pygments_lexer": "ipython3",
   "version": 3
  },
  "orig_nbformat": 2
 },
 "nbformat": 4,
 "nbformat_minor": 2,
 "cells": [
  {
   "source": [
    "# 2021-04-28 Daily Practice\n",
    "\n",
    "- [ ] Leedcode / HackerRank algorithms practice\n",
    "- [x] Build"
   ],
   "cell_type": "markdown",
   "metadata": {}
  },
  {
   "source": [
    "---\n",
    "\n",
    "# Savor Dash\n",
    "\n",
    "Wrote a couple of functions: \n",
    "\n",
    "- Functionalized code to create the id-name lookup\n",
    "- One to filter records to those within a certain time range. As the records in question are in UTC, I had to play around with the Python timezone functionality to get things lined up. \n",
    "    - Didn't quite finish this one, but got the dates and filters working at a basic level at least.\n",
    "    - Also got to use a for-else loop for the first time!"
   ],
   "cell_type": "markdown",
   "metadata": {}
  },
  {
   "cell_type": "code",
   "execution_count": null,
   "metadata": {},
   "outputs": [],
   "source": [
    "def create_lookup(base_key: str, api_key: str, table_fields: dict) -> pd.Series:\n",
    "    \"\"\"Creates an ID lookup series from a set of Airtable tables.\"\"\"\n",
    "    series_index = []  # Index (id) array\n",
    "    series_data = []  # Series data\n",
    "    for table in tables_and_fields:  # Loop through tables to retrieve records and save in array\n",
    "        airtable = Airtable(base_key, table, api_key=api_key)  # Connect to table\n",
    "        records = airtable.get_all(fields=tables_and_fields[table])  # Retrieve records\n",
    "        for record in records:  # Transform and save records to arrays\n",
    "            series_index.append(record[\"id\"])\n",
    "            series_data.append(record[\"fields\"][\"name\"])\n",
    "    # Return series, indexed by ID\n",
    "    return pd.Series(series_data, index=series_index)"
   ]
  },
  {
   "cell_type": "code",
   "execution_count": null,
   "metadata": {},
   "outputs": [],
   "source": [
    "from datetime import datetime\n",
    "\n",
    "def get_data_for_date_range(\n",
    "    conn: Airtable,\n",
    "    start: datetime,\n",
    "    end: datetime,\n",
    ") -> pd.DataFrame:\n",
    "    \"\"\"Retrieve Airtable data within the specified time range.\n",
    "    Assumes that datetimes passed are in UTC, so convert to UTC beforehand.\"\"\"\n",
    "    # Loop through pages and records within pages, checking the time_in against the range\n",
    "    # If inside range, append to list of raw data; else break from loop\n",
    "    raw_records = []\n",
    "    for page in conn.get_iter(sort=[\"-time_in\"], page_size=50):\n",
    "        # Page size of 50 = roughly # records in average day\n",
    "        for record in page:\n",
    "            # Airtable saves records in UTC\n",
    "            time_in = datetime.fromisoformat(record[\"fields\"][\"time_in\"][:-5] + \"+00:00\")\n",
    "            if time_in > end:\n",
    "                continue\n",
    "            elif time_in > start and time_in < end:\n",
    "                raw_records.append(record)\n",
    "            else:\n",
    "                break\n",
    "        else:\n",
    "            continue\n",
    "        break  # Break outer loop when inner loop is broken\n",
    "    \n",
    "    return raw_records"
   ]
  },
  {
   "cell_type": "code",
   "execution_count": null,
   "metadata": {},
   "outputs": [],
   "source": [
    "import dateutil\n",
    "\n",
    "# Create start and end UTC datetimes\n",
    "mdt = dateutil.tz.gettz(\"America/Denver\")  # MDT timezone info\n",
    "# Convert the MDT date to UTC\n",
    "start = datetime(2021, 4, 26, tzinfo=mdt).astimezone(timezone.utc)\n",
    "end = datetime.now(timezone.utc) # Now/today, in UTC\n",
    "\n",
    "raw_records = get_data_for_date_range(engage_log, start, end)"
   ]
  }
 ]
}