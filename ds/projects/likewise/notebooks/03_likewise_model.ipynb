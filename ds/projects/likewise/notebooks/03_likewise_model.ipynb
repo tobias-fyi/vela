{
  "nbformat": 4,
  "nbformat_minor": 0,
  "metadata": {
    "kernelspec": {
      "name": "python3",
      "display_name": "Python 3"
    },
    "colab": {
      "name": "03_likewise_model.ipynb",
      "provenance": [],
      "collapsed_sections": []
    }
  },
  "cells": [
    {
      "cell_type": "markdown",
      "metadata": {
        "id": "I247szK0X_CE",
        "colab_type": "text"
      },
      "source": [
        "# LikeWise\n",
        "\n",
        "### A book recommender system\n",
        "\n",
        "### By _Tobias Reaper_"
      ]
    },
    {
      "cell_type": "markdown",
      "metadata": {
        "id": "ijOK-tEUX_CR",
        "colab_type": "text"
      },
      "source": [
        "---\n",
        "---\n",
        "\n",
        "## Outline\n",
        "\n",
        "* [Introduction]()\n",
        "* [_Imports and Configuration_]()\n",
        "* [Data]()\n",
        "* [Modeling]()\n",
        "    * [Training]()\n",
        "    * [Generating Recommendations]()"
      ]
    },
    {
      "cell_type": "markdown",
      "metadata": {
        "id": "by6gDq5PX_CV",
        "colab_type": "text"
      },
      "source": [
        "---\n",
        "---\n",
        "\n",
        "## Introduction\n",
        "\n",
        "### Stop! Collaborate and Filter\n",
        "\n",
        "[Collaborative Filtering](https://d2l.ai/chapter_recommender-systems/recsys-intro.html#collaborative-filtering) (CF)\n",
        "\n",
        "> In general, CF only uses the user-item interaction data to make predictions and recommendations."
      ]
    },
    {
      "cell_type": "markdown",
      "metadata": {
        "id": "GIYTUXCXX_Cu",
        "colab_type": "text"
      },
      "source": [
        "---\n",
        "---\n",
        "\n",
        "## Imports and Configuration"
      ]
    },
    {
      "cell_type": "code",
      "metadata": {
        "id": "nCk6ea9KX_C0",
        "colab_type": "code",
        "colab": {}
      },
      "source": [
        "# === General imports === #\n",
        "import pandas as pd\n",
        "import numpy as np\n",
        "import matplotlib.pyplot as plt\n",
        "\n",
        "import os"
      ],
      "execution_count": null,
      "outputs": []
    },
    {
      "cell_type": "code",
      "metadata": {
        "id": "t-D9UU9CVqCe",
        "colab_type": "code",
        "colab": {}
      },
      "source": [
        "# === fastai imports === #\n",
        "from fastai.collab import *"
      ],
      "execution_count": null,
      "outputs": []
    },
    {
      "cell_type": "code",
      "metadata": {
        "id": "1sYbdN9oX_ET",
        "colab_type": "code",
        "colab": {}
      },
      "source": [
        "# === Configuration === #\n",
        "%matplotlib inline\n",
        "pd.options.display.max_columns = 100\n",
        "pd.options.display.max_rows = 200"
      ],
      "execution_count": null,
      "outputs": []
    },
    {
      "cell_type": "code",
      "metadata": {
        "id": "BSwNGxeHWpn2",
        "colab_type": "code",
        "colab": {
          "base_uri": "https://localhost:8080/",
          "height": 35
        },
        "outputId": "e226c4b0-4fc3-402e-c519-08056ce14eee"
      },
      "source": [
        "from google.colab import drive\n",
        "drive.mount('/content/drive')"
      ],
      "execution_count": null,
      "outputs": [
        {
          "output_type": "stream",
          "text": [
            "Drive already mounted at /content/drive; to attempt to forcibly remount, call drive.mount(\"/content/drive\", force_remount=True).\n"
          ],
          "name": "stdout"
        }
      ]
    },
    {
      "cell_type": "code",
      "metadata": {
        "id": "ovTuurIETSD3",
        "colab_type": "code",
        "colab": {}
      },
      "source": [
        "# === Set up path to project dir === #\n",
        "PROJECT_DIR = \"/content/drive/My Drive/workshop/buildbox/likewise\""
      ],
      "execution_count": null,
      "outputs": []
    },
    {
      "cell_type": "markdown",
      "metadata": {
        "id": "aC3_huAZX_FD",
        "colab_type": "text"
      },
      "source": [
        "---\n",
        "---\n",
        "\n",
        "## Data\n",
        "\n",
        "> Intro to and explanation of dataset — why this dataset?\n",
        "\n",
        "The dataset used for the LikeWise recommender system is called the [UCSD Book Graph - GoodReads Datasets](https://sites.google.com/eng.ucsd.edu/ucsdbookgraph/home). For this particular model, I'll be using the \"Shelves\" dataset, which has interactions between users and books (ratings).\n",
        "\n",
        "The relevant columns are `user_id`, `book_id`, and `rating`. They are pretty self-explanatory, but just to be explicit, each record indicates a user rating a book that they've (presumably) read and have an opinion on.\n",
        "\n",
        "Speaking of explicit, the fact that the user _explicitly_ rates the books makes this dataset one of explicit preferences."
      ]
    },
    {
      "cell_type": "code",
      "metadata": {
        "id": "qTS3HWinWmNO",
        "colab_type": "code",
        "colab": {
          "base_uri": "https://localhost:8080/",
          "height": 224
        },
        "outputId": "a9149b2e-8120-4379-bcf1-38791a33c9a4"
      },
      "source": [
        "# === Load data from Drive === #\n",
        "data_file = \"interactions_mystery_thriller_crime_1m_sample.csv\"\n",
        "data_path = os.path.join(PROJECT_DIR, \"assets/data\", data_file)\n",
        "interactions = pd.read_csv(data_path)\n",
        "print(interactions.shape)\n",
        "interactions.head()"
      ],
      "execution_count": null,
      "outputs": [
        {
          "output_type": "stream",
          "text": [
            "(1000000, 4)\n"
          ],
          "name": "stdout"
        },
        {
          "output_type": "execute_result",
          "data": {
            "text/html": [
              "<div>\n",
              "<style scoped>\n",
              "    .dataframe tbody tr th:only-of-type {\n",
              "        vertical-align: middle;\n",
              "    }\n",
              "\n",
              "    .dataframe tbody tr th {\n",
              "        vertical-align: top;\n",
              "    }\n",
              "\n",
              "    .dataframe thead th {\n",
              "        text-align: right;\n",
              "    }\n",
              "</style>\n",
              "<table border=\"1\" class=\"dataframe\">\n",
              "  <thead>\n",
              "    <tr style=\"text-align: right;\">\n",
              "      <th></th>\n",
              "      <th>user_id</th>\n",
              "      <th>book_id</th>\n",
              "      <th>is_read</th>\n",
              "      <th>rating</th>\n",
              "    </tr>\n",
              "  </thead>\n",
              "  <tbody>\n",
              "    <tr>\n",
              "      <th>0</th>\n",
              "      <td>8842281e1d1347389f2ab93d60773d4d</td>\n",
              "      <td>6392944</td>\n",
              "      <td>True</td>\n",
              "      <td>3</td>\n",
              "    </tr>\n",
              "    <tr>\n",
              "      <th>1</th>\n",
              "      <td>8842281e1d1347389f2ab93d60773d4d</td>\n",
              "      <td>2279538</td>\n",
              "      <td>False</td>\n",
              "      <td>0</td>\n",
              "    </tr>\n",
              "    <tr>\n",
              "      <th>2</th>\n",
              "      <td>8842281e1d1347389f2ab93d60773d4d</td>\n",
              "      <td>20821043</td>\n",
              "      <td>False</td>\n",
              "      <td>0</td>\n",
              "    </tr>\n",
              "    <tr>\n",
              "      <th>3</th>\n",
              "      <td>8842281e1d1347389f2ab93d60773d4d</td>\n",
              "      <td>31184479</td>\n",
              "      <td>False</td>\n",
              "      <td>0</td>\n",
              "    </tr>\n",
              "    <tr>\n",
              "      <th>4</th>\n",
              "      <td>8842281e1d1347389f2ab93d60773d4d</td>\n",
              "      <td>28684704</td>\n",
              "      <td>True</td>\n",
              "      <td>3</td>\n",
              "    </tr>\n",
              "  </tbody>\n",
              "</table>\n",
              "</div>"
            ],
            "text/plain": [
              "                            user_id   book_id  is_read  rating\n",
              "0  8842281e1d1347389f2ab93d60773d4d   6392944     True       3\n",
              "1  8842281e1d1347389f2ab93d60773d4d   2279538    False       0\n",
              "2  8842281e1d1347389f2ab93d60773d4d  20821043    False       0\n",
              "3  8842281e1d1347389f2ab93d60773d4d  31184479    False       0\n",
              "4  8842281e1d1347389f2ab93d60773d4d  28684704     True       3"
            ]
          },
          "metadata": {
            "tags": []
          },
          "execution_count": 6
        }
      ]
    },
    {
      "cell_type": "code",
      "metadata": {
        "id": "Zpz5G571GJ1t",
        "colab_type": "code",
        "colab": {}
      },
      "source": [
        "# === Convert `book_id` to string === #\n",
        "interactions[\"book_id\"] = interactions[\"book_id\"].astype(\"str\")"
      ],
      "execution_count": null,
      "outputs": []
    },
    {
      "cell_type": "code",
      "metadata": {
        "id": "AqoSHrYRog4o",
        "colab_type": "code",
        "colab": {
          "base_uri": "https://localhost:8080/",
          "height": 109
        },
        "outputId": "2cac829e-5ed7-4ce7-b761-1d03991b9780"
      },
      "source": [
        "# === Data types === #\n",
        "interactions.dtypes"
      ],
      "execution_count": null,
      "outputs": [
        {
          "output_type": "execute_result",
          "data": {
            "text/plain": [
              "user_id    object\n",
              "book_id    object\n",
              "is_read      bool\n",
              "rating      int64\n",
              "dtype: object"
            ]
          },
          "metadata": {
            "tags": []
          },
          "execution_count": 8
        }
      ]
    },
    {
      "cell_type": "code",
      "metadata": {
        "id": "mXMhSf89I6tw",
        "colab_type": "code",
        "colab": {
          "base_uri": "https://localhost:8080/",
          "height": 206
        },
        "outputId": "31b222be-21c7-4459-c4b6-27c19b021350"
      },
      "source": [
        "# === Convert unread \"ratings\" to nulls === #\n",
        "interactions[\"rating\"] = np.where(interactions[\"is_read\"] == False, np.NaN, interactions[\"rating\"])\n",
        "interactions.head()"
      ],
      "execution_count": null,
      "outputs": [
        {
          "output_type": "execute_result",
          "data": {
            "text/html": [
              "<div>\n",
              "<style scoped>\n",
              "    .dataframe tbody tr th:only-of-type {\n",
              "        vertical-align: middle;\n",
              "    }\n",
              "\n",
              "    .dataframe tbody tr th {\n",
              "        vertical-align: top;\n",
              "    }\n",
              "\n",
              "    .dataframe thead th {\n",
              "        text-align: right;\n",
              "    }\n",
              "</style>\n",
              "<table border=\"1\" class=\"dataframe\">\n",
              "  <thead>\n",
              "    <tr style=\"text-align: right;\">\n",
              "      <th></th>\n",
              "      <th>user_id</th>\n",
              "      <th>book_id</th>\n",
              "      <th>is_read</th>\n",
              "      <th>rating</th>\n",
              "    </tr>\n",
              "  </thead>\n",
              "  <tbody>\n",
              "    <tr>\n",
              "      <th>0</th>\n",
              "      <td>8842281e1d1347389f2ab93d60773d4d</td>\n",
              "      <td>6392944</td>\n",
              "      <td>True</td>\n",
              "      <td>3.0</td>\n",
              "    </tr>\n",
              "    <tr>\n",
              "      <th>1</th>\n",
              "      <td>8842281e1d1347389f2ab93d60773d4d</td>\n",
              "      <td>2279538</td>\n",
              "      <td>False</td>\n",
              "      <td>NaN</td>\n",
              "    </tr>\n",
              "    <tr>\n",
              "      <th>2</th>\n",
              "      <td>8842281e1d1347389f2ab93d60773d4d</td>\n",
              "      <td>20821043</td>\n",
              "      <td>False</td>\n",
              "      <td>NaN</td>\n",
              "    </tr>\n",
              "    <tr>\n",
              "      <th>3</th>\n",
              "      <td>8842281e1d1347389f2ab93d60773d4d</td>\n",
              "      <td>31184479</td>\n",
              "      <td>False</td>\n",
              "      <td>NaN</td>\n",
              "    </tr>\n",
              "    <tr>\n",
              "      <th>4</th>\n",
              "      <td>8842281e1d1347389f2ab93d60773d4d</td>\n",
              "      <td>28684704</td>\n",
              "      <td>True</td>\n",
              "      <td>3.0</td>\n",
              "    </tr>\n",
              "  </tbody>\n",
              "</table>\n",
              "</div>"
            ],
            "text/plain": [
              "                            user_id   book_id  is_read  rating\n",
              "0  8842281e1d1347389f2ab93d60773d4d   6392944     True     3.0\n",
              "1  8842281e1d1347389f2ab93d60773d4d   2279538    False     NaN\n",
              "2  8842281e1d1347389f2ab93d60773d4d  20821043    False     NaN\n",
              "3  8842281e1d1347389f2ab93d60773d4d  31184479    False     NaN\n",
              "4  8842281e1d1347389f2ab93d60773d4d  28684704     True     3.0"
            ]
          },
          "metadata": {
            "tags": []
          },
          "execution_count": 10
        }
      ]
    },
    {
      "cell_type": "code",
      "metadata": {
        "id": "u4aeB1DiJ1kC",
        "colab_type": "code",
        "colab": {
          "base_uri": "https://localhost:8080/",
          "height": 109
        },
        "outputId": "878b6755-77b6-4c65-8af9-1bc668adcede"
      },
      "source": [
        "interactions.isnull().sum()"
      ],
      "execution_count": null,
      "outputs": [
        {
          "output_type": "execute_result",
          "data": {
            "text/plain": [
              "user_id         0\n",
              "book_id         0\n",
              "is_read         0\n",
              "rating     477996\n",
              "dtype: int64"
            ]
          },
          "metadata": {
            "tags": []
          },
          "execution_count": 11
        }
      ]
    },
    {
      "cell_type": "code",
      "metadata": {
        "id": "PC_TjcscKLEO",
        "colab_type": "code",
        "colab": {
          "base_uri": "https://localhost:8080/",
          "height": 54
        },
        "outputId": "e18dd093-3f5f-4234-dbf9-45e18489a67f"
      },
      "source": [
        "# === Get dfs of read/unread books === #\n",
        "unread = interactions[interactions[\"is_read\"] == False]\n",
        "print(f\"Number of unread books: {unread.shape[0]}\")\n",
        "\n",
        "read = interactions[interactions[\"is_read\"] == True]\n",
        "print(f\"Number of read books: {read.shape[0]}\")"
      ],
      "execution_count": null,
      "outputs": [
        {
          "output_type": "stream",
          "text": [
            "Number of unread books: 477996\n",
            "Number of read books: 522004\n"
          ],
          "name": "stdout"
        }
      ]
    },
    {
      "cell_type": "markdown",
      "metadata": {
        "id": "bwx3pzPKZhkl",
        "colab_type": "text"
      },
      "source": [
        "---\n",
        "---\n",
        "\n",
        "## Modeling\n",
        "\n",
        "For this model, I'll be using the FastAI collaborative filtering algorithm(s).\n",
        "\n",
        "Resources:\n",
        "\n",
        "* [fastai.collab](https://docs.fast.ai/collab.html)\n",
        "* [movielens recommender example](https://github.com/microsoft/recommenders/blob/master/notebooks/00_quick_start/fastai_movielens.ipynb)"
      ]
    },
    {
      "cell_type": "markdown",
      "metadata": {
        "id": "y6ks0ZgFhc6X",
        "colab_type": "text"
      },
      "source": [
        "### Training"
      ]
    },
    {
      "cell_type": "code",
      "metadata": {
        "id": "Uc-CYJyXX_FM",
        "colab_type": "code",
        "colab": {
          "base_uri": "https://localhost:8080/",
          "height": 128
        },
        "outputId": "438afd67-99da-4c9d-920e-c247fc818f71"
      },
      "source": [
        "# === First, train on rated books only === #\n",
        "rating_range = [0, 5]\n",
        "\n",
        "# Create databunch\n",
        "data = CollabDataBunch.from_df(\n",
        "    read,\n",
        "    user_name=\"user_id\",\n",
        "    item_name=\"book_id\",\n",
        "    rating_name=\"rating\",\n",
        "    valid_pct=0.2,\n",
        "    seed=92\n",
        ")\n",
        "\n",
        "# === Instantiate learner === #\n",
        "learn = collab_learner(data, n_factors=50, y_range=rating_range)\n",
        "learn.model"
      ],
      "execution_count": null,
      "outputs": [
        {
          "output_type": "execute_result",
          "data": {
            "text/plain": [
              "EmbeddingDotBias(\n",
              "  (u_weight): Embedding(16072, 50)\n",
              "  (i_weight): Embedding(69696, 50)\n",
              "  (u_bias): Embedding(16072, 1)\n",
              "  (i_bias): Embedding(69696, 1)\n",
              ")"
            ]
          },
          "metadata": {
            "tags": []
          },
          "execution_count": 13
        }
      ]
    },
    {
      "cell_type": "code",
      "metadata": {
        "id": "AME9RP91V_uQ",
        "colab_type": "code",
        "colab": {
          "base_uri": "https://localhost:8080/",
          "height": 206
        },
        "outputId": "2c9e32df-9ec1-4000-8c4d-0bb15a13a364"
      },
      "source": [
        "data.show_batch()"
      ],
      "execution_count": null,
      "outputs": [
        {
          "output_type": "display_data",
          "data": {
            "text/html": [
              "<table border=\"1\" class=\"dataframe\">\n",
              "  <thead>\n",
              "    <tr style=\"text-align: right;\">\n",
              "      <th>user_id</th>\n",
              "      <th>book_id</th>\n",
              "      <th>target</th>\n",
              "    </tr>\n",
              "  </thead>\n",
              "  <tbody>\n",
              "    <tr>\n",
              "      <td>675e6a96b8104daeaccfeff77424f8a1</td>\n",
              "      <td>10614</td>\n",
              "      <td>2.0</td>\n",
              "    </tr>\n",
              "    <tr>\n",
              "      <td>026b67d613257e8e86d4380132d1050f</td>\n",
              "      <td>24649825</td>\n",
              "      <td>4.0</td>\n",
              "    </tr>\n",
              "    <tr>\n",
              "      <td>ef67b5b7e15169b4312d1de306b94845</td>\n",
              "      <td>16366</td>\n",
              "      <td>5.0</td>\n",
              "    </tr>\n",
              "    <tr>\n",
              "      <td>773c4869ab6fc4306210f06db3a71821</td>\n",
              "      <td>19288043</td>\n",
              "      <td>4.0</td>\n",
              "    </tr>\n",
              "    <tr>\n",
              "      <td>84333f5def09812528f3bf1ed941f1a6</td>\n",
              "      <td>66508</td>\n",
              "      <td>3.0</td>\n",
              "    </tr>\n",
              "  </tbody>\n",
              "</table>"
            ],
            "text/plain": [
              "<IPython.core.display.HTML object>"
            ]
          },
          "metadata": {
            "tags": []
          }
        }
      ]
    },
    {
      "cell_type": "code",
      "metadata": {
        "id": "oJ0Jpl6cak9T",
        "colab_type": "code",
        "colab": {
          "base_uri": "https://localhost:8080/",
          "height": 143
        },
        "outputId": "84d05e1a-1f17-4c97-e6fd-42d4f20ce7d4"
      },
      "source": [
        "# === Train! === #\n",
        "learn.fit_one_cycle(3, 5e-3)"
      ],
      "execution_count": null,
      "outputs": [
        {
          "output_type": "display_data",
          "data": {
            "text/html": [
              "<table border=\"1\" class=\"dataframe\">\n",
              "  <thead>\n",
              "    <tr style=\"text-align: left;\">\n",
              "      <th>epoch</th>\n",
              "      <th>train_loss</th>\n",
              "      <th>valid_loss</th>\n",
              "      <th>time</th>\n",
              "    </tr>\n",
              "  </thead>\n",
              "  <tbody>\n",
              "    <tr>\n",
              "      <td>0</td>\n",
              "      <td>1.404012</td>\n",
              "      <td>1.409553</td>\n",
              "      <td>08:58</td>\n",
              "    </tr>\n",
              "    <tr>\n",
              "      <td>1</td>\n",
              "      <td>1.078573</td>\n",
              "      <td>1.337938</td>\n",
              "      <td>13:50</td>\n",
              "    </tr>\n",
              "    <tr>\n",
              "      <td>2</td>\n",
              "      <td>0.681099</td>\n",
              "      <td>1.339044</td>\n",
              "      <td>12:51</td>\n",
              "    </tr>\n",
              "  </tbody>\n",
              "</table>"
            ],
            "text/plain": [
              "<IPython.core.display.HTML object>"
            ]
          },
          "metadata": {
            "tags": []
          }
        }
      ]
    },
    {
      "cell_type": "code",
      "metadata": {
        "id": "Sh5WErztatz1",
        "colab_type": "code",
        "colab": {}
      },
      "source": [
        "# === Export trained model === #\n",
        "data_file = \"01_likewise.pkl\"\n",
        "data_path = os.path.join(PROJECT_DIR, \"assets/models\", data_file)\n",
        "learn.export(data_path)"
      ],
      "execution_count": null,
      "outputs": []
    },
    {
      "cell_type": "markdown",
      "metadata": {
        "id": "RRWxc3UuYJb4",
        "colab_type": "text"
      },
      "source": [
        "---\n",
        "\n",
        "### Generate Recommendations"
      ]
    },
    {
      "cell_type": "code",
      "metadata": {
        "id": "X1t43KinX_01",
        "colab_type": "code",
        "colab": {}
      },
      "source": [
        "# === Import the model from file === #\n",
        "learner = load_learner(\n",
        "    path=os.path.join(PROJECT_DIR, \"assets/models\"),\n",
        "    file=\"01_likewise.pkl\",\n",
        ")"
      ],
      "execution_count": null,
      "outputs": []
    },
    {
      "cell_type": "code",
      "metadata": {
        "id": "hEPV2i4bYkmT",
        "colab_type": "code",
        "colab": {
          "base_uri": "https://localhost:8080/",
          "height": 35
        },
        "outputId": "94707bca-7a53-42c4-e6ae-ba592a1994c3"
      },
      "source": [
        "# === Get all users and items that the model knows === #\n",
        "total_users, total_items = learner.data.train_ds.x.classes.values()\n",
        "total_items = total_items[1:]\n",
        "total_users = total_users[1:]\n",
        "\n",
        "print(total_users.shape, total_items.shape)"
      ],
      "execution_count": null,
      "outputs": [
        {
          "output_type": "stream",
          "text": [
            "(16071,) (69695,)\n"
          ],
          "name": "stdout"
        }
      ]
    },
    {
      "cell_type": "code",
      "metadata": {
        "id": "vQKSFis3gsc6",
        "colab_type": "code",
        "colab": {
          "base_uri": "https://localhost:8080/",
          "height": 91
        },
        "outputId": "c9faecd3-dec9-44c3-a9a1-d3accefcc0d5"
      },
      "source": [
        "# === Map ids to embedding ids === #\n",
        "u = learner.get_idx(unread[\"user_id\"], is_item=False)\n",
        "m = learner.get_idx(unread[\"book_id\"], is_item=True)"
      ],
      "execution_count": null,
      "outputs": [
        {
          "output_type": "stream",
          "text": [
            "You're trying to access a user that isn't in the training data.\n",
            "                  If it was in your original data, it may have been split such that it's only in the validation set now.\n",
            "You're trying to access an item that isn't in the training data.\n",
            "                  If it was in your original data, it may have been split such that it's only in the validation set now.\n"
          ],
          "name": "stdout"
        }
      ]
    },
    {
      "cell_type": "code",
      "metadata": {
        "id": "59dJ3PS0hYAH",
        "colab_type": "code",
        "colab": {}
      },
      "source": [
        "# === Create predictions === #\n",
        "pred = learner.model.forward(u, m)"
      ],
      "execution_count": null,
      "outputs": []
    },
    {
      "cell_type": "code",
      "metadata": {
        "id": "Fh9aZQOPZXdM",
        "colab_type": "code",
        "colab": {}
      },
      "source": [
        "# Get all users from the test set and remove any users\n",
        "# that were know in the training set\n",
        "\n",
        "test_users = test_df[USER].unique()\n",
        "test_users = np.intersect1d(test_users, total_users)"
      ],
      "execution_count": null,
      "outputs": []
    },
    {
      "cell_type": "code",
      "metadata": {
        "id": "DdWW90MAaIrb",
        "colab_type": "code",
        "colab": {}
      },
      "source": [
        "# === Cartesian product === #\n",
        "from itertools import product\n",
        "\n",
        "users_items = product(np.array(total_users), np.array(total_items))\n",
        "users_items = pd.DataFrame(users_items, columns=[\"user_id\", \"book_id\"])"
      ],
      "execution_count": null,
      "outputs": []
    },
    {
      "cell_type": "code",
      "metadata": {
        "id": "a2E8C04LaSUr",
        "colab_type": "code",
        "colab": {
          "base_uri": "https://localhost:8080/",
          "height": 424
        },
        "outputId": "2bddaaca-444f-47d4-b457-5c0fae3769fe"
      },
      "source": [
        "users_items"
      ],
      "execution_count": null,
      "outputs": [
        {
          "output_type": "execute_result",
          "data": {
            "text/html": [
              "<div>\n",
              "<style scoped>\n",
              "    .dataframe tbody tr th:only-of-type {\n",
              "        vertical-align: middle;\n",
              "    }\n",
              "\n",
              "    .dataframe tbody tr th {\n",
              "        vertical-align: top;\n",
              "    }\n",
              "\n",
              "    .dataframe thead th {\n",
              "        text-align: right;\n",
              "    }\n",
              "</style>\n",
              "<table border=\"1\" class=\"dataframe\">\n",
              "  <thead>\n",
              "    <tr style=\"text-align: right;\">\n",
              "      <th></th>\n",
              "      <th>user_id</th>\n",
              "      <th>book_id</th>\n",
              "    </tr>\n",
              "  </thead>\n",
              "  <tbody>\n",
              "    <tr>\n",
              "      <th>0</th>\n",
              "      <td>1</td>\n",
              "      <td>1</td>\n",
              "    </tr>\n",
              "    <tr>\n",
              "      <th>1</th>\n",
              "      <td>1</td>\n",
              "      <td>10</td>\n",
              "    </tr>\n",
              "    <tr>\n",
              "      <th>2</th>\n",
              "      <td>1</td>\n",
              "      <td>100</td>\n",
              "    </tr>\n",
              "    <tr>\n",
              "      <th>3</th>\n",
              "      <td>1</td>\n",
              "      <td>1000</td>\n",
              "    </tr>\n",
              "    <tr>\n",
              "      <th>4</th>\n",
              "      <td>1</td>\n",
              "      <td>10001</td>\n",
              "    </tr>\n",
              "    <tr>\n",
              "      <th>...</th>\n",
              "      <td>...</td>\n",
              "      <td>...</td>\n",
              "    </tr>\n",
              "    <tr>\n",
              "      <th>25687020</th>\n",
              "      <td>999</td>\n",
              "      <td>9990</td>\n",
              "    </tr>\n",
              "    <tr>\n",
              "      <th>25687021</th>\n",
              "      <td>999</td>\n",
              "      <td>9992</td>\n",
              "    </tr>\n",
              "    <tr>\n",
              "      <th>25687022</th>\n",
              "      <td>999</td>\n",
              "      <td>9993</td>\n",
              "    </tr>\n",
              "    <tr>\n",
              "      <th>25687023</th>\n",
              "      <td>999</td>\n",
              "      <td>9996</td>\n",
              "    </tr>\n",
              "    <tr>\n",
              "      <th>25687024</th>\n",
              "      <td>999</td>\n",
              "      <td>9997</td>\n",
              "    </tr>\n",
              "  </tbody>\n",
              "</table>\n",
              "<p>25687025 rows × 2 columns</p>\n",
              "</div>"
            ],
            "text/plain": [
              "         user_id book_id\n",
              "0              1       1\n",
              "1              1      10\n",
              "2              1     100\n",
              "3              1    1000\n",
              "4              1   10001\n",
              "...          ...     ...\n",
              "25687020     999    9990\n",
              "25687021     999    9992\n",
              "25687022     999    9993\n",
              "25687023     999    9996\n",
              "25687024     999    9997\n",
              "\n",
              "[25687025 rows x 2 columns]"
            ]
          },
          "metadata": {
            "tags": []
          },
          "execution_count": 68
        }
      ]
    },
    {
      "cell_type": "markdown",
      "metadata": {
        "id": "ROkKGlT6bqi1",
        "colab_type": "text"
      },
      "source": [
        "My search for how to generate recommendations led me to looking at the [`score` function](https://github.com/microsoft/recommenders/blob/master/reco_utils/recommender/fastai/fastai_utils.py) in the reco_utils module, which is used in one of the notebooks I'm referencing [here](https://github.com/microsoft/recommenders/blob/master/notebooks/00_quick_start/fastai_movielens.ipynb).\n",
        "\n",
        "I copied the `score` function into the cell below to try and use some of it to write my own recommendation function."
      ]
    },
    {
      "cell_type": "code",
      "metadata": {
        "id": "AfYiSNyBawMO",
        "colab_type": "code",
        "colab": {}
      },
      "source": [
        "def score(\n",
        "    learner,\n",
        "    test_df,\n",
        "    user_col=cc.DEFAULT_USER_COL,\n",
        "    item_col=cc.DEFAULT_ITEM_COL,\n",
        "    prediction_col=cc.DEFAULT_PREDICTION_COL,\n",
        "    top_k=None,\n",
        "):\n",
        "    \"\"\"Score all users+items provided and reduce to top_k items per user if top_k>0\n",
        "    \n",
        "    Args:\n",
        "        learner (obj): Model.\n",
        "        test_df (pd.DataFrame): Test dataframe.\n",
        "        user_col (str): User column name.\n",
        "        item_col (str): Item column name.\n",
        "        prediction_col (str): Prediction column name.\n",
        "        top_k (int): Number of top items to recommend.\n",
        "    Returns:\n",
        "        pd.DataFrame: Result of recommendation \n",
        "    \"\"\"\n",
        "    # replace values not known to the model with NaN\n",
        "    total_users, total_items = learner.data.train_ds.x.classes.values()\n",
        "    test_df.loc[~test_df[user_col].isin(total_users), user_col] = np.nan\n",
        "    test_df.loc[~test_df[item_col].isin(total_items), item_col] = np.nan\n",
        "\n",
        "    # map ids to embedding ids\n",
        "    u = learner.get_idx(test_df[user_col], is_item=False)\n",
        "    m = learner.get_idx(test_df[item_col], is_item=True)\n",
        "\n",
        "    # score the pytorch model\n",
        "    pred = learner.model.forward(u, m)\n",
        "    scores = pd.DataFrame(\n",
        "        {user_col: test_df[user_col], item_col: test_df[item_col], prediction_col: pred}\n",
        "    )\n",
        "    scores = scores.sort_values([user_col, prediction_col], ascending=[True, False])\n",
        "    if top_k is not None:\n",
        "        top_scores = scores.groupby(user_col).head(top_k).reset_index(drop=True)\n",
        "    else:\n",
        "        top_scores = scores\n",
        "    return top_scores"
      ],
      "execution_count": null,
      "outputs": []
    }
  ]
}