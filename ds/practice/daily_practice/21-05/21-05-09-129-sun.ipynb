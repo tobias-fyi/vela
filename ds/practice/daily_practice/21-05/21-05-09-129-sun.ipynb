{
 "cells": [
  {
   "cell_type": "markdown",
   "id": "crude-cinema",
   "metadata": {},
   "source": [
    "# 2021-05-09 Daily Practice\n",
    "\n",
    "- [x] Practice\n",
    "  - [ ] SQL\n",
    "  - [x] Algorithms\n",
    "  - [ ] Solve + Design\n",
    "- [ ] Learn\n",
    "- [ ] Write\n",
    "- [ ] Build"
   ]
  },
  {
   "cell_type": "markdown",
   "id": "future-disabled",
   "metadata": {},
   "source": [
    "---\n",
    "\n",
    "## Practice\n",
    "\n",
    "Today, I'm going to start digging into the various types of algorithms / algorithmic solutions and where they should be applied. Thus, I can hopefully build a good framework for how to attack an algorithms + data structures problem, regardless of difficulty."
   ]
  },
  {
   "cell_type": "markdown",
   "id": "adjustable-holmes",
   "metadata": {},
   "source": [
    "### Common Algorithmic Structures\n",
    "\n",
    "- Permutations\n",
    "- Subsets\n",
    "- Trees\n",
    "- Graphs\n",
    "- Points\n",
    "- Polygons\n",
    "- Strings\n",
    "\n",
    "#### Permutations\n",
    "\n"
   ]
  },
  {
   "cell_type": "markdown",
   "id": "exciting-commission",
   "metadata": {},
   "source": [
    "### Longest Substring\n",
    "\n",
    "On [LeetCode](https://leetcode.com/problems/longest-substring-without-repeating-characters/)\n",
    "\n",
    "Given a string s, find the length of the longest substring without repeating characters.\n",
    "\n",
    "Example 1:\n",
    "\n",
    "    Input: s = \"abcabcbb\"\n",
    "    Output: 3\n",
    "    Explanation: The answer is \"abc\", with the length of 3.\n",
    "\n",
    "Example 2:\n",
    "\n",
    "    Input: s = \"bbbbb\"\n",
    "    Output: 1\n",
    "    Explanation: The answer is \"b\", with the length of 1.\n",
    "\n",
    "Example 3:\n",
    "\n",
    "    Input: s = \"pwwkew\"\n",
    "    Output: 3\n",
    "    Explanation: The answer is \"wke\", with the length of 3.\n",
    "    Notice that the answer must be a substring, \"pwke\" is a subsequence and not a substring.\n",
    "\n",
    "Example 4:\n",
    "\n",
    "    Input: s = \"\"\n",
    "    Output: 0\n"
   ]
  },
  {
   "cell_type": "code",
   "execution_count": 7,
   "id": "domestic-thirty",
   "metadata": {},
   "outputs": [
    {
     "name": "stdout",
     "output_type": "stream",
     "text": [
      "a\n",
      "b\n",
      "c\n",
      "a\n",
      "b\n",
      "b\n",
      "c\n",
      "a\n",
      "b\n",
      "c\n",
      "a\n",
      "b\n",
      "a\n",
      "b\n",
      "b\n"
     ]
    }
   ],
   "source": [
    "ex = \"abcab\"\n",
    "\n",
    "for i, s in enumerate(ex):\n",
    "    print(s)\n",
    "    for j, p in enumerate(ex[i+1:]):\n",
    "        print(p)"
   ]
  },
  {
   "cell_type": "code",
   "execution_count": 19,
   "id": "worldwide-essence",
   "metadata": {},
   "outputs": [],
   "source": [
    "def lengthOfLongestSubstring(s: str) -> int:\n",
    "    longest = 0\n",
    "    for i, char in enumerate(s):\n",
    "        counter = 0\n",
    "        for j, char2 in enumerate(s[i+1:]):\n",
    "            counter += 1\n",
    "            if char2 == char:\n",
    "                break\n",
    "        if counter > longest:\n",
    "            longest = counter\n",
    "    return longest"
   ]
  },
  {
   "cell_type": "code",
   "execution_count": 18,
   "id": "other-cabinet",
   "metadata": {},
   "outputs": [
    {
     "name": "stdout",
     "output_type": "stream",
     "text": [
      "3\n",
      "3\n",
      "3\n",
      "4\n",
      "2\n",
      "2\n",
      "1\n",
      "0\n"
     ]
    },
    {
     "data": {
      "text/plain": [
       "4"
      ]
     },
     "execution_count": 18,
     "metadata": {},
     "output_type": "execute_result"
    }
   ],
   "source": [
    "s = \"abcabcbb\"\n",
    "lengthOfLongestSubstring(s)"
   ]
  },
  {
   "cell_type": "markdown",
   "id": "painful-manitoba",
   "metadata": {},
   "source": [
    "This initial implementation doesn't work because it doesn't take into account the case when the outer loop's character is not the one repeating, such as the second instance of 'a'."
   ]
  },
  {
   "cell_type": "code",
   "execution_count": null,
   "id": "technological-mention",
   "metadata": {},
   "outputs": [],
   "source": []
  },
  {
   "cell_type": "code",
   "execution_count": null,
   "id": "environmental-antibody",
   "metadata": {},
   "outputs": [],
   "source": []
  },
  {
   "cell_type": "code",
   "execution_count": null,
   "id": "demonstrated-uncertainty",
   "metadata": {},
   "outputs": [],
   "source": []
  },
  {
   "cell_type": "code",
   "execution_count": null,
   "id": "distributed-webcam",
   "metadata": {},
   "outputs": [],
   "source": []
  },
  {
   "cell_type": "code",
   "execution_count": null,
   "id": "backed-rings",
   "metadata": {},
   "outputs": [],
   "source": []
  },
  {
   "cell_type": "code",
   "execution_count": null,
   "id": "comfortable-republican",
   "metadata": {},
   "outputs": [],
   "source": []
  }
 ],
 "metadata": {
  "kernelspec": {
   "display_name": "Python 3.7.6 64-bit ('vela': pipenv)",
   "language": "python",
   "name": "python37664bitvelapipenvde09592071074af6a70ce3b1ce38af95"
  },
  "language_info": {
   "codemirror_mode": {
    "name": "ipython",
    "version": 3
   },
   "file_extension": ".py",
   "mimetype": "text/x-python",
   "name": "python",
   "nbconvert_exporter": "python",
   "pygments_lexer": "ipython3",
   "version": "3.7.6"
  }
 },
 "nbformat": 4,
 "nbformat_minor": 5
}
