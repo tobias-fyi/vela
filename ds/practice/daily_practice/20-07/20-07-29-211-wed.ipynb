{
 "cells": [
  {
   "cell_type": "markdown",
   "metadata": {},
   "source": [
    "# 20-07-29: Daily Practice"
   ]
  },
  {
   "cell_type": "markdown",
   "metadata": {},
   "source": [
    "---\n",
    "---\n",
    "\n",
    "## Daily practices\n",
    "\n",
    "* [ ] [Job Search](#2-Hour-Job-Search)\n",
    "  * [ ] LAMP List\n",
    "  * [ ] Network\n",
    "  * [ ] Social media\n",
    "  * [ ] Job applications\n",
    "* [ ] [Meta-data: read & write](#Meta-data:-reading-&-writing)\n",
    "* [ ] [Practice & learn](#Practice-&-learn)\n",
    "  * [ ] Coding, algorithms & data structures\n",
    "  * [ ] Data science: access, manipulation, analysis, visualization\n",
    "  * [ ] Engineering: SQL, PySpark, APIs, TDD, OOP\n",
    "  * [ ] Machine learning: Scikit-learn, TensorFlow, PyTorch\n",
    "  * [ ] Interview questions (out loud)\n",
    "    * STAR storytelling"
   ]
  },
  {
   "cell_type": "markdown",
   "metadata": {},
   "source": [
    "---\n",
    "---\n",
    "\n",
    "## 2-Hour Job Search"
   ]
  },
  {
   "cell_type": "markdown",
   "metadata": {},
   "source": [
    "### Job App/Cover Letter\n",
    "\n",
    "Met and discussed with and/or got feedback from a couple of people on the cover letter I wrote yesterday. I want one more to look at it before sending it off this afternoon."
   ]
  },
  {
   "cell_type": "markdown",
   "metadata": {},
   "source": [
    "### Informational\n",
    "\n",
    "Had a great informational interview/conversation that helped me solidify my strategy and increase my network (and optimism)."
   ]
  },
  {
   "cell_type": "markdown",
   "metadata": {},
   "source": [
    "### Executive Summary\n",
    "\n",
    "Decided to work on updating the executive summary on my resume.\n",
    "\n",
    "#### v2.1.0\n",
    "\n",
    "Collaborative yet independent software engineer with a BS in Economics, a fascination for data, science, and technology, and a relentless drive to iterate and learn. Dedicated to creating value using software, data, and a wide range of technical, intellectual, and interpersonal expertise gained from a lifetime of curiousity and years of experience designing, developing, and deploying complex software systems, from large-scale manufacturing ERP to Python web apps, APIs, and machine learning models.\n",
    "\n",
    "#### v2.1.1\n",
    "\n",
    "Collaborative yet independent software engineer with a BS in Economics and a relentless drive to iterate and learn. Dedicated to creating value using software, data, and a wide range of technical, intellectual, and interpersonal expertise gained from a lifetime of curiousity and years of experience designing, developing, and deploying complex software systems, from large-scale manufacturing ERP to Python web apps, APIs, and machine learning models.\n",
    "\n",
    "#### v2.1.2\n",
    "\n",
    "Collaborative yet independent software engineer with a BS in Economics and a relentless drive to iterate and learn. Dedicated to creating value using software, data, and a wide range of technical, intellectual, and interpersonal expertise gained from a lifetime of curiousity and years of experience working intimately with complex software systems, from large-scale manufacturing ERP to Python web apps, APIs, and machine learning models.\n",
    "\n",
    "#### v2.1.2\n",
    "\n",
    "Collaborative yet independent software engineer with a BS in Economics and a relentless drive to iterate and learn. Dedicated to creating value using software, data, and a wide range of technical, intellectual, and interpersonal expertise gained from a lifetime of curiousity and years of experience working intimately with complex software systems, from manufacturing ERP to web apps, APIs, and machine learning models.\n",
    "\n",
    "That last one is great for now!"
   ]
  },
  {
   "cell_type": "markdown",
   "metadata": {},
   "source": [
    "---\n",
    "---\n",
    "\n",
    "## Meta-data: read & write"
   ]
  },
  {
   "cell_type": "markdown",
   "metadata": {},
   "source": [
    "### Blog\n",
    "\n",
    "Spent some time updating/editing/polishing the Trash Panda article in preparation for posting it to my social media accounts. I also took the opportunity to finish up the final few cells and conclusion of the Automated Image BG Removal blog post, which is linked to in the Trash Panda article."
   ]
  },
  {
   "cell_type": "markdown",
   "metadata": {},
   "source": []
  },
  {
   "cell_type": "markdown",
   "metadata": {},
   "source": [
    "---\n",
    "---\n",
    "\n",
    "## Practice & learn"
   ]
  },
  {
   "cell_type": "markdown",
   "metadata": {},
   "source": [
    "---\n",
    "\n",
    "### Coding, algorithms & data structures"
   ]
  },
  {
   "cell_type": "code",
   "execution_count": null,
   "metadata": {},
   "outputs": [],
   "source": []
  },
  {
   "cell_type": "markdown",
   "metadata": {},
   "source": [
    "---\n",
    "\n",
    "### Interview questions"
   ]
  },
  {
   "cell_type": "markdown",
   "metadata": {},
   "source": [
    "Reviewed one of the recordings from my practice interviews last week, taking notes on the questions, my answers, our discussions, and my demeanor / general energy."
   ]
  },
  {
   "cell_type": "markdown",
   "metadata": {},
   "source": [
    "---\n",
    "\n",
    "### Data science"
   ]
  },
  {
   "cell_type": "code",
   "execution_count": null,
   "metadata": {},
   "outputs": [],
   "source": []
  },
  {
   "cell_type": "markdown",
   "metadata": {},
   "source": [
    "---\n",
    "\n",
    "### Engineering"
   ]
  },
  {
   "cell_type": "markdown",
   "metadata": {},
   "source": [
    "Helped troubleshoot a bug in a Django app my friend is working on."
   ]
  },
  {
   "cell_type": "markdown",
   "metadata": {},
   "source": []
  },
  {
   "cell_type": "code",
   "execution_count": null,
   "metadata": {},
   "outputs": [],
   "source": []
  },
  {
   "cell_type": "markdown",
   "metadata": {},
   "source": [
    "---\n",
    "\n",
    "### Machine learning"
   ]
  },
  {
   "cell_type": "code",
   "execution_count": null,
   "metadata": {},
   "outputs": [],
   "source": []
  },
  {
   "cell_type": "markdown",
   "metadata": {},
   "source": []
  },
  {
   "cell_type": "markdown",
   "metadata": {},
   "source": []
  },
  {
   "cell_type": "markdown",
   "metadata": {},
   "source": []
  },
  {
   "cell_type": "markdown",
   "metadata": {},
   "source": []
  }
 ],
 "metadata": {
  "kernelspec": {
   "display_name": "Python 3.7.6 64-bit ('vela': pipenv)",
   "language": "python",
   "name": "python37664bitvelapipenvde09592071074af6a70ce3b1ce38af95"
  },
  "language_info": {
   "codemirror_mode": {
    "name": "ipython",
    "version": 3
   },
   "file_extension": ".py",
   "mimetype": "text/x-python",
   "name": "python",
   "nbconvert_exporter": "python",
   "pygments_lexer": "ipython3",
   "version": "3.7.6"
  }
 },
 "nbformat": 4,
 "nbformat_minor": 4
}
