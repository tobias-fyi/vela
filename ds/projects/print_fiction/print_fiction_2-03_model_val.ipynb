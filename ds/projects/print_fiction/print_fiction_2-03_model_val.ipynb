{
 "cells": [
  {
   "cell_type": "markdown",
   "metadata": {
    "colab_type": "text",
    "id": "6K-Ijmo7VceT"
   },
   "source": [
    "# 👽👾 `print(fiction)` 📚🛸\n",
    "\n",
    "> #### A data science project by _Tobias Reaper_\n",
    "\n",
    "#### 📓 Notebook 3: Modeling 🧠"
   ]
  },
  {
   "cell_type": "markdown",
   "metadata": {
    "colab_type": "text",
    "id": "_K7zk62hIT4-"
   },
   "source": [
    "---\n",
    "\n",
    "### Notebook Outline\n",
    "\n",
    "[explanation of this notebook in context of project]\n",
    "\n",
    "* Intro\n",
    "* Imports and Configuration"
   ]
  },
  {
   "cell_type": "markdown",
   "metadata": {},
   "source": [
    "---\n",
    "\n",
    "## Introduction\n",
    "\n",
    "`print(fiction)` is a solo project I worked on to explore the data on and around stories—specifically, the stories contained in print books.\n",
    "\n",
    "I used Scrapy to scrape metadata for over 20,000 books from GoodReads and used it to train a gradient-boosted random forest classifier. The final version of the model classified books as either fiction or nonfiction with 88% accuracy.\n",
    "\n",
    "The dataset is freely available for download from GitHub or Kaggle (link to come).\n",
    "I built an interactive dashboard using Plotly Dash that can be used to tinker with the model parameters and view the resulting prediction in real time.\n",
    "\n",
    "You can find the current live version of the app here: [print(fiction)](http://print-fiction.herokuapp.com/)\n",
    "\n",
    "The notebooks detailing the entire process of data gathering, wrangling, modeling, and deployment, can be found here: [print(fiction) notebooks](https://github.com/tobias-fyi/print-fiction/tree/master/notebooks)"
   ]
  },
  {
   "cell_type": "markdown",
   "metadata": {
    "colab_type": "text",
    "id": "NCMU9Y5DVvT5"
   },
   "source": [
    "---\n",
    "\n",
    "### Imports and Configuration\n",
    "\n",
    "⚙️📥 "
   ]
  },
  {
   "cell_type": "code",
   "execution_count": 1,
   "metadata": {
    "colab": {
     "base_uri": "https://localhost:8080/",
     "height": 74
    },
    "colab_type": "code",
    "id": "cOS1Wyo0VZQM",
    "outputId": "c8cf3f18-b0e1-4cf3-e6eb-8fda07f48def"
   },
   "outputs": [],
   "source": [
    "# === General Imports === #\n",
    "import pandas as pd\n",
    "import numpy as np\n",
    "import matplotlib.pyplot as plt\n",
    "import seaborn as sns\n",
    "\n",
    "from scipy.stats import randint, uniform"
   ]
  },
  {
   "cell_type": "code",
   "execution_count": 2,
   "metadata": {
    "colab": {},
    "colab_type": "code",
    "id": "sgtmOkO6IT5Q"
   },
   "outputs": [],
   "source": [
    "# === Configure === #\n",
    "%matplotlib inline\n",
    "pd.options.display.max_rows = 200\n",
    "pd.options.display.max_columns = 200"
   ]
  },
  {
   "cell_type": "code",
   "execution_count": 3,
   "metadata": {
    "colab": {},
    "colab_type": "code",
    "id": "gGwq5WRwI6ty"
   },
   "outputs": [],
   "source": [
    "%%capture\n",
    "!pip install category-encoders\n",
    "!pip install eli5"
   ]
  },
  {
   "cell_type": "code",
   "execution_count": 4,
   "metadata": {
    "colab": {
     "base_uri": "https://localhost:8080/",
     "height": 129
    },
    "colab_type": "code",
    "id": "f01v7xNdIT5W",
    "outputId": "c8c09332-0f42-488e-ca0f-0f601510be12"
   },
   "outputs": [
    {
     "name": "stderr",
     "output_type": "stream",
     "text": [
      "/Users/Tobias/.vega/vela-_qIiF1eP/lib/python3.7/site-packages/sklearn/utils/deprecation.py:143: FutureWarning: The sklearn.metrics.scorer module is  deprecated in version 0.22 and will be removed in version 0.24. The corresponding classes / functions should instead be imported from sklearn.metrics. Anything that cannot be imported from sklearn.metrics is now part of the private API.\n",
      "  warnings.warn(message, FutureWarning)\n",
      "/Users/Tobias/.vega/vela-_qIiF1eP/lib/python3.7/site-packages/sklearn/utils/deprecation.py:143: FutureWarning: The sklearn.feature_selection.base module is  deprecated in version 0.22 and will be removed in version 0.24. The corresponding classes / functions should instead be imported from sklearn.feature_selection. Anything that cannot be imported from sklearn.feature_selection is now part of the private API.\n",
      "  warnings.warn(message, FutureWarning)\n"
     ]
    }
   ],
   "source": [
    "# === ML Imports === #\n",
    "\n",
    "# Preprocessing\n",
    "import category_encoders as ce\n",
    "from sklearn.preprocessing import StandardScaler\n",
    "from sklearn.experimental import enable_iterative_imputer\n",
    "from sklearn.impute import SimpleImputer, IterativeImputer\n",
    "\n",
    "# Model validation\n",
    "from sklearn.model_selection import train_test_split, cross_val_score, RandomizedSearchCV\n",
    "from sklearn.pipeline import make_pipeline, Pipeline\n",
    "from sklearn.metrics import confusion_matrix, accuracy_score, f1_score, classification_report\n",
    "\n",
    "# Models\n",
    "from sklearn.linear_model import LogisticRegression\n",
    "from sklearn.ensemble import RandomForestClassifier\n",
    "from sklearn.neighbors import KNeighborsClassifier\n",
    "\n",
    "# Interpretations\n",
    "import eli5\n",
    "from eli5.sklearn import PermutationImportance"
   ]
  },
  {
   "cell_type": "markdown",
   "metadata": {
    "colab_type": "text",
    "id": "yInEDKOEIT5c"
   },
   "source": [
    "---\n",
    "\n",
    "## 📈 Load Data"
   ]
  },
  {
   "cell_type": "code",
   "execution_count": 5,
   "metadata": {
    "colab": {
     "base_uri": "https://localhost:8080/",
     "height": 321
    },
    "colab_type": "code",
    "id": "ndvQA9x5WtnB",
    "outputId": "c3f6ca83-af13-4502-dcb7-cf71cdcfffa9"
   },
   "outputs": [
    {
     "name": "stdout",
     "output_type": "stream",
     "text": [
      "(18344, 18)\n"
     ]
    },
    {
     "data": {
      "text/html": [
       "<div>\n",
       "<style scoped>\n",
       "    .dataframe tbody tr th:only-of-type {\n",
       "        vertical-align: middle;\n",
       "    }\n",
       "\n",
       "    .dataframe tbody tr th {\n",
       "        vertical-align: top;\n",
       "    }\n",
       "\n",
       "    .dataframe thead th {\n",
       "        text-align: right;\n",
       "    }\n",
       "</style>\n",
       "<table border=\"1\" class=\"dataframe\">\n",
       "  <thead>\n",
       "    <tr style=\"text-align: right;\">\n",
       "      <th></th>\n",
       "      <th>title</th>\n",
       "      <th>author</th>\n",
       "      <th>num_ratings</th>\n",
       "      <th>num_reviews</th>\n",
       "      <th>avg_rating</th>\n",
       "      <th>num_pages</th>\n",
       "      <th>language</th>\n",
       "      <th>series</th>\n",
       "      <th>1_rating_count</th>\n",
       "      <th>2_rating_count</th>\n",
       "      <th>3_rating_count</th>\n",
       "      <th>4_rating_count</th>\n",
       "      <th>5_rating_count</th>\n",
       "      <th>publish_year</th>\n",
       "      <th>publish_month</th>\n",
       "      <th>publish_day</th>\n",
       "      <th>fiction</th>\n",
       "      <th>republish</th>\n",
       "    </tr>\n",
       "  </thead>\n",
       "  <tbody>\n",
       "    <tr>\n",
       "      <th>0</th>\n",
       "      <td>The Book of Mormon: Another Testament of Jesus...</td>\n",
       "      <td>Anonymous</td>\n",
       "      <td>71355.0</td>\n",
       "      <td>5704.0</td>\n",
       "      <td>4.37</td>\n",
       "      <td>531.0</td>\n",
       "      <td>English</td>\n",
       "      <td>0</td>\n",
       "      <td>7520.0</td>\n",
       "      <td>2697.0</td>\n",
       "      <td>2521.0</td>\n",
       "      <td>1963.0</td>\n",
       "      <td>56654.0</td>\n",
       "      <td>2013.0</td>\n",
       "      <td>10.0</td>\n",
       "      <td>22.0</td>\n",
       "      <td>0</td>\n",
       "      <td>1</td>\n",
       "    </tr>\n",
       "    <tr>\n",
       "      <th>1</th>\n",
       "      <td>The Prince</td>\n",
       "      <td>Niccolò Machiavelli</td>\n",
       "      <td>229715.0</td>\n",
       "      <td>7261.0</td>\n",
       "      <td>3.81</td>\n",
       "      <td>140.0</td>\n",
       "      <td>English</td>\n",
       "      <td>0</td>\n",
       "      <td>5254.0</td>\n",
       "      <td>16827.0</td>\n",
       "      <td>61182.0</td>\n",
       "      <td>80221.0</td>\n",
       "      <td>66231.0</td>\n",
       "      <td>2003.0</td>\n",
       "      <td>6.0</td>\n",
       "      <td>1.0</td>\n",
       "      <td>0</td>\n",
       "      <td>1</td>\n",
       "    </tr>\n",
       "    <tr>\n",
       "      <th>2</th>\n",
       "      <td>The Foundation Trilogy</td>\n",
       "      <td>Isaac Asimov</td>\n",
       "      <td>83933.0</td>\n",
       "      <td>1331.0</td>\n",
       "      <td>4.40</td>\n",
       "      <td>679.0</td>\n",
       "      <td>English</td>\n",
       "      <td>1</td>\n",
       "      <td>477.0</td>\n",
       "      <td>1521.0</td>\n",
       "      <td>9016.0</td>\n",
       "      <td>25447.0</td>\n",
       "      <td>47472.0</td>\n",
       "      <td>1974.0</td>\n",
       "      <td>1.0</td>\n",
       "      <td>1.0</td>\n",
       "      <td>1</td>\n",
       "      <td>1</td>\n",
       "    </tr>\n",
       "  </tbody>\n",
       "</table>\n",
       "</div>"
      ],
      "text/plain": [
       "                                               title               author  \\\n",
       "0  The Book of Mormon: Another Testament of Jesus...            Anonymous   \n",
       "1                                         The Prince  Niccolò Machiavelli   \n",
       "2                             The Foundation Trilogy         Isaac Asimov   \n",
       "\n",
       "   num_ratings  num_reviews  avg_rating  num_pages language  series  \\\n",
       "0      71355.0       5704.0        4.37      531.0  English       0   \n",
       "1     229715.0       7261.0        3.81      140.0  English       0   \n",
       "2      83933.0       1331.0        4.40      679.0  English       1   \n",
       "\n",
       "   1_rating_count  2_rating_count  3_rating_count  4_rating_count  \\\n",
       "0          7520.0          2697.0          2521.0          1963.0   \n",
       "1          5254.0         16827.0         61182.0         80221.0   \n",
       "2           477.0          1521.0          9016.0         25447.0   \n",
       "\n",
       "   5_rating_count  publish_year  publish_month  publish_day  fiction  \\\n",
       "0         56654.0        2013.0           10.0         22.0        0   \n",
       "1         66231.0        2003.0            6.0          1.0        0   \n",
       "2         47472.0        1974.0            1.0          1.0        1   \n",
       "\n",
       "   republish  \n",
       "0          1  \n",
       "1          1  \n",
       "2          1  "
      ]
     },
     "execution_count": 5,
     "metadata": {},
     "output_type": "execute_result"
    }
   ],
   "source": [
    "# === Load the dataset === #\n",
    "# This version was exported from the previous notebook\n",
    "# after doing some initial wrangling\n",
    "data_path = \"https://raw.githubusercontent.com/tobias-fyi/vela/master/ds/interview_prep/practice/print-fiction/assets/must_read_books-02.csv\"\n",
    "\n",
    "books = pd.read_csv(data_path, na_values=\"?\")\n",
    "print(books.shape)\n",
    "books.head(3)"
   ]
  },
  {
   "cell_type": "code",
   "execution_count": 6,
   "metadata": {
    "colab": {
     "base_uri": "https://localhost:8080/",
     "height": 366
    },
    "colab_type": "code",
    "id": "ynTpCxezIT5l",
    "outputId": "ed5090be-ec2a-438e-9d3f-d9b524086f12"
   },
   "outputs": [
    {
     "data": {
      "text/plain": [
       "title                0\n",
       "author               0\n",
       "num_ratings          0\n",
       "num_reviews          0\n",
       "avg_rating           0\n",
       "num_pages          666\n",
       "language          1332\n",
       "series               0\n",
       "1_rating_count      83\n",
       "2_rating_count      83\n",
       "3_rating_count      83\n",
       "4_rating_count      83\n",
       "5_rating_count      83\n",
       "publish_year       282\n",
       "publish_month      282\n",
       "publish_day        282\n",
       "fiction              0\n",
       "republish            0\n",
       "dtype: int64"
      ]
     },
     "execution_count": 6,
     "metadata": {},
     "output_type": "execute_result"
    }
   ],
   "source": [
    "# === Confirm null values were read in correctly === #\n",
    "books.isnull().sum()"
   ]
  },
  {
   "cell_type": "markdown",
   "metadata": {
    "colab_type": "text",
    "id": "6YxTVzcUIT5s"
   },
   "source": [
    "---\n",
    "\n",
    "## Model validation\n",
    "\n",
    "* Split data into train, validation, and test sets\n",
    "* Choose an appropriate evaluation metric\n",
    "* Get a baseline accuracy (or precision/recall)"
   ]
  },
  {
   "cell_type": "code",
   "execution_count": 7,
   "metadata": {
    "colab": {
     "base_uri": "https://localhost:8080/",
     "height": 35
    },
    "colab_type": "code",
    "id": "KLQb9YurIT5u",
    "outputId": "bb38642f-6279-4971-ac5a-91a71502e44c"
   },
   "outputs": [
    {
     "data": {
      "text/plain": [
       "((11740, 18), (2935, 18), (3669, 18))"
      ]
     },
     "execution_count": 7,
     "metadata": {},
     "output_type": "execute_result"
    }
   ],
   "source": [
    "# === Split data into train / val / test === #\n",
    "train, test = train_test_split(books, stratify=books[\"fiction\"], test_size=0.2, random_state=92)\n",
    "train, val = train_test_split(train, stratify=train[\"fiction\"], test_size=0.2, random_state=92)\n",
    "\n",
    "train.shape, val.shape, test.shape"
   ]
  },
  {
   "cell_type": "code",
   "execution_count": 8,
   "metadata": {
    "colab": {
     "base_uri": "https://localhost:8080/",
     "height": 54
    },
    "colab_type": "code",
    "id": "d80Z_YY-IT5y",
    "outputId": "f85f4b48-0679-49d9-8328-6ba49afe867f"
   },
   "outputs": [
    {
     "name": "stdout",
     "output_type": "stream",
     "text": [
      "(11740,) (2935,) (3669,)\n",
      "(11740, 17) (2935, 17) (3669, 17)\n"
     ]
    }
   ],
   "source": [
    "# === Set up target and features === #\n",
    "target = \"fiction\"\n",
    "\n",
    "# Arrange y vector\n",
    "y_train = train[target]\n",
    "y_val = val[target]\n",
    "y_test = test[target]\n",
    "\n",
    "print(y_train.shape, y_val.shape, y_test.shape)\n",
    "\n",
    "# Arrange X matrices\n",
    "X_train = train.drop(columns=[target])\n",
    "X_val = val.drop(columns=[target])\n",
    "X_test = test.drop(columns=[target])\n",
    "\n",
    "print(X_train.shape, X_val.shape, X_test.shape)"
   ]
  },
  {
   "cell_type": "code",
   "execution_count": 9,
   "metadata": {
    "colab": {
     "base_uri": "https://localhost:8080/",
     "height": 334
    },
    "colab_type": "code",
    "id": "ax4SYWEYIT52",
    "outputId": "d9e44b93-dc36-416e-c5b2-b63cd769c1e0"
   },
   "outputs": [
    {
     "name": "stdout",
     "output_type": "stream",
     "text": [
      "1    6145\n",
      "0    5595\n",
      "Name: fiction, dtype: int64\n"
     ]
    },
    {
     "data": {
      "image/png": "[encoded data removed]",
      "text/plain": [
       "<Figure size 432x288 with 1 Axes>"
      ]
     },
     "metadata": {
      "needs_background": "light"
     },
     "output_type": "display_data"
    }
   ],
   "source": [
    "# === Target distribution === #\n",
    "print(y_train.value_counts())\n",
    "sns.distplot(y_train);"
   ]
  },
  {
   "cell_type": "markdown",
   "metadata": {
    "colab_type": "text",
    "id": "7Y1zfXpFIT5-"
   },
   "source": [
    "#### Majority class baseline"
   ]
  },
  {
   "cell_type": "code",
   "execution_count": 10,
   "metadata": {
    "colab": {
     "base_uri": "https://localhost:8080/",
     "height": 35
    },
    "colab_type": "code",
    "id": "8-fMHHmbIT6A",
    "outputId": "4cf166ef-706e-43f1-ff68-f4045d554a11"
   },
   "outputs": [
    {
     "data": {
      "text/plain": [
       "0.5234241908006815"
      ]
     },
     "execution_count": 10,
     "metadata": {},
     "output_type": "execute_result"
    }
   ],
   "source": [
    "# === Use mode as predictions === #\n",
    "maj = y_train.mode()[0]  # Mode is 1 (fiction)\n",
    "\n",
    "# Simply predict 1 for every training example\n",
    "y_pred_maj = [maj] * len(y_train)\n",
    "\n",
    "# Baseline accuracy\n",
    "accuracy_score(y_train, y_pred_maj)"
   ]
  },
  {
   "cell_type": "markdown",
   "metadata": {
    "colab_type": "text",
    "id": "WJyObFatIT6F"
   },
   "source": [
    "#### Limited logistic baseline"
   ]
  },
  {
   "cell_type": "code",
   "execution_count": 11,
   "metadata": {
    "colab": {
     "base_uri": "https://localhost:8080/",
     "height": 35
    },
    "colab_type": "code",
    "id": "-Jd35T12IT6H",
    "outputId": "f1eafe48-9822-4143-dd6f-4b01a6e11710"
   },
   "outputs": [
    {
     "data": {
      "text/plain": [
       "((11740, 3), (2935, 3), (3669, 3))"
      ]
     },
     "execution_count": 11,
     "metadata": {},
     "output_type": "execute_result"
    }
   ],
   "source": [
    "# === Use only a few features for this baseline === #\n",
    "base_features = [\n",
    "    \"num_reviews\",\n",
    "    \"avg_rating\",\n",
    "    \"num_pages\",\n",
    "]\n",
    "\n",
    "# Arrange X matrices\n",
    "X1_train = train[base_features]\n",
    "X1_val = val[base_features]\n",
    "X1_test = test[base_features]\n",
    "\n",
    "X1_train.shape, X1_val.shape, X1_test.shape"
   ]
  },
  {
   "cell_type": "code",
   "execution_count": 12,
   "metadata": {
    "colab": {
     "base_uri": "https://localhost:8080/",
     "height": 311
    },
    "colab_type": "code",
    "id": "_MUpLWo5IT6L",
    "outputId": "98e2de7b-7acb-41de-c6da-d9888d0a38ef"
   },
   "outputs": [
    {
     "data": {
      "text/plain": [
       "Pipeline(steps=[('scaler', StandardScaler()),\n",
       "                ('imputer', SimpleImputer(strategy='median')),\n",
       "                ('logreg', LogisticRegression(random_state=92))])"
      ]
     },
     "execution_count": 12,
     "metadata": {},
     "output_type": "execute_result"
    }
   ],
   "source": [
    "# === Baseline model === #\n",
    "pipe1 = Pipeline([\n",
    "    (\"scaler\", StandardScaler()),\n",
    "    (\"imputer\", SimpleImputer(strategy=\"median\")),\n",
    "    (\"logreg\", LogisticRegression(random_state=92)),\n",
    "])\n",
    "\n",
    "# Train base pipeline\n",
    "pipe1.fit(X1_train, y_train)"
   ]
  },
  {
   "cell_type": "code",
   "execution_count": 13,
   "metadata": {
    "colab": {
     "base_uri": "https://localhost:8080/",
     "height": 35
    },
    "colab_type": "code",
    "id": "JvLfVqdMIT6R",
    "outputId": "c7451b47-8043-449d-fba5-15fe998c187b"
   },
   "outputs": [
    {
     "name": "stdout",
     "output_type": "stream",
     "text": [
      "Baseline accuracy: 0.6275979557069846\n"
     ]
    }
   ],
   "source": [
    "# === Made predictions to get validation accuracy === #\n",
    "y_pred1 = pipe1.predict(X1_val)\n",
    "\n",
    "# Compute accuracy\n",
    "print(\"Baseline accuracy:\", accuracy_score(y_val, y_pred1))"
   ]
  },
  {
   "cell_type": "code",
   "execution_count": 14,
   "metadata": {
    "colab": {
     "base_uri": "https://localhost:8080/",
     "height": 54
    },
    "colab_type": "code",
    "id": "oLxd7U0-IT6W",
    "outputId": "fdb1973a-a8b6-4e7b-c0d8-9304cd795baf"
   },
   "outputs": [
    {
     "data": {
      "text/plain": [
       "array([[ 821,  578],\n",
       "       [ 515, 1021]])"
      ]
     },
     "execution_count": 14,
     "metadata": {},
     "output_type": "execute_result"
    }
   ],
   "source": [
    "# === Baseline confusion matrix === #\n",
    "confusion_matrix(y_val, y_pred1)"
   ]
  },
  {
   "cell_type": "markdown",
   "metadata": {
    "colab_type": "text",
    "id": "TP4_Zqm9IT6a"
   },
   "source": [
    "#### Default Random Forest"
   ]
  },
  {
   "cell_type": "code",
   "execution_count": 15,
   "metadata": {
    "colab": {
     "base_uri": "https://localhost:8080/",
     "height": 72
    },
    "colab_type": "code",
    "id": "QcqQAr_HIT6c",
    "outputId": "03aef88a-260e-43e4-cfb2-408deeb24294"
   },
   "outputs": [
    {
     "name": "stdout",
     "output_type": "stream",
     "text": [
      "Default random forest eval metrics:\n",
      "  Accuracy: 0.7342419080068143\n",
      "  F1 score: 0.7477360931435963\n"
     ]
    }
   ],
   "source": [
    "# === Default random forest model === #\n",
    "def_drop_columns = [\n",
    "    \"title\",\n",
    "    \"author\",\n",
    "    \"language\",\n",
    "]\n",
    "\n",
    "X2_train = X_train.drop(columns=def_drop_columns)\n",
    "X2_val = X_val.drop(columns=def_drop_columns)\n",
    "X2_test = X_test.drop(columns=def_drop_columns)\n",
    "\n",
    "rf1_pipe = Pipeline([\n",
    "    (\"encoder\", ce.OrdinalEncoder()),\n",
    "    (\"imputer\", SimpleImputer(strategy=\"median\")),\n",
    "    (\"rfc\", RandomForestClassifier(random_state=92)),\n",
    "])\n",
    "\n",
    "# Train default random forest\n",
    "rf1_pipe.fit(X2_train, y_train)\n",
    "\n",
    "# Made predictions to get validation accuracy\n",
    "y_pred_rf1 = rf1_pipe.predict(X2_val)\n",
    "\n",
    "# Compute evaluation metrics\n",
    "print(\"Default random forest eval metrics:\")\n",
    "print(\"  Accuracy:\", accuracy_score(y_val, y_pred_rf1))\n",
    "print(\"  F1 score:\", f1_score(y_val, y_pred_rf1))"
   ]
  },
  {
   "cell_type": "code",
   "execution_count": 16,
   "metadata": {
    "colab": {
     "base_uri": "https://localhost:8080/",
     "height": 265
    },
    "colab_type": "code",
    "id": "zC0QPwcNIT6g",
    "outputId": "3380ef13-14bd-421e-ec56-8d4ec5456c05"
   },
   "outputs": [
    {
     "data": {
      "image/png": "[encoded data removed]",
      "text/plain": [
       "<Figure size 432x288 with 2 Axes>"
      ]
     },
     "metadata": {
      "needs_background": "light"
     },
     "output_type": "display_data"
    }
   ],
   "source": [
    "# === Evaluate default rf with confusion matrix === #\n",
    "from sklearn.utils.multiclass import unique_labels\n",
    "\n",
    "unique_labels(y_val)  # Create unique labels\n",
    "\n",
    "def plot_confusion_matrix(y_true, y_pred):\n",
    "    labels = unique_labels(y_true)\n",
    "    columns = [f'Predicted {label}' for label in labels]\n",
    "    index = [f'Actual {label}' for label in labels]\n",
    "    table = pd.DataFrame(confusion_matrix(y_true, y_pred), \n",
    "                         columns=columns, index=index)\n",
    "    return sns.heatmap(table, annot=True, fmt='d', cmap='viridis')\n",
    "\n",
    "# Plot the confusion matrix\n",
    "plot_confusion_matrix(y_val, y_pred_rf1);"
   ]
  },
  {
   "cell_type": "markdown",
   "metadata": {
    "colab_type": "text",
    "id": "7uQ4SRFvIT6k"
   },
   "source": [
    "Alrighty then! With the (almost) full set of features and default hyperparameters the target can be predicted with ~73% accuracy. Although the target is not skewed very much, it is still skewed. Therefore, accuracy may not be the best way to evaluate the model. A better metric could be the F1 score. This is a little higher than the accuracy, clocking in at almost 75%.\n",
    "\n",
    "The F1 score is made up of the precision and recall. Actually, it can be interpreted of as the weighted average of precision and recall.\n",
    "\n",
    "This provides a better method of evaluating performance, because it takes into account false positives and false negatives. Accuracy only accounts for the model's correct predictions and mistakes, irrespective of _how_ the model made those mistakes."
   ]
  },
  {
   "cell_type": "code",
   "execution_count": 17,
   "metadata": {
    "colab": {
     "base_uri": "https://localhost:8080/",
     "height": 35
    },
    "colab_type": "code",
    "id": "BQ-_O3VRIT6l",
    "outputId": "539d49f5-e6f2-45c4-f4c1-dfcd32656437"
   },
   "outputs": [
    {
     "name": "stdout",
     "output_type": "stream",
     "text": [
      "Precision: 0.7429305912596401\n"
     ]
    }
   ],
   "source": [
    "# === Calculate precision === #\n",
    "true_pos = 1156\n",
    "false_pos = 400\n",
    "precision = true_pos / (true_pos + false_pos)\n",
    "print(f\"Precision: {precision}\")"
   ]
  },
  {
   "cell_type": "code",
   "execution_count": 18,
   "metadata": {
    "colab": {
     "base_uri": "https://localhost:8080/",
     "height": 35
    },
    "colab_type": "code",
    "id": "xxBgEJ04IT6p",
    "outputId": "f284bdb4-2fd3-4cbe-99ba-dac7d0d4e0e2"
   },
   "outputs": [
    {
     "name": "stdout",
     "output_type": "stream",
     "text": [
      "Precision: 0.7526041666666666\n"
     ]
    }
   ],
   "source": [
    "# === Calculate recall === #\n",
    "true_pos = 1156\n",
    "false_neg = 380\n",
    "precision = true_pos / (true_pos + false_neg)\n",
    "print(f\"Precision: {precision}\")"
   ]
  },
  {
   "cell_type": "code",
   "execution_count": 19,
   "metadata": {
    "colab": {
     "base_uri": "https://localhost:8080/",
     "height": 182
    },
    "colab_type": "code",
    "id": "mRMKAvgsIT6t",
    "outputId": "258969da-b797-472d-c0f7-c75e73400397"
   },
   "outputs": [
    {
     "name": "stdout",
     "output_type": "stream",
     "text": [
      "              precision    recall  f1-score   support\n",
      "\n",
      "           0       0.72      0.71      0.72      1399\n",
      "           1       0.74      0.75      0.75      1536\n",
      "\n",
      "    accuracy                           0.73      2935\n",
      "   macro avg       0.73      0.73      0.73      2935\n",
      "weighted avg       0.73      0.73      0.73      2935\n",
      "\n"
     ]
    }
   ],
   "source": [
    "# === Classification report === #\n",
    "from sklearn.metrics import classification_report\n",
    "\n",
    "print(classification_report(y_val, y_pred_rf1))"
   ]
  },
  {
   "cell_type": "markdown",
   "metadata": {
    "colab_type": "text",
    "id": "EAKy3O32IT6w"
   },
   "source": [
    "Let's see what we can do to increase that score."
   ]
  },
  {
   "cell_type": "markdown",
   "metadata": {
    "colab_type": "text",
    "id": "qdxnY7AUIT6x"
   },
   "source": [
    "---\n",
    "\n",
    "## Iterate\n",
    "\n",
    "* [x] Engineer new features\n",
    "* [x] Feature pruning with permutation importance\n",
    "* [x] Use cross-validation (RandomizedSearchCV) to tune hyperparameters\n",
    "* [x] Try out different algorithms\n",
    "  * [x] KNearestClassifier\n",
    "  * [x] XGBClassifier"
   ]
  },
  {
   "cell_type": "markdown",
   "metadata": {
    "colab_type": "text",
    "id": "QHAQC5nIIT6z"
   },
   "source": [
    "### Feature Engineering\n",
    "\n",
    "When I initially started this project, I went through the process of validating and training a model or two that tried to predict the average rating of books. This was by far the most common target chosen by those who started Kaggle kernels using other GoodReads datasets. Although this may have the most obvious business value if I was a data scientist working for a book publisher, to me this wasn't a particularly interesting target to try to predict.\n",
    "\n",
    "I realized this when I hit a wall with my progress in improving the rating-predictor model. One reason was that I did not see any obvious useful features that could be engineered. However, once I found my way to the idea of predicting the fictionality of the books, the target drove the direction I took with my feature engineering. It was a great learning experience for me in engineering features toward the specific target that the model is trying to predict.\n",
    "\n",
    "Here are the feature ideas I came up with and engineered (all in short succession once the new target was chosen):\n",
    "\n",
    "- [x] Title begins with \"The\"\n",
    "- [x] Has subtitle: contains \":\"\n",
    "- [x] Title character count\n",
    "- [x] Title word count\n",
    "- [x] Title longest word\n",
    "- [x] Author number of names\n",
    "- [x] Author middle initial\n",
    "- [x] Ratings (stars) ratio (1 + 2 / 4 + 5)"
   ]
  },
  {
   "cell_type": "code",
   "execution_count": 20,
   "metadata": {
    "colab": {},
    "colab_type": "code",
    "id": "7H71nRy8IT6z"
   },
   "outputs": [],
   "source": [
    "def engineer_features(data):\n",
    "    \"\"\"Engineer a handful of new features.\"\"\"\n",
    "    # Create new feature that is if the title begins with \"The\"\n",
    "    data[\"the_title\"] = data[\"title\"].str.startswith(\"The\")\n",
    "    # New feature - has_subtitle\n",
    "    data[\"has_subtitle\"] = data[\"title\"].str.contains(\":\")\n",
    "    # New feature - title character length\n",
    "    data[\"title_char_count\"] = data[\"title\"].apply(lambda x: len(x))\n",
    "    # New feature - title word count\n",
    "    data[\"title_word_count\"] = data[\"title\"].apply(lambda x: len(x.split()))\n",
    "    # New feature - title longest word\n",
    "    data[\"title_longest_word\"] = data[\"title\"].apply(lambda x: len(max(x.split(), key=len)))\n",
    "    # New feature - author number of names\n",
    "    data[\"author_name_count\"] = data[\"author\"].apply(lambda x: len(x.split()))\n",
    "    # New feature - author middle initial\n",
    "    pat = r\"\\w* (\\w. )+ \\w*\"\n",
    "    data[\"author_middle_initial\"] = data[\"author\"].str.contains(pat, regex=True)\n",
    "    # New feature - low/high rating ratio\n",
    "    data[\"rating_ratio\"] = (data[\"1_rating_count\"] + data[\"2_rating_count\"]) / (data[\"4_rating_count\"] + data[\"5_rating_count\"])\n",
    "    # Replace Boolean with binary\n",
    "    data = data.replace(to_replace={True: 1, False:0})\n",
    "    return data"
   ]
  },
  {
   "cell_type": "markdown",
   "metadata": {
    "colab_type": "text",
    "id": "FMbgz_ncIT63"
   },
   "source": [
    "#### Same random forest with additional features"
   ]
  },
  {
   "cell_type": "code",
   "execution_count": 21,
   "metadata": {
    "colab": {
     "base_uri": "https://localhost:8080/",
     "height": 129
    },
    "colab_type": "code",
    "id": "7NetaoBmIT63",
    "outputId": "7eedd518-089b-4204-8928-bc5c498d0994"
   },
   "outputs": [
    {
     "name": "stderr",
     "output_type": "stream",
     "text": [
      "/Users/Tobias/.vega/vela-_qIiF1eP/lib/python3.7/site-packages/pandas/core/strings.py:1954: UserWarning: This pattern has match groups. To actually get the groups, use str.extract.\n",
      "  return func(self, *args, **kwargs)\n"
     ]
    },
    {
     "name": "stdout",
     "output_type": "stream",
     "text": [
      "Default random forest eval metrics:\n",
      "  Accuracy: 0.7761499148211244\n",
      "  F1 score: 0.7884057971014492\n"
     ]
    }
   ],
   "source": [
    "# === Random forest model, new features === #\n",
    "X3_train = engineer_features(X_train)\n",
    "X3_val = engineer_features(X_val)\n",
    "X3_test = engineer_features(X_test)\n",
    "\n",
    "rf2_pipe = Pipeline([\n",
    "    (\"encoder\", ce.OrdinalEncoder()),\n",
    "    (\"imputer\", SimpleImputer(strategy=\"median\")),\n",
    "    (\"rfc\", RandomForestClassifier(random_state=92)),\n",
    "])\n",
    "\n",
    "# Train default random forest\n",
    "rf2_pipe.fit(X3_train, y_train)\n",
    "\n",
    "# Made predictions to get validation accuracy\n",
    "y_pred_rf2 = rf2_pipe.predict(X3_val)\n",
    "\n",
    "# Compute evaluation metrics\n",
    "print(\"Default random forest eval metrics:\")\n",
    "print(\"  Accuracy:\", accuracy_score(y_val, y_pred_rf2))\n",
    "print(\"  F1 score:\", f1_score(y_val, y_pred_rf2))"
   ]
  },
  {
   "cell_type": "markdown",
   "metadata": {
    "colab_type": "text",
    "id": "ugp45Y9fIT67"
   },
   "source": [
    "Got an extra ~5% out of those new features!\n",
    "\n",
    "And that is with the default RandomForestClassifier hyperparameters and the SimpleImputer. For the next iteration, I will try using the IterativeImputer, then utilize RandomizedSearchCV to tune the hyperparameters and conduct cross-validation."
   ]
  },
  {
   "cell_type": "markdown",
   "metadata": {
    "colab_type": "text",
    "id": "UuMEKWgQ08rS"
   },
   "source": [
    "### Feature Importances\n",
    "\n",
    "It is likely that some of the features do not help the model make correct predictions. Indeed, some may even be worse than that: they could add noise that makes the model perform worse.\n",
    "\n",
    "To address this potential problem, I'm going to find the feature importances using a method called permutation importance. Basically, this method will go through each of the features, replacing their data with random noise generated from the distribution of the original data. The performance of the model will be evaluated and compared with the score using all of the original data to find the effect of each feature on the performance of the model."
   ]
  },
  {
   "cell_type": "code",
   "execution_count": 22,
   "metadata": {
    "colab": {},
    "colab_type": "code",
    "id": "-3jQF7VZ08rX"
   },
   "outputs": [],
   "source": [
    "# === Transformer pipeline === #\n",
    "# Use the same (fitted) steps from main pipeline\n",
    "transformers = Pipeline([\n",
    "    (\"encoder\", rf2_pipe.named_steps[\"encoder\"]),\n",
    "    (\"imputer\", rf2_pipe.named_steps[\"imputer\"]),\n",
    "])\n",
    "\n",
    "# Encode and impute\n",
    "X3_train_transformed = transformers.transform(X3_train)\n",
    "X3_val_transformed = transformers.transform(X3_val)"
   ]
  },
  {
   "cell_type": "code",
   "execution_count": 23,
   "metadata": {
    "colab": {
     "base_uri": "https://localhost:8080/",
     "height": 403
    },
    "colab_type": "code",
    "id": "ajoeqOPJ1U4L",
    "outputId": "28c524ee-ef0b-4e37-9045-cf64ab48d8b7"
   },
   "outputs": [
    {
     "data": {
      "text/plain": [
       "PermutationImportance(estimator=RandomForestClassifier(random_state=92),\n",
       "                      random_state=42, scoring='f1')"
      ]
     },
     "execution_count": 23,
     "metadata": {},
     "output_type": "execute_result"
    }
   ],
   "source": [
    "# === Instantiate and fit the permuter === #\n",
    "permuter = PermutationImportance(\n",
    "    rf2_pipe.named_steps[\"rfc\"], \n",
    "    scoring='f1', \n",
    "    n_iter=5, \n",
    "    random_state=42\n",
    ")\n",
    "\n",
    "permuter.fit(X3_val_transformed, y_val)"
   ]
  },
  {
   "cell_type": "code",
   "execution_count": 24,
   "metadata": {
    "colab": {
     "base_uri": "https://localhost:8080/",
     "height": 451
    },
    "colab_type": "code",
    "id": "sTccpQkRYaLW",
    "outputId": "d0f5587c-bb3c-4ae0-8b83-2f16242f3b29"
   },
   "outputs": [
    {
     "data": {
      "text/html": [
       "\n",
       "    <style>\n",
       "    table.eli5-weights tr:hover {\n",
       "        filter: brightness(85%);\n",
       "    }\n",
       "</style>\n",
       "\n",
       "\n",
       "\n",
       "    \n",
       "\n",
       "    \n",
       "\n",
       "    \n",
       "\n",
       "    \n",
       "\n",
       "    \n",
       "\n",
       "    \n",
       "\n",
       "\n",
       "    \n",
       "\n",
       "    \n",
       "\n",
       "    \n",
       "\n",
       "    \n",
       "\n",
       "    \n",
       "\n",
       "    \n",
       "\n",
       "\n",
       "    \n",
       "\n",
       "    \n",
       "\n",
       "    \n",
       "\n",
       "    \n",
       "\n",
       "    \n",
       "        <table class=\"eli5-weights eli5-feature-importances\" style=\"border-collapse: collapse; border: none; margin-top: 0em; table-layout: auto;\">\n",
       "    <thead>\n",
       "    <tr style=\"border: none;\">\n",
       "        <th style=\"padding: 0 1em 0 0.5em; text-align: right; border: none;\">Weight</th>\n",
       "        <th style=\"padding: 0 0.5em 0 0.5em; text-align: left; border: none;\">Feature</th>\n",
       "    </tr>\n",
       "    </thead>\n",
       "    <tbody>\n",
       "    \n",
       "        <tr style=\"background-color: hsl(120, 100.00%, 80.00%); border: none;\">\n",
       "            <td style=\"padding: 0 1em 0 0.5em; text-align: right; border: none;\">\n",
       "                0.0307\n",
       "                \n",
       "                    &plusmn; 0.0021\n",
       "                \n",
       "            </td>\n",
       "            <td style=\"padding: 0 0.5em 0 0.5em; text-align: left; border: none;\">\n",
       "                has_subtitle\n",
       "            </td>\n",
       "        </tr>\n",
       "    \n",
       "        <tr style=\"background-color: hsl(120, 100.00%, 82.00%); border: none;\">\n",
       "            <td style=\"padding: 0 1em 0 0.5em; text-align: right; border: none;\">\n",
       "                0.0264\n",
       "                \n",
       "                    &plusmn; 0.0116\n",
       "                \n",
       "            </td>\n",
       "            <td style=\"padding: 0 0.5em 0 0.5em; text-align: left; border: none;\">\n",
       "                avg_rating\n",
       "            </td>\n",
       "        </tr>\n",
       "    \n",
       "        <tr style=\"background-color: hsl(120, 100.00%, 85.30%); border: none;\">\n",
       "            <td style=\"padding: 0 1em 0 0.5em; text-align: right; border: none;\">\n",
       "                0.0197\n",
       "                \n",
       "                    &plusmn; 0.0066\n",
       "                \n",
       "            </td>\n",
       "            <td style=\"padding: 0 0.5em 0 0.5em; text-align: left; border: none;\">\n",
       "                4_rating_count\n",
       "            </td>\n",
       "        </tr>\n",
       "    \n",
       "        <tr style=\"background-color: hsl(120, 100.00%, 85.52%); border: none;\">\n",
       "            <td style=\"padding: 0 1em 0 0.5em; text-align: right; border: none;\">\n",
       "                0.0193\n",
       "                \n",
       "                    &plusmn; 0.0031\n",
       "                \n",
       "            </td>\n",
       "            <td style=\"padding: 0 0.5em 0 0.5em; text-align: left; border: none;\">\n",
       "                publish_year\n",
       "            </td>\n",
       "        </tr>\n",
       "    \n",
       "        <tr style=\"background-color: hsl(120, 100.00%, 87.70%); border: none;\">\n",
       "            <td style=\"padding: 0 1em 0 0.5em; text-align: right; border: none;\">\n",
       "                0.0153\n",
       "                \n",
       "                    &plusmn; 0.0059\n",
       "                \n",
       "            </td>\n",
       "            <td style=\"padding: 0 0.5em 0 0.5em; text-align: left; border: none;\">\n",
       "                num_ratings\n",
       "            </td>\n",
       "        </tr>\n",
       "    \n",
       "        <tr style=\"background-color: hsl(120, 100.00%, 89.39%); border: none;\">\n",
       "            <td style=\"padding: 0 1em 0 0.5em; text-align: right; border: none;\">\n",
       "                0.0124\n",
       "                \n",
       "                    &plusmn; 0.0039\n",
       "                \n",
       "            </td>\n",
       "            <td style=\"padding: 0 0.5em 0 0.5em; text-align: left; border: none;\">\n",
       "                series\n",
       "            </td>\n",
       "        </tr>\n",
       "    \n",
       "        <tr style=\"background-color: hsl(120, 100.00%, 89.89%); border: none;\">\n",
       "            <td style=\"padding: 0 1em 0 0.5em; text-align: right; border: none;\">\n",
       "                0.0116\n",
       "                \n",
       "                    &plusmn; 0.0071\n",
       "                \n",
       "            </td>\n",
       "            <td style=\"padding: 0 0.5em 0 0.5em; text-align: left; border: none;\">\n",
       "                1_rating_count\n",
       "            </td>\n",
       "        </tr>\n",
       "    \n",
       "        <tr style=\"background-color: hsl(120, 100.00%, 91.10%); border: none;\">\n",
       "            <td style=\"padding: 0 1em 0 0.5em; text-align: right; border: none;\">\n",
       "                0.0096\n",
       "                \n",
       "                    &plusmn; 0.0048\n",
       "                \n",
       "            </td>\n",
       "            <td style=\"padding: 0 0.5em 0 0.5em; text-align: left; border: none;\">\n",
       "                num_pages\n",
       "            </td>\n",
       "        </tr>\n",
       "    \n",
       "        <tr style=\"background-color: hsl(120, 100.00%, 92.31%); border: none;\">\n",
       "            <td style=\"padding: 0 1em 0 0.5em; text-align: right; border: none;\">\n",
       "                0.0078\n",
       "                \n",
       "                    &plusmn; 0.0099\n",
       "                \n",
       "            </td>\n",
       "            <td style=\"padding: 0 0.5em 0 0.5em; text-align: left; border: none;\">\n",
       "                num_reviews\n",
       "            </td>\n",
       "        </tr>\n",
       "    \n",
       "        <tr style=\"background-color: hsl(120, 100.00%, 92.70%); border: none;\">\n",
       "            <td style=\"padding: 0 1em 0 0.5em; text-align: right; border: none;\">\n",
       "                0.0073\n",
       "                \n",
       "                    &plusmn; 0.0091\n",
       "                \n",
       "            </td>\n",
       "            <td style=\"padding: 0 0.5em 0 0.5em; text-align: left; border: none;\">\n",
       "                3_rating_count\n",
       "            </td>\n",
       "        </tr>\n",
       "    \n",
       "        <tr style=\"background-color: hsl(120, 100.00%, 93.43%); border: none;\">\n",
       "            <td style=\"padding: 0 1em 0 0.5em; text-align: right; border: none;\">\n",
       "                0.0062\n",
       "                \n",
       "                    &plusmn; 0.0075\n",
       "                \n",
       "            </td>\n",
       "            <td style=\"padding: 0 0.5em 0 0.5em; text-align: left; border: none;\">\n",
       "                title_char_count\n",
       "            </td>\n",
       "        </tr>\n",
       "    \n",
       "        <tr style=\"background-color: hsl(120, 100.00%, 93.60%); border: none;\">\n",
       "            <td style=\"padding: 0 1em 0 0.5em; text-align: right; border: none;\">\n",
       "                0.0060\n",
       "                \n",
       "                    &plusmn; 0.0043\n",
       "                \n",
       "            </td>\n",
       "            <td style=\"padding: 0 0.5em 0 0.5em; text-align: left; border: none;\">\n",
       "                5_rating_count\n",
       "            </td>\n",
       "        </tr>\n",
       "    \n",
       "        <tr style=\"background-color: hsl(120, 100.00%, 96.00%); border: none;\">\n",
       "            <td style=\"padding: 0 1em 0 0.5em; text-align: right; border: none;\">\n",
       "                0.0031\n",
       "                \n",
       "                    &plusmn; 0.0048\n",
       "                \n",
       "            </td>\n",
       "            <td style=\"padding: 0 0.5em 0 0.5em; text-align: left; border: none;\">\n",
       "                rating_ratio\n",
       "            </td>\n",
       "        </tr>\n",
       "    \n",
       "        <tr style=\"background-color: hsl(120, 100.00%, 97.44%); border: none;\">\n",
       "            <td style=\"padding: 0 1em 0 0.5em; text-align: right; border: none;\">\n",
       "                0.0016\n",
       "                \n",
       "                    &plusmn; 0.0024\n",
       "                \n",
       "            </td>\n",
       "            <td style=\"padding: 0 0.5em 0 0.5em; text-align: left; border: none;\">\n",
       "                language\n",
       "            </td>\n",
       "        </tr>\n",
       "    \n",
       "        <tr style=\"background-color: hsl(120, 100.00%, 98.48%); border: none;\">\n",
       "            <td style=\"padding: 0 1em 0 0.5em; text-align: right; border: none;\">\n",
       "                0.0008\n",
       "                \n",
       "                    &plusmn; 0.0059\n",
       "                \n",
       "            </td>\n",
       "            <td style=\"padding: 0 0.5em 0 0.5em; text-align: left; border: none;\">\n",
       "                the_title\n",
       "            </td>\n",
       "        </tr>\n",
       "    \n",
       "        <tr style=\"background-color: hsl(120, 100.00%, 98.59%); border: none;\">\n",
       "            <td style=\"padding: 0 1em 0 0.5em; text-align: right; border: none;\">\n",
       "                0.0007\n",
       "                \n",
       "                    &plusmn; 0.0056\n",
       "                \n",
       "            </td>\n",
       "            <td style=\"padding: 0 0.5em 0 0.5em; text-align: left; border: none;\">\n",
       "                2_rating_count\n",
       "            </td>\n",
       "        </tr>\n",
       "    \n",
       "        <tr style=\"background-color: hsl(120, 100.00%, 98.82%); border: none;\">\n",
       "            <td style=\"padding: 0 1em 0 0.5em; text-align: right; border: none;\">\n",
       "                0.0005\n",
       "                \n",
       "                    &plusmn; 0.0024\n",
       "                \n",
       "            </td>\n",
       "            <td style=\"padding: 0 0.5em 0 0.5em; text-align: left; border: none;\">\n",
       "                title_longest_word\n",
       "            </td>\n",
       "        </tr>\n",
       "    \n",
       "        <tr style=\"background-color: hsl(120, 100.00%, 99.03%); border: none;\">\n",
       "            <td style=\"padding: 0 1em 0 0.5em; text-align: right; border: none;\">\n",
       "                0.0004\n",
       "                \n",
       "                    &plusmn; 0.0025\n",
       "                \n",
       "            </td>\n",
       "            <td style=\"padding: 0 0.5em 0 0.5em; text-align: left; border: none;\">\n",
       "                republish\n",
       "            </td>\n",
       "        </tr>\n",
       "    \n",
       "        <tr style=\"background-color: hsl(120, 100.00%, 99.14%); border: none;\">\n",
       "            <td style=\"padding: 0 1em 0 0.5em; text-align: right; border: none;\">\n",
       "                0.0003\n",
       "                \n",
       "                    &plusmn; 0.0020\n",
       "                \n",
       "            </td>\n",
       "            <td style=\"padding: 0 0.5em 0 0.5em; text-align: left; border: none;\">\n",
       "                author_name_count\n",
       "            </td>\n",
       "        </tr>\n",
       "    \n",
       "        <tr style=\"background-color: hsl(120, 100.00%, 99.77%); border: none;\">\n",
       "            <td style=\"padding: 0 1em 0 0.5em; text-align: right; border: none;\">\n",
       "                0.0001\n",
       "                \n",
       "                    &plusmn; 0.0002\n",
       "                \n",
       "            </td>\n",
       "            <td style=\"padding: 0 0.5em 0 0.5em; text-align: left; border: none;\">\n",
       "                author_middle_initial\n",
       "            </td>\n",
       "        </tr>\n",
       "    \n",
       "        <tr style=\"background-color: hsl(0, 100.00%, 99.45%); border: none;\">\n",
       "            <td style=\"padding: 0 1em 0 0.5em; text-align: right; border: none;\">\n",
       "                -0.0002\n",
       "                \n",
       "                    &plusmn; 0.0040\n",
       "                \n",
       "            </td>\n",
       "            <td style=\"padding: 0 0.5em 0 0.5em; text-align: left; border: none;\">\n",
       "                publish_month\n",
       "            </td>\n",
       "        </tr>\n",
       "    \n",
       "        <tr style=\"background-color: hsl(0, 100.00%, 98.76%); border: none;\">\n",
       "            <td style=\"padding: 0 1em 0 0.5em; text-align: right; border: none;\">\n",
       "                -0.0006\n",
       "                \n",
       "                    &plusmn; 0.0041\n",
       "                \n",
       "            </td>\n",
       "            <td style=\"padding: 0 0.5em 0 0.5em; text-align: left; border: none;\">\n",
       "                author\n",
       "            </td>\n",
       "        </tr>\n",
       "    \n",
       "        <tr style=\"background-color: hsl(0, 100.00%, 98.52%); border: none;\">\n",
       "            <td style=\"padding: 0 1em 0 0.5em; text-align: right; border: none;\">\n",
       "                -0.0007\n",
       "                \n",
       "                    &plusmn; 0.0030\n",
       "                \n",
       "            </td>\n",
       "            <td style=\"padding: 0 0.5em 0 0.5em; text-align: left; border: none;\">\n",
       "                title_word_count\n",
       "            </td>\n",
       "        </tr>\n",
       "    \n",
       "        <tr style=\"background-color: hsl(0, 100.00%, 98.47%); border: none;\">\n",
       "            <td style=\"padding: 0 1em 0 0.5em; text-align: right; border: none;\">\n",
       "                -0.0008\n",
       "                \n",
       "                    &plusmn; 0.0009\n",
       "                \n",
       "            </td>\n",
       "            <td style=\"padding: 0 0.5em 0 0.5em; text-align: left; border: none;\">\n",
       "                title\n",
       "            </td>\n",
       "        </tr>\n",
       "    \n",
       "        <tr style=\"background-color: hsl(0, 100.00%, 96.31%); border: none;\">\n",
       "            <td style=\"padding: 0 1em 0 0.5em; text-align: right; border: none;\">\n",
       "                -0.0027\n",
       "                \n",
       "                    &plusmn; 0.0030\n",
       "                \n",
       "            </td>\n",
       "            <td style=\"padding: 0 0.5em 0 0.5em; text-align: left; border: none;\">\n",
       "                publish_day\n",
       "            </td>\n",
       "        </tr>\n",
       "    \n",
       "    \n",
       "    </tbody>\n",
       "</table>\n",
       "    \n",
       "\n",
       "    \n",
       "\n",
       "\n",
       "    \n",
       "\n",
       "    \n",
       "\n",
       "    \n",
       "\n",
       "    \n",
       "\n",
       "    \n",
       "\n",
       "    \n",
       "\n",
       "\n",
       "\n"
      ],
      "text/plain": [
       "<IPython.core.display.HTML object>"
      ]
     },
     "execution_count": 24,
     "metadata": {},
     "output_type": "execute_result"
    }
   ],
   "source": [
    "# === Get permutation importances === #\n",
    "feature_names = X3_val.columns.tolist()\n",
    "pd.Series(permuter.feature_importances_, feature_names).sort_values(ascending=False)\n",
    "\n",
    "eli5.show_weights(\n",
    "    permuter, \n",
    "    top=None, # Show permutation importances for all features\n",
    "    feature_names=feature_names\n",
    ")"
   ]
  },
  {
   "cell_type": "markdown",
   "metadata": {},
   "source": [
    "Based on the above table, I should see either no change or a small increase in the model's performance by removing `publish_month` and `author_middle_initial`. I'm going to try removing those and training the model again.\n",
    "\n",
    "As for the rest of the features, I find it interesting to see what features have the largest positive effect on the model's predictive power. From this table, I can see that the majority of the benefit I got from engineering the new features came from the `has_subtitle` feature. This feature, according to the permutation importance table, is the most important predictor by quite a long shot and accounted for 0.04 simply indicates whether the title of the book has a colon in it. My intuition was that having a subtitle is very common for nonfiction books, not so much for fiction.\n",
    "\n",
    "One other engineered feature that seems to be a good predictor is `title_char_count`, or title character count"
   ]
  },
  {
   "cell_type": "code",
   "execution_count": 25,
   "metadata": {},
   "outputs": [
    {
     "name": "stdout",
     "output_type": "stream",
     "text": [
      "Default random forest eval metrics:\n",
      "  Accuracy: 0.7839863713798978\n",
      "  F1 score: 0.7965340179717587\n"
     ]
    }
   ],
   "source": [
    "# === Random forest model, new features === #\n",
    "more_drop_cols = [\n",
    "    \"author_middle_initial\",\n",
    "    \"publish_month\",\n",
    "]\n",
    "\n",
    "# New features are already engineered\n",
    "X4_train = X3_train.drop(columns=more_drop_cols)\n",
    "X4_val   = X3_val.drop(columns=more_drop_cols)\n",
    "X4_test  = X3_test.drop(columns=more_drop_cols)\n",
    "\n",
    "rf3_pipe = Pipeline([\n",
    "    (\"encoder\", ce.OrdinalEncoder()),\n",
    "    (\"imputer\", SimpleImputer(strategy=\"median\")),\n",
    "    (\"rfc\", RandomForestClassifier(random_state=92)),\n",
    "])\n",
    "\n",
    "# Train default random forest\n",
    "rf3_pipe.fit(X4_train, y_train)\n",
    "\n",
    "# Made predictions to get validation accuracy\n",
    "y_pred_rf3 = rf3_pipe.predict(X4_val)\n",
    "\n",
    "# Compute evaluation metrics\n",
    "print(\"Default random forest eval metrics:\")\n",
    "print(\"  Accuracy:\", accuracy_score(y_val, y_pred_rf3))\n",
    "print(\"  F1 score:\", f1_score(y_val, y_pred_rf3))"
   ]
  },
  {
   "cell_type": "markdown",
   "metadata": {},
   "source": [
    "It seems that removing the features indicated to have negative or no feature importance actually had a small negative effect on the model's performance. That result in hand, I'm going to leave those features in the model."
   ]
  },
  {
   "cell_type": "code",
   "execution_count": 26,
   "metadata": {},
   "outputs": [
    {
     "name": "stdout",
     "output_type": "stream",
     "text": [
      "Default random forest eval metrics:\n",
      "  Accuracy: 0.7647860452439357\n",
      "  F1 score: 0.7783200616491139\n"
     ]
    }
   ],
   "source": [
    "# === How does it perform on the test data? === #\n",
    "y_pred_test_rf2 = rf2_pipe.predict(X3_test)\n",
    "\n",
    "# Compute evaluation metrics\n",
    "print(\"Default random forest eval metrics:\")\n",
    "print(\"  Accuracy:\", accuracy_score(y_test, y_pred_test_rf2))\n",
    "print(\"  F1 score:\", f1_score(y_test, y_pred_test_rf2))"
   ]
  },
  {
   "cell_type": "markdown",
   "metadata": {
    "colab_type": "text",
    "id": "jDCfJc9CIT68"
   },
   "source": [
    "### Cross-validation + Hyperparameter tuning"
   ]
  },
  {
   "cell_type": "code",
   "execution_count": 27,
   "metadata": {
    "colab": {
     "base_uri": "https://localhost:8080/",
     "height": 74
    },
    "colab_type": "code",
    "id": "z-kOYJMtIT68",
    "outputId": "40e6ca0b-0954-48b3-d28f-87b288762442"
   },
   "outputs": [
    {
     "name": "stderr",
     "output_type": "stream",
     "text": [
      "/Users/Tobias/.vega/vela-_qIiF1eP/lib/python3.7/site-packages/pandas/core/strings.py:1954: UserWarning: This pattern has match groups. To actually get the groups, use str.extract.\n",
      "  return func(self, *args, **kwargs)\n"
     ]
    }
   ],
   "source": [
    "# === Engineer the new features === #\n",
    "# Start from original dataset, because data\n",
    "# will only be split into train and test\n",
    "books2 = engineer_features(books)"
   ]
  },
  {
   "cell_type": "code",
   "execution_count": 28,
   "metadata": {
    "colab": {
     "base_uri": "https://localhost:8080/",
     "height": 255
    },
    "colab_type": "code",
    "id": "ZBSTSbgCIT7B",
    "outputId": "67743040-d120-4515-ef48-cef5915a9a62"
   },
   "outputs": [
    {
     "name": "stdout",
     "output_type": "stream",
     "text": [
      "(18344, 26)\n"
     ]
    },
    {
     "data": {
      "text/html": [
       "<div>\n",
       "<style scoped>\n",
       "    .dataframe tbody tr th:only-of-type {\n",
       "        vertical-align: middle;\n",
       "    }\n",
       "\n",
       "    .dataframe tbody tr th {\n",
       "        vertical-align: top;\n",
       "    }\n",
       "\n",
       "    .dataframe thead th {\n",
       "        text-align: right;\n",
       "    }\n",
       "</style>\n",
       "<table border=\"1\" class=\"dataframe\">\n",
       "  <thead>\n",
       "    <tr style=\"text-align: right;\">\n",
       "      <th></th>\n",
       "      <th>title</th>\n",
       "      <th>author</th>\n",
       "      <th>num_ratings</th>\n",
       "      <th>num_reviews</th>\n",
       "      <th>avg_rating</th>\n",
       "      <th>num_pages</th>\n",
       "      <th>language</th>\n",
       "      <th>series</th>\n",
       "      <th>1_rating_count</th>\n",
       "      <th>2_rating_count</th>\n",
       "      <th>3_rating_count</th>\n",
       "      <th>4_rating_count</th>\n",
       "      <th>5_rating_count</th>\n",
       "      <th>publish_year</th>\n",
       "      <th>publish_month</th>\n",
       "      <th>publish_day</th>\n",
       "      <th>fiction</th>\n",
       "      <th>republish</th>\n",
       "      <th>the_title</th>\n",
       "      <th>has_subtitle</th>\n",
       "      <th>title_char_count</th>\n",
       "      <th>title_word_count</th>\n",
       "      <th>title_longest_word</th>\n",
       "      <th>author_name_count</th>\n",
       "      <th>author_middle_initial</th>\n",
       "      <th>rating_ratio</th>\n",
       "    </tr>\n",
       "  </thead>\n",
       "  <tbody>\n",
       "    <tr>\n",
       "      <th>0</th>\n",
       "      <td>The Book of Mormon: Another Testament of Jesus...</td>\n",
       "      <td>Anonymous</td>\n",
       "      <td>71355.0</td>\n",
       "      <td>5704.0</td>\n",
       "      <td>4.37</td>\n",
       "      <td>531.0</td>\n",
       "      <td>English</td>\n",
       "      <td>0</td>\n",
       "      <td>7520.0</td>\n",
       "      <td>2697.0</td>\n",
       "      <td>2521.0</td>\n",
       "      <td>1963.0</td>\n",
       "      <td>56654.0</td>\n",
       "      <td>2013.0</td>\n",
       "      <td>10.0</td>\n",
       "      <td>22.0</td>\n",
       "      <td>0</td>\n",
       "      <td>1</td>\n",
       "      <td>1</td>\n",
       "      <td>1</td>\n",
       "      <td>53</td>\n",
       "      <td>9</td>\n",
       "      <td>9</td>\n",
       "      <td>1</td>\n",
       "      <td>0</td>\n",
       "      <td>0.174301</td>\n",
       "    </tr>\n",
       "    <tr>\n",
       "      <th>1</th>\n",
       "      <td>The Prince</td>\n",
       "      <td>Niccolò Machiavelli</td>\n",
       "      <td>229715.0</td>\n",
       "      <td>7261.0</td>\n",
       "      <td>3.81</td>\n",
       "      <td>140.0</td>\n",
       "      <td>English</td>\n",
       "      <td>0</td>\n",
       "      <td>5254.0</td>\n",
       "      <td>16827.0</td>\n",
       "      <td>61182.0</td>\n",
       "      <td>80221.0</td>\n",
       "      <td>66231.0</td>\n",
       "      <td>2003.0</td>\n",
       "      <td>6.0</td>\n",
       "      <td>1.0</td>\n",
       "      <td>0</td>\n",
       "      <td>1</td>\n",
       "      <td>1</td>\n",
       "      <td>0</td>\n",
       "      <td>10</td>\n",
       "      <td>2</td>\n",
       "      <td>6</td>\n",
       "      <td>2</td>\n",
       "      <td>0</td>\n",
       "      <td>0.150773</td>\n",
       "    </tr>\n",
       "  </tbody>\n",
       "</table>\n",
       "</div>"
      ],
      "text/plain": [
       "                                               title               author  \\\n",
       "0  The Book of Mormon: Another Testament of Jesus...            Anonymous   \n",
       "1                                         The Prince  Niccolò Machiavelli   \n",
       "\n",
       "   num_ratings  num_reviews  avg_rating  num_pages language  series  \\\n",
       "0      71355.0       5704.0        4.37      531.0  English       0   \n",
       "1     229715.0       7261.0        3.81      140.0  English       0   \n",
       "\n",
       "   1_rating_count  2_rating_count  3_rating_count  4_rating_count  \\\n",
       "0          7520.0          2697.0          2521.0          1963.0   \n",
       "1          5254.0         16827.0         61182.0         80221.0   \n",
       "\n",
       "   5_rating_count  publish_year  publish_month  publish_day  fiction  \\\n",
       "0         56654.0        2013.0           10.0         22.0        0   \n",
       "1         66231.0        2003.0            6.0          1.0        0   \n",
       "\n",
       "   republish  the_title  has_subtitle  title_char_count  title_word_count  \\\n",
       "0          1          1             1                53                 9   \n",
       "1          1          1             0                10                 2   \n",
       "\n",
       "   title_longest_word  author_name_count  author_middle_initial  rating_ratio  \n",
       "0                   9                  1                      0      0.174301  \n",
       "1                   6                  2                      0      0.150773  "
      ]
     },
     "execution_count": 28,
     "metadata": {},
     "output_type": "execute_result"
    }
   ],
   "source": [
    "# === Take a look === #\n",
    "print(books2.shape)\n",
    "books2.head(2)"
   ]
  },
  {
   "cell_type": "code",
   "execution_count": 29,
   "metadata": {
    "colab": {
     "base_uri": "https://localhost:8080/",
     "height": 35
    },
    "colab_type": "code",
    "id": "sBErEAJ-IT7F",
    "outputId": "300deed8-2951-4c7a-a8b2-87519f083375"
   },
   "outputs": [
    {
     "data": {
      "text/plain": [
       "((14675, 26), (3669, 26))"
      ]
     },
     "execution_count": 29,
     "metadata": {},
     "output_type": "execute_result"
    }
   ],
   "source": [
    "# === Split data into train / test === #\n",
    "train, test = train_test_split(books2, stratify=books2[\"fiction\"], test_size=0.2, random_state=92)\n",
    "\n",
    "train.shape, test.shape"
   ]
  },
  {
   "cell_type": "code",
   "execution_count": 46,
   "metadata": {
    "colab": {
     "base_uri": "https://localhost:8080/",
     "height": 54
    },
    "colab_type": "code",
    "id": "Id90Q2BwIT7M",
    "outputId": "c5112a16-4bc8-406e-cd06-1783d6b2f547"
   },
   "outputs": [
    {
     "name": "stdout",
     "output_type": "stream",
     "text": [
      "(14675,) (3669,)\n",
      "(14675, 20) (3669, 20)\n"
     ]
    }
   ],
   "source": [
    "# === Set up target and features === #\n",
    "# No val this time bc using cross-validation\n",
    "target = \"fiction\"\n",
    "\n",
    "drop_cols = [  # Columns not useful to model\n",
    "    \"title\",\n",
    "    \"author\",\n",
    "    \"language\",\n",
    "#     \"publish_month\",\n",
    "    \"publish_day\",\n",
    "    \"author_middle_initial\",\n",
    "]\n",
    "\n",
    "# Arrange y vector\n",
    "y_train = train[target]\n",
    "y_test = test[target]\n",
    "\n",
    "print(y_train.shape, y_test.shape)\n",
    "\n",
    "# Arrange X matrices\n",
    "X_train = train.drop(columns=[target] + drop_cols)\n",
    "X_test = test.drop(columns=[target] + drop_cols)\n",
    "\n",
    "print(X_train.shape, X_test.shape)"
   ]
  },
  {
   "cell_type": "code",
   "execution_count": 47,
   "metadata": {
    "colab": {
     "base_uri": "https://localhost:8080/",
     "height": 129
    },
    "colab_type": "code",
    "id": "cKyaHruHIT7P",
    "outputId": "99b35f01-6d49-4883-c5c5-338da999a464"
   },
   "outputs": [
    {
     "name": "stdout",
     "output_type": "stream",
     "text": [
      "Fitting 5 folds for each of 5 candidates, totalling 25 fits\n"
     ]
    },
    {
     "name": "stderr",
     "output_type": "stream",
     "text": [
      "[Parallel(n_jobs=-1)]: Using backend LokyBackend with 4 concurrent workers.\n",
      "[Parallel(n_jobs=-1)]: Done   5 tasks      | elapsed:   12.2s\n",
      "[Parallel(n_jobs=-1)]: Done  10 tasks      | elapsed:   14.1s\n",
      "[Parallel(n_jobs=-1)]: Done  17 tasks      | elapsed:   17.4s\n",
      "[Parallel(n_jobs=-1)]: Done  21 out of  25 | elapsed:   18.8s remaining:    3.6s\n",
      "[Parallel(n_jobs=-1)]: Done  25 out of  25 | elapsed:   20.0s finished\n"
     ]
    },
    {
     "name": "stdout",
     "output_type": "stream",
     "text": [
      "Best hyperparameters {'imputer__imputation_order': 'random', 'imputer__initial_strategy': 'median', 'imputer__max_iter': 19, 'imputer__n_nearest_features': 4, 'imputer__tol': 0.02223640657375538, 'rfc__max_depth': 21, 'rfc__min_samples_split': 0.00799211859966853, 'rfc__n_estimators': 205}\n",
      "F1 score 0.7849781869334655\n"
     ]
    }
   ],
   "source": [
    "# === Random forest, Part 3 === #\n",
    "# Tune hyperparameters using cross-validation\n",
    "\n",
    "rf3_pipe = Pipeline([\n",
    "    (\"encoder\", ce.OrdinalEncoder()),\n",
    "    (\"imputer\", IterativeImputer(random_state=92)),\n",
    "    (\"rfc\", RandomForestClassifier(random_state=92)),\n",
    "])\n",
    "\n",
    "rf3_params = {\n",
    "    \"imputer__initial_strategy\": [\"median\", \"most_frequent\"], \n",
    "    \"imputer__max_iter\": randint(16, 40),\n",
    "    \"imputer__tol\": uniform(0.001, 0.05),\n",
    "    \"imputer__n_nearest_features\": randint(2, 10),\n",
    "    \"imputer__imputation_order\": [\"ascending\", \"roman\", \"random\"],\n",
    "    \"rfc__n_estimators\": randint(80, 300), \n",
    "    \"rfc__max_depth\": randint(6, 32),\n",
    "    \"rfc__min_samples_split\": uniform(0, 1), \n",
    "}\n",
    "\n",
    "# Define the search using parameter distros above\n",
    "rf3_search = RandomizedSearchCV(\n",
    "    rf3_pipe, \n",
    "    param_distributions=rf3_params, \n",
    "    n_iter=5,\n",
    "    cv=5, \n",
    "    scoring='f1',\n",
    "    verbose=10, \n",
    "    return_train_score=True, \n",
    "    n_jobs=-1,\n",
    "    random_state=92,\n",
    ")\n",
    "\n",
    "# Train default random forest\n",
    "rf3_search.fit(X_train, y_train)\n",
    "\n",
    "# Best combination of hyperparameters and their resulting f1 score\n",
    "print(\"Best hyperparameters\", rf3_search.best_params_)\n",
    "print(\"F1 score\", rf3_search.best_score_)"
   ]
  },
  {
   "cell_type": "markdown",
   "metadata": {
    "colab_type": "text",
    "id": "1mdZBVeRIT7U"
   },
   "source": [
    "That score is actually not as good as the default random forest was, without cross-validation. It could also be that the best estimator from this search would outperform the previous one when predicting the test data. Or, it could be that the parameters and their ranges I'm searching are not optimal.\n",
    "\n",
    "Another reason could be that I simply did not provide enough of a search window. That is, I could try increasing the number of iterations that the search goes through while testing out parameter combinations.\n",
    "\n",
    "That score is still pretty close though. I'm going to try out some other algorithms now, starting with nearest neighbors."
   ]
  },
  {
   "cell_type": "markdown",
   "metadata": {
    "colab_type": "text",
    "id": "QRvblD9KIT7V"
   },
   "source": [
    "### Nearest Neighbors\n",
    "\n",
    "Nearest neighbors model with KNeighborsClassifier algorithm."
   ]
  },
  {
   "cell_type": "code",
   "execution_count": 48,
   "metadata": {
    "colab": {
     "base_uri": "https://localhost:8080/",
     "height": 129
    },
    "colab_type": "code",
    "id": "cJ-rTHI9IT7V",
    "outputId": "5d8555f3-a0a8-4142-cc97-5ef763fc70f8"
   },
   "outputs": [
    {
     "name": "stdout",
     "output_type": "stream",
     "text": [
      "Fitting 5 folds for each of 5 candidates, totalling 25 fits\n"
     ]
    },
    {
     "name": "stderr",
     "output_type": "stream",
     "text": [
      "[Parallel(n_jobs=-1)]: Using backend LokyBackend with 4 concurrent workers.\n",
      "[Parallel(n_jobs=-1)]: Done   5 tasks      | elapsed:    4.3s\n",
      "[Parallel(n_jobs=-1)]: Done  10 tasks      | elapsed:    7.9s\n",
      "[Parallel(n_jobs=-1)]: Done  17 tasks      | elapsed:   13.5s\n",
      "[Parallel(n_jobs=-1)]: Done  21 out of  25 | elapsed:   15.7s remaining:    3.0s\n",
      "[Parallel(n_jobs=-1)]: Done  25 out of  25 | elapsed:   17.5s finished\n"
     ]
    },
    {
     "name": "stdout",
     "output_type": "stream",
     "text": [
      "Best hyperparameters {'imputer__imputation_order': 'roman', 'imputer__initial_strategy': 'median', 'imputer__max_iter': 27, 'imputer__n_nearest_features': 7, 'imputer__tol': 0.015464012740496254, 'nn__algorithm': 'ball_tree', 'nn__leaf_size': 47, 'nn__n_neighbors': 19, 'nn__weights': 'uniform'}\n",
      "F1 score 0.697427625975729\n"
     ]
    }
   ],
   "source": [
    "# === Nearest Neighbors === #\n",
    "\n",
    "nn_pipe = Pipeline([\n",
    "    (\"encoder\", ce.OrdinalEncoder()),\n",
    "    (\"imputer\", IterativeImputer(random_state=92)),\n",
    "    (\"nn\", KNeighborsClassifier()),\n",
    "])\n",
    "\n",
    "nn_params = {\n",
    "    \"imputer__initial_strategy\": [\"median\", \"most_frequent\"], \n",
    "    \"imputer__max_iter\": randint(16, 40),\n",
    "    \"imputer__tol\": uniform(0.001, 0.05),\n",
    "    \"imputer__n_nearest_features\": randint(2, 10),\n",
    "    \"imputer__imputation_order\": [\"ascending\", \"roman\", \"random\"],\n",
    "    \"nn__n_neighbors\": randint(2, 20), \n",
    "    \"nn__weights\": [\"uniform\", \"distance\"],\n",
    "    \"nn__algorithm\": [\"ball_tree\", \"kd_tree\"],\n",
    "    \"nn__leaf_size\": randint(20, 50),\n",
    "}\n",
    "\n",
    "# Define the search using parameter distros above\n",
    "nn_search = RandomizedSearchCV(\n",
    "    nn_pipe, \n",
    "    param_distributions=nn_params, \n",
    "    n_iter=5,\n",
    "    cv=5, \n",
    "    scoring=\"f1\",\n",
    "    verbose=10, \n",
    "    return_train_score=True, \n",
    "    n_jobs=-1,\n",
    "    random_state=92,\n",
    ")\n",
    "\n",
    "# Train default random forest\n",
    "nn_search.fit(X_train, y_train)\n",
    "\n",
    "# Best combination of hyperparameters and their resulting f1 score\n",
    "print(\"Best hyperparameters\", nn_search.best_params_)\n",
    "print(\"F1 score\", nn_search.best_score_)"
   ]
  },
  {
   "cell_type": "markdown",
   "metadata": {
    "colab_type": "text",
    "id": "QXBIGtq8IT7Y"
   },
   "source": [
    "It seems that Random Forest is quite a bit better of an algorithm for this problem than k-nearest neighbors. Therefore, I won't be moving forward with nearest neighbors.\n",
    "\n",
    "The last algorithm I'll try is a gradient-boosted decision tree classifier from XGBoost: `XGBClassifier`."
   ]
  },
  {
   "cell_type": "markdown",
   "metadata": {
    "colab_type": "text",
    "id": "5_kdsJbZKSND"
   },
   "source": [
    "### Gradient Boosting\n",
    "\n",
    "Training a gradient-boosted decision tree using [XGBoost](https://xgboost.readthedocs.io/en/latest/python/python_api.html#module-xgboost.sklearn).\n",
    "\n",
    "Though I don't have a record of every single iteration of the below classifier search, the method I used to tune is to basically look at the values of each parameter, and moved the search range to more closely fit around those values.\n",
    "\n",
    "I was surprised to find that my initial attempts at training the `XGBClassifier` had about the same performance as the default random forest with the newly-engineered features.\n",
    "\n",
    "As I mentioned above, one hypothesis of what was causing the discrepancy (or lack thereof: I assumed gradient-boosting would increase the performance, which maybe wasn't a sound assumption), could be the simple fact that the randomized search doesn't cover every possibility. To test this, I increased the number of iterations and let 'er rip!"
   ]
  },
  {
   "cell_type": "code",
   "execution_count": 31,
   "metadata": {
    "colab": {
     "base_uri": "https://localhost:8080/",
     "height": 384
    },
    "colab_type": "code",
    "id": "K7HKTPfwIT7Z",
    "outputId": "df0c183f-6322-4db0-dac3-02479ed67588"
   },
   "outputs": [
    {
     "name": "stdout",
     "output_type": "stream",
     "text": [
      "Fitting 4 folds for each of 10 candidates, totalling 40 fits\n"
     ]
    },
    {
     "name": "stderr",
     "output_type": "stream",
     "text": [
      "[Parallel(n_jobs=-1)]: Using backend LokyBackend with 2 concurrent workers.\n",
      "[Parallel(n_jobs=-1)]: Done   1 tasks      | elapsed:   20.2s\n",
      "[Parallel(n_jobs=-1)]: Done   4 tasks      | elapsed:   39.4s\n",
      "[Parallel(n_jobs=-1)]: Done   9 tasks      | elapsed:  1.5min\n",
      "[Parallel(n_jobs=-1)]: Done  14 tasks      | elapsed:  2.0min\n",
      "[Parallel(n_jobs=-1)]: Done  21 tasks      | elapsed:  2.9min\n",
      "[Parallel(n_jobs=-1)]: Done  28 tasks      | elapsed:  3.6min\n",
      "[Parallel(n_jobs=-1)]: Done  37 tasks      | elapsed:  5.2min\n",
      "[Parallel(n_jobs=-1)]: Done  40 out of  40 | elapsed:  5.6min finished\n"
     ]
    },
    {
     "name": "stdout",
     "output_type": "stream",
     "text": [
      "F1 score 0.7942245127829319\n",
      "Best hyperparameters:\n",
      "imputer__imputation_order: ascending\n",
      "imputer__initial_strategy: median\n",
      "imputer__max_iter: 31\n",
      "imputer__n_nearest_features: 3\n",
      "imputer__tol: 0.03492326452711587\n",
      "xgb__learning_rate: 0.10726406674881385\n",
      "xgb__max_depth: 27\n",
      "xgb__n_estimators: 100\n"
     ]
    }
   ],
   "source": [
    "# === XGBoost Classifier === #\n",
    "from xgboost import XGBClassifier\n",
    "\n",
    "xgb1_pipe = Pipeline([\n",
    "    (\"encoder\", ce.OrdinalEncoder()),\n",
    "    (\"imputer\", IterativeImputer(random_state=92)),\n",
    "    (\"xgb\", XGBClassifier(random_state=92)),\n",
    "])\n",
    "\n",
    "xgb1_params = {\n",
    "    \"imputer__initial_strategy\": [\"median\", \"most_frequent\"], \n",
    "    \"imputer__max_iter\": randint(16, 45),\n",
    "    \"imputer__tol\": uniform(0.02, 0.04),\n",
    "    \"imputer__n_nearest_features\": randint(2, 10),\n",
    "    \"imputer__imputation_order\": [\"ascending\", \"roman\", \"random\"],\n",
    "    \"xgb__n_estimators\": randint(80, 160), \n",
    "    \"xgb__max_depth\": randint(18, 48),\n",
    "    \"xgb__learning_rate\": uniform(0.05, .5),\n",
    "}\n",
    "\n",
    "# Define the search using parameter distros above\n",
    "xgb1_search = RandomizedSearchCV(\n",
    "    xgb1_pipe, \n",
    "    param_distributions=xgb1_params, \n",
    "    n_iter=10,\n",
    "    cv=4,\n",
    "    scoring=\"f1\",\n",
    "    verbose=10, \n",
    "    return_train_score=True, \n",
    "    n_jobs=-1,\n",
    "    random_state=92,\n",
    ")\n",
    "\n",
    "# Train default random forest\n",
    "xgb1_search.fit(X_train, y_train)\n",
    "\n",
    "# Best combination of hyperparameters and their resulting f1 score\n",
    "print(\"F1 score\", xgb1_search.best_score_)\n",
    "print(\"Best hyperparameters:\")\n",
    "for param, val in xgb1_search.best_params_.items():\n",
    "    print(  f\"{param}: {val}\")"
   ]
  },
  {
   "cell_type": "markdown",
   "metadata": {
    "colab_type": "text",
    "id": "FecTx0zMVKGG"
   },
   "source": [
    "### More Random Forests\n",
    "\n",
    "Even with 40 total fits (4 cross-validation folds, 10 iterations) the gradient-boosted classifier did not really outperform the random forest by any significant margin. Given the additional complexity and computation required for an XGBoost model, I'm going to use the random forest classifier instead.\n",
    "\n",
    "To continue testing the hypothesis that my initial number of iterations was too low for the search to converge on a good combination of hyperparameters, I'm going to train more random forests. This time, I'm going to try running the random search with a higher number of iterations. If that seems promising, I'm going to further tune the hyperparameters and look into any additional hyperparameters that might be good to include in the tuning process."
   ]
  },
  {
   "cell_type": "code",
   "execution_count": 49,
   "metadata": {
    "colab": {
     "base_uri": "https://localhost:8080/",
     "height": 439
    },
    "colab_type": "code",
    "id": "4IMFloUxIT7g",
    "outputId": "c1dd6928-fdf6-4c24-8baa-86455ecc27f6"
   },
   "outputs": [
    {
     "name": "stdout",
     "output_type": "stream",
     "text": [
      "Fitting 5 folds for each of 15 candidates, totalling 75 fits\n"
     ]
    },
    {
     "name": "stderr",
     "output_type": "stream",
     "text": [
      "[Parallel(n_jobs=-1)]: Using backend LokyBackend with 4 concurrent workers.\n",
      "[Parallel(n_jobs=-1)]: Done   5 tasks      | elapsed:    5.8s\n",
      "[Parallel(n_jobs=-1)]: Done  10 tasks      | elapsed:    8.4s\n",
      "[Parallel(n_jobs=-1)]: Done  17 tasks      | elapsed:   13.6s\n",
      "[Parallel(n_jobs=-1)]: Done  24 tasks      | elapsed:   17.1s\n",
      "[Parallel(n_jobs=-1)]: Done  33 tasks      | elapsed:   24.7s\n",
      "[Parallel(n_jobs=-1)]: Done  42 tasks      | elapsed:   30.7s\n",
      "[Parallel(n_jobs=-1)]: Done  53 tasks      | elapsed:   38.6s\n",
      "[Parallel(n_jobs=-1)]: Done  64 tasks      | elapsed:   45.9s\n",
      "[Parallel(n_jobs=-1)]: Done  75 out of  75 | elapsed:   59.1s finished\n"
     ]
    },
    {
     "name": "stdout",
     "output_type": "stream",
     "text": [
      "F1 score 0.7897015809090806\n",
      "Best hyperparameters:\n",
      "imputer__imputation_order: ascending\n",
      "imputer__initial_strategy: median\n",
      "imputer__max_iter: 12\n",
      "imputer__tol: 0.029121541514263292\n",
      "rfc__max_depth: 12\n",
      "rfc__min_impurity_decrease: 0.00010629484293753989\n",
      "rfc__min_samples_split: 11\n",
      "rfc__n_estimators: 195\n"
     ]
    }
   ],
   "source": [
    "# === Random forest, Part 4 === #\n",
    "rf4_pipe = Pipeline([\n",
    "    (\"encoder\", ce.OrdinalEncoder()),\n",
    "    (\"imputer\", IterativeImputer(random_state=92, n_nearest_features=3)),\n",
    "    (\"rfc\", RandomForestClassifier(random_state=92)),\n",
    "])\n",
    "\n",
    "rf4_params = {\n",
    "    \"imputer__initial_strategy\": [\"median\", \"most_frequent\"], \n",
    "    \"imputer__max_iter\": randint(8, 20),\n",
    "    \"imputer__tol\": uniform(0.01, 0.04),\n",
    "    \"imputer__imputation_order\": [\"ascending\", \"roman\", \"random\"],\n",
    "    \"rfc__n_estimators\": randint(140, 200), \n",
    "    \"rfc__max_depth\": randint(6, 18),\n",
    "    \"rfc__min_samples_split\": randint(6, 14), \n",
    "    \"rfc__min_impurity_decrease\": uniform(0, .01), \n",
    "}\n",
    "\n",
    "# Define the search using parameter distros above\n",
    "rf4_search = RandomizedSearchCV(\n",
    "    rf4_pipe, \n",
    "    param_distributions=rf4_params, \n",
    "    n_iter=15,\n",
    "    cv=5, \n",
    "    scoring='f1',\n",
    "    verbose=10,\n",
    "    return_train_score=True, \n",
    "    n_jobs=-1,\n",
    "    random_state=92,\n",
    ")\n",
    "\n",
    "# Train default random forest\n",
    "rf4_search.fit(X_train, y_train)\n",
    "\n",
    "# Best combination of hyperparameters and their resulting f1 score\n",
    "print('F1 score', rf4_search.best_score_)\n",
    "print('Best hyperparameters:')\n",
    "for param, val in rf4_search.best_params_.items():\n",
    "    print(  f\"{param}: {val}\")"
   ]
  },
  {
   "cell_type": "code",
   "execution_count": 50,
   "metadata": {},
   "outputs": [
    {
     "name": "stdout",
     "output_type": "stream",
     "text": [
      "Random forest 4 eval metrics:\n",
      "  Accuracy: 0.7639683837557918\n",
      "  F1 score: 0.7825213460572576\n"
     ]
    }
   ],
   "source": [
    "# === How does it perform on the test data? === #\n",
    "y_pred_test_rf4 = rf4_search.predict(X_test)\n",
    "\n",
    "# Compute evaluation metrics\n",
    "print(\"Random forest 4 eval metrics:\")\n",
    "print(\"  Accuracy:\", accuracy_score(y_test, y_pred_test_rf4))\n",
    "print(\"  F1 score:\", f1_score(y_test, y_pred_test_rf4))"
   ]
  },
  {
   "cell_type": "code",
   "execution_count": 51,
   "metadata": {},
   "outputs": [
    {
     "data": {
      "image/png": "[encoded data removed]",
      "text/plain": [
       "<Figure size 720x720 with 1 Axes>"
      ]
     },
     "metadata": {
      "needs_background": "light"
     },
     "output_type": "display_data"
    }
   ],
   "source": [
    "# === Get feature importances === #\n",
    "rf4 = rf4_search.best_estimator_[\"rfc\"]\n",
    "importances = pd.Series(rf4.feature_importances_, X_train.columns)\n",
    "\n",
    "# Plot feature importances\n",
    "n = 20\n",
    "plt.figure(figsize=(10,n/2))\n",
    "plt.title(f'Top {n} features')\n",
    "importances.sort_values()[-n:].plot.barh(color='grey');"
   ]
  },
  {
   "cell_type": "markdown",
   "metadata": {
    "colab_type": "text",
    "id": "RwBBzF7x1In2"
   },
   "source": [
    "---\n",
    "\n",
    "## Results and Interpretation\n",
    "\n",
    "I tried many different combinations of different hyperparameters and the best F1 score I was able to achieve was just north of .79. Even with all of my tuning, I never beat the F1 score that was achieved with the random forest classifier using default hyperparameters.\n",
    "\n",
    "One final step to be taken before deployment is to inspect the predictions that the model made on the test set, looking at the predicted probabilities that resulted in each of the predictions. By looking at the predicted probabilities, I can look at instances when the model was sure or unsure of its predictions, and if those predictions were correct or not.\n",
    "\n",
    "This can provide some insight into the reasons for the model being incorrect, which could be valuable information to have, particularly when attempting to interpret (the results of) the model."
   ]
  },
  {
   "cell_type": "code",
   "execution_count": null,
   "metadata": {},
   "outputs": [],
   "source": [
    "# === Title and indexes to match with pred_proba === #\n",
    "title_id_train = X_train.reset_index()[[\"index\", \"title\"]]\n",
    "title_id_test = X_test.reset_index()[[\"index\", \"title\"]]"
   ]
  },
  {
   "cell_type": "code",
   "execution_count": 52,
   "metadata": {},
   "outputs": [],
   "source": [
    "# Get indexes as an id field to match up on later\n",
    "train_id = X_train.reset_index()[\"index\"]\n",
    "test_id = X_test.reset_index()[\"index\"]"
   ]
  },
  {
   "cell_type": "code",
   "execution_count": 53,
   "metadata": {},
   "outputs": [
    {
     "data": {
      "text/plain": [
       "0     1042\n",
       "1    10779\n",
       "2    10072\n",
       "3    15540\n",
       "4    13007\n",
       "Name: index, dtype: int64"
      ]
     },
     "execution_count": 53,
     "metadata": {},
     "output_type": "execute_result"
    }
   ],
   "source": [
    "test_id.head()"
   ]
  },
  {
   "cell_type": "code",
   "execution_count": 57,
   "metadata": {},
   "outputs": [
    {
     "name": "stdout",
     "output_type": "stream",
     "text": [
      "Test ROC AUC for class 1:\n",
      "0.8461619555985452\n"
     ]
    }
   ],
   "source": [
    "# === ROC AUC + predicted probabilities === #\n",
    "from sklearn.metrics import roc_auc_score\n",
    "\n",
    "# Process the test data\n",
    "transformers_2 = Pipeline([\n",
    "    (\"encoder\", rf4_search.best_estimator_[\"encoder\"]),\n",
    "    (\"imputer\", rf4_search.best_estimator_[\"imputer\"]),\n",
    "])\n",
    "\n",
    "# Encode and impute\n",
    "X_test_transform = transformers_2.transform(X_test)\n",
    "class_index = 1\n",
    "\n",
    "# Make predictions with the trained gradient boosted classifier\n",
    "y_pred_proba_rf4 = rf4_search.predict_proba(X_test_transform)[:, class_index]\n",
    "\n",
    "# ROC AUC score ranges from 0-1; higher is better\n",
    "print(f'Test ROC AUC for class {class_index}:')\n",
    "print(roc_auc_score(y_test, y_pred_proba_rf4))"
   ]
  },
  {
   "cell_type": "markdown",
   "metadata": {},
   "source": [
    "#### Predicted probabilities"
   ]
  },
  {
   "cell_type": "code",
   "execution_count": 58,
   "metadata": {},
   "outputs": [
    {
     "data": {
      "text/html": [
       "<div>\n",
       "<style scoped>\n",
       "    .dataframe tbody tr th:only-of-type {\n",
       "        vertical-align: middle;\n",
       "    }\n",
       "\n",
       "    .dataframe tbody tr th {\n",
       "        vertical-align: top;\n",
       "    }\n",
       "\n",
       "    .dataframe thead th {\n",
       "        text-align: right;\n",
       "    }\n",
       "</style>\n",
       "<table border=\"1\" class=\"dataframe\">\n",
       "  <thead>\n",
       "    <tr style=\"text-align: right;\">\n",
       "      <th></th>\n",
       "      <th>index</th>\n",
       "      <th>num_ratings</th>\n",
       "      <th>num_reviews</th>\n",
       "      <th>avg_rating</th>\n",
       "      <th>num_pages</th>\n",
       "      <th>series</th>\n",
       "      <th>1_rating_count</th>\n",
       "      <th>2_rating_count</th>\n",
       "      <th>3_rating_count</th>\n",
       "      <th>4_rating_count</th>\n",
       "      <th>5_rating_count</th>\n",
       "      <th>publish_year</th>\n",
       "      <th>publish_month</th>\n",
       "      <th>republish</th>\n",
       "      <th>the_title</th>\n",
       "      <th>has_subtitle</th>\n",
       "      <th>title_char_count</th>\n",
       "      <th>title_word_count</th>\n",
       "      <th>title_longest_word</th>\n",
       "      <th>author_name_count</th>\n",
       "      <th>rating_ratio</th>\n",
       "    </tr>\n",
       "  </thead>\n",
       "  <tbody>\n",
       "    <tr>\n",
       "      <th>0</th>\n",
       "      <td>1042</td>\n",
       "      <td>112871.0</td>\n",
       "      <td>4674.0</td>\n",
       "      <td>4.00</td>\n",
       "      <td>317.0</td>\n",
       "      <td>0</td>\n",
       "      <td>1593.0</td>\n",
       "      <td>5439.0</td>\n",
       "      <td>24255.0</td>\n",
       "      <td>41993.0</td>\n",
       "      <td>39591.0</td>\n",
       "      <td>1997.0</td>\n",
       "      <td>9.0</td>\n",
       "      <td>1</td>\n",
       "      <td>0</td>\n",
       "      <td>0</td>\n",
       "      <td>29</td>\n",
       "      <td>6</td>\n",
       "      <td>7</td>\n",
       "      <td>2</td>\n",
       "      <td>0.086193</td>\n",
       "    </tr>\n",
       "    <tr>\n",
       "      <th>1</th>\n",
       "      <td>10779</td>\n",
       "      <td>364.0</td>\n",
       "      <td>47.0</td>\n",
       "      <td>3.97</td>\n",
       "      <td>431.0</td>\n",
       "      <td>0</td>\n",
       "      <td>12.0</td>\n",
       "      <td>16.0</td>\n",
       "      <td>72.0</td>\n",
       "      <td>134.0</td>\n",
       "      <td>130.0</td>\n",
       "      <td>2016.0</td>\n",
       "      <td>5.0</td>\n",
       "      <td>1</td>\n",
       "      <td>0</td>\n",
       "      <td>0</td>\n",
       "      <td>18</td>\n",
       "      <td>3</td>\n",
       "      <td>8</td>\n",
       "      <td>2</td>\n",
       "      <td>0.106061</td>\n",
       "    </tr>\n",
       "    <tr>\n",
       "      <th>2</th>\n",
       "      <td>10072</td>\n",
       "      <td>49.0</td>\n",
       "      <td>12.0</td>\n",
       "      <td>4.18</td>\n",
       "      <td>294.0</td>\n",
       "      <td>0</td>\n",
       "      <td>0.0</td>\n",
       "      <td>3.0</td>\n",
       "      <td>10.0</td>\n",
       "      <td>11.0</td>\n",
       "      <td>25.0</td>\n",
       "      <td>1994.0</td>\n",
       "      <td>6.0</td>\n",
       "      <td>0</td>\n",
       "      <td>0</td>\n",
       "      <td>0</td>\n",
       "      <td>16</td>\n",
       "      <td>3</td>\n",
       "      <td>8</td>\n",
       "      <td>2</td>\n",
       "      <td>0.083333</td>\n",
       "    </tr>\n",
       "    <tr>\n",
       "      <th>3</th>\n",
       "      <td>15540</td>\n",
       "      <td>150.0</td>\n",
       "      <td>14.0</td>\n",
       "      <td>3.87</td>\n",
       "      <td>200.0</td>\n",
       "      <td>1</td>\n",
       "      <td>0.0</td>\n",
       "      <td>2.0</td>\n",
       "      <td>46.0</td>\n",
       "      <td>71.0</td>\n",
       "      <td>31.0</td>\n",
       "      <td>1994.0</td>\n",
       "      <td>9.0</td>\n",
       "      <td>0</td>\n",
       "      <td>0</td>\n",
       "      <td>0</td>\n",
       "      <td>16</td>\n",
       "      <td>3</td>\n",
       "      <td>6</td>\n",
       "      <td>2</td>\n",
       "      <td>0.019608</td>\n",
       "    </tr>\n",
       "    <tr>\n",
       "      <th>4</th>\n",
       "      <td>13007</td>\n",
       "      <td>19322.0</td>\n",
       "      <td>213.0</td>\n",
       "      <td>4.09</td>\n",
       "      <td>268.0</td>\n",
       "      <td>1</td>\n",
       "      <td>285.0</td>\n",
       "      <td>986.0</td>\n",
       "      <td>3758.0</td>\n",
       "      <td>5984.0</td>\n",
       "      <td>8309.0</td>\n",
       "      <td>1993.0</td>\n",
       "      <td>9.0</td>\n",
       "      <td>1</td>\n",
       "      <td>0</td>\n",
       "      <td>1</td>\n",
       "      <td>40</td>\n",
       "      <td>6</td>\n",
       "      <td>11</td>\n",
       "      <td>2</td>\n",
       "      <td>0.088925</td>\n",
       "    </tr>\n",
       "  </tbody>\n",
       "</table>\n",
       "</div>"
      ],
      "text/plain": [
       "   index  num_ratings  num_reviews  avg_rating  num_pages  series  \\\n",
       "0   1042     112871.0       4674.0        4.00      317.0       0   \n",
       "1  10779        364.0         47.0        3.97      431.0       0   \n",
       "2  10072         49.0         12.0        4.18      294.0       0   \n",
       "3  15540        150.0         14.0        3.87      200.0       1   \n",
       "4  13007      19322.0        213.0        4.09      268.0       1   \n",
       "\n",
       "   1_rating_count  2_rating_count  3_rating_count  4_rating_count  \\\n",
       "0          1593.0          5439.0         24255.0         41993.0   \n",
       "1            12.0            16.0            72.0           134.0   \n",
       "2             0.0             3.0            10.0            11.0   \n",
       "3             0.0             2.0            46.0            71.0   \n",
       "4           285.0           986.0          3758.0          5984.0   \n",
       "\n",
       "   5_rating_count  publish_year  publish_month  republish  the_title  \\\n",
       "0         39591.0        1997.0            9.0          1          0   \n",
       "1           130.0        2016.0            5.0          1          0   \n",
       "2            25.0        1994.0            6.0          0          0   \n",
       "3            31.0        1994.0            9.0          0          0   \n",
       "4          8309.0        1993.0            9.0          1          0   \n",
       "\n",
       "   has_subtitle  title_char_count  title_word_count  title_longest_word  \\\n",
       "0             0                29                 6                   7   \n",
       "1             0                18                 3                   8   \n",
       "2             0                16                 3                   8   \n",
       "3             0                16                 3                   6   \n",
       "4             1                40                 6                  11   \n",
       "\n",
       "   author_name_count  rating_ratio  \n",
       "0                  2      0.086193  \n",
       "1                  2      0.106061  \n",
       "2                  2      0.083333  \n",
       "3                  2      0.019608  \n",
       "4                  2      0.088925  "
      ]
     },
     "execution_count": 58,
     "metadata": {},
     "output_type": "execute_result"
    }
   ],
   "source": [
    "# === Reset index of test set to get column to match on === #\n",
    "X_test = X_test.reset_index()\n",
    "X_test.head()"
   ]
  },
  {
   "cell_type": "code",
   "execution_count": 59,
   "metadata": {},
   "outputs": [
    {
     "data": {
      "text/plain": [
       "((3669, 21), (3669,), (3669,), (3669,))"
      ]
     },
     "execution_count": 59,
     "metadata": {},
     "output_type": "execute_result"
    }
   ],
   "source": [
    "X_test.shape, test_id.shape, y_pred_proba_rf4.shape, y_test.shape"
   ]
  },
  {
   "cell_type": "code",
   "execution_count": 60,
   "metadata": {},
   "outputs": [
    {
     "data": {
      "text/html": [
       "<div>\n",
       "<style scoped>\n",
       "    .dataframe tbody tr th:only-of-type {\n",
       "        vertical-align: middle;\n",
       "    }\n",
       "\n",
       "    .dataframe tbody tr th {\n",
       "        vertical-align: top;\n",
       "    }\n",
       "\n",
       "    .dataframe thead th {\n",
       "        text-align: right;\n",
       "    }\n",
       "</style>\n",
       "<table border=\"1\" class=\"dataframe\">\n",
       "  <thead>\n",
       "    <tr style=\"text-align: right;\">\n",
       "      <th></th>\n",
       "      <th>index</th>\n",
       "      <th>fiction</th>\n",
       "    </tr>\n",
       "  </thead>\n",
       "  <tbody>\n",
       "    <tr>\n",
       "      <th>0</th>\n",
       "      <td>1042</td>\n",
       "      <td>1</td>\n",
       "    </tr>\n",
       "    <tr>\n",
       "      <th>1</th>\n",
       "      <td>10779</td>\n",
       "      <td>0</td>\n",
       "    </tr>\n",
       "    <tr>\n",
       "      <th>2</th>\n",
       "      <td>10072</td>\n",
       "      <td>0</td>\n",
       "    </tr>\n",
       "    <tr>\n",
       "      <th>3</th>\n",
       "      <td>15540</td>\n",
       "      <td>1</td>\n",
       "    </tr>\n",
       "    <tr>\n",
       "      <th>4</th>\n",
       "      <td>13007</td>\n",
       "      <td>1</td>\n",
       "    </tr>\n",
       "  </tbody>\n",
       "</table>\n",
       "</div>"
      ],
      "text/plain": [
       "   index  fiction\n",
       "0   1042        1\n",
       "1  10779        0\n",
       "2  10072        0\n",
       "3  15540        1\n",
       "4  13007        1"
      ]
     },
     "execution_count": 60,
     "metadata": {},
     "output_type": "execute_result"
    }
   ],
   "source": [
    "y_test.reset_index().head()"
   ]
  },
  {
   "cell_type": "code",
   "execution_count": 62,
   "metadata": {},
   "outputs": [
    {
     "name": "stdout",
     "output_type": "stream",
     "text": [
      "(3669, 2)\n"
     ]
    },
    {
     "data": {
      "text/html": [
       "<div>\n",
       "<style scoped>\n",
       "    .dataframe tbody tr th:only-of-type {\n",
       "        vertical-align: middle;\n",
       "    }\n",
       "\n",
       "    .dataframe tbody tr th {\n",
       "        vertical-align: top;\n",
       "    }\n",
       "\n",
       "    .dataframe thead th {\n",
       "        text-align: right;\n",
       "    }\n",
       "</style>\n",
       "<table border=\"1\" class=\"dataframe\">\n",
       "  <thead>\n",
       "    <tr style=\"text-align: right;\">\n",
       "      <th></th>\n",
       "      <th>index</th>\n",
       "      <th>pred_proba</th>\n",
       "    </tr>\n",
       "  </thead>\n",
       "  <tbody>\n",
       "    <tr>\n",
       "      <th>0</th>\n",
       "      <td>1042</td>\n",
       "      <td>0.911425</td>\n",
       "    </tr>\n",
       "    <tr>\n",
       "      <th>1</th>\n",
       "      <td>10779</td>\n",
       "      <td>0.511888</td>\n",
       "    </tr>\n",
       "    <tr>\n",
       "      <th>2</th>\n",
       "      <td>10072</td>\n",
       "      <td>0.192328</td>\n",
       "    </tr>\n",
       "    <tr>\n",
       "      <th>3</th>\n",
       "      <td>15540</td>\n",
       "      <td>0.552947</td>\n",
       "    </tr>\n",
       "    <tr>\n",
       "      <th>4</th>\n",
       "      <td>13007</td>\n",
       "      <td>0.550052</td>\n",
       "    </tr>\n",
       "  </tbody>\n",
       "</table>\n",
       "</div>"
      ],
      "text/plain": [
       "   index  pred_proba\n",
       "0   1042    0.911425\n",
       "1  10779    0.511888\n",
       "2  10072    0.192328\n",
       "3  15540    0.552947\n",
       "4  13007    0.550052"
      ]
     },
     "execution_count": 62,
     "metadata": {},
     "output_type": "execute_result"
    }
   ],
   "source": [
    "# === Compare true / pred === #\n",
    "\n",
    "# Create new dataframe to compare the predictions to the actual\n",
    "df = pd.DataFrame({\n",
    "    'index': test_id,\n",
    "    'pred_proba': y_pred_proba_rf4,\n",
    "})\n",
    "\n",
    "print(df.shape)\n",
    "df.head()"
   ]
  },
  {
   "cell_type": "code",
   "execution_count": 63,
   "metadata": {},
   "outputs": [
    {
     "name": "stdout",
     "output_type": "stream",
     "text": [
      "(3669, 3)\n"
     ]
    },
    {
     "data": {
      "text/html": [
       "<div>\n",
       "<style scoped>\n",
       "    .dataframe tbody tr th:only-of-type {\n",
       "        vertical-align: middle;\n",
       "    }\n",
       "\n",
       "    .dataframe tbody tr th {\n",
       "        vertical-align: top;\n",
       "    }\n",
       "\n",
       "    .dataframe thead th {\n",
       "        text-align: right;\n",
       "    }\n",
       "</style>\n",
       "<table border=\"1\" class=\"dataframe\">\n",
       "  <thead>\n",
       "    <tr style=\"text-align: right;\">\n",
       "      <th></th>\n",
       "      <th>index</th>\n",
       "      <th>pred_proba</th>\n",
       "      <th>fiction</th>\n",
       "    </tr>\n",
       "  </thead>\n",
       "  <tbody>\n",
       "    <tr>\n",
       "      <th>0</th>\n",
       "      <td>1042</td>\n",
       "      <td>0.911425</td>\n",
       "      <td>1</td>\n",
       "    </tr>\n",
       "    <tr>\n",
       "      <th>1</th>\n",
       "      <td>10779</td>\n",
       "      <td>0.511888</td>\n",
       "      <td>0</td>\n",
       "    </tr>\n",
       "    <tr>\n",
       "      <th>2</th>\n",
       "      <td>10072</td>\n",
       "      <td>0.192328</td>\n",
       "      <td>0</td>\n",
       "    </tr>\n",
       "    <tr>\n",
       "      <th>3</th>\n",
       "      <td>15540</td>\n",
       "      <td>0.552947</td>\n",
       "      <td>1</td>\n",
       "    </tr>\n",
       "    <tr>\n",
       "      <th>4</th>\n",
       "      <td>13007</td>\n",
       "      <td>0.550052</td>\n",
       "      <td>1</td>\n",
       "    </tr>\n",
       "  </tbody>\n",
       "</table>\n",
       "</div>"
      ],
      "text/plain": [
       "   index  pred_proba  fiction\n",
       "0   1042    0.911425        1\n",
       "1  10779    0.511888        0\n",
       "2  10072    0.192328        0\n",
       "3  15540    0.552947        1\n",
       "4  13007    0.550052        1"
      ]
     },
     "execution_count": 63,
     "metadata": {},
     "output_type": "execute_result"
    }
   ],
   "source": [
    "df = df.merge(y_test.reset_index())\n",
    "\n",
    "print(df.shape)\n",
    "df.head()"
   ]
  },
  {
   "cell_type": "code",
   "execution_count": 64,
   "metadata": {},
   "outputs": [
    {
     "name": "stdout",
     "output_type": "stream",
     "text": [
      "(3669, 23)\n"
     ]
    },
    {
     "data": {
      "text/html": [
       "<div>\n",
       "<style scoped>\n",
       "    .dataframe tbody tr th:only-of-type {\n",
       "        vertical-align: middle;\n",
       "    }\n",
       "\n",
       "    .dataframe tbody tr th {\n",
       "        vertical-align: top;\n",
       "    }\n",
       "\n",
       "    .dataframe thead th {\n",
       "        text-align: right;\n",
       "    }\n",
       "</style>\n",
       "<table border=\"1\" class=\"dataframe\">\n",
       "  <thead>\n",
       "    <tr style=\"text-align: right;\">\n",
       "      <th></th>\n",
       "      <th>index</th>\n",
       "      <th>pred_proba</th>\n",
       "      <th>fiction</th>\n",
       "      <th>num_ratings</th>\n",
       "      <th>num_reviews</th>\n",
       "      <th>avg_rating</th>\n",
       "      <th>num_pages</th>\n",
       "      <th>series</th>\n",
       "      <th>1_rating_count</th>\n",
       "      <th>2_rating_count</th>\n",
       "      <th>3_rating_count</th>\n",
       "      <th>4_rating_count</th>\n",
       "      <th>5_rating_count</th>\n",
       "      <th>publish_year</th>\n",
       "      <th>publish_month</th>\n",
       "      <th>republish</th>\n",
       "      <th>the_title</th>\n",
       "      <th>has_subtitle</th>\n",
       "      <th>title_char_count</th>\n",
       "      <th>title_word_count</th>\n",
       "      <th>title_longest_word</th>\n",
       "      <th>author_name_count</th>\n",
       "      <th>rating_ratio</th>\n",
       "    </tr>\n",
       "  </thead>\n",
       "  <tbody>\n",
       "    <tr>\n",
       "      <th>0</th>\n",
       "      <td>1042</td>\n",
       "      <td>0.911425</td>\n",
       "      <td>1</td>\n",
       "      <td>112871.0</td>\n",
       "      <td>4674.0</td>\n",
       "      <td>4.00</td>\n",
       "      <td>317.0</td>\n",
       "      <td>0</td>\n",
       "      <td>1593.0</td>\n",
       "      <td>5439.0</td>\n",
       "      <td>24255.0</td>\n",
       "      <td>41993.0</td>\n",
       "      <td>39591.0</td>\n",
       "      <td>1997.0</td>\n",
       "      <td>9.0</td>\n",
       "      <td>1</td>\n",
       "      <td>0</td>\n",
       "      <td>0</td>\n",
       "      <td>29</td>\n",
       "      <td>6</td>\n",
       "      <td>7</td>\n",
       "      <td>2</td>\n",
       "      <td>0.086193</td>\n",
       "    </tr>\n",
       "    <tr>\n",
       "      <th>1</th>\n",
       "      <td>10779</td>\n",
       "      <td>0.511888</td>\n",
       "      <td>0</td>\n",
       "      <td>364.0</td>\n",
       "      <td>47.0</td>\n",
       "      <td>3.97</td>\n",
       "      <td>431.0</td>\n",
       "      <td>0</td>\n",
       "      <td>12.0</td>\n",
       "      <td>16.0</td>\n",
       "      <td>72.0</td>\n",
       "      <td>134.0</td>\n",
       "      <td>130.0</td>\n",
       "      <td>2016.0</td>\n",
       "      <td>5.0</td>\n",
       "      <td>1</td>\n",
       "      <td>0</td>\n",
       "      <td>0</td>\n",
       "      <td>18</td>\n",
       "      <td>3</td>\n",
       "      <td>8</td>\n",
       "      <td>2</td>\n",
       "      <td>0.106061</td>\n",
       "    </tr>\n",
       "    <tr>\n",
       "      <th>2</th>\n",
       "      <td>10072</td>\n",
       "      <td>0.192328</td>\n",
       "      <td>0</td>\n",
       "      <td>49.0</td>\n",
       "      <td>12.0</td>\n",
       "      <td>4.18</td>\n",
       "      <td>294.0</td>\n",
       "      <td>0</td>\n",
       "      <td>0.0</td>\n",
       "      <td>3.0</td>\n",
       "      <td>10.0</td>\n",
       "      <td>11.0</td>\n",
       "      <td>25.0</td>\n",
       "      <td>1994.0</td>\n",
       "      <td>6.0</td>\n",
       "      <td>0</td>\n",
       "      <td>0</td>\n",
       "      <td>0</td>\n",
       "      <td>16</td>\n",
       "      <td>3</td>\n",
       "      <td>8</td>\n",
       "      <td>2</td>\n",
       "      <td>0.083333</td>\n",
       "    </tr>\n",
       "    <tr>\n",
       "      <th>3</th>\n",
       "      <td>15540</td>\n",
       "      <td>0.552947</td>\n",
       "      <td>1</td>\n",
       "      <td>150.0</td>\n",
       "      <td>14.0</td>\n",
       "      <td>3.87</td>\n",
       "      <td>200.0</td>\n",
       "      <td>1</td>\n",
       "      <td>0.0</td>\n",
       "      <td>2.0</td>\n",
       "      <td>46.0</td>\n",
       "      <td>71.0</td>\n",
       "      <td>31.0</td>\n",
       "      <td>1994.0</td>\n",
       "      <td>9.0</td>\n",
       "      <td>0</td>\n",
       "      <td>0</td>\n",
       "      <td>0</td>\n",
       "      <td>16</td>\n",
       "      <td>3</td>\n",
       "      <td>6</td>\n",
       "      <td>2</td>\n",
       "      <td>0.019608</td>\n",
       "    </tr>\n",
       "    <tr>\n",
       "      <th>4</th>\n",
       "      <td>13007</td>\n",
       "      <td>0.550052</td>\n",
       "      <td>1</td>\n",
       "      <td>19322.0</td>\n",
       "      <td>213.0</td>\n",
       "      <td>4.09</td>\n",
       "      <td>268.0</td>\n",
       "      <td>1</td>\n",
       "      <td>285.0</td>\n",
       "      <td>986.0</td>\n",
       "      <td>3758.0</td>\n",
       "      <td>5984.0</td>\n",
       "      <td>8309.0</td>\n",
       "      <td>1993.0</td>\n",
       "      <td>9.0</td>\n",
       "      <td>1</td>\n",
       "      <td>0</td>\n",
       "      <td>1</td>\n",
       "      <td>40</td>\n",
       "      <td>6</td>\n",
       "      <td>11</td>\n",
       "      <td>2</td>\n",
       "      <td>0.088925</td>\n",
       "    </tr>\n",
       "  </tbody>\n",
       "</table>\n",
       "</div>"
      ],
      "text/plain": [
       "   index  pred_proba  fiction  num_ratings  num_reviews  avg_rating  \\\n",
       "0   1042    0.911425        1     112871.0       4674.0        4.00   \n",
       "1  10779    0.511888        0        364.0         47.0        3.97   \n",
       "2  10072    0.192328        0         49.0         12.0        4.18   \n",
       "3  15540    0.552947        1        150.0         14.0        3.87   \n",
       "4  13007    0.550052        1      19322.0        213.0        4.09   \n",
       "\n",
       "   num_pages  series  1_rating_count  2_rating_count  3_rating_count  \\\n",
       "0      317.0       0          1593.0          5439.0         24255.0   \n",
       "1      431.0       0            12.0            16.0            72.0   \n",
       "2      294.0       0             0.0             3.0            10.0   \n",
       "3      200.0       1             0.0             2.0            46.0   \n",
       "4      268.0       1           285.0           986.0          3758.0   \n",
       "\n",
       "   4_rating_count  5_rating_count  publish_year  publish_month  republish  \\\n",
       "0         41993.0         39591.0        1997.0            9.0          1   \n",
       "1           134.0           130.0        2016.0            5.0          1   \n",
       "2            11.0            25.0        1994.0            6.0          0   \n",
       "3            71.0            31.0        1994.0            9.0          0   \n",
       "4          5984.0          8309.0        1993.0            9.0          1   \n",
       "\n",
       "   the_title  has_subtitle  title_char_count  title_word_count  \\\n",
       "0          0             0                29                 6   \n",
       "1          0             0                18                 3   \n",
       "2          0             0                16                 3   \n",
       "3          0             0                16                 3   \n",
       "4          0             1                40                 6   \n",
       "\n",
       "   title_longest_word  author_name_count  rating_ratio  \n",
       "0                   7                  2      0.086193  \n",
       "1                   8                  2      0.106061  \n",
       "2                   8                  2      0.083333  \n",
       "3                   6                  2      0.019608  \n",
       "4                  11                  2      0.088925  "
      ]
     },
     "execution_count": 64,
     "metadata": {},
     "output_type": "execute_result"
    }
   ],
   "source": [
    "# === Merge the rest of the features back in === #\n",
    "df = df.merge(\n",
    "     X_test,\n",
    "     how='left'\n",
    ")\n",
    "\n",
    "print(df.shape)\n",
    "df.head()"
   ]
  },
  {
   "cell_type": "code",
   "execution_count": 125,
   "metadata": {},
   "outputs": [
    {
     "name": "stdout",
     "output_type": "stream",
     "text": [
      "(3625, 27)\n"
     ]
    },
    {
     "data": {
      "text/html": [
       "<div>\n",
       "<style scoped>\n",
       "    .dataframe tbody tr th:only-of-type {\n",
       "        vertical-align: middle;\n",
       "    }\n",
       "\n",
       "    .dataframe tbody tr th {\n",
       "        vertical-align: top;\n",
       "    }\n",
       "\n",
       "    .dataframe thead th {\n",
       "        text-align: right;\n",
       "    }\n",
       "</style>\n",
       "<table border=\"1\" class=\"dataframe\">\n",
       "  <thead>\n",
       "    <tr style=\"text-align: right;\">\n",
       "      <th></th>\n",
       "      <th>index</th>\n",
       "      <th>pred_proba</th>\n",
       "      <th>fiction</th>\n",
       "      <th>author</th>\n",
       "      <th>num_ratings</th>\n",
       "      <th>num_reviews</th>\n",
       "      <th>avg_rating</th>\n",
       "      <th>num_pages</th>\n",
       "      <th>language</th>\n",
       "      <th>short_stories</th>\n",
       "      <th>publish_year</th>\n",
       "      <th>1_rating_count</th>\n",
       "      <th>2_rating_count</th>\n",
       "      <th>3_rating_count</th>\n",
       "      <th>4_rating_count</th>\n",
       "      <th>5_rating_count</th>\n",
       "      <th>in_series</th>\n",
       "      <th>has_charlist</th>\n",
       "      <th>has_setting</th>\n",
       "      <th>char_x_setting</th>\n",
       "      <th>the_title</th>\n",
       "      <th>has_subtitle</th>\n",
       "      <th>title_char_count</th>\n",
       "      <th>title_word_count</th>\n",
       "      <th>author_name_count</th>\n",
       "      <th>rating_ratio_1_5</th>\n",
       "      <th>title</th>\n",
       "    </tr>\n",
       "  </thead>\n",
       "  <tbody>\n",
       "    <tr>\n",
       "      <th>0</th>\n",
       "      <td>7999</td>\n",
       "      <td>0.994971</td>\n",
       "      <td>1</td>\n",
       "      <td>John Connolly</td>\n",
       "      <td>4085.0</td>\n",
       "      <td>243.0</td>\n",
       "      <td>3.97</td>\n",
       "      <td>451.0</td>\n",
       "      <td>English</td>\n",
       "      <td>0</td>\n",
       "      <td>2005.0</td>\n",
       "      <td>61.0</td>\n",
       "      <td>186.0</td>\n",
       "      <td>891.0</td>\n",
       "      <td>1643.0</td>\n",
       "      <td>1304.0</td>\n",
       "      <td>0</td>\n",
       "      <td>1</td>\n",
       "      <td>1</td>\n",
       "      <td>1</td>\n",
       "      <td>0</td>\n",
       "      <td>0</td>\n",
       "      <td>7</td>\n",
       "      <td>2</td>\n",
       "      <td>2</td>\n",
       "      <td>0.083814</td>\n",
       "      <td>Bad Men</td>\n",
       "    </tr>\n",
       "    <tr>\n",
       "      <th>1</th>\n",
       "      <td>16674</td>\n",
       "      <td>0.231404</td>\n",
       "      <td>0</td>\n",
       "      <td>Mila Gray</td>\n",
       "      <td>7054.0</td>\n",
       "      <td>925.0</td>\n",
       "      <td>4.19</td>\n",
       "      <td>373.0</td>\n",
       "      <td>English</td>\n",
       "      <td>0</td>\n",
       "      <td>2014.0</td>\n",
       "      <td>121.0</td>\n",
       "      <td>257.0</td>\n",
       "      <td>1091.0</td>\n",
       "      <td>2294.0</td>\n",
       "      <td>3291.0</td>\n",
       "      <td>1</td>\n",
       "      <td>0</td>\n",
       "      <td>0</td>\n",
       "      <td>0</td>\n",
       "      <td>0</td>\n",
       "      <td>0</td>\n",
       "      <td>15</td>\n",
       "      <td>4</td>\n",
       "      <td>2</td>\n",
       "      <td>0.067681</td>\n",
       "      <td>Come Back to Me</td>\n",
       "    </tr>\n",
       "    <tr>\n",
       "      <th>2</th>\n",
       "      <td>2684</td>\n",
       "      <td>0.000045</td>\n",
       "      <td>0</td>\n",
       "      <td>Gene Baur</td>\n",
       "      <td>1318.0</td>\n",
       "      <td>129.0</td>\n",
       "      <td>4.29</td>\n",
       "      <td>320.0</td>\n",
       "      <td>English</td>\n",
       "      <td>0</td>\n",
       "      <td>2008.0</td>\n",
       "      <td>16.0</td>\n",
       "      <td>41.0</td>\n",
       "      <td>164.0</td>\n",
       "      <td>416.0</td>\n",
       "      <td>681.0</td>\n",
       "      <td>0</td>\n",
       "      <td>0</td>\n",
       "      <td>0</td>\n",
       "      <td>0</td>\n",
       "      <td>0</td>\n",
       "      <td>1</td>\n",
       "      <td>64</td>\n",
       "      <td>10</td>\n",
       "      <td>2</td>\n",
       "      <td>0.051960</td>\n",
       "      <td>Farm Sanctuary: Changing Hearts and Minds Abou...</td>\n",
       "    </tr>\n",
       "    <tr>\n",
       "      <th>3</th>\n",
       "      <td>11632</td>\n",
       "      <td>0.994077</td>\n",
       "      <td>1</td>\n",
       "      <td>J. Bernlef</td>\n",
       "      <td>7718.0</td>\n",
       "      <td>305.0</td>\n",
       "      <td>3.87</td>\n",
       "      <td>160.0</td>\n",
       "      <td>Dutch</td>\n",
       "      <td>0</td>\n",
       "      <td>1985.0</td>\n",
       "      <td>103.0</td>\n",
       "      <td>381.0</td>\n",
       "      <td>1820.0</td>\n",
       "      <td>3534.0</td>\n",
       "      <td>1880.0</td>\n",
       "      <td>0</td>\n",
       "      <td>1</td>\n",
       "      <td>1</td>\n",
       "      <td>1</td>\n",
       "      <td>0</td>\n",
       "      <td>0</td>\n",
       "      <td>14</td>\n",
       "      <td>1</td>\n",
       "      <td>2</td>\n",
       "      <td>0.089398</td>\n",
       "      <td>Hersenschimmen</td>\n",
       "    </tr>\n",
       "    <tr>\n",
       "      <th>4</th>\n",
       "      <td>12886</td>\n",
       "      <td>0.885394</td>\n",
       "      <td>0</td>\n",
       "      <td>Shannon Morton</td>\n",
       "      <td>264.0</td>\n",
       "      <td>30.0</td>\n",
       "      <td>3.59</td>\n",
       "      <td>226.0</td>\n",
       "      <td>English</td>\n",
       "      <td>0</td>\n",
       "      <td>2012.0</td>\n",
       "      <td>18.0</td>\n",
       "      <td>30.0</td>\n",
       "      <td>64.0</td>\n",
       "      <td>83.0</td>\n",
       "      <td>69.0</td>\n",
       "      <td>1</td>\n",
       "      <td>0</td>\n",
       "      <td>0</td>\n",
       "      <td>0</td>\n",
       "      <td>0</td>\n",
       "      <td>0</td>\n",
       "      <td>15</td>\n",
       "      <td>3</td>\n",
       "      <td>2</td>\n",
       "      <td>0.315789</td>\n",
       "      <td>Tempted by Evil</td>\n",
       "    </tr>\n",
       "  </tbody>\n",
       "</table>\n",
       "</div>"
      ],
      "text/plain": [
       "   index  pred_proba  fiction          author  num_ratings  num_reviews  \\\n",
       "0   7999    0.994971        1   John Connolly       4085.0        243.0   \n",
       "1  16674    0.231404        0       Mila Gray       7054.0        925.0   \n",
       "2   2684    0.000045        0       Gene Baur       1318.0        129.0   \n",
       "3  11632    0.994077        1      J. Bernlef       7718.0        305.0   \n",
       "4  12886    0.885394        0  Shannon Morton        264.0         30.0   \n",
       "\n",
       "   avg_rating  num_pages language  short_stories  publish_year  \\\n",
       "0        3.97      451.0  English              0        2005.0   \n",
       "1        4.19      373.0  English              0        2014.0   \n",
       "2        4.29      320.0  English              0        2008.0   \n",
       "3        3.87      160.0    Dutch              0        1985.0   \n",
       "4        3.59      226.0  English              0        2012.0   \n",
       "\n",
       "   1_rating_count  2_rating_count  3_rating_count  4_rating_count  \\\n",
       "0            61.0           186.0           891.0          1643.0   \n",
       "1           121.0           257.0          1091.0          2294.0   \n",
       "2            16.0            41.0           164.0           416.0   \n",
       "3           103.0           381.0          1820.0          3534.0   \n",
       "4            18.0            30.0            64.0            83.0   \n",
       "\n",
       "   5_rating_count  in_series  has_charlist  has_setting  char_x_setting  \\\n",
       "0          1304.0          0             1            1               1   \n",
       "1          3291.0          1             0            0               0   \n",
       "2           681.0          0             0            0               0   \n",
       "3          1880.0          0             1            1               1   \n",
       "4            69.0          1             0            0               0   \n",
       "\n",
       "   the_title  has_subtitle  title_char_count  title_word_count  \\\n",
       "0          0             0                 7                 2   \n",
       "1          0             0                15                 4   \n",
       "2          0             1                64                10   \n",
       "3          0             0                14                 1   \n",
       "4          0             0                15                 3   \n",
       "\n",
       "   author_name_count  rating_ratio_1_5  \\\n",
       "0                  2          0.083814   \n",
       "1                  2          0.067681   \n",
       "2                  2          0.051960   \n",
       "3                  2          0.089398   \n",
       "4                  2          0.315789   \n",
       "\n",
       "                                               title  \n",
       "0                                            Bad Men  \n",
       "1                                    Come Back to Me  \n",
       "2  Farm Sanctuary: Changing Hearts and Minds Abou...  \n",
       "3                                     Hersenschimmen  \n",
       "4                                    Tempted by Evil  "
      ]
     },
     "execution_count": 125,
     "metadata": {},
     "output_type": "execute_result"
    }
   ],
   "source": [
    "# === Merge the titles back in === #\n",
    "df = df.merge(\n",
    "     title_id_test,\n",
    "     how='left'\n",
    ")\n",
    "\n",
    "print(df.shape)\n",
    "df.head()"
   ]
  },
  {
   "cell_type": "code",
   "execution_count": null,
   "metadata": {
    "colab": {},
    "colab_type": "code",
    "id": "p8MrKRFRIT7o"
   },
   "outputs": [],
   "source": []
  },
  {
   "cell_type": "code",
   "execution_count": null,
   "metadata": {
    "colab": {},
    "colab_type": "code",
    "id": "GujxCzg8IT7r"
   },
   "outputs": [],
   "source": []
  },
  {
   "cell_type": "code",
   "execution_count": null,
   "metadata": {
    "colab": {},
    "colab_type": "code",
    "id": "qCUPn-XuIT7w"
   },
   "outputs": [],
   "source": []
  },
  {
   "cell_type": "code",
   "execution_count": null,
   "metadata": {
    "colab": {},
    "colab_type": "code",
    "id": "QGXwE6_OIT7z"
   },
   "outputs": [],
   "source": []
  },
  {
   "cell_type": "code",
   "execution_count": null,
   "metadata": {
    "colab": {},
    "colab_type": "code",
    "id": "cmVOAg53IT71"
   },
   "outputs": [],
   "source": []
  }
 ],
 "metadata": {
  "colab": {
   "collapsed_sections": [],
   "name": "print_fiction_2-03_modeling.ipynb",
   "provenance": []
  },
  "kernelspec": {
   "display_name": "Python 3",
   "language": "python",
   "name": "python3"
  },
  "language_info": {
   "codemirror_mode": {
    "name": "ipython",
    "version": 3
   },
   "file_extension": ".py",
   "mimetype": "text/x-python",
   "name": "python",
   "nbconvert_exporter": "python",
   "pygments_lexer": "ipython3",
   "version": "3.7.6"
  }
 },
 "nbformat": 4,
 "nbformat_minor": 4
}
