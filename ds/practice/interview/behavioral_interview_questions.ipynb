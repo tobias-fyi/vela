{
 "cells": [
  {
   "cell_type": "markdown",
   "metadata": {},
   "source": [
    "# Data Science Interview Prep\n",
    "\n",
    "Interview questions and practice problems."
   ]
  },
  {
   "cell_type": "markdown",
   "metadata": {},
   "source": [
    "---\n",
    "---\n",
    "\n",
    "## Table of Contents\n",
    "\n"
   ]
  },
  {
   "cell_type": "markdown",
   "metadata": {},
   "source": [
    "---\n",
    "---\n",
    "\n",
    "## Resources\n",
    "\n"
   ]
  },
  {
   "cell_type": "markdown",
   "metadata": {},
   "source": [
    "---\n",
    "---\n",
    "\n",
    "## Behavioral questions"
   ]
  },
  {
   "cell_type": "markdown",
   "metadata": {},
   "source": [
    "### Journey, Experience, and Projects\n",
    "\n",
    "* Tell me a bit about yourself\n",
    "  * Give me a 2-minute elevator pitch on your career up to this point\n",
    "    * I love to challenge myself and to learn\n",
    "* Tell me about a project you've worked on and are proud of\n",
    "* What is the biggest success in your career and what led to that success?"
   ]
  },
  {
   "cell_type": "markdown",
   "metadata": {},
   "source": [
    "### Personality\n",
    "\n",
    "* What is your greatest strength/weakness?\n",
    "  * What is your greatest technical strength?\n",
    "* What is the greatest misperception others have about you and who you are?\n",
    "* What important truth do very few people agree with you on?"
   ]
  },
  {
   "cell_type": "markdown",
   "metadata": {},
   "source": [
    "### Company and Role\n",
    "\n",
    "* What do you know about our company?\n",
    "* Why do you want to work here / want this job?\n",
    "* What makes you most qualified for this role?\n",
    "* What have you learned in the last year outside of work?\n",
    "* Where do you see yourself in 3-5 years?\n",
    "* What does data science look like in 10 years?\n",
    "  * What are 5 predictions you have for the next 10 years?"
   ]
  },
  {
   "cell_type": "markdown",
   "metadata": {},
   "source": [
    "### Scenario\n",
    "\n",
    "1. What was the situation?\n",
    "2. What happened?\n",
    "3. What was the outcome?\n",
    "\n",
    "> STAR: situation, task, action, result\n",
    "\n",
    "* Tell me about (a time when)...\n",
    "  * You had conflict with someone and how you handled it\n",
    "  * You made as mistake and how you handled it\n",
    "  * You had to get something done but had no idea where to begin?\n",
    "  * You had to go against the data and go with your gut?\n",
    "  * Greatest challenge (overcome)\n",
    "  * Persuaded someone who did not agree with you\n",
    "  * Dealt with and resolved a conflict (among team members)\n",
    "  * Led a team / showed leadership skills or aptitude\n",
    "  * How you've dealt with stress / stressful situations\n",
    "  * Most difficult problem encountered in previous job; how you solved it\n",
    "  * Solved a problem creatively\n",
    "    * Found a method of using deep learning to remove image backgrounds\n",
    "  * Exceeded expectations to get a job done\n",
    "  * Showed initiative\n",
    "  * Something that's not on your resume\n",
    "  * Example of important goal you set and how you reached it\n",
    "  * A time you failed"
   ]
  },
  {
   "cell_type": "markdown",
   "metadata": {},
   "source": [
    "---\n",
    "---\n",
    "\n",
    "## Questions for the interviewer\n",
    "\n",
    "### Interviewer / Job\n",
    "\n",
    "* What do you love most about working here?\n",
    "  * What's your favorite thing that you've worked on?\n",
    "* What has your journey looked like at the company?\n",
    "* What did you find most surprising about the company culture when you first started?\n",
    "* What are some interesting problems/challenges you face in your position?\n",
    "\n",
    "### Company\n",
    "\n",
    "* What do you think is the most important thing to **Company**?\n",
    "* Are there opportunities for professional development? If so, what do they look like?\n",
    "  * Will there be opportunities to be mentored?\n",
    "* If a startup, how long is the runway?\n",
    "\n",
    "\n",
    "### Myself and the Role\n",
    "\n",
    "* What do the day-to-day responsibilities of the role look like?\n",
    "* What does success look like in this position, and how do you measure it?\n",
    "* Who will I be working most closely with?\n",
    "* Is there anything about my background or resume that is unclear or makes you question whether I am a good fit for this role?"
   ]
  },
  {
   "cell_type": "markdown",
   "metadata": {},
   "source": [
    "---\n",
    "---\n",
    "\n",
    "## General / Unclassified\n"
   ]
  },
  {
   "cell_type": "markdown",
   "metadata": {},
   "source": []
  },
  {
   "cell_type": "markdown",
   "metadata": {},
   "source": []
  },
  {
   "cell_type": "markdown",
   "metadata": {},
   "source": []
  },
  {
   "cell_type": "markdown",
   "metadata": {},
   "source": []
  },
  {
   "cell_type": "markdown",
   "metadata": {},
   "source": []
  },
  {
   "cell_type": "markdown",
   "metadata": {},
   "source": []
  }
 ],
 "metadata": {
  "kernelspec": {
   "display_name": "Python 3.7.6 64-bit ('vela': pipenv)",
   "language": "python",
   "name": "python37664bitvelapipenvde09592071074af6a70ce3b1ce38af95"
  },
  "language_info": {
   "codemirror_mode": {
    "name": "ipython",
    "version": 3
   },
   "file_extension": ".py",
   "mimetype": "text/x-python",
   "name": "python",
   "nbconvert_exporter": "python",
   "pygments_lexer": "ipython3",
   "version": "3.7.6"
  }
 },
 "nbformat": 4,
 "nbformat_minor": 4
}
