{
 "metadata": {
  "language_info": {
   "codemirror_mode": {
    "name": "ipython",
    "version": 3
   },
   "file_extension": ".py",
   "mimetype": "text/x-python",
   "name": "python",
   "nbconvert_exporter": "python",
   "pygments_lexer": "ipython3",
   "version": "3.7.6"
  },
  "orig_nbformat": 2,
  "kernelspec": {
   "name": "python376jvsc74a57bd0d279672dec97687973da8f2b23dbdcc76259fde61874b489061eca7e42b844dc",
   "display_name": "Python 3.7.6 64-bit ('vela': pipenv)"
  }
 },
 "nbformat": 4,
 "nbformat_minor": 2,
 "cells": [
  {
   "source": [
    "# 2021-05-08 Daily Practice\n",
    "\n",
    "- [ ] Practice\n",
    "  - [ ] SQL\n",
    "  - [ ] Code\n",
    "  - [ ] Solve\n",
    "- [ ] Learn\n",
    "- [ ] Write\n",
    "- [ ] Build"
   ],
   "cell_type": "markdown",
   "metadata": {}
  },
  {
   "source": [
    "---\n",
    "\n",
    "## Practice"
   ],
   "cell_type": "markdown",
   "metadata": {}
  },
  {
   "source": [
    "### Combination Sum\n",
    "\n",
    "> [On LeetCode](https://leetcode.com/problems/combination-sum/)\n",
    "\n",
    "Given an array of distinct integers `candidates` and a target integer `target`, return a list of all unique combinations of `candidates` where the chosen numbers sum to `target`. You may return the combinations in any order.\n",
    "\n",
    "The same number may be chosen from `candidates` an unlimited number of times. Two combinations are unique if the frequency of at least one of the chosen numbers is different.\n",
    "\n",
    "It is guaranteed that the number of unique combinations that sum up to `target` is less than 150 combinations for the given input.\n",
    "\n",
    "Example 1:\n",
    "\n",
    "    Input: candidates = [2,3,6,7], target = 7\n",
    "    Output: [[2,2,3],[7]]\n",
    "    Explanation:\n",
    "    2 and 3 are candidates, and 2 + 2 + 3 = 7. Note that 2 can be used multiple times.\n",
    "    7 is a candidate, and 7 = 7.\n",
    "    These are the only two combinations.\n",
    "\n",
    "Example 2:\n",
    "\n",
    "    Input: candidates = [2,3,5], target = 8\n",
    "    Output: [[2,2,2,2],[2,3,3],[3,5]]\n",
    "\n",
    "Example 3:\n",
    "\n",
    "    Input: candidates = [2], target = 1\n",
    "    Output: []\n",
    "\n",
    "Example 4:\n",
    "\n",
    "    Input: candidates = [1], target = 1\n",
    "    Output: [[1]]\n",
    "\n",
    "Example 5:\n",
    "\n",
    "    Input: candidates = [1], target = 2\n",
    "    Output: [[1,1]]\n"
   ],
   "cell_type": "markdown",
   "metadata": {}
  },
  {
   "cell_type": "code",
   "execution_count": 1,
   "metadata": {},
   "outputs": [
    {
     "output_type": "error",
     "ename": "SyntaxError",
     "evalue": "unexpected EOF while parsing (2726106141.py, line 7)",
     "traceback": [
      "\u001b[0;36m  File \u001b[0;32m\"/var/folders/51/jw_hn7_d1gx0q0thjrwtfh_00000gn/T/ipykernel_8093/2726106141.py\"\u001b[0;36m, line \u001b[0;32m7\u001b[0m\n\u001b[0;31m    # If element is smaller than target,\u001b[0m\n\u001b[0m                                        ^\u001b[0m\n\u001b[0;31mSyntaxError\u001b[0m\u001b[0;31m:\u001b[0m unexpected EOF while parsing\n"
     ]
    }
   ],
   "source": [
    "class Solution:\n",
    "    def combinationSum(self, candidates: List[int], target: int) -> List[List[int]]:\n",
    "        # Create a list to hold the chosen candidates\n",
    "        # For each element in the array\n",
    "        # If element is larger than target, do nothing\n",
    "        # If element is equal to target, add single instance of element (as list) to chosen\n",
    "        # If element is smaller than target...\n",
    "        # # If target mod element is zero, then append list of n element where n = target / element\n",
    "        # # If target mod element is nonzero, use result of floor division to find out how many times element goes into target\n",
    "        # # Subtract result of floor division times element from target\n",
    "        # ...nope, this isn't a good implementation"
   ]
  },
  {
   "cell_type": "code",
   "execution_count": 4,
   "metadata": {},
   "outputs": [
    {
     "output_type": "execute_result",
     "data": {
      "text/plain": [
       "1"
      ]
     },
     "metadata": {},
     "execution_count": 4
    }
   ],
   "source": [
    "class Solution:\n",
    "    def combinationSum(self, candidates: List[int], target: int) -> List[List[int]]:\n",
    "        # Create a list to hold the chosen candidates\n",
    "        # For each element in the array\n",
    "        # # If element is larger than target, do nothing\n",
    "        # # If element is equal to target, add single instance of element (as list) to chosen\n",
    "        # If element is smaller than target...\n",
    "        # # Create list of chosen ones for this element; append one copy of element to this new list\n",
    "        # # Subtract element from target, and compare again\n",
    "        # -> This makes me think recursion!"
   ]
  },
  {
   "source": [
    "```txt\n",
    "candidates = [2,3,6,7], target = 7\n",
    "element = 2\n",
    "element is smaller than target.\n",
    "chose = [2]\n",
    "new_target = 7 - 2 = 5\n",
    "element is smaller than target.\n",
    "chose = [2, 2]\n",
    "new_target = 5 - 2 = 3\n",
    "element is smaller than target.\n",
    "chose = [2, 2, 2]\n",
    "new target = 3 - 2 = 1\n",
    "element is larger than target.\n",
    "look for target in array\n",
    "```"
   ],
   "cell_type": "markdown",
   "metadata": {}
  },
  {
   "source": [
    "Recursion?\n",
    "\n",
    "```txt\n",
    "candidates = [2,3,6,7], target = 7\n",
    "Create a path to the target, using the remainder. Return path if it works, otherwise backtrack.\n",
    "```"
   ],
   "cell_type": "markdown",
   "metadata": {}
  },
  {
   "cell_type": "code",
   "execution_count": null,
   "metadata": {},
   "outputs": [],
   "source": [
    "class Solution:\n",
    "    def combinationSum(self, candidates: List[int], target: int) -> List[List[int]]:\n",
    "        chosen = []  # List of paths to return\n",
    "        sorted_cand = sorted(candidates)  # Ensure list of candidates is sorted\n",
    "\n",
    "    def dfs(self, c, tgt):\n",
    "        # Base case: target = 0 -> valid path found\n",
    "        if tgt = 0:\n",
    "            return [c[0]]\n",
    "        # Base case: target < path[-1] -> invalid path; backtrack\n",
    "        elif tgt < c[0]:\n",
    "            return\n",
    "        # Recursive case: candidates to search and new target\n",
    "        valid = self.dfs(c, tgt - c[0])\n",
    "        if valid is None:\n",
    "            valid = self.dfs(c[1:], tgt - c[1])\n",
    "        return [c[0]] + ..."
   ]
  },
  {
   "source": [
    "Not sure if it's possible without iteration."
   ],
   "cell_type": "markdown",
   "metadata": {}
  },
  {
   "cell_type": "code",
   "execution_count": null,
   "metadata": {},
   "outputs": [],
   "source": [
    "class Solution:\n",
    "    def combinationSum(self, candidates: List[int], target: int) -> List[List[int]]:\n",
    "        chosen = []  # List of paths to return\n",
    "        sorted_cand = sorted(candidates)  # Ensure list of candidates is sorted\n",
    "\n",
    "    def dfs(self, c, tgt):\n",
    "        # Base case: target < path[-1] -> invalid path; backtrack\n",
    "        elif tgt < 0: return\n",
    "        # Base case: target = 0 -> valid path found\n",
    "        if tgt = 0: return [c[0]]"
   ]
  },
  {
   "cell_type": "code",
   "execution_count": null,
   "metadata": {},
   "outputs": [],
   "source": [
    "# Solution from the discussion section\n",
    "class Solution:\n",
    "    def combinationSum(self, candidates, target):\n",
    "        ret = []\n",
    "        self.dfs(candidates, target, [], ret)\n",
    "        return ret\n",
    "    \n",
    "    def dfs(self, nums, target, path, ret):\n",
    "        if target < 0:\n",
    "            return \n",
    "        if target == 0:\n",
    "            ret.append(path)\n",
    "            return \n",
    "        for i in range(len(nums)):\n",
    "            self.dfs(nums[i:], target-nums[i], path+[nums[i]], ret)"
   ]
  },
  {
   "source": [
    "### Buy and Sell Stock I\n",
    "\n",
    "> On [LeetCode](https://leetcode.com/problems/best-time-to-buy-and-sell-stock/)"
   ],
   "cell_type": "markdown",
   "metadata": {}
  },
  {
   "cell_type": "code",
   "execution_count": null,
   "metadata": {},
   "outputs": [],
   "source": [
    "class Solution:\n",
    "    def maxProfit(self, prices: List[int]) -> int:\n",
    "        min = prices[0]\n",
    "        profit = 0\n",
    "        for p in prices:\n",
    "            if p < min: min = p\n",
    "            if p - min > profit: profit = p - min\n",
    "        return profit"
   ]
  }
 ]
}