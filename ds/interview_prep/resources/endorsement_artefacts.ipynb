{
 "cells": [
  {
   "cell_type": "markdown",
   "metadata": {},
   "source": [
    "# Professional Artefacts\n",
    "\n",
    "_Tobias Reaper_"
   ]
  },
  {
   "cell_type": "markdown",
   "metadata": {},
   "source": [
    "---\n",
    "\n",
    "## Endorsement Artefacts Checklist\n",
    "\n",
    "* [ ] An updated and edited resume (1 page) tailored to your career track. Resume should have: \n",
    "  * [ ] “Skills” section with all the technologies you have learned listed\n",
    "  * [ ] “Projects” section featuring the following information:\n",
    "    * [ ] Project Title (hyperlink to deployed project)\n",
    "    * [ ] One sentence to describe what the project does Tech Stack | Tech | Tech | Tech \n",
    "    * [ ] Sentence describing deadline (# of weeks), how many people on the team, and your contributions \n",
    "    * [ ] Sentence describing how you used a technology \n",
    "    * [ ] GitHub Repo/Frontend/Backend link\n",
    "  * [ ] “Employment” section with power statements describing transferable skills from previous jobs\n",
    "  * [ ] “Education” section featuring Lambda School and previous schooling \n",
    "  * [ ] Additional sections deemed necessary by coach, such as summary, achievements, activities, etc. \n",
    "\n",
    "===\n",
    "\n",
    "* [ ] Updated LinkedIn profile, including: \n",
    "  * [ ] A clear headshot and cover photo \n",
    "  * [ ] Personal summary to let people get to know you- reference your portfolio site here \n",
    "  * [ ] Work experiences, with descriptions (only include Lambda under work if you were a PM) \n",
    "  * [ ] Projects, which LI categorizes under “accomplishments” section.\n",
    "    * Highlight personal, build week, and labs projects, with a link for any deployed projects \n",
    "  * [ ] Education, featuring Lambda School and any previous schooling \n",
    "\n",
    "===\n",
    "\n",
    "* [ ] Green GitHub with quality contributions, including: \n",
    "  * [ ] A clear headshot and and professional user handle \n",
    "  * [ ] Top pinned projects should include any open source contributions and your Build Week or Labs projects \n",
    "  * [ ] Weekly contributions, to show ongoing commitment to skills-building\n",
    "\n",
    "===\n",
    "\n",
    "* [ ] Active online presence, including a portfolio site (buildable through Beautiful Jekyll, Wix, Squarespace, etc.) OR Medium/other blog highlighting your projects and skills, including:\n",
    "  * [ ] Your own domain name (for a portfolio site), purchased through Namecheap or other site.\n",
    "  * [ ] Long-form written descriptions of your projects and technical learning/progress\n",
    "  * [ ] Links to LinkedIn, GitHub, and any other relevant artifacts\n",
    "  * [ ] All Build Weeks and Labs projects with links to code in GitHub"
   ]
  },
  {
   "cell_type": "markdown",
   "metadata": {},
   "source": []
  },
  {
   "cell_type": "markdown",
   "metadata": {},
   "source": []
  },
  {
   "cell_type": "markdown",
   "metadata": {},
   "source": []
  },
  {
   "cell_type": "markdown",
   "metadata": {},
   "source": []
  },
  {
   "cell_type": "markdown",
   "metadata": {},
   "source": []
  },
  {
   "cell_type": "markdown",
   "metadata": {},
   "source": []
  },
  {
   "cell_type": "markdown",
   "metadata": {},
   "source": []
  },
  {
   "cell_type": "markdown",
   "metadata": {},
   "source": []
  }
 ],
 "metadata": {
  "kernelspec": {
   "display_name": "Python 3.7.6 64-bit ('vela': pipenv)",
   "language": "python",
   "name": "python37664bitvelapipenvde09592071074af6a70ce3b1ce38af95"
  },
  "language_info": {
   "codemirror_mode": {
    "name": "ipython",
    "version": 3
   },
   "file_extension": ".py",
   "mimetype": "text/x-python",
   "name": "python",
   "nbconvert_exporter": "python",
   "pygments_lexer": "ipython3",
   "version": "3.7.6"
  }
 },
 "nbformat": 4,
 "nbformat_minor": 4
}
