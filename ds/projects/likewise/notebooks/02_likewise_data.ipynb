{
  "nbformat": 4,
  "nbformat_minor": 0,
  "metadata": {
    "kernelspec": {
      "name": "python3",
      "display_name": "Python 3"
    },
    "colab": {
      "name": "02_likewise_data.ipynb",
      "provenance": [],
      "collapsed_sections": [],
      "toc_visible": true
    }
  },
  "cells": [
    {
      "cell_type": "markdown",
      "metadata": {
        "id": "I247szK0X_CE",
        "colab_type": "text"
      },
      "source": [
        "# LikeWise\n",
        "\n",
        "### A Comparison of Book Recommender Systems\n",
        "\n",
        "### By _Owen Burton_ and _Tobias Reaper_"
      ]
    },
    {
      "cell_type": "markdown",
      "metadata": {
        "id": "ijOK-tEUX_CR",
        "colab_type": "text"
      },
      "source": [
        "---\n",
        "---\n",
        "\n",
        "## Outline\n",
        "\n",
        "* [Introduction]()\n",
        "* [_Imports and Configuration_]()\n",
        "* [Data]()\n",
        "  * [Loading and Looking]()\n",
        "  * [Wrangling and Exploration]()"
      ]
    },
    {
      "cell_type": "markdown",
      "metadata": {
        "id": "by6gDq5PX_CV",
        "colab_type": "text"
      },
      "source": [
        "---\n",
        "---\n",
        "\n",
        "## Introduction\n",
        "\n",
        "### Stop! Collaborate and Filter\n",
        "\n",
        "[Collaborative Filtering](https://d2l.ai/chapter_recommender-systems/recsys-intro.html#collaborative-filtering) (CF)\n",
        "\n",
        "> In general, CF only uses the user-item interaction data to make predictions and recommendations."
      ]
    },
    {
      "cell_type": "markdown",
      "metadata": {
        "id": "GIYTUXCXX_Cu",
        "colab_type": "text"
      },
      "source": [
        "---\n",
        "---\n",
        "\n",
        "## Imports and Configuration"
      ]
    },
    {
      "cell_type": "code",
      "metadata": {
        "id": "nCk6ea9KX_C0",
        "colab_type": "code",
        "colab": {}
      },
      "source": [
        "# === General imports === #\n",
        "import pandas as pd\n",
        "import numpy as np\n",
        "import matplotlib.pyplot as plt\n",
        "\n",
        "import os"
      ],
      "execution_count": 1,
      "outputs": []
    },
    {
      "cell_type": "code",
      "metadata": {
        "id": "t-D9UU9CVqCe",
        "colab_type": "code",
        "colab": {}
      },
      "source": [
        "# === fastai imports === #\n",
        "from fastai.collab import *"
      ],
      "execution_count": 2,
      "outputs": []
    },
    {
      "cell_type": "code",
      "metadata": {
        "id": "1sYbdN9oX_ET",
        "colab_type": "code",
        "colab": {}
      },
      "source": [
        "# === Configuration === #\n",
        "%matplotlib inline\n",
        "pd.options.display.max_columns = 100\n",
        "pd.options.display.max_rows = 200"
      ],
      "execution_count": 3,
      "outputs": []
    },
    {
      "cell_type": "code",
      "metadata": {
        "id": "BSwNGxeHWpn2",
        "colab_type": "code",
        "colab": {
          "base_uri": "https://localhost:8080/",
          "height": 35
        },
        "outputId": "d92409d5-cbae-4c35-d596-f73e58086fe5"
      },
      "source": [
        "from google.colab import drive\n",
        "drive.mount('/content/drive')"
      ],
      "execution_count": 4,
      "outputs": [
        {
          "output_type": "stream",
          "text": [
            "Drive already mounted at /content/drive; to attempt to forcibly remount, call drive.mount(\"/content/drive\", force_remount=True).\n"
          ],
          "name": "stdout"
        }
      ]
    },
    {
      "cell_type": "code",
      "metadata": {
        "id": "ovTuurIETSD3",
        "colab_type": "code",
        "colab": {}
      },
      "source": [
        "# === Set up path to project dir === #\n",
        "PROJECT_DIR = \"/content/drive/My Drive/workshop/buildbox/likewise\""
      ],
      "execution_count": 5,
      "outputs": []
    },
    {
      "cell_type": "markdown",
      "metadata": {
        "id": "aC3_huAZX_FD",
        "colab_type": "text"
      },
      "source": [
        "---\n",
        "---\n",
        "\n",
        "## Data\n",
        "\n",
        "Intro to and explanation of dataset — why this dataset?\n",
        "\n",
        "Here is the dataset used for the LikeWise recommender systems: [UCSD Book Graph - GoodReads Datasets](https://sites.google.com/eng.ucsd.edu/ucsdbookgraph/home).\n",
        "\n",
        "For this particular model, I'll be using the \"Shelves\" dataset, which has interactions between users and books (ratings).\n",
        "\n",
        "The relevant columns are `user_id`, `book_id`, and `rating`. They are pretty self-explanatory, but just to be explicit, each record indicates a user rating a book that they've (presumably) read and have an opinion on.\n",
        "\n",
        "Speaking of explicit, the fact that the user _explicitly_ rates the books makes this dataset one of explicit preferences"
      ]
    },
    {
      "cell_type": "markdown",
      "metadata": {
        "id": "vu0yFCmFX_FJ",
        "colab_type": "text"
      },
      "source": [
        "---\n",
        "\n",
        "### Load and Look\n",
        "\n",
        "Load the dataset and look at basic descriptive statistics."
      ]
    },
    {
      "cell_type": "markdown",
      "metadata": {
        "id": "AR2XwDo9auBp",
        "colab_type": "text"
      },
      "source": [
        "#### Download\n",
        "\n",
        "To develop and validate the initial models, we'll be using a genre-wise subset of the full interactions dataset for the Mystery, Thriller & Crime genre. This subset contains ~24.8m interactions (1.33 GB), as opposed to the ~229m (4.1 GB?) of the full dataset.\n",
        "\n",
        "The datasets can be [downloaded](https://github.com/MengtingWan/goodreads/blob/master/download.ipynb) from the creator's Google Drive using the `gdown` package.\n",
        "\n",
        "The \"Shelves\" dataset, including the genre-wise subsets, do not include the title of the book. It will be useful to get those titles matched up with their respective IDs at some point."
      ]
    },
    {
      "cell_type": "code",
      "metadata": {
        "colab_type": "code",
        "id": "VLgIez-LaUS3",
        "colab": {
          "base_uri": "https://localhost:8080/",
          "height": 109
        },
        "outputId": "a659d56b-ded8-4c69-f76a-45339a416f72"
      },
      "source": [
        "# === Download goodreads_interactions_mystery_thriller_crime.json.gz === #\n",
        "import gdown\n",
        "\n",
        "file_id = \"1xuujDT-vOMMkk2Kog0CTT9ADmnD8pa9D\"\n",
        "url = \"https://drive.google.com/uc?id=\" + file_id\n",
        "gdown.download(url, output=None, quiet=False)"
      ],
      "execution_count": 2,
      "outputs": [
        {
          "output_type": "stream",
          "text": [
            "Downloading...\n",
            "From: https://drive.google.com/uc?id=1xuujDT-vOMMkk2Kog0CTT9ADmnD8pa9D\n",
            "To: /content/goodreads_interactions_mystery_thriller_crime.json.gz\n",
            "1.33GB [00:22, 58.5MB/s]\n"
          ],
          "name": "stderr"
        },
        {
          "output_type": "execute_result",
          "data": {
            "application/vnd.google.colaboratory.intrinsic": {
              "type": "string"
            },
            "text/plain": [
              "'goodreads_interactions_mystery_thriller_crime.json.gz'"
            ]
          },
          "metadata": {
            "tags": []
          },
          "execution_count": 2
        }
      ]
    },
    {
      "cell_type": "code",
      "metadata": {
        "id": "6ykHdYTexozs",
        "colab_type": "code",
        "colab": {
          "base_uri": "https://localhost:8080/",
          "height": 109
        },
        "outputId": "8da1e27f-143d-4fb7-b6a1-2112e0551f29"
      },
      "source": [
        "# === Download book_id_map.csv to get titles === #\n",
        "file_id = \"1CHTAaNwyzvbi1TR08MJrJ03BxA266Yxr\"\n",
        "url = \"https://drive.google.com/uc?id=\" + file_id\n",
        "gdown.download(url, output=None, quiet=False)"
      ],
      "execution_count": 3,
      "outputs": [
        {
          "output_type": "stream",
          "text": [
            "Downloading...\n",
            "From: https://drive.google.com/uc?id=1CHTAaNwyzvbi1TR08MJrJ03BxA266Yxr\n",
            "To: /content/book_id_map.csv\n",
            "37.8MB [00:01, 31.1MB/s]\n"
          ],
          "name": "stderr"
        },
        {
          "output_type": "execute_result",
          "data": {
            "application/vnd.google.colaboratory.intrinsic": {
              "type": "string"
            },
            "text/plain": [
              "'book_id_map.csv'"
            ]
          },
          "metadata": {
            "tags": []
          },
          "execution_count": 3
        }
      ]
    },
    {
      "cell_type": "code",
      "metadata": {
        "id": "2zLeaw68TiDP",
        "colab_type": "code",
        "colab": {
          "base_uri": "https://localhost:8080/",
          "height": 35
        },
        "outputId": "2e8faf6d-98b2-4938-8d9d-5405cc51fc04"
      },
      "source": [
        "# === Copy book_id_map.csv to assets dir === #\n",
        "!rsync -ah --info=progress2 book_id_map.csv \"/content/drive/My Drive/workshop/buildbox/likewise/assets/data\""
      ],
      "execution_count": 9,
      "outputs": [
        {
          "output_type": "stream",
          "text": [
            "         37.85M 100%  165.42MB/s    0:00:00 (xfr#1, to-chk=0/1)\n"
          ],
          "name": "stdout"
        }
      ]
    },
    {
      "cell_type": "markdown",
      "metadata": {
        "id": "PLIwPrSta06l",
        "colab_type": "text"
      },
      "source": [
        "#### Load interactions sample\n",
        "\n",
        "According to the UCSD Book Graph site, the Mystery, Thriller & Crime subset contains `24,799,896` interactions. This is too large to fit into the free Colab memory (where I initially developed the first models). Thus, I'll take a sample of `1,000,000` records."
      ]
    },
    {
      "cell_type": "code",
      "metadata": {
        "id": "NzP40ku9b7CF",
        "colab_type": "code",
        "colab": {}
      },
      "source": [
        "# === First, load from gzipped json === #\n",
        "import gzip\n",
        "import json\n",
        "from typing import List\n",
        "\n",
        "def load_data(file_name: str, num_items: int) -> List[dict]:\n",
        "    \"\"\"Output a list of user-book interactions\"\"\"\n",
        "    count = 0\n",
        "    data = []\n",
        "    with gzip.open(file_name) as fin:\n",
        "        for l in fin:\n",
        "            d = json.loads(l)\n",
        "            count += 1\n",
        "            data.append(d)\n",
        "            \n",
        "            if (num_items is not None) and (count == num_items):\n",
        "                break\n",
        "    return data\n",
        "\n",
        "# === Load sample of ___ records === #\n",
        "interactions_raw = load_data(\n",
        "    \"/content/goodreads_interactions_mystery_thriller_crime.json.gz\",\n",
        "    num_items=1000000\n",
        ")\n",
        "\n",
        "assert len(interactions_raw) == 1000000"
      ],
      "execution_count": 6,
      "outputs": []
    },
    {
      "cell_type": "code",
      "metadata": {
        "id": "LMRIdX7-eusA",
        "colab_type": "code",
        "colab": {
          "base_uri": "https://localhost:8080/",
          "height": 201
        },
        "outputId": "bf0bf16b-126b-421e-e273-eb072e609aca"
      },
      "source": [
        "# === Take a look at one of the records === #\n",
        "interactions_raw[-1]"
      ],
      "execution_count": 7,
      "outputs": [
        {
          "output_type": "execute_result",
          "data": {
            "text/plain": [
              "{'book_id': '17266736',\n",
              " 'date_added': 'Sun Feb 24 13:51:33 -0800 2013',\n",
              " 'date_updated': 'Sat Mar 23 14:27:27 -0700 2013',\n",
              " 'is_read': True,\n",
              " 'rating': 0,\n",
              " 'read_at': 'Sat Mar 23 14:27:27 -0700 2013',\n",
              " 'review_id': '8dacdcdeb1548ffbbb67952842bd8fd2',\n",
              " 'review_text_incomplete': '',\n",
              " 'started_at': 'Tue Mar 12 00:00:00 -0700 2013',\n",
              " 'user_id': '3d8d91445c588f19463124ddd5d50bcc'}"
            ]
          },
          "metadata": {
            "tags": []
          },
          "execution_count": 7
        }
      ]
    },
    {
      "cell_type": "code",
      "metadata": {
        "id": "Jjkw_sxhykWR",
        "colab_type": "code",
        "colab": {
          "base_uri": "https://localhost:8080/",
          "height": 488
        },
        "outputId": "01ad9ec6-c8a7-4322-9889-a538b90bebc9"
      },
      "source": [
        "# === Insert into dataframe === #\n",
        "interactions = pd.DataFrame(interactions_raw)\n",
        "print(interactions.shape)\n",
        "interactions.head()"
      ],
      "execution_count": 8,
      "outputs": [
        {
          "output_type": "stream",
          "text": [
            "(1000000, 10)\n"
          ],
          "name": "stdout"
        },
        {
          "output_type": "execute_result",
          "data": {
            "text/html": [
              "<div>\n",
              "<style scoped>\n",
              "    .dataframe tbody tr th:only-of-type {\n",
              "        vertical-align: middle;\n",
              "    }\n",
              "\n",
              "    .dataframe tbody tr th {\n",
              "        vertical-align: top;\n",
              "    }\n",
              "\n",
              "    .dataframe thead th {\n",
              "        text-align: right;\n",
              "    }\n",
              "</style>\n",
              "<table border=\"1\" class=\"dataframe\">\n",
              "  <thead>\n",
              "    <tr style=\"text-align: right;\">\n",
              "      <th></th>\n",
              "      <th>user_id</th>\n",
              "      <th>book_id</th>\n",
              "      <th>review_id</th>\n",
              "      <th>is_read</th>\n",
              "      <th>rating</th>\n",
              "      <th>review_text_incomplete</th>\n",
              "      <th>date_added</th>\n",
              "      <th>date_updated</th>\n",
              "      <th>read_at</th>\n",
              "      <th>started_at</th>\n",
              "    </tr>\n",
              "  </thead>\n",
              "  <tbody>\n",
              "    <tr>\n",
              "      <th>0</th>\n",
              "      <td>8842281e1d1347389f2ab93d60773d4d</td>\n",
              "      <td>6392944</td>\n",
              "      <td>5e212a62bced17b4dbe41150e5bb9037</td>\n",
              "      <td>True</td>\n",
              "      <td>3</td>\n",
              "      <td>I haven't read a fun mystery book in a while a...</td>\n",
              "      <td>Mon Jul 24 02:48:17 -0700 2017</td>\n",
              "      <td>Sun Jul 30 09:28:03 -0700 2017</td>\n",
              "      <td>Tue Jul 25 00:00:00 -0700 2017</td>\n",
              "      <td>Mon Jul 24 00:00:00 -0700 2017</td>\n",
              "    </tr>\n",
              "    <tr>\n",
              "      <th>1</th>\n",
              "      <td>8842281e1d1347389f2ab93d60773d4d</td>\n",
              "      <td>2279538</td>\n",
              "      <td>556e9e3f00fb5b7e4eaa116764b771b0</td>\n",
              "      <td>False</td>\n",
              "      <td>0</td>\n",
              "      <td></td>\n",
              "      <td>Wed Mar 29 00:27:14 -0700 2017</td>\n",
              "      <td>Wed Mar 29 00:27:14 -0700 2017</td>\n",
              "      <td></td>\n",
              "      <td></td>\n",
              "    </tr>\n",
              "    <tr>\n",
              "      <th>2</th>\n",
              "      <td>8842281e1d1347389f2ab93d60773d4d</td>\n",
              "      <td>20821043</td>\n",
              "      <td>4b15f8a08f04a17f9a47f2b76fec21e5</td>\n",
              "      <td>False</td>\n",
              "      <td>0</td>\n",
              "      <td></td>\n",
              "      <td>Mon Mar 27 22:52:11 -0700 2017</td>\n",
              "      <td>Mon Mar 27 22:52:12 -0700 2017</td>\n",
              "      <td></td>\n",
              "      <td></td>\n",
              "    </tr>\n",
              "    <tr>\n",
              "      <th>3</th>\n",
              "      <td>8842281e1d1347389f2ab93d60773d4d</td>\n",
              "      <td>31184479</td>\n",
              "      <td>0b9fc382ad38c5804ec46df84d66be6e</td>\n",
              "      <td>False</td>\n",
              "      <td>0</td>\n",
              "      <td></td>\n",
              "      <td>Fri Jan 06 16:22:46 -0800 2017</td>\n",
              "      <td>Fri Jan 06 16:22:46 -0800 2017</td>\n",
              "      <td></td>\n",
              "      <td></td>\n",
              "    </tr>\n",
              "    <tr>\n",
              "      <th>4</th>\n",
              "      <td>8842281e1d1347389f2ab93d60773d4d</td>\n",
              "      <td>28684704</td>\n",
              "      <td>2ede853b14dc4583f96cf5d120af636f</td>\n",
              "      <td>True</td>\n",
              "      <td>3</td>\n",
              "      <td>A fun, fast paced science fiction thriller. I ...</td>\n",
              "      <td>Tue Nov 15 11:29:22 -0800 2016</td>\n",
              "      <td>Mon Mar 20 23:40:27 -0700 2017</td>\n",
              "      <td>Sat Mar 18 23:22:42 -0700 2017</td>\n",
              "      <td>Fri Mar 17 23:45:40 -0700 2017</td>\n",
              "    </tr>\n",
              "  </tbody>\n",
              "</table>\n",
              "</div>"
            ],
            "text/plain": [
              "                            user_id   book_id  \\\n",
              "0  8842281e1d1347389f2ab93d60773d4d   6392944   \n",
              "1  8842281e1d1347389f2ab93d60773d4d   2279538   \n",
              "2  8842281e1d1347389f2ab93d60773d4d  20821043   \n",
              "3  8842281e1d1347389f2ab93d60773d4d  31184479   \n",
              "4  8842281e1d1347389f2ab93d60773d4d  28684704   \n",
              "\n",
              "                          review_id  is_read  rating  \\\n",
              "0  5e212a62bced17b4dbe41150e5bb9037     True       3   \n",
              "1  556e9e3f00fb5b7e4eaa116764b771b0    False       0   \n",
              "2  4b15f8a08f04a17f9a47f2b76fec21e5    False       0   \n",
              "3  0b9fc382ad38c5804ec46df84d66be6e    False       0   \n",
              "4  2ede853b14dc4583f96cf5d120af636f     True       3   \n",
              "\n",
              "                              review_text_incomplete  \\\n",
              "0  I haven't read a fun mystery book in a while a...   \n",
              "1                                                      \n",
              "2                                                      \n",
              "3                                                      \n",
              "4  A fun, fast paced science fiction thriller. I ...   \n",
              "\n",
              "                       date_added                    date_updated  \\\n",
              "0  Mon Jul 24 02:48:17 -0700 2017  Sun Jul 30 09:28:03 -0700 2017   \n",
              "1  Wed Mar 29 00:27:14 -0700 2017  Wed Mar 29 00:27:14 -0700 2017   \n",
              "2  Mon Mar 27 22:52:11 -0700 2017  Mon Mar 27 22:52:12 -0700 2017   \n",
              "3  Fri Jan 06 16:22:46 -0800 2017  Fri Jan 06 16:22:46 -0800 2017   \n",
              "4  Tue Nov 15 11:29:22 -0800 2016  Mon Mar 20 23:40:27 -0700 2017   \n",
              "\n",
              "                          read_at                      started_at  \n",
              "0  Tue Jul 25 00:00:00 -0700 2017  Mon Jul 24 00:00:00 -0700 2017  \n",
              "1                                                                  \n",
              "2                                                                  \n",
              "3                                                                  \n",
              "4  Sat Mar 18 23:22:42 -0700 2017  Fri Mar 17 23:45:40 -0700 2017  "
            ]
          },
          "metadata": {
            "tags": []
          },
          "execution_count": 8
        }
      ]
    },
    {
      "cell_type": "markdown",
      "metadata": {
        "id": "w9RKc8G9X_GU",
        "colab_type": "text"
      },
      "source": [
        "---\n",
        "\n",
        "### Wrangling and Exploration\n",
        "\n",
        "* Dealing with null values\n",
        "* Based on how the data will be used, what transformations should be done?"
      ]
    },
    {
      "cell_type": "code",
      "metadata": {
        "id": "OWk2wKhPWH5J",
        "colab_type": "code",
        "colab": {
          "base_uri": "https://localhost:8080/",
          "height": 72
        },
        "outputId": "82fa1d06-42f6-4903-8c5f-d3c09e401d4d"
      },
      "source": [
        "# === Look at counts of `is_read` and `rating`=0 === #\n",
        "interactions[\"is_read\"].value_counts()"
      ],
      "execution_count": 10,
      "outputs": [
        {
          "output_type": "execute_result",
          "data": {
            "text/plain": [
              "True     522004\n",
              "False    477996\n",
              "Name: is_read, dtype: int64"
            ]
          },
          "metadata": {
            "tags": []
          },
          "execution_count": 10
        }
      ]
    },
    {
      "cell_type": "code",
      "metadata": {
        "id": "Hn10kXexWRQ7",
        "colab_type": "code",
        "colab": {
          "base_uri": "https://localhost:8080/",
          "height": 146
        },
        "outputId": "c33a116b-3589-4e97-a877-11ed74f8f42c"
      },
      "source": [
        "interactions[\"rating\"].value_counts()"
      ],
      "execution_count": 11,
      "outputs": [
        {
          "output_type": "execute_result",
          "data": {
            "text/plain": [
              "0    511019\n",
              "4    196664\n",
              "3    127956\n",
              "5    126154\n",
              "2     30164\n",
              "1      8043\n",
              "Name: rating, dtype: int64"
            ]
          },
          "metadata": {
            "tags": []
          },
          "execution_count": 11
        }
      ]
    },
    {
      "cell_type": "markdown",
      "metadata": {
        "id": "dI0kQHCnWYkP",
        "colab_type": "text"
      },
      "source": [
        "The number of `is_read = False` and `rating = 0` do not match up — there are more 0 ratings/less `is_read = False`. I am going to assume this means that GoodReads does in fact allow a 0 rating. According to the results of the cell below, there are `33,023` 0 ratings in the sample.\n",
        "\n",
        "This also means that the `rating` was filled in with 0s whenever a user did not read/rate the book.\n",
        "\n",
        "> So then why are those records in the dataset?\n",
        "\n",
        "The dataset is called \"Shelves\". Thus, I'm going to assume that each record indicates a user having the book in one of their shelves. Therefore, the zero-rated ones that have not been read are likely to be books on shelves that have...not been read."
      ]
    },
    {
      "cell_type": "code",
      "metadata": {
        "id": "gRf8Wb-BWW4_",
        "colab_type": "code",
        "colab": {
          "base_uri": "https://localhost:8080/",
          "height": 255
        },
        "outputId": "cca61bd2-de28-4e4c-a356-141d0adc6e34"
      },
      "source": [
        "# === Books read and rated 0 === #\n",
        "zero_rated = interactions[(interactions[\"rating\"] == 0) & (interactions[\"is_read\"] == True)]\n",
        "print(zero_rated.shape)\n",
        "zero_rated.head(2)"
      ],
      "execution_count": 14,
      "outputs": [
        {
          "output_type": "stream",
          "text": [
            "(33023, 10)\n"
          ],
          "name": "stdout"
        },
        {
          "output_type": "execute_result",
          "data": {
            "text/html": [
              "<div>\n",
              "<style scoped>\n",
              "    .dataframe tbody tr th:only-of-type {\n",
              "        vertical-align: middle;\n",
              "    }\n",
              "\n",
              "    .dataframe tbody tr th {\n",
              "        vertical-align: top;\n",
              "    }\n",
              "\n",
              "    .dataframe thead th {\n",
              "        text-align: right;\n",
              "    }\n",
              "</style>\n",
              "<table border=\"1\" class=\"dataframe\">\n",
              "  <thead>\n",
              "    <tr style=\"text-align: right;\">\n",
              "      <th></th>\n",
              "      <th>user_id</th>\n",
              "      <th>book_id</th>\n",
              "      <th>review_id</th>\n",
              "      <th>is_read</th>\n",
              "      <th>rating</th>\n",
              "      <th>review_text_incomplete</th>\n",
              "      <th>date_added</th>\n",
              "      <th>date_updated</th>\n",
              "      <th>read_at</th>\n",
              "      <th>started_at</th>\n",
              "    </tr>\n",
              "  </thead>\n",
              "  <tbody>\n",
              "    <tr>\n",
              "      <th>156</th>\n",
              "      <td>d986f354a045ffb91234e4af4d1b12fd</td>\n",
              "      <td>11737313</td>\n",
              "      <td>d9c7799737fbc0acd5e6aa70ab37cb78</td>\n",
              "      <td>True</td>\n",
              "      <td>0</td>\n",
              "      <td></td>\n",
              "      <td>Sun Jun 30 21:56:23 -0700 2013</td>\n",
              "      <td>Mon Mar 31 20:54:51 -0700 2014</td>\n",
              "      <td></td>\n",
              "      <td>Mon Mar 31 20:54:51 -0700 2014</td>\n",
              "    </tr>\n",
              "    <tr>\n",
              "      <th>163</th>\n",
              "      <td>7504b2aee1ecb5b2872d3da381c6c91e</td>\n",
              "      <td>25837341</td>\n",
              "      <td>34be3b3153de30fb9b4fd0305cf2b352</td>\n",
              "      <td>True</td>\n",
              "      <td>0</td>\n",
              "      <td></td>\n",
              "      <td>Wed Aug 17 19:33:37 -0700 2016</td>\n",
              "      <td>Sun Aug 21 18:22:54 -0700 2016</td>\n",
              "      <td>Sun Aug 21 18:21:49 -0700 2016</td>\n",
              "      <td>Wed Aug 17 19:33:41 -0700 2016</td>\n",
              "    </tr>\n",
              "  </tbody>\n",
              "</table>\n",
              "</div>"
            ],
            "text/plain": [
              "                              user_id   book_id  \\\n",
              "156  d986f354a045ffb91234e4af4d1b12fd  11737313   \n",
              "163  7504b2aee1ecb5b2872d3da381c6c91e  25837341   \n",
              "\n",
              "                            review_id  is_read  rating review_text_incomplete  \\\n",
              "156  d9c7799737fbc0acd5e6aa70ab37cb78     True       0                          \n",
              "163  34be3b3153de30fb9b4fd0305cf2b352     True       0                          \n",
              "\n",
              "                         date_added                    date_updated  \\\n",
              "156  Sun Jun 30 21:56:23 -0700 2013  Mon Mar 31 20:54:51 -0700 2014   \n",
              "163  Wed Aug 17 19:33:37 -0700 2016  Sun Aug 21 18:22:54 -0700 2016   \n",
              "\n",
              "                            read_at                      started_at  \n",
              "156                                  Mon Mar 31 20:54:51 -0700 2014  \n",
              "163  Sun Aug 21 18:21:49 -0700 2016  Wed Aug 17 19:33:41 -0700 2016  "
            ]
          },
          "metadata": {
            "tags": []
          },
          "execution_count": 14
        }
      ]
    },
    {
      "cell_type": "code",
      "metadata": {
        "id": "k3_3e-_mcXn5",
        "colab_type": "code",
        "colab": {
          "base_uri": "https://localhost:8080/",
          "height": 35
        },
        "outputId": "ff214987-d846-4107-8dba-ab8367191f3b"
      },
      "source": [
        "# === Unread rated books === #\n",
        "# This should be 0 - there shouldn't be a rating if a user didn't read the book\n",
        "len(interactions[(interactions[\"rating\"] != 0) & (interactions[\"is_read\"] == False)])"
      ],
      "execution_count": 34,
      "outputs": [
        {
          "output_type": "execute_result",
          "data": {
            "text/plain": [
              "0"
            ]
          },
          "metadata": {
            "tags": []
          },
          "execution_count": 34
        }
      ]
    },
    {
      "cell_type": "markdown",
      "metadata": {
        "id": "0NE1ZUfejF1L",
        "colab_type": "text"
      },
      "source": [
        "#### Data types and conversions\n",
        "\n",
        "The timestamp columns did not get read in correctly. If I were going to be using them, they'd have to be converted. However, I'm going to be ignoring the timestamp columns for now, focusing solely on the user-book ratings relationship.\n",
        "\n",
        "Another conversion that might prove useful is to convert the value of the `rating` column to NaN when `is_read = False`, as those zero ratings are not actually ratings."
      ]
    },
    {
      "cell_type": "code",
      "metadata": {
        "id": "eHcHtdA5nNPz",
        "colab_type": "code",
        "colab": {}
      },
      "source": [
        "# === Convert 0s to NaN in OG dataset === #\n"
      ],
      "execution_count": null,
      "outputs": []
    },
    {
      "cell_type": "code",
      "metadata": {
        "id": "4OP9O1bdopzk",
        "colab_type": "code",
        "colab": {
          "base_uri": "https://localhost:8080/",
          "height": 206
        },
        "outputId": "61d7d65d-e61e-40b9-ce44-927406e51df5"
      },
      "source": [
        "# === Remove unused columns === #\n",
        "interactions = interactions[[\"user_id\", \"book_id\", \"is_read\", \"rating\"]].copy()\n",
        "interactions.head()"
      ],
      "execution_count": 15,
      "outputs": [
        {
          "output_type": "execute_result",
          "data": {
            "text/html": [
              "<div>\n",
              "<style scoped>\n",
              "    .dataframe tbody tr th:only-of-type {\n",
              "        vertical-align: middle;\n",
              "    }\n",
              "\n",
              "    .dataframe tbody tr th {\n",
              "        vertical-align: top;\n",
              "    }\n",
              "\n",
              "    .dataframe thead th {\n",
              "        text-align: right;\n",
              "    }\n",
              "</style>\n",
              "<table border=\"1\" class=\"dataframe\">\n",
              "  <thead>\n",
              "    <tr style=\"text-align: right;\">\n",
              "      <th></th>\n",
              "      <th>user_id</th>\n",
              "      <th>book_id</th>\n",
              "      <th>is_read</th>\n",
              "      <th>rating</th>\n",
              "    </tr>\n",
              "  </thead>\n",
              "  <tbody>\n",
              "    <tr>\n",
              "      <th>0</th>\n",
              "      <td>8842281e1d1347389f2ab93d60773d4d</td>\n",
              "      <td>6392944</td>\n",
              "      <td>True</td>\n",
              "      <td>3</td>\n",
              "    </tr>\n",
              "    <tr>\n",
              "      <th>1</th>\n",
              "      <td>8842281e1d1347389f2ab93d60773d4d</td>\n",
              "      <td>2279538</td>\n",
              "      <td>False</td>\n",
              "      <td>0</td>\n",
              "    </tr>\n",
              "    <tr>\n",
              "      <th>2</th>\n",
              "      <td>8842281e1d1347389f2ab93d60773d4d</td>\n",
              "      <td>20821043</td>\n",
              "      <td>False</td>\n",
              "      <td>0</td>\n",
              "    </tr>\n",
              "    <tr>\n",
              "      <th>3</th>\n",
              "      <td>8842281e1d1347389f2ab93d60773d4d</td>\n",
              "      <td>31184479</td>\n",
              "      <td>False</td>\n",
              "      <td>0</td>\n",
              "    </tr>\n",
              "    <tr>\n",
              "      <th>4</th>\n",
              "      <td>8842281e1d1347389f2ab93d60773d4d</td>\n",
              "      <td>28684704</td>\n",
              "      <td>True</td>\n",
              "      <td>3</td>\n",
              "    </tr>\n",
              "  </tbody>\n",
              "</table>\n",
              "</div>"
            ],
            "text/plain": [
              "                            user_id   book_id  is_read  rating\n",
              "0  8842281e1d1347389f2ab93d60773d4d   6392944     True       3\n",
              "1  8842281e1d1347389f2ab93d60773d4d   2279538    False       0\n",
              "2  8842281e1d1347389f2ab93d60773d4d  20821043    False       0\n",
              "3  8842281e1d1347389f2ab93d60773d4d  31184479    False       0\n",
              "4  8842281e1d1347389f2ab93d60773d4d  28684704     True       3"
            ]
          },
          "metadata": {
            "tags": []
          },
          "execution_count": 15
        }
      ]
    },
    {
      "cell_type": "code",
      "metadata": {
        "id": "AqoSHrYRog4o",
        "colab_type": "code",
        "colab": {
          "base_uri": "https://localhost:8080/",
          "height": 109
        },
        "outputId": "b363a33f-eae1-47b5-ac5b-8aff55b8e101"
      },
      "source": [
        "# === Data types === #\n",
        "interactions.dtypes"
      ],
      "execution_count": 17,
      "outputs": [
        {
          "output_type": "execute_result",
          "data": {
            "text/plain": [
              "user_id    object\n",
              "book_id    object\n",
              "is_read      bool\n",
              "rating      int64\n",
              "dtype: object"
            ]
          },
          "metadata": {
            "tags": []
          },
          "execution_count": 17
        }
      ]
    },
    {
      "cell_type": "code",
      "metadata": {
        "id": "qTS3HWinWmNO",
        "colab_type": "code",
        "colab": {}
      },
      "source": [
        "# === Export this version of df to Drive === #\n",
        "data_file = \"interactions_mystery_thriller_crime_1m_sample.csv\"\n",
        "data_path = os.path.join(PROJECT_DIR, \"assets/data\", data_file)\n",
        "interactions.to_csv(data_path, index=False)"
      ],
      "execution_count": 19,
      "outputs": []
    },
    {
      "cell_type": "markdown",
      "metadata": {
        "id": "ntn0tiQYfMyL",
        "colab_type": "text"
      },
      "source": [
        "#### Basic descriptive statistics"
      ]
    },
    {
      "cell_type": "code",
      "metadata": {
        "id": "TNbh2SMPZoYS",
        "colab_type": "code",
        "colab": {
          "base_uri": "https://localhost:8080/",
          "height": 35
        },
        "outputId": "9b979536-c6f7-49e7-e4f2-7d77a148003a"
      },
      "source": [
        "# === Number of distinct users === #\n",
        "unique_users = len(interactions[\"user_id\"].unique())\n",
        "unique_users"
      ],
      "execution_count": 23,
      "outputs": [
        {
          "output_type": "execute_result",
          "data": {
            "text/plain": [
              "17372"
            ]
          },
          "metadata": {
            "tags": []
          },
          "execution_count": 23
        }
      ]
    },
    {
      "cell_type": "code",
      "metadata": {
        "id": "Eenado9vZ6gC",
        "colab_type": "code",
        "colab": {
          "base_uri": "https://localhost:8080/",
          "height": 35
        },
        "outputId": "7c9cc671-0834-4f67-b715-4413fc0325ee"
      },
      "source": [
        "# === Number of distinct books === #\n",
        "unique_books =len(interactions[\"book_id\"].unique())\n",
        "unique_books"
      ],
      "execution_count": 24,
      "outputs": [
        {
          "output_type": "execute_result",
          "data": {
            "text/plain": [
              "108024"
            ]
          },
          "metadata": {
            "tags": []
          },
          "execution_count": 24
        }
      ]
    },
    {
      "cell_type": "markdown",
      "metadata": {
        "id": "m67qbxE4iVDO",
        "colab_type": "text"
      },
      "source": [
        "The interaction matrix is extremely sparse."
      ]
    },
    {
      "cell_type": "code",
      "metadata": {
        "id": "1PxTltvLguLH",
        "colab_type": "code",
        "colab": {
          "base_uri": "https://localhost:8080/",
          "height": 72
        },
        "outputId": "f3bb980c-fde8-4a49-f2af-077b9f70e1cb"
      },
      "source": [
        "# === Look at sparsity === #\n",
        "\n",
        "# Get df of unread books\n",
        "unread = interactions[interactions[\"is_read\"] == False]\n",
        "print(f\"Number of unread books: {unread.shape[0]}\")\n",
        "\n",
        "# Get df of read books\n",
        "read = interactions[interactions[\"is_read\"] == True]\n",
        "print(f\"Number of read books: {read.shape[0]}\")\n",
        "\n",
        "# Calculate sparsity\n",
        "sparsity = 1 - len(interactions) / (unique_users * unique_books)\n",
        "print(\"Sparsity:\", sparsity)"
      ],
      "execution_count": 39,
      "outputs": [
        {
          "output_type": "stream",
          "text": [
            "Number of unread books: 477996\n",
            "Number of read books: 522004\n",
            "Sparsity: 0.9994671193815775\n"
          ],
          "name": "stdout"
        }
      ]
    },
    {
      "cell_type": "markdown",
      "metadata": {
        "id": "Hk566mk8ihTz",
        "colab_type": "text"
      },
      "source": [
        "Interestingly, the distribution of ratings for read books is very unevenly distributed — heavily skewed to the left. i.e. there are far more 5-star ratings than any other rating.\n",
        "\n",
        "I wonder if this is due to the fact that if it is in a user's shelf, they are more likely to enjoy it/rate it highly?\n",
        "\n",
        "Or, it could be the fact that this is only a subset, one containing books of one genre. However broad that genre may be, that must have an effect on the distribution of ratings.\n",
        "\n",
        "> Something to explore ^^"
      ]
    },
    {
      "cell_type": "code",
      "metadata": {
        "id": "ln6mHzD2gbwB",
        "colab_type": "code",
        "colab": {
          "base_uri": "https://localhost:8080/",
          "height": 295
        },
        "outputId": "468bd1e1-3057-4cc5-9a0e-5c6a6a55d46c"
      },
      "source": [
        "# === Distribution of ratings of rated books === #\n",
        "# i.e. without the books with a rating of 0\n",
        "plt.hist(read['rating'], bins=5, ec='black')\n",
        "plt.xlabel('Rating')\n",
        "plt.ylabel('Count')\n",
        "plt.title('Distribution of Ratings in GoodReads')\n",
        "plt.show()"
      ],
      "execution_count": 41,
      "outputs": [
        {
          "output_type": "display_data",
          "data": {
            "image/png": "[encoded data removed]",
            "text/plain": [
              "<Figure size 432x288 with 1 Axes>"
            ]
          },
          "metadata": {
            "tags": [],
            "needs_background": "light"
          }
        }
      ]
    },
    {
      "cell_type": "markdown",
      "metadata": {
        "id": "VTC42X_E1TG2",
        "colab_type": "text"
      },
      "source": [
        "Here's what a subset of it looks like as a crosstabulation, which makes it into a dense matrix."
      ]
    },
    {
      "cell_type": "code",
      "metadata": {
        "id": "i84BiJVKw9W2",
        "colab_type": "code",
        "colab": {
          "base_uri": "https://localhost:8080/",
          "height": 571
        },
        "outputId": "e8e0ec0a-35af-446d-f370-467ae67e5b84"
      },
      "source": [
        "# === Create crosstab of users-books === #\n",
        "g = read.groupby(\"user_id\")[\"rating\"].count()\n",
        "topUsers = g.sort_values(ascending=False)[:15]\n",
        "\n",
        "g = read.groupby(\"book_id\")[\"rating\"].count()\n",
        "topMovies = g.sort_values(ascending=False)[:15]\n",
        "\n",
        "top_r = read.join(topUsers, rsuffix=\"_r\", how=\"inner\", on=\"user_id\")\n",
        "top_r = top_r.join(topMovies, rsuffix=\"_r\", how=\"inner\", on=\"book_id\")\n",
        "\n",
        "pd.crosstab(top_r[\"user_id\"], top_r[\"book_id\"], top_r[\"rating\"], aggfunc=np.sum)"
      ],
      "execution_count": 42,
      "outputs": [
        {
          "output_type": "execute_result",
          "data": {
            "text/html": [
              "<div>\n",
              "<style scoped>\n",
              "    .dataframe tbody tr th:only-of-type {\n",
              "        vertical-align: middle;\n",
              "    }\n",
              "\n",
              "    .dataframe tbody tr th {\n",
              "        vertical-align: top;\n",
              "    }\n",
              "\n",
              "    .dataframe thead th {\n",
              "        text-align: right;\n",
              "    }\n",
              "</style>\n",
              "<table border=\"1\" class=\"dataframe\">\n",
              "  <thead>\n",
              "    <tr style=\"text-align: right;\">\n",
              "      <th>book_id</th>\n",
              "      <th>16299</th>\n",
              "      <th>18342</th>\n",
              "      <th>19486412</th>\n",
              "      <th>22557272</th>\n",
              "      <th>2429135</th>\n",
              "      <th>5060378</th>\n",
              "      <th>5358</th>\n",
              "      <th>5886881</th>\n",
              "      <th>6411961</th>\n",
              "      <th>6853</th>\n",
              "      <th>6892870</th>\n",
              "      <th>8442457</th>\n",
              "      <th>960</th>\n",
              "      <th>968</th>\n",
              "      <th>976</th>\n",
              "    </tr>\n",
              "    <tr>\n",
              "      <th>user_id</th>\n",
              "      <th></th>\n",
              "      <th></th>\n",
              "      <th></th>\n",
              "      <th></th>\n",
              "      <th></th>\n",
              "      <th></th>\n",
              "      <th></th>\n",
              "      <th></th>\n",
              "      <th></th>\n",
              "      <th></th>\n",
              "      <th></th>\n",
              "      <th></th>\n",
              "      <th></th>\n",
              "      <th></th>\n",
              "      <th></th>\n",
              "    </tr>\n",
              "  </thead>\n",
              "  <tbody>\n",
              "    <tr>\n",
              "      <th>037c382333b7084ccee4cdec7401de90</th>\n",
              "      <td>4.0</td>\n",
              "      <td>NaN</td>\n",
              "      <td>5.0</td>\n",
              "      <td>5.0</td>\n",
              "      <td>NaN</td>\n",
              "      <td>5.0</td>\n",
              "      <td>5.0</td>\n",
              "      <td>NaN</td>\n",
              "      <td>5.0</td>\n",
              "      <td>4.0</td>\n",
              "      <td>5.0</td>\n",
              "      <td>NaN</td>\n",
              "      <td>5.0</td>\n",
              "      <td>5.0</td>\n",
              "      <td>NaN</td>\n",
              "    </tr>\n",
              "    <tr>\n",
              "      <th>054716762769ce2431afa2982bd2727b</th>\n",
              "      <td>5.0</td>\n",
              "      <td>NaN</td>\n",
              "      <td>NaN</td>\n",
              "      <td>2.0</td>\n",
              "      <td>4.0</td>\n",
              "      <td>3.0</td>\n",
              "      <td>NaN</td>\n",
              "      <td>NaN</td>\n",
              "      <td>NaN</td>\n",
              "      <td>4.0</td>\n",
              "      <td>3.0</td>\n",
              "      <td>3.0</td>\n",
              "      <td>2.0</td>\n",
              "      <td>NaN</td>\n",
              "      <td>NaN</td>\n",
              "    </tr>\n",
              "    <tr>\n",
              "      <th>10b78deeb01722248f3e3fc08ef813a6</th>\n",
              "      <td>5.0</td>\n",
              "      <td>NaN</td>\n",
              "      <td>NaN</td>\n",
              "      <td>NaN</td>\n",
              "      <td>NaN</td>\n",
              "      <td>NaN</td>\n",
              "      <td>NaN</td>\n",
              "      <td>NaN</td>\n",
              "      <td>NaN</td>\n",
              "      <td>NaN</td>\n",
              "      <td>NaN</td>\n",
              "      <td>NaN</td>\n",
              "      <td>NaN</td>\n",
              "      <td>NaN</td>\n",
              "      <td>NaN</td>\n",
              "    </tr>\n",
              "    <tr>\n",
              "      <th>4708d71de2f8afe1064a703312b022b5</th>\n",
              "      <td>NaN</td>\n",
              "      <td>NaN</td>\n",
              "      <td>NaN</td>\n",
              "      <td>NaN</td>\n",
              "      <td>3.0</td>\n",
              "      <td>NaN</td>\n",
              "      <td>NaN</td>\n",
              "      <td>NaN</td>\n",
              "      <td>NaN</td>\n",
              "      <td>4.0</td>\n",
              "      <td>NaN</td>\n",
              "      <td>NaN</td>\n",
              "      <td>3.0</td>\n",
              "      <td>3.0</td>\n",
              "      <td>NaN</td>\n",
              "    </tr>\n",
              "    <tr>\n",
              "      <th>47a73c38a3acadbd58ad7f55f6e0cde9</th>\n",
              "      <td>5.0</td>\n",
              "      <td>NaN</td>\n",
              "      <td>NaN</td>\n",
              "      <td>NaN</td>\n",
              "      <td>5.0</td>\n",
              "      <td>5.0</td>\n",
              "      <td>4.0</td>\n",
              "      <td>NaN</td>\n",
              "      <td>5.0</td>\n",
              "      <td>5.0</td>\n",
              "      <td>NaN</td>\n",
              "      <td>NaN</td>\n",
              "      <td>5.0</td>\n",
              "      <td>4.0</td>\n",
              "      <td>5.0</td>\n",
              "    </tr>\n",
              "    <tr>\n",
              "      <th>4d801d302874e6e7313355949d4c18c3</th>\n",
              "      <td>4.0</td>\n",
              "      <td>NaN</td>\n",
              "      <td>NaN</td>\n",
              "      <td>NaN</td>\n",
              "      <td>4.0</td>\n",
              "      <td>NaN</td>\n",
              "      <td>NaN</td>\n",
              "      <td>NaN</td>\n",
              "      <td>NaN</td>\n",
              "      <td>4.0</td>\n",
              "      <td>NaN</td>\n",
              "      <td>3.0</td>\n",
              "      <td>1.0</td>\n",
              "      <td>1.0</td>\n",
              "      <td>NaN</td>\n",
              "    </tr>\n",
              "    <tr>\n",
              "      <th>56be2435e7d93b1648618a42c7847906</th>\n",
              "      <td>NaN</td>\n",
              "      <td>5.0</td>\n",
              "      <td>NaN</td>\n",
              "      <td>NaN</td>\n",
              "      <td>5.0</td>\n",
              "      <td>4.0</td>\n",
              "      <td>5.0</td>\n",
              "      <td>NaN</td>\n",
              "      <td>5.0</td>\n",
              "      <td>NaN</td>\n",
              "      <td>5.0</td>\n",
              "      <td>NaN</td>\n",
              "      <td>5.0</td>\n",
              "      <td>4.0</td>\n",
              "      <td>4.0</td>\n",
              "    </tr>\n",
              "    <tr>\n",
              "      <th>75fa3b8ce55550b5241d8add69999d09</th>\n",
              "      <td>5.0</td>\n",
              "      <td>NaN</td>\n",
              "      <td>NaN</td>\n",
              "      <td>4.0</td>\n",
              "      <td>4.0</td>\n",
              "      <td>NaN</td>\n",
              "      <td>4.0</td>\n",
              "      <td>NaN</td>\n",
              "      <td>NaN</td>\n",
              "      <td>3.0</td>\n",
              "      <td>NaN</td>\n",
              "      <td>NaN</td>\n",
              "      <td>NaN</td>\n",
              "      <td>3.0</td>\n",
              "      <td>NaN</td>\n",
              "    </tr>\n",
              "    <tr>\n",
              "      <th>8e7e5b546a63cb9add8431ee6914cf59</th>\n",
              "      <td>5.0</td>\n",
              "      <td>NaN</td>\n",
              "      <td>5.0</td>\n",
              "      <td>NaN</td>\n",
              "      <td>NaN</td>\n",
              "      <td>3.0</td>\n",
              "      <td>NaN</td>\n",
              "      <td>5.0</td>\n",
              "      <td>NaN</td>\n",
              "      <td>3.0</td>\n",
              "      <td>2.0</td>\n",
              "      <td>5.0</td>\n",
              "      <td>1.0</td>\n",
              "      <td>NaN</td>\n",
              "      <td>NaN</td>\n",
              "    </tr>\n",
              "    <tr>\n",
              "      <th>acefd919268b55eb84a29cb2c8679759</th>\n",
              "      <td>NaN</td>\n",
              "      <td>2.0</td>\n",
              "      <td>4.0</td>\n",
              "      <td>0.0</td>\n",
              "      <td>4.0</td>\n",
              "      <td>4.0</td>\n",
              "      <td>NaN</td>\n",
              "      <td>NaN</td>\n",
              "      <td>NaN</td>\n",
              "      <td>NaN</td>\n",
              "      <td>4.0</td>\n",
              "      <td>4.0</td>\n",
              "      <td>NaN</td>\n",
              "      <td>3.0</td>\n",
              "      <td>NaN</td>\n",
              "    </tr>\n",
              "    <tr>\n",
              "      <th>b11fb9f8b16ed8c8021fcc2a193a6016</th>\n",
              "      <td>4.0</td>\n",
              "      <td>NaN</td>\n",
              "      <td>1.0</td>\n",
              "      <td>2.0</td>\n",
              "      <td>4.0</td>\n",
              "      <td>4.0</td>\n",
              "      <td>2.0</td>\n",
              "      <td>NaN</td>\n",
              "      <td>NaN</td>\n",
              "      <td>3.0</td>\n",
              "      <td>5.0</td>\n",
              "      <td>NaN</td>\n",
              "      <td>2.0</td>\n",
              "      <td>NaN</td>\n",
              "      <td>NaN</td>\n",
              "    </tr>\n",
              "    <tr>\n",
              "      <th>d4b54479e9ef1dc383616b352dc202a1</th>\n",
              "      <td>NaN</td>\n",
              "      <td>5.0</td>\n",
              "      <td>NaN</td>\n",
              "      <td>3.0</td>\n",
              "      <td>NaN</td>\n",
              "      <td>NaN</td>\n",
              "      <td>5.0</td>\n",
              "      <td>NaN</td>\n",
              "      <td>NaN</td>\n",
              "      <td>NaN</td>\n",
              "      <td>NaN</td>\n",
              "      <td>NaN</td>\n",
              "      <td>NaN</td>\n",
              "      <td>NaN</td>\n",
              "      <td>NaN</td>\n",
              "    </tr>\n",
              "    <tr>\n",
              "      <th>d92f95b95d015036cecf4b7ba92ff8ad</th>\n",
              "      <td>NaN</td>\n",
              "      <td>5.0</td>\n",
              "      <td>NaN</td>\n",
              "      <td>NaN</td>\n",
              "      <td>NaN</td>\n",
              "      <td>NaN</td>\n",
              "      <td>NaN</td>\n",
              "      <td>NaN</td>\n",
              "      <td>3.0</td>\n",
              "      <td>4.0</td>\n",
              "      <td>NaN</td>\n",
              "      <td>NaN</td>\n",
              "      <td>3.0</td>\n",
              "      <td>3.0</td>\n",
              "      <td>4.0</td>\n",
              "    </tr>\n",
              "    <tr>\n",
              "      <th>dbde05e1d816950ac64e1332a5ad1f16</th>\n",
              "      <td>5.0</td>\n",
              "      <td>NaN</td>\n",
              "      <td>NaN</td>\n",
              "      <td>NaN</td>\n",
              "      <td>5.0</td>\n",
              "      <td>5.0</td>\n",
              "      <td>NaN</td>\n",
              "      <td>NaN</td>\n",
              "      <td>5.0</td>\n",
              "      <td>5.0</td>\n",
              "      <td>5.0</td>\n",
              "      <td>NaN</td>\n",
              "      <td>5.0</td>\n",
              "      <td>5.0</td>\n",
              "      <td>NaN</td>\n",
              "    </tr>\n",
              "    <tr>\n",
              "      <th>fbdfcf299d738396a4aa76ca93db8d85</th>\n",
              "      <td>NaN</td>\n",
              "      <td>NaN</td>\n",
              "      <td>NaN</td>\n",
              "      <td>NaN</td>\n",
              "      <td>NaN</td>\n",
              "      <td>5.0</td>\n",
              "      <td>NaN</td>\n",
              "      <td>4.0</td>\n",
              "      <td>3.0</td>\n",
              "      <td>4.0</td>\n",
              "      <td>5.0</td>\n",
              "      <td>NaN</td>\n",
              "      <td>NaN</td>\n",
              "      <td>3.0</td>\n",
              "      <td>NaN</td>\n",
              "    </tr>\n",
              "  </tbody>\n",
              "</table>\n",
              "</div>"
            ],
            "text/plain": [
              "book_id                           16299  18342  19486412  22557272  2429135  \\\n",
              "user_id                                                                       \n",
              "037c382333b7084ccee4cdec7401de90    4.0    NaN       5.0       5.0      NaN   \n",
              "054716762769ce2431afa2982bd2727b    5.0    NaN       NaN       2.0      4.0   \n",
              "10b78deeb01722248f3e3fc08ef813a6    5.0    NaN       NaN       NaN      NaN   \n",
              "4708d71de2f8afe1064a703312b022b5    NaN    NaN       NaN       NaN      3.0   \n",
              "47a73c38a3acadbd58ad7f55f6e0cde9    5.0    NaN       NaN       NaN      5.0   \n",
              "4d801d302874e6e7313355949d4c18c3    4.0    NaN       NaN       NaN      4.0   \n",
              "56be2435e7d93b1648618a42c7847906    NaN    5.0       NaN       NaN      5.0   \n",
              "75fa3b8ce55550b5241d8add69999d09    5.0    NaN       NaN       4.0      4.0   \n",
              "8e7e5b546a63cb9add8431ee6914cf59    5.0    NaN       5.0       NaN      NaN   \n",
              "acefd919268b55eb84a29cb2c8679759    NaN    2.0       4.0       0.0      4.0   \n",
              "b11fb9f8b16ed8c8021fcc2a193a6016    4.0    NaN       1.0       2.0      4.0   \n",
              "d4b54479e9ef1dc383616b352dc202a1    NaN    5.0       NaN       3.0      NaN   \n",
              "d92f95b95d015036cecf4b7ba92ff8ad    NaN    5.0       NaN       NaN      NaN   \n",
              "dbde05e1d816950ac64e1332a5ad1f16    5.0    NaN       NaN       NaN      5.0   \n",
              "fbdfcf299d738396a4aa76ca93db8d85    NaN    NaN       NaN       NaN      NaN   \n",
              "\n",
              "book_id                           5060378  5358  5886881  6411961  6853  \\\n",
              "user_id                                                                   \n",
              "037c382333b7084ccee4cdec7401de90      5.0   5.0      NaN      5.0   4.0   \n",
              "054716762769ce2431afa2982bd2727b      3.0   NaN      NaN      NaN   4.0   \n",
              "10b78deeb01722248f3e3fc08ef813a6      NaN   NaN      NaN      NaN   NaN   \n",
              "4708d71de2f8afe1064a703312b022b5      NaN   NaN      NaN      NaN   4.0   \n",
              "47a73c38a3acadbd58ad7f55f6e0cde9      5.0   4.0      NaN      5.0   5.0   \n",
              "4d801d302874e6e7313355949d4c18c3      NaN   NaN      NaN      NaN   4.0   \n",
              "56be2435e7d93b1648618a42c7847906      4.0   5.0      NaN      5.0   NaN   \n",
              "75fa3b8ce55550b5241d8add69999d09      NaN   4.0      NaN      NaN   3.0   \n",
              "8e7e5b546a63cb9add8431ee6914cf59      3.0   NaN      5.0      NaN   3.0   \n",
              "acefd919268b55eb84a29cb2c8679759      4.0   NaN      NaN      NaN   NaN   \n",
              "b11fb9f8b16ed8c8021fcc2a193a6016      4.0   2.0      NaN      NaN   3.0   \n",
              "d4b54479e9ef1dc383616b352dc202a1      NaN   5.0      NaN      NaN   NaN   \n",
              "d92f95b95d015036cecf4b7ba92ff8ad      NaN   NaN      NaN      3.0   4.0   \n",
              "dbde05e1d816950ac64e1332a5ad1f16      5.0   NaN      NaN      5.0   5.0   \n",
              "fbdfcf299d738396a4aa76ca93db8d85      5.0   NaN      4.0      3.0   4.0   \n",
              "\n",
              "book_id                           6892870  8442457  960  968  976  \n",
              "user_id                                                            \n",
              "037c382333b7084ccee4cdec7401de90      5.0      NaN  5.0  5.0  NaN  \n",
              "054716762769ce2431afa2982bd2727b      3.0      3.0  2.0  NaN  NaN  \n",
              "10b78deeb01722248f3e3fc08ef813a6      NaN      NaN  NaN  NaN  NaN  \n",
              "4708d71de2f8afe1064a703312b022b5      NaN      NaN  3.0  3.0  NaN  \n",
              "47a73c38a3acadbd58ad7f55f6e0cde9      NaN      NaN  5.0  4.0  5.0  \n",
              "4d801d302874e6e7313355949d4c18c3      NaN      3.0  1.0  1.0  NaN  \n",
              "56be2435e7d93b1648618a42c7847906      5.0      NaN  5.0  4.0  4.0  \n",
              "75fa3b8ce55550b5241d8add69999d09      NaN      NaN  NaN  3.0  NaN  \n",
              "8e7e5b546a63cb9add8431ee6914cf59      2.0      5.0  1.0  NaN  NaN  \n",
              "acefd919268b55eb84a29cb2c8679759      4.0      4.0  NaN  3.0  NaN  \n",
              "b11fb9f8b16ed8c8021fcc2a193a6016      5.0      NaN  2.0  NaN  NaN  \n",
              "d4b54479e9ef1dc383616b352dc202a1      NaN      NaN  NaN  NaN  NaN  \n",
              "d92f95b95d015036cecf4b7ba92ff8ad      NaN      NaN  3.0  3.0  4.0  \n",
              "dbde05e1d816950ac64e1332a5ad1f16      5.0      NaN  5.0  5.0  NaN  \n",
              "fbdfcf299d738396a4aa76ca93db8d85      5.0      NaN  NaN  3.0  NaN  "
            ]
          },
          "metadata": {
            "tags": []
          },
          "execution_count": 42
        }
      ]
    },
    {
      "cell_type": "markdown",
      "metadata": {
        "id": "bwx3pzPKZhkl",
        "colab_type": "text"
      },
      "source": [
        "---\n",
        "---\n",
        "\n",
        "## Modeling\n",
        "\n",
        "For this model, I'll be using the FastAI collaborative filtering algorithm(s).\n",
        "\n",
        "Resources:\n",
        "\n",
        "* [fastai.collab](https://docs.fast.ai/collab.html)\n",
        "* [movielens recommender example](https://github.com/microsoft/recommenders/blob/master/notebooks/00_quick_start/fastai_movielens.ipynb)"
      ]
    },
    {
      "cell_type": "code",
      "metadata": {
        "id": "Uc-CYJyXX_FM",
        "colab_type": "code",
        "colab": {}
      },
      "source": [
        "# === First, train on rated books only === #\n",
        "rating_range = [1, 5]\n",
        "\n",
        "# Create databunch\n",
        "data = CollabDataBunch.from_df(\n",
        "    inters_rated,\n",
        "    user_name=\"user_id\",\n",
        "    item_name=\"book_id\",\n",
        "    rating_name=\"rating\",\n",
        "    valid_pct=0.2,\n",
        "    seed=92\n",
        ")\n",
        "\n",
        "# === Instantiate learner === #\n",
        "learn = collab_learner(data, n_factors=50, y_range=rating_range)\n",
        "learn.model"
      ],
      "execution_count": null,
      "outputs": []
    },
    {
      "cell_type": "code",
      "metadata": {
        "id": "AME9RP91V_uQ",
        "colab_type": "code",
        "colab": {
          "base_uri": "https://localhost:8080/",
          "height": 206
        },
        "outputId": "e1b178c2-9875-495b-af91-6565e2dbcef9"
      },
      "source": [
        "data.show_batch()"
      ],
      "execution_count": null,
      "outputs": [
        {
          "output_type": "display_data",
          "data": {
            "text/html": [
              "<table border=\"1\" class=\"dataframe\">\n",
              "  <thead>\n",
              "    <tr style=\"text-align: right;\">\n",
              "      <th>user_id</th>\n",
              "      <th>book_id</th>\n",
              "      <th>target</th>\n",
              "    </tr>\n",
              "  </thead>\n",
              "  <tbody>\n",
              "    <tr>\n",
              "      <td>82</td>\n",
              "      <td>51</td>\n",
              "      <td>4.0</td>\n",
              "    </tr>\n",
              "    <tr>\n",
              "      <td>1761</td>\n",
              "      <td>8945</td>\n",
              "      <td>2.0</td>\n",
              "    </tr>\n",
              "    <tr>\n",
              "      <td>779</td>\n",
              "      <td>13588</td>\n",
              "      <td>3.0</td>\n",
              "    </tr>\n",
              "    <tr>\n",
              "      <td>1627</td>\n",
              "      <td>22778</td>\n",
              "      <td>5.0</td>\n",
              "    </tr>\n",
              "    <tr>\n",
              "      <td>1720</td>\n",
              "      <td>3098</td>\n",
              "      <td>4.0</td>\n",
              "    </tr>\n",
              "  </tbody>\n",
              "</table>"
            ],
            "text/plain": [
              "<IPython.core.display.HTML object>"
            ]
          },
          "metadata": {
            "tags": []
          }
        }
      ]
    },
    {
      "cell_type": "code",
      "metadata": {
        "id": "oJ0Jpl6cak9T",
        "colab_type": "code",
        "colab": {
          "base_uri": "https://localhost:8080/",
          "height": 206
        },
        "outputId": "724eb10b-4d73-4612-8dce-9950066c73d5"
      },
      "source": [
        "# === Train! === #\n",
        "learn.fit_one_cycle(5, 5e-3)"
      ],
      "execution_count": null,
      "outputs": [
        {
          "output_type": "display_data",
          "data": {
            "text/html": [
              "<table border=\"1\" class=\"dataframe\">\n",
              "  <thead>\n",
              "    <tr style=\"text-align: left;\">\n",
              "      <th>epoch</th>\n",
              "      <th>train_loss</th>\n",
              "      <th>valid_loss</th>\n",
              "      <th>time</th>\n",
              "    </tr>\n",
              "  </thead>\n",
              "  <tbody>\n",
              "    <tr>\n",
              "      <td>0</td>\n",
              "      <td>1.123155</td>\n",
              "      <td>1.084469</td>\n",
              "      <td>00:10</td>\n",
              "    </tr>\n",
              "    <tr>\n",
              "      <td>1</td>\n",
              "      <td>0.634403</td>\n",
              "      <td>0.753151</td>\n",
              "      <td>00:12</td>\n",
              "    </tr>\n",
              "    <tr>\n",
              "      <td>2</td>\n",
              "      <td>0.298588</td>\n",
              "      <td>0.739403</td>\n",
              "      <td>00:12</td>\n",
              "    </tr>\n",
              "    <tr>\n",
              "      <td>3</td>\n",
              "      <td>0.128401</td>\n",
              "      <td>0.741949</td>\n",
              "      <td>00:11</td>\n",
              "    </tr>\n",
              "    <tr>\n",
              "      <td>4</td>\n",
              "      <td>0.073346</td>\n",
              "      <td>0.742687</td>\n",
              "      <td>00:10</td>\n",
              "    </tr>\n",
              "  </tbody>\n",
              "</table>"
            ],
            "text/plain": [
              "<IPython.core.display.HTML object>"
            ]
          },
          "metadata": {
            "tags": []
          }
        }
      ]
    },
    {
      "cell_type": "code",
      "metadata": {
        "id": "Sh5WErztatz1",
        "colab_type": "code",
        "colab": {}
      },
      "source": [
        "# === Export trained model === #\n",
        "learn.export(\"/content/drive/My Drive/workshop/buildbox/likewise/assets/models/01_likewise.pkl\")"
      ],
      "execution_count": null,
      "outputs": []
    },
    {
      "cell_type": "markdown",
      "metadata": {
        "id": "RRWxc3UuYJb4",
        "colab_type": "text"
      },
      "source": [
        "---\n",
        "\n",
        "## Generate Recommendations"
      ]
    },
    {
      "cell_type": "code",
      "metadata": {
        "id": "X1t43KinX_01",
        "colab_type": "code",
        "colab": {}
      },
      "source": [
        "# === Import the model from file === #\n",
        "learner = load_learner(\n",
        "    path=\"/content/drive/My Drive/workshop/buildbox/likewise/assets/models/\",\n",
        "    file=\"01_likewise.pkl\",\n",
        ")"
      ],
      "execution_count": null,
      "outputs": []
    },
    {
      "cell_type": "code",
      "metadata": {
        "id": "hEPV2i4bYkmT",
        "colab_type": "code",
        "colab": {
          "base_uri": "https://localhost:8080/",
          "height": 35
        },
        "outputId": "baace152-a5d0-4d6b-e341-0a95fef62c02"
      },
      "source": [
        "# === Get all users and items that the model knows === #\n",
        "total_users, total_items = learner.data.train_ds.x.classes.values()\n",
        "total_items = total_items[1:]\n",
        "total_users = total_users[1:]\n",
        "\n",
        "print(total_users.shape, total_items.shape)"
      ],
      "execution_count": null,
      "outputs": [
        {
          "output_type": "stream",
          "text": [
            "(1613,) (15925,)\n"
          ],
          "name": "stdout"
        }
      ]
    },
    {
      "cell_type": "code",
      "metadata": {
        "id": "Fh9aZQOPZXdM",
        "colab_type": "code",
        "colab": {}
      },
      "source": [
        "# Get all users from the test set and remove any users\n",
        "# that were know in the training set\n",
        "\n",
        "test_users = test_df[USER].unique()\n",
        "test_users = np.intersect1d(test_users, total_users)"
      ],
      "execution_count": null,
      "outputs": []
    },
    {
      "cell_type": "code",
      "metadata": {
        "id": "DdWW90MAaIrb",
        "colab_type": "code",
        "colab": {}
      },
      "source": [
        "from itertools import product\n",
        "\n",
        "users_items = product(np.array(total_users), np.array(total_items))\n",
        "users_items = pd.DataFrame(users_items, columns=[\"user_id\", \"book_id\"])"
      ],
      "execution_count": null,
      "outputs": []
    },
    {
      "cell_type": "code",
      "metadata": {
        "id": "a2E8C04LaSUr",
        "colab_type": "code",
        "colab": {
          "base_uri": "https://localhost:8080/",
          "height": 424
        },
        "outputId": "2bddaaca-444f-47d4-b457-5c0fae3769fe"
      },
      "source": [
        "users_items"
      ],
      "execution_count": null,
      "outputs": [
        {
          "output_type": "execute_result",
          "data": {
            "text/html": [
              "<div>\n",
              "<style scoped>\n",
              "    .dataframe tbody tr th:only-of-type {\n",
              "        vertical-align: middle;\n",
              "    }\n",
              "\n",
              "    .dataframe tbody tr th {\n",
              "        vertical-align: top;\n",
              "    }\n",
              "\n",
              "    .dataframe thead th {\n",
              "        text-align: right;\n",
              "    }\n",
              "</style>\n",
              "<table border=\"1\" class=\"dataframe\">\n",
              "  <thead>\n",
              "    <tr style=\"text-align: right;\">\n",
              "      <th></th>\n",
              "      <th>user_id</th>\n",
              "      <th>book_id</th>\n",
              "    </tr>\n",
              "  </thead>\n",
              "  <tbody>\n",
              "    <tr>\n",
              "      <th>0</th>\n",
              "      <td>1</td>\n",
              "      <td>1</td>\n",
              "    </tr>\n",
              "    <tr>\n",
              "      <th>1</th>\n",
              "      <td>1</td>\n",
              "      <td>10</td>\n",
              "    </tr>\n",
              "    <tr>\n",
              "      <th>2</th>\n",
              "      <td>1</td>\n",
              "      <td>100</td>\n",
              "    </tr>\n",
              "    <tr>\n",
              "      <th>3</th>\n",
              "      <td>1</td>\n",
              "      <td>1000</td>\n",
              "    </tr>\n",
              "    <tr>\n",
              "      <th>4</th>\n",
              "      <td>1</td>\n",
              "      <td>10001</td>\n",
              "    </tr>\n",
              "    <tr>\n",
              "      <th>...</th>\n",
              "      <td>...</td>\n",
              "      <td>...</td>\n",
              "    </tr>\n",
              "    <tr>\n",
              "      <th>25687020</th>\n",
              "      <td>999</td>\n",
              "      <td>9990</td>\n",
              "    </tr>\n",
              "    <tr>\n",
              "      <th>25687021</th>\n",
              "      <td>999</td>\n",
              "      <td>9992</td>\n",
              "    </tr>\n",
              "    <tr>\n",
              "      <th>25687022</th>\n",
              "      <td>999</td>\n",
              "      <td>9993</td>\n",
              "    </tr>\n",
              "    <tr>\n",
              "      <th>25687023</th>\n",
              "      <td>999</td>\n",
              "      <td>9996</td>\n",
              "    </tr>\n",
              "    <tr>\n",
              "      <th>25687024</th>\n",
              "      <td>999</td>\n",
              "      <td>9997</td>\n",
              "    </tr>\n",
              "  </tbody>\n",
              "</table>\n",
              "<p>25687025 rows × 2 columns</p>\n",
              "</div>"
            ],
            "text/plain": [
              "         user_id book_id\n",
              "0              1       1\n",
              "1              1      10\n",
              "2              1     100\n",
              "3              1    1000\n",
              "4              1   10001\n",
              "...          ...     ...\n",
              "25687020     999    9990\n",
              "25687021     999    9992\n",
              "25687022     999    9993\n",
              "25687023     999    9996\n",
              "25687024     999    9997\n",
              "\n",
              "[25687025 rows x 2 columns]"
            ]
          },
          "metadata": {
            "tags": []
          },
          "execution_count": 68
        }
      ]
    },
    {
      "cell_type": "markdown",
      "metadata": {
        "id": "ROkKGlT6bqi1",
        "colab_type": "text"
      },
      "source": [
        "My search for how to generate recommendations led me to looking at the [`score` function](https://github.com/microsoft/recommenders/blob/master/reco_utils/recommender/fastai/fastai_utils.py) in the reco_utils module, which is used in one of the notebooks I'm referencing [here](https://github.com/microsoft/recommenders/blob/master/notebooks/00_quick_start/fastai_movielens.ipynb).\n",
        "\n",
        "I copied the `score` function into the cell below to try and use some of it to write my own recommendation function."
      ]
    },
    {
      "cell_type": "code",
      "metadata": {
        "id": "AfYiSNyBawMO",
        "colab_type": "code",
        "colab": {}
      },
      "source": [
        "def score(\n",
        "    learner,\n",
        "    test_df,\n",
        "    user_col=cc.DEFAULT_USER_COL,\n",
        "    item_col=cc.DEFAULT_ITEM_COL,\n",
        "    prediction_col=cc.DEFAULT_PREDICTION_COL,\n",
        "    top_k=None,\n",
        "):\n",
        "    \"\"\"Score all users+items provided and reduce to top_k items per user if top_k>0\n",
        "    \n",
        "    Args:\n",
        "        learner (obj): Model.\n",
        "        test_df (pd.DataFrame): Test dataframe.\n",
        "        user_col (str): User column name.\n",
        "        item_col (str): Item column name.\n",
        "        prediction_col (str): Prediction column name.\n",
        "        top_k (int): Number of top items to recommend.\n",
        "    Returns:\n",
        "        pd.DataFrame: Result of recommendation \n",
        "    \"\"\"\n",
        "    # replace values not known to the model with NaN\n",
        "    total_users, total_items = learner.data.train_ds.x.classes.values()\n",
        "    test_df.loc[~test_df[user_col].isin(total_users), user_col] = np.nan\n",
        "    test_df.loc[~test_df[item_col].isin(total_items), item_col] = np.nan\n",
        "\n",
        "    # map ids to embedding ids\n",
        "    u = learner.get_idx(test_df[user_col], is_item=False)\n",
        "    m = learner.get_idx(test_df[item_col], is_item=True)\n",
        "\n",
        "    # score the pytorch model\n",
        "    pred = learner.model.forward(u, m)\n",
        "    scores = pd.DataFrame(\n",
        "        {user_col: test_df[user_col], item_col: test_df[item_col], prediction_col: pred}\n",
        "    )\n",
        "    scores = scores.sort_values([user_col, prediction_col], ascending=[True, False])\n",
        "    if top_k is not None:\n",
        "        top_scores = scores.groupby(user_col).head(top_k).reset_index(drop=True)\n",
        "    else:\n",
        "        top_scores = scores\n",
        "    return top_scores"
      ],
      "execution_count": null,
      "outputs": []
    }
  ]
}