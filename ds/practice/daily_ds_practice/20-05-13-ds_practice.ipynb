{
 "cells": [
  {
   "cell_type": "markdown",
   "metadata": {},
   "source": [
    "# 20-05-13: Daily Data Practice\n",
    "\n",
    "---\n",
    "\n",
    "### Daily Practices\n",
    "\n",
    "* Practice with the common DS/ML tools and processes\n",
    "  * HackerRank SQL or Packt SQL Data Analytics\n",
    "  * Try to hit benchmark accuracies with [UCI ML datasets](https://archive.ics.uci.edu/ml/index.php)\n",
    "  * Kaggle\n",
    "  * Hands-on ML with sklearn, Keras, and TensorFlow\n",
    "    * Read, code along, take notes\n",
    "    * _test yourself on the concepts_ — i.e. do all the chapter exercises\n",
    "  * [fast.ai course](https://course.fast.ai/)\n",
    "  * Packt Workshops\n",
    "* Interviewing\n",
    "  * Behavioral questions and scenarios\n",
    "  * Business case walk-throughs\n",
    "  * Hot-seat DS-related topics for recall practice (under pressure)\n",
    "* Meta Data: Review and write\n",
    "  * Focus on a topic, review notes and resources, write a blog post about it\n",
    "* Job sourcing\n",
    "  * Networking\n",
    "  * LinkedIn\n",
    "  * Indeed"
   ]
  },
  {
   "cell_type": "markdown",
   "metadata": {},
   "source": [
    "---\n",
    "\n",
    "### Interviewing\n",
    "\n",
    "> Practice answering the most common interview questions\n",
    "\n",
    "Technical\n",
    "\n",
    "* Business case walk-throughs\n",
    "* Hot-seat DS-related topics for recall practice (under pressure)\n",
    "\n",
    "Behavioral\n",
    "\n",
    "* \"Tell me a bit about yourself\"\n",
    "* \"Tell me about a project you've worked on and are proud of\"\n",
    "* \"What do you know about our company?\"\n",
    "* \"Where do you see yourself in 3-5 years?\"\n",
    "* \"Why do you want to work here / want this job?\"\n",
    "* \"What makes you most qualified for this role?\"\n",
    "* \"What is your greatest strength/weakness?\"\n",
    "  * \"What is your greatest technical strength?\"\n",
    "* \"Tell me about a time when you had conflict with someone and how you handled it\"\n",
    "* \"Tell me about a mistake you made and how you handled it\"\n",
    "* \"Do you have any questions for me?\"\n",
    "  * What is your favorite aspect of working here?\n",
    "  * What has your journey looked like at the company?\n",
    "  * What are some challenges you face in your position?\n",
    "* Scenario questions (STAR: situation, task, action, result)\n",
    "  * Success story / biggest accomplishment\n",
    "  * Greatest challenge (overcome)\n",
    "  * Persuaded someone who did not agree with you\n",
    "  * Dealt with and resolved a conflict (among team members)\n",
    "  * Led a team / showed leadership skills or aptitude\n",
    "  * How you've dealt with stress / stressful situations\n",
    "  * Most difficult problem encountered in previous job; how you solved it\n",
    "  * Solved a problem creatively\n",
    "  * Exceeded expectations to get a job done\n",
    "  * Showed initiative\n",
    "  * Something that's not on your resume\n",
    "  * Example of important goal you set and how you reached it\n",
    "  * A time you failed"
   ]
  },
  {
   "cell_type": "markdown",
   "metadata": {},
   "source": [
    "---\n",
    "\n",
    "### Behavioral Interview with Kelsey Johnson"
   ]
  },
  {
   "cell_type": "markdown",
   "metadata": {},
   "source": [
    "#### \"Tell me about yourself\"\n",
    "\n",
    "* To get a accurate picture of me, need to go back to the beginning\n",
    "* Homeschooled as a child\n",
    "  * If there's one thing my parents instilled in me: learning is lifelong\n",
    "* Jack of many trades, master of some\n",
    "  * Variety of interests, many of which pursued as more than casual hobby\n",
    "  * Regardless, I always need something that's creative yet technical\n",
    "* BS in Economics - First taste of data\n",
    "  * First couple of years wasn't as creative\n",
    "  * High level Econ where we actually built models and analyzed data\n",
    "* IQMS - Enterprise Resource Planning for Manufacturers\n",
    "  * Tech Support Guru\n",
    "  * In 9 months promoted to On-site Implementation Consultant\n",
    "  * Explain responsibilities\n",
    "* DJ + Music Producer + Writer + Graphic Designer\n",
    "* Web dev -> coding -> DS -> Lambda School\n",
    "\n",
    "##### Related: \"What interests you about DS / how did you come to data science?\"\n",
    "\n",
    "* I believe in and am fascinated by the power of data to make many people's lives better\n",
    "* Low hanging fruit where data can be especially useful\n",
    "\n",
    "#### Feedback\n",
    "\n",
    "* It's obvious I have a lot interests, which is what I wanted to get across\n",
    "  * She said that my personality does come across as I was hoping\n",
    "  * Try to prune them to be more relevant to the specific job / company\n",
    "    * And the parts I get excited about should be front and center\n",
    "    * The analogy of the desert, adding too many different things distracts from the main dish\n",
    "  * The part about lifelong learning could be saved for a \"strength/weakness\" type of question\n",
    "    * Don't need to talk about being homeschooled\n",
    "  "
   ]
  },
  {
   "cell_type": "markdown",
   "metadata": {},
   "source": [
    "---\n",
    "\n",
    "#### \"Tell me about a project you've worked on and are proud of\"\n",
    "\n",
    "Trash Panda!\n",
    "\n",
    "* Explain what the app does\n",
    "* Dataset: 90% of our time\n",
    "  * YOLO - goal was to gather 1,000 images per class\n",
    "* Earth911 API - 300 classes\n",
    "  * First challenge was reducing the number of classes\n",
    "* Second challenge was gathering the images\n",
    "  * Mostly Bing, Google Open Images and COCO\n",
    "* Third, label 70-80k images\n",
    "  * I implemented a secondary CV model to automate labeling\n",
    "* I built the API to serve predictions using Flask\n",
    "  * Deployed to elastic beanstalk using docker\n",
    "* You can try out the app right now!\n",
    "\n",
    "#### Feedback\n",
    "\n",
    "* Did a great job with it"
   ]
  },
  {
   "cell_type": "markdown",
   "metadata": {},
   "source": [
    "---\n",
    "\n",
    "#### \"What are your salary expectations?\"\n",
    "\n",
    "* I have a range that I am looking for, but I am flexible\n",
    "* Depends on the rest of the package that the company is prepared to offer\n",
    "* Before I give you my expectations, I'd love to hear what range you are willing to offer\n",
    "\n",
    "#### Feedback\n",
    "\n",
    "* Did a good job handling this one"
   ]
  },
  {
   "cell_type": "markdown",
   "metadata": {},
   "source": [
    "---\n",
    "\n",
    "#### \"Do you have any questions for me?\"\n",
    "\n",
    "* What has your journey at the company been like?\n",
    "  * Where/when did you start out and what was it like getting to where you are now?\n",
    "* Does the company organize any group activities outside of work?\n",
    "  * Retreats or conferences to get to know other departments\n",
    "  \n",
    "#### Feedback\n",
    "\n",
    "* Questions should be getting at three things:\n",
    "  * Show my research on the company\n",
    "  * Show my interest in the position (?)\n",
    "  * Connect with the interviewer\n",
    "* Asking about extracurriculars and such may come off as wanting to have too much fun\n",
    "  * Be sure if this is a question, to frame it in a positive / productive way\n",
    "* I should be trying to stand out, with questions that make the interviewer think \"That is a good question\"\n",
    "  * Something unique and interesting, allowing them to express themselves\n",
    "* Try to get them excited, while learning about the company\n",
    "  * Along the lines of \"What are you excited about in the company / job?\""
   ]
  },
  {
   "cell_type": "markdown",
   "metadata": {},
   "source": []
  },
  {
   "cell_type": "markdown",
   "metadata": {},
   "source": []
  },
  {
   "cell_type": "markdown",
   "metadata": {},
   "source": [
    "---\n",
    "\n",
    "### Writing\n",
    "\n",
    "> Focus on a topic or project, learn/review the concepts, and write a blog post about it\n",
    "\n"
   ]
  },
  {
   "cell_type": "markdown",
   "metadata": {},
   "source": []
  },
  {
   "cell_type": "markdown",
   "metadata": {},
   "source": [
    "---\n",
    "\n",
    "### SQL\n",
    "\n",
    "> Work through practice problems on HackerRank or Packt"
   ]
  },
  {
   "cell_type": "markdown",
   "metadata": {},
   "source": []
  },
  {
   "cell_type": "markdown",
   "metadata": {},
   "source": [
    "---\n",
    "\n",
    "### DS + ML Practice\n",
    "\n",
    "* Pick a dataset and try to do X with it\n",
    "  * Try to hit benchmark accuracies with [UCI ML datasets](https://archive.ics.uci.edu/ml/index.php)\n",
    "  * Kaggle\n",
    "* Practice with the common DS/ML tools and processes\n",
    "  * Hands-on ML with sklearn, Keras, and TensorFlow\n",
    "  * Machine learning flashcards\n",
    "\n",
    "#### _The goal is to be comfortable explaining the entire process._\n",
    "\n",
    "* Data access / sourcing, cleaning\n",
    "  * SQL\n",
    "  * Pandas\n",
    "  * Exploratory data analysis\n",
    "  * Data wrangling techniques and processes\n",
    "* Inference\n",
    "  * Statistics\n",
    "  * Probability\n",
    "  * Visualization\n",
    "* Modeling\n",
    "  * Implement + justify choice of model / algorithm\n",
    "  * Track performance + justify choice of metrics\n",
    "    * Communicate results as relevant to the goal"
   ]
  },
  {
   "cell_type": "markdown",
   "metadata": {},
   "source": []
  },
  {
   "cell_type": "markdown",
   "metadata": {},
   "source": []
  },
  {
   "cell_type": "markdown",
   "metadata": {},
   "source": [
    "---\n",
    "\n",
    "### Job sourcing\n",
    "\n",
    "> Browse LinkedIn, Indeed, and connections for promising leads"
   ]
  },
  {
   "cell_type": "markdown",
   "metadata": {},
   "source": []
  },
  {
   "cell_type": "markdown",
   "metadata": {},
   "source": []
  },
  {
   "cell_type": "markdown",
   "metadata": {},
   "source": []
  },
  {
   "cell_type": "markdown",
   "metadata": {},
   "source": []
  },
  {
   "cell_type": "markdown",
   "metadata": {},
   "source": []
  },
  {
   "cell_type": "markdown",
   "metadata": {},
   "source": []
  },
  {
   "cell_type": "markdown",
   "metadata": {},
   "source": []
  },
  {
   "cell_type": "markdown",
   "metadata": {},
   "source": []
  },
  {
   "cell_type": "markdown",
   "metadata": {},
   "source": []
  },
  {
   "cell_type": "markdown",
   "metadata": {},
   "source": []
  },
  {
   "cell_type": "markdown",
   "metadata": {},
   "source": []
  },
  {
   "cell_type": "markdown",
   "metadata": {},
   "source": []
  },
  {
   "cell_type": "markdown",
   "metadata": {},
   "source": []
  },
  {
   "cell_type": "markdown",
   "metadata": {},
   "source": []
  }
 ],
 "metadata": {
  "kernelspec": {
   "display_name": "Python 3.7.6 64-bit ('vela': pipenv)",
   "language": "python",
   "name": "python37664bitvelapipenvde09592071074af6a70ce3b1ce38af95"
  },
  "language_info": {
   "codemirror_mode": {
    "name": "ipython",
    "version": 3
   },
   "file_extension": ".py",
   "mimetype": "text/x-python",
   "name": "python",
   "nbconvert_exporter": "python",
   "pygments_lexer": "ipython3",
   "version": "3.7.6"
  }
 },
 "nbformat": 4,
 "nbformat_minor": 4
}
