{
 "cells": [
  {
   "cell_type": "markdown",
   "metadata": {},
   "source": [
    "# 20-05-04: Daily Data Practice\n",
    "\n",
    "---\n",
    "\n",
    "### Daily Practices\n",
    "\n",
    "* Meta Data: Review and write\n",
    "  * Focus on a topic, review notes and resources, write a blog post about it\n",
    "* HackerRank SQL or Packt SQL Data Analytics\n",
    "* Practice with the common DS/ML tools and processes\n",
    "  * Try to hit benchmark accuracies with [UCI ML datasets](https://archive.ics.uci.edu/ml/index.php)\n",
    "  * Hands-on ML with sklearn, Keras, and TensorFlow\n",
    "    * Read, code along, take notes\n",
    "    * _test yourself on the concepts_ — i.e. do all the chapter exercises\n",
    "  * [fast.ai course](https://course.fast.ai/)\n",
    "  * Kaggle\n",
    "* Interviewing\n",
    "  * Behavioral\n",
    "    * \"Tell me a bit about yourself\"\n",
    "    * \"Tell me about a project you've worked on and are proud of\"\n",
    "    * \"What is your greatest strength and weakness?\"\n",
    "  * Business case walk-throughs\n",
    "  * Hot-seat DS-related topics for recall practice (under pressure)\n",
    "* Job sourcing\n",
    "  * LinkedIn"
   ]
  },
  {
   "cell_type": "markdown",
   "metadata": {},
   "source": [
    "---\n",
    "\n",
    "### Writing\n",
    "\n",
    "> Focus on a topic or project, learn/review the concepts, and write a blog post about it\n",
    "\n",
    "The topic for today is:\n",
    "\n",
    "> Trash Panda\n",
    "\n",
    "* [x] Write the introduction / overview of the project"
   ]
  },
  {
   "cell_type": "markdown",
   "metadata": {},
   "source": [
    "# Trash Panda\n",
    "\n",
    "## Table of Contents\n",
    "\n",
    "* Overview\n",
    "  * Technologies\n",
    "  * Topics\n",
    "  * Intro\n",
    "* The Data Pipeline\n",
    "  * Challenges\n",
    "* The Model\n",
    "\n",
    "## Overview\n",
    "\n",
    "### Technologies\n",
    "\n",
    "* Python\n",
    "* OpenCV\n",
    "* Mask R-CNN\n",
    "* Flask\n",
    "* Docker\n",
    "\n",
    "### Topics\n",
    "\n",
    "* Computer vision\n",
    "* Object detection\n",
    "* Data engineering\n",
    "\n",
    "### Intro\n",
    "\n",
    "Trash Panda is the largest machine learning endeavor I have yet embarked on. I worked on\n",
    "a team of three other data scientists / machine learning engineers, four web developers,\n",
    "and two UX designers.\n",
    "\n",
    "The goal was to build an app that helps create better recycling habits by reducing the\n",
    "the effort required to find accurate information on how to properly dispose of any given\n",
    "item of waste. To make this possible, we needed to reduce the friction so much so that\n",
    "looking up how to dispose of something that a user is holding in their hand is just as\n",
    "easy as debating for a few seconds on what bin it goes in.\n",
    "\n",
    "Put another way, our goal was to reduce the cognitive tax of getting relevant recycling\n",
    "information so much that disposing of every item of waste properly, regardless of what\n",
    "is is, becomes effortless.\n",
    "\n",
    "The way our stakeholder (one of the other DS team members) envisioned this goal being\n",
    "achieved was to use computer vision to recognize objects and have the system\n",
    "automatically bring up the relevant disposal information for the area.\n",
    "[[::Rewrite::]]\n",
    "The way our stakeholder envisioned it working is the user would snap a photo of\n",
    "something they are about to toss but are unsure of which bin it should be tossed into.\n",
    "Then, the app's computer vision (object detection) functionality would recognize the\n",
    "object and automatically pull up the relevant information on how it should be disposed\n",
    "of according to the user's location and available services. The user would ideally know\n",
    "immediately if the item should be thrown in the trash, recycle, or compost, or if it is\n",
    "recyclable but only at an offsite facility. If the latter is the case, then the user can\n",
    "view a list of nearby facilities where they can take it.\n",
    "\n",
    "We were not blessed with an iOS or Android developer, and thus were limited to using web\n",
    "technologies for the app. Thus, we decided to go with a progressive web app, or PWA. For\n",
    "those who aren't familiar, a PWA is basically a web app that can both be used via the\n",
    "browser and downloaded to the home screen of a mobile device.\n",
    "\n",
    "Google has been moving to fully support PWAs, and that means Trash Panda is available on\n",
    "the Play Store right now. Of course the benefit of a PWA is you don't actually have to\n",
    "download it at all if you don't want to. You can use it directly from the browser.\n",
    "\n",
    "Apple is pretty far behind in their support of PWAs. As a result, the behavior on an iOS\n",
    "device is not ideal. For those on iOS, be sure to use Safari and when taking a picture\n",
    "of an item, you have to exit out of the video window before pressing the normal shutter\n",
    "button.\n",
    "\n",
    "You'll figure it out—I believe in you!"
   ]
  },
  {
   "cell_type": "markdown",
   "metadata": {},
   "source": [
    "---\n",
    "\n",
    "### Interviewing\n",
    "\n",
    "> Practice answering the most common interview questions\n",
    "\n",
    "* \"Tell me a bit about yourself\"\n",
    "* \"Tell me about a project you've worked on and are proud of\"\n",
    "* Business case walk-throughs\n",
    "* Hot-seat DS-related topics for recall practice (under pressure)"
   ]
  },
  {
   "cell_type": "markdown",
   "metadata": {},
   "source": [
    "### 13:36 ~ 3.1 :: Behavioral practice\n",
    "\n",
    "* Tell me about yourself\n",
    "* Tell me about a project you worked on that you are proud of\n",
    "* What is your greatest strength and weakness?\n",
    "* Why should we hire you for this role?\n",
    "  * What sets you apart from other candidates?\n",
    "\n",
    "1. Tell me about yourself\n",
    "\n",
    "I studied Economics in undergrad where I got my first real taste for working deeply with\n",
    "data. After college I worked as a software implementation consultant, which had me\n",
    "flying around the country helping manufacturers, large and small, to move their entire\n",
    "workflow onto a new ERP system. This experience was incredibly tough, but taught me a\n",
    "great deal about managing projects, people, and expectations. I also got to see many\n",
    "places throughout the States that I would likely not have visited otherwise.\n",
    "\n",
    "2. Tell me about a project you worked on that you are proud of\n",
    "\n",
    "I worked on a team of data scientists, web developers, and UX designers that built an\n",
    "app called Trash Panda. The app aims to reduce the effort needed to find accurate\n",
    "recycling information to the point that disposing of every piece of waste becomes\n",
    "effortless.\n",
    "\n",
    "Myself and the other data scientists / ML engineers on the team were tasked with\n",
    "building and deploying an object detection system that the user can use to simply snap a\n",
    "photo of a piece of waste and automatically get relevant information on how to dispose\n",
    "of it properly.\n",
    "\n",
    "We spent most of the time gathering, processing, and labeling the 80,000+ images that we\n",
    "used to train our object detection model. By the end of the 8 weeks, we had a relatively\n",
    "accurate and very usable system that served predictions of what waste item or items are\n",
    "present in a given photo.\n",
    "\n",
    "> talk more about what I did specifically\n",
    "\n",
    "3. What is your greatest strength and weakness?\n",
    "\n",
    "One of my greatest strengths is being able to see things from a wide variety of\n",
    "viewpoints. I am very empathetic and flexible and can help bridge the gap between\n",
    "opposing viewpoints effectively.\n",
    "\n",
    "One of my greatest weaknesses is my tendency to get distracted or follow tangents. I've\n",
    "been working on improving in this area by being very intentional with my time and\n",
    "attention.\n",
    "\n",
    "4. Why should we hire you for this role/what sets you apart from other candidates?\n",
    "\n",
    "I believe I can quickly become an essential team member that contributes valuable work\n",
    "to making the data science/machine learning more effective and therefore profitable.\n",
    "\n",
    "> Maybe better phrasing for adding profit to the company / team\n",
    "\n",
    "#### _Do not go into the behavioral interviews without getting gooood answers to these!_\n",
    "\n"
   ]
  },
  {
   "cell_type": "markdown",
   "metadata": {},
   "source": [
    "---\n",
    "\n",
    "## Artefacts"
   ]
  },
  {
   "cell_type": "markdown",
   "metadata": {},
   "source": [
    "#### Portfolio / Blog\n",
    "\n",
    "Created and configured a new EC2 instance to attempt another deployment of my portfolio / blog. Made some progress!\n",
    "\n",
    "The Wagtail admin site wasn't working the last time I tried to deploy to EC2, which I now know is something to do with how traffic is routed through the application load balancer when it's attached to an EC2 instance.\n",
    "\n",
    "Next up, getting my custom domain, `tobias.fyi`, to point to the server.\n",
    "\n",
    "I've been trying to get this working for a couple of weeks now without any success. But I'm glad I did make some progress today."
   ]
  },
  {
   "cell_type": "markdown",
   "metadata": {},
   "source": []
  },
  {
   "cell_type": "markdown",
   "metadata": {},
   "source": []
  },
  {
   "cell_type": "markdown",
   "metadata": {},
   "source": []
  },
  {
   "cell_type": "markdown",
   "metadata": {},
   "source": [
    "---\n",
    "\n",
    "### SQL\n",
    "\n",
    "> Work through practice problems on HackerRank or Packt"
   ]
  },
  {
   "cell_type": "markdown",
   "metadata": {},
   "source": []
  },
  {
   "cell_type": "markdown",
   "metadata": {},
   "source": []
  },
  {
   "cell_type": "markdown",
   "metadata": {},
   "source": []
  },
  {
   "cell_type": "markdown",
   "metadata": {},
   "source": []
  },
  {
   "cell_type": "markdown",
   "metadata": {},
   "source": []
  },
  {
   "cell_type": "markdown",
   "metadata": {},
   "source": [
    "---\n",
    "\n",
    "### DS + ML Practice\n",
    "\n",
    "* Pick a dataset and try to do X with it\n",
    "  * Try to hit benchmark accuracies with [UCI ML datasets](https://archive.ics.uci.edu/ml/index.php)\n",
    "  * Kaggle\n",
    "* Practice with the common DS/ML tools and processes\n",
    "  * Hands-on ML with sklearn, Keras, and TensorFlow\n",
    "    * Read, code along, take notes\n",
    "    * _test yourself on the concepts_ — i.e. do all the chapter exercises\n",
    "  * [fast.ai course](https://course.fast.ai/)\n",
    "  * Machine learning flashcards\n",
    "\n",
    "#### _The goal is to be comfortable explaining the entire process._\n",
    "\n",
    "* Data access / sourcing, cleaning\n",
    "  * SQL\n",
    "  * Pandas\n",
    "  * Exploratory data analysis\n",
    "  * Data wrangling techniques and processes\n",
    "* Inference\n",
    "  * Statistics\n",
    "  * Probability\n",
    "  * Visualization\n",
    "* Modeling\n",
    "  * Implement + justify choice of model / algorithm\n",
    "  * Track performance + justify choice of metrics\n",
    "    * Communicate results as relevant to the goal"
   ]
  },
  {
   "cell_type": "markdown",
   "metadata": {},
   "source": []
  },
  {
   "cell_type": "markdown",
   "metadata": {},
   "source": []
  },
  {
   "cell_type": "markdown",
   "metadata": {},
   "source": []
  },
  {
   "cell_type": "markdown",
   "metadata": {},
   "source": []
  },
  {
   "cell_type": "markdown",
   "metadata": {},
   "source": [
    "---\n",
    "\n",
    "### Job sourcing\n",
    "\n",
    "> Browse LinkedIn, Indeed, and connections for promising leads"
   ]
  },
  {
   "cell_type": "markdown",
   "metadata": {},
   "source": []
  },
  {
   "cell_type": "markdown",
   "metadata": {},
   "source": []
  },
  {
   "cell_type": "markdown",
   "metadata": {},
   "source": []
  },
  {
   "cell_type": "markdown",
   "metadata": {},
   "source": []
  },
  {
   "cell_type": "markdown",
   "metadata": {},
   "source": []
  },
  {
   "cell_type": "markdown",
   "metadata": {},
   "source": []
  },
  {
   "cell_type": "markdown",
   "metadata": {},
   "source": []
  },
  {
   "cell_type": "markdown",
   "metadata": {},
   "source": []
  },
  {
   "cell_type": "markdown",
   "metadata": {},
   "source": []
  },
  {
   "cell_type": "markdown",
   "metadata": {},
   "source": []
  },
  {
   "cell_type": "markdown",
   "metadata": {},
   "source": []
  },
  {
   "cell_type": "markdown",
   "metadata": {},
   "source": []
  },
  {
   "cell_type": "markdown",
   "metadata": {},
   "source": []
  },
  {
   "cell_type": "markdown",
   "metadata": {},
   "source": []
  }
 ],
 "metadata": {
  "kernelspec": {
   "display_name": "Python 3.7.6 64-bit ('vela': pipenv)",
   "language": "python",
   "name": "python37664bitvelapipenvde09592071074af6a70ce3b1ce38af95"
  },
  "language_info": {
   "codemirror_mode": {
    "name": "ipython",
    "version": 3
   },
   "file_extension": ".py",
   "mimetype": "text/x-python",
   "name": "python",
   "nbconvert_exporter": "python",
   "pygments_lexer": "ipython3",
   "version": "3.7.6"
  }
 },
 "nbformat": 4,
 "nbformat_minor": 4
}
