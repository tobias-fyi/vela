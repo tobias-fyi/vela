{
 "cells": [
  {
   "cell_type": "markdown",
   "metadata": {},
   "source": [
    "# 20-07-02: Daily Practice"
   ]
  },
  {
   "cell_type": "markdown",
   "metadata": {},
   "source": [
    "---\n",
    "---\n",
    "\n",
    "## Daily practices\n",
    "\n",
    "* [x] [Practice & learn](#Practice-&-learn)\n",
    "  * [x] Coding, algorithms & data structures\n",
    "  * [x] Data science: access, manipulation, analysis, visualization\n",
    "  * [x] Engineering: SQL, PySpark, APIs, TDD, OOP\n",
    "  * [x] Machine learning: Scikit-learn, TensorFlow, PyTorch\n",
    "  * [x] Interview questions (out loud)\n",
    "* [ ] [Meta-data: reading & writing](#Meta-data:-reading-&-writing)\n",
    "  * [ ] Blog\n",
    "  * [x] Social media discussions\n",
    "* [ ] [2-Hour Job Search](#2-Hour-Job-Search)\n",
    "  * [ ] LAMP List\n",
    "  * [x] Online networking"
   ]
  },
  {
   "cell_type": "markdown",
   "metadata": {},
   "source": [
    "---\n",
    "---\n",
    "\n",
    "## Practice & learn"
   ]
  },
  {
   "cell_type": "markdown",
   "metadata": {},
   "source": [
    "---\n",
    "\n",
    "### Coding, algorithms & data structures\n",
    "\n",
    "* [x] [Merge two sorted lists (easy)](https://leetcode.com/problems/merge-two-sorted-lists/)\n",
    "* [ ] [Remove duplicates from sorted array (easy)](https://leetcode.com/problems/remove-duplicates-from-sorted-array/)\n",
    "* [ ] [Permutations (medium)](https://leetcode.com/problems/permutations/)\n",
    "* [ ] [Generate parantheses (medium)](https://leetcode.com/problems/generate-parentheses/)"
   ]
  },
  {
   "cell_type": "markdown",
   "metadata": {},
   "source": [
    "#### [Merge two sorted lists (easy)](https://leetcode.com/problems/merge-two-sorted-lists/)\n",
    "\n",
    "Merge two sorted linked lists and return it as a new sorted list. The new list should be made by splicing together the nodes of the first two lists.\n",
    "\n",
    "Example:\n",
    "\n",
    "    Input: 1->2->4, 1->3->4\n",
    "    Output: 1->1->2->3->4->4"
   ]
  },
  {
   "cell_type": "code",
   "execution_count": 7,
   "metadata": {},
   "outputs": [],
   "source": [
    "from __future__ import annotations\n",
    "\n",
    "# Definition for singly-linked list.\n",
    "class ListNode:\n",
    "    def __init__(self, val: int = 0, next: ListNode = None):\n",
    "        self.val = val\n",
    "        self.next = next\n",
    "\n",
    "    def __str__(self):\n",
    "        return f\"ListNode({self.val}, {self.next})\""
   ]
  },
  {
   "cell_type": "code",
   "execution_count": 32,
   "metadata": {},
   "outputs": [],
   "source": [
    "def mergeTwoLists(l1: ListNode, l2: ListNode) -> ListNode:\n",
    "    # === Handle None input edge cases === #\n",
    "    if l1 is None and l2 is not None:\n",
    "        return l2\n",
    "    elif l1 is not None and l2 is None:\n",
    "        return l1\n",
    "    elif l1 is None and l2 is None:\n",
    "        return None\n",
    "\n",
    "    # === First node separate to return === #\n",
    "    # Instantiate ListNode from lesser value\n",
    "    if l1.val <= l2.val:\n",
    "        first_node = ListNode(l1.val)\n",
    "        l1 = l1.next\n",
    "    else:\n",
    "        first_node = ListNode(l2.val)\n",
    "        l2 = l2.next\n",
    "\n",
    "    last_node = first_node\n",
    "    while l1 or l2:\n",
    "        if l1 is None:\n",
    "            node = ListNode(l2.val)\n",
    "            l2 = l2.next\n",
    "        elif l2 is None:\n",
    "            node = ListNode(l1.val)\n",
    "            l1 = l1.next\n",
    "        else:\n",
    "            # === Compare values of two nodes === #\n",
    "            if l1.val <= l2.val:\n",
    "                node = ListNode(l1.val)\n",
    "                l1 = l1.next\n",
    "            else:\n",
    "                node = ListNode(l2.val)\n",
    "                l2 = l2.next\n",
    "\n",
    "        # Set last node's next to current node\n",
    "        last_node.next = node\n",
    "        last_node = node  # Iterate last_node\n",
    "        \n",
    "    return first_node"
   ]
  },
  {
   "cell_type": "code",
   "execution_count": 33,
   "metadata": {},
   "outputs": [],
   "source": [
    "# Helper function to (re)construct linked lists from integers\n",
    "def int_to_linked_list(num: int, last_node: ListNode = None) -> ListNode:\n",
    "    \"\"\"Constructs a linked list from an integer, with digits stored in\n",
    "    reverse order, each node containing a single digit.\n",
    "    \"\"\"\n",
    "    # === Base case: no more numbers === #\n",
    "    # But if number starts as 0, should be added as node\n",
    "    if num == 0 and last_node is not None:\n",
    "        return None\n",
    "    # Last digit is first to be added\n",
    "    # To return last digit, take modulo 10\n",
    "    last_digit = num % 10\n",
    "    # Then to remove the last digit, floor divide by 10\n",
    "    new_num = num // 10\n",
    "    print(f\"{new_num} -> {last_digit}\")\n",
    "    \n",
    "    # Create ListNode using last_digit\n",
    "    node = ListNode(last_digit)\n",
    "    # Assign to last node's next, if exists\n",
    "    if last_node:\n",
    "        last_node.next = node\n",
    "    # Call function recursively\n",
    "    int_to_linked_list(new_num, node)\n",
    "    return node"
   ]
  },
  {
   "cell_type": "code",
   "execution_count": 34,
   "metadata": {},
   "outputs": [
    {
     "name": "stdout",
     "output_type": "stream",
     "text": [
      "42 -> 1\n",
      "4 -> 2\n",
      "0 -> 4\n",
      "ListNode(1, ListNode(2, ListNode(4, None)))\n",
      "43 -> 1\n",
      "4 -> 3\n",
      "0 -> 4\n",
      "ListNode(1, ListNode(3, ListNode(4, None)))\n"
     ]
    }
   ],
   "source": [
    "# === Test it out === #\n",
    "\n",
    "# Create linked lists\n",
    "list1 = int_to_linked_list(421)\n",
    "print(list1)\n",
    "list2 = int_to_linked_list(431)\n",
    "print(list2)"
   ]
  },
  {
   "cell_type": "code",
   "execution_count": 35,
   "metadata": {},
   "outputs": [
    {
     "name": "stdout",
     "output_type": "stream",
     "text": [
      "ListNode(1, ListNode(1, ListNode(2, ListNode(3, ListNode(4, ListNode(4, None))))))\n"
     ]
    }
   ],
   "source": [
    "list3 = mergeTwoLists(list1, list2)\n",
    "print(list3)"
   ]
  },
  {
   "cell_type": "markdown",
   "metadata": {},
   "source": [
    "##### Success\n",
    "\n",
    "Not super efficient, but it works. Given time, I'd like to see how I could optimize my initial solution.\n",
    "\n",
    "* Runtime: 60 ms, faster than 9.48% of Python3 online submissions for Merge Two Sorted Lists.\n",
    "* Memory Usage: 14 MB, less than 13.25% of Python3 online submissions for Merge Two Sorted Lists."
   ]
  },
  {
   "cell_type": "markdown",
   "metadata": {},
   "source": [
    "---\n",
    "\n",
    "### Engineering\n",
    "\n",
    "* SQL\n",
    "* PySpark\n",
    "* APIs\n",
    "* Test-driven development\n",
    "* Object-oriented practice"
   ]
  },
  {
   "cell_type": "markdown",
   "metadata": {},
   "source": [
    "#### DataCamp Python Assessment"
   ]
  },
  {
   "cell_type": "code",
   "execution_count": 36,
   "metadata": {},
   "outputs": [
    {
     "data": {
      "text/plain": [
       "'Chocolate'"
      ]
     },
     "execution_count": 36,
     "metadata": {},
     "output_type": "execute_result"
    }
   ],
   "source": [
    "# === 1 === #\n",
    "class Candy:\n",
    "    flavor = 'sweet'\n",
    "    \n",
    "    def __init__(self, name):\n",
    "        self.name = name\n",
    "        \n",
    "c = Candy('Chocolate')\n",
    "\n",
    "c.name"
   ]
  },
  {
   "cell_type": "code",
   "execution_count": 39,
   "metadata": {},
   "outputs": [
    {
     "data": {
      "text/plain": [
       "'I know how to call this function.'"
      ]
     },
     "execution_count": 39,
     "metadata": {},
     "output_type": "execute_result"
    }
   ],
   "source": [
    "# === 2 === #\n",
    "x = lambda : \"I know how to call this function.\"\n",
    "\n",
    "x()"
   ]
  },
  {
   "cell_type": "code",
   "execution_count": 40,
   "metadata": {},
   "outputs": [
    {
     "data": {
      "text/plain": [
       "' a '"
      ]
     },
     "execution_count": 40,
     "metadata": {},
     "output_type": "execute_result"
    }
   ],
   "source": [
    "# === 3 === #\n",
    "s = \"a\"\n",
    "\n",
    "s.center(3)"
   ]
  },
  {
   "cell_type": "code",
   "execution_count": 41,
   "metadata": {},
   "outputs": [
    {
     "data": {
      "text/plain": [
       "'fox '"
      ]
     },
     "execution_count": 41,
     "metadata": {},
     "output_type": "execute_result"
    }
   ],
   "source": [
    "# === 4 === #\n",
    "s = \"fox\"\n",
    "s.ljust(4)"
   ]
  },
  {
   "cell_type": "code",
   "execution_count": 42,
   "metadata": {},
   "outputs": [
    {
     "data": {
      "text/plain": [
       "'astronomical body'"
      ]
     },
     "execution_count": 42,
     "metadata": {},
     "output_type": "execute_result"
    }
   ],
   "source": [
    "# === 5 === #\n",
    "class Planet:\n",
    "    family = \"astronomical body\"\n",
    "    \n",
    "    def __init__(self, name):\n",
    "        self.name = name\n",
    "\n",
    "n = Planet('Neptune')\n",
    "\n",
    "n.family"
   ]
  },
  {
   "cell_type": "code",
   "execution_count": 43,
   "metadata": {},
   "outputs": [
    {
     "data": {
      "text/plain": [
       "'Returns the square of the argument x'"
      ]
     },
     "execution_count": 43,
     "metadata": {},
     "output_type": "execute_result"
    }
   ],
   "source": [
    "# === 6 === #\n",
    "# Define a function that squares a single input argument. Complete the docstring for the function.\n",
    "def square(x):\n",
    "    \"\"\"Returns the square of the argument x\"\"\"\n",
    "    return x*x\n",
    "\n",
    "square.__doc__"
   ]
  },
  {
   "cell_type": "code",
   "execution_count": 44,
   "metadata": {},
   "outputs": [
    {
     "data": {
      "text/plain": [
       "[0]"
      ]
     },
     "execution_count": 44,
     "metadata": {},
     "output_type": "execute_result"
    }
   ],
   "source": [
    "# === 7 === #\n",
    "import pandas as pd\n",
    "\n",
    "list_keys = ['a', 'b']\n",
    "list_values = [['x', 'y'], [1, 2]]\n",
    "\n",
    "list(pd.(list_keys, list_values))\n",
    "\n",
    "# Nope"
   ]
  },
  {
   "cell_type": "code",
   "execution_count": 47,
   "metadata": {},
   "outputs": [
    {
     "data": {
      "text/plain": [
       "{1, 2, 3, 4, 5, 6}"
      ]
     },
     "execution_count": 47,
     "metadata": {},
     "output_type": "execute_result"
    }
   ],
   "source": [
    "# === 8 === #\n",
    "a = {1, 2, 3}\n",
    "b = {4, 5, 6}\n",
    "\n",
    "a.union(b)"
   ]
  },
  {
   "cell_type": "markdown",
   "metadata": {},
   "source": [
    "=== 9 ===\n",
    "\n",
    "Print the pattern using for loops.\n",
    "\n",
    "    1\n",
    "    22\n",
    "    333\n",
    "    4444\n",
    "    55555\n",
    "    666666\n",
    "    7777777\n",
    "    88888888\n",
    "    999999999\n",
    "\n",
    "Complete the code to return the output"
   ]
  },
  {
   "cell_type": "code",
   "execution_count": 49,
   "metadata": {},
   "outputs": [
    {
     "name": "stdout",
     "output_type": "stream",
     "text": [
      "1\n",
      "22\n",
      "333\n",
      "4444\n",
      "55555\n",
      "666666\n",
      "7777777\n",
      "88888888\n",
      "999999999\n"
     ]
    }
   ],
   "source": [
    "# === 9 === #\n",
    "for x in range(1, 10):\n",
    "    for j in range(x):\n",
    "        print(x, end=\"\")\n",
    "    print(\"\")\n",
    "    \n",
    "# Didn't get it in time =("
   ]
  },
  {
   "cell_type": "code",
   "execution_count": 51,
   "metadata": {},
   "outputs": [
    {
     "data": {
      "text/plain": [
       "{3}"
      ]
     },
     "execution_count": 51,
     "metadata": {},
     "output_type": "execute_result"
    }
   ],
   "source": [
    "# === 10 === #\n",
    "a = {1, 2, 3}\n",
    "b = {3, 4, 5, 6}\n",
    "\n",
    "a & b"
   ]
  },
  {
   "cell_type": "code",
   "execution_count": 52,
   "metadata": {},
   "outputs": [
    {
     "data": {
      "text/plain": [
       "{0: 0, 1: 2, 2: 4, 3: 6, 4: 8}"
      ]
     },
     "execution_count": 52,
     "metadata": {},
     "output_type": "execute_result"
    }
   ],
   "source": [
    "# === 11 === #\n",
    "dict_gen = {num: num * 2 for num in range(5)}\n",
    "\n",
    "dict_gen"
   ]
  },
  {
   "cell_type": "markdown",
   "metadata": {},
   "source": [
    "=== 12 ===\n",
    "\n",
    "Which of these environment managers is part of the Python standard library?\n",
    "\n",
    "* [x] venv\n",
    "* [ ] virtualenv\n",
    "* [ ] pipenv\n",
    "* [ ] conda"
   ]
  },
  {
   "cell_type": "markdown",
   "metadata": {},
   "source": [
    "=== 13 ===\n",
    "\n",
    "* Increment the value of i until i is greater than 5.\n",
    "* Print a message when i is no longer greater than 5.\n",
    "\n",
    "Complete the code to return the output"
   ]
  },
  {
   "cell_type": "code",
   "execution_count": 55,
   "metadata": {},
   "outputs": [
    {
     "name": "stdout",
     "output_type": "stream",
     "text": [
      "0\n",
      "1\n",
      "2\n",
      "3\n",
      "4\n",
      "i is no longer less than 5\n"
     ]
    }
   ],
   "source": [
    "# === 13 === #\n",
    "i = 0\n",
    "\n",
    "while i < 5:\n",
    "    print(i)\n",
    "    i = i + 1\n",
    "if i == 5:\n",
    "    print(\"i is no longer less than 5\")\n",
    "    \n",
    "# Dumb mistake - accidentally left only one equals sign in if statement."
   ]
  },
  {
   "cell_type": "markdown",
   "metadata": {},
   "source": [
    "=== 14 ===\n",
    "\n",
    "Consider the classes GenericClass and CompositeClass defined below. Complete CompositeClass such that it is composed of GenericClass.\n",
    "\n",
    "Complete the code to return the output.\n",
    "\n",
    "Expected output:\n",
    "\n",
    "    1"
   ]
  },
  {
   "cell_type": "code",
   "execution_count": null,
   "metadata": {},
   "outputs": [],
   "source": [
    "# === 14 === #\n",
    "\n",
    "class GenericClass:\n",
    "    version = 1\n",
    "    \n",
    "    def __init__(self):\n",
    "        pass\n",
    "\n",
    "class CompositeClass:\n",
    "    def __init__(self):\n",
    "        super()\n",
    "        self.version = self.generic.version\n",
    "\n",
    "c = CompositeClass()\n",
    "print(c.version)\n",
    "\n",
    "# Nope - still not quite sure what is expected here."
   ]
  },
  {
   "cell_type": "code",
   "execution_count": 57,
   "metadata": {},
   "outputs": [
    {
     "data": {
      "text/plain": [
       "9"
      ]
     },
     "execution_count": 57,
     "metadata": {},
     "output_type": "execute_result"
    }
   ],
   "source": [
    "# === 15 === #\n",
    "\n",
    "f = lambda x, y: x * y\n",
    "\n",
    "f(3,3)"
   ]
  },
  {
   "cell_type": "markdown",
   "metadata": {},
   "source": [
    "##### Results\n",
    "\n",
    "You received a score of 185. You performed better than 100% of your peers.\n",
    "\n",
    "###### Knowledge Summary\n",
    "\n",
    "Your strengths and skill gaps are based on how you performed within each skill covered in the assessment.\n",
    "\n",
    "* Strengths\n",
    "  * Data Structures\n",
    "  * Unit Tests\n",
    "  * Functions\n",
    "* Skill Gaps\n",
    "  * Conditionals & Control Structures"
   ]
  },
  {
   "cell_type": "markdown",
   "metadata": {},
   "source": [
    "---\n",
    "\n",
    "### Data science\n",
    "\n",
    "* Access\n",
    "* Manipulation\n",
    "* Analysis\n",
    "* Visualization"
   ]
  },
  {
   "cell_type": "markdown",
   "metadata": {},
   "source": [
    "#### DataCamp Data Manipulation Assessment"
   ]
  },
  {
   "cell_type": "code",
   "execution_count": 59,
   "metadata": {},
   "outputs": [
    {
     "data": {
      "text/plain": [
       "0    1.0\n",
       "1    2.0\n",
       "3    4.0\n",
       "4    5.0\n",
       "dtype: float64"
      ]
     },
     "execution_count": 59,
     "metadata": {},
     "output_type": "execute_result"
    }
   ],
   "source": [
    "import numpy as np\n",
    "import pandas as pd\n",
    "\n",
    "data = pd.Series([1, 2, np.nan, 4, 5])\n",
    "data.dropna()"
   ]
  },
  {
   "cell_type": "markdown",
   "metadata": {},
   "source": [
    "Consider the pandas DataFrame df:\n",
    "\n",
    "       id var_day\n",
    "    0   1     x_0\n",
    "    1   2     y_0\n",
    "    2   3     x_1\n",
    "\n",
    "Complete the code to return the expected output:\n",
    "\n",
    "       id var_day var\n",
    "    0   1     x_0   x\n",
    "    1   2     y_0   y\n",
    "    2   3     x_1   x"
   ]
  },
  {
   "cell_type": "code",
   "execution_count": 60,
   "metadata": {},
   "outputs": [
    {
     "ename": "NameError",
     "evalue": "name 'df' is not defined",
     "output_type": "error",
     "traceback": [
      "\u001b[0;31m---------------------------------------------------------------------------\u001b[0m",
      "\u001b[0;31mNameError\u001b[0m                                 Traceback (most recent call last)",
      "\u001b[0;32m<ipython-input-60-ee9c52802470>\u001b[0m in \u001b[0;36m<module>\u001b[0;34m\u001b[0m\n\u001b[0;32m----> 1\u001b[0;31m \u001b[0mdf\u001b[0m\u001b[0;34m[\u001b[0m\u001b[0;34m'var'\u001b[0m\u001b[0;34m]\u001b[0m \u001b[0;34m=\u001b[0m \u001b[0mdf\u001b[0m\u001b[0;34m[\u001b[0m\u001b[0;34m\"var_day\"\u001b[0m\u001b[0;34m]\u001b[0m\u001b[0;34m[\u001b[0m\u001b[0;36m0\u001b[0m\u001b[0;34m]\u001b[0m\u001b[0;34m\u001b[0m\u001b[0;34m\u001b[0m\u001b[0m\n\u001b[0m\u001b[1;32m      2\u001b[0m \u001b[0mdf\u001b[0m\u001b[0;34m\u001b[0m\u001b[0;34m\u001b[0m\u001b[0m\n",
      "\u001b[0;31mNameError\u001b[0m: name 'df' is not defined"
     ]
    }
   ],
   "source": [
    "df['var'] = df._____\n",
    "df\n",
    "\n",
    "# Nope - didn't get this one"
   ]
  },
  {
   "cell_type": "markdown",
   "metadata": {},
   "source": [
    "Consider the Pandas DataFrame df below.\n",
    "\n",
    "          Month  Count\n",
    "    zero    Jan     52\n",
    "    one     Apr     29\n",
    "    two     Mar     46\n",
    "    three   Feb      3\n",
    "\n",
    "Complete the code to return the output\n",
    "\n",
    "Expected Output\n",
    "\n",
    "          Month  Count\n",
    "    two     Mar     46\n",
    "    three   Feb      3"
   ]
  },
  {
   "cell_type": "code",
   "execution_count": null,
   "metadata": {},
   "outputs": [],
   "source": [
    "df.loc"
   ]
  },
  {
   "cell_type": "markdown",
   "metadata": {},
   "source": [
    "Consider the Pandas DataFrame df below.\n",
    "\n",
    "         gh owner language      repo  stars\n",
    "    0  pandas-dev   python    pandas  17800\n",
    "    1   tidyverse        R     dplyr   2800\n",
    "    2   tidyverse        R   ggplot2   3500\n",
    "    3      has2k1   python  plotnine   1450\n",
    "\n",
    "Complete the code to return the output\n",
    "\n",
    "Expected Output\n",
    "\n",
    "        gh owner language     repo  stars\n",
    "    1  tidyverse        R    dplyr   2800\n",
    "    2  tidyverse        R  ggplot2   3500"
   ]
  },
  {
   "cell_type": "code",
   "execution_count": null,
   "metadata": {},
   "outputs": [],
   "source": [
    "df[df[\"gh owner\"] == \"tidyverse\"]"
   ]
  },
  {
   "cell_type": "markdown",
   "metadata": {},
   "source": [
    "I decided to stop copying the code over to this notebook as the questions all had to do with dataframes like the above - I didn't have time to recreate them.\n",
    "\n",
    "##### Results\n",
    "\n",
    "You received a score of 128. You performed better than 82% of your peers.\n",
    "\n",
    "###### Knowledge Summary\n",
    "\n",
    "Your strengths and skill gaps are based on how you performed within each skill covered in the assessment.\n",
    "\n",
    "* Strengths\n",
    "  * Joins\n",
    "  * Dates & Strings\n",
    "* Skill Gaps\n",
    "  * Transform\n",
    "  * Clean"
   ]
  },
  {
   "cell_type": "markdown",
   "metadata": {},
   "source": [
    "---\n",
    "\n",
    "### Machine learning\n",
    "\n",
    "* Scikit-learn\n",
    "* TensorFlow / PyTorch"
   ]
  },
  {
   "cell_type": "markdown",
   "metadata": {},
   "source": [
    "#### PyTorch\n",
    "\n",
    "I'm using the `fastai.collab` model (using the default, which is an algorithm called `EmbeddingDotBias`) to train a collaborative filtering model using GoodReads data.\n",
    "\n",
    "Over the last few sessions, I've been researching methods of generating predictions (recommendations). Today, I successfully made some after utilizing the `doc()` method and reading about the `learner.predict()` method. This method can be used to generate predictions.\n",
    "\n",
    "* [Learner.predict](https://docs.fast.ai/basic_train.html#Learner.predict)\n",
    "* [Inference Learner tutorial - Tabular predict](https://docs.fast.ai/tutorial.inference.html#Tabular)\n",
    "\n",
    "In this case, the model predicts the rating that the user in question would give the book in question. I tried out a few and some were more accurate than others."
   ]
  },
  {
   "cell_type": "code",
   "execution_count": null,
   "metadata": {},
   "outputs": [],
   "source": [
    "# === Import the model from file === #\n",
    "learner = load_learner(\n",
    "    path=os.path.join(PROJECT_DIR, \"assets/models\"),\n",
    "    file=\"01_likewise.pkl\",\n",
    ")\n",
    "\n",
    "\n",
    "# === Generate prediction for one book === #\n",
    "learner.predict(interactions.iloc[2])\n",
    "# Output: (FloatItem 3.978665, tensor(3.9787), tensor(3.9787))\n",
    "# In this example, the predicted rating is 3.9787\n",
    "# This user did not give this book a rating yet, so can't compare\n",
    "\n",
    "\n",
    "# === Try one that has been rated, to see the difference === #\n",
    "print(interactions.iloc[4])\n",
    "learner.predict(interactions.iloc[4])\n",
    "# Here's the input interaction and rating:\n",
    "# user_id    8842281e1d1347389f2ab93d60773d4d\n",
    "# book_id                            28684704\n",
    "# is_read                                True\n",
    "# rating                                    3\n",
    "# Name: 4, dtype: object\n",
    "\n",
    "# And here's the output:\n",
    "# (FloatItem 4.406884, tensor(4.4069), tensor(4.4069))\n",
    "# This one was not so accurate\n",
    "\n",
    "\n",
    "# === Try another that has been rated === #\n",
    "print(interactions.iloc[855])\n",
    "learner.predict(interactions.iloc[855])\n",
    "# Input:\n",
    "# user_id    4b3636a043e5c99fa27ac897ccfa1151\n",
    "# book_id                               66528\n",
    "# is_read                                True\n",
    "# rating                                    4\n",
    "# Name: 855, dtype: object\n",
    "\n",
    "# Output:\n",
    "# (FloatItem 3.9686158, tensor(3.9686), tensor(3.9686))\n",
    "# This one is very close! 3.9686 when the actual is 4."
   ]
  },
  {
   "cell_type": "markdown",
   "metadata": {},
   "source": [
    "Now, the question becomes: how to generate predictions on new data?\n",
    "\n",
    "The reason I want to answer that question is because I'd like to deploy this model to a little dashboard where someone can select a few books and get some recommendations back based on their selection. To do this, I'd have to be able to input a list of books and somehow add that to the model.\n",
    "\n",
    "Not sure exactly how that's going to work. But I'll figure it out."
   ]
  },
  {
   "cell_type": "markdown",
   "metadata": {},
   "source": [
    "---\n",
    "\n",
    "### Interview questions\n",
    "\n",
    "> Answer common interview questions **_out loud_**.\n",
    "\n",
    "* Technical: DS, ML, SE\n",
    "* Behavioral"
   ]
  },
  {
   "cell_type": "markdown",
   "metadata": {},
   "source": [
    "#### Technical\n",
    "\n",
    "LeetCode has some [Mock Interview](https://leetcode.com/interview/) practice problems.\n",
    "\n",
    "I talked my way through the above problem, Merge Two Linked Lists, as I was solving it."
   ]
  },
  {
   "cell_type": "markdown",
   "metadata": {},
   "source": [
    "---\n",
    "---\n",
    "\n",
    "## Meta-data: reading & writing\n",
    "\n",
    "* Blog post\n",
    "* Social media discussion"
   ]
  },
  {
   "cell_type": "markdown",
   "metadata": {},
   "source": [
    "I did write plenty today, but none of it for my blog."
   ]
  },
  {
   "cell_type": "markdown",
   "metadata": {},
   "source": [
    "---\n",
    "---\n",
    "\n",
    "## 2-Hour Job Search\n",
    "\n",
    "* LAMP List\n",
    "* Online networking"
   ]
  },
  {
   "cell_type": "markdown",
   "metadata": {},
   "source": [
    "### Networking\n",
    "\n",
    "Wrote a couple of LinkedIn recommendations for friends/colleagues. Also spent a good while writing a couple of replies to a potential job lead - probably nothing will come of it, but it was a good discussion."
   ]
  },
  {
   "cell_type": "markdown",
   "metadata": {},
   "source": []
  },
  {
   "cell_type": "markdown",
   "metadata": {},
   "source": []
  },
  {
   "cell_type": "markdown",
   "metadata": {},
   "source": []
  },
  {
   "cell_type": "markdown",
   "metadata": {},
   "source": []
  },
  {
   "cell_type": "markdown",
   "metadata": {},
   "source": []
  },
  {
   "cell_type": "markdown",
   "metadata": {},
   "source": []
  }
 ],
 "metadata": {
  "kernelspec": {
   "display_name": "Python 3.7.6 64-bit ('vela': pipenv)",
   "language": "python",
   "name": "python37664bitvelapipenvde09592071074af6a70ce3b1ce38af95"
  },
  "language_info": {
   "codemirror_mode": {
    "name": "ipython",
    "version": 3
   },
   "file_extension": ".py",
   "mimetype": "text/x-python",
   "name": "python",
   "nbconvert_exporter": "python",
   "pygments_lexer": "ipython3",
   "version": "3.7.6"
  }
 },
 "nbformat": 4,
 "nbformat_minor": 4
}
