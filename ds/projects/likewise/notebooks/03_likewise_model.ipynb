{
  "nbformat": 4,
  "nbformat_minor": 0,
  "metadata": {
    "kernelspec": {
      "name": "python3",
      "display_name": "Python 3"
    },
    "colab": {
      "name": "03_likewise_model.ipynb",
      "provenance": [],
      "collapsed_sections": []
    }
  },
  "cells": [
    {
      "cell_type": "markdown",
      "metadata": {
        "id": "I247szK0X_CE",
        "colab_type": "text"
      },
      "source": [
        "# LikeWise\n",
        "\n",
        "### A book recommender system\n",
        "\n",
        "### By _Tobias Reaper_"
      ]
    },
    {
      "cell_type": "markdown",
      "metadata": {
        "id": "ijOK-tEUX_CR",
        "colab_type": "text"
      },
      "source": [
        "---\n",
        "---\n",
        "\n",
        "## Outline\n",
        "\n",
        "* [Introduction]()\n",
        "* [_Imports and Configuration_]()\n",
        "* [Data]()\n",
        "* [Modeling]()\n",
        "    * [Training]()\n",
        "    * [Generating Recommendations]()"
      ]
    },
    {
      "cell_type": "markdown",
      "metadata": {
        "id": "by6gDq5PX_CV",
        "colab_type": "text"
      },
      "source": [
        "---\n",
        "---\n",
        "\n",
        "## Introduction\n",
        "\n",
        "### Stop! Collaborate and Filter\n",
        "\n",
        "[Collaborative Filtering](https://d2l.ai/chapter_recommender-systems/recsys-intro.html#collaborative-filtering) (CF)\n",
        "\n",
        "> In general, CF only uses the user-item interaction data to make predictions and recommendations."
      ]
    },
    {
      "cell_type": "markdown",
      "metadata": {
        "id": "GIYTUXCXX_Cu",
        "colab_type": "text"
      },
      "source": [
        "---\n",
        "---\n",
        "\n",
        "## Imports and Configuration"
      ]
    },
    {
      "cell_type": "code",
      "metadata": {
        "id": "nCk6ea9KX_C0",
        "colab_type": "code",
        "colab": {}
      },
      "source": [
        "# === General imports === #\n",
        "import pandas as pd\n",
        "import numpy as np\n",
        "import matplotlib.pyplot as plt\n",
        "\n",
        "import os"
      ],
      "execution_count": 1,
      "outputs": []
    },
    {
      "cell_type": "code",
      "metadata": {
        "id": "t-D9UU9CVqCe",
        "colab_type": "code",
        "colab": {}
      },
      "source": [
        "# === fastai imports === #\n",
        "from fastai.collab import *"
      ],
      "execution_count": 2,
      "outputs": []
    },
    {
      "cell_type": "code",
      "metadata": {
        "id": "1sYbdN9oX_ET",
        "colab_type": "code",
        "colab": {}
      },
      "source": [
        "# === Configuration === #\n",
        "%matplotlib inline\n",
        "pd.options.display.max_columns = 100\n",
        "pd.options.display.max_rows = 200"
      ],
      "execution_count": 3,
      "outputs": []
    },
    {
      "cell_type": "code",
      "metadata": {
        "id": "BSwNGxeHWpn2",
        "colab_type": "code",
        "colab": {
          "base_uri": "https://localhost:8080/",
          "height": 130
        },
        "outputId": "6f4bedcc-87be-4dac-dafe-d45add89ecf1"
      },
      "source": [
        "from google.colab import drive\n",
        "drive.mount('/content/drive')"
      ],
      "execution_count": 4,
      "outputs": [
        {
          "output_type": "stream",
          "text": [
            "Go to this URL in a browser: https://accounts.google.com/o/oauth2/auth?client_id=947318989803-6bn6qk8qdgf4n4g3pfee6491hc0brc4i.apps.googleusercontent.com&redirect_uri=urn%3aietf%3awg%3aoauth%3a2.0%3aoob&response_type=code&scope=email%20https%3a%2f%2fwww.googleapis.com%2fauth%2fdocs.test%20https%3a%2f%2fwww.googleapis.com%2fauth%2fdrive%20https%3a%2f%2fwww.googleapis.com%2fauth%2fdrive.photos.readonly%20https%3a%2f%2fwww.googleapis.com%2fauth%2fpeopleapi.readonly\n",
            "\n",
            "Enter your authorization code:\n",
            "··········\n",
            "Mounted at /content/drive\n"
          ],
          "name": "stdout"
        }
      ]
    },
    {
      "cell_type": "code",
      "metadata": {
        "id": "ovTuurIETSD3",
        "colab_type": "code",
        "colab": {}
      },
      "source": [
        "# === Set up path to project dir === #\n",
        "PROJECT_DIR = \"/content/drive/My Drive/workshop/buildbox/likewise\""
      ],
      "execution_count": 5,
      "outputs": []
    },
    {
      "cell_type": "markdown",
      "metadata": {
        "id": "aC3_huAZX_FD",
        "colab_type": "text"
      },
      "source": [
        "---\n",
        "---\n",
        "\n",
        "## Data\n",
        "\n",
        "> Intro to and explanation of dataset — why this dataset?\n",
        "\n",
        "The dataset used for the LikeWise recommender system is called the [UCSD Book Graph - GoodReads Datasets](https://sites.google.com/eng.ucsd.edu/ucsdbookgraph/home). For this particular model, I'll be using the \"Shelves\" dataset, which has interactions between users and books (ratings).\n",
        "\n",
        "The relevant columns are `user_id`, `book_id`, and `rating`. They are pretty self-explanatory, but just to be explicit, each record indicates a user rating a book that they've (presumably) read and have an opinion on.\n",
        "\n",
        "Speaking of explicit, the fact that the user _explicitly_ rates the books makes this dataset one of explicit preferences."
      ]
    },
    {
      "cell_type": "code",
      "metadata": {
        "id": "qTS3HWinWmNO",
        "colab_type": "code",
        "colab": {
          "base_uri": "https://localhost:8080/",
          "height": 224
        },
        "outputId": "d3217040-1cfa-4562-a82f-dbd223f1e5af"
      },
      "source": [
        "# === Load data from Drive === #\n",
        "data_file = \"interactions_mystery_thriller_crime_1m_sample.csv\"\n",
        "data_path = os.path.join(PROJECT_DIR, \"assets/data\", data_file)\n",
        "interactions = pd.read_csv(data_path)\n",
        "print(interactions.shape)\n",
        "interactions.head()"
      ],
      "execution_count": 6,
      "outputs": [
        {
          "output_type": "stream",
          "text": [
            "(1000000, 4)\n"
          ],
          "name": "stdout"
        },
        {
          "output_type": "execute_result",
          "data": {
            "text/html": [
              "<div>\n",
              "<style scoped>\n",
              "    .dataframe tbody tr th:only-of-type {\n",
              "        vertical-align: middle;\n",
              "    }\n",
              "\n",
              "    .dataframe tbody tr th {\n",
              "        vertical-align: top;\n",
              "    }\n",
              "\n",
              "    .dataframe thead th {\n",
              "        text-align: right;\n",
              "    }\n",
              "</style>\n",
              "<table border=\"1\" class=\"dataframe\">\n",
              "  <thead>\n",
              "    <tr style=\"text-align: right;\">\n",
              "      <th></th>\n",
              "      <th>user_id</th>\n",
              "      <th>book_id</th>\n",
              "      <th>is_read</th>\n",
              "      <th>rating</th>\n",
              "    </tr>\n",
              "  </thead>\n",
              "  <tbody>\n",
              "    <tr>\n",
              "      <th>0</th>\n",
              "      <td>8842281e1d1347389f2ab93d60773d4d</td>\n",
              "      <td>6392944</td>\n",
              "      <td>True</td>\n",
              "      <td>3</td>\n",
              "    </tr>\n",
              "    <tr>\n",
              "      <th>1</th>\n",
              "      <td>8842281e1d1347389f2ab93d60773d4d</td>\n",
              "      <td>2279538</td>\n",
              "      <td>False</td>\n",
              "      <td>0</td>\n",
              "    </tr>\n",
              "    <tr>\n",
              "      <th>2</th>\n",
              "      <td>8842281e1d1347389f2ab93d60773d4d</td>\n",
              "      <td>20821043</td>\n",
              "      <td>False</td>\n",
              "      <td>0</td>\n",
              "    </tr>\n",
              "    <tr>\n",
              "      <th>3</th>\n",
              "      <td>8842281e1d1347389f2ab93d60773d4d</td>\n",
              "      <td>31184479</td>\n",
              "      <td>False</td>\n",
              "      <td>0</td>\n",
              "    </tr>\n",
              "    <tr>\n",
              "      <th>4</th>\n",
              "      <td>8842281e1d1347389f2ab93d60773d4d</td>\n",
              "      <td>28684704</td>\n",
              "      <td>True</td>\n",
              "      <td>3</td>\n",
              "    </tr>\n",
              "  </tbody>\n",
              "</table>\n",
              "</div>"
            ],
            "text/plain": [
              "                            user_id   book_id  is_read  rating\n",
              "0  8842281e1d1347389f2ab93d60773d4d   6392944     True       3\n",
              "1  8842281e1d1347389f2ab93d60773d4d   2279538    False       0\n",
              "2  8842281e1d1347389f2ab93d60773d4d  20821043    False       0\n",
              "3  8842281e1d1347389f2ab93d60773d4d  31184479    False       0\n",
              "4  8842281e1d1347389f2ab93d60773d4d  28684704     True       3"
            ]
          },
          "metadata": {
            "tags": []
          },
          "execution_count": 6
        }
      ]
    },
    {
      "cell_type": "code",
      "metadata": {
        "id": "Zpz5G571GJ1t",
        "colab_type": "code",
        "colab": {}
      },
      "source": [
        "# === Convert `book_id` to string === #\n",
        "interactions[\"book_id\"] = interactions[\"book_id\"].astype(\"str\")"
      ],
      "execution_count": 7,
      "outputs": []
    },
    {
      "cell_type": "code",
      "metadata": {
        "id": "AqoSHrYRog4o",
        "colab_type": "code",
        "colab": {
          "base_uri": "https://localhost:8080/",
          "height": 110
        },
        "outputId": "be36ef12-6d60-4215-d7fc-2a4fe8bc8bd3"
      },
      "source": [
        "# === Data types === #\n",
        "interactions.dtypes"
      ],
      "execution_count": 8,
      "outputs": [
        {
          "output_type": "execute_result",
          "data": {
            "text/plain": [
              "user_id    object\n",
              "book_id    object\n",
              "is_read      bool\n",
              "rating      int64\n",
              "dtype: object"
            ]
          },
          "metadata": {
            "tags": []
          },
          "execution_count": 8
        }
      ]
    },
    {
      "cell_type": "code",
      "metadata": {
        "id": "mXMhSf89I6tw",
        "colab_type": "code",
        "colab": {
          "base_uri": "https://localhost:8080/",
          "height": 206
        },
        "outputId": "e7ef3816-e8a3-4cae-b501-92455643ddea"
      },
      "source": [
        "# === Convert unread \"ratings\" to nulls === #\n",
        "interactions[\"rating\"] = np.where(interactions[\"is_read\"] == False, np.NaN, interactions[\"rating\"])\n",
        "interactions.head()"
      ],
      "execution_count": 9,
      "outputs": [
        {
          "output_type": "execute_result",
          "data": {
            "text/html": [
              "<div>\n",
              "<style scoped>\n",
              "    .dataframe tbody tr th:only-of-type {\n",
              "        vertical-align: middle;\n",
              "    }\n",
              "\n",
              "    .dataframe tbody tr th {\n",
              "        vertical-align: top;\n",
              "    }\n",
              "\n",
              "    .dataframe thead th {\n",
              "        text-align: right;\n",
              "    }\n",
              "</style>\n",
              "<table border=\"1\" class=\"dataframe\">\n",
              "  <thead>\n",
              "    <tr style=\"text-align: right;\">\n",
              "      <th></th>\n",
              "      <th>user_id</th>\n",
              "      <th>book_id</th>\n",
              "      <th>is_read</th>\n",
              "      <th>rating</th>\n",
              "    </tr>\n",
              "  </thead>\n",
              "  <tbody>\n",
              "    <tr>\n",
              "      <th>0</th>\n",
              "      <td>8842281e1d1347389f2ab93d60773d4d</td>\n",
              "      <td>6392944</td>\n",
              "      <td>True</td>\n",
              "      <td>3.0</td>\n",
              "    </tr>\n",
              "    <tr>\n",
              "      <th>1</th>\n",
              "      <td>8842281e1d1347389f2ab93d60773d4d</td>\n",
              "      <td>2279538</td>\n",
              "      <td>False</td>\n",
              "      <td>NaN</td>\n",
              "    </tr>\n",
              "    <tr>\n",
              "      <th>2</th>\n",
              "      <td>8842281e1d1347389f2ab93d60773d4d</td>\n",
              "      <td>20821043</td>\n",
              "      <td>False</td>\n",
              "      <td>NaN</td>\n",
              "    </tr>\n",
              "    <tr>\n",
              "      <th>3</th>\n",
              "      <td>8842281e1d1347389f2ab93d60773d4d</td>\n",
              "      <td>31184479</td>\n",
              "      <td>False</td>\n",
              "      <td>NaN</td>\n",
              "    </tr>\n",
              "    <tr>\n",
              "      <th>4</th>\n",
              "      <td>8842281e1d1347389f2ab93d60773d4d</td>\n",
              "      <td>28684704</td>\n",
              "      <td>True</td>\n",
              "      <td>3.0</td>\n",
              "    </tr>\n",
              "  </tbody>\n",
              "</table>\n",
              "</div>"
            ],
            "text/plain": [
              "                            user_id   book_id  is_read  rating\n",
              "0  8842281e1d1347389f2ab93d60773d4d   6392944     True     3.0\n",
              "1  8842281e1d1347389f2ab93d60773d4d   2279538    False     NaN\n",
              "2  8842281e1d1347389f2ab93d60773d4d  20821043    False     NaN\n",
              "3  8842281e1d1347389f2ab93d60773d4d  31184479    False     NaN\n",
              "4  8842281e1d1347389f2ab93d60773d4d  28684704     True     3.0"
            ]
          },
          "metadata": {
            "tags": []
          },
          "execution_count": 9
        }
      ]
    },
    {
      "cell_type": "code",
      "metadata": {
        "id": "u4aeB1DiJ1kC",
        "colab_type": "code",
        "colab": {
          "base_uri": "https://localhost:8080/",
          "height": 110
        },
        "outputId": "b8d8c1ce-b491-457b-cd93-4d78d7194cfb"
      },
      "source": [
        "interactions.isnull().sum()"
      ],
      "execution_count": 10,
      "outputs": [
        {
          "output_type": "execute_result",
          "data": {
            "text/plain": [
              "user_id         0\n",
              "book_id         0\n",
              "is_read         0\n",
              "rating     477996\n",
              "dtype: int64"
            ]
          },
          "metadata": {
            "tags": []
          },
          "execution_count": 10
        }
      ]
    },
    {
      "cell_type": "code",
      "metadata": {
        "id": "PC_TjcscKLEO",
        "colab_type": "code",
        "colab": {
          "base_uri": "https://localhost:8080/",
          "height": 54
        },
        "outputId": "11429485-696e-4bc1-8e53-5ccbc1b5b9fb"
      },
      "source": [
        "# === Get dfs of read/unread books === #\n",
        "unread = interactions[interactions[\"is_read\"] == False].copy()\n",
        "print(f\"Number of unread books: {unread.shape[0]}\")\n",
        "\n",
        "read = interactions[interactions[\"is_read\"] == True].copy()\n",
        "print(f\"Number of read books: {read.shape[0]}\")"
      ],
      "execution_count": 22,
      "outputs": [
        {
          "output_type": "stream",
          "text": [
            "Number of unread books: 477996\n",
            "Number of read books: 522004\n"
          ],
          "name": "stdout"
        }
      ]
    },
    {
      "cell_type": "markdown",
      "metadata": {
        "id": "bwx3pzPKZhkl",
        "colab_type": "text"
      },
      "source": [
        "---\n",
        "---\n",
        "\n",
        "## Modeling\n",
        "\n",
        "For this model, I'll be using the FastAI collaborative filtering algorithm(s).\n",
        "\n",
        "Resources:\n",
        "\n",
        "* [fastai.collab](https://docs.fast.ai/collab.html)\n",
        "* [movielens recommender example](https://github.com/microsoft/recommenders/blob/master/notebooks/00_quick_start/fastai_movielens.ipynb)"
      ]
    },
    {
      "cell_type": "markdown",
      "metadata": {
        "id": "y6ks0ZgFhc6X",
        "colab_type": "text"
      },
      "source": [
        "### Training"
      ]
    },
    {
      "cell_type": "code",
      "metadata": {
        "id": "Uc-CYJyXX_FM",
        "colab_type": "code",
        "colab": {
          "base_uri": "https://localhost:8080/",
          "height": 128
        },
        "outputId": "438afd67-99da-4c9d-920e-c247fc818f71"
      },
      "source": [
        "# === First, train on rated books only === #\n",
        "rating_range = [0, 5]\n",
        "\n",
        "# Create databunch\n",
        "data = CollabDataBunch.from_df(\n",
        "    read,\n",
        "    user_name=\"user_id\",\n",
        "    item_name=\"book_id\",\n",
        "    rating_name=\"rating\",\n",
        "    valid_pct=0.2,\n",
        "    seed=92\n",
        ")\n",
        "\n",
        "# === Instantiate learner === #\n",
        "learn = collab_learner(data, n_factors=50, y_range=rating_range)\n",
        "learn.model"
      ],
      "execution_count": null,
      "outputs": [
        {
          "output_type": "execute_result",
          "data": {
            "text/plain": [
              "EmbeddingDotBias(\n",
              "  (u_weight): Embedding(16072, 50)\n",
              "  (i_weight): Embedding(69696, 50)\n",
              "  (u_bias): Embedding(16072, 1)\n",
              "  (i_bias): Embedding(69696, 1)\n",
              ")"
            ]
          },
          "metadata": {
            "tags": []
          },
          "execution_count": 13
        }
      ]
    },
    {
      "cell_type": "code",
      "metadata": {
        "id": "AME9RP91V_uQ",
        "colab_type": "code",
        "colab": {
          "base_uri": "https://localhost:8080/",
          "height": 206
        },
        "outputId": "2c9e32df-9ec1-4000-8c4d-0bb15a13a364"
      },
      "source": [
        "data.show_batch()"
      ],
      "execution_count": null,
      "outputs": [
        {
          "output_type": "display_data",
          "data": {
            "text/html": [
              "<table border=\"1\" class=\"dataframe\">\n",
              "  <thead>\n",
              "    <tr style=\"text-align: right;\">\n",
              "      <th>user_id</th>\n",
              "      <th>book_id</th>\n",
              "      <th>target</th>\n",
              "    </tr>\n",
              "  </thead>\n",
              "  <tbody>\n",
              "    <tr>\n",
              "      <td>675e6a96b8104daeaccfeff77424f8a1</td>\n",
              "      <td>10614</td>\n",
              "      <td>2.0</td>\n",
              "    </tr>\n",
              "    <tr>\n",
              "      <td>026b67d613257e8e86d4380132d1050f</td>\n",
              "      <td>24649825</td>\n",
              "      <td>4.0</td>\n",
              "    </tr>\n",
              "    <tr>\n",
              "      <td>ef67b5b7e15169b4312d1de306b94845</td>\n",
              "      <td>16366</td>\n",
              "      <td>5.0</td>\n",
              "    </tr>\n",
              "    <tr>\n",
              "      <td>773c4869ab6fc4306210f06db3a71821</td>\n",
              "      <td>19288043</td>\n",
              "      <td>4.0</td>\n",
              "    </tr>\n",
              "    <tr>\n",
              "      <td>84333f5def09812528f3bf1ed941f1a6</td>\n",
              "      <td>66508</td>\n",
              "      <td>3.0</td>\n",
              "    </tr>\n",
              "  </tbody>\n",
              "</table>"
            ],
            "text/plain": [
              "<IPython.core.display.HTML object>"
            ]
          },
          "metadata": {
            "tags": []
          }
        }
      ]
    },
    {
      "cell_type": "code",
      "metadata": {
        "id": "oJ0Jpl6cak9T",
        "colab_type": "code",
        "colab": {
          "base_uri": "https://localhost:8080/",
          "height": 143
        },
        "outputId": "84d05e1a-1f17-4c97-e6fd-42d4f20ce7d4"
      },
      "source": [
        "# === Train! === #\n",
        "learn.fit_one_cycle(3, 5e-3)"
      ],
      "execution_count": null,
      "outputs": [
        {
          "output_type": "display_data",
          "data": {
            "text/html": [
              "<table border=\"1\" class=\"dataframe\">\n",
              "  <thead>\n",
              "    <tr style=\"text-align: left;\">\n",
              "      <th>epoch</th>\n",
              "      <th>train_loss</th>\n",
              "      <th>valid_loss</th>\n",
              "      <th>time</th>\n",
              "    </tr>\n",
              "  </thead>\n",
              "  <tbody>\n",
              "    <tr>\n",
              "      <td>0</td>\n",
              "      <td>1.404012</td>\n",
              "      <td>1.409553</td>\n",
              "      <td>08:58</td>\n",
              "    </tr>\n",
              "    <tr>\n",
              "      <td>1</td>\n",
              "      <td>1.078573</td>\n",
              "      <td>1.337938</td>\n",
              "      <td>13:50</td>\n",
              "    </tr>\n",
              "    <tr>\n",
              "      <td>2</td>\n",
              "      <td>0.681099</td>\n",
              "      <td>1.339044</td>\n",
              "      <td>12:51</td>\n",
              "    </tr>\n",
              "  </tbody>\n",
              "</table>"
            ],
            "text/plain": [
              "<IPython.core.display.HTML object>"
            ]
          },
          "metadata": {
            "tags": []
          }
        }
      ]
    },
    {
      "cell_type": "code",
      "metadata": {
        "id": "Sh5WErztatz1",
        "colab_type": "code",
        "colab": {}
      },
      "source": [
        "# === Export trained model === #\n",
        "data_file = \"01_likewise.pkl\"\n",
        "data_path = os.path.join(PROJECT_DIR, \"assets/models\", data_file)\n",
        "learn.export(data_path)"
      ],
      "execution_count": null,
      "outputs": []
    },
    {
      "cell_type": "markdown",
      "metadata": {
        "id": "RRWxc3UuYJb4",
        "colab_type": "text"
      },
      "source": [
        "---\n",
        "\n",
        "### Generate Recommendations"
      ]
    },
    {
      "cell_type": "code",
      "metadata": {
        "id": "X1t43KinX_01",
        "colab_type": "code",
        "colab": {}
      },
      "source": [
        "# === Import the model from file === #\n",
        "learner = load_learner(\n",
        "    path=os.path.join(PROJECT_DIR, \"assets/models\"),\n",
        "    file=\"01_likewise.pkl\",\n",
        ")"
      ],
      "execution_count": 17,
      "outputs": []
    },
    {
      "cell_type": "code",
      "metadata": {
        "id": "7d6vdHyjqnHa",
        "colab_type": "code",
        "colab": {
          "base_uri": "https://localhost:8080/",
          "height": 263
        },
        "outputId": "6d10fd47-9065-4aa7-d174-1b8fdaad4989"
      },
      "source": [
        "doc(learner.predict)"
      ],
      "execution_count": 45,
      "outputs": [
        {
          "output_type": "display_data",
          "data": {
            "text/html": [
              "<h4 id=\"Learner.predict\" class=\"doc_header\"><code>predict</code><a href=\"https://github.com/fastai/fastai/blob/master/fastai/basic_train.py#L370\" class=\"source_link\" style=\"float:right\">[source]</a><a class=\"source_link\" data-toggle=\"collapse\" data-target=\"#Learner-predict-pytest\" style=\"float:right; padding-right:10px\">[test]</a></h4><blockquote><p><code>predict</code>(<strong><code>item</code></strong>:<a href=\"https://docs.fast.ai/core.html#ItemBase\"><code>ItemBase</code></a>, <strong><code>return_x</code></strong>:<code>bool</code>=<strong><em><code>False</code></em></strong>, <strong><code>batch_first</code></strong>:<code>bool</code>=<strong><em><code>True</code></em></strong>, <strong><code>with_dropout</code></strong>:<code>bool</code>=<strong><em><code>False</code></em></strong>, <strong>**<code>kwargs</code></strong>)</p>\n",
              "</blockquote>\n",
              "<div class=\"collapse\" id=\"Learner-predict-pytest\"><div class=\"card card-body pytest_card\"><a type=\"button\" data-toggle=\"collapse\" data-target=\"#Learner-predict-pytest\" class=\"close\" aria-label=\"Close\"><span aria-hidden=\"true\">&times;</span></a><p>Tests found for <code>predict</code>:</p><ul><li><code>pytest -sv tests/test_vision_train.py::test_models_meta</code> <a href=\"https://github.com/fastai/fastai/blob/master/tests/test_vision_train.py#L89\" class=\"source_link\" style=\"float:right\">[source]</a></li><li><code>pytest -sv tests/test_vision_train.py::test_preds</code> <a href=\"https://github.com/fastai/fastai/blob/master/tests/test_vision_train.py#L63\" class=\"source_link\" style=\"float:right\">[source]</a></li></ul><p>To run tests please refer to this <a href=\"/dev/test.html#quick-guide\">guide</a>.</p></div></div><p>Return predicted class, label and probabilities for <code>item</code>.</p>\n",
              "<p><a href=\"https://docs.fast.ai/basic_train.html#Learner.predict\" target=\"_blank\" rel=\"noreferrer noopener\">Show in docs</a></p>\n"
            ],
            "text/plain": [
              "<IPython.core.display.HTML object>"
            ]
          },
          "metadata": {
            "tags": []
          }
        }
      ]
    },
    {
      "cell_type": "code",
      "metadata": {
        "id": "hyS9QhznrFJo",
        "colab_type": "code",
        "colab": {}
      },
      "source": [
        "# === 3 user-shelved books that have not been reviewed === #\n",
        "interactions.iloc[1]\n",
        "interactions.iloc[2]\n",
        "interactions.iloc[3]"
      ],
      "execution_count": null,
      "outputs": []
    },
    {
      "cell_type": "code",
      "metadata": {
        "id": "SxIF_SxzswSK",
        "colab_type": "code",
        "colab": {
          "base_uri": "https://localhost:8080/",
          "height": 36
        },
        "outputId": "fbb445b5-1e58-455d-a7c7-20c97105bc2b"
      },
      "source": [
        "# === Generate prediction for one book === #\n",
        "learner.predict(interactions.iloc[2])"
      ],
      "execution_count": 48,
      "outputs": [
        {
          "output_type": "execute_result",
          "data": {
            "text/plain": [
              "(FloatItem 3.978665, tensor(3.9787), tensor(3.9787))"
            ]
          },
          "metadata": {
            "tags": []
          },
          "execution_count": 48
        }
      ]
    },
    {
      "cell_type": "code",
      "metadata": {
        "id": "pts0Bct4tSZk",
        "colab_type": "code",
        "colab": {
          "base_uri": "https://localhost:8080/",
          "height": 110
        },
        "outputId": "01bdd807-5334-47dc-9018-112a838d049a"
      },
      "source": [
        "interactions.iloc[2]"
      ],
      "execution_count": 49,
      "outputs": [
        {
          "output_type": "execute_result",
          "data": {
            "text/plain": [
              "user_id    8842281e1d1347389f2ab93d60773d4d\n",
              "book_id                            20821043\n",
              "is_read                               False\n",
              "rating                                  NaN\n",
              "Name: 2, dtype: object"
            ]
          },
          "metadata": {
            "tags": []
          },
          "execution_count": 49
        }
      ]
    },
    {
      "cell_type": "markdown",
      "metadata": {
        "id": "lTjjH8vsts2U",
        "colab_type": "text"
      },
      "source": [
        "It worked! The model predicts that this user would rate this book a 3.9787"
      ]
    },
    {
      "cell_type": "code",
      "metadata": {
        "id": "QP08hKf9tcSI",
        "colab_type": "code",
        "colab": {
          "base_uri": "https://localhost:8080/",
          "height": 36
        },
        "outputId": "6a2a89e5-8620-46e1-f9d6-262760036ba7"
      },
      "source": [
        "# === Try another unread book === #\n",
        "learner.predict(interactions.iloc[3])"
      ],
      "execution_count": 50,
      "outputs": [
        {
          "output_type": "execute_result",
          "data": {
            "text/plain": [
              "(FloatItem 3.2284296, tensor(3.2284), tensor(3.2284))"
            ]
          },
          "metadata": {
            "tags": []
          },
          "execution_count": 50
        }
      ]
    },
    {
      "cell_type": "code",
      "metadata": {
        "id": "ORF_JQqUudA8",
        "colab_type": "code",
        "colab": {
          "base_uri": "https://localhost:8080/",
          "height": 128
        },
        "outputId": "4b9d2a0a-d3b3-4975-9831-54fb43481e00"
      },
      "source": [
        "# === And another === #\n",
        "print(unread.iloc[2345])\n",
        "learner.predict(unread.iloc[2345])"
      ],
      "execution_count": 70,
      "outputs": [
        {
          "output_type": "stream",
          "text": [
            "user_id    617ccec66dac2d1029600ed3d706e8ed\n",
            "book_id                            27276292\n",
            "is_read                               False\n",
            "rating                                  NaN\n",
            "Name: 5245, dtype: object\n"
          ],
          "name": "stdout"
        },
        {
          "output_type": "execute_result",
          "data": {
            "text/plain": [
              "(FloatItem 3.5305958, tensor(3.5306), tensor(3.5306))"
            ]
          },
          "metadata": {
            "tags": []
          },
          "execution_count": 70
        }
      ]
    },
    {
      "cell_type": "code",
      "metadata": {
        "id": "ij8JmaBEt7K-",
        "colab_type": "code",
        "colab": {
          "base_uri": "https://localhost:8080/",
          "height": 128
        },
        "outputId": "24b4c532-5e7c-4b00-98af-3b0f565cba6a"
      },
      "source": [
        "# === Try one that has been rated, to see the difference === #\n",
        "print(interactions.iloc[4])\n",
        "learner.predict(interactions.iloc[4])"
      ],
      "execution_count": 54,
      "outputs": [
        {
          "output_type": "stream",
          "text": [
            "user_id    8842281e1d1347389f2ab93d60773d4d\n",
            "book_id                            28684704\n",
            "is_read                                True\n",
            "rating                                    3\n",
            "Name: 4, dtype: object\n"
          ],
          "name": "stdout"
        },
        {
          "output_type": "execute_result",
          "data": {
            "text/plain": [
              "(FloatItem 4.406884, tensor(4.4069), tensor(4.4069))"
            ]
          },
          "metadata": {
            "tags": []
          },
          "execution_count": 54
        }
      ]
    },
    {
      "cell_type": "markdown",
      "metadata": {
        "id": "OLt142ByuP1_",
        "colab_type": "text"
      },
      "source": [
        "That prediction isn't very close. Let's try another."
      ]
    },
    {
      "cell_type": "code",
      "metadata": {
        "id": "HN9qG-BRt67Y",
        "colab_type": "code",
        "colab": {
          "base_uri": "https://localhost:8080/",
          "height": 128
        },
        "outputId": "bca34161-cb74-42bb-ebc2-595f2139ce17"
      },
      "source": [
        "# === Try another that has been rated === #\n",
        "print(interactions.iloc[855])\n",
        "learner.predict(interactions.iloc[855])"
      ],
      "execution_count": 57,
      "outputs": [
        {
          "output_type": "stream",
          "text": [
            "user_id    4b3636a043e5c99fa27ac897ccfa1151\n",
            "book_id                               66528\n",
            "is_read                                True\n",
            "rating                                    4\n",
            "Name: 855, dtype: object\n"
          ],
          "name": "stdout"
        },
        {
          "output_type": "execute_result",
          "data": {
            "text/plain": [
              "(FloatItem 3.9686158, tensor(3.9686), tensor(3.9686))"
            ]
          },
          "metadata": {
            "tags": []
          },
          "execution_count": 57
        }
      ]
    },
    {
      "cell_type": "markdown",
      "metadata": {
        "id": "hwOeGWqcudYI",
        "colab_type": "text"
      },
      "source": [
        "That one is a lot better!"
      ]
    },
    {
      "cell_type": "code",
      "metadata": {
        "id": "5o18nzmKxdQi",
        "colab_type": "code",
        "colab": {
          "base_uri": "https://localhost:8080/",
          "height": 49
        },
        "outputId": "15ad9637-de2f-41b8-ee15-c2febca0f327"
      },
      "source": [
        "# === User that doesn't exist === #\n",
        "interactions[interactions[\"user_id\"] == \"617ccec66dac2d1029600ed3d706e8er\"]"
      ],
      "execution_count": 71,
      "outputs": [
        {
          "output_type": "execute_result",
          "data": {
            "text/html": [
              "<div>\n",
              "<style scoped>\n",
              "    .dataframe tbody tr th:only-of-type {\n",
              "        vertical-align: middle;\n",
              "    }\n",
              "\n",
              "    .dataframe tbody tr th {\n",
              "        vertical-align: top;\n",
              "    }\n",
              "\n",
              "    .dataframe thead th {\n",
              "        text-align: right;\n",
              "    }\n",
              "</style>\n",
              "<table border=\"1\" class=\"dataframe\">\n",
              "  <thead>\n",
              "    <tr style=\"text-align: right;\">\n",
              "      <th></th>\n",
              "      <th>user_id</th>\n",
              "      <th>book_id</th>\n",
              "      <th>is_read</th>\n",
              "      <th>rating</th>\n",
              "    </tr>\n",
              "  </thead>\n",
              "  <tbody>\n",
              "  </tbody>\n",
              "</table>\n",
              "</div>"
            ],
            "text/plain": [
              "Empty DataFrame\n",
              "Columns: [user_id, book_id, is_read, rating]\n",
              "Index: []"
            ]
          },
          "metadata": {
            "tags": []
          },
          "execution_count": 71
        }
      ]
    },
    {
      "cell_type": "code",
      "metadata": {
        "id": "EPI8_4AlxpEv",
        "colab_type": "code",
        "colab": {
          "base_uri": "https://localhost:8080/",
          "height": 91
        },
        "outputId": "bce53f37-0d53-4004-8b22-1d6cc08c236e"
      },
      "source": [
        "# === User doesn't exist, book does === #\n",
        "new_user_book = pd.Series(data=[\"617ccec66dac2d1029600ed3d706e8er\", \"27276292\", np.NaN], index=[\"user_id\", \"book_id\", \"rating\"])\n",
        "new_user_book"
      ],
      "execution_count": 72,
      "outputs": [
        {
          "output_type": "execute_result",
          "data": {
            "text/plain": [
              "user_id    617ccec66dac2d1029600ed3d706e8er\n",
              "book_id                            27276292\n",
              "rating                                  NaN\n",
              "dtype: object"
            ]
          },
          "metadata": {
            "tags": []
          },
          "execution_count": 72
        }
      ]
    },
    {
      "cell_type": "code",
      "metadata": {
        "id": "jHFxnqLLyI6u",
        "colab_type": "code",
        "colab": {
          "base_uri": "https://localhost:8080/",
          "height": 35
        },
        "outputId": "cb7b7233-f631-4a40-cf53-44b14776df61"
      },
      "source": [
        "# === Predict unknown user's rating === #\n",
        "learner.predict(new_user_book)"
      ],
      "execution_count": 73,
      "outputs": [
        {
          "output_type": "execute_result",
          "data": {
            "text/plain": [
              "(FloatItem 2.7347884, tensor(2.7348), tensor(2.7348))"
            ]
          },
          "metadata": {
            "tags": []
          },
          "execution_count": 73
        }
      ]
    },
    {
      "cell_type": "markdown",
      "metadata": {
        "id": "snMpBYCWyoFi",
        "colab_type": "text"
      },
      "source": [
        "As can be seen in the above three cells, I created a new user and predicted what rating they would give a book. The rating it spit out was 2.7348.\n",
        "\n",
        "That seemed a little weird. So I tried it again, with a different `user_id`. It gave the same rating. I'm wondering if that's just the mean rating of that book or something."
      ]
    },
    {
      "cell_type": "code",
      "metadata": {
        "id": "hEPV2i4bYkmT",
        "colab_type": "code",
        "colab": {
          "base_uri": "https://localhost:8080/",
          "height": 36
        },
        "outputId": "b3ff42f0-231f-470a-a4d7-1c75c4cb46a4"
      },
      "source": [
        "# === Get all users and items that the model knows === #\n",
        "total_users, total_items = learner.data.train_ds.x.classes.values()\n",
        "total_users = total_users[1:]\n",
        "total_items = total_items[1:]\n",
        "\n",
        "print(total_users.shape, total_items.shape)"
      ],
      "execution_count": 25,
      "outputs": [
        {
          "output_type": "stream",
          "text": [
            "(16071,) (69695,)\n"
          ],
          "name": "stdout"
        }
      ]
    },
    {
      "cell_type": "code",
      "metadata": {
        "id": "MBarJm6ozKSV",
        "colab_type": "code",
        "colab": {}
      },
      "source": [
        ""
      ],
      "execution_count": null,
      "outputs": []
    },
    {
      "cell_type": "markdown",
      "metadata": {
        "id": "7d_kn04CzK-h",
        "colab_type": "text"
      },
      "source": [
        "---\n",
        "\n",
        "### More recommendations"
      ]
    },
    {
      "cell_type": "code",
      "metadata": {
        "id": "XGuAukLmoenA",
        "colab_type": "code",
        "colab": {}
      },
      "source": [
        "# === Replace values not known to the model with NaN === #\n",
        "unread.loc[~unread[\"user_id\"].isin(total_users), \"user_id\"] = np.NaN\n",
        "unread.loc[~unread[\"book_id\"].isin(total_items), \"book_id\"] = np.NaN"
      ],
      "execution_count": 19,
      "outputs": []
    },
    {
      "cell_type": "code",
      "metadata": {
        "id": "C_0gx2UBpPid",
        "colab_type": "code",
        "colab": {}
      },
      "source": [
        "# === Extract only the users and items in the training data === #\n",
        "unread[\"user_id\"] = unread.loc[unread[\"user_id\"].isin(total_users), \"user_id\"]\n",
        "unread[\"book_id\"] = unread.loc[unread[\"book_id\"].isin(total_items), \"book_id\"]"
      ],
      "execution_count": 35,
      "outputs": []
    },
    {
      "cell_type": "code",
      "metadata": {
        "id": "LEoKFXxDpvfU",
        "colab_type": "code",
        "colab": {
          "base_uri": "https://localhost:8080/",
          "height": 224
        },
        "outputId": "a3cec012-cbdc-49e2-9d67-b39487abf1c6"
      },
      "source": [
        "print(unread.shape)\n",
        "unread.head()"
      ],
      "execution_count": 36,
      "outputs": [
        {
          "output_type": "stream",
          "text": [
            "(477996, 4)\n"
          ],
          "name": "stdout"
        },
        {
          "output_type": "execute_result",
          "data": {
            "text/html": [
              "<div>\n",
              "<style scoped>\n",
              "    .dataframe tbody tr th:only-of-type {\n",
              "        vertical-align: middle;\n",
              "    }\n",
              "\n",
              "    .dataframe tbody tr th {\n",
              "        vertical-align: top;\n",
              "    }\n",
              "\n",
              "    .dataframe thead th {\n",
              "        text-align: right;\n",
              "    }\n",
              "</style>\n",
              "<table border=\"1\" class=\"dataframe\">\n",
              "  <thead>\n",
              "    <tr style=\"text-align: right;\">\n",
              "      <th></th>\n",
              "      <th>user_id</th>\n",
              "      <th>book_id</th>\n",
              "      <th>is_read</th>\n",
              "      <th>rating</th>\n",
              "    </tr>\n",
              "  </thead>\n",
              "  <tbody>\n",
              "    <tr>\n",
              "      <th>1</th>\n",
              "      <td>8842281e1d1347389f2ab93d60773d4d</td>\n",
              "      <td>2279538</td>\n",
              "      <td>False</td>\n",
              "      <td>NaN</td>\n",
              "    </tr>\n",
              "    <tr>\n",
              "      <th>2</th>\n",
              "      <td>8842281e1d1347389f2ab93d60773d4d</td>\n",
              "      <td>20821043</td>\n",
              "      <td>False</td>\n",
              "      <td>NaN</td>\n",
              "    </tr>\n",
              "    <tr>\n",
              "      <th>3</th>\n",
              "      <td>8842281e1d1347389f2ab93d60773d4d</td>\n",
              "      <td>31184479</td>\n",
              "      <td>False</td>\n",
              "      <td>NaN</td>\n",
              "    </tr>\n",
              "    <tr>\n",
              "      <th>5</th>\n",
              "      <td>8842281e1d1347389f2ab93d60773d4d</td>\n",
              "      <td>32283133</td>\n",
              "      <td>False</td>\n",
              "      <td>NaN</td>\n",
              "    </tr>\n",
              "    <tr>\n",
              "      <th>6</th>\n",
              "      <td>8842281e1d1347389f2ab93d60773d4d</td>\n",
              "      <td>17288661</td>\n",
              "      <td>False</td>\n",
              "      <td>NaN</td>\n",
              "    </tr>\n",
              "  </tbody>\n",
              "</table>\n",
              "</div>"
            ],
            "text/plain": [
              "                            user_id   book_id  is_read  rating\n",
              "1  8842281e1d1347389f2ab93d60773d4d   2279538    False     NaN\n",
              "2  8842281e1d1347389f2ab93d60773d4d  20821043    False     NaN\n",
              "3  8842281e1d1347389f2ab93d60773d4d  31184479    False     NaN\n",
              "5  8842281e1d1347389f2ab93d60773d4d  32283133    False     NaN\n",
              "6  8842281e1d1347389f2ab93d60773d4d  17288661    False     NaN"
            ]
          },
          "metadata": {
            "tags": []
          },
          "execution_count": 36
        }
      ]
    },
    {
      "cell_type": "code",
      "metadata": {
        "id": "vQKSFis3gsc6",
        "colab_type": "code",
        "colab": {
          "base_uri": "https://localhost:8080/",
          "height": 91
        },
        "outputId": "f6392357-fb20-4586-bbd9-c730cccf3651"
      },
      "source": [
        "# === Map ids to embedding ids === #\n",
        "u = learner.get_idx(unread[\"user_id\"], is_item=False)\n",
        "m = learner.get_idx(unread[\"book_id\"], is_item=True)"
      ],
      "execution_count": 37,
      "outputs": [
        {
          "output_type": "stream",
          "text": [
            "You're trying to access a user that isn't in the training data.\n",
            "                  If it was in your original data, it may have been split such that it's only in the validation set now.\n",
            "You're trying to access an item that isn't in the training data.\n",
            "                  If it was in your original data, it may have been split such that it's only in the validation set now.\n"
          ],
          "name": "stdout"
        }
      ]
    },
    {
      "cell_type": "code",
      "metadata": {
        "id": "59dJ3PS0hYAH",
        "colab_type": "code",
        "colab": {
          "base_uri": "https://localhost:8080/",
          "height": 346
        },
        "outputId": "993e7483-798e-4fc9-fc85-54c52b59367b"
      },
      "source": [
        "# === Create predictions === #\n",
        "pred = learner.model.forward(u, m)"
      ],
      "execution_count": 38,
      "outputs": [
        {
          "output_type": "error",
          "ename": "TypeError",
          "evalue": "ignored",
          "traceback": [
            "\u001b[0;31m---------------------------------------------------------------------------\u001b[0m",
            "\u001b[0;31mTypeError\u001b[0m                                 Traceback (most recent call last)",
            "\u001b[0;32m<ipython-input-38-eb06f6a8dafa>\u001b[0m in \u001b[0;36m<module>\u001b[0;34m()\u001b[0m\n\u001b[1;32m      1\u001b[0m \u001b[0;31m# === Create predictions === #\u001b[0m\u001b[0;34m\u001b[0m\u001b[0;34m\u001b[0m\u001b[0;34m\u001b[0m\u001b[0m\n\u001b[0;32m----> 2\u001b[0;31m \u001b[0mpred\u001b[0m \u001b[0;34m=\u001b[0m \u001b[0mlearner\u001b[0m\u001b[0;34m.\u001b[0m\u001b[0mmodel\u001b[0m\u001b[0;34m.\u001b[0m\u001b[0mforward\u001b[0m\u001b[0;34m(\u001b[0m\u001b[0mu\u001b[0m\u001b[0;34m,\u001b[0m \u001b[0mm\u001b[0m\u001b[0;34m)\u001b[0m\u001b[0;34m\u001b[0m\u001b[0;34m\u001b[0m\u001b[0m\n\u001b[0m",
            "\u001b[0;32m/usr/local/lib/python3.6/dist-packages/fastai/collab.py\u001b[0m in \u001b[0;36mforward\u001b[0;34m(self, users, items)\u001b[0m\n\u001b[1;32m     43\u001b[0m \u001b[0;34m\u001b[0m\u001b[0m\n\u001b[1;32m     44\u001b[0m     \u001b[0;32mdef\u001b[0m \u001b[0mforward\u001b[0m\u001b[0;34m(\u001b[0m\u001b[0mself\u001b[0m\u001b[0;34m,\u001b[0m \u001b[0musers\u001b[0m\u001b[0;34m:\u001b[0m\u001b[0mLongTensor\u001b[0m\u001b[0;34m,\u001b[0m \u001b[0mitems\u001b[0m\u001b[0;34m:\u001b[0m\u001b[0mLongTensor\u001b[0m\u001b[0;34m)\u001b[0m \u001b[0;34m->\u001b[0m \u001b[0mTensor\u001b[0m\u001b[0;34m:\u001b[0m\u001b[0;34m\u001b[0m\u001b[0;34m\u001b[0m\u001b[0m\n\u001b[0;32m---> 45\u001b[0;31m         \u001b[0mdot\u001b[0m \u001b[0;34m=\u001b[0m \u001b[0mself\u001b[0m\u001b[0;34m.\u001b[0m\u001b[0mu_weight\u001b[0m\u001b[0;34m(\u001b[0m\u001b[0musers\u001b[0m\u001b[0;34m)\u001b[0m\u001b[0;34m*\u001b[0m \u001b[0mself\u001b[0m\u001b[0;34m.\u001b[0m\u001b[0mi_weight\u001b[0m\u001b[0;34m(\u001b[0m\u001b[0mitems\u001b[0m\u001b[0;34m)\u001b[0m\u001b[0;34m\u001b[0m\u001b[0;34m\u001b[0m\u001b[0m\n\u001b[0m\u001b[1;32m     46\u001b[0m         \u001b[0mres\u001b[0m \u001b[0;34m=\u001b[0m \u001b[0mdot\u001b[0m\u001b[0;34m.\u001b[0m\u001b[0msum\u001b[0m\u001b[0;34m(\u001b[0m\u001b[0;36m1\u001b[0m\u001b[0;34m)\u001b[0m \u001b[0;34m+\u001b[0m \u001b[0mself\u001b[0m\u001b[0;34m.\u001b[0m\u001b[0mu_bias\u001b[0m\u001b[0;34m(\u001b[0m\u001b[0musers\u001b[0m\u001b[0;34m)\u001b[0m\u001b[0;34m.\u001b[0m\u001b[0msqueeze\u001b[0m\u001b[0;34m(\u001b[0m\u001b[0;34m)\u001b[0m \u001b[0;34m+\u001b[0m \u001b[0mself\u001b[0m\u001b[0;34m.\u001b[0m\u001b[0mi_bias\u001b[0m\u001b[0;34m(\u001b[0m\u001b[0mitems\u001b[0m\u001b[0;34m)\u001b[0m\u001b[0;34m.\u001b[0m\u001b[0msqueeze\u001b[0m\u001b[0;34m(\u001b[0m\u001b[0;34m)\u001b[0m\u001b[0;34m\u001b[0m\u001b[0;34m\u001b[0m\u001b[0m\n\u001b[1;32m     47\u001b[0m         \u001b[0;32mif\u001b[0m \u001b[0mself\u001b[0m\u001b[0;34m.\u001b[0m\u001b[0my_range\u001b[0m \u001b[0;32mis\u001b[0m \u001b[0;32mNone\u001b[0m\u001b[0;34m:\u001b[0m \u001b[0;32mreturn\u001b[0m \u001b[0mres\u001b[0m\u001b[0;34m\u001b[0m\u001b[0;34m\u001b[0m\u001b[0m\n",
            "\u001b[0;32m/usr/local/lib/python3.6/dist-packages/torch/nn/modules/module.py\u001b[0m in \u001b[0;36m__call__\u001b[0;34m(self, *input, **kwargs)\u001b[0m\n\u001b[1;32m    548\u001b[0m             \u001b[0mresult\u001b[0m \u001b[0;34m=\u001b[0m \u001b[0mself\u001b[0m\u001b[0;34m.\u001b[0m\u001b[0m_slow_forward\u001b[0m\u001b[0;34m(\u001b[0m\u001b[0;34m*\u001b[0m\u001b[0minput\u001b[0m\u001b[0;34m,\u001b[0m \u001b[0;34m**\u001b[0m\u001b[0mkwargs\u001b[0m\u001b[0;34m)\u001b[0m\u001b[0;34m\u001b[0m\u001b[0;34m\u001b[0m\u001b[0m\n\u001b[1;32m    549\u001b[0m         \u001b[0;32melse\u001b[0m\u001b[0;34m:\u001b[0m\u001b[0;34m\u001b[0m\u001b[0;34m\u001b[0m\u001b[0m\n\u001b[0;32m--> 550\u001b[0;31m             \u001b[0mresult\u001b[0m \u001b[0;34m=\u001b[0m \u001b[0mself\u001b[0m\u001b[0;34m.\u001b[0m\u001b[0mforward\u001b[0m\u001b[0;34m(\u001b[0m\u001b[0;34m*\u001b[0m\u001b[0minput\u001b[0m\u001b[0;34m,\u001b[0m \u001b[0;34m**\u001b[0m\u001b[0mkwargs\u001b[0m\u001b[0;34m)\u001b[0m\u001b[0;34m\u001b[0m\u001b[0;34m\u001b[0m\u001b[0m\n\u001b[0m\u001b[1;32m    551\u001b[0m         \u001b[0;32mfor\u001b[0m \u001b[0mhook\u001b[0m \u001b[0;32min\u001b[0m \u001b[0mself\u001b[0m\u001b[0;34m.\u001b[0m\u001b[0m_forward_hooks\u001b[0m\u001b[0;34m.\u001b[0m\u001b[0mvalues\u001b[0m\u001b[0;34m(\u001b[0m\u001b[0;34m)\u001b[0m\u001b[0;34m:\u001b[0m\u001b[0;34m\u001b[0m\u001b[0;34m\u001b[0m\u001b[0m\n\u001b[1;32m    552\u001b[0m             \u001b[0mhook_result\u001b[0m \u001b[0;34m=\u001b[0m \u001b[0mhook\u001b[0m\u001b[0;34m(\u001b[0m\u001b[0mself\u001b[0m\u001b[0;34m,\u001b[0m \u001b[0minput\u001b[0m\u001b[0;34m,\u001b[0m \u001b[0mresult\u001b[0m\u001b[0;34m)\u001b[0m\u001b[0;34m\u001b[0m\u001b[0;34m\u001b[0m\u001b[0m\n",
            "\u001b[0;32m/usr/local/lib/python3.6/dist-packages/torch/nn/modules/sparse.py\u001b[0m in \u001b[0;36mforward\u001b[0;34m(self, input)\u001b[0m\n\u001b[1;32m    112\u001b[0m         return F.embedding(\n\u001b[1;32m    113\u001b[0m             \u001b[0minput\u001b[0m\u001b[0;34m,\u001b[0m \u001b[0mself\u001b[0m\u001b[0;34m.\u001b[0m\u001b[0mweight\u001b[0m\u001b[0;34m,\u001b[0m \u001b[0mself\u001b[0m\u001b[0;34m.\u001b[0m\u001b[0mpadding_idx\u001b[0m\u001b[0;34m,\u001b[0m \u001b[0mself\u001b[0m\u001b[0;34m.\u001b[0m\u001b[0mmax_norm\u001b[0m\u001b[0;34m,\u001b[0m\u001b[0;34m\u001b[0m\u001b[0;34m\u001b[0m\u001b[0m\n\u001b[0;32m--> 114\u001b[0;31m             self.norm_type, self.scale_grad_by_freq, self.sparse)\n\u001b[0m\u001b[1;32m    115\u001b[0m \u001b[0;34m\u001b[0m\u001b[0m\n\u001b[1;32m    116\u001b[0m     \u001b[0;32mdef\u001b[0m \u001b[0mextra_repr\u001b[0m\u001b[0;34m(\u001b[0m\u001b[0mself\u001b[0m\u001b[0;34m)\u001b[0m\u001b[0;34m:\u001b[0m\u001b[0;34m\u001b[0m\u001b[0;34m\u001b[0m\u001b[0m\n",
            "\u001b[0;32m/usr/local/lib/python3.6/dist-packages/torch/nn/functional.py\u001b[0m in \u001b[0;36membedding\u001b[0;34m(input, weight, padding_idx, max_norm, norm_type, scale_grad_by_freq, sparse)\u001b[0m\n\u001b[1;32m   1722\u001b[0m         \u001b[0;31m# remove once script supports set_grad_enabled\u001b[0m\u001b[0;34m\u001b[0m\u001b[0;34m\u001b[0m\u001b[0;34m\u001b[0m\u001b[0m\n\u001b[1;32m   1723\u001b[0m         \u001b[0m_no_grad_embedding_renorm_\u001b[0m\u001b[0;34m(\u001b[0m\u001b[0mweight\u001b[0m\u001b[0;34m,\u001b[0m \u001b[0minput\u001b[0m\u001b[0;34m,\u001b[0m \u001b[0mmax_norm\u001b[0m\u001b[0;34m,\u001b[0m \u001b[0mnorm_type\u001b[0m\u001b[0;34m)\u001b[0m\u001b[0;34m\u001b[0m\u001b[0;34m\u001b[0m\u001b[0m\n\u001b[0;32m-> 1724\u001b[0;31m     \u001b[0;32mreturn\u001b[0m \u001b[0mtorch\u001b[0m\u001b[0;34m.\u001b[0m\u001b[0membedding\u001b[0m\u001b[0;34m(\u001b[0m\u001b[0mweight\u001b[0m\u001b[0;34m,\u001b[0m \u001b[0minput\u001b[0m\u001b[0;34m,\u001b[0m \u001b[0mpadding_idx\u001b[0m\u001b[0;34m,\u001b[0m \u001b[0mscale_grad_by_freq\u001b[0m\u001b[0;34m,\u001b[0m \u001b[0msparse\u001b[0m\u001b[0;34m)\u001b[0m\u001b[0;34m\u001b[0m\u001b[0;34m\u001b[0m\u001b[0m\n\u001b[0m\u001b[1;32m   1725\u001b[0m \u001b[0;34m\u001b[0m\u001b[0m\n\u001b[1;32m   1726\u001b[0m \u001b[0;34m\u001b[0m\u001b[0m\n",
            "\u001b[0;31mTypeError\u001b[0m: embedding(): argument 'indices' (position 2) must be Tensor, not NoneType"
          ]
        }
      ]
    },
    {
      "cell_type": "code",
      "metadata": {
        "id": "Fh9aZQOPZXdM",
        "colab_type": "code",
        "colab": {}
      },
      "source": [
        "# Get all users from the test set and remove any users\n",
        "# that were know in the training set\n",
        "\n",
        "test_users = test_df[USER].unique()\n",
        "test_users = np.intersect1d(test_users, total_users)"
      ],
      "execution_count": null,
      "outputs": []
    },
    {
      "cell_type": "code",
      "metadata": {
        "id": "DdWW90MAaIrb",
        "colab_type": "code",
        "colab": {}
      },
      "source": [
        "# === Cartesian product === #\n",
        "from itertools import product\n",
        "\n",
        "users_items = product(np.array(total_users), np.array(total_items))\n",
        "users_items = pd.DataFrame(users_items, columns=[\"user_id\", \"book_id\"])"
      ],
      "execution_count": null,
      "outputs": []
    },
    {
      "cell_type": "code",
      "metadata": {
        "id": "a2E8C04LaSUr",
        "colab_type": "code",
        "colab": {
          "base_uri": "https://localhost:8080/",
          "height": 424
        },
        "outputId": "2bddaaca-444f-47d4-b457-5c0fae3769fe"
      },
      "source": [
        "users_items"
      ],
      "execution_count": null,
      "outputs": [
        {
          "output_type": "execute_result",
          "data": {
            "text/html": [
              "<div>\n",
              "<style scoped>\n",
              "    .dataframe tbody tr th:only-of-type {\n",
              "        vertical-align: middle;\n",
              "    }\n",
              "\n",
              "    .dataframe tbody tr th {\n",
              "        vertical-align: top;\n",
              "    }\n",
              "\n",
              "    .dataframe thead th {\n",
              "        text-align: right;\n",
              "    }\n",
              "</style>\n",
              "<table border=\"1\" class=\"dataframe\">\n",
              "  <thead>\n",
              "    <tr style=\"text-align: right;\">\n",
              "      <th></th>\n",
              "      <th>user_id</th>\n",
              "      <th>book_id</th>\n",
              "    </tr>\n",
              "  </thead>\n",
              "  <tbody>\n",
              "    <tr>\n",
              "      <th>0</th>\n",
              "      <td>1</td>\n",
              "      <td>1</td>\n",
              "    </tr>\n",
              "    <tr>\n",
              "      <th>1</th>\n",
              "      <td>1</td>\n",
              "      <td>10</td>\n",
              "    </tr>\n",
              "    <tr>\n",
              "      <th>2</th>\n",
              "      <td>1</td>\n",
              "      <td>100</td>\n",
              "    </tr>\n",
              "    <tr>\n",
              "      <th>3</th>\n",
              "      <td>1</td>\n",
              "      <td>1000</td>\n",
              "    </tr>\n",
              "    <tr>\n",
              "      <th>4</th>\n",
              "      <td>1</td>\n",
              "      <td>10001</td>\n",
              "    </tr>\n",
              "    <tr>\n",
              "      <th>...</th>\n",
              "      <td>...</td>\n",
              "      <td>...</td>\n",
              "    </tr>\n",
              "    <tr>\n",
              "      <th>25687020</th>\n",
              "      <td>999</td>\n",
              "      <td>9990</td>\n",
              "    </tr>\n",
              "    <tr>\n",
              "      <th>25687021</th>\n",
              "      <td>999</td>\n",
              "      <td>9992</td>\n",
              "    </tr>\n",
              "    <tr>\n",
              "      <th>25687022</th>\n",
              "      <td>999</td>\n",
              "      <td>9993</td>\n",
              "    </tr>\n",
              "    <tr>\n",
              "      <th>25687023</th>\n",
              "      <td>999</td>\n",
              "      <td>9996</td>\n",
              "    </tr>\n",
              "    <tr>\n",
              "      <th>25687024</th>\n",
              "      <td>999</td>\n",
              "      <td>9997</td>\n",
              "    </tr>\n",
              "  </tbody>\n",
              "</table>\n",
              "<p>25687025 rows × 2 columns</p>\n",
              "</div>"
            ],
            "text/plain": [
              "         user_id book_id\n",
              "0              1       1\n",
              "1              1      10\n",
              "2              1     100\n",
              "3              1    1000\n",
              "4              1   10001\n",
              "...          ...     ...\n",
              "25687020     999    9990\n",
              "25687021     999    9992\n",
              "25687022     999    9993\n",
              "25687023     999    9996\n",
              "25687024     999    9997\n",
              "\n",
              "[25687025 rows x 2 columns]"
            ]
          },
          "metadata": {
            "tags": []
          },
          "execution_count": 68
        }
      ]
    },
    {
      "cell_type": "markdown",
      "metadata": {
        "id": "ROkKGlT6bqi1",
        "colab_type": "text"
      },
      "source": [
        "My search for how to generate recommendations led me to looking at the [`score` function](https://github.com/microsoft/recommenders/blob/master/reco_utils/recommender/fastai/fastai_utils.py) in the reco_utils module, which is used in one of the notebooks I'm referencing [here](https://github.com/microsoft/recommenders/blob/master/notebooks/00_quick_start/fastai_movielens.ipynb).\n",
        "\n",
        "I copied the `score` function into the cell below to try and use some of it to write my own recommendation function."
      ]
    },
    {
      "cell_type": "code",
      "metadata": {
        "id": "AfYiSNyBawMO",
        "colab_type": "code",
        "colab": {}
      },
      "source": [
        "def score(\n",
        "    learner,\n",
        "    test_df,\n",
        "    user_col=cc.DEFAULT_USER_COL,\n",
        "    item_col=cc.DEFAULT_ITEM_COL,\n",
        "    prediction_col=cc.DEFAULT_PREDICTION_COL,\n",
        "    top_k=None,\n",
        "):\n",
        "    \"\"\"Score all users+items provided and reduce to top_k items per user if top_k>0\n",
        "    \n",
        "    Args:\n",
        "        learner (obj): Model.\n",
        "        test_df (pd.DataFrame): Test dataframe.\n",
        "        user_col (str): User column name.\n",
        "        item_col (str): Item column name.\n",
        "        prediction_col (str): Prediction column name.\n",
        "        top_k (int): Number of top items to recommend.\n",
        "    Returns:\n",
        "        pd.DataFrame: Result of recommendation \n",
        "    \"\"\"\n",
        "    # replace values not known to the model with NaN\n",
        "    total_users, total_items = learner.data.train_ds.x.classes.values()\n",
        "    test_df.loc[~test_df[user_col].isin(total_users), user_col] = np.nan\n",
        "    test_df.loc[~test_df[item_col].isin(total_items), item_col] = np.nan\n",
        "\n",
        "    # map ids to embedding ids\n",
        "    u = learner.get_idx(test_df[user_col], is_item=False)\n",
        "    m = learner.get_idx(test_df[item_col], is_item=True)\n",
        "\n",
        "    # score the pytorch model\n",
        "    pred = learner.model.forward(u, m)\n",
        "    scores = pd.DataFrame(\n",
        "        {user_col: test_df[user_col], item_col: test_df[item_col], prediction_col: pred}\n",
        "    )\n",
        "    scores = scores.sort_values([user_col, prediction_col], ascending=[True, False])\n",
        "    if top_k is not None:\n",
        "        top_scores = scores.groupby(user_col).head(top_k).reset_index(drop=True)\n",
        "    else:\n",
        "        top_scores = scores\n",
        "    return top_scores"
      ],
      "execution_count": null,
      "outputs": []
    }
  ]
}