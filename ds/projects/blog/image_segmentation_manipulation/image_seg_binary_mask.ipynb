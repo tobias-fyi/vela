{
 "cells": [
  {
   "cell_type": "markdown",
   "metadata": {},
   "source": [
    "# Creating Binary Masks Using Image Segmentation\n",
    "\n",
    "> Create binary mask for objects in an image using image segmentation\n",
    "\n",
    "A tobias.fyi blog post by...you guessed it: _Tobias Reaper_."
   ]
  },
  {
   "cell_type": "markdown",
   "metadata": {},
   "source": [
    "---\n",
    "\n",
    "Notebook Outline\n",
    "\n",
    "* [Resources](#resources)\n",
    "* [Outline](#outline)\n",
    "* [Goal](#goal)\n",
    "  * [Computer vision](#computer-vision)\n",
    "  * [Mask R-CNN](#mask-r-cnn)"
   ]
  },
  {
   "cell_type": "markdown",
   "metadata": {},
   "source": [
    "---\n",
    "\n",
    "## Resources\n",
    "\n",
    "* [Mask R-CNN](https://github.com/matterport/Mask_RCNN/)\n",
    "* Other models / frameworks\n",
    "  * [CenterMask2](https://github.com/youngwanLEE/centermask2)\n",
    "  * [Yolact](https://github.com/dbolya/yolact)"
   ]
  },
  {
   "cell_type": "markdown",
   "metadata": {},
   "source": [
    "---\n",
    "\n",
    "## Outline\n",
    "\n",
    "* Intro\n",
    "  * Goal\n",
    "  * Solution\n",
    "    * Computer vision models\n",
    "    * Mask R-CNN\n",
    "* Content\n",
    "  * Using pre-trained weights\n",
    "  * Training a custom model\n",
    "  * Extracting the data from the predictions:\n",
    "    * Masks\n",
    "    * Bounding boxes\n",
    "* Conclusion"
   ]
  },
  {
   "cell_type": "markdown",
   "metadata": {},
   "source": [
    "---\n",
    "\n",
    "## The Problem\n",
    "\n",
    "Selecting and separating parts of an image can be a tedious, time-consuming process. Anyone who's done a fair amount of tinkering with image manipulation using a program like Photoshop knows the struggle.\n",
    "\n",
    "As an example, say I'd like to cut out a person from a photo in order to \"Photoshop\" that person into a different image. A classic example is to put a friend who missed a get-together into the group photo from the event (I'm looking at you, BeeTee... =P).\n",
    "\n",
    "[[ImageBlock :: Missing Friend]]\n",
    "\n",
    "To accomplish this, I'd spend anywhere from a few minutes to an hour outlining that person in the original image, mostly by hand. The time investment depends on how easily-separable that person is from the rest of the image, how accurate I want the cut to be, and what tools are available to me. Regarding that last point, the magicians at Adobe have done some rather impressive black magic with Photoshop, giving users very quick and very effective methods for selecting parts of an image.\n",
    "\n",
    "A mask is basically a method of distinguishing/selecting/separating pixels. That outline that I made to select my friend in Photoshop is an example of a mask. A binary mask is a method of masking which uses a two-tone color scheme, usually black and white, to indicate the different area(s) of an image. By overlaying a binary mask on top of the original image, the boundaries between the two colors can be used to affect the different areas of the image differently, whether that is making pixels transparent (removing them) or applying some sort of effect or transformation.\n",
    "\n",
    "The goal of this article is to describe a possible method of creating binary masks for one or more objects in an image by using an image segmentation (computer vision) model. Rather than drawing binary masks completely by hand, or use proprietary software like Photoshop, I will show you how to automate the process using completely free, open-source tools.\n",
    "\n",
    "> [[ImageBlock :: Binary Mask of Missing Friend - half regular image, half binary mask]]\n",
    "\n",
    "### Other use-cases\n",
    "\n",
    "Another important use-case for something like this is to apply different effects or transformations to the foreground and background of the image, making it possible to easily manipulate background pixels without affecting the foreground. For example, blurring the background to give a greater depth of field effect, or removing the color from the background to make the foreground really pop out."
   ]
  },
  {
   "cell_type": "markdown",
   "metadata": {},
   "source": [
    "---\n",
    "\n",
    "## Solution\n",
    "\n",
    "### Computer vision\n",
    "\n",
    "In order to generate binary masks based on the content of the image, the algorithm must be somewhat intelligent. That is, it must be able to process the image in such a way that it can recognize where the foreground is and draw a polygon around it with some degree of accuracy.\n",
    "\n",
    "Luckily, there are a number of machine learning models that will do just that. The field is called Computer Vision. More specifically, the models described in this article are known as image segmentation models.\n",
    "\n",
    "Don't worry if you don't have any experience with this type of thing, or even if you don't want to _get_ experience with it. Modern machine learning tooling makes it incredibly quick and easy to get a model up and predicting with pre-trained weights.\n",
    "\n",
    "One caveat though: the pre-trained models will do great with the objects that were in their training data. Depending on what the object in the foreground is that you are trying to extract, you may or may not need to extend the model with a custom dataset and training session."
   ]
  },
  {
   "cell_type": "markdown",
   "metadata": {},
   "source": [
    "### Mask R-CNN\n",
    "\n",
    "Although the primary framework used in this article is Matterport's TensorFlow-based implementation of a Mask R-CNN, this process should be translatable to other image segmentation models as well. In fact, at the end of this post I go over using a PyTorch-based image segmentation framework called Detectron2 to accomplish the exact same thing."
   ]
  },
  {
   "cell_type": "code",
   "execution_count": null,
   "metadata": {},
   "outputs": [],
   "source": []
  },
  {
   "cell_type": "code",
   "execution_count": null,
   "metadata": {},
   "outputs": [],
   "source": []
  },
  {
   "cell_type": "code",
   "execution_count": null,
   "metadata": {},
   "outputs": [],
   "source": []
  },
  {
   "cell_type": "code",
   "execution_count": null,
   "metadata": {},
   "outputs": [],
   "source": []
  },
  {
   "cell_type": "code",
   "execution_count": null,
   "metadata": {},
   "outputs": [],
   "source": []
  }
 ],
 "metadata": {
  "kernelspec": {
   "display_name": "Python 3.7.6 64-bit ('vela': pipenv)",
   "language": "python",
   "name": "python37664bitvelapipenvde09592071074af6a70ce3b1ce38af95"
  },
  "language_info": {
   "codemirror_mode": {
    "name": "ipython",
    "version": 3
   },
   "file_extension": ".py",
   "mimetype": "text/x-python",
   "name": "python",
   "nbconvert_exporter": "python",
   "pygments_lexer": "ipython3",
   "version": "3.7.6"
  }
 },
 "nbformat": 4,
 "nbformat_minor": 4
}
