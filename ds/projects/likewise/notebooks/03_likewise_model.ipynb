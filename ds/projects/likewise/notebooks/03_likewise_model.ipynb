{
  "nbformat": 4,
  "nbformat_minor": 0,
  "metadata": {
    "kernelspec": {
      "name": "python3",
      "display_name": "Python 3"
    },
    "colab": {
      "name": "03_likewise_model.ipynb",
      "provenance": [],
      "collapsed_sections": []
    }
  },
  "cells": [
    {
      "cell_type": "markdown",
      "metadata": {
        "id": "I247szK0X_CE",
        "colab_type": "text"
      },
      "source": [
        "# LikeWise\n",
        "\n",
        "### A Comparison of Book Recommender Systems\n",
        "\n",
        "### By _Owen Burton_ and _Tobias Reaper_"
      ]
    },
    {
      "cell_type": "markdown",
      "metadata": {
        "id": "ijOK-tEUX_CR",
        "colab_type": "text"
      },
      "source": [
        "---\n",
        "---\n",
        "\n",
        "## Outline\n",
        "\n",
        "* [Introduction]()\n",
        "* [_Imports and Configuration_]()\n",
        "* [Data]()\n",
        "* [Modeling]()\n",
        "    * [Training]()\n",
        "    * [Generating Recommendations]()"
      ]
    },
    {
      "cell_type": "markdown",
      "metadata": {
        "id": "by6gDq5PX_CV",
        "colab_type": "text"
      },
      "source": [
        "---\n",
        "---\n",
        "\n",
        "## Introduction\n",
        "\n",
        "### Stop! Collaborate and Filter\n",
        "\n",
        "[Collaborative Filtering](https://d2l.ai/chapter_recommender-systems/recsys-intro.html#collaborative-filtering) (CF)\n",
        "\n",
        "> In general, CF only uses the user-item interaction data to make predictions and recommendations."
      ]
    },
    {
      "cell_type": "markdown",
      "metadata": {
        "id": "GIYTUXCXX_Cu",
        "colab_type": "text"
      },
      "source": [
        "---\n",
        "---\n",
        "\n",
        "## Imports and Configuration"
      ]
    },
    {
      "cell_type": "code",
      "metadata": {
        "id": "nCk6ea9KX_C0",
        "colab_type": "code",
        "colab": {}
      },
      "source": [
        "# === General imports === #\n",
        "import pandas as pd\n",
        "import numpy as np\n",
        "import matplotlib.pyplot as plt\n",
        "\n",
        "import os"
      ],
      "execution_count": null,
      "outputs": []
    },
    {
      "cell_type": "code",
      "metadata": {
        "id": "t-D9UU9CVqCe",
        "colab_type": "code",
        "colab": {}
      },
      "source": [
        "# === fastai imports === #\n",
        "from fastai.collab import *"
      ],
      "execution_count": null,
      "outputs": []
    },
    {
      "cell_type": "code",
      "metadata": {
        "id": "1sYbdN9oX_ET",
        "colab_type": "code",
        "colab": {}
      },
      "source": [
        "# === Configuration === #\n",
        "%matplotlib inline\n",
        "pd.options.display.max_columns = 100\n",
        "pd.options.display.max_rows = 200"
      ],
      "execution_count": null,
      "outputs": []
    },
    {
      "cell_type": "code",
      "metadata": {
        "id": "BSwNGxeHWpn2",
        "colab_type": "code",
        "colab": {
          "base_uri": "https://localhost:8080/",
          "height": 35
        },
        "outputId": "d92409d5-cbae-4c35-d596-f73e58086fe5"
      },
      "source": [
        "from google.colab import drive\n",
        "drive.mount('/content/drive')"
      ],
      "execution_count": null,
      "outputs": [
        {
          "output_type": "stream",
          "text": [
            "Drive already mounted at /content/drive; to attempt to forcibly remount, call drive.mount(\"/content/drive\", force_remount=True).\n"
          ],
          "name": "stdout"
        }
      ]
    },
    {
      "cell_type": "code",
      "metadata": {
        "id": "ovTuurIETSD3",
        "colab_type": "code",
        "colab": {}
      },
      "source": [
        "# === Set up path to project dir === #\n",
        "PROJECT_DIR = \"/content/drive/My Drive/workshop/buildbox/likewise\""
      ],
      "execution_count": null,
      "outputs": []
    },
    {
      "cell_type": "markdown",
      "metadata": {
        "id": "aC3_huAZX_FD",
        "colab_type": "text"
      },
      "source": [
        "---\n",
        "---\n",
        "\n",
        "## Data\n",
        "\n",
        "Intro to and explanation of dataset — why this dataset?\n",
        "\n",
        "Here is the dataset used for the LikeWise recommender systems: [UCSD Book Graph - GoodReads Datasets](https://sites.google.com/eng.ucsd.edu/ucsdbookgraph/home).\n",
        "\n",
        "For this particular model, I'll be using the \"Shelves\" dataset, which has interactions between users and books (ratings).\n",
        "\n",
        "The relevant columns are `user_id`, `book_id`, and `rating`. They are pretty self-explanatory, but just to be explicit, each record indicates a user rating a book that they've (presumably) read and have an opinion on.\n",
        "\n",
        "Speaking of explicit, the fact that the user _explicitly_ rates the books makes this dataset one of explicit preferences"
      ]
    },
    {
      "cell_type": "code",
      "metadata": {
        "id": "qTS3HWinWmNO",
        "colab_type": "code",
        "colab": {}
      },
      "source": [
        "# === Load data from Drive === #\n",
        "data_file = \"interactions_mystery_thriller_crime_1m_sample.csv\"\n",
        "data_path = os.path.join(PROJECT_DIR, \"assets/data\", data_file)\n",
        "interactions = pd.read_csv(data_path)"
      ],
      "execution_count": null,
      "outputs": []
    },
    {
      "cell_type": "code",
      "metadata": {
        "id": "AqoSHrYRog4o",
        "colab_type": "code",
        "colab": {
          "base_uri": "https://localhost:8080/",
          "height": 109
        },
        "outputId": "b363a33f-eae1-47b5-ac5b-8aff55b8e101"
      },
      "source": [
        "# === Data types === #\n",
        "interactions.dtypes"
      ],
      "execution_count": null,
      "outputs": [
        {
          "output_type": "execute_result",
          "data": {
            "text/plain": [
              "user_id    object\n",
              "book_id    object\n",
              "is_read      bool\n",
              "rating      int64\n",
              "dtype: object"
            ]
          },
          "metadata": {
            "tags": []
          },
          "execution_count": 17
        }
      ]
    },
    {
      "cell_type": "markdown",
      "metadata": {
        "id": "bwx3pzPKZhkl",
        "colab_type": "text"
      },
      "source": [
        "---\n",
        "---\n",
        "\n",
        "## Modeling\n",
        "\n",
        "For this model, I'll be using the FastAI collaborative filtering algorithm(s).\n",
        "\n",
        "Resources:\n",
        "\n",
        "* [fastai.collab](https://docs.fast.ai/collab.html)\n",
        "* [movielens recommender example](https://github.com/microsoft/recommenders/blob/master/notebooks/00_quick_start/fastai_movielens.ipynb)"
      ]
    },
    {
      "cell_type": "markdown",
      "metadata": {
        "id": "y6ks0ZgFhc6X",
        "colab_type": "text"
      },
      "source": [
        "### Training"
      ]
    },
    {
      "cell_type": "code",
      "metadata": {
        "id": "Uc-CYJyXX_FM",
        "colab_type": "code",
        "colab": {}
      },
      "source": [
        "# === First, train on rated books only === #\n",
        "rating_range = [1, 5]\n",
        "\n",
        "# Create databunch\n",
        "data = CollabDataBunch.from_df(\n",
        "    inters_rated,\n",
        "    user_name=\"user_id\",\n",
        "    item_name=\"book_id\",\n",
        "    rating_name=\"rating\",\n",
        "    valid_pct=0.2,\n",
        "    seed=92\n",
        ")\n",
        "\n",
        "# === Instantiate learner === #\n",
        "learn = collab_learner(data, n_factors=50, y_range=rating_range)\n",
        "learn.model"
      ],
      "execution_count": null,
      "outputs": []
    },
    {
      "cell_type": "code",
      "metadata": {
        "id": "AME9RP91V_uQ",
        "colab_type": "code",
        "colab": {
          "base_uri": "https://localhost:8080/",
          "height": 206
        },
        "outputId": "e1b178c2-9875-495b-af91-6565e2dbcef9"
      },
      "source": [
        "data.show_batch()"
      ],
      "execution_count": null,
      "outputs": [
        {
          "output_type": "display_data",
          "data": {
            "text/html": [
              "<table border=\"1\" class=\"dataframe\">\n",
              "  <thead>\n",
              "    <tr style=\"text-align: right;\">\n",
              "      <th>user_id</th>\n",
              "      <th>book_id</th>\n",
              "      <th>target</th>\n",
              "    </tr>\n",
              "  </thead>\n",
              "  <tbody>\n",
              "    <tr>\n",
              "      <td>82</td>\n",
              "      <td>51</td>\n",
              "      <td>4.0</td>\n",
              "    </tr>\n",
              "    <tr>\n",
              "      <td>1761</td>\n",
              "      <td>8945</td>\n",
              "      <td>2.0</td>\n",
              "    </tr>\n",
              "    <tr>\n",
              "      <td>779</td>\n",
              "      <td>13588</td>\n",
              "      <td>3.0</td>\n",
              "    </tr>\n",
              "    <tr>\n",
              "      <td>1627</td>\n",
              "      <td>22778</td>\n",
              "      <td>5.0</td>\n",
              "    </tr>\n",
              "    <tr>\n",
              "      <td>1720</td>\n",
              "      <td>3098</td>\n",
              "      <td>4.0</td>\n",
              "    </tr>\n",
              "  </tbody>\n",
              "</table>"
            ],
            "text/plain": [
              "<IPython.core.display.HTML object>"
            ]
          },
          "metadata": {
            "tags": []
          }
        }
      ]
    },
    {
      "cell_type": "code",
      "metadata": {
        "id": "oJ0Jpl6cak9T",
        "colab_type": "code",
        "colab": {
          "base_uri": "https://localhost:8080/",
          "height": 206
        },
        "outputId": "724eb10b-4d73-4612-8dce-9950066c73d5"
      },
      "source": [
        "# === Train! === #\n",
        "learn.fit_one_cycle(5, 5e-3)"
      ],
      "execution_count": null,
      "outputs": [
        {
          "output_type": "display_data",
          "data": {
            "text/html": [
              "<table border=\"1\" class=\"dataframe\">\n",
              "  <thead>\n",
              "    <tr style=\"text-align: left;\">\n",
              "      <th>epoch</th>\n",
              "      <th>train_loss</th>\n",
              "      <th>valid_loss</th>\n",
              "      <th>time</th>\n",
              "    </tr>\n",
              "  </thead>\n",
              "  <tbody>\n",
              "    <tr>\n",
              "      <td>0</td>\n",
              "      <td>1.123155</td>\n",
              "      <td>1.084469</td>\n",
              "      <td>00:10</td>\n",
              "    </tr>\n",
              "    <tr>\n",
              "      <td>1</td>\n",
              "      <td>0.634403</td>\n",
              "      <td>0.753151</td>\n",
              "      <td>00:12</td>\n",
              "    </tr>\n",
              "    <tr>\n",
              "      <td>2</td>\n",
              "      <td>0.298588</td>\n",
              "      <td>0.739403</td>\n",
              "      <td>00:12</td>\n",
              "    </tr>\n",
              "    <tr>\n",
              "      <td>3</td>\n",
              "      <td>0.128401</td>\n",
              "      <td>0.741949</td>\n",
              "      <td>00:11</td>\n",
              "    </tr>\n",
              "    <tr>\n",
              "      <td>4</td>\n",
              "      <td>0.073346</td>\n",
              "      <td>0.742687</td>\n",
              "      <td>00:10</td>\n",
              "    </tr>\n",
              "  </tbody>\n",
              "</table>"
            ],
            "text/plain": [
              "<IPython.core.display.HTML object>"
            ]
          },
          "metadata": {
            "tags": []
          }
        }
      ]
    },
    {
      "cell_type": "code",
      "metadata": {
        "id": "Sh5WErztatz1",
        "colab_type": "code",
        "colab": {}
      },
      "source": [
        "# === Export trained model === #\n",
        "data_file = \"01_likewise.pkl\"\n",
        "data_path = os.path.join(PROJECT_DIR, \"assets/models\", data_file)\n",
        "learn.export(data_path)"
      ],
      "execution_count": null,
      "outputs": []
    },
    {
      "cell_type": "markdown",
      "metadata": {
        "id": "RRWxc3UuYJb4",
        "colab_type": "text"
      },
      "source": [
        "---\n",
        "\n",
        "### Generate Recommendations"
      ]
    },
    {
      "cell_type": "code",
      "metadata": {
        "id": "X1t43KinX_01",
        "colab_type": "code",
        "colab": {}
      },
      "source": [
        "# === Import the model from file === #\n",
        "learner = load_learner(\n",
        "    path=os.path.join(PROJECT_DIR, \"assets/models\"),\n",
        "    file=\"01_likewise.pkl\",\n",
        ")"
      ],
      "execution_count": null,
      "outputs": []
    },
    {
      "cell_type": "code",
      "metadata": {
        "id": "hEPV2i4bYkmT",
        "colab_type": "code",
        "colab": {
          "base_uri": "https://localhost:8080/",
          "height": 35
        },
        "outputId": "baace152-a5d0-4d6b-e341-0a95fef62c02"
      },
      "source": [
        "# === Get all users and items that the model knows === #\n",
        "total_users, total_items = learner.data.train_ds.x.classes.values()\n",
        "total_items = total_items[1:]\n",
        "total_users = total_users[1:]\n",
        "\n",
        "print(total_users.shape, total_items.shape)"
      ],
      "execution_count": null,
      "outputs": [
        {
          "output_type": "stream",
          "text": [
            "(1613,) (15925,)\n"
          ],
          "name": "stdout"
        }
      ]
    },
    {
      "cell_type": "code",
      "metadata": {
        "id": "Fh9aZQOPZXdM",
        "colab_type": "code",
        "colab": {}
      },
      "source": [
        "# Get all users from the test set and remove any users\n",
        "# that were know in the training set\n",
        "\n",
        "test_users = test_df[USER].unique()\n",
        "test_users = np.intersect1d(test_users, total_users)"
      ],
      "execution_count": null,
      "outputs": []
    },
    {
      "cell_type": "code",
      "metadata": {
        "id": "DdWW90MAaIrb",
        "colab_type": "code",
        "colab": {}
      },
      "source": [
        "from itertools import product\n",
        "\n",
        "users_items = product(np.array(total_users), np.array(total_items))\n",
        "users_items = pd.DataFrame(users_items, columns=[\"user_id\", \"book_id\"])"
      ],
      "execution_count": null,
      "outputs": []
    },
    {
      "cell_type": "code",
      "metadata": {
        "id": "a2E8C04LaSUr",
        "colab_type": "code",
        "colab": {
          "base_uri": "https://localhost:8080/",
          "height": 424
        },
        "outputId": "2bddaaca-444f-47d4-b457-5c0fae3769fe"
      },
      "source": [
        "users_items"
      ],
      "execution_count": null,
      "outputs": [
        {
          "output_type": "execute_result",
          "data": {
            "text/html": [
              "<div>\n",
              "<style scoped>\n",
              "    .dataframe tbody tr th:only-of-type {\n",
              "        vertical-align: middle;\n",
              "    }\n",
              "\n",
              "    .dataframe tbody tr th {\n",
              "        vertical-align: top;\n",
              "    }\n",
              "\n",
              "    .dataframe thead th {\n",
              "        text-align: right;\n",
              "    }\n",
              "</style>\n",
              "<table border=\"1\" class=\"dataframe\">\n",
              "  <thead>\n",
              "    <tr style=\"text-align: right;\">\n",
              "      <th></th>\n",
              "      <th>user_id</th>\n",
              "      <th>book_id</th>\n",
              "    </tr>\n",
              "  </thead>\n",
              "  <tbody>\n",
              "    <tr>\n",
              "      <th>0</th>\n",
              "      <td>1</td>\n",
              "      <td>1</td>\n",
              "    </tr>\n",
              "    <tr>\n",
              "      <th>1</th>\n",
              "      <td>1</td>\n",
              "      <td>10</td>\n",
              "    </tr>\n",
              "    <tr>\n",
              "      <th>2</th>\n",
              "      <td>1</td>\n",
              "      <td>100</td>\n",
              "    </tr>\n",
              "    <tr>\n",
              "      <th>3</th>\n",
              "      <td>1</td>\n",
              "      <td>1000</td>\n",
              "    </tr>\n",
              "    <tr>\n",
              "      <th>4</th>\n",
              "      <td>1</td>\n",
              "      <td>10001</td>\n",
              "    </tr>\n",
              "    <tr>\n",
              "      <th>...</th>\n",
              "      <td>...</td>\n",
              "      <td>...</td>\n",
              "    </tr>\n",
              "    <tr>\n",
              "      <th>25687020</th>\n",
              "      <td>999</td>\n",
              "      <td>9990</td>\n",
              "    </tr>\n",
              "    <tr>\n",
              "      <th>25687021</th>\n",
              "      <td>999</td>\n",
              "      <td>9992</td>\n",
              "    </tr>\n",
              "    <tr>\n",
              "      <th>25687022</th>\n",
              "      <td>999</td>\n",
              "      <td>9993</td>\n",
              "    </tr>\n",
              "    <tr>\n",
              "      <th>25687023</th>\n",
              "      <td>999</td>\n",
              "      <td>9996</td>\n",
              "    </tr>\n",
              "    <tr>\n",
              "      <th>25687024</th>\n",
              "      <td>999</td>\n",
              "      <td>9997</td>\n",
              "    </tr>\n",
              "  </tbody>\n",
              "</table>\n",
              "<p>25687025 rows × 2 columns</p>\n",
              "</div>"
            ],
            "text/plain": [
              "         user_id book_id\n",
              "0              1       1\n",
              "1              1      10\n",
              "2              1     100\n",
              "3              1    1000\n",
              "4              1   10001\n",
              "...          ...     ...\n",
              "25687020     999    9990\n",
              "25687021     999    9992\n",
              "25687022     999    9993\n",
              "25687023     999    9996\n",
              "25687024     999    9997\n",
              "\n",
              "[25687025 rows x 2 columns]"
            ]
          },
          "metadata": {
            "tags": []
          },
          "execution_count": 68
        }
      ]
    },
    {
      "cell_type": "markdown",
      "metadata": {
        "id": "ROkKGlT6bqi1",
        "colab_type": "text"
      },
      "source": [
        "My search for how to generate recommendations led me to looking at the [`score` function](https://github.com/microsoft/recommenders/blob/master/reco_utils/recommender/fastai/fastai_utils.py) in the reco_utils module, which is used in one of the notebooks I'm referencing [here](https://github.com/microsoft/recommenders/blob/master/notebooks/00_quick_start/fastai_movielens.ipynb).\n",
        "\n",
        "I copied the `score` function into the cell below to try and use some of it to write my own recommendation function."
      ]
    },
    {
      "cell_type": "code",
      "metadata": {
        "id": "AfYiSNyBawMO",
        "colab_type": "code",
        "colab": {}
      },
      "source": [
        "def score(\n",
        "    learner,\n",
        "    test_df,\n",
        "    user_col=cc.DEFAULT_USER_COL,\n",
        "    item_col=cc.DEFAULT_ITEM_COL,\n",
        "    prediction_col=cc.DEFAULT_PREDICTION_COL,\n",
        "    top_k=None,\n",
        "):\n",
        "    \"\"\"Score all users+items provided and reduce to top_k items per user if top_k>0\n",
        "    \n",
        "    Args:\n",
        "        learner (obj): Model.\n",
        "        test_df (pd.DataFrame): Test dataframe.\n",
        "        user_col (str): User column name.\n",
        "        item_col (str): Item column name.\n",
        "        prediction_col (str): Prediction column name.\n",
        "        top_k (int): Number of top items to recommend.\n",
        "    Returns:\n",
        "        pd.DataFrame: Result of recommendation \n",
        "    \"\"\"\n",
        "    # replace values not known to the model with NaN\n",
        "    total_users, total_items = learner.data.train_ds.x.classes.values()\n",
        "    test_df.loc[~test_df[user_col].isin(total_users), user_col] = np.nan\n",
        "    test_df.loc[~test_df[item_col].isin(total_items), item_col] = np.nan\n",
        "\n",
        "    # map ids to embedding ids\n",
        "    u = learner.get_idx(test_df[user_col], is_item=False)\n",
        "    m = learner.get_idx(test_df[item_col], is_item=True)\n",
        "\n",
        "    # score the pytorch model\n",
        "    pred = learner.model.forward(u, m)\n",
        "    scores = pd.DataFrame(\n",
        "        {user_col: test_df[user_col], item_col: test_df[item_col], prediction_col: pred}\n",
        "    )\n",
        "    scores = scores.sort_values([user_col, prediction_col], ascending=[True, False])\n",
        "    if top_k is not None:\n",
        "        top_scores = scores.groupby(user_col).head(top_k).reset_index(drop=True)\n",
        "    else:\n",
        "        top_scores = scores\n",
        "    return top_scores"
      ],
      "execution_count": null,
      "outputs": []
    }
  ]
}