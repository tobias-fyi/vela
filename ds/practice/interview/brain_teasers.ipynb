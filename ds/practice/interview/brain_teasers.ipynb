{
 "cells": [
  {
   "cell_type": "markdown",
   "metadata": {},
   "source": [
    "# Brain Teasers\n",
    "\n",
    "## Resources\n",
    "\n",
    "* https://towardsdatascience.com/googles-data-science-interview-brain-teasers-7f3c1dc4ea7f\n",
    "* "
   ]
  },
  {
   "cell_type": "markdown",
   "metadata": {},
   "source": [
    "---\n",
    "---"
   ]
  },
  {
   "cell_type": "markdown",
   "metadata": {},
   "source": [
    "## Questions"
   ]
  },
  {
   "cell_type": "markdown",
   "metadata": {},
   "source": [
    "---\n",
    "\n",
    "### Probability"
   ]
  },
  {
   "cell_type": "markdown",
   "metadata": {},
   "source": [
    "#### 1\n",
    "\n",
    "A box has 12 red cards and 12 black cards. Another box has 24 red cards and 24 black cards. You want to draw two cards at random from one of the two boxes, one card at a time. Which box has a higher probability of getting cards of the same color and why?"
   ]
  },
  {
   "cell_type": "markdown",
   "metadata": {},
   "source": [
    "#### 2\n",
    "\n",
    "You are at a casino and have two dice to play with. You win \\$10 every time you roll a 5. If you play till you win and then stop, what is the expected payout?"
   ]
  },
  {
   "cell_type": "markdown",
   "metadata": {},
   "source": [
    "#### 3\n",
    "\n",
    "How can you tell if a given coin is biased?"
   ]
  },
  {
   "cell_type": "markdown",
   "metadata": {},
   "source": [
    "#### 4\n",
    "\n",
    "Main an unfair coin fair."
   ]
  },
  {
   "cell_type": "markdown",
   "metadata": {},
   "source": [
    "#### 5\n",
    "\n",
    "You are about to get on a plane to London, you want to know whether you have to bring an umbrella or not. You randomly call three of your friends and ask each one of them if it's raining. The probability that your friend is telling the truth is 2/3 and the probability that they are playing a prank on you by lying is 1/3. If all 3 of them tell you that it is raining, then what is the probability that it is actually raining in London?"
   ]
  },
  {
   "cell_type": "markdown",
   "metadata": {},
   "source": [
    "#### 6\n",
    "\n",
    "You are given 40 cards with four different colors: 10 green, 10 red, 10 blue, and 10 yellow. The cards of each color are numbered from one to ten. Two cards are picked at random. Find the probability that the cards picked do not have the same number and same color."
   ]
  },
  {
   "cell_type": "markdown",
   "metadata": {},
   "source": []
  },
  {
   "cell_type": "markdown",
   "metadata": {},
   "source": []
  },
  {
   "cell_type": "markdown",
   "metadata": {},
   "source": []
  },
  {
   "cell_type": "markdown",
   "metadata": {},
   "source": []
  },
  {
   "cell_type": "markdown",
   "metadata": {},
   "source": []
  },
  {
   "cell_type": "markdown",
   "metadata": {},
   "source": [
    "---\n",
    "---\n",
    "\n",
    "## Answers"
   ]
  },
  {
   "cell_type": "markdown",
   "metadata": {},
   "source": [
    "### Probability"
   ]
  },
  {
   "cell_type": "markdown",
   "metadata": {},
   "source": [
    "#### 1\n",
    "\n",
    "> A box has 12 red cards and 12 black cards. Another box has 24 red cards and 24 black cards. You want to draw two cards at random from one of the two boxes, one card at a time. Which box has a higher probability of getting cards of the same color and why?"
   ]
  },
  {
   "cell_type": "markdown",
   "metadata": {},
   "source": [
    "The 24x24 box has a higher probability of taking out two cards of the same color in a row.\n",
    "\n",
    "In the 12x12 deck, when one is taken out, the resulting probability of taking one out of the same color is:\n",
    "\n",
    "$\\frac{11}{11+12} = \\frac{11}{23} = 0.478$\n",
    "\n",
    "And in the 24x24 deck:\n",
    "\n",
    "$\\frac{23}{23+24} = \\frac{23}{47} = 0.489$"
   ]
  },
  {
   "cell_type": "markdown",
   "metadata": {},
   "source": [
    "#### 2\n",
    "\n",
    "> You are at a casino and have two dice to play with. You win \\$10 every time you roll a 5. If you play till you win and then stop, what is the expected payout?\n",
    "\n",
    "Assume the cost of playing is \\$2 per game."
   ]
  },
  {
   "cell_type": "code",
   "execution_count": 10,
   "metadata": {},
   "outputs": [
    {
     "name": "stdout",
     "output_type": "stream",
     "text": [
      "36\n",
      "4\n",
      "Probability of rolling 5: 1/9\n"
     ]
    }
   ],
   "source": [
    "# Find total combinations and number that equal five\n",
    "total = 0\n",
    "fives = 0\n",
    "\n",
    "for d1 in range(1, 7):\n",
    "    for d2 in range(1, 7):\n",
    "        total += 1\n",
    "        if d1 + d2 == 5:\n",
    "            fives += 1\n",
    "            \n",
    "print(total)\n",
    "print(fives)\n",
    "print(f\"Probability of rolling 5: {fives//4}/{total//4}\")"
   ]
  },
  {
   "cell_type": "code",
   "execution_count": 18,
   "metadata": {},
   "outputs": [
    {
     "name": "stdout",
     "output_type": "stream",
     "text": [
      "-8\n"
     ]
    }
   ],
   "source": [
    "# Calculate expected payout\n",
    "cost = -2\n",
    "payout = 10\n",
    "\n",
    "exp_payout = ((fives//4) * payout) + ((total//4) * cost)\n",
    "print(exp_payout)"
   ]
  },
  {
   "cell_type": "markdown",
   "metadata": {},
   "source": [
    "#### 3\n",
    "\n",
    "> How can you tell if a given coin is biased?"
   ]
  },
  {
   "cell_type": "markdown",
   "metadata": {},
   "source": [
    "A simple hypothesis test can be run to determine if a coin is biased. A coin toss is a binomial distribution, and a fair coin should see both sides come up with equal frequency.\n",
    "\n",
    "The null hypothesis is that the coin is not biased, and therefore the probability of flipping heads is 0.5. The alternative hypothesis is that the coin is biased, and therefore has a probability of flipping heads **not** equal to 0.5.\n",
    "\n",
    "To test this, the given coin could be tossed 1,000 times. The data from this experiment (which side comes up each time) can be averaged to give the approximate probability of each side landing up.\n",
    "\n",
    "Calculate the z-score of the test, and compare the p-value against the alpha (two-sample t-test - alpha = 0.025). If p-value is less than alpha, then reject the null hypothesis and conclude that the coin is biased. Otherwise, accept the null that the coin is not biased."
   ]
  },
  {
   "cell_type": "markdown",
   "metadata": {},
   "source": [
    "#### 4\n",
    "\n",
    "\n",
    "\n",
    "> Make an unfair coin fair."
   ]
  },
  {
   "cell_type": "markdown",
   "metadata": {},
   "source": [
    "A coin toss has a binary result. An unfair coin can be made fair by flipping it twice and betting on both sides coming up.\n",
    "\n",
    "$P(heads) \\times P(tails) = P(tails) \\times P(heads)$"
   ]
  },
  {
   "cell_type": "markdown",
   "metadata": {},
   "source": [
    "#### 5\n",
    "\n",
    "> You are about to get on a plane to London, you want to know whether you have to bring an umbrella or not. You randomly call three of your friends and ask each one of them if it's raining. The probability that your friend is telling the truth is 2/3 and the probability that they are playing a prank on you by lying is 1/3.\n",
    "\n",
    "> If all 3 of them tell you that it is raining, then what is the probability that it is actually raining in London?"
   ]
  },
  {
   "cell_type": "markdown",
   "metadata": {},
   "source": [
    "Assume that the probability of it raining in London on any given day is 25% or 0.25.\n",
    "\n",
    "* P(A) = proba of rain = 0.25\n",
    "* P(B) = proba that all 3 friends say it's raining\n",
    "* P(A|B) = proba that it's raining given they say it's raining\n",
    "* P(B|A) = proba that all 3 say it's raining given it is actually raining = (2/3)^3 = 8/27\n",
    "\n",
    "Step 1: Solve for P(B)  \n",
    "\n",
    "$P(A|B) = \\frac{P(B|A) \\times P(A)}{P(B)}$  \n",
    "\n",
    "$P(B) = (P(B|A) \\times P(A)) + (P(B\\neg A) \\times P(\\neg A))$  \n",
    "\n",
    "$P(B) = (\\frac{2}{3}^3 \\times 0.25) + (\\frac{1}{3}^3 \\times 0.75) = (0.25 \\times \\frac{8}{27}) + (0.75 \\times \\frac{1}{27})$  \n",
    "\n",
    "Step 2: Solve for P(A|B)\n",
    "\n",
    "$P(A|B) = \\frac{0.25 \\times \\frac{8}{27}}{(0.25 \\times \\frac{8}{27}) + (0.75 \\times \\frac{1}{27})}$\n",
    "\n",
    "$P(A|B) = \\frac{8}{8 + 3} = \\frac{8}{11}$"
   ]
  },
  {
   "cell_type": "markdown",
   "metadata": {},
   "source": [
    "#### 6\n",
    "\n",
    "You are given 40 cards with four different colors: 10 green, 10 red, 10 blue, and 10 yellow. The cards of each color are numbered from one to ten. Two cards are picked at random. Find the probability that the cards picked do not have the same number and same color."
   ]
  },
  {
   "cell_type": "code",
   "execution_count": 26,
   "metadata": {},
   "outputs": [
    {
     "data": {
      "text/html": [
       "<div>\n",
       "<style scoped>\n",
       "    .dataframe tbody tr th:only-of-type {\n",
       "        vertical-align: middle;\n",
       "    }\n",
       "\n",
       "    .dataframe tbody tr th {\n",
       "        vertical-align: top;\n",
       "    }\n",
       "\n",
       "    .dataframe thead th {\n",
       "        text-align: right;\n",
       "    }\n",
       "</style>\n",
       "<table border=\"1\" class=\"dataframe\">\n",
       "  <thead>\n",
       "    <tr style=\"text-align: right;\">\n",
       "      <th></th>\n",
       "      <th>green</th>\n",
       "      <th>red</th>\n",
       "      <th>blue</th>\n",
       "      <th>yellow</th>\n",
       "    </tr>\n",
       "  </thead>\n",
       "  <tbody>\n",
       "    <tr>\n",
       "      <th>0</th>\n",
       "      <td>1</td>\n",
       "      <td>1</td>\n",
       "      <td>1</td>\n",
       "      <td>1</td>\n",
       "    </tr>\n",
       "    <tr>\n",
       "      <th>1</th>\n",
       "      <td>2</td>\n",
       "      <td>2</td>\n",
       "      <td>2</td>\n",
       "      <td>2</td>\n",
       "    </tr>\n",
       "    <tr>\n",
       "      <th>2</th>\n",
       "      <td>3</td>\n",
       "      <td>3</td>\n",
       "      <td>3</td>\n",
       "      <td>3</td>\n",
       "    </tr>\n",
       "    <tr>\n",
       "      <th>3</th>\n",
       "      <td>4</td>\n",
       "      <td>4</td>\n",
       "      <td>4</td>\n",
       "      <td>4</td>\n",
       "    </tr>\n",
       "    <tr>\n",
       "      <th>4</th>\n",
       "      <td>5</td>\n",
       "      <td>5</td>\n",
       "      <td>5</td>\n",
       "      <td>5</td>\n",
       "    </tr>\n",
       "    <tr>\n",
       "      <th>5</th>\n",
       "      <td>6</td>\n",
       "      <td>6</td>\n",
       "      <td>6</td>\n",
       "      <td>6</td>\n",
       "    </tr>\n",
       "    <tr>\n",
       "      <th>6</th>\n",
       "      <td>7</td>\n",
       "      <td>7</td>\n",
       "      <td>7</td>\n",
       "      <td>7</td>\n",
       "    </tr>\n",
       "    <tr>\n",
       "      <th>7</th>\n",
       "      <td>8</td>\n",
       "      <td>8</td>\n",
       "      <td>8</td>\n",
       "      <td>8</td>\n",
       "    </tr>\n",
       "    <tr>\n",
       "      <th>8</th>\n",
       "      <td>9</td>\n",
       "      <td>9</td>\n",
       "      <td>9</td>\n",
       "      <td>9</td>\n",
       "    </tr>\n",
       "    <tr>\n",
       "      <th>9</th>\n",
       "      <td>10</td>\n",
       "      <td>10</td>\n",
       "      <td>10</td>\n",
       "      <td>10</td>\n",
       "    </tr>\n",
       "  </tbody>\n",
       "</table>\n",
       "</div>"
      ],
      "text/plain": [
       "   green  red  blue  yellow\n",
       "0      1    1     1       1\n",
       "1      2    2     2       2\n",
       "2      3    3     3       3\n",
       "3      4    4     4       4\n",
       "4      5    5     5       5\n",
       "5      6    6     6       6\n",
       "6      7    7     7       7\n",
       "7      8    8     8       8\n",
       "8      9    9     9       9\n",
       "9     10   10    10      10"
      ]
     },
     "execution_count": 26,
     "metadata": {},
     "output_type": "execute_result"
    }
   ],
   "source": [
    "# Set up a dataframe to visualize this\n",
    "import pandas as pd\n",
    "import numpy as np\n",
    "\n",
    "cols = [\"green\", \"red\", \"blue\", \"yellow\"]\n",
    "data = [list(range(1, 11)) for c in range(4)]\n",
    "data_dict = {i:v for (i,v) in zip(cols, data)}\n",
    "\n",
    "df = pd.DataFrame(data=data_dict, columns=cols)\n",
    "df"
   ]
  },
  {
   "cell_type": "code",
   "execution_count": 27,
   "metadata": {},
   "outputs": [
    {
     "data": {
      "text/plain": [
       "0.675"
      ]
     },
     "execution_count": 27,
     "metadata": {},
     "output_type": "execute_result"
    }
   ],
   "source": [
    "# For example, let's pick green 10 first\n",
    "diff = 40 - 13\n",
    "proba_diff = diff / 40\n",
    "proba_diff"
   ]
  },
  {
   "cell_type": "markdown",
   "metadata": {},
   "source": [
    "Nope! Apparently that's not how it should be solved."
   ]
  },
  {
   "cell_type": "markdown",
   "metadata": {},
   "source": [
    "Since these events are not independent, we can use the rule:\n",
    "\n",
    "$P(A \\cap B) = P(A) * P(B|A)$\n",
    "\n",
    "which is also equal to\n",
    "\n",
    "$P(\\neg A \\cap \\neg B) = P(\\neg A) * P(\\neg B | \\neg A)$\n",
    "\n",
    "For example:\n",
    "\n",
    "$P(\\neg 4 \\cap \\neg yellow) = P(\\neg 4) * P(\\neg yellow | \\neg 4)$\n",
    "\n",
    "$P(\\neg 4 \\cap \\neg yellow) = \\frac{36}{39} * \\frac{27}{36}$\n",
    "\n",
    "$P(\\neg 4 \\cap \\neg yellow) = 0.692$"
   ]
  },
  {
   "cell_type": "markdown",
   "metadata": {},
   "source": []
  },
  {
   "cell_type": "markdown",
   "metadata": {},
   "source": []
  },
  {
   "cell_type": "markdown",
   "metadata": {},
   "source": []
  },
  {
   "cell_type": "markdown",
   "metadata": {},
   "source": []
  },
  {
   "cell_type": "markdown",
   "metadata": {},
   "source": []
  },
  {
   "cell_type": "markdown",
   "metadata": {},
   "source": []
  },
  {
   "cell_type": "markdown",
   "metadata": {},
   "source": []
  },
  {
   "cell_type": "markdown",
   "metadata": {},
   "source": []
  },
  {
   "cell_type": "markdown",
   "metadata": {},
   "source": []
  },
  {
   "cell_type": "markdown",
   "metadata": {},
   "source": []
  },
  {
   "cell_type": "markdown",
   "metadata": {},
   "source": []
  },
  {
   "cell_type": "markdown",
   "metadata": {},
   "source": []
  },
  {
   "cell_type": "markdown",
   "metadata": {},
   "source": []
  },
  {
   "cell_type": "markdown",
   "metadata": {},
   "source": []
  },
  {
   "cell_type": "markdown",
   "metadata": {},
   "source": []
  },
  {
   "cell_type": "markdown",
   "metadata": {},
   "source": []
  },
  {
   "cell_type": "markdown",
   "metadata": {},
   "source": []
  }
 ],
 "metadata": {
  "kernelspec": {
   "display_name": "Python 3.7.6 64-bit ('vela': pipenv)",
   "language": "python",
   "name": "python37664bitvelapipenvde09592071074af6a70ce3b1ce38af95"
  },
  "language_info": {
   "codemirror_mode": {
    "name": "ipython",
    "version": 3
   },
   "file_extension": ".py",
   "mimetype": "text/x-python",
   "name": "python",
   "nbconvert_exporter": "python",
   "pygments_lexer": "ipython3",
   "version": "3.7.6"
  }
 },
 "nbformat": 4,
 "nbformat_minor": 4
}
