{
 "cells": [
  {
   "cell_type": "markdown",
   "metadata": {},
   "source": [
    "# 2021-05-04 Daily Practice\n",
    "\n",
    "- [x] Practice\n",
    "- [ ] Learn\n",
    "- [x] Write\n",
    "- [ ] Build"
   ]
  },
  {
   "cell_type": "markdown",
   "metadata": {},
   "source": [
    "---\n",
    "\n",
    "## Write\n",
    "\n",
    "Continued the Contact Section (sci-fi) story I started yesterday morning. Started out saying I'd write one page, ended up writing two."
   ]
  },
  {
   "cell_type": "markdown",
   "metadata": {},
   "source": [
    "---\n",
    "\n",
    "## Learn, Review, and Practice"
   ]
  },
  {
   "cell_type": "markdown",
   "metadata": {},
   "source": [
    "Spent all of the daytime hours on researching, learning, and reviewing for a series of virtual \"on-site\" Software Engineering interviews I have later this week."
   ]
  },
  {
   "cell_type": "markdown",
   "metadata": {},
   "source": [
    "---\n",
    "\n",
    "## SQL Practice\n",
    "\n",
    "Spent the evening prepping and practicing for a data engineering takehome test I have tomorrow morning.\n",
    "\n",
    "- Programming\n",
    "- Data engineering\n",
    "- System design\n",
    "- SQL\n",
    "- Written communication"
   ]
  },
  {
   "cell_type": "markdown",
   "metadata": {},
   "source": [
    "### Like Tracker\n",
    "\n",
    "On [Interview Query](https://www.interviewquery.com/questions/like-tracker):\n",
    "\n",
    "| events     | table    |\n",
    "| ---------- | -------- |\n",
    "| column     | type     |\n",
    "| user_id    | int      |\n",
    "| created_at | datetime |\n",
    "| action     | string   |\n",
    "| platform   | string   |\n",
    "\n",
    "The events table tracks every time a user performs a certain action (like, post_enter, etc.) on a platform.\n",
    "\n",
    "Write a query to determine how many different users gave a like on June 6, 2020.\n",
    "\n",
    "Output:\n",
    "\n",
    "| column              | type |\n",
    "| ------------------- | ---- |\n",
    "| num_users_gave_like | int  |\n",
    "\n",
    "```sql\n",
    "select\n",
    "    count(distinct user_id) as num_users_gave_like\n",
    "from events\n",
    "where created_at = '2020-06-06'\n",
    "    and action = 'like'\n",
    "```"
   ]
  },
  {
   "cell_type": "markdown",
   "metadata": {},
   "source": [
    "### Upsell Transactions\n",
    "\n",
    "> On [Interview Query](https://www.interviewquery.com/questions/upsell-transactions)\n",
    "\n",
    "`transactions` table\n",
    "\n",
    "| column     | type     |\n",
    "| ---------- | -------- |\n",
    "| id         | integer  |\n",
    "| user_id    | integer  |\n",
    "| created_at | datetime |\n",
    "| product_id | integer  |\n",
    "| quantity   | integer  |\n",
    "\n",
    "We're given a table of product purchases. Each row in the table represents an individual user product purchase.\n",
    "\n",
    "Write a query to get the number of customers that were upsold by purchasing additional products.\n",
    "\n",
    "Note that if the customer purchased two things on the same day that does not count as an upsell as they were purchased within a similar timeframe.\n",
    "\n",
    "Output:\n",
    "\n",
    "| column                  | type    |\n",
    "| ----------------------- | ------- |\n",
    "| num_of_upsold_customers | integer |\n",
    "\n",
    "My solution:\n",
    "\n",
    "Got the right answer, but one of the test cases isn't working for some reason.\n",
    "\n",
    "```sql\n",
    "with groupings as (\n",
    "    select\n",
    "        user_id\n",
    "        , month(created_at) as month\n",
    "        , date(created_at) as date\n",
    "    from transactions\n",
    "    group by 2, 3\n",
    "    having count(user_id) > 1\n",
    ")\n",
    "\n",
    "select count(distinct user_id) as num_of_upsold_customers\n",
    "from groupings\n",
    "```"
   ]
  },
  {
   "cell_type": "markdown",
   "metadata": {},
   "source": [
    "### Download Facts\n",
    "\n",
    "\n",
    "> On [Interview Query](https://www.interviewquery.com/questions/download-facts)\n",
    "\n",
    "user_dimension table\n",
    "\n",
    "| column     | type |\n",
    "| ---------- | ---- |\n",
    "| user_id    | int  |\n",
    "| account_id | int  |\n",
    "\n",
    "account_dimension table\n",
    "\n",
    "| column          | type    |\n",
    "| --------------- | ------- |\n",
    "| account_id      | int     |\n",
    "| paying_customer | boolean |\n",
    "\n",
    "download_facts table\n",
    "\n",
    "| column    | type |\n",
    "| --------- | ---- |\n",
    "| date      | date |\n",
    "| user_id   | int  |\n",
    "| downloads | int  |\n",
    "\n",
    "Given three tables: user_dimension, account_dimension, and download_facts, find the average number of downloads for free vs paying customers broken out by day.\n",
    "\n",
    "Note: The account_dimension table maps users to multiple accounts where they could be a paying customer or not. Also, round average_downloads to 2 decimal places.\n",
    "\n",
    "Output:\n",
    "\n",
    "| column            | type    |\n",
    "| ----------------- | ------- |\n",
    "| date              | date    |\n",
    "| paying_customer   | boolean |\n",
    "| average_downloads | float   |\n",
    "\n",
    "First pass:\n",
    "\n",
    "```sql\n",
    "with user_accounts as (\n",
    "    select\n",
    "        max(u.account_id) as account_id\n",
    "        , u.user_id\n",
    "        , max(paying_customer) as paying_customer\n",
    "    from user_dimension u\n",
    "    join account_dimension a\n",
    "        on u.account_id = a.account_id\n",
    "    group by 2\n",
    ")\n",
    "\n",
    "select\n",
    "    date\n",
    "    , paying_customer\n",
    "    , round(avg(downloads), 2) as average_downloads\n",
    "from user_accounts u\n",
    "join download_facts d\n",
    "    on u.user_id = d.user_id\n",
    "group by date, paying_customer\n",
    "order by 1, 2\n",
    "```\n",
    "\n",
    "Second pass, with help from the solution:\n",
    "\n",
    "```sql\n",
    "select\n",
    "    date\n",
    "    , paying_customer\n",
    "    , round(sum(downloads)/count(distinct u.user_id), 2) as average_downloads\n",
    "from user_dimension u\n",
    "inner join account_dimension a\n",
    "    on u.account_id = a.account_id\n",
    "left join download_facts d\n",
    "    on d.user_id = u.user_id\n",
    "group by 1, 2\n",
    "```\n"
   ]
  },
  {
   "cell_type": "code",
   "execution_count": null,
   "metadata": {},
   "outputs": [],
   "source": []
  },
  {
   "cell_type": "code",
   "execution_count": null,
   "metadata": {},
   "outputs": [],
   "source": []
  },
  {
   "cell_type": "code",
   "execution_count": null,
   "metadata": {},
   "outputs": [],
   "source": []
  },
  {
   "cell_type": "code",
   "execution_count": null,
   "metadata": {},
   "outputs": [],
   "source": []
  },
  {
   "cell_type": "code",
   "execution_count": null,
   "metadata": {},
   "outputs": [],
   "source": []
  },
  {
   "cell_type": "code",
   "execution_count": null,
   "metadata": {},
   "outputs": [],
   "source": []
  },
  {
   "cell_type": "code",
   "execution_count": null,
   "metadata": {},
   "outputs": [],
   "source": []
  },
  {
   "cell_type": "code",
   "execution_count": null,
   "metadata": {},
   "outputs": [],
   "source": []
  },
  {
   "cell_type": "code",
   "execution_count": null,
   "metadata": {},
   "outputs": [],
   "source": []
  },
  {
   "cell_type": "code",
   "execution_count": null,
   "metadata": {},
   "outputs": [],
   "source": []
  }
 ],
 "metadata": {
  "kernelspec": {
   "display_name": "Python 3.7.6 64-bit ('vela': pipenv)",
   "language": "python",
   "name": "python37664bitvelapipenvde09592071074af6a70ce3b1ce38af95"
  },
  "language_info": {
   "codemirror_mode": {
    "name": "ipython",
    "version": 3
   },
   "file_extension": ".py",
   "mimetype": "text/x-python",
   "name": "python",
   "nbconvert_exporter": "python",
   "pygments_lexer": "ipython3",
   "version": "3.7.6"
  }
 },
 "nbformat": 4,
 "nbformat_minor": 4
}
