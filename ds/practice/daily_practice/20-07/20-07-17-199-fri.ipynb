{
 "cells": [
  {
   "cell_type": "markdown",
   "metadata": {},
   "source": [
    "# 20-07-17: Daily Practice"
   ]
  },
  {
   "cell_type": "markdown",
   "metadata": {},
   "source": [
    "---\n",
    "---\n",
    "\n",
    "## Daily practices\n",
    "\n",
    "* [x] [Meta-data: reading & writing](#Meta-data:-reading-&-writing)\n",
    "* [ ] [Practice & learn](#Practice-&-learn)\n",
    "  * [ ] Coding, algorithms & data structures\n",
    "  * [ ] Data science: access, manipulation, analysis, visualization\n",
    "  * [x] Engineering: SQL, PySpark, APIs, TDD, OOP\n",
    "  * [x] Machine learning: Scikit-learn, TensorFlow, PyTorch\n",
    "  * [ ] Interview questions (out loud)\n",
    "* [x] [2-Hour Job Search](#2-Hour-Job-Search)\n",
    "  * [ ] LAMP List\n",
    "  * [x] Networking\n",
    "  * [x] Social media\n",
    "  * [ ] Job applications"
   ]
  },
  {
   "cell_type": "markdown",
   "metadata": {},
   "source": [
    "---\n",
    "---\n",
    "\n",
    "## Meta-data: reading & writing"
   ]
  },
  {
   "cell_type": "markdown",
   "metadata": {},
   "source": [
    "### Reading: Data Science Design Manual\n",
    "\n",
    "#### Introduction\n",
    "\n",
    "Fundamental principles of becoming a good data scientist:\n",
    "\n",
    "* Valuing doing the simple things right\n",
    "  * Understanding the application domain\n",
    "  * Cleaning and integrating relevant data sources\n",
    "  * Presenting your results clearly to others\n",
    "* Developing mathematical intuition\n",
    "  * Particularly statistics and linear algebra\n",
    "  * Why the concepts were developed, how they are useful, and when they work best\n",
    "* Think like a computer scientist, but act like a statistician\n",
    "\n",
    "#### Chapter 2: Mathematical Preliminaries\n",
    "\n",
    "##### Probability\n",
    "\n",
    "* An experiment is a procedure yielding one of a set of possible outcomes\n",
    "* A _sample space_ $S$ is the set of possible outcomes of an experiment\n",
    "* An _event_ $E$ is a specified subset of the outcomes of an experiment\n",
    "* THe _probability or an outcome_ $s$, denoted $p(s)$, is a number with two properties\n",
    "  * For each outcome $s$ in sample space $S$, $0 \\leq p(s) \\leq 1$\n",
    "  * The sum of probabilities of all outcomes sums to one\n",
    "* The _probability of an event_ $E$ is the sum of the probabilities of the outcomes of the experiment\n",
    "* A _random variable_ $V$ is a numerical function on the outcomes of a probability space\n",
    "* The _expected value_ of a random variable $V$ defined on sample space $S$ is ... (equation)\n",
    "\n",
    "###### Probability vs. Statistics\n",
    "\n",
    "* Probability deals with predicting the likelihood of future events; theoretical math\n",
    "* Statistics involves the analysis of the frequency of past events; applied math\n",
    "* Probability theory enables us to find the consequences of a given ideal world\n",
    "* Statistical theory enables us to measure the extent to which our world is ideal\n",
    "\n",
    "###### Compound Events and Independence\n",
    "\n",
    "* Events A and B are independent if and only if (prob of intersection of A and B is equal to prob of A times prob of B):\n",
    "\n",
    "${P(A \\bigcap B) = P(A) \\times P(B)}$"
   ]
  },
  {
   "cell_type": "markdown",
   "metadata": {},
   "source": [
    "### Writing: Image Segmentation Blog Post\n",
    "\n",
    "More work on the blog post - second draft is almost done. I started porting it over to the actual blog but ended up losing my work because of Cloudflare pooping its pants in the middle of it. Luckily I keep the post notebook up to date as much as possible.\n",
    "\n",
    "This process is making me realize how convenient it would be to use something like Fastpages to build the blog, as I could literally just publish the notebooks and the posts would get built from them.\n",
    "\n",
    "Something to think about."
   ]
  },
  {
   "cell_type": "markdown",
   "metadata": {},
   "source": [
    "---\n",
    "---\n",
    "\n",
    "## Practice & learn"
   ]
  },
  {
   "cell_type": "markdown",
   "metadata": {},
   "source": [
    "---\n",
    "\n",
    "### Coding, algorithms & data structures"
   ]
  },
  {
   "cell_type": "code",
   "execution_count": null,
   "metadata": {},
   "outputs": [],
   "source": []
  },
  {
   "cell_type": "markdown",
   "metadata": {},
   "source": [
    "---\n",
    "\n",
    "### Interview questions"
   ]
  },
  {
   "cell_type": "code",
   "execution_count": null,
   "metadata": {},
   "outputs": [],
   "source": []
  },
  {
   "cell_type": "markdown",
   "metadata": {},
   "source": [
    "---\n",
    "\n",
    "### Data science"
   ]
  },
  {
   "cell_type": "code",
   "execution_count": null,
   "metadata": {},
   "outputs": [],
   "source": []
  },
  {
   "cell_type": "markdown",
   "metadata": {},
   "source": [
    "---\n",
    "\n",
    "### Engineering"
   ]
  },
  {
   "cell_type": "markdown",
   "metadata": {},
   "source": [
    "More coding in the blog post notebook."
   ]
  },
  {
   "cell_type": "markdown",
   "metadata": {},
   "source": [
    "---\n",
    "\n",
    "### Machine learning"
   ]
  },
  {
   "cell_type": "code",
   "execution_count": null,
   "metadata": {},
   "outputs": [],
   "source": []
  },
  {
   "cell_type": "markdown",
   "metadata": {},
   "source": [
    "---\n",
    "---\n",
    "\n",
    "## 2-Hour Job Search"
   ]
  },
  {
   "cell_type": "markdown",
   "metadata": {},
   "source": [
    "More online networking via LinkedIn, though not as much as I'd have liked."
   ]
  },
  {
   "cell_type": "markdown",
   "metadata": {},
   "source": []
  },
  {
   "cell_type": "markdown",
   "metadata": {},
   "source": []
  },
  {
   "cell_type": "markdown",
   "metadata": {},
   "source": []
  },
  {
   "cell_type": "markdown",
   "metadata": {},
   "source": []
  },
  {
   "cell_type": "markdown",
   "metadata": {},
   "source": []
  },
  {
   "cell_type": "markdown",
   "metadata": {},
   "source": []
  },
  {
   "cell_type": "markdown",
   "metadata": {},
   "source": []
  }
 ],
 "metadata": {
  "kernelspec": {
   "display_name": "Python 3.7.6 64-bit ('vela': pipenv)",
   "language": "python",
   "name": "python37664bitvelapipenvde09592071074af6a70ce3b1ce38af95"
  },
  "language_info": {
   "codemirror_mode": {
    "name": "ipython",
    "version": 3
   },
   "file_extension": ".py",
   "mimetype": "text/x-python",
   "name": "python",
   "nbconvert_exporter": "python",
   "pygments_lexer": "ipython3",
   "version": "3.7.6"
  }
 },
 "nbformat": 4,
 "nbformat_minor": 4
}
