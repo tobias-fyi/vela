{
 "cells": [
  {
   "cell_type": "markdown",
   "metadata": {},
   "source": [
    "# A Curious Moon\n",
    "\n",
    "> Rob Conery\n",
    "\n",
    "Notes by _Tobias Reaper_"
   ]
  },
  {
   "cell_type": "markdown",
   "metadata": {},
   "source": [
    "---\n",
    "---\n",
    "\n",
    "## Chapter 1 - Enceladus"
   ]
  },
  {
   "cell_type": "markdown",
   "metadata": {},
   "source": [
    "### ETL\n",
    "\n",
    "Extraction: Pulling relevant data out of various systems.\n",
    "\n",
    "Transformation\n",
    "\n",
    "* Correct typing\n",
    "* Completeness\n",
    "* Accuracy - numbers are within the range of what is to be expected\n",
    "\n",
    "Loading: Push data into nicely normalized tables so it can be queried.\n",
    "\n",
    "Increasing order of complexity:\n",
    "\n",
    "1. Shell scripts / Make files until the complexity forces a slow-down\n",
    "2. Use Python until transform / loading times are too long\n",
    "3. Push to a system like Kafka\n",
    "\n",
    "An important note:\n",
    "\n",
    "> Import everything as `text` - add types later. Get everything in the database first; everything else can wait."
   ]
  },
  {
   "cell_type": "markdown",
   "metadata": {},
   "source": [
    "```sql\n",
    "drop table if exists master_plan;\n",
    "create table master_plan(\n",
    "  start_time_utc text,\n",
    "  duration text,\n",
    "  date text,\n",
    "  team text,\n",
    "  spass_type text,\n",
    "  target text,\n",
    "  request_name text,\n",
    "  library_definition text,\n",
    "  title text,\n",
    "  description text\n",
    ");\n",
    "COPY master_plan\n",
    "FROM '/Users/Tobias/workshop/vela/ds/kb/books/curious_moon/cassini_data/data/master_plan.csv' WITH DELIMITER ',' HEADER CSV;\n",
    "```"
   ]
  },
  {
   "cell_type": "markdown",
   "metadata": {},
   "source": [
    "### Schema\n",
    "\n",
    "Postgres' hierarchical schema:\n",
    "\n",
    "* Cluster\n",
    "* Database\n",
    "* One or more schemas - the default is public\n",
    "* Tables, views, functions, and other relations - these are all attached to a schema\n",
    "\n",
    "Added this to the top (and near the bottom) of the script:\n",
    "\n",
    "```sql\n",
    "create schema if not exists import;\n",
    "drop table if exists import.master_plan;\n",
    "create table import.master_plan(\n",
    "  ...\n",
    ");\n",
    "COPY import.master_plan\n",
    "...\n",
    "```"
   ]
  },
  {
   "cell_type": "markdown",
   "metadata": {},
   "source": [
    "### Makefile\n",
    "\n",
    "* Targets are the actual artifacts or processes that will happen\n",
    "* The build happens with a recipe - basically a shell command\n",
    "* Prerequisites can be specified\n",
    "\n",
    "```Makefile\n",
    "DB=enceladus\n",
    "BUILD=${CURDIR}/build.sql\n",
    "SCRIPTS=${CURDIR}/scripts\n",
    "CSV='${CURDIR}/data/master_plan.csv'\n",
    "MASTER=$(SCRIPTS)/import.sql\n",
    "NORMALIZE=$(SCRIPTS)/normalize.sql\n",
    "\n",
    "all: normalize\n",
    "    psql $(DB) -f $(BUILD)\n",
    "\n",
    "master:\n",
    "    @cat $(MASTER) >> $(BUILD)\n",
    "\n",
    "import: master\n",
    "    @echo \"COPY import.master_plan FROM $(CSV) WITH DELIMITER ',' HEADER CSV;\" >> $(BUILD)\n",
    "\n",
    "normalize: import\n",
    "    @cat $(NORMALIZE) >> $(BUILD)\n",
    "\n",
    "clean:\n",
    "    @rm -rf $(BUILD)\n",
    "```"
   ]
  },
  {
   "cell_type": "markdown",
   "metadata": {},
   "source": [
    "* Running `make` will execute the `all` target\n",
    "* `all` depends on `normalize`, which depends on `import`...etc.\n",
    "* Each one adds a bit os SQL to build.sql except for `clean`\n",
    "\n",
    "Key point here is that the various components of the SQL script can be split into separate files.\n",
    "\n",
    "* `import.sql` : creates import schema and loads the CSV\n",
    "* `normalize.sql` : split the import table into lookups, etc."
   ]
  },
  {
   "cell_type": "markdown",
   "metadata": {},
   "source": [
    "### Review and solifidy\n",
    "\n",
    "> Record myself explaining (ELI5) the following topics:\n",
    "\n",
    "* [ ] Creating schema and tables\n",
    "* [ ] Loading CSVs\n",
    "* [ ] Writing a Makefile"
   ]
  },
  {
   "cell_type": "markdown",
   "metadata": {},
   "source": [
    "---\n",
    "---\n",
    "\n",
    "## Chapter 2 -  In Orbit"
   ]
  },
  {
   "cell_type": "markdown",
   "metadata": {},
   "source": [
    "### Normalization\n",
    "\n",
    "Here are the columns in `master_plan.csv`:\n",
    "\n",
    "* start_time_utc\n",
    "* duration\n",
    "* date\n",
    "* team\n",
    "* spass_type\n",
    "* target\n",
    "* request_name\n",
    "* library_definition\n",
    "* title\n",
    "* description\n",
    "\n",
    "Focusing on removing string repetition, 5 lookup tables can be created:\n",
    "\n",
    "* teams\n",
    "* spass_types\n",
    "* targets\n",
    "* requests\n",
    "* library_definitions\n",
    "\n",
    "To build a lookup table, three things are needed:\n",
    "\n",
    "1. Get all distinct values in the import table\n",
    "2. Create a new table using this data\n",
    "3. Add a primary key for use with a foreign key constraint\n",
    "\n",
    "The source table for each of the lookup tables is called a `fact` table. This type of structure is known as a `star schema`."
   ]
  },
  {
   "cell_type": "markdown",
   "metadata": {},
   "source": [
    "### Importing Events\n",
    "\n",
    "To start, create a fact table called `events` in the public schema:\n",
    "\n",
    "```sql\n",
    "create table events(\n",
    "  id serial primary key,\n",
    "  time_stamp timestamptz not null,\n",
    "  title varchar(500),\n",
    "  description text,\n",
    "  event_type_id int,\n",
    "  spass_type_id int,\n",
    "  target_id int,\n",
    "  team_id int,\n",
    "  request_id int\n",
    ");\n",
    "```\n",
    "\n",
    "And insert data into it:\n",
    "\n",
    "```sql\n",
    "insert into events(\n",
    "  time_stamp,\n",
    "  title,\n",
    "  description\n",
    ")\n",
    "\n",
    "select\n",
    "  import.master_plan.date::timestamptz,\n",
    "  import.master_plan.title,\n",
    "  import.master_plan.description\n",
    "from import.master_plan;\n",
    "```"
   ]
  },
  {
   "cell_type": "markdown",
   "metadata": {},
   "source": [
    "Which gives an error:\n",
    "\n",
    "    psql:events.sql:23: ERROR:  date/time field value out of range: \"29-Feb-14\"\n",
    "\n",
    "Postgres stores all dates as UTC. They get converted to timezones when queried:\n",
    "\n",
    "    Tobias=# select '2020-01-01'::timestamptz;\n",
    "        timestamptz\n",
    "    ------------------------\n",
    "    2020-01-01 00:00:00-08\n",
    "    (1 row)\n",
    "\n",
    "Cast any date and time using `at time zone X`:\n",
    "\n",
    "    Tobias=# select '2020-01-01'::timestamptz at time zone 'UTC';\n",
    "        timezone\n",
    "    ---------------------\n",
    "    2020-01-01 08:00:00\n",
    "    (1 row)\n"
   ]
  },
  {
   "cell_type": "markdown",
   "metadata": {},
   "source": [
    "### Lookup tables\n",
    "\n",
    "Get distinct values for each of the lookup tables with `distinct`, sending the results into a new table with `into`.\n",
    "\n"
   ]
  },
  {
   "cell_type": "code",
   "execution_count": null,
   "metadata": {},
   "outputs": [],
   "source": []
  },
  {
   "cell_type": "code",
   "execution_count": null,
   "metadata": {},
   "outputs": [],
   "source": []
  },
  {
   "cell_type": "markdown",
   "metadata": {},
   "source": [
    "### Review and solifidy\n",
    "\n",
    "> Record myself explaining (ELI5) the following topics\n",
    "\n",
    "* [ ] Ch 1 topic 1\n",
    "* [ ] Ch 1 topic 2\n",
    "* [ ] ..."
   ]
  },
  {
   "cell_type": "code",
   "execution_count": null,
   "metadata": {},
   "outputs": [],
   "source": []
  },
  {
   "cell_type": "code",
   "execution_count": null,
   "metadata": {},
   "outputs": [],
   "source": []
  },
  {
   "cell_type": "code",
   "execution_count": null,
   "metadata": {},
   "outputs": [],
   "source": []
  }
 ],
 "metadata": {
  "kernelspec": {
   "display_name": "Python 3.7.6 64-bit ('vela': pipenv)",
   "language": "python",
   "name": "python37664bitvelapipenvde09592071074af6a70ce3b1ce38af95"
  },
  "language_info": {
   "codemirror_mode": {
    "name": "ipython",
    "version": 3
   },
   "file_extension": ".py",
   "mimetype": "text/x-python",
   "name": "python",
   "nbconvert_exporter": "python",
   "pygments_lexer": "ipython3",
   "version": "3.7.6"
  }
 },
 "nbformat": 4,
 "nbformat_minor": 4
}