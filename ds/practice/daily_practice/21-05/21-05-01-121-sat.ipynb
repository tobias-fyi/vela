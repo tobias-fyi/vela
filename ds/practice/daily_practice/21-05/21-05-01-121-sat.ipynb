{
 "metadata": {
  "language_info": {
   "codemirror_mode": {
    "name": "ipython",
    "version": 3
   },
   "file_extension": ".py",
   "mimetype": "text/x-python",
   "name": "python",
   "nbconvert_exporter": "python",
   "pygments_lexer": "ipython3",
   "version": 3
  },
  "orig_nbformat": 2
 },
 "nbformat": 4,
 "nbformat_minor": 2,
 "cells": [
  {
   "source": [
    "# 2021-05-01 Daily Practice\n",
    "\n",
    "- [ ] Practice: algorithms and data structures\n",
    "- [ ] Learn: Data Science Design Manual\n",
    "- [ ] Write: tobias.fyi or Contact Section\n",
    "- [ ] Build: Savor (Data)"
   ],
   "cell_type": "markdown",
   "metadata": {}
  },
  {
   "source": [
    "---\n",
    "\n",
    "## Learn\n",
    "\n",
    "> Data Science Design Manual\n",
    "\n",
    "Finished reading chapter 2 – Correlation Analysis and Logarithms – and started on the exercises."
   ],
   "cell_type": "markdown",
   "metadata": {}
  },
  {
   "source": [
    "---\n",
    "\n",
    "## Build\n",
    "\n",
    "> [Savor Dash](https://github.com/tobias-fyi/savor-dash)\n",
    "\n",
    "I finished a first pass of the pipeline that will be used in the back end of the Savor dashboard app to retrieve and wrangle the data to be manipulated and displayed on the front end. Figured out a decent method of converting IDs to names for the related tables, and spent another while fiddling with datetimes. Ended up using a DatetimeIndex that will make it easy to group by specific time periods, such as day and week.\n",
    "\n",
    "Next time, I'll build out a toy example of the visualization that I want to have in the first iteration of the app."
   ],
   "cell_type": "markdown",
   "metadata": {}
  },
  {
   "cell_type": "code",
   "execution_count": null,
   "metadata": {},
   "outputs": [],
   "source": []
  }
 ]
}