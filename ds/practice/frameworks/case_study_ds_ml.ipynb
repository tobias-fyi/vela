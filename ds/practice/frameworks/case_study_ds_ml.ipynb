{
 "cells": [
  {
   "cell_type": "markdown",
   "metadata": {},
   "source": [
    "# Case Study Problem Solving Framework\n",
    "\n",
    "## Data Science and Machine Learning\n",
    "\n",
    "by Tobias Reaper"
   ]
  },
  {
   "cell_type": "markdown",
   "metadata": {},
   "source": [
    "---\n",
    "---\n",
    "\n",
    "## Outline\n",
    "\n",
    "1. Frame the problem\n",
    "2. Prepare and explore the data\n",
    "3. Evaluate several different models\n",
    "4. Deploy the best model to production"
   ]
  },
  {
   "cell_type": "markdown",
   "metadata": {},
   "source": [
    "---\n",
    "---\n",
    "\n",
    "## 1. Frame the Problem\n",
    "\n",
    "> The first step in the process is to keep asking \"Why?\" until all of the important constraints, tradeoffs, etc. are defined enough that the process will actually solve the correct problem.\n",
    "\n",
    "* Why does this problem matter?\n",
    "  * Don't ask directly, but get to the answer of \"What is the business model?\"\n",
    "    * Or, what perspective to take on the tradeoffs / costs\n",
    "  * How will this model be used?\n",
    "* What's the measure of success?"
   ]
  },
  {
   "cell_type": "markdown",
   "metadata": {},
   "source": [
    "---\n",
    "---\n",
    "\n",
    "## 2. Prepare and explore the data\n",
    "\n",
    "* Data types\n",
    "* Data ranges\n",
    "* Distributions\n",
    "  * Discrete or continuous?\n",
    "  * Can I transform the data such that it becomes linear?\n",
    "  * Mean vs median; or, how much of an effect do the outliers have?\n",
    "  * How can outliers be dealt with — which would be best and why?\n",
    "* Feature relationships\n",
    "  * Correlations\n",
    "  * Multicollinearity\n",
    "  * Chi-squared\n",
    "  * Plots"
   ]
  },
  {
   "cell_type": "markdown",
   "metadata": {},
   "source": [
    "---\n",
    "---\n",
    "\n",
    "## 3. Evaluate several different models\n",
    "\n",
    "* How to create a train-val split?\n",
    "* ELI5 the model/algorithm choices\n",
    "* What are the tradeoffs of each type of model?\n",
    "  * What are the most important considerations (tradeoffs) given the business case?\n",
    "  * Or, justify the choice of models to validate\n",
    "* How will the models be evaluated?\n",
    "  * What evaluation metrics can be used?\n",
    "  * What are the tradeoffs/ differences?\n",
    "  * Which one should be used and why?"
   ]
  },
  {
   "cell_type": "markdown",
   "metadata": {},
   "source": [
    "---\n",
    "---\n",
    "\n",
    "## 4. Decide on and deploy model to production\n",
    "\n",
    "* Decide on a model for production\n",
    "* Justify the choice of final model\n",
    "  * What are the tradeoffs as far as complexity, efficiency (memory and computation)?\n",
    "* Explain how the model will be used\n",
    "  * What can be done to make it more useful to / usable by the end user?"
   ]
  },
  {
   "cell_type": "markdown",
   "metadata": {},
   "source": []
  },
  {
   "cell_type": "markdown",
   "metadata": {},
   "source": []
  },
  {
   "cell_type": "markdown",
   "metadata": {},
   "source": []
  },
  {
   "cell_type": "markdown",
   "metadata": {},
   "source": []
  },
  {
   "cell_type": "markdown",
   "metadata": {},
   "source": []
  },
  {
   "cell_type": "markdown",
   "metadata": {},
   "source": []
  },
  {
   "cell_type": "markdown",
   "metadata": {},
   "source": []
  },
  {
   "cell_type": "markdown",
   "metadata": {},
   "source": []
  },
  {
   "cell_type": "markdown",
   "metadata": {},
   "source": []
  },
  {
   "cell_type": "markdown",
   "metadata": {},
   "source": []
  }
 ],
 "metadata": {
  "kernelspec": {
   "display_name": "Python 3.7.6 64-bit ('vela': pipenv)",
   "language": "python",
   "name": "python37664bitvelapipenvde09592071074af6a70ce3b1ce38af95"
  },
  "language_info": {
   "codemirror_mode": {
    "name": "ipython",
    "version": 3
   },
   "file_extension": ".py",
   "mimetype": "text/x-python",
   "name": "python",
   "nbconvert_exporter": "python",
   "pygments_lexer": "ipython3",
   "version": "3.7.6"
  }
 },
 "nbformat": 4,
 "nbformat_minor": 4
}
