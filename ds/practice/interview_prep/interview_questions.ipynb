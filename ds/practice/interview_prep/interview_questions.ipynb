{
 "cells": [
  {
   "cell_type": "markdown",
   "metadata": {},
   "source": [
    "# Data Science Interview Prep\n",
    "\n",
    "Interview questions and practice problems."
   ]
  },
  {
   "cell_type": "markdown",
   "metadata": {},
   "source": [
    "---\n",
    "---\n",
    "\n",
    "## Table of Contents\n",
    "\n",
    "* [Probability](#probability)\n",
    "  * [Fundamentals](#fundamentals)\n",
    "  * [Combinatorics](#combinatorics)\n",
    "  * [Bayesian Inference](#bayesian-inference)\n",
    "  * [Distributions](#distributions)\n",
    "* [Statistics](#statistics)\n",
    "  * [Population and Sample](#population-and-sample)\n",
    "  * [Descriptive Statistics](#descriptive-statistics)\n",
    "  * [Inferential Statistics](#inferential-statistics)\n",
    "  * [Hypothesis Testing](#hypothesis-testing)\n",
    "* [Regression](#regression)\n",
    "  * [Linear Regression](#linear-regression)\n",
    "  * [Logistic Regression](#logistic-regression)\n",
    "  * [Non-Linear Regression](#non-linear-regression)\n",
    "* [Data Engineering](#data-engineering)\n",
    "  * [SQL](#sql)\n",
    "* [Python](#python)\n",
    "  * [Pandas](#pandas)\n",
    "  * [NumPy](#numpy)\n",
    "  * [Scikit-learn](#scikit-learn)\n",
    "* [Machine Learning](#machine-learning)\n",
    "  * [Predictive Modeling](#predictive-modeling)\n",
    "  * [Natural Language Processing](#natural-language-processing)\n",
    "  * [Neural Networks](#neural-networks)"
   ]
  },
  {
   "cell_type": "markdown",
   "metadata": {},
   "source": [
    "---\n",
    "---\n",
    "\n",
    "## Resources\n",
    "\n",
    "* [Data Science Interview Questions](https://github.com/alexeygrigorev/data-science-interviews)\n",
    "* How to Ace Data Science Interviews\n",
    "  * [SQL](https://towardsdatascience.com/how-to-ace-data-science-interviews-sql-b71de212e433)\n",
    "  * [Statistics](https://towardsdatascience.com/how-to-ace-data-science-interviews-statistics-f3d363ad47b)\n",
    "* [109 Practice Questions](https://www.springboard.com/blog/data-science-interview-questions/)\n",
    "* [Over 100 DS Qs and As](https://towardsdatascience.com/over-100-data-scientist-interview-questions-and-answers-c5a66186769a)\n",
    "* [100+ DS interview Qs for 2020](https://www.mygreatlearning.com/blog/most-common-data-science-interview-questions?utm_source=SlackPOS1)"
   ]
  },
  {
   "cell_type": "markdown",
   "metadata": {},
   "source": [
    "---\n",
    "---\n",
    "\n",
    "## Probability"
   ]
  },
  {
   "cell_type": "markdown",
   "metadata": {},
   "source": [
    "---\n",
    "\n",
    "### Fundamentals\n",
    "\n",
    "* Basic probability formula\n",
    "* Expected values\n",
    "* Frequency\n",
    "* Events and complements"
   ]
  },
  {
   "cell_type": "markdown",
   "metadata": {},
   "source": [
    "* What is the probability of winning a 3 out of 5 coin toss?"
   ]
  },
  {
   "cell_type": "markdown",
   "metadata": {},
   "source": [
    "---\n",
    "\n",
    "### Combinatorics\n",
    "\n",
    "* Permutations\n",
    "* Factorial operations\n",
    "* Variation with/without repetition\n",
    "* Combinations\n",
    "  * Symmetry of combinations\n",
    "  * Combinations with separate sample spaces"
   ]
  },
  {
   "cell_type": "markdown",
   "metadata": {},
   "source": []
  },
  {
   "cell_type": "markdown",
   "metadata": {},
   "source": [
    "---\n",
    "\n",
    "### Bayesian Inference\n",
    "\n",
    "* Sets and events\n",
    "* Sets interactions\n",
    "  * Intersection\n",
    "  * Union\n",
    "  * Mutuall-exclusive\n",
    "  * Dependence and independence\n",
    "* Conditional probability formula\n",
    "* The Law of Total Probability\n",
    "* The Additive Rule\n",
    "* The Multiplication Law\n",
    "* Bayes' Law"
   ]
  },
  {
   "cell_type": "markdown",
   "metadata": {},
   "source": []
  },
  {
   "cell_type": "markdown",
   "metadata": {},
   "source": [
    "---\n",
    "\n",
    "### Distributions\n",
    "\n",
    "* Discrete\n",
    "  * Characteristics\n",
    "  * Uniform\n",
    "  * Bernoulli\n",
    "  * Binomial\n",
    "  * Poisson\n",
    "* Continuous\n",
    "  * Normal\n",
    "  * Standard Normal\n",
    "  * Students' T-distribution\n",
    "  * Chi-squared\n",
    "  * Exponential\n",
    "  * Logistic"
   ]
  },
  {
   "cell_type": "markdown",
   "metadata": {},
   "source": [
    "---\n",
    "---\n",
    "\n",
    "## Statistics"
   ]
  },
  {
   "cell_type": "markdown",
   "metadata": {},
   "source": [
    "---\n",
    "\n",
    "### Descriptive Statistics\n",
    "\n",
    "* Types of Data\n",
    "* Levels of Measurement\n",
    "* Categorical Variables\n",
    "* Numerical Variables\n",
    "* Histogram\n",
    "* Cross Tables and Scatter Plots\n",
    "* Mean, Median, and Mode\n",
    "* Skewness\n",
    "* Variance\n",
    "* Standard Deviation and Coefficient of Variation\n",
    "* Covariance\n",
    "* Correlation Coefficient"
   ]
  },
  {
   "cell_type": "markdown",
   "metadata": {},
   "source": []
  },
  {
   "cell_type": "markdown",
   "metadata": {},
   "source": [
    "---\n",
    "\n",
    "### Inferential Statistics\n",
    "\n",
    "* Population and Sample\n",
    "* Distributions\n",
    "  * Normal Distribution\n",
    "  * Standard Normal\n",
    "  * Central Limit Theorem\n",
    "  * Standard Error\n",
    "  * Estimators and Estimates\n",
    "* Confidence Intervals\n",
    "  * Population Variance Known: Z-Score\n",
    "  * Student's T-Distribution\n",
    "  * Population Variance Unknown: T-Score\n",
    "  * Margin of Error\n",
    "  * Confidence Intervals: Two Means, Dependent\n",
    "  * Confidence Intervals: Two Means, Independent"
   ]
  },
  {
   "cell_type": "markdown",
   "metadata": {},
   "source": [
    "* What is the central limit theorem and why is it important?\n",
    "* What is sampling? Explain two different sampling methods.\n",
    "* What is a statistical interaction?"
   ]
  },
  {
   "cell_type": "markdown",
   "metadata": {},
   "source": [
    "---\n",
    "\n",
    "### Hypothesis Testing\n",
    "\n",
    "* Framework for experiment design\n",
    "* Null vs Alternative Hypothesis\n",
    "* Rejection Region and Significance Level\n",
    "* Type I and Type II Error\n",
    "* Test for the Mean: Known Population Variance\n",
    "* P-Value\n",
    "* Test for the Mean: Unknown Population Variance\n",
    "* Test for the Mean: Dependent Samples\n",
    "* Test for the Mean: Independent Samples"
   ]
  },
  {
   "cell_type": "markdown",
   "metadata": {},
   "source": [
    "#### Framework for Experimental Design\n",
    "\n",
    "1. Formulate the research question\n",
    "2. Identify variables: independent vs dependent\n",
    "3. Generate hypothesis\n",
    "4. Determine experimental design\n",
    "    * How am I going to test the hypothesis?\n",
    "    * What variables will be involved?\n",
    "5. Develop experimental task & procedure\n",
    "    * What algorithms and techniques best support the experiment design\n",
    "6. Detemine data manipulation & measurements\n",
    "7. Analyze results"
   ]
  },
  {
   "cell_type": "markdown",
   "metadata": {},
   "source": [
    "* Explain how you'd design an experiment to determine user behavior.\n",
    "* What is the difference between type I / type II errors?"
   ]
  },
  {
   "cell_type": "markdown",
   "metadata": {},
   "source": [
    "---\n",
    "---\n",
    "\n",
    "## Regression"
   ]
  },
  {
   "cell_type": "markdown",
   "metadata": {},
   "source": [
    "* What is regression?\n",
    "  * Which models can be used to solve a regression problem?"
   ]
  },
  {
   "cell_type": "markdown",
   "metadata": {},
   "source": [
    "---\n",
    "\n",
    "### Linear Regression"
   ]
  },
  {
   "cell_type": "markdown",
   "metadata": {},
   "source": [
    "* What is linear regression?\n",
    "  * For the following terms, meaning and significance:\n",
    "    * p-value?\n",
    "    * coefficient?\n",
    "    * r-squared?\n",
    "  * What are the assumptions required for linear regression?"
   ]
  },
  {
   "cell_type": "markdown",
   "metadata": {},
   "source": [
    "---\n",
    "\n",
    "### Logistic Regression"
   ]
  },
  {
   "cell_type": "markdown",
   "metadata": {},
   "source": []
  },
  {
   "cell_type": "markdown",
   "metadata": {},
   "source": [
    "---\n",
    "\n",
    "### Non-Linear Regression"
   ]
  },
  {
   "cell_type": "markdown",
   "metadata": {},
   "source": []
  },
  {
   "cell_type": "markdown",
   "metadata": {},
   "source": [
    "---\n",
    "---\n",
    "\n",
    "## Machine Learning"
   ]
  },
  {
   "cell_type": "markdown",
   "metadata": {},
   "source": [
    "* How are supervised and unsupervised machine learning algorithms different?\n",
    "* What is the bias-variance tradeoff?"
   ]
  },
  {
   "cell_type": "markdown",
   "metadata": {},
   "source": [
    "---\n",
    "\n",
    "### Model validation"
   ]
  },
  {
   "cell_type": "markdown",
   "metadata": {},
   "source": [
    "* What is overfitting?\n",
    "* How can a model be validated?\n",
    "  * Why should a dataset be split into train, val, test?\n",
    "* Explain how (k-fold) cross-validation works"
   ]
  },
  {
   "cell_type": "markdown",
   "metadata": {},
   "source": [
    "---\n",
    "\n",
    "### Classification"
   ]
  },
  {
   "cell_type": "markdown",
   "metadata": {},
   "source": []
  },
  {
   "cell_type": "markdown",
   "metadata": {},
   "source": [
    "---\n",
    "\n",
    "### Regularization"
   ]
  },
  {
   "cell_type": "markdown",
   "metadata": {},
   "source": []
  },
  {
   "cell_type": "markdown",
   "metadata": {},
   "source": [
    "---\n",
    "\n",
    "### Feature selection"
   ]
  },
  {
   "cell_type": "markdown",
   "metadata": {},
   "source": []
  },
  {
   "cell_type": "markdown",
   "metadata": {},
   "source": [
    "---\n",
    "\n",
    "### Natural language processing"
   ]
  },
  {
   "cell_type": "markdown",
   "metadata": {},
   "source": []
  },
  {
   "cell_type": "markdown",
   "metadata": {},
   "source": [
    "---\n",
    "\n",
    "### Neural networks and deep learning"
   ]
  },
  {
   "cell_type": "markdown",
   "metadata": {},
   "source": [
    "* What is gradient descent and how does it work?\n",
    "  * What is SGD  —  stochastic gradient descent? What’s the difference with the usual gradient descent?\n",
    "* What layers make up a CNN?"
   ]
  },
  {
   "cell_type": "markdown",
   "metadata": {},
   "source": [
    "---\n",
    "---\n",
    "\n",
    "## Technical / Engineering"
   ]
  },
  {
   "cell_type": "markdown",
   "metadata": {},
   "source": [
    "---\n",
    "\n",
    "### Python\n",
    "\n",
    "* Pandas\n",
    "* NumPy\n",
    "* Scikit-learn\n",
    "* TensorFlow/PyTorch"
   ]
  },
  {
   "cell_type": "markdown",
   "metadata": {},
   "source": []
  },
  {
   "cell_type": "markdown",
   "metadata": {},
   "source": [
    "---\n",
    "\n",
    "### SQL"
   ]
  },
  {
   "cell_type": "markdown",
   "metadata": {},
   "source": []
  },
  {
   "cell_type": "markdown",
   "metadata": {},
   "source": [
    "---\n",
    "---\n",
    "\n",
    "## General / Unclassified\n"
   ]
  },
  {
   "cell_type": "markdown",
   "metadata": {},
   "source": [
    "* What are 5 predictions you have for the next 20 years?\n",
    "* What is survivorship bias and why is it important?\n",
    "* How are extrapolation and interpolation different?"
   ]
  },
  {
   "cell_type": "markdown",
   "metadata": {},
   "source": []
  },
  {
   "cell_type": "markdown",
   "metadata": {},
   "source": []
  },
  {
   "cell_type": "markdown",
   "metadata": {},
   "source": []
  },
  {
   "cell_type": "markdown",
   "metadata": {},
   "source": []
  },
  {
   "cell_type": "markdown",
   "metadata": {},
   "source": []
  },
  {
   "cell_type": "markdown",
   "metadata": {},
   "source": []
  }
 ],
 "metadata": {
  "kernelspec": {
   "display_name": "Python 3.7.6 64-bit ('vela': pipenv)",
   "language": "python",
   "name": "python37664bitvelapipenvde09592071074af6a70ce3b1ce38af95"
  },
  "language_info": {
   "codemirror_mode": {
    "name": "ipython",
    "version": 3
   },
   "file_extension": ".py",
   "mimetype": "text/x-python",
   "name": "python",
   "nbconvert_exporter": "python",
   "pygments_lexer": "ipython3",
   "version": "3.7.6"
  }
 },
 "nbformat": 4,
 "nbformat_minor": 4
}
