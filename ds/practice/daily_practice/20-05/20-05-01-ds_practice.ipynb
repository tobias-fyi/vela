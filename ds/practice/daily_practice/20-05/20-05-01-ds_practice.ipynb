{
 "cells": [
  {
   "cell_type": "markdown",
   "metadata": {},
   "source": [
    "# 20-05-01: Daily Data Practice\n",
    "\n",
    "---\n",
    "\n",
    "### Daily Practices\n",
    "\n",
    "* Meta Data: Review and write\n",
    "  * Focus on a topic, review notes and resources, write a blog post about it\n",
    "* HackerRank SQL or Packt SQL Data Analytics\n",
    "* Practice with the common DS/ML tools and processes\n",
    "  * Try to hit benchmark accuracies with [UCI ML datasets](https://archive.ics.uci.edu/ml/index.php)\n",
    "  * Hands-on ML with sklearn, Keras, and TensorFlow\n",
    "  * Kaggle\n",
    "* Interviewing\n",
    "  * \"Tell me a bit about yourself\"\n",
    "  * \"Tell me about a project you've worked on and are proud of\"\n",
    "  * Business case walk-throughs\n",
    "  * Hot-seat DS-related topics for recall practice (under pressure)\n",
    "* Job sourcing\n",
    "  * LinkedIn"
   ]
  },
  {
   "cell_type": "markdown",
   "metadata": {},
   "source": [
    "---\n",
    "\n",
    "### DS + ML Practice\n",
    "\n",
    "* Pick a dataset and try to do X with it\n",
    "  * Try to hit benchmark accuracies with [UCI ML datasets](https://archive.ics.uci.edu/ml/index.php)\n",
    "  * Kaggle\n",
    "* Practice with the common DS/ML tools and processes\n",
    "  * Hands-on ML with sklearn, Keras, and TensorFlow\n",
    "  * Machine learning flashcards\n",
    "\n",
    "#### _The goal is to be comfortable explaining the entire process._\n",
    "\n",
    "* Data access / sourcing, cleaning\n",
    "  * SQL\n",
    "  * Pandas\n",
    "  * Exploratory data analysis\n",
    "  * Data wrangling techniques and processes\n",
    "* Inference\n",
    "  * Statistics\n",
    "  * Probability\n",
    "  * Visualization\n",
    "* Modeling\n",
    "  * Implement + justify choice of model / algorithm\n",
    "  * Track performance + justify choice of metrics\n",
    "    * Communicate results as relevant to the goal"
   ]
  },
  {
   "cell_type": "markdown",
   "metadata": {},
   "source": [
    "---\n",
    "\n",
    "### Hands-On ML (book)\n",
    "\n",
    "OverView of general high-level concepts, because it's always good to review the basics.\n",
    "\n",
    "##### Machine Learning is great for\n",
    "\n",
    "* Problems for which existing solutions require lots of hand-tweaking or long rules lists\n",
    "* Complex problems for which there is no good solution at all using traditional methods\n",
    "* Fluctuating environments, as ML systems can adapt to new data\n",
    "* Gaining insights about complex problems and large amounts of data"
   ]
  },
  {
   "cell_type": "markdown",
   "metadata": {},
   "source": [
    "### Types of ML systems\n",
    "\n",
    "#### 1. Classified by their need for supervision\n",
    "\n",
    "* Supervised\n",
    "  * Training data includes the labels / targets\n",
    "  * Classification or target prediction\n",
    "  * Some of the more common / important supervised learning algorithms:\n",
    "    * k-Nearest Neighbors\n",
    "    * Linear Regression\n",
    "    * Logistic Regression\n",
    "    * Support Vector Machines (SVM)\n",
    "    * Decision Trees and Random Forests\n",
    "    * Neural Networks (though some types of NN can be unsupervised or semisupervised)\n",
    "* Unsupervised\n",
    "  * Training data is unlabeled\n",
    "  * The most important / common unsupervised learning algorithms:\n",
    "    * Clustering\n",
    "      * K-Means\n",
    "      * DBSCAN\n",
    "      * Hierarchical Cluster Analysis (HCA)\n",
    "    * Anomaly detection and novelty detection\n",
    "      * One-class SVM\n",
    "      * Isolation Forest\n",
    "    * Visualization and dimensionality reduction\n",
    "      * Principal Component Analysis (PCA)\n",
    "      * Kernel PCA\n",
    "      * Locally-Linear Embedding (LLE)\n",
    "      * t-distributed Stochastic Neighbor Embedding (t-SNE)\n",
    "    * Association rule learning\n",
    "      * Apriori\n",
    "      * Eclat\n",
    "* Semisupervised\n",
    "  * Usually a lot of unlabeled data and a little labeled\n",
    "  * Most semisupervised algorithms are combinations of unsupervised and supervised\n",
    "* Reinforcement\n",
    "  * An agent takes actions and gets rewards / penalties, learns on its own the best strategy (policy)\n",
    "  * Policy: defines what action the agent should choose in a given situation\n",
    "  * An example would be a robot learning how to walk, or AlphaGo learning to play Go\n",
    "\n",
    "#### 2. Classified by their ability to learn incrementally\n",
    "\n",
    "> Batch and Online Learning\n",
    "\n",
    "_Can the system learn incrementally from a stream of incoming data?_\n",
    "\n",
    "##### Batch learning\n",
    "\n",
    "In batch learning, no, that is not the case. Generally the system will be trained separately from deployment. The steps can be automated, but can be a waste of resources to retrain on old data every time.\n",
    "\n",
    "##### Online (incremental) learning\n",
    "\n",
    "Train the system incrementally, either with individual data or in small groups / mini-batches. Good for continuous flows of data and for systems with limited computing resources. Online training also helps when the dataset is too large to fit into a single machine.\n",
    "\n",
    "#### 3. Classified by how they generalize to new data\n",
    "\n",
    "> Instance-based vs Model-based learning\n",
    "\n",
    "_How does the model generalize to new data?_\n",
    "\n",
    "##### Instance-based\n",
    "\n",
    "Generalizes to new data by comparing against the learned examples, using some kind of similarity measure.\n",
    "\n",
    "##### Model-based\n",
    "\n",
    "Build a model of the training examples and use it to make predictions. Select a model and performance measure, which will be either a utility function (how good the model is) or a cost function (how bad it is).\n",
    "\n",
    "#### Basic steps of an ML project\n",
    "\n",
    "1. Study / clean / wrangle the data\n",
    "2. Select a model\n",
    "3. Train the model\n",
    "4. Use the model for inference"
   ]
  },
  {
   "cell_type": "markdown",
   "metadata": {},
   "source": [
    "#### Challenges of ML\n",
    "\n",
    "_Bad algorithm and/or bad data._\n",
    "\n",
    "* Not enough data (more data > better algorithms)\n",
    "* Nonrepresentative training data\n",
    "\n",
    "> ## Left off for now in the 'Main Challenges' section"
   ]
  },
  {
   "cell_type": "markdown",
   "metadata": {},
   "source": []
  },
  {
   "cell_type": "markdown",
   "metadata": {},
   "source": []
  },
  {
   "cell_type": "markdown",
   "metadata": {},
   "source": []
  },
  {
   "cell_type": "markdown",
   "metadata": {},
   "source": [
    "---\n",
    "\n",
    "### Writing\n",
    "\n",
    "> Focus on a topic or project, learn/review the concepts, and write a blog post about it\n",
    "\n"
   ]
  },
  {
   "cell_type": "markdown",
   "metadata": {},
   "source": []
  },
  {
   "cell_type": "markdown",
   "metadata": {},
   "source": [
    "---\n",
    "\n",
    "### SQL\n",
    "\n",
    "> Work through practice problems on HackerRank or Packt"
   ]
  },
  {
   "cell_type": "markdown",
   "metadata": {},
   "source": []
  },
  {
   "cell_type": "markdown",
   "metadata": {},
   "source": [
    "---\n",
    "\n",
    "### Interviewing\n",
    "\n",
    "> Practice answering the most common interview questions\n",
    "\n",
    "* \"Tell me a bit about yourself\"\n",
    "* \"Tell me about a project you've worked on and are proud of\"\n",
    "* Business case walk-throughs\n",
    "* Hot-seat DS-related topics for recall practice (under pressure)"
   ]
  },
  {
   "cell_type": "markdown",
   "metadata": {},
   "source": []
  },
  {
   "cell_type": "markdown",
   "metadata": {},
   "source": [
    "---\n",
    "\n",
    "### Job sourcing\n",
    "\n",
    "> Browse LinkedIn, Indeed, and connections for promising leads"
   ]
  },
  {
   "cell_type": "markdown",
   "metadata": {},
   "source": []
  },
  {
   "cell_type": "markdown",
   "metadata": {},
   "source": []
  },
  {
   "cell_type": "markdown",
   "metadata": {},
   "source": []
  },
  {
   "cell_type": "markdown",
   "metadata": {},
   "source": []
  },
  {
   "cell_type": "markdown",
   "metadata": {},
   "source": []
  },
  {
   "cell_type": "markdown",
   "metadata": {},
   "source": []
  },
  {
   "cell_type": "markdown",
   "metadata": {},
   "source": []
  },
  {
   "cell_type": "markdown",
   "metadata": {},
   "source": []
  },
  {
   "cell_type": "markdown",
   "metadata": {},
   "source": []
  },
  {
   "cell_type": "markdown",
   "metadata": {},
   "source": []
  },
  {
   "cell_type": "markdown",
   "metadata": {},
   "source": []
  },
  {
   "cell_type": "markdown",
   "metadata": {},
   "source": []
  },
  {
   "cell_type": "markdown",
   "metadata": {},
   "source": []
  },
  {
   "cell_type": "markdown",
   "metadata": {},
   "source": []
  }
 ],
 "metadata": {
  "kernelspec": {
   "display_name": "Python 3.7.6 64-bit ('vela': pipenv)",
   "language": "python",
   "name": "python37664bitvelapipenvde09592071074af6a70ce3b1ce38af95"
  },
  "language_info": {
   "codemirror_mode": {
    "name": "ipython",
    "version": 3
   },
   "file_extension": ".py",
   "mimetype": "text/x-python",
   "name": "python",
   "nbconvert_exporter": "python",
   "pygments_lexer": "ipython3",
   "version": "3.7.6"
  }
 },
 "nbformat": 4,
 "nbformat_minor": 4
}
