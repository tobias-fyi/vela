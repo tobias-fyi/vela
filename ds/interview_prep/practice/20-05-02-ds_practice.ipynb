{
 "cells": [
  {
   "cell_type": "markdown",
   "metadata": {},
   "source": [
    "# 20-05-02: Daily Data Practice\n",
    "\n",
    "---\n",
    "\n",
    "### Daily Practices\n",
    "\n",
    "* Meta Data: Review and write\n",
    "  * Focus on a topic, review notes and resources, write a blog post about it\n",
    "* HackerRank SQL or Packt SQL Data Analytics\n",
    "* Practice with the common DS/ML tools and processes\n",
    "  * Try to hit benchmark accuracies with [UCI ML datasets](https://archive.ics.uci.edu/ml/index.php)\n",
    "  * Hands-on ML with sklearn, Keras, and TensorFlow\n",
    "    * Read, write notes, and test yourself\n",
    "  * [fast.ai course](https://course.fast.ai/)\n",
    "  * Kaggle\n",
    "* Interviewing\n",
    "  * \"Tell me a bit about yourself\"\n",
    "  * \"Tell me about a project you've worked on and are proud of\"\n",
    "  * Business case walk-throughs\n",
    "  * Hot-seat DS-related topics for recall practice (under pressure)\n",
    "* Job sourcing\n",
    "  * LinkedIn"
   ]
  },
  {
   "cell_type": "markdown",
   "metadata": {},
   "source": [
    "---\n",
    "\n",
    "### DS + ML Practice\n",
    "\n",
    "* Pick a dataset and try to do X with it\n",
    "  * Try to hit benchmark accuracies with [UCI ML datasets](https://archive.ics.uci.edu/ml/index.php)\n",
    "  * Kaggle\n",
    "* Practice with the common DS/ML tools and processes\n",
    "  * Hands-on ML with sklearn, Keras, and TensorFlow\n",
    "  * Machine learning flashcards\n",
    "\n",
    "#### _The goal is to be comfortable explaining the entire process._\n",
    "\n",
    "* Data access / sourcing, cleaning\n",
    "  * SQL\n",
    "  * Pandas\n",
    "  * Exploratory data analysis\n",
    "  * Data wrangling techniques and processes\n",
    "* Inference\n",
    "  * Statistics\n",
    "  * Probability\n",
    "  * Visualization\n",
    "* Modeling\n",
    "  * Implement + justify choice of model / algorithm\n",
    "  * Track performance + justify choice of metrics\n",
    "    * Communicate results as relevant to the goal"
   ]
  },
  {
   "cell_type": "markdown",
   "metadata": {},
   "source": [
    "## Hands-on ML (reading)\n",
    "\n",
    "### Chapter 1 Exercises (test yourself)\n",
    "\n",
    "1. How would you define Machine Learning?\n",
    "2. Can you name four types of problems where it shines?\n",
    "3. What is a labeled training set?\n",
    "4. What are the two most common supervised tasks?\n",
    "5. Can you name four common unsupervised tasks?\n",
    "6. What type of ML algorithm would you use to allow a robot to walk in various unknown terrains?\n",
    "7. What type of algorithm would you use to segment your customers into groups?\n",
    "8. Would you frame the problem of spam detection as supervised or unsupervised?\n",
    "9. What is an online learning system?\n",
    "10. What is out-of-core learning?\n",
    "11. What type of learning algorithm relies on a similarity measure to make predictions?\n",
    "12. What is the difference between a model parameter and a learning algo’s hyperparameter?\n",
    "13. What do model-based learning algorithms search for? What is the most common strategy they use to succeed? How do they make predictions?\n",
    "14. Can you name four of the main challenges in ML?\n",
    "15. If your model performs great on the training data but generalizes poorly to new instances, what is happening? Can you name three possible solutions?\n",
    "16. What is a test set and why would you want to use it?\n",
    "17. What is the purpose of a validation set?\n",
    "18. What can go wrong if you tune hyperparameters using the test set?\n",
    "19. What is repeated cross-validation and why would you prefer it to using a single validation set?"
   ]
  },
  {
   "cell_type": "markdown",
   "metadata": {},
   "source": [
    "1. How would you define Machine Learning?\n",
    "\n",
    "Machine Learning is the practice of creating and utilizing algorithms that find patterns in (\"learn\" from) data in order to solve problems, without being explicitly programmed for that purpose.\n",
    "\n",
    "> ML is about making machines better at some task by learning from data rather than from explicitly programming rules.\n",
    "\n",
    "2. Can you name four types of problems where it shines?\n",
    "\n",
    "* Problems that usually require lots of fine-tuning and adjustment\n",
    "* Problems for which traditional methods and algorithms cannot get good solutions\n",
    "* Dynamic environments that require the algorithms to react / adapt to new data\n",
    "* Problems that require gaining insight on complex problems with large amounts of data\n",
    "\n",
    "3. What is a labeled training set?\n",
    "\n",
    "It is a dataset that is labeled with the desired outcome for each instance, necessary for supervised learning.\n",
    "\n",
    "4. What are the two most common supervised tasks?\n",
    "\n",
    "* Regression\n",
    "* Classification\n",
    "\n",
    "5. Can you name four common unsupervised tasks?\n",
    "\n",
    "* Clustering\n",
    "* Association rule learning\n",
    "* Anomaly detection\n",
    "* Visualization / Dimensionality reduction\n",
    "\n",
    "6. What type of ML algorithm would you use to allow a robot to walk in various unknown terrains?\n",
    "\n",
    "Reinforcement learning.\n",
    "\n",
    "7. What type of algorithm would you use to segment your customers into groups?\n",
    "\n",
    "To segment customers into groups, I would go with a clustering algorithm such as k-means clustering, which is unsupervised.\n",
    "\n",
    "8. Would you frame the problem of spam detection as supervised or unsupervised?\n",
    "\n",
    "I would consider spam detection to be a supervised problem because the algorithm needs to be trained with examples labeled as spam.\n",
    "\n",
    "9. What is an online learning system?\n",
    "\n",
    "An online learning system is one that learns incrementally, either from individual instances or mini-batches.\n",
    "\n",
    "10. What is out-of-core learning?\n",
    "\n",
    "Out-of-core learning happens when the dataset is too large to fit onto a single machine, and so must be done in chunks, some of which may happen outside of the \"core\" of any of the machines.\n",
    "\n",
    "11. What type of learning algorithm relies on a similarity measure to make predictions?\n",
    "\n",
    "Instance-based learning algorithms, such as k-Nearest Neighbors, rely on similarity measures to make predictions.\n",
    "\n",
    "12. What is the difference between a model parameter and a learning algo's hyperparameter?\n",
    "\n",
    "A model's parameter values are the output of the model that minimize the cost function, whereas the hyperparameters are the parameters that adjust how the model is trained. As such, the hyperparameters are not affected by the model itself — they are set prior to training and are constant throughout.\n",
    "\n",
    "13. What do model-based learning algorithms search for? What is the most common strategy they use to succeed? How do they make predictions?\n",
    "\n",
    "Model-based learning algorithms search for parameters that minimize a cost function. Typically the cost function is a measure of the distance between the predictions and the training examples. The models make predictions based on the input.\n",
    "\n",
    "14. Can you name four of the main challenges in ML?\n",
    "\n",
    "* Bad data\n",
    "  * Not enough data\n",
    "  * Non-representative\n",
    "  * Biased (sampling bias)\n",
    "  * Poor quality\n",
    "  * Irrelevant features\n",
    "* Bad algorithm\n",
    "  * Overfitting / underfitting\n",
    "\n",
    "15. If your model performs great on the training data but generalizes poorly to new instances, what is happening? Can you name three possible solutions?\n",
    "\n",
    "If a model performs great on the training data but generalizes poorly, that means it's been overfitted to the training data.\n",
    "Solutions:\n",
    "\n",
    "* Simplify the model by reducing the number of model parameters, reducing the number of attributes / features, or constaining the model (regularization)\n",
    "* Gather more training data\n",
    "* Reduce the noise in the training data\n",
    "\n",
    "16. What is a test set and why would you want to use it?\n",
    "\n",
    "A test set is a portion of the training data set aside to test the performance of the model \"out of sample\", or how well it generalizes to instances that were not in its training data. Using a test set allows the engineer to evaluate how well the model generalizes, and so is essential for creating a robust model.\n",
    "\n",
    "17. What is the purpose of a validation set?\n",
    "\n",
    "A validation set is used to iterate with a model while tuning its hyperparameters. The purpose of this is to evaluate many different models with different hyperparameters and selecting the best one.\n",
    "\n",
    "18. What can go wrong if you tune hyperparameters using the test set?\n",
    "\n",
    "If the model is tuned to the test set, it will overfit the test data, and therefore may not generalize well to new instances. In other words, it will be tuned to be the best model / hyperparameter for that particular set.\n",
    "\n",
    "19. What is repeated cross-validation and why would you prefer it to using a single validation set?\n",
    "\n",
    "Repeated cross-validation allows multiple runs of an iteration to be averaged. Averaging out the evaluations of each model provides a more accurate measure of its performance."
   ]
  },
  {
   "cell_type": "markdown",
   "metadata": {},
   "source": []
  },
  {
   "cell_type": "markdown",
   "metadata": {},
   "source": []
  },
  {
   "cell_type": "markdown",
   "metadata": {},
   "source": []
  },
  {
   "cell_type": "markdown",
   "metadata": {},
   "source": []
  },
  {
   "cell_type": "markdown",
   "metadata": {},
   "source": [
    "---\n",
    "\n",
    "### Writing\n",
    "\n",
    "> Focus on a topic or project, learn/review the concepts, and write a blog post about it\n",
    "\n"
   ]
  },
  {
   "cell_type": "markdown",
   "metadata": {},
   "source": []
  },
  {
   "cell_type": "markdown",
   "metadata": {},
   "source": [
    "---\n",
    "\n",
    "### SQL\n",
    "\n",
    "> Work through practice problems on HackerRank or Packt"
   ]
  },
  {
   "cell_type": "markdown",
   "metadata": {},
   "source": []
  },
  {
   "cell_type": "markdown",
   "metadata": {},
   "source": [
    "---\n",
    "\n",
    "### Interviewing\n",
    "\n",
    "> Practice answering the most common interview questions\n",
    "\n",
    "* \"Tell me a bit about yourself\"\n",
    "* \"Tell me about a project you've worked on and are proud of\"\n",
    "* Business case walk-throughs\n",
    "* Hot-seat DS-related topics for recall practice (under pressure)"
   ]
  },
  {
   "cell_type": "markdown",
   "metadata": {},
   "source": []
  },
  {
   "cell_type": "markdown",
   "metadata": {},
   "source": [
    "---\n",
    "\n",
    "### Job sourcing\n",
    "\n",
    "> Browse LinkedIn, Indeed, and connections for promising leads"
   ]
  },
  {
   "cell_type": "markdown",
   "metadata": {},
   "source": []
  },
  {
   "cell_type": "markdown",
   "metadata": {},
   "source": []
  },
  {
   "cell_type": "markdown",
   "metadata": {},
   "source": []
  },
  {
   "cell_type": "markdown",
   "metadata": {},
   "source": []
  },
  {
   "cell_type": "markdown",
   "metadata": {},
   "source": []
  },
  {
   "cell_type": "markdown",
   "metadata": {},
   "source": []
  },
  {
   "cell_type": "markdown",
   "metadata": {},
   "source": []
  },
  {
   "cell_type": "markdown",
   "metadata": {},
   "source": []
  },
  {
   "cell_type": "markdown",
   "metadata": {},
   "source": []
  },
  {
   "cell_type": "markdown",
   "metadata": {},
   "source": []
  },
  {
   "cell_type": "markdown",
   "metadata": {},
   "source": []
  },
  {
   "cell_type": "markdown",
   "metadata": {},
   "source": []
  },
  {
   "cell_type": "markdown",
   "metadata": {},
   "source": []
  },
  {
   "cell_type": "markdown",
   "metadata": {},
   "source": []
  }
 ],
 "metadata": {
  "kernelspec": {
   "display_name": "Python 3.7.6 64-bit ('vela': pipenv)",
   "language": "python",
   "name": "python37664bitvelapipenvde09592071074af6a70ce3b1ce38af95"
  },
  "language_info": {
   "codemirror_mode": {
    "name": "ipython",
    "version": 3
   },
   "file_extension": ".py",
   "mimetype": "text/x-python",
   "name": "python",
   "nbconvert_exporter": "python",
   "pygments_lexer": "ipython3",
   "version": "3.7.6"
  }
 },
 "nbformat": 4,
 "nbformat_minor": 4
}
