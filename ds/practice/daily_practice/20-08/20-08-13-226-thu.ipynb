{
 "cells": [
  {
   "cell_type": "markdown",
   "metadata": {},
   "source": [
    "# 20-08-13: Daily Practice"
   ]
  },
  {
   "cell_type": "markdown",
   "metadata": {},
   "source": [
    "---\n",
    "---\n",
    "\n",
    "## Practices"
   ]
  },
  {
   "cell_type": "markdown",
   "metadata": {},
   "source": [
    "### Daily\n",
    "\n",
    "* [x] [Job Search](#2-Hour-Job-Search)\n",
    "  * [ ] 2HJS progress\n",
    "  * [x] Network\n",
    "  * [x] Social media\n",
    "* [ ] [Meta-data: read & write](#Meta-data:-reading-&-writing)\n",
    "* [x] [Practice & learn](#Practice-&-learn)\n",
    "  * [ ] Coding, algorithms & data structures\n",
    "  * [x] Brain teasers\n",
    "  * [ ] Interviewing, STAR storytelling\n",
    "  * [x] Data science: access, manipulation, analysis, visualization\n",
    "  * [x] Machine learning: Scikit-learn, TensorFlow, PyTorch\n",
    "  * [ ] Engineering: SQL, PySpark, APIs, TDD, OOP"
   ]
  },
  {
   "cell_type": "markdown",
   "metadata": {},
   "source": [
    "### Weekly\n",
    "\n",
    "Vim command(s) I'll get familiar with this week:\n",
    "\n",
    "* `:s/find/replace/flags`\n",
    "* `:%s` - entire file\n",
    "  * `:%s/find/replace/g`\n",
    "  * `:%s/find/replace/gc` (confirm before replacing)\n",
    "* `:s` - current line only\n",
    "  * `:s/find/replace/gc`\n",
    "* Specific range of lines\n",
    "  * `:36,42s/find/replace/g`"
   ]
  },
  {
   "cell_type": "markdown",
   "metadata": {},
   "source": [
    "---\n",
    "---\n",
    "\n",
    "## 2-Hour Job Search"
   ]
  },
  {
   "cell_type": "markdown",
   "metadata": {},
   "source": []
  },
  {
   "cell_type": "markdown",
   "metadata": {},
   "source": []
  },
  {
   "cell_type": "markdown",
   "metadata": {},
   "source": []
  },
  {
   "cell_type": "markdown",
   "metadata": {},
   "source": []
  },
  {
   "cell_type": "markdown",
   "metadata": {},
   "source": [
    "---\n",
    "---\n",
    "\n",
    "## Meta-data: read & write"
   ]
  },
  {
   "cell_type": "markdown",
   "metadata": {},
   "source": []
  },
  {
   "cell_type": "markdown",
   "metadata": {},
   "source": []
  },
  {
   "cell_type": "markdown",
   "metadata": {},
   "source": [
    "---\n",
    "---\n",
    "\n",
    "## Practice & learn"
   ]
  },
  {
   "cell_type": "markdown",
   "metadata": {},
   "source": [
    "---\n",
    "\n",
    "### Coding, algorithms & data structures"
   ]
  },
  {
   "cell_type": "code",
   "execution_count": null,
   "metadata": {},
   "outputs": [],
   "source": []
  },
  {
   "cell_type": "markdown",
   "metadata": {},
   "source": [
    "---\n",
    "\n",
    "> A box has 12 red cards and 12 black cards. Another box has 24 red cards and 24 black cards. You want to draw two cards at random from one of the two boxes, one card at a time. Which box has a higher probability of getting cards of the same color and why?"
   ]
  },
  {
   "cell_type": "markdown",
   "metadata": {},
   "source": [
    "The 24x24 box has a higher probability of taking out two cards of the same color in a row.\n",
    "\n",
    "In the 12x12 deck, when one is taken out, the resulting probability of taking one out of the same color is:\n",
    "\n",
    "$\\frac{11}{11+12} = \\frac{11}{23} = 0.478$\n",
    "\n",
    "And in the 24x24 deck:\n",
    "\n",
    "$\\frac{23}{23+24} = \\frac{23}{47} = 0.489$"
   ]
  },
  {
   "cell_type": "markdown",
   "metadata": {},
   "source": [
    "---\n",
    "\n",
    "> You are at a casino and have two dice to play with. You win \\$10 every time you roll a 5. If you play till you win and then stop, what is the expected payout?\n",
    "\n",
    "Assume the cost of playing is \\$2 per game."
   ]
  },
  {
   "cell_type": "code",
   "execution_count": 10,
   "metadata": {},
   "outputs": [
    {
     "name": "stdout",
     "output_type": "stream",
     "text": [
      "36\n",
      "4\n",
      "Probability of rolling 5: 1/9\n"
     ]
    }
   ],
   "source": [
    "# Find total combinations and number that equal five\n",
    "total = 0\n",
    "fives = 0\n",
    "\n",
    "for d1 in range(1, 7):\n",
    "    for d2 in range(1, 7):\n",
    "        total += 1\n",
    "        if d1 + d2 == 5:\n",
    "            fives += 1\n",
    "            \n",
    "print(total)\n",
    "print(fives)\n",
    "print(f\"Probability of rolling 5: {fives//4}/{total//4}\")"
   ]
  },
  {
   "cell_type": "code",
   "execution_count": 18,
   "metadata": {},
   "outputs": [
    {
     "name": "stdout",
     "output_type": "stream",
     "text": [
      "-8\n"
     ]
    }
   ],
   "source": [
    "# Calculate expected payout\n",
    "cost = -2\n",
    "payout = 10\n",
    "\n",
    "exp_payout = ((fives//4) * payout) + ((total//4) * cost)\n",
    "print(exp_payout)"
   ]
  },
  {
   "cell_type": "markdown",
   "metadata": {},
   "source": [
    "---\n",
    "\n",
    "> How can you tell if a given coin is biased?"
   ]
  },
  {
   "cell_type": "markdown",
   "metadata": {},
   "source": [
    "A simple hypothesis test can be run to determine if a coin is biased. A coin toss is a binomial distribution, and a fair coin should see both sides come up with equal frequency.\n",
    "\n",
    "The null hypothesis is that the coin is not biased, and therefore the probability of flipping heads is 0.5. The alternative hypothesis is that the coin is biased, and therefore has a probability of flipping heads **not** equal to 0.5.\n",
    "\n",
    "To test this, the given coin could be tossed 1,000 times. The data from this experiment (which side comes up each time) can be averaged to give the approximate probability of each side landing up.\n",
    "\n",
    "Calculate the z-score of the test, and compare the p-value against the alpha (two-sample t-test - alpha = 0.025). If p-value is less than alpha, then reject the null hypothesis and conclude that the coin is biased. Otherwise, accept the null that the coin is not biased."
   ]
  },
  {
   "cell_type": "markdown",
   "metadata": {},
   "source": [
    "---\n",
    "\n",
    "> Make an unfair coin fair."
   ]
  },
  {
   "cell_type": "markdown",
   "metadata": {},
   "source": [
    "A coin toss has a binary result. An unfair coin can be made fair by flipping it twice and betting on both sides coming up.\n",
    "\n",
    "$P(heads) \\times P(tails) = P(tails) \\times P(heads)$"
   ]
  },
  {
   "cell_type": "markdown",
   "metadata": {},
   "source": [
    "---\n",
    "\n",
    "> You are about to get on a plane to London, you want to know whether you have to bring an umbrella or not. You randomly call three of your friends and ask each one of them if it's raining. The probability that your friend is telling the truth is 2/3 and the probability that they are playing a prank on you by lying is 1/3.\n",
    "\n",
    "> If all 3 of them tell you that it is raining, then what is the probability that it is actually raining in London?"
   ]
  },
  {
   "cell_type": "markdown",
   "metadata": {},
   "source": [
    "Assume that the probability of it raining in London on any given day is 25% or 0.25.\n",
    "\n",
    "* P(A) = proba of rain = 0.25\n",
    "* P(B) = proba that all 3 friends say it's raining\n",
    "* P(A|B) = proba that it's raining given they say it's raining\n",
    "* P(B|A) = proba that all 3 say it's raining given it is actually raining = (2/3)^3 = 8/27\n",
    "\n",
    "Step 1: Solve for P(B)  \n",
    "\n",
    "$P(A|B) = \\frac{P(B|A) \\times P(A)}{P(B)}$  \n",
    "\n",
    "$P(B) = (P(B|A) \\times P(A)) + (P(B\\neg A) \\times P(\\neg A))$  \n",
    "\n",
    "$P(B) = (\\frac{2}{3}^3 \\times 0.25) + (\\frac{1}{3}^3 \\times 0.75) = (0.25 \\times \\frac{8}{27}) + (0.75 \\times \\frac{1}{27})$  \n",
    "\n",
    "Step 2: Solve for P(A|B)\n",
    "\n",
    "$P(A|B) = \\frac{0.25 \\times \\frac{8}{27}}{(0.25 \\times \\frac{8}{27}) + (0.75 \\times \\frac{1}{27})}$\n",
    "\n",
    "$P(A|B) = \\frac{8}{8 + 3} = \\frac{8}{11}$"
   ]
  },
  {
   "cell_type": "markdown",
   "metadata": {},
   "source": [
    "---\n",
    "\n",
    "You are given 40 cards with four different colors: 10 green, 10 red, 10 blue, and 10 yellow. The cards of each color are numbered from one to ten. Two cards are picked at random. Find the probability that the cards picked do not have the same number and same color."
   ]
  },
  {
   "cell_type": "code",
   "execution_count": 26,
   "metadata": {},
   "outputs": [
    {
     "data": {
      "text/html": [
       "<div>\n",
       "<style scoped>\n",
       "    .dataframe tbody tr th:only-of-type {\n",
       "        vertical-align: middle;\n",
       "    }\n",
       "\n",
       "    .dataframe tbody tr th {\n",
       "        vertical-align: top;\n",
       "    }\n",
       "\n",
       "    .dataframe thead th {\n",
       "        text-align: right;\n",
       "    }\n",
       "</style>\n",
       "<table border=\"1\" class=\"dataframe\">\n",
       "  <thead>\n",
       "    <tr style=\"text-align: right;\">\n",
       "      <th></th>\n",
       "      <th>green</th>\n",
       "      <th>red</th>\n",
       "      <th>blue</th>\n",
       "      <th>yellow</th>\n",
       "    </tr>\n",
       "  </thead>\n",
       "  <tbody>\n",
       "    <tr>\n",
       "      <th>0</th>\n",
       "      <td>1</td>\n",
       "      <td>1</td>\n",
       "      <td>1</td>\n",
       "      <td>1</td>\n",
       "    </tr>\n",
       "    <tr>\n",
       "      <th>1</th>\n",
       "      <td>2</td>\n",
       "      <td>2</td>\n",
       "      <td>2</td>\n",
       "      <td>2</td>\n",
       "    </tr>\n",
       "    <tr>\n",
       "      <th>2</th>\n",
       "      <td>3</td>\n",
       "      <td>3</td>\n",
       "      <td>3</td>\n",
       "      <td>3</td>\n",
       "    </tr>\n",
       "    <tr>\n",
       "      <th>3</th>\n",
       "      <td>4</td>\n",
       "      <td>4</td>\n",
       "      <td>4</td>\n",
       "      <td>4</td>\n",
       "    </tr>\n",
       "    <tr>\n",
       "      <th>4</th>\n",
       "      <td>5</td>\n",
       "      <td>5</td>\n",
       "      <td>5</td>\n",
       "      <td>5</td>\n",
       "    </tr>\n",
       "    <tr>\n",
       "      <th>5</th>\n",
       "      <td>6</td>\n",
       "      <td>6</td>\n",
       "      <td>6</td>\n",
       "      <td>6</td>\n",
       "    </tr>\n",
       "    <tr>\n",
       "      <th>6</th>\n",
       "      <td>7</td>\n",
       "      <td>7</td>\n",
       "      <td>7</td>\n",
       "      <td>7</td>\n",
       "    </tr>\n",
       "    <tr>\n",
       "      <th>7</th>\n",
       "      <td>8</td>\n",
       "      <td>8</td>\n",
       "      <td>8</td>\n",
       "      <td>8</td>\n",
       "    </tr>\n",
       "    <tr>\n",
       "      <th>8</th>\n",
       "      <td>9</td>\n",
       "      <td>9</td>\n",
       "      <td>9</td>\n",
       "      <td>9</td>\n",
       "    </tr>\n",
       "    <tr>\n",
       "      <th>9</th>\n",
       "      <td>10</td>\n",
       "      <td>10</td>\n",
       "      <td>10</td>\n",
       "      <td>10</td>\n",
       "    </tr>\n",
       "  </tbody>\n",
       "</table>\n",
       "</div>"
      ],
      "text/plain": [
       "   green  red  blue  yellow\n",
       "0      1    1     1       1\n",
       "1      2    2     2       2\n",
       "2      3    3     3       3\n",
       "3      4    4     4       4\n",
       "4      5    5     5       5\n",
       "5      6    6     6       6\n",
       "6      7    7     7       7\n",
       "7      8    8     8       8\n",
       "8      9    9     9       9\n",
       "9     10   10    10      10"
      ]
     },
     "execution_count": 26,
     "metadata": {},
     "output_type": "execute_result"
    }
   ],
   "source": [
    "# Set up a dataframe to visualize this\n",
    "import pandas as pd\n",
    "import numpy as np\n",
    "\n",
    "cols = [\"green\", \"red\", \"blue\", \"yellow\"]\n",
    "data = [list(range(1, 11)) for c in range(4)]\n",
    "data_dict = {i:v for (i,v) in zip(cols, data)}\n",
    "\n",
    "df = pd.DataFrame(data=data_dict, columns=cols)\n",
    "df"
   ]
  },
  {
   "cell_type": "code",
   "execution_count": 27,
   "metadata": {},
   "outputs": [
    {
     "data": {
      "text/plain": [
       "0.675"
      ]
     },
     "execution_count": 27,
     "metadata": {},
     "output_type": "execute_result"
    }
   ],
   "source": [
    "# For example, let's pick green 10 first\n",
    "diff = 40 - 13\n",
    "proba_diff = diff / 40\n",
    "proba_diff"
   ]
  },
  {
   "cell_type": "markdown",
   "metadata": {},
   "source": [
    "Nope! Apparently that's not how it should be solved."
   ]
  },
  {
   "cell_type": "markdown",
   "metadata": {},
   "source": [
    "Since these events are not independent, we can use the rule:\n",
    "\n",
    "$P(A \\cap B) = P(A) * P(B|A)$\n",
    "\n",
    "which is also equal to\n",
    "\n",
    "$P(\\neg A \\cap \\neg B) = P(\\neg A) * P(\\neg B | \\neg A)$\n",
    "\n",
    "For example:\n",
    "\n",
    "$P(\\neg 4 \\cap \\neg yellow) = P(\\neg 4) * P(\\neg yellow | \\neg 4)$\n",
    "\n",
    "$P(\\neg 4 \\cap \\neg yellow) = \\frac{36}{39} * \\frac{27}{36}$\n",
    "\n",
    "$P(\\neg 4 \\cap \\neg yellow) = 0.692$"
   ]
  },
  {
   "cell_type": "markdown",
   "metadata": {},
   "source": [
    "---\n",
    "\n",
    "### Interview questions"
   ]
  },
  {
   "cell_type": "markdown",
   "metadata": {},
   "source": [
    "#### DS Case Study\n",
    "\n",
    "You are provided with a dataset of houses and their respective characteristics in a location. Characteristics include number of rooms, bathrooms, floor, age, etc. Anything that could appear on a property site is part of your features. Your aim is to build a model to predict the property price.\n",
    "\n",
    "Please share how you would:\n",
    "\n",
    "Frame the problem (e.g., metric, problem statement)\n",
    "\n",
    "  * Supervised: the target is the property price\n",
    "  * Regression: property price is a continuous variable\n",
    "  * Eval metrics:\n",
    "    * Mean absolute error\n",
    "    * RMSE\n",
    "    * ...\n",
    "\n",
    "Prepare the data\n",
    "\n",
    "      COST\n",
    "      \"$100\"\n",
    "      \"10.00\"\n",
    "      \"10.20\"\n",
    "      \"USD1000\"\n",
    "      \"100SGD\"\n",
    "      \"1000USD\"\n",
    "      \"100,000.00\"\n",
    "\n",
    "Explore the data\n",
    "\n",
    "Create a train-validation split\n",
    "\n",
    "* 1MM records\n",
    "* 2015 - 2019\n",
    "  \n",
    "Assess a handful of models\n",
    "\n",
    "* *LR*, DT/RF, NN\n",
    "\n",
    "For the machine learning technique you mentioned, please explain to me how it works like I'm a five year old.\n",
    "\n",
    "      ---------\n",
    "      ---------\n",
    "      ----X----\n",
    "      ---XXX---\n",
    "      -XX--XX--\n",
    "      XX----XX-\n",
    "      X------XX\n",
    "\n",
    "Decide on a model for production\n",
    "\n",
    "Now that we have a working model, we want to take the next step of *purchasing* these homes, refurnishing them, and then selling them. This is the Zillow Offers product. Given the high risk of purchasing an overpriced home, how would you design a process / framework to ensure we do not purchase overpriced homes?"
   ]
  },
  {
   "cell_type": "code",
   "execution_count": null,
   "metadata": {},
   "outputs": [],
   "source": [
    "# You're part of a warehousing team running simulations on \n",
    "# robots performing the pick-and-pack task. Another team has \n",
    "# completed the simulations and provided a log of the robot routes. \n",
    "# Your task is to validate if the routes are valid. \n",
    "\n",
    "# Heres' how a route looks like:\n",
    "\n",
    "# [\n",
    "# [1, 0, 0, 0, 0],\n",
    "# [1, 0, 0, 0, 0],\n",
    "# [0, 1, 0, 0, 0],\n",
    "# [0, 0, 1, 0, 0],\n",
    "# ]\n",
    "\n",
    "# [\n",
    "# [0, 0, 0, 0, 1],\n",
    "# [0, 0, 0, 1, 0],\n",
    "# [0, 0, 1, 0, 0],\n",
    "# [0, 0, 0, 1, 0],\n",
    "# [0, 0, 0, 0, 1],\n",
    "# ]\n",
    "\n",
    "# In the above, the warehouse has 4 floors (rows) and 5 shelves per floor (columns). The robot:\n",
    "# - Inits at shelf 1 at floor 4\n",
    "# - Moves to shelf 1 at floor 3\n",
    "# - Moves to shelf 2 at floor 2\n",
    "# - Moves to shelf 3 at floor 1\n",
    "\n",
    "# Some constraints\n",
    "# - A robot can only, and must, appear on each floor once\n",
    "# - A robot can only move vertically (e.g., 1st shelf to 1st shelf on next floor), \n",
    "# or diagonally (e.g., 3rd shelf to 2nd or 4th shelf on next floor)\n",
    "\n",
    "# Please develop the following function to validate routes, which will return a boolean.\n",
    "\n",
    "# Start of code\n",
    "\n",
    "from typing import List\n",
    "\n",
    "\n",
    "def validate(route: List[List]) -> bool:\n",
    "    # Catch case of empty route\n",
    "    if len(route) < 1:\n",
    "        return False\n",
    "    \n",
    "    # keep track of previous shelf #\n",
    "    prev_shelf = None\n",
    "    \n",
    "    # Iterate through outer list\n",
    "    for floor in route:\n",
    "        # 1. One and only one `1` in each row\n",
    "        # If sum != 1, invalid\n",
    "        if sum(floor) != 1:\n",
    "            return False\n",
    "      \n",
    "        cur_shelf = floor.index(1)\n",
    "      \n",
    "        # 2. Moving: i -/+ 1\n",
    "        if prev_shelf is not None:\n",
    "            # Compare current shelf to prev\n",
    "            # if cur_shelf (index) differs by more than 1, invalid\n",
    "            if abs(cur_shelf - prev_shelf) > 1:\n",
    "                return False\n",
    "        \n",
    "        # Set previous shelf to current shelf\n",
    "        prev_shelf = cur_shelf\n",
    "    \n",
    "    # If iteration completes, route is valid\n",
    "    return True\n",
    "\n",
    "    # print('Not implemented yet')\n",
    "    # raise NotImplementedError\n",
    "    \n",
    "if __name__ == '__main__':\n",
    "    # test_route = [\n",
    "    #     [1, 0, 0],\n",
    "    #     [1, 0, 0],\n",
    "    #     [1, 0, 0]\n",
    "    # ]\n",
    "    \n",
    "    # print(validate(test_route))\n",
    "    \n",
    "    # test_route_2 = [\n",
    "    #   [0, 0, 0, 0, 1],\n",
    "    #   [0, 0, 0, 1, 0],\n",
    "    #   [0, 0, 1, 0, 0],\n",
    "    #   [0, 0, 0, 1, 0],\n",
    "    #   [0, 0, 0, 0, 1],\n",
    "    # ]\n",
    "    \n",
    "    # assert validate(test_route_2) == True\n",
    "    \n",
    "    # test_route_3 = [\n",
    "    #   [0, 0, 0, 0, 1],\n",
    "    #   [0, 0, 0, 1, 0],\n",
    "    #   [0, 0, 1, 0, 0],\n",
    "    #   [1, 0, 0, 0, 0],\n",
    "    #   [0, 0, 0, 0, 1],\n",
    "    # ]\n",
    "    \n",
    "    # assert validate(test_route_3) == False\n",
    "    \n",
    "    # test_route_4 = [\n",
    "    #   [0, 1, 0, 1],\n",
    "    #   [0, 0, 1, 0],\n",
    "    #   [0, 1, 0, 0],\n",
    "    #   [1, 0, 0, 0],\n",
    "    #   [0, 0, 0, 1],\n",
    "    # ]\n",
    "    \n",
    "    # assert validate(test_route_4) == False\n",
    "    \n",
    "    # test_route = [\n",
    "    #     [1, 0, 0, 0],\n",
    "    #     [0, 1, 0, 0],\n",
    "    #     [0, 0, 1, 0],\n",
    "    #     [0, 0, 1, 0],\n",
    "    #     [0, 0, 0, 1]\n",
    "    # ]\n",
    "    \n",
    "    # result = validate(test_route)  # True\n",
    "    # print('Valid route: {} \\n'.format(result))\n",
    "    \n",
    "    # test_route = [\n",
    "    #     [1],\n",
    "    #     [1],\n",
    "    #     [1],\n",
    "    #     [1],\n",
    "    #     [1]\n",
    "    # ]\n",
    "    \n",
    "    # result = validate(test_route)  #True\n",
    "    # print('Valid route: {} \\n'.format(result))\n",
    "    \n",
    "    test_route = [\n",
    "    ]\n",
    "    \n",
    "    result = validate(test_route)  # False\n",
    "    print('Valid route: {} \\n'.format(result))\n",
    "\n",
    "    test_route = [\n",
    "        [0, 0, 1],\n",
    "        [0, 1, 0],\n",
    "        [0, 0, 0],\n",
    "    ]\n",
    "    \n",
    "    result = validate(test_route)  # False\n",
    "    print('Valid route: {} \\n'.format(result))\n",
    "    \n",
    "    test_route = [\n",
    "        [1, 0, 1],\n",
    "        [0, 1, 0],\n",
    "        [0, 0, 0],\n",
    "    ]\n",
    "\n",
    "    result = validate(test_route)  # False\n",
    "    print('Valid route: {} \\n'.format(result))"
   ]
  },
  {
   "cell_type": "markdown",
   "metadata": {},
   "source": [
    "---\n",
    "\n",
    "### Data science"
   ]
  },
  {
   "cell_type": "code",
   "execution_count": null,
   "metadata": {},
   "outputs": [],
   "source": []
  },
  {
   "cell_type": "markdown",
   "metadata": {},
   "source": [
    "---\n",
    "\n",
    "### Machine learning"
   ]
  },
  {
   "cell_type": "markdown",
   "metadata": {},
   "source": [
    "#### Polynomial Regression: Office Prices\n",
    "\n",
    "##### The Problem\n",
    "\n",
    "Charlie wants to purchase office-space. He does a detailed survey of the offices and corporate complexes in the area, and tries to quantify a lot of factors, such as the distance of the offices from residential and other commercial areas, schools and workplaces; the reputation of the construction companies and builders involved in constructing the apartments; the distance of the offices from highways, freeways and important roads; the facilities around the office space and so on.\n",
    "\n",
    "Each of these factors are quantified, normalized and mapped to values on a scale of 0 to 1. Charlie then makes a table. Each row in the table corresponds to Charlie's observations for a particular house. If Charlie has observed and noted `F` features, the row contains `F` values separated by a single space, followed by the office-space price in dollars/square-foot. If Charlie makes observations for `H` houses, his observation table has `(F+1)` columns and `H` rows, and a total of `(F+1) * H` entries.\n",
    "\n",
    "Charlie does several such surveys and provides you with the tabulated data. At the end of these tables are some rows which have just `F` columns (the price per square foot is missing). Your task is to predict these prices. `F` can be any integer number between 1 and 5, both inclusive.\n",
    "\n",
    "There is one important observation which Charlie has made.\n",
    "\n",
    "* The prices per square foot, are (approximately) a polynomial function of the features in the observation table.\n",
    "  * This polynomial always has an order less than 4"
   ]
  },
  {
   "cell_type": "code",
   "execution_count": 30,
   "metadata": {},
   "outputs": [],
   "source": [
    "# === Imports === #\n",
    "import pandas as pd\n",
    "\n",
    "from sklearn.pipeline import Pipeline\n",
    "from sklearn.model_selection import train_test_split, cross_val_score\n",
    "from sklearn.linear_model import LinearRegression\n",
    "from sklearn.preprocessing import PolynomialFeatures"
   ]
  },
  {
   "cell_type": "code",
   "execution_count": 10,
   "metadata": {},
   "outputs": [
    {
     "name": "stdout",
     "output_type": "stream",
     "text": [
      "(104, 3)\n"
     ]
    },
    {
     "data": {
      "text/html": [
       "<div>\n",
       "<style scoped>\n",
       "    .dataframe tbody tr th:only-of-type {\n",
       "        vertical-align: middle;\n",
       "    }\n",
       "\n",
       "    .dataframe tbody tr th {\n",
       "        vertical-align: top;\n",
       "    }\n",
       "\n",
       "    .dataframe thead th {\n",
       "        text-align: right;\n",
       "    }\n",
       "</style>\n",
       "<table border=\"1\" class=\"dataframe\">\n",
       "  <thead>\n",
       "    <tr style=\"text-align: right;\">\n",
       "      <th></th>\n",
       "      <th>0</th>\n",
       "      <th>1</th>\n",
       "      <th>2</th>\n",
       "    </tr>\n",
       "  </thead>\n",
       "  <tbody>\n",
       "    <tr>\n",
       "      <th>0</th>\n",
       "      <td>0.44</td>\n",
       "      <td>0.68</td>\n",
       "      <td>511.14</td>\n",
       "    </tr>\n",
       "    <tr>\n",
       "      <th>1</th>\n",
       "      <td>0.99</td>\n",
       "      <td>0.23</td>\n",
       "      <td>717.10</td>\n",
       "    </tr>\n",
       "    <tr>\n",
       "      <th>2</th>\n",
       "      <td>0.84</td>\n",
       "      <td>0.29</td>\n",
       "      <td>607.91</td>\n",
       "    </tr>\n",
       "    <tr>\n",
       "      <th>3</th>\n",
       "      <td>0.28</td>\n",
       "      <td>0.45</td>\n",
       "      <td>270.40</td>\n",
       "    </tr>\n",
       "    <tr>\n",
       "      <th>4</th>\n",
       "      <td>0.07</td>\n",
       "      <td>0.83</td>\n",
       "      <td>289.88</td>\n",
       "    </tr>\n",
       "  </tbody>\n",
       "</table>\n",
       "</div>"
      ],
      "text/plain": [
       "      0     1       2\n",
       "0  0.44  0.68  511.14\n",
       "1  0.99  0.23  717.10\n",
       "2  0.84  0.29  607.91\n",
       "3  0.28  0.45  270.40\n",
       "4  0.07  0.83  289.88"
      ]
     },
     "execution_count": 10,
     "metadata": {},
     "output_type": "execute_result"
    }
   ],
   "source": [
    "# === Set up the data === #\n",
    "datapath = \"assets/data/office_space_price.txt\"\n",
    "# No column names given - trying to predict the third column\n",
    "# Training set is all of it except last 4 rows\n",
    "offices = pd.read_csv(datapath, sep=\" \", header=None)\n",
    "print(offices.shape)\n",
    "offices.head()"
   ]
  },
  {
   "cell_type": "code",
   "execution_count": 11,
   "metadata": {},
   "outputs": [
    {
     "data": {
      "text/html": [
       "<div>\n",
       "<style scoped>\n",
       "    .dataframe tbody tr th:only-of-type {\n",
       "        vertical-align: middle;\n",
       "    }\n",
       "\n",
       "    .dataframe tbody tr th {\n",
       "        vertical-align: top;\n",
       "    }\n",
       "\n",
       "    .dataframe thead th {\n",
       "        text-align: right;\n",
       "    }\n",
       "</style>\n",
       "<table border=\"1\" class=\"dataframe\">\n",
       "  <thead>\n",
       "    <tr style=\"text-align: right;\">\n",
       "      <th></th>\n",
       "      <th>0</th>\n",
       "      <th>1</th>\n",
       "      <th>2</th>\n",
       "    </tr>\n",
       "  </thead>\n",
       "  <tbody>\n",
       "    <tr>\n",
       "      <th>99</th>\n",
       "      <td>0.77</td>\n",
       "      <td>0.36</td>\n",
       "      <td>593.86</td>\n",
       "    </tr>\n",
       "    <tr>\n",
       "      <th>100</th>\n",
       "      <td>0.05</td>\n",
       "      <td>0.54</td>\n",
       "      <td>NaN</td>\n",
       "    </tr>\n",
       "    <tr>\n",
       "      <th>101</th>\n",
       "      <td>0.91</td>\n",
       "      <td>0.91</td>\n",
       "      <td>NaN</td>\n",
       "    </tr>\n",
       "    <tr>\n",
       "      <th>102</th>\n",
       "      <td>0.31</td>\n",
       "      <td>0.76</td>\n",
       "      <td>NaN</td>\n",
       "    </tr>\n",
       "    <tr>\n",
       "      <th>103</th>\n",
       "      <td>0.51</td>\n",
       "      <td>0.31</td>\n",
       "      <td>NaN</td>\n",
       "    </tr>\n",
       "  </tbody>\n",
       "</table>\n",
       "</div>"
      ],
      "text/plain": [
       "        0     1       2\n",
       "99   0.77  0.36  593.86\n",
       "100  0.05  0.54     NaN\n",
       "101  0.91  0.91     NaN\n",
       "102  0.31  0.76     NaN\n",
       "103  0.51  0.31     NaN"
      ]
     },
     "execution_count": 11,
     "metadata": {},
     "output_type": "execute_result"
    }
   ],
   "source": [
    "# Last 4 lines are test set to submit\n",
    "offices.tail()"
   ]
  },
  {
   "cell_type": "code",
   "execution_count": 20,
   "metadata": {},
   "outputs": [
    {
     "name": "stdout",
     "output_type": "stream",
     "text": [
      "Train shape: (100, 3)\n",
      "Test shape: (4, 3)\n"
     ]
    },
    {
     "data": {
      "text/html": [
       "<div>\n",
       "<style scoped>\n",
       "    .dataframe tbody tr th:only-of-type {\n",
       "        vertical-align: middle;\n",
       "    }\n",
       "\n",
       "    .dataframe tbody tr th {\n",
       "        vertical-align: top;\n",
       "    }\n",
       "\n",
       "    .dataframe thead th {\n",
       "        text-align: right;\n",
       "    }\n",
       "</style>\n",
       "<table border=\"1\" class=\"dataframe\">\n",
       "  <thead>\n",
       "    <tr style=\"text-align: right;\">\n",
       "      <th></th>\n",
       "      <th>0</th>\n",
       "      <th>1</th>\n",
       "      <th>2</th>\n",
       "    </tr>\n",
       "  </thead>\n",
       "  <tbody>\n",
       "    <tr>\n",
       "      <th>100</th>\n",
       "      <td>0.05</td>\n",
       "      <td>0.54</td>\n",
       "      <td>NaN</td>\n",
       "    </tr>\n",
       "    <tr>\n",
       "      <th>101</th>\n",
       "      <td>0.91</td>\n",
       "      <td>0.91</td>\n",
       "      <td>NaN</td>\n",
       "    </tr>\n",
       "    <tr>\n",
       "      <th>102</th>\n",
       "      <td>0.31</td>\n",
       "      <td>0.76</td>\n",
       "      <td>NaN</td>\n",
       "    </tr>\n",
       "    <tr>\n",
       "      <th>103</th>\n",
       "      <td>0.51</td>\n",
       "      <td>0.31</td>\n",
       "      <td>NaN</td>\n",
       "    </tr>\n",
       "  </tbody>\n",
       "</table>\n",
       "</div>"
      ],
      "text/plain": [
       "        0     1   2\n",
       "100  0.05  0.54 NaN\n",
       "101  0.91  0.91 NaN\n",
       "102  0.31  0.76 NaN\n",
       "103  0.51  0.31 NaN"
      ]
     },
     "execution_count": 20,
     "metadata": {},
     "output_type": "execute_result"
    }
   ],
   "source": [
    "# === Split into train and test === #\n",
    "offices_train = offices.loc[:99].copy()\n",
    "print(\"Train shape:\", offices_train.shape)\n",
    "\n",
    "offices_test = offices.loc[100:].copy()\n",
    "print(\"Test shape:\", offices_test.shape)\n",
    "offices_test.head()"
   ]
  },
  {
   "cell_type": "code",
   "execution_count": 32,
   "metadata": {},
   "outputs": [
    {
     "data": {
      "text/plain": [
       "(((100, 2), (100,)), ((4, 2), (4,)))"
      ]
     },
     "execution_count": 32,
     "metadata": {},
     "output_type": "execute_result"
    }
   ],
   "source": [
    "# === Arrange into features and target === #\n",
    "X_train = offices_train.drop(columns=[2])\n",
    "y_train = offices_train[2]\n",
    "\n",
    "X_test = offices_test.drop(columns=[2])\n",
    "y_test = offices_test[2]\n",
    "\n",
    "(X_train.shape, y_train.shape), (X_test.shape, y_test.shape)"
   ]
  },
  {
   "cell_type": "markdown",
   "metadata": {},
   "source": [
    "##### Validation\n",
    "\n",
    "I'm not going to split into train/val. The dataset is very small, therefore I'm going to use k-fold cross-validation."
   ]
  },
  {
   "cell_type": "code",
   "execution_count": 33,
   "metadata": {},
   "outputs": [
    {
     "data": {
      "text/plain": [
       "Pipeline(steps=[('poly', PolynomialFeatures(degree=3)),\n",
       "                ('model', LinearRegression())])"
      ]
     },
     "execution_count": 33,
     "metadata": {},
     "output_type": "execute_result"
    }
   ],
   "source": [
    "# === Fit polynomial pipeline === #\n",
    "\n",
    "# Instantiate pipeline components\n",
    "poly = PolynomialFeatures(degree=3)\n",
    "model = LinearRegression()\n",
    "\n",
    "# Create pipeline\n",
    "pipe = Pipeline([\n",
    "    (\"poly\", poly),\n",
    "    (\"model\", model),\n",
    "])\n",
    "\n",
    "# Fit pipeline to training data\n",
    "pipe.fit(X_train, y_train)"
   ]
  },
  {
   "cell_type": "code",
   "execution_count": 34,
   "metadata": {},
   "outputs": [
    {
     "name": "stdout",
     "output_type": "stream",
     "text": [
      "MAE for 3 folds: 3.59 (+/- -0.12)\n"
     ]
    }
   ],
   "source": [
    "# === Get validation scores === #\n",
    "k = 3\n",
    "scores = cross_val_score(pipe, X_train, y_train, cv=k, scoring=\"neg_mean_absolute_error\")\n",
    "print(f\"MAE for {k} folds: %0.2f (+/- %0.2f)\" % (-scores.mean(), -scores.std() * 2))"
   ]
  },
  {
   "cell_type": "code",
   "execution_count": 35,
   "metadata": {},
   "outputs": [
    {
     "data": {
      "text/plain": [
       "array([ 180.37682443, 1312.06505966,  440.1292533 ,  343.71538008])"
      ]
     },
     "execution_count": 35,
     "metadata": {},
     "output_type": "execute_result"
    }
   ],
   "source": [
    "# === Predict on test set === #\n",
    "pred = pipe.predict(X_test)\n",
    "pred"
   ]
  },
  {
   "cell_type": "markdown",
   "metadata": {},
   "source": [
    "#### Adapting for HackerRank Platform\n",
    "\n",
    "The input is the raw text directly from stdin. So I'm adding this bit to clean and load it."
   ]
  },
  {
   "cell_type": "code",
   "execution_count": 40,
   "metadata": {},
   "outputs": [],
   "source": [
    "# === Read from raw file === #\n",
    "\n",
    "with open(\"assets/data/office_space_raw.txt\") as f:\n",
    "    # Exclude first line\n",
    "    raw_data = f.read().splitlines()[1:]"
   ]
  },
  {
   "cell_type": "code",
   "execution_count": 53,
   "metadata": {},
   "outputs": [
    {
     "data": {
      "text/plain": [
       "((100, 3), (4, 2))"
      ]
     },
     "execution_count": 53,
     "metadata": {},
     "output_type": "execute_result"
    }
   ],
   "source": [
    "# === Split up train/test by slicing === #\n",
    "train_list = raw_data[:100]\n",
    "test_list = raw_data[101:]\n",
    "\n",
    "# === Split up rows into nested lists === #\n",
    "train_lists = [r.split() for r in train_list]\n",
    "test_lists = [r.split() for r in test_list]\n",
    "\n",
    "# === Load train/test into dataframes === #\n",
    "train = pd.DataFrame(data=train_lists)\n",
    "test = pd.DataFrame(data=test_lists)\n",
    "\n",
    "train.shape, test.shape"
   ]
  },
  {
   "cell_type": "code",
   "execution_count": 55,
   "metadata": {},
   "outputs": [
    {
     "data": {
      "text/plain": [
       "((100, 2), (100,), (4, 2))"
      ]
     },
     "execution_count": 55,
     "metadata": {},
     "output_type": "execute_result"
    }
   ],
   "source": [
    "# === Arrange into features and target === #\n",
    "X_train = train.drop(columns=[2])\n",
    "y_train = train[2]\n",
    "\n",
    "X_test = test\n",
    "\n",
    "X_train.shape, y_train.shape, X_test.shape"
   ]
  },
  {
   "cell_type": "code",
   "execution_count": 56,
   "metadata": {},
   "outputs": [
    {
     "name": "stdout",
     "output_type": "stream",
     "text": [
      "MAE for 3 folds: 3.59 (+/- -0.12)\n"
     ]
    }
   ],
   "source": [
    "# === Fit polynomial pipeline === #\n",
    "\n",
    "# Instantiate pipeline components\n",
    "poly = PolynomialFeatures(degree=3)\n",
    "model = LinearRegression()\n",
    "\n",
    "# Create pipeline\n",
    "pipe = Pipeline([\n",
    "    (\"poly\", poly),\n",
    "    (\"model\", model),\n",
    "])\n",
    "\n",
    "# Fit pipeline to training data\n",
    "pipe.fit(X_train, y_train)\n",
    "\n",
    "# === Get validation scores === #\n",
    "k = 3\n",
    "scores = cross_val_score(pipe, X_train, y_train, cv=k, scoring=\"neg_mean_absolute_error\")\n",
    "print(f\"MAE for {k} folds: %0.2f (+/- %0.2f)\" % (-scores.mean(), -scores.std() * 2))"
   ]
  },
  {
   "cell_type": "code",
   "execution_count": 61,
   "metadata": {},
   "outputs": [
    {
     "name": "stdout",
     "output_type": "stream",
     "text": [
      "180.3768\n",
      "1312.0651\n",
      "440.1293\n",
      "343.7154\n"
     ]
    }
   ],
   "source": [
    "# === Predict on test set === #\n",
    "pred = pipe.predict(X_test)\n",
    "\n",
    "# Print to stdout\n",
    "for p in pred:\n",
    "    print(round(p, 4))"
   ]
  },
  {
   "cell_type": "markdown",
   "metadata": {},
   "source": [
    "#### Success!\n",
    "\n",
    "Here's the full code from the HackerRank editor:"
   ]
  },
  {
   "cell_type": "code",
   "execution_count": null,
   "metadata": {},
   "outputs": [],
   "source": [
    "import sys\n",
    "import pandas as pd\n",
    "\n",
    "from sklearn.pipeline import Pipeline\n",
    "from sklearn.model_selection import train_test_split, cross_val_score\n",
    "from sklearn.linear_model import LinearRegression\n",
    "from sklearn.preprocessing import PolynomialFeatures\n",
    "\n",
    "# === Read the data in from stdin === #\n",
    "raw_data = sys.stdin.read().splitlines()[1:]\n",
    "\n",
    "# === Split up train/test by slicing === #\n",
    "train_list = raw_data[:100]\n",
    "test_list = raw_data[101:]\n",
    "\n",
    "# === Split up rows into nested lists === #\n",
    "train_lists = [r.split() for r in train_list]\n",
    "test_lists = [r.split() for r in test_list]\n",
    "\n",
    "# === Load train/test into dataframes === #\n",
    "train = pd.DataFrame(data=train_lists)\n",
    "test = pd.DataFrame(data=test_lists)\n",
    "\n",
    "# === Arrange into features and target === #\n",
    "X_train = train.drop(columns=[2])\n",
    "y_train = train[2]\n",
    "X_test = test\n",
    "\n",
    "# === Fit polynomial pipeline === #\n",
    "\n",
    "# Instantiate pipeline components\n",
    "poly = PolynomialFeatures(degree=3)\n",
    "model = LinearRegression()\n",
    "\n",
    "# Create pipeline\n",
    "pipe = Pipeline([\n",
    "    (\"poly\", poly),\n",
    "    (\"model\", model),\n",
    "])\n",
    "\n",
    "# Fit pipeline to training data\n",
    "pipe.fit(X_train, y_train)\n",
    "\n",
    "# === Predict on test set === #\n",
    "pred = pipe.predict(X_test)\n",
    "\n",
    "# === Print to stdout === #\n",
    "for p in pred:\n",
    "    print(round(p, 4))"
   ]
  },
  {
   "cell_type": "markdown",
   "metadata": {},
   "source": [
    "---\n",
    "\n",
    "### Engineering"
   ]
  },
  {
   "cell_type": "code",
   "execution_count": null,
   "metadata": {},
   "outputs": [],
   "source": []
  },
  {
   "cell_type": "code",
   "execution_count": null,
   "metadata": {},
   "outputs": [],
   "source": []
  },
  {
   "cell_type": "code",
   "execution_count": null,
   "metadata": {},
   "outputs": [],
   "source": []
  },
  {
   "cell_type": "code",
   "execution_count": null,
   "metadata": {},
   "outputs": [],
   "source": []
  },
  {
   "cell_type": "code",
   "execution_count": null,
   "metadata": {},
   "outputs": [],
   "source": []
  },
  {
   "cell_type": "code",
   "execution_count": null,
   "metadata": {},
   "outputs": [],
   "source": []
  },
  {
   "cell_type": "code",
   "execution_count": null,
   "metadata": {},
   "outputs": [],
   "source": []
  },
  {
   "cell_type": "code",
   "execution_count": null,
   "metadata": {},
   "outputs": [],
   "source": []
  },
  {
   "cell_type": "code",
   "execution_count": null,
   "metadata": {},
   "outputs": [],
   "source": []
  },
  {
   "cell_type": "code",
   "execution_count": null,
   "metadata": {},
   "outputs": [],
   "source": []
  },
  {
   "cell_type": "markdown",
   "metadata": {},
   "source": []
  },
  {
   "cell_type": "markdown",
   "metadata": {},
   "source": []
  },
  {
   "cell_type": "markdown",
   "metadata": {},
   "source": []
  },
  {
   "cell_type": "markdown",
   "metadata": {},
   "source": []
  }
 ],
 "metadata": {
  "kernelspec": {
   "display_name": "Python 3.7.6 64-bit ('vela': pipenv)",
   "language": "python",
   "name": "python37664bitvelapipenvde09592071074af6a70ce3b1ce38af95"
  },
  "language_info": {
   "codemirror_mode": {
    "name": "ipython",
    "version": 3
   },
   "file_extension": ".py",
   "mimetype": "text/x-python",
   "name": "python",
   "nbconvert_exporter": "python",
   "pygments_lexer": "ipython3",
   "version": "3.7.6"
  }
 },
 "nbformat": 4,
 "nbformat_minor": 4
}
