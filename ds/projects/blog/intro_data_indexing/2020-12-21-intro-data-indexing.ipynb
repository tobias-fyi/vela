{
 "cells": [
  {
   "cell_type": "markdown",
   "metadata": {
    "colab_type": "text",
    "id": "6K-Ijmo7VceT"
   },
   "source": [
    "# \"Exploring the Basics of Data Indexing\"\n",
    "\n",
    "> \"A gentle introduction to the concept of data indexing.\"\n",
    "\n",
    "- toc: true\n",
    "- badges: true\n",
    "- author: Tobias Reaper\n",
    "- comments: true\n",
    "- categories: [blog]\n",
    "- image: "
   ]
  },
  {
   "cell_type": "markdown",
   "metadata": {},
   "source": [
    "---"
   ]
  },
  {
   "cell_type": "markdown",
   "metadata": {},
   "source": [
    "# Introduction"
   ]
  },
  {
   "cell_type": "markdown",
   "metadata": {},
   "source": [
    "Anyone who has worked with data in even a limited capacity — which, if considered literally, is virtually most people nowadays — is likely familiar with the term _data indexing_.\n",
    "\n",
    "Therefore, in its most generic form, what is a _data index_? For that matter, what is an _index_? (Really, the two can be interchangeable in many situations. However, for the purposes of illustration I'm going to say a data index is specific to relational data.)\n",
    "\n",
    "There are a few things that come to mind right off the bat.\n",
    "\n",
    "The first one is the index of a book — that section typically at the back of books (usually reference-type books such as textbooks) that list specific names and terms and where in the book they can be found. I think this is one of the best ways to illustrate what an index _does_: it allows information to be \"looked up\" more easily and/or quickly.\n",
    "\n",
    "For example, an index would be quite useful when looking for a specific term, say \"immediately invoked function expressions\" in a JavaScript textbook. If that term was listed in the book's index, it would be easy to find every page where this term appears and simply flip to those pages directly. If no index existed, or that term wasn't listed, then one would have to do some searching. An intelligent algorithm for searching could reduce the time and page-flips needed to find the term, but the effort involved in this is, obviously, much greater than simply flipping directly to pages.\n",
    "\n",
    "For those with some familiarity with data structures, this is very similar (if not identical in some cases) to looking something up in a hashtable versus an array. There's a reason hashtables were invented: they are _much_ more efficient for many purposes.\n",
    "\n",
    "Indeed, the book example is used to explain the word \"index\" in many [needs citation] dictionaries.\n",
    "\n",
    "As someone who has worked quite a lot with pandas, the next thing that comes to mind when I hear or read the phrase \"data indexing\" is the index column in a pandas dataframe. If you're familiar with this concept of an index column, that's also not a bad way to think about the more generic form of data index: it is a method of looking up data — you can access rows of the dataframe by \"indexing\" them."
   ]
  },
  {
   "cell_type": "markdown",
   "metadata": {},
   "source": [
    "This piece will be exploring the concept of data indexing with Python through some real-world examples."
   ]
  },
  {
   "cell_type": "markdown",
   "metadata": {},
   "source": [
    "---\n",
    "\n",
    "## Savor Data Reindexing\n",
    "\n",
    "- [ ] By Sublocation\n",
    "- Personal Data Dashboard\n",
    "  - [ ] How long does it take me to do ___ (shower, dress, etc) this month this year vs last year?\n",
    "  - [ ] Time spent on ___ over various time horizons, such as day, week, month, year\n",
    "\n",
    "For these examples, I'll be retrieving Savor data from Airtable via [airtable-python-wrapper](https://github.com/gtalarico/airtable-python-wrapper), transforming it into a set of variations of a dataset that can plug into my Personal Data Dashboard.\n",
    "\n",
    "In case you haven't read my first post about Savor, here's a very brief overview: it's a real-time journaling system I'm building with the aim of making it easy to gather and utilize rich data about my life as it happens. Thus far, I've been using Airtable as the interface, capturing the data in a relatively simple set of relational tables."
   ]
  },
  {
   "cell_type": "code",
   "execution_count": 1,
   "metadata": {},
   "outputs": [],
   "source": [
    "#collapse-hide\n",
    "# === Imports and config === #\n",
    "%load_ext autoreload\n",
    "%autoreload\n",
    "\n",
    "from os import environ\n",
    "from pprint import pprint\n",
    "\n",
    "from airtable import Airtable\n",
    "import pandas as pd\n",
    "import janitor\n",
    "\n",
    "pd.options.display.max_rows = 100\n",
    "pd.options.display.max_columns = 50"
   ]
  },
  {
   "cell_type": "code",
   "execution_count": 2,
   "metadata": {},
   "outputs": [],
   "source": [
    "#collapse-hide\n",
    "# === Connect to airtable === #\n",
    "\n",
    "# Envirovars for authentication\n",
    "from dotenv import load_dotenv\n",
    "from pathlib import Path\n",
    "\n",
    "load_dotenv(dotenv_path=\".env\")\n",
    "base_key = environ.get(\"AIRTABLE_BASE_KEY\")\n",
    "api_key = environ.get(\"AIRTABLE_API_KEY\")"
   ]
  },
  {
   "cell_type": "code",
   "execution_count": 3,
   "metadata": {},
   "outputs": [
    {
     "name": "stdout",
     "output_type": "stream",
     "text": [
      "<Airtable table:engage_log>\n"
     ]
    }
   ],
   "source": [
    "# Connect to engage_log table\n",
    "engage_log = Airtable(base_key, \"engage_log\", api_key=api_key)\n",
    "print(engage_log)"
   ]
  },
  {
   "cell_type": "markdown",
   "metadata": {},
   "source": [
    "### ETL Setup\n",
    "\n",
    "The data is returned as an array of dictionaries (objects in JavaScript), where each item in the array represents one row in the dataset. Before any transformation, each record has `id`, `createdTime`, and `fields`, the latter of which contains the relevant data we want to access.\n",
    "\n",
    "Here are a couple rows from the table:"
   ]
  },
  {
   "cell_type": "code",
   "execution_count": 6,
   "metadata": {},
   "outputs": [
    {
     "data": {
      "text/plain": [
       "[{'id': 'recNVDgKQ75fbhUjv',\n",
       "  'fields': {'id_num': 20314,\n",
       "   'project_log': ['reccjFvHkMmxGrsu3'],\n",
       "   'subloc': ['recrQNJglSZ5mmZQl'],\n",
       "   'dose': ['rec74Hi1KbAdEHspV', 'recXaoGTBbrRiVeXt'],\n",
       "   'time_in': '2021-02-18T13:25:00.000Z',\n",
       "   'mental': ['recm7RWIWmDQDCWSe'],\n",
       "   'physical': ['recNcdJGnjhCWe6Eu'],\n",
       "   'name': '20314-Cap-Thi',\n",
       "   'modified': '2021-03-10T23:15:13.000Z',\n",
       "   'created': '2021-02-18T03:48:00.000Z',\n",
       "   'duration': {'specialValue': 'NaN'},\n",
       "   'project_location': ['recgaBaPGoewkBgbE']},\n",
       "  'createdTime': '2021-02-18T03:48:00.000Z'},\n",
       " {'id': 'recSubcryeSu1Iwhd',\n",
       "  'fields': {'id_num': 20313,\n",
       "   'project_log': ['reccjFvHkMmxGrsu3'],\n",
       "   'subloc': ['rec92DKYGuA3gGzXd'],\n",
       "   'time_in': '2021-02-18T13:21:00.000Z',\n",
       "   'mental': ['recm7RWIWmDQDCWSe'],\n",
       "   'physical': ['recQsIaiG012c5KoI'],\n",
       "   'name': '20313-Tea-Thi',\n",
       "   'modified': '2021-03-10T23:15:13.000Z',\n",
       "   'created': '2021-02-18T03:48:00.000Z',\n",
       "   'duration': {'specialValue': 'NaN'},\n",
       "   'project_location': ['recgaBaPGoewkBgbE']},\n",
       "  'createdTime': '2021-02-18T03:48:00.000Z'}]"
      ]
     },
     "execution_count": 6,
     "metadata": {},
     "output_type": "execute_result"
    }
   ],
   "source": [
    "# Get all engagement records, sorted by time_in\n",
    "engages = engage_log.get_all(\n",
    "    sort=[\"-time_in\"],\n",
    "    max_records=2\n",
    ")\n",
    "engages"
   ]
  },
  {
   "cell_type": "markdown",
   "metadata": {},
   "source": [
    "#### Primary Keys\n",
    "\n",
    "As likely noticed in these records, any time a related table is referenced, the primary key is used — e.g. `rec92DKYGuA3gGzXd`. Part of the ETL process will therefore be matching up those keys to their respective records. This is not only for me to know what I'm working with; also to get human-readable names for these records to display on the dashboard. Technically I could still do all the reindexing without knowing what the records are, but I would by flying mostly blind and wouldn't be able to get much useful insight.\n",
    "\n",
    "In most cases, I really only need to get the name of the record from the other tables, though there are a couple of instances where additional information is useful. For example, the `dose` table, which holds data about nutritional and nootropic supplements, has information like what supplement it is and the amount.\n",
    "\n",
    "Additionally, the way Airtable sets up the relations results in a nice feature that I can use to my advantage here: there is already an index for each relation. When a relation is set up between two tables, a column automatically gets created in both tables listing all references to their respective records in the other table. That's the `engage_log` column in each of the tables below: a list of `engage_log` records that reference the record.\n",
    "\n",
    "This saves me a step in case I want to look up — or _index_ — `engage_log` records by a related record. The way this might surface in the dashboard is that I could be looking at a monthly summary of my mental and physical activities and decide I want to drill down into more details about a specific mental activity. I'd ideally be able to click on that activity and it would _reindex_ the data such that it would show me the other data summarized / aggregated according to that activity, such as descriptive statistics about how long is spent on it each time I do it, where it takes place, and maybe (someday) a smart summary and sentiment analysis of my notes.\n",
    "\n",
    "Indeed, this example can be generalized to much of the logic behind a dashboard like this: a dashboard is a visual way of reindexing data (with some additional calculations / aggregations, of course)."
   ]
  },
  {
   "cell_type": "markdown",
   "metadata": {},
   "source": [
    "Here is our first data reindexing task: get the join (dimension) table data into a form that allows quick and easy lookup of the name by the ID.\n",
    "\n",
    "Again, the data looks like this coming from the Airtable API:"
   ]
  },
  {
   "cell_type": "code",
   "execution_count": 31,
   "metadata": {},
   "outputs": [
    {
     "name": "stdout",
     "output_type": "stream",
     "text": [
      "{'createdTime': '2019-12-27T21:53:23.000Z',\n",
      " 'fields': {'engage_log': ['recmhwfUwh1y7fAiL',\n",
      "                           'recXMOogY77c2F8VC',\n",
      "                           'rec9olPTOU8HnkM2g',\n",
      "                           'recdY05auUBWdcIbV',\n",
      "                           'receMerG3a4Am3Y5s',\n",
      "                           'recOnBTBUAAtBrKen',\n",
      "                           'reca9qPGadaJH967Z',\n",
      "                           'rec5BfWmJlnH2Q4Bq',\n",
      "                           'recexqQF6f3un4VHa',\n",
      "                           'recBiJBQsLlAI3GZh',\n",
      "                           'rec9AjhdUKoD6nOZd',\n",
      "                           'recWyG2stKkRKLgTb'],\n",
      "            'name': 'Surf'},\n",
      " 'id': 'recAS99RkAJBoTCgq'}\n"
     ]
    }
   ],
   "source": [
    "# pprint(table_data[\"mental\"][10])\n",
    "pprint(table_data[\"physical\"][10])"
   ]
  },
  {
   "cell_type": "markdown",
   "metadata": {},
   "source": [
    "The issue with this format is that it doesn't allow for easy lookup of the name via ID. Here's one way of setting it up to allow the names of the records to be looked up more easily.\n",
    "\n",
    "```python\n",
    "# Example of the reindexed data structure\n",
    "table_data = {\n",
    "    \"mental\": {\n",
    "        \"recA74lcvT1XewrkS\": {\n",
    "            \"name\": \"Data manipulation\",\n",
    "            \"engage_log\": [\n",
    "                \"recpRNLSKOmk6iVSm\",\n",
    "                \"rec0trJkpqM9Dmhf0\",\n",
    "                # ...\n",
    "            ],\n",
    "        },\n",
    "        # ...\n",
    "    },\n",
    "    \"physical\": {\n",
    "        \"recAS99RkAJBoTCgq\": {\n",
    "            \"name\": \"Surf\",\n",
    "            \"engage_log\": [\n",
    "                'recmhwfUwh1y7fAiL',\n",
    "                'recXMOogY77c2F8VC',\n",
    "                # ...\n",
    "            ],\n",
    "        },\n",
    "        # ...\n",
    "    },\n",
    "    # ...\n",
    "}\n",
    "```"
   ]
  },
  {
   "cell_type": "code",
   "execution_count": 34,
   "metadata": {},
   "outputs": [],
   "source": [
    "# Get relevant related records to match up\n",
    "table_fields = {\n",
    "    \"mental\": [\"name\", \"engage_log\"],\n",
    "    \"physical\": [\"name\", \"engage_log\"],\n",
    "    \"dose\": [\"name\", \"engage_log\", \"supp\", \"amt\", \"unit\"],\n",
    "    \"who\": [\"name\", \"engage_log\"],\n",
    "    \"location\": [\"name\", \"engage_log\", \"location\", \"city\", \"state\"],\n",
    "    \"subloc\": [\"name\", \"engage_log\"],\n",
    "    \"tag\": [\"name\", \"engage_log\"],\n",
    "}\n",
    "\n",
    "table_data = {\n",
    "    \"mental\": {},\n",
    "    \"physical\": {},\n",
    "    \"dose\": {},\n",
    "    \"who\": {},\n",
    "    \"location\": {},\n",
    "    \"subloc\": {},\n",
    "    \"tag\": {},\n",
    "}\n",
    "\n",
    "# Loop through tables to retrieve records and save in dictionary\n",
    "for table in table_fields:\n",
    "    airtable = Airtable(  # Connect to table\n",
    "        base_key,\n",
    "        table,\n",
    "        api_key=api_key\n",
    "    )\n",
    "    records = airtable.get_all(  # Retrieve records\n",
    "        fields=table_fields[table],\n",
    "    )\n",
    "    # Transform and save records to above dict\n",
    "    for record in records:\n",
    "        try:\n",
    "            engage_list = record[\"fields\"][\"engage_log\"]\n",
    "        except KeyError:\n",
    "            engage_list = None\n",
    "        rec_val_dict = {\n",
    "            \"name\": record[\"fields\"][\"name\"],\n",
    "            \"engage_log\": engage_list,\n",
    "        }\n",
    "        table_data[table][record[\"id\"]] = rec_val_dict"
   ]
  },
  {
   "cell_type": "markdown",
   "metadata": {},
   "source": [
    "Now the `table_data` dictionary holds the key-name lookup I'll need later on. I won't go through the entire dataset and replace all of the PKs as that would be something of a process. My method will be to match them up only when I actually need the human-readable name.\n",
    "\n",
    "Having the data in a relational database would be nice for this type of operation: it would be trivial to use SQL JOINs to connect up the tables."
   ]
  },
  {
   "cell_type": "code",
   "execution_count": 35,
   "metadata": {},
   "outputs": [
    {
     "data": {
      "text/plain": [
       "'Surf'"
      ]
     },
     "execution_count": 35,
     "metadata": {},
     "output_type": "execute_result"
    }
   ],
   "source": [
    "# Look up the record names by their table and ID\n",
    "table_data[\"physical\"][\"recAS99RkAJBoTCgq\"][\"name\"]"
   ]
  },
  {
   "cell_type": "markdown",
   "metadata": {},
   "source": [
    "### DataFrame\n",
    "\n",
    "Another way that this data could be saved is into a pandas dataframe, with or without a multi-index. The multi-index could be `table`, `id`."
   ]
  },
  {
   "cell_type": "code",
   "execution_count": 36,
   "metadata": {},
   "outputs": [],
   "source": [
    "# Get relevant related records to match up\n",
    "table_fields_2 = {\n",
    "    \"mental\": [\"name\"],\n",
    "    \"physical\": [\"name\"],\n",
    "    \"dose\": [\"name\", \"supp\", \"amt\", \"unit\"],\n",
    "    \"who\": [\"name\"],\n",
    "    \"location\": [\"name\", \"location\", \"city\", \"state\"],\n",
    "    \"subloc\": [\"name\"],\n",
    "    \"tag\": [\"name\"],\n",
    "}\n",
    "\n",
    "table_data_array = [\n",
    "    # [\"physical\", \"recAS99RkAJBoTCgq\", \"Surf\"], \n",
    "]\n",
    "\n",
    "# Loop through tables to retrieve records and save in dictionary\n",
    "for table in table_fields_2:\n",
    "    airtable = Airtable(  # Connect to table\n",
    "        base_key,\n",
    "        table,\n",
    "        api_key=api_key\n",
    "    )\n",
    "    records = airtable.get_all(  # Retrieve records\n",
    "        fields=table_fields[table],\n",
    "    )\n",
    "    # Transform and save records to array\n",
    "    for record in records:\n",
    "        table_data_array.append([table, record[\"id\"], record[\"fields\"][\"name\"]])"
   ]
  },
  {
   "cell_type": "code",
   "execution_count": 38,
   "metadata": {},
   "outputs": [
    {
     "data": {
      "text/plain": [
       "[['mental', 'rec04WWDmwUYsOfVR', 'Podcast'],\n",
       " ['mental', 'rec1qtyxPApCENwj3', 'Arrange'],\n",
       " ['mental', 'rec2ETpho10dvgd3e', 'Troubleshoot'],\n",
       " ['mental', 'rec47FqiuoEPdjVwc', 'Chat/Text'],\n",
       " ['mental', 'rec5saWQlgv6Bemi7', 'Shop']]"
      ]
     },
     "execution_count": 38,
     "metadata": {},
     "output_type": "execute_result"
    }
   ],
   "source": [
    "table_data_array[:5]"
   ]
  },
  {
   "cell_type": "code",
   "execution_count": 39,
   "metadata": {},
   "outputs": [
    {
     "data": {
      "text/html": [
       "<div>\n",
       "<style scoped>\n",
       "    .dataframe tbody tr th:only-of-type {\n",
       "        vertical-align: middle;\n",
       "    }\n",
       "\n",
       "    .dataframe tbody tr th {\n",
       "        vertical-align: top;\n",
       "    }\n",
       "\n",
       "    .dataframe thead th {\n",
       "        text-align: right;\n",
       "    }\n",
       "</style>\n",
       "<table border=\"1\" class=\"dataframe\">\n",
       "  <thead>\n",
       "    <tr style=\"text-align: right;\">\n",
       "      <th></th>\n",
       "      <th>table</th>\n",
       "      <th>id</th>\n",
       "      <th>name</th>\n",
       "    </tr>\n",
       "  </thead>\n",
       "  <tbody>\n",
       "    <tr>\n",
       "      <th>0</th>\n",
       "      <td>mental</td>\n",
       "      <td>rec04WWDmwUYsOfVR</td>\n",
       "      <td>Podcast</td>\n",
       "    </tr>\n",
       "    <tr>\n",
       "      <th>1</th>\n",
       "      <td>mental</td>\n",
       "      <td>rec1qtyxPApCENwj3</td>\n",
       "      <td>Arrange</td>\n",
       "    </tr>\n",
       "    <tr>\n",
       "      <th>2</th>\n",
       "      <td>mental</td>\n",
       "      <td>rec2ETpho10dvgd3e</td>\n",
       "      <td>Troubleshoot</td>\n",
       "    </tr>\n",
       "    <tr>\n",
       "      <th>3</th>\n",
       "      <td>mental</td>\n",
       "      <td>rec47FqiuoEPdjVwc</td>\n",
       "      <td>Chat/Text</td>\n",
       "    </tr>\n",
       "    <tr>\n",
       "      <th>4</th>\n",
       "      <td>mental</td>\n",
       "      <td>rec5saWQlgv6Bemi7</td>\n",
       "      <td>Shop</td>\n",
       "    </tr>\n",
       "  </tbody>\n",
       "</table>\n",
       "</div>"
      ],
      "text/plain": [
       "    table                 id          name\n",
       "0  mental  rec04WWDmwUYsOfVR       Podcast\n",
       "1  mental  rec1qtyxPApCENwj3       Arrange\n",
       "2  mental  rec2ETpho10dvgd3e  Troubleshoot\n",
       "3  mental  rec47FqiuoEPdjVwc     Chat/Text\n",
       "4  mental  rec5saWQlgv6Bemi7          Shop"
      ]
     },
     "execution_count": 39,
     "metadata": {},
     "output_type": "execute_result"
    }
   ],
   "source": [
    "table_df = pd.DataFrame(table_data_array, columns=[\"table\", \"id\", \"name\"])\n",
    "table_df.head()"
   ]
  },
  {
   "cell_type": "code",
   "execution_count": 40,
   "metadata": {},
   "outputs": [
    {
     "data": {
      "text/plain": [
       "MultiIndex([('mental', 'rec04WWDmwUYsOfVR'),\n",
       "            ('mental', 'rec1qtyxPApCENwj3'),\n",
       "            ('mental', 'rec2ETpho10dvgd3e'),\n",
       "            ('mental', 'rec47FqiuoEPdjVwc'),\n",
       "            ('mental', 'rec5saWQlgv6Bemi7'),\n",
       "            ('mental', 'rec7ev4dUkzqyrkKL'),\n",
       "            ('mental', 'rec8LcP9zB3au4vpv'),\n",
       "            ('mental', 'rec8PeTbgwugFTZ7w'),\n",
       "            ('mental', 'rec9Khd7EyWYci3NM'),\n",
       "            ('mental', 'rec9loXv5Y3rEmpDO'),\n",
       "            ...\n",
       "            (   'tag', 'recwj5jPgNK1bEzPs'),\n",
       "            (   'tag', 'recwwJhncKRJvHqTL'),\n",
       "            (   'tag', 'recwxnZCInGSQhLkM'),\n",
       "            (   'tag', 'recx2SFiT8dXgSRCT'),\n",
       "            (   'tag', 'recx4wgCMw3Y1D2Ix'),\n",
       "            (   'tag', 'recxCtMwEo38Inzau'),\n",
       "            (   'tag', 'recxlVXI01cS9fUnm'),\n",
       "            (   'tag', 'recxubtvp9xRtqY0T'),\n",
       "            (   'tag', 'recxx4j9FyI99hpll'),\n",
       "            (   'tag', 'reczTUD5xHG6cDgqN')],\n",
       "           names=['table', 'id'], length=609)"
      ]
     },
     "execution_count": 40,
     "metadata": {},
     "output_type": "execute_result"
    }
   ],
   "source": [
    "multi_index = pd.MultiIndex.from_frame(table_df[[\"table\", \"id\"]])"
   ]
  },
  {
   "cell_type": "code",
   "execution_count": 43,
   "metadata": {},
   "outputs": [
    {
     "data": {
      "text/plain": [
       "0                       Podcast\n",
       "1                       Arrange\n",
       "2                  Troubleshoot\n",
       "3                     Chat/Text\n",
       "4                          Shop\n",
       "                 ...           \n",
       "604                     youtube\n",
       "605    information_architecture\n",
       "606                       clean\n",
       "607                      cardio\n",
       "608                     finance\n",
       "Name: name, Length: 609, dtype: object"
      ]
     },
     "execution_count": 43,
     "metadata": {},
     "output_type": "execute_result"
    }
   ],
   "source": [
    "table_df[\"name\"]"
   ]
  },
  {
   "cell_type": "code",
   "execution_count": 45,
   "metadata": {},
   "outputs": [],
   "source": [
    "table_s = pd.Series(table_df[\"name\"].to_list(), index=multi_index)"
   ]
  },
  {
   "cell_type": "code",
   "execution_count": 48,
   "metadata": {},
   "outputs": [
    {
     "data": {
      "text/plain": [
       "table   id               \n",
       "mental  rec04WWDmwUYsOfVR                     Podcast\n",
       "        rec1qtyxPApCENwj3                     Arrange\n",
       "        rec2ETpho10dvgd3e                Troubleshoot\n",
       "        rec47FqiuoEPdjVwc                   Chat/Text\n",
       "        rec5saWQlgv6Bemi7                        Shop\n",
       "                                       ...           \n",
       "tag     recxCtMwEo38Inzau                     youtube\n",
       "        recxlVXI01cS9fUnm    information_architecture\n",
       "        recxubtvp9xRtqY0T                       clean\n",
       "        recxx4j9FyI99hpll                      cardio\n",
       "        reczTUD5xHG6cDgqN                     finance\n",
       "Length: 609, dtype: object"
      ]
     },
     "execution_count": 48,
     "metadata": {},
     "output_type": "execute_result"
    }
   ],
   "source": [
    "table_s"
   ]
  },
  {
   "cell_type": "code",
   "execution_count": null,
   "metadata": {},
   "outputs": [],
   "source": []
  },
  {
   "cell_type": "code",
   "execution_count": null,
   "metadata": {},
   "outputs": [],
   "source": []
  },
  {
   "cell_type": "code",
   "execution_count": null,
   "metadata": {},
   "outputs": [],
   "source": []
  },
  {
   "cell_type": "code",
   "execution_count": null,
   "metadata": {},
   "outputs": [],
   "source": []
  },
  {
   "cell_type": "code",
   "execution_count": null,
   "metadata": {},
   "outputs": [],
   "source": []
  },
  {
   "cell_type": "code",
   "execution_count": null,
   "metadata": {},
   "outputs": [],
   "source": []
  },
  {
   "cell_type": "code",
   "execution_count": null,
   "metadata": {},
   "outputs": [],
   "source": []
  },
  {
   "cell_type": "code",
   "execution_count": null,
   "metadata": {},
   "outputs": [],
   "source": []
  },
  {
   "cell_type": "code",
   "execution_count": null,
   "metadata": {},
   "outputs": [],
   "source": []
  },
  {
   "cell_type": "code",
   "execution_count": null,
   "metadata": {},
   "outputs": [],
   "source": []
  }
 ],
 "metadata": {
  "kernelspec": {
   "display_name": "Python 3.7.6 64-bit ('vela': pipenv)",
   "language": "python",
   "name": "python37664bitvelapipenvde09592071074af6a70ce3b1ce38af95"
  },
  "language_info": {
   "codemirror_mode": {
    "name": "ipython",
    "version": 3
   },
   "file_extension": ".py",
   "mimetype": "text/x-python",
   "name": "python",
   "nbconvert_exporter": "python",
   "pygments_lexer": "ipython3",
   "version": "3.7.6"
  }
 },
 "nbformat": 4,
 "nbformat_minor": 4
}
