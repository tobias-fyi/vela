{
 "cells": [
  {
   "cell_type": "markdown",
   "metadata": {},
   "source": [
    "# Data Science Interview Prep\n",
    "\n",
    "Interview questions and practice problems."
   ]
  },
  {
   "cell_type": "markdown",
   "metadata": {},
   "source": [
    "---\n",
    "\n"
   ]
  },
  {
   "cell_type": "markdown",
   "metadata": {},
   "source": [
    "### Interview Questions\n",
    "\n",
    "* What is the central limit theorem and why is it important?\n",
    "* What is sampling? Explain two different sampling methods.\n",
    "* What is the difference between type I / type II errors?\n",
    "* What is linear regression?\n",
    "  * For the following terms, meaning and significance:\n",
    "    * p-value?\n",
    "    * coefficient?\n",
    "    * r-squared?\n",
    "  * What are the assumptions required for linear regression?\n",
    "* What is a statistical interaction?"
   ]
  },
  {
   "cell_type": "markdown",
   "metadata": {},
   "source": [
    "* What are 5 predictions you have for the next 20 years?\n",
    "* What is survivorship bias and why is it important?\n",
    "* What layers make up a CNN?\n",
    "* Explain how you'd design an experiment to determine user behavior.\n",
    "* How are extrapolation and interpolation different?"
   ]
  },
  {
   "cell_type": "markdown",
   "metadata": {},
   "source": []
  },
  {
   "cell_type": "markdown",
   "metadata": {},
   "source": []
  },
  {
   "cell_type": "markdown",
   "metadata": {},
   "source": []
  },
  {
   "cell_type": "markdown",
   "metadata": {},
   "source": []
  },
  {
   "cell_type": "markdown",
   "metadata": {},
   "source": []
  }
 ],
 "metadata": {
  "kernelspec": {
   "display_name": "Python 3.7.6 64-bit ('vela': pipenv)",
   "language": "python",
   "name": "python37664bitvelapipenvde09592071074af6a70ce3b1ce38af95"
  },
  "language_info": {
   "codemirror_mode": {
    "name": "ipython",
    "version": 3
   },
   "file_extension": ".py",
   "mimetype": "text/x-python",
   "name": "python",
   "nbconvert_exporter": "python",
   "pygments_lexer": "ipython3",
   "version": "3.7.6"
  }
 },
 "nbformat": 4,
 "nbformat_minor": 4
}
